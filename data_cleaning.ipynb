{
 "cells": [
  {
   "cell_type": "markdown",
   "metadata": {},
   "source": [
    "# Data Cleaning"
   ]
  },
  {
   "cell_type": "markdown",
   "metadata": {},
   "source": [
    "**To Do:**\n",
    "- [x] Drop date col\n",
    "- [x] Drop link col\n",
    "- [x] Drop dupes \n",
    "- [x] BRs: NaN --> 1\n",
    "- [x] BAs: Remove 'Ba' suffix; convert to int\n",
    "    * SplitBa --> 1\n",
    "    * SharedBa --> DROP (means it's not a housing/apt rental\n",
    "- [ ] Hoods: create groups\n",
    "- [x] Amenities: create groups\n",
    "- [x] Deal with missing data (esp. sqft) --> *use Median*?\n"
   ]
  },
  {
   "cell_type": "markdown",
   "metadata": {},
   "source": [
    "## Import Data"
   ]
  },
  {
   "cell_type": "code",
   "execution_count": 1,
   "metadata": {
    "ExecuteTime": {
     "end_time": "2020-10-03T00:16:37.656466Z",
     "start_time": "2020-10-03T00:16:36.850291Z"
    }
   },
   "outputs": [],
   "source": [
    "import pandas as pd\n",
    "import numpy as np\n",
    "\n",
    "import matplotlib as plt\n",
    "%matplotlib inline"
   ]
  },
  {
   "cell_type": "code",
   "execution_count": 2,
   "metadata": {
    "ExecuteTime": {
     "end_time": "2020-10-03T00:16:37.675882Z",
     "start_time": "2020-10-03T00:16:37.658629Z"
    }
   },
   "outputs": [],
   "source": [
    "sf_raw = pd.read_csv('raw_sf_scrape.csv')"
   ]
  },
  {
   "cell_type": "code",
   "execution_count": 3,
   "metadata": {
    "ExecuteTime": {
     "end_time": "2020-10-03T00:16:37.692638Z",
     "start_time": "2020-10-03T00:16:37.677923Z"
    }
   },
   "outputs": [
    {
     "data": {
      "text/html": [
       "<div>\n",
       "<style scoped>\n",
       "    .dataframe tbody tr th:only-of-type {\n",
       "        vertical-align: middle;\n",
       "    }\n",
       "\n",
       "    .dataframe tbody tr th {\n",
       "        vertical-align: top;\n",
       "    }\n",
       "\n",
       "    .dataframe thead th {\n",
       "        text-align: right;\n",
       "    }\n",
       "</style>\n",
       "<table border=\"1\" class=\"dataframe\">\n",
       "  <thead>\n",
       "    <tr style=\"text-align: right;\">\n",
       "      <th></th>\n",
       "      <th>date</th>\n",
       "      <th>title</th>\n",
       "      <th>link</th>\n",
       "      <th>price</th>\n",
       "      <th>brs</th>\n",
       "      <th>sqft</th>\n",
       "      <th>hood</th>\n",
       "      <th>bath</th>\n",
       "      <th>amenities</th>\n",
       "    </tr>\n",
       "  </thead>\n",
       "  <tbody>\n",
       "    <tr>\n",
       "      <th>0</th>\n",
       "      <td>Oct  1</td>\n",
       "      <td>3D Virtual Tour - 2 BR, 2 BA Condo 966 Sq. Ft....</td>\n",
       "      <td>https://sfbay.craigslist.org/sfc/apa/d/san-fra...</td>\n",
       "      <td>3850</td>\n",
       "      <td>2.0</td>\n",
       "      <td>966.0</td>\n",
       "      <td>Mission Bay</td>\n",
       "      <td>2Ba</td>\n",
       "      <td>['condo', 'w/d in unit', 'attached garage']</td>\n",
       "    </tr>\n",
       "    <tr>\n",
       "      <th>1</th>\n",
       "      <td>Oct  1</td>\n",
       "      <td>Beautiful house for rent</td>\n",
       "      <td>https://sfbay.craigslist.org/sfc/apa/d/san-fra...</td>\n",
       "      <td>900</td>\n",
       "      <td>1.0</td>\n",
       "      <td>NaN</td>\n",
       "      <td>portola district</td>\n",
       "      <td>0Ba</td>\n",
       "      <td>['house']</td>\n",
       "    </tr>\n",
       "    <tr>\n",
       "      <th>2</th>\n",
       "      <td>Oct  1</td>\n",
       "      <td>4 BEDROOM APARTMENT IN THE HAIGHT</td>\n",
       "      <td>https://sfbay.craigslist.org/sfc/apa/d/san-fra...</td>\n",
       "      <td>4995</td>\n",
       "      <td>4.0</td>\n",
       "      <td>NaN</td>\n",
       "      <td>haight ashbury</td>\n",
       "      <td>2Ba</td>\n",
       "      <td>['apartment', 'w/d in unit', 'street parking']</td>\n",
       "    </tr>\n",
       "    <tr>\n",
       "      <th>3</th>\n",
       "      <td>Oct  1</td>\n",
       "      <td>4 BEDROOM APARTMENT IN THE HAIGHT</td>\n",
       "      <td>https://sfbay.craigslist.org/sfc/apa/d/san-fra...</td>\n",
       "      <td>4995</td>\n",
       "      <td>4.0</td>\n",
       "      <td>NaN</td>\n",
       "      <td>haight ashbury</td>\n",
       "      <td>2Ba</td>\n",
       "      <td>['apartment', 'w/d in unit', 'street parking']</td>\n",
       "    </tr>\n",
       "    <tr>\n",
       "      <th>4</th>\n",
       "      <td>Oct  1</td>\n",
       "      <td>ENJOY GOLDEN GATE PARK EVERYDAY</td>\n",
       "      <td>https://sfbay.craigslist.org/sfc/apa/d/san-fra...</td>\n",
       "      <td>2800</td>\n",
       "      <td>2.0</td>\n",
       "      <td>700.0</td>\n",
       "      <td>USF / panhandle</td>\n",
       "      <td>1Ba</td>\n",
       "      <td>['apartment', 'laundry in bldg', 'no smoking',...</td>\n",
       "    </tr>\n",
       "  </tbody>\n",
       "</table>\n",
       "</div>"
      ],
      "text/plain": [
       "     date                                              title  \\\n",
       "0  Oct  1  3D Virtual Tour - 2 BR, 2 BA Condo 966 Sq. Ft....   \n",
       "1  Oct  1                           Beautiful house for rent   \n",
       "2  Oct  1                  4 BEDROOM APARTMENT IN THE HAIGHT   \n",
       "3  Oct  1                  4 BEDROOM APARTMENT IN THE HAIGHT   \n",
       "4  Oct  1                    ENJOY GOLDEN GATE PARK EVERYDAY   \n",
       "\n",
       "                                                link  price  brs   sqft  \\\n",
       "0  https://sfbay.craigslist.org/sfc/apa/d/san-fra...   3850  2.0  966.0   \n",
       "1  https://sfbay.craigslist.org/sfc/apa/d/san-fra...    900  1.0    NaN   \n",
       "2  https://sfbay.craigslist.org/sfc/apa/d/san-fra...   4995  4.0    NaN   \n",
       "3  https://sfbay.craigslist.org/sfc/apa/d/san-fra...   4995  4.0    NaN   \n",
       "4  https://sfbay.craigslist.org/sfc/apa/d/san-fra...   2800  2.0  700.0   \n",
       "\n",
       "               hood bath                                          amenities  \n",
       "0       Mission Bay  2Ba        ['condo', 'w/d in unit', 'attached garage']  \n",
       "1  portola district  0Ba                                          ['house']  \n",
       "2    haight ashbury  2Ba     ['apartment', 'w/d in unit', 'street parking']  \n",
       "3    haight ashbury  2Ba     ['apartment', 'w/d in unit', 'street parking']  \n",
       "4   USF / panhandle  1Ba  ['apartment', 'laundry in bldg', 'no smoking',...  "
      ]
     },
     "execution_count": 3,
     "metadata": {},
     "output_type": "execute_result"
    }
   ],
   "source": [
    "sf_raw.head()"
   ]
  },
  {
   "cell_type": "code",
   "execution_count": 4,
   "metadata": {
    "ExecuteTime": {
     "end_time": "2020-10-03T00:16:37.705488Z",
     "start_time": "2020-10-03T00:16:37.694358Z"
    }
   },
   "outputs": [
    {
     "data": {
      "text/html": [
       "<div>\n",
       "<style scoped>\n",
       "    .dataframe tbody tr th:only-of-type {\n",
       "        vertical-align: middle;\n",
       "    }\n",
       "\n",
       "    .dataframe tbody tr th {\n",
       "        vertical-align: top;\n",
       "    }\n",
       "\n",
       "    .dataframe thead th {\n",
       "        text-align: right;\n",
       "    }\n",
       "</style>\n",
       "<table border=\"1\" class=\"dataframe\">\n",
       "  <thead>\n",
       "    <tr style=\"text-align: right;\">\n",
       "      <th></th>\n",
       "      <th>date</th>\n",
       "      <th>title</th>\n",
       "      <th>link</th>\n",
       "      <th>price</th>\n",
       "      <th>brs</th>\n",
       "      <th>sqft</th>\n",
       "      <th>hood</th>\n",
       "      <th>bath</th>\n",
       "      <th>amenities</th>\n",
       "    </tr>\n",
       "  </thead>\n",
       "  <tbody>\n",
       "    <tr>\n",
       "      <th>3088</th>\n",
       "      <td>Sep 30</td>\n",
       "      <td>1 Month Free Rent: Massive Modern Luxury Studio</td>\n",
       "      <td>https://sfbay.craigslist.org/sfc/apa/d/san-fra...</td>\n",
       "      <td>1948</td>\n",
       "      <td>NaN</td>\n",
       "      <td>500.0</td>\n",
       "      <td>SOMA / south beach</td>\n",
       "      <td>1Ba</td>\n",
       "      <td>['application fee details: $30 application fee...</td>\n",
       "    </tr>\n",
       "    <tr>\n",
       "      <th>3089</th>\n",
       "      <td>Sep 30</td>\n",
       "      <td>1 Month Free Rent: Massive Modern Luxury Studio</td>\n",
       "      <td>https://sfbay.craigslist.org/sfc/apa/d/san-fra...</td>\n",
       "      <td>1948</td>\n",
       "      <td>NaN</td>\n",
       "      <td>500.0</td>\n",
       "      <td>downtown / civic / van ness</td>\n",
       "      <td>1Ba</td>\n",
       "      <td>['application fee details: $30 application fee...</td>\n",
       "    </tr>\n",
       "    <tr>\n",
       "      <th>3090</th>\n",
       "      <td>Sep 30</td>\n",
       "      <td>Large, Beautiful Classic Victorian 1bd/1ba</td>\n",
       "      <td>https://sfbay.craigslist.org/sfc/apa/d/san-fra...</td>\n",
       "      <td>3395</td>\n",
       "      <td>1.0</td>\n",
       "      <td>800.0</td>\n",
       "      <td>laurel hts / presidio</td>\n",
       "      <td>1Ba</td>\n",
       "      <td>['apartment', 'laundry in bldg']</td>\n",
       "    </tr>\n",
       "    <tr>\n",
       "      <th>3091</th>\n",
       "      <td>Sep 30</td>\n",
       "      <td>3 bedroom in Nopa with Private Deck (Top Floor)</td>\n",
       "      <td>https://sfbay.craigslist.org/sfc/apa/d/san-fra...</td>\n",
       "      <td>4995</td>\n",
       "      <td>3.0</td>\n",
       "      <td>1500.0</td>\n",
       "      <td>alamo square / nopa</td>\n",
       "      <td>2Ba</td>\n",
       "      <td>['cats are OK - purrr', 'dogs are OK - wooof',...</td>\n",
       "    </tr>\n",
       "    <tr>\n",
       "      <th>3092</th>\n",
       "      <td>Sep 30</td>\n",
       "      <td>Private 1 bed/1 bath/1 kitchen in-law unit ava...</td>\n",
       "      <td>https://sfbay.craigslist.org/sfc/apa/d/san-fra...</td>\n",
       "      <td>1795</td>\n",
       "      <td>1.0</td>\n",
       "      <td>300.0</td>\n",
       "      <td>ingleside / SFSU / CCSF</td>\n",
       "      <td>1Ba</td>\n",
       "      <td>['cats are OK - purrr', 'dogs are OK - wooof',...</td>\n",
       "    </tr>\n",
       "  </tbody>\n",
       "</table>\n",
       "</div>"
      ],
      "text/plain": [
       "        date                                              title  \\\n",
       "3088  Sep 30    1 Month Free Rent: Massive Modern Luxury Studio   \n",
       "3089  Sep 30    1 Month Free Rent: Massive Modern Luxury Studio   \n",
       "3090  Sep 30         Large, Beautiful Classic Victorian 1bd/1ba   \n",
       "3091  Sep 30    3 bedroom in Nopa with Private Deck (Top Floor)   \n",
       "3092  Sep 30  Private 1 bed/1 bath/1 kitchen in-law unit ava...   \n",
       "\n",
       "                                                   link  price  brs    sqft  \\\n",
       "3088  https://sfbay.craigslist.org/sfc/apa/d/san-fra...   1948  NaN   500.0   \n",
       "3089  https://sfbay.craigslist.org/sfc/apa/d/san-fra...   1948  NaN   500.0   \n",
       "3090  https://sfbay.craigslist.org/sfc/apa/d/san-fra...   3395  1.0   800.0   \n",
       "3091  https://sfbay.craigslist.org/sfc/apa/d/san-fra...   4995  3.0  1500.0   \n",
       "3092  https://sfbay.craigslist.org/sfc/apa/d/san-fra...   1795  1.0   300.0   \n",
       "\n",
       "                             hood bath  \\\n",
       "3088           SOMA / south beach  1Ba   \n",
       "3089  downtown / civic / van ness  1Ba   \n",
       "3090        laurel hts / presidio  1Ba   \n",
       "3091          alamo square / nopa  2Ba   \n",
       "3092      ingleside / SFSU / CCSF  1Ba   \n",
       "\n",
       "                                              amenities  \n",
       "3088  ['application fee details: $30 application fee...  \n",
       "3089  ['application fee details: $30 application fee...  \n",
       "3090                   ['apartment', 'laundry in bldg']  \n",
       "3091  ['cats are OK - purrr', 'dogs are OK - wooof',...  \n",
       "3092  ['cats are OK - purrr', 'dogs are OK - wooof',...  "
      ]
     },
     "execution_count": 4,
     "metadata": {},
     "output_type": "execute_result"
    }
   ],
   "source": [
    "sf_raw.tail()"
   ]
  },
  {
   "cell_type": "code",
   "execution_count": 5,
   "metadata": {
    "ExecuteTime": {
     "end_time": "2020-10-03T00:16:37.710225Z",
     "start_time": "2020-10-03T00:16:37.706988Z"
    }
   },
   "outputs": [
    {
     "data": {
      "text/plain": [
       "3093"
      ]
     },
     "execution_count": 5,
     "metadata": {},
     "output_type": "execute_result"
    }
   ],
   "source": [
    "len(sf_raw)"
   ]
  },
  {
   "cell_type": "markdown",
   "metadata": {},
   "source": [
    "## Dealing with duplicate listings"
   ]
  },
  {
   "cell_type": "code",
   "execution_count": 6,
   "metadata": {
    "ExecuteTime": {
     "end_time": "2020-10-03T00:16:37.716586Z",
     "start_time": "2020-10-03T00:16:37.713189Z"
    }
   },
   "outputs": [],
   "source": [
    "sf = sf_raw.drop(['date', 'link'], axis=1)"
   ]
  },
  {
   "cell_type": "code",
   "execution_count": 7,
   "metadata": {
    "ExecuteTime": {
     "end_time": "2020-10-03T00:16:37.728126Z",
     "start_time": "2020-10-03T00:16:37.718996Z"
    },
    "scrolled": true
   },
   "outputs": [
    {
     "data": {
      "text/html": [
       "<div>\n",
       "<style scoped>\n",
       "    .dataframe tbody tr th:only-of-type {\n",
       "        vertical-align: middle;\n",
       "    }\n",
       "\n",
       "    .dataframe tbody tr th {\n",
       "        vertical-align: top;\n",
       "    }\n",
       "\n",
       "    .dataframe thead th {\n",
       "        text-align: right;\n",
       "    }\n",
       "</style>\n",
       "<table border=\"1\" class=\"dataframe\">\n",
       "  <thead>\n",
       "    <tr style=\"text-align: right;\">\n",
       "      <th></th>\n",
       "      <th>title</th>\n",
       "      <th>price</th>\n",
       "      <th>brs</th>\n",
       "      <th>sqft</th>\n",
       "      <th>hood</th>\n",
       "      <th>bath</th>\n",
       "      <th>amenities</th>\n",
       "    </tr>\n",
       "  </thead>\n",
       "  <tbody>\n",
       "    <tr>\n",
       "      <th>0</th>\n",
       "      <td>3D Virtual Tour - 2 BR, 2 BA Condo 966 Sq. Ft....</td>\n",
       "      <td>3850</td>\n",
       "      <td>2.0</td>\n",
       "      <td>966.0</td>\n",
       "      <td>Mission Bay</td>\n",
       "      <td>2Ba</td>\n",
       "      <td>['condo', 'w/d in unit', 'attached garage']</td>\n",
       "    </tr>\n",
       "    <tr>\n",
       "      <th>1</th>\n",
       "      <td>Beautiful house for rent</td>\n",
       "      <td>900</td>\n",
       "      <td>1.0</td>\n",
       "      <td>NaN</td>\n",
       "      <td>portola district</td>\n",
       "      <td>0Ba</td>\n",
       "      <td>['house']</td>\n",
       "    </tr>\n",
       "    <tr>\n",
       "      <th>2</th>\n",
       "      <td>4 BEDROOM APARTMENT IN THE HAIGHT</td>\n",
       "      <td>4995</td>\n",
       "      <td>4.0</td>\n",
       "      <td>NaN</td>\n",
       "      <td>haight ashbury</td>\n",
       "      <td>2Ba</td>\n",
       "      <td>['apartment', 'w/d in unit', 'street parking']</td>\n",
       "    </tr>\n",
       "    <tr>\n",
       "      <th>3</th>\n",
       "      <td>4 BEDROOM APARTMENT IN THE HAIGHT</td>\n",
       "      <td>4995</td>\n",
       "      <td>4.0</td>\n",
       "      <td>NaN</td>\n",
       "      <td>haight ashbury</td>\n",
       "      <td>2Ba</td>\n",
       "      <td>['apartment', 'w/d in unit', 'street parking']</td>\n",
       "    </tr>\n",
       "    <tr>\n",
       "      <th>4</th>\n",
       "      <td>ENJOY GOLDEN GATE PARK EVERYDAY</td>\n",
       "      <td>2800</td>\n",
       "      <td>2.0</td>\n",
       "      <td>700.0</td>\n",
       "      <td>USF / panhandle</td>\n",
       "      <td>1Ba</td>\n",
       "      <td>['apartment', 'laundry in bldg', 'no smoking',...</td>\n",
       "    </tr>\n",
       "  </tbody>\n",
       "</table>\n",
       "</div>"
      ],
      "text/plain": [
       "                                               title  price  brs   sqft  \\\n",
       "0  3D Virtual Tour - 2 BR, 2 BA Condo 966 Sq. Ft....   3850  2.0  966.0   \n",
       "1                           Beautiful house for rent    900  1.0    NaN   \n",
       "2                  4 BEDROOM APARTMENT IN THE HAIGHT   4995  4.0    NaN   \n",
       "3                  4 BEDROOM APARTMENT IN THE HAIGHT   4995  4.0    NaN   \n",
       "4                    ENJOY GOLDEN GATE PARK EVERYDAY   2800  2.0  700.0   \n",
       "\n",
       "               hood bath                                          amenities  \n",
       "0       Mission Bay  2Ba        ['condo', 'w/d in unit', 'attached garage']  \n",
       "1  portola district  0Ba                                          ['house']  \n",
       "2    haight ashbury  2Ba     ['apartment', 'w/d in unit', 'street parking']  \n",
       "3    haight ashbury  2Ba     ['apartment', 'w/d in unit', 'street parking']  \n",
       "4   USF / panhandle  1Ba  ['apartment', 'laundry in bldg', 'no smoking',...  "
      ]
     },
     "execution_count": 7,
     "metadata": {},
     "output_type": "execute_result"
    }
   ],
   "source": [
    "sf.head()"
   ]
  },
  {
   "cell_type": "code",
   "execution_count": 8,
   "metadata": {
    "ExecuteTime": {
     "end_time": "2020-10-03T00:16:37.734794Z",
     "start_time": "2020-10-03T00:16:37.729506Z"
    }
   },
   "outputs": [],
   "source": [
    "sf.sort_values('title', inplace=True)"
   ]
  },
  {
   "cell_type": "code",
   "execution_count": 9,
   "metadata": {
    "ExecuteTime": {
     "end_time": "2020-10-03T00:16:37.745507Z",
     "start_time": "2020-10-03T00:16:37.736294Z"
    },
    "scrolled": true
   },
   "outputs": [
    {
     "data": {
      "text/html": [
       "<div>\n",
       "<style scoped>\n",
       "    .dataframe tbody tr th:only-of-type {\n",
       "        vertical-align: middle;\n",
       "    }\n",
       "\n",
       "    .dataframe tbody tr th {\n",
       "        vertical-align: top;\n",
       "    }\n",
       "\n",
       "    .dataframe thead th {\n",
       "        text-align: right;\n",
       "    }\n",
       "</style>\n",
       "<table border=\"1\" class=\"dataframe\">\n",
       "  <thead>\n",
       "    <tr style=\"text-align: right;\">\n",
       "      <th></th>\n",
       "      <th>title</th>\n",
       "      <th>price</th>\n",
       "      <th>brs</th>\n",
       "      <th>sqft</th>\n",
       "      <th>hood</th>\n",
       "      <th>bath</th>\n",
       "      <th>amenities</th>\n",
       "    </tr>\n",
       "  </thead>\n",
       "  <tbody>\n",
       "    <tr>\n",
       "      <th>2240</th>\n",
       "      <td>\"INCENTIVE\" 2 BR + Bonus Room(Office/Den) - DU...</td>\n",
       "      <td>3400</td>\n",
       "      <td>2.0</td>\n",
       "      <td>NaN</td>\n",
       "      <td>castro / upper market</td>\n",
       "      <td>1Ba</td>\n",
       "      <td>['application fee details: $30 Per Applicant',...</td>\n",
       "    </tr>\n",
       "    <tr>\n",
       "      <th>2243</th>\n",
       "      <td>\"INCENTIVE\" 2 BR + Bonus Room(Office/Den) - DU...</td>\n",
       "      <td>3400</td>\n",
       "      <td>2.0</td>\n",
       "      <td>NaN</td>\n",
       "      <td>castro / upper market</td>\n",
       "      <td>1Ba</td>\n",
       "      <td>['application fee details: $30 Per Applicant',...</td>\n",
       "    </tr>\n",
       "    <tr>\n",
       "      <th>2245</th>\n",
       "      <td>\"INCENTIVE\" IN THE HEART OF THE DUBOCE TRIANGLE</td>\n",
       "      <td>3700</td>\n",
       "      <td>3.0</td>\n",
       "      <td>NaN</td>\n",
       "      <td>castro / upper market</td>\n",
       "      <td>1Ba</td>\n",
       "      <td>['application fee details: $30 Per Applicant',...</td>\n",
       "    </tr>\n",
       "  </tbody>\n",
       "</table>\n",
       "</div>"
      ],
      "text/plain": [
       "                                                  title  price  brs  sqft  \\\n",
       "2240  \"INCENTIVE\" 2 BR + Bonus Room(Office/Den) - DU...   3400  2.0   NaN   \n",
       "2243  \"INCENTIVE\" 2 BR + Bonus Room(Office/Den) - DU...   3400  2.0   NaN   \n",
       "2245    \"INCENTIVE\" IN THE HEART OF THE DUBOCE TRIANGLE   3700  3.0   NaN   \n",
       "\n",
       "                       hood bath  \\\n",
       "2240  castro / upper market  1Ba   \n",
       "2243  castro / upper market  1Ba   \n",
       "2245  castro / upper market  1Ba   \n",
       "\n",
       "                                              amenities  \n",
       "2240  ['application fee details: $30 Per Applicant',...  \n",
       "2243  ['application fee details: $30 Per Applicant',...  \n",
       "2245  ['application fee details: $30 Per Applicant',...  "
      ]
     },
     "execution_count": 9,
     "metadata": {},
     "output_type": "execute_result"
    }
   ],
   "source": [
    "sf.head(3)"
   ]
  },
  {
   "cell_type": "code",
   "execution_count": 10,
   "metadata": {
    "ExecuteTime": {
     "end_time": "2020-10-03T00:16:37.755061Z",
     "start_time": "2020-10-03T00:16:37.747761Z"
    }
   },
   "outputs": [],
   "source": [
    "sf.drop_duplicates(keep=False, inplace=True)"
   ]
  },
  {
   "cell_type": "code",
   "execution_count": 11,
   "metadata": {
    "ExecuteTime": {
     "end_time": "2020-10-03T00:16:37.766935Z",
     "start_time": "2020-10-03T00:16:37.756608Z"
    }
   },
   "outputs": [
    {
     "data": {
      "text/html": [
       "<div>\n",
       "<style scoped>\n",
       "    .dataframe tbody tr th:only-of-type {\n",
       "        vertical-align: middle;\n",
       "    }\n",
       "\n",
       "    .dataframe tbody tr th {\n",
       "        vertical-align: top;\n",
       "    }\n",
       "\n",
       "    .dataframe thead th {\n",
       "        text-align: right;\n",
       "    }\n",
       "</style>\n",
       "<table border=\"1\" class=\"dataframe\">\n",
       "  <thead>\n",
       "    <tr style=\"text-align: right;\">\n",
       "      <th></th>\n",
       "      <th>title</th>\n",
       "      <th>price</th>\n",
       "      <th>brs</th>\n",
       "      <th>sqft</th>\n",
       "      <th>hood</th>\n",
       "      <th>bath</th>\n",
       "      <th>amenities</th>\n",
       "    </tr>\n",
       "  </thead>\n",
       "  <tbody>\n",
       "    <tr>\n",
       "      <th>2245</th>\n",
       "      <td>\"INCENTIVE\" IN THE HEART OF THE DUBOCE TRIANGLE</td>\n",
       "      <td>3700</td>\n",
       "      <td>3.0</td>\n",
       "      <td>NaN</td>\n",
       "      <td>castro / upper market</td>\n",
       "      <td>1Ba</td>\n",
       "      <td>['application fee details: $30 Per Applicant',...</td>\n",
       "    </tr>\n",
       "    <tr>\n",
       "      <th>1980</th>\n",
       "      <td>#107 Furnished Only Heaven by Views, Luxury, S...</td>\n",
       "      <td>6800</td>\n",
       "      <td>2.0</td>\n",
       "      <td>1600.0</td>\n",
       "      <td>pacific heights</td>\n",
       "      <td>2Ba</td>\n",
       "      <td>['furnished', 'apartment', 'w/d in unit', 'no ...</td>\n",
       "    </tr>\n",
       "    <tr>\n",
       "      <th>2018</th>\n",
       "      <td>#120 Furnished ONLY Gorgeous, Cozy Junior-One-...</td>\n",
       "      <td>3500</td>\n",
       "      <td>1.0</td>\n",
       "      <td>550.0</td>\n",
       "      <td>pacific heights</td>\n",
       "      <td>1Ba</td>\n",
       "      <td>['cats are OK - purrr', 'dogs are OK - wooof',...</td>\n",
       "    </tr>\n",
       "    <tr>\n",
       "      <th>2095</th>\n",
       "      <td>#125 FURNISHED ONLY Beautiful 2BR in Marina</td>\n",
       "      <td>5100</td>\n",
       "      <td>2.0</td>\n",
       "      <td>1300.0</td>\n",
       "      <td>marina / cow hollow</td>\n",
       "      <td>1Ba</td>\n",
       "      <td>['EV charging', 'cats are OK - purrr', 'dogs a...</td>\n",
       "    </tr>\n",
       "    <tr>\n",
       "      <th>2015</th>\n",
       "      <td>#132 Furnished ONLY Beautiful Mansion in Heart...</td>\n",
       "      <td>9000</td>\n",
       "      <td>3.0</td>\n",
       "      <td>3500.0</td>\n",
       "      <td>pacific heights</td>\n",
       "      <td>2.5Ba</td>\n",
       "      <td>['furnished', 'apartment', 'w/d in unit', 'no ...</td>\n",
       "    </tr>\n",
       "  </tbody>\n",
       "</table>\n",
       "</div>"
      ],
      "text/plain": [
       "                                                  title  price  brs    sqft  \\\n",
       "2245    \"INCENTIVE\" IN THE HEART OF THE DUBOCE TRIANGLE   3700  3.0     NaN   \n",
       "1980  #107 Furnished Only Heaven by Views, Luxury, S...   6800  2.0  1600.0   \n",
       "2018  #120 Furnished ONLY Gorgeous, Cozy Junior-One-...   3500  1.0   550.0   \n",
       "2095        #125 FURNISHED ONLY Beautiful 2BR in Marina   5100  2.0  1300.0   \n",
       "2015  #132 Furnished ONLY Beautiful Mansion in Heart...   9000  3.0  3500.0   \n",
       "\n",
       "                       hood   bath  \\\n",
       "2245  castro / upper market    1Ba   \n",
       "1980        pacific heights    2Ba   \n",
       "2018        pacific heights    1Ba   \n",
       "2095    marina / cow hollow    1Ba   \n",
       "2015        pacific heights  2.5Ba   \n",
       "\n",
       "                                              amenities  \n",
       "2245  ['application fee details: $30 Per Applicant',...  \n",
       "1980  ['furnished', 'apartment', 'w/d in unit', 'no ...  \n",
       "2018  ['cats are OK - purrr', 'dogs are OK - wooof',...  \n",
       "2095  ['EV charging', 'cats are OK - purrr', 'dogs a...  \n",
       "2015  ['furnished', 'apartment', 'w/d in unit', 'no ...  "
      ]
     },
     "execution_count": 11,
     "metadata": {},
     "output_type": "execute_result"
    }
   ],
   "source": [
    "sf.head()"
   ]
  },
  {
   "cell_type": "code",
   "execution_count": 12,
   "metadata": {
    "ExecuteTime": {
     "end_time": "2020-10-03T00:16:37.771392Z",
     "start_time": "2020-10-03T00:16:37.768685Z"
    }
   },
   "outputs": [
    {
     "data": {
      "text/plain": [
       "2461"
      ]
     },
     "execution_count": 12,
     "metadata": {},
     "output_type": "execute_result"
    }
   ],
   "source": [
    "len(sf)"
   ]
  },
  {
   "cell_type": "markdown",
   "metadata": {},
   "source": [
    "## Price: data type conversion to integer"
   ]
  },
  {
   "cell_type": "code",
   "execution_count": 13,
   "metadata": {
    "ExecuteTime": {
     "end_time": "2020-10-03T00:16:37.775419Z",
     "start_time": "2020-10-03T00:16:37.772748Z"
    }
   },
   "outputs": [],
   "source": [
    "sf.price = sf.price.astype(int)"
   ]
  },
  {
   "cell_type": "code",
   "execution_count": 14,
   "metadata": {
    "ExecuteTime": {
     "end_time": "2020-10-03T00:16:37.781396Z",
     "start_time": "2020-10-03T00:16:37.777012Z"
    }
   },
   "outputs": [
    {
     "data": {
      "text/plain": [
       "title         object\n",
       "price          int64\n",
       "brs          float64\n",
       "sqft         float64\n",
       "hood          object\n",
       "bath          object\n",
       "amenities     object\n",
       "dtype: object"
      ]
     },
     "execution_count": 14,
     "metadata": {},
     "output_type": "execute_result"
    }
   ],
   "source": [
    "sf.dtypes"
   ]
  },
  {
   "cell_type": "markdown",
   "metadata": {},
   "source": [
    "## Cleaning Bathrooms"
   ]
  },
  {
   "cell_type": "code",
   "execution_count": 15,
   "metadata": {
    "ExecuteTime": {
     "end_time": "2020-10-03T00:16:37.786241Z",
     "start_time": "2020-10-03T00:16:37.783016Z"
    },
    "scrolled": true
   },
   "outputs": [
    {
     "data": {
      "text/plain": [
       "array(['1Ba', '2Ba', '2.5Ba', nan, '3.5Ba', 'sharedBa', '0Ba', '3Ba',\n",
       "       '1.5Ba', 'splitBa', '4Ba', '5.5Ba', '4.5Ba'], dtype=object)"
      ]
     },
     "execution_count": 15,
     "metadata": {},
     "output_type": "execute_result"
    }
   ],
   "source": [
    "sf.bath.unique()"
   ]
  },
  {
   "cell_type": "code",
   "execution_count": 16,
   "metadata": {
    "ExecuteTime": {
     "end_time": "2020-10-03T00:16:37.791053Z",
     "start_time": "2020-10-03T00:16:37.787884Z"
    }
   },
   "outputs": [],
   "source": [
    "shared_baths = sf_raw[(sf_raw.bath == 'sharedBa')]\n",
    "\n",
    "shared_baths_links = list(shared_baths.link)"
   ]
  },
  {
   "cell_type": "code",
   "execution_count": 17,
   "metadata": {
    "ExecuteTime": {
     "end_time": "2020-10-03T00:16:37.795388Z",
     "start_time": "2020-10-03T00:16:37.792586Z"
    }
   },
   "outputs": [
    {
     "data": {
      "text/plain": [
       "15"
      ]
     },
     "execution_count": 17,
     "metadata": {},
     "output_type": "execute_result"
    }
   ],
   "source": [
    "# number of listings with shared bath\n",
    "len(shared_baths)"
   ]
  },
  {
   "cell_type": "code",
   "execution_count": 18,
   "metadata": {
    "ExecuteTime": {
     "end_time": "2020-10-03T00:16:37.803547Z",
     "start_time": "2020-10-03T00:16:37.800622Z"
    }
   },
   "outputs": [
    {
     "name": "stdout",
     "output_type": "stream",
     "text": [
      "https://sfbay.craigslist.org/sfc/apa/d/san-francisco-spoons-when-all-you-need/7206516011.html\n",
      "\n",
      "https://sfbay.craigslist.org/sfc/apa/d/excelente-oportunidad-centrico-sf/7206512351.html\n",
      "\n",
      "https://sfbay.craigslist.org/sfc/apa/d/san-francisco-fabulous-mission-studio/7200480477.html\n",
      "\n",
      "https://sfbay.craigslist.org/sfc/apa/d/1400-private-rm-not-share-for-rent/7205302134.html\n",
      "\n",
      "https://sfbay.craigslist.org/sfc/apa/d/best-room-rate-in-north-beach/7203890620.html\n",
      "\n"
     ]
    }
   ],
   "source": [
    "# Investigating a few links\n",
    "for link in shared_baths_links[:5]:\n",
    "    print(link)\n",
    "    print(\"\")"
   ]
  },
  {
   "cell_type": "markdown",
   "metadata": {},
   "source": [
    "Upon inspection, listings with `sharedBa` are not full apartment/housing options -- they are a shared living arrangement and should be dropped."
   ]
  },
  {
   "cell_type": "code",
   "execution_count": 19,
   "metadata": {
    "ExecuteTime": {
     "end_time": "2020-10-03T00:16:37.810388Z",
     "start_time": "2020-10-03T00:16:37.807274Z"
    }
   },
   "outputs": [],
   "source": [
    "sf = sf[sf.bath != 'sharedBa']"
   ]
  },
  {
   "cell_type": "code",
   "execution_count": 20,
   "metadata": {
    "ExecuteTime": {
     "end_time": "2020-10-03T00:16:37.815698Z",
     "start_time": "2020-10-03T00:16:37.812145Z"
    }
   },
   "outputs": [
    {
     "data": {
      "text/plain": [
       "array(['1Ba', '2Ba', '2.5Ba', nan, '3.5Ba', '0Ba', '3Ba', '1.5Ba',\n",
       "       'splitBa', '4Ba', '5.5Ba', '4.5Ba'], dtype=object)"
      ]
     },
     "execution_count": 20,
     "metadata": {},
     "output_type": "execute_result"
    }
   ],
   "source": [
    "sf.bath.unique()"
   ]
  },
  {
   "cell_type": "markdown",
   "metadata": {},
   "source": [
    "`splitBa` means it has a private bathroom, but sink and toilet/shower are just separate -- these will be converted to 1."
   ]
  },
  {
   "cell_type": "code",
   "execution_count": 21,
   "metadata": {
    "ExecuteTime": {
     "end_time": "2020-10-03T00:16:37.820230Z",
     "start_time": "2020-10-03T00:16:37.817491Z"
    }
   },
   "outputs": [],
   "source": [
    "sf['bath'] = sf['bath'].replace('splitBa', '1Ba')"
   ]
  },
  {
   "cell_type": "code",
   "execution_count": 22,
   "metadata": {
    "ExecuteTime": {
     "end_time": "2020-10-03T00:16:37.826586Z",
     "start_time": "2020-10-03T00:16:37.822330Z"
    },
    "scrolled": true
   },
   "outputs": [
    {
     "data": {
      "text/plain": [
       "array(['1Ba', '2Ba', '2.5Ba', nan, '3.5Ba', '0Ba', '3Ba', '1.5Ba', '4Ba',\n",
       "       '5.5Ba', '4.5Ba'], dtype=object)"
      ]
     },
     "execution_count": 22,
     "metadata": {},
     "output_type": "execute_result"
    }
   ],
   "source": [
    "sf.bath.unique()"
   ]
  },
  {
   "cell_type": "markdown",
   "metadata": {},
   "source": [
    "What about `nan` and `0Ba`? "
   ]
  },
  {
   "cell_type": "code",
   "execution_count": 23,
   "metadata": {
    "ExecuteTime": {
     "end_time": "2020-10-03T00:16:37.833624Z",
     "start_time": "2020-10-03T00:16:37.828593Z"
    }
   },
   "outputs": [
    {
     "data": {
      "text/plain": [
       "9"
      ]
     },
     "execution_count": 23,
     "metadata": {},
     "output_type": "execute_result"
    }
   ],
   "source": [
    "missing_bath_info = sf_raw[(sf_raw.bath == np.nan) | \n",
    "                          (sf_raw.bath == '0Ba')]\n",
    "\n",
    "len(missing_bath_info)"
   ]
  },
  {
   "cell_type": "code",
   "execution_count": 24,
   "metadata": {
    "ExecuteTime": {
     "end_time": "2020-10-03T00:16:37.839295Z",
     "start_time": "2020-10-03T00:16:37.835565Z"
    }
   },
   "outputs": [
    {
     "name": "stdout",
     "output_type": "stream",
     "text": [
      "https://sfbay.craigslist.org/sfc/apa/d/san-francisco-beautiful-house-for-rent/7206621152.html\n",
      "\n",
      "https://sfbay.craigslist.org/sfc/apa/d/san-francisco-sunny-victorian-flat/7206563979.html\n",
      "\n",
      "https://sfbay.craigslist.org/sfc/apa/d/san-francisco-two-bedroom-1200-sq-ft/7206561289.html\n",
      "\n",
      "https://sfbay.craigslist.org/sfc/apa/d/san-francisco-airy-bright-marina-1br/7206542254.html\n",
      "\n",
      "https://sfbay.craigslist.org/sfc/apa/d/san-francisco-7th-floor-corner-jr-1-bd/7191572212.html\n",
      "\n",
      "https://sfbay.craigslist.org/sfc/apa/d/san-francisco-2847-turk-street-san/7201729219.html\n",
      "\n",
      "https://sfbay.craigslist.org/sfc/apa/d/san-francisco-live-work-space-in-modern/7197876630.html\n",
      "\n",
      "https://sfbay.craigslist.org/sfc/apa/d/huge-1-bed-hardwood-gas-eat-in-kit/7206260644.html\n",
      "\n",
      "https://sfbay.craigslist.org/sfc/apa/d/san-francisco-bed-1bathh-wd-free/7206132572.html\n",
      "\n"
     ]
    }
   ],
   "source": [
    "for link in missing_bath_info.link:\n",
    "    print(link)\n",
    "    print('')"
   ]
  },
  {
   "cell_type": "markdown",
   "metadata": {},
   "source": [
    "These all have 1 bathroom - so these values will be converted to `1`"
   ]
  },
  {
   "cell_type": "code",
   "execution_count": 25,
   "metadata": {
    "ExecuteTime": {
     "end_time": "2020-10-03T00:16:37.844751Z",
     "start_time": "2020-10-03T00:16:37.841028Z"
    }
   },
   "outputs": [],
   "source": [
    "sf['bath'] = sf['bath'].replace(np.nan, '1Ba')\n",
    "sf['bath'] = sf['bath'].replace('0Ba', '1Ba')"
   ]
  },
  {
   "cell_type": "code",
   "execution_count": 26,
   "metadata": {
    "ExecuteTime": {
     "end_time": "2020-10-03T00:16:37.850624Z",
     "start_time": "2020-10-03T00:16:37.846472Z"
    },
    "scrolled": true
   },
   "outputs": [
    {
     "data": {
      "text/plain": [
       "array(['1Ba', '2Ba', '2.5Ba', '3.5Ba', '3Ba', '1.5Ba', '4Ba', '5.5Ba',\n",
       "       '4.5Ba'], dtype=object)"
      ]
     },
     "execution_count": 26,
     "metadata": {},
     "output_type": "execute_result"
    }
   ],
   "source": [
    "sf.bath.unique()"
   ]
  },
  {
   "cell_type": "markdown",
   "metadata": {},
   "source": [
    "Now to take care of the 'Ba' suffix and convert everything to a float"
   ]
  },
  {
   "cell_type": "code",
   "execution_count": 27,
   "metadata": {
    "ExecuteTime": {
     "end_time": "2020-10-03T00:16:37.857370Z",
     "start_time": "2020-10-03T00:16:37.852296Z"
    }
   },
   "outputs": [],
   "source": [
    "sf['bath'] = sf['bath'].str.replace('Ba', '').astype(float)"
   ]
  },
  {
   "cell_type": "code",
   "execution_count": 28,
   "metadata": {
    "ExecuteTime": {
     "end_time": "2020-10-03T00:16:37.868658Z",
     "start_time": "2020-10-03T00:16:37.858915Z"
    }
   },
   "outputs": [
    {
     "data": {
      "text/html": [
       "<div>\n",
       "<style scoped>\n",
       "    .dataframe tbody tr th:only-of-type {\n",
       "        vertical-align: middle;\n",
       "    }\n",
       "\n",
       "    .dataframe tbody tr th {\n",
       "        vertical-align: top;\n",
       "    }\n",
       "\n",
       "    .dataframe thead th {\n",
       "        text-align: right;\n",
       "    }\n",
       "</style>\n",
       "<table border=\"1\" class=\"dataframe\">\n",
       "  <thead>\n",
       "    <tr style=\"text-align: right;\">\n",
       "      <th></th>\n",
       "      <th>title</th>\n",
       "      <th>price</th>\n",
       "      <th>brs</th>\n",
       "      <th>sqft</th>\n",
       "      <th>hood</th>\n",
       "      <th>bath</th>\n",
       "      <th>amenities</th>\n",
       "    </tr>\n",
       "  </thead>\n",
       "  <tbody>\n",
       "    <tr>\n",
       "      <th>2245</th>\n",
       "      <td>\"INCENTIVE\" IN THE HEART OF THE DUBOCE TRIANGLE</td>\n",
       "      <td>3700</td>\n",
       "      <td>3.0</td>\n",
       "      <td>NaN</td>\n",
       "      <td>castro / upper market</td>\n",
       "      <td>1.0</td>\n",
       "      <td>['application fee details: $30 Per Applicant',...</td>\n",
       "    </tr>\n",
       "    <tr>\n",
       "      <th>1980</th>\n",
       "      <td>#107 Furnished Only Heaven by Views, Luxury, S...</td>\n",
       "      <td>6800</td>\n",
       "      <td>2.0</td>\n",
       "      <td>1600.0</td>\n",
       "      <td>pacific heights</td>\n",
       "      <td>2.0</td>\n",
       "      <td>['furnished', 'apartment', 'w/d in unit', 'no ...</td>\n",
       "    </tr>\n",
       "    <tr>\n",
       "      <th>2018</th>\n",
       "      <td>#120 Furnished ONLY Gorgeous, Cozy Junior-One-...</td>\n",
       "      <td>3500</td>\n",
       "      <td>1.0</td>\n",
       "      <td>550.0</td>\n",
       "      <td>pacific heights</td>\n",
       "      <td>1.0</td>\n",
       "      <td>['cats are OK - purrr', 'dogs are OK - wooof',...</td>\n",
       "    </tr>\n",
       "    <tr>\n",
       "      <th>2095</th>\n",
       "      <td>#125 FURNISHED ONLY Beautiful 2BR in Marina</td>\n",
       "      <td>5100</td>\n",
       "      <td>2.0</td>\n",
       "      <td>1300.0</td>\n",
       "      <td>marina / cow hollow</td>\n",
       "      <td>1.0</td>\n",
       "      <td>['EV charging', 'cats are OK - purrr', 'dogs a...</td>\n",
       "    </tr>\n",
       "    <tr>\n",
       "      <th>2015</th>\n",
       "      <td>#132 Furnished ONLY Beautiful Mansion in Heart...</td>\n",
       "      <td>9000</td>\n",
       "      <td>3.0</td>\n",
       "      <td>3500.0</td>\n",
       "      <td>pacific heights</td>\n",
       "      <td>2.5</td>\n",
       "      <td>['furnished', 'apartment', 'w/d in unit', 'no ...</td>\n",
       "    </tr>\n",
       "  </tbody>\n",
       "</table>\n",
       "</div>"
      ],
      "text/plain": [
       "                                                  title  price  brs    sqft  \\\n",
       "2245    \"INCENTIVE\" IN THE HEART OF THE DUBOCE TRIANGLE   3700  3.0     NaN   \n",
       "1980  #107 Furnished Only Heaven by Views, Luxury, S...   6800  2.0  1600.0   \n",
       "2018  #120 Furnished ONLY Gorgeous, Cozy Junior-One-...   3500  1.0   550.0   \n",
       "2095        #125 FURNISHED ONLY Beautiful 2BR in Marina   5100  2.0  1300.0   \n",
       "2015  #132 Furnished ONLY Beautiful Mansion in Heart...   9000  3.0  3500.0   \n",
       "\n",
       "                       hood  bath  \\\n",
       "2245  castro / upper market   1.0   \n",
       "1980        pacific heights   2.0   \n",
       "2018        pacific heights   1.0   \n",
       "2095    marina / cow hollow   1.0   \n",
       "2015        pacific heights   2.5   \n",
       "\n",
       "                                              amenities  \n",
       "2245  ['application fee details: $30 Per Applicant',...  \n",
       "1980  ['furnished', 'apartment', 'w/d in unit', 'no ...  \n",
       "2018  ['cats are OK - purrr', 'dogs are OK - wooof',...  \n",
       "2095  ['EV charging', 'cats are OK - purrr', 'dogs a...  \n",
       "2015  ['furnished', 'apartment', 'w/d in unit', 'no ...  "
      ]
     },
     "execution_count": 28,
     "metadata": {},
     "output_type": "execute_result"
    }
   ],
   "source": [
    "sf.head()"
   ]
  },
  {
   "cell_type": "markdown",
   "metadata": {},
   "source": [
    "Clean bathrooms!"
   ]
  },
  {
   "cell_type": "markdown",
   "metadata": {},
   "source": [
    "## Dealing with missing square footage\n",
    "\n",
    "Square footage is likely to be an important feature in determining rent price. Currently it's the column with the most missing values. I'll simply create a new version of `sf` dataframe where there are no missing values for `sqft`. "
   ]
  },
  {
   "cell_type": "code",
   "execution_count": 29,
   "metadata": {
    "ExecuteTime": {
     "end_time": "2020-10-03T00:16:37.878805Z",
     "start_time": "2020-10-03T00:16:37.870342Z"
    }
   },
   "outputs": [
    {
     "name": "stdout",
     "output_type": "stream",
     "text": [
      "<class 'pandas.core.frame.DataFrame'>\n",
      "Int64Index: 2448 entries, 2245 to 2495\n",
      "Data columns (total 7 columns):\n",
      " #   Column     Non-Null Count  Dtype  \n",
      "---  ------     --------------  -----  \n",
      " 0   title      2448 non-null   object \n",
      " 1   price      2448 non-null   int64  \n",
      " 2   brs        1953 non-null   float64\n",
      " 3   sqft       1122 non-null   float64\n",
      " 4   hood       2423 non-null   object \n",
      " 5   bath       2448 non-null   float64\n",
      " 6   amenities  2448 non-null   object \n",
      "dtypes: float64(3), int64(1), object(3)\n",
      "memory usage: 153.0+ KB\n"
     ]
    }
   ],
   "source": [
    "sf.info()"
   ]
  },
  {
   "cell_type": "code",
   "execution_count": 30,
   "metadata": {
    "ExecuteTime": {
     "end_time": "2020-10-03T00:16:37.883855Z",
     "start_time": "2020-10-03T00:16:37.880640Z"
    }
   },
   "outputs": [],
   "source": [
    "sf = sf[sf['sqft'].notna()]"
   ]
  },
  {
   "cell_type": "code",
   "execution_count": 31,
   "metadata": {
    "ExecuteTime": {
     "end_time": "2020-10-03T00:16:37.894370Z",
     "start_time": "2020-10-03T00:16:37.885425Z"
    }
   },
   "outputs": [
    {
     "data": {
      "text/html": [
       "<div>\n",
       "<style scoped>\n",
       "    .dataframe tbody tr th:only-of-type {\n",
       "        vertical-align: middle;\n",
       "    }\n",
       "\n",
       "    .dataframe tbody tr th {\n",
       "        vertical-align: top;\n",
       "    }\n",
       "\n",
       "    .dataframe thead th {\n",
       "        text-align: right;\n",
       "    }\n",
       "</style>\n",
       "<table border=\"1\" class=\"dataframe\">\n",
       "  <thead>\n",
       "    <tr style=\"text-align: right;\">\n",
       "      <th></th>\n",
       "      <th>title</th>\n",
       "      <th>price</th>\n",
       "      <th>brs</th>\n",
       "      <th>sqft</th>\n",
       "      <th>hood</th>\n",
       "      <th>bath</th>\n",
       "      <th>amenities</th>\n",
       "    </tr>\n",
       "  </thead>\n",
       "  <tbody>\n",
       "    <tr>\n",
       "      <th>1980</th>\n",
       "      <td>#107 Furnished Only Heaven by Views, Luxury, S...</td>\n",
       "      <td>6800</td>\n",
       "      <td>2.0</td>\n",
       "      <td>1600.0</td>\n",
       "      <td>pacific heights</td>\n",
       "      <td>2.0</td>\n",
       "      <td>['furnished', 'apartment', 'w/d in unit', 'no ...</td>\n",
       "    </tr>\n",
       "    <tr>\n",
       "      <th>2018</th>\n",
       "      <td>#120 Furnished ONLY Gorgeous, Cozy Junior-One-...</td>\n",
       "      <td>3500</td>\n",
       "      <td>1.0</td>\n",
       "      <td>550.0</td>\n",
       "      <td>pacific heights</td>\n",
       "      <td>1.0</td>\n",
       "      <td>['cats are OK - purrr', 'dogs are OK - wooof',...</td>\n",
       "    </tr>\n",
       "    <tr>\n",
       "      <th>2095</th>\n",
       "      <td>#125 FURNISHED ONLY Beautiful 2BR in Marina</td>\n",
       "      <td>5100</td>\n",
       "      <td>2.0</td>\n",
       "      <td>1300.0</td>\n",
       "      <td>marina / cow hollow</td>\n",
       "      <td>1.0</td>\n",
       "      <td>['EV charging', 'cats are OK - purrr', 'dogs a...</td>\n",
       "    </tr>\n",
       "    <tr>\n",
       "      <th>2015</th>\n",
       "      <td>#132 Furnished ONLY Beautiful Mansion in Heart...</td>\n",
       "      <td>9000</td>\n",
       "      <td>3.0</td>\n",
       "      <td>3500.0</td>\n",
       "      <td>pacific heights</td>\n",
       "      <td>2.5</td>\n",
       "      <td>['furnished', 'apartment', 'w/d in unit', 'no ...</td>\n",
       "    </tr>\n",
       "    <tr>\n",
       "      <th>2013</th>\n",
       "      <td>#158 Furnished ONLY Jr 1 bedroom w/ Parking at...</td>\n",
       "      <td>3100</td>\n",
       "      <td>1.0</td>\n",
       "      <td>561.0</td>\n",
       "      <td>marina / cow hollow</td>\n",
       "      <td>1.0</td>\n",
       "      <td>['cats are OK - purrr', 'dogs are OK - wooof',...</td>\n",
       "    </tr>\n",
       "  </tbody>\n",
       "</table>\n",
       "</div>"
      ],
      "text/plain": [
       "                                                  title  price  brs    sqft  \\\n",
       "1980  #107 Furnished Only Heaven by Views, Luxury, S...   6800  2.0  1600.0   \n",
       "2018  #120 Furnished ONLY Gorgeous, Cozy Junior-One-...   3500  1.0   550.0   \n",
       "2095        #125 FURNISHED ONLY Beautiful 2BR in Marina   5100  2.0  1300.0   \n",
       "2015  #132 Furnished ONLY Beautiful Mansion in Heart...   9000  3.0  3500.0   \n",
       "2013  #158 Furnished ONLY Jr 1 bedroom w/ Parking at...   3100  1.0   561.0   \n",
       "\n",
       "                     hood  bath  \\\n",
       "1980      pacific heights   2.0   \n",
       "2018      pacific heights   1.0   \n",
       "2095  marina / cow hollow   1.0   \n",
       "2015      pacific heights   2.5   \n",
       "2013  marina / cow hollow   1.0   \n",
       "\n",
       "                                              amenities  \n",
       "1980  ['furnished', 'apartment', 'w/d in unit', 'no ...  \n",
       "2018  ['cats are OK - purrr', 'dogs are OK - wooof',...  \n",
       "2095  ['EV charging', 'cats are OK - purrr', 'dogs a...  \n",
       "2015  ['furnished', 'apartment', 'w/d in unit', 'no ...  \n",
       "2013  ['cats are OK - purrr', 'dogs are OK - wooof',...  "
      ]
     },
     "execution_count": 31,
     "metadata": {},
     "output_type": "execute_result"
    }
   ],
   "source": [
    "sf.head()"
   ]
  },
  {
   "cell_type": "code",
   "execution_count": 32,
   "metadata": {
    "ExecuteTime": {
     "end_time": "2020-10-03T00:16:37.903212Z",
     "start_time": "2020-10-03T00:16:37.895777Z"
    }
   },
   "outputs": [
    {
     "name": "stdout",
     "output_type": "stream",
     "text": [
      "<class 'pandas.core.frame.DataFrame'>\n",
      "Int64Index: 1122 entries, 1980 to 225\n",
      "Data columns (total 7 columns):\n",
      " #   Column     Non-Null Count  Dtype  \n",
      "---  ------     --------------  -----  \n",
      " 0   title      1122 non-null   object \n",
      " 1   price      1122 non-null   int64  \n",
      " 2   brs        942 non-null    float64\n",
      " 3   sqft       1122 non-null   float64\n",
      " 4   hood       1101 non-null   object \n",
      " 5   bath       1122 non-null   float64\n",
      " 6   amenities  1122 non-null   object \n",
      "dtypes: float64(3), int64(1), object(3)\n",
      "memory usage: 70.1+ KB\n"
     ]
    }
   ],
   "source": [
    "sf.info()"
   ]
  },
  {
   "cell_type": "markdown",
   "metadata": {},
   "source": [
    "Great! Now bedrooms is the limiting feature. Let's see if I can boost that number a little higher."
   ]
  },
  {
   "cell_type": "markdown",
   "metadata": {},
   "source": [
    "## Cleaning Bedrooms"
   ]
  },
  {
   "cell_type": "code",
   "execution_count": 33,
   "metadata": {
    "ExecuteTime": {
     "end_time": "2020-10-03T00:16:37.908161Z",
     "start_time": "2020-10-03T00:16:37.904796Z"
    }
   },
   "outputs": [
    {
     "data": {
      "text/plain": [
       "array([ 2.,  1.,  3.,  4., nan,  5.,  6.])"
      ]
     },
     "execution_count": 33,
     "metadata": {},
     "output_type": "execute_result"
    }
   ],
   "source": [
    "sf.brs.unique()"
   ]
  },
  {
   "cell_type": "code",
   "execution_count": 34,
   "metadata": {
    "ExecuteTime": {
     "end_time": "2020-10-03T00:16:37.913172Z",
     "start_time": "2020-10-03T00:16:37.909737Z"
    }
   },
   "outputs": [
    {
     "data": {
      "text/plain": [
       "7"
      ]
     },
     "execution_count": 34,
     "metadata": {},
     "output_type": "execute_result"
    }
   ],
   "source": [
    "len(sf.brs.unique())"
   ]
  },
  {
   "cell_type": "markdown",
   "metadata": {},
   "source": [
    "How many nan value? "
   ]
  },
  {
   "cell_type": "code",
   "execution_count": 35,
   "metadata": {
    "ExecuteTime": {
     "end_time": "2020-10-03T00:16:37.917904Z",
     "start_time": "2020-10-03T00:16:37.914908Z"
    }
   },
   "outputs": [],
   "source": [
    "missing_brs = sf[sf.brs.isnull()]"
   ]
  },
  {
   "cell_type": "code",
   "execution_count": 36,
   "metadata": {
    "ExecuteTime": {
     "end_time": "2020-10-03T00:16:37.928258Z",
     "start_time": "2020-10-03T00:16:37.919592Z"
    }
   },
   "outputs": [
    {
     "data": {
      "text/html": [
       "<div>\n",
       "<style scoped>\n",
       "    .dataframe tbody tr th:only-of-type {\n",
       "        vertical-align: middle;\n",
       "    }\n",
       "\n",
       "    .dataframe tbody tr th {\n",
       "        vertical-align: top;\n",
       "    }\n",
       "\n",
       "    .dataframe thead th {\n",
       "        text-align: right;\n",
       "    }\n",
       "</style>\n",
       "<table border=\"1\" class=\"dataframe\">\n",
       "  <thead>\n",
       "    <tr style=\"text-align: right;\">\n",
       "      <th></th>\n",
       "      <th>title</th>\n",
       "      <th>price</th>\n",
       "      <th>brs</th>\n",
       "      <th>sqft</th>\n",
       "      <th>hood</th>\n",
       "      <th>bath</th>\n",
       "      <th>amenities</th>\n",
       "    </tr>\n",
       "  </thead>\n",
       "  <tbody>\n",
       "    <tr>\n",
       "      <th>2276</th>\n",
       "      <td>#LiveTuring Fantastic Studios! 8 Weeks Free! T...</td>\n",
       "      <td>2495</td>\n",
       "      <td>NaN</td>\n",
       "      <td>563.0</td>\n",
       "      <td>NaN</td>\n",
       "      <td>1.0</td>\n",
       "      <td>['apartment']</td>\n",
       "    </tr>\n",
       "    <tr>\n",
       "      <th>2419</th>\n",
       "      <td>***LIKE NEW STUDIO that feels like 1 Bedroom A...</td>\n",
       "      <td>1880</td>\n",
       "      <td>NaN</td>\n",
       "      <td>350.0</td>\n",
       "      <td>SOMA / south beach</td>\n",
       "      <td>1.0</td>\n",
       "      <td>['application fee details: $20', 'apartment', ...</td>\n",
       "    </tr>\n",
       "    <tr>\n",
       "      <th>795</th>\n",
       "      <td>**8 Weeks Free** Studio Apartment at 923 Folsom</td>\n",
       "      <td>2705</td>\n",
       "      <td>NaN</td>\n",
       "      <td>509.0</td>\n",
       "      <td>SOMA / south beach</td>\n",
       "      <td>1.0</td>\n",
       "      <td>['cats are OK - purrr', 'dogs are OK - wooof',...</td>\n",
       "    </tr>\n",
       "  </tbody>\n",
       "</table>\n",
       "</div>"
      ],
      "text/plain": [
       "                                                  title  price  brs   sqft  \\\n",
       "2276  #LiveTuring Fantastic Studios! 8 Weeks Free! T...   2495  NaN  563.0   \n",
       "2419  ***LIKE NEW STUDIO that feels like 1 Bedroom A...   1880  NaN  350.0   \n",
       "795     **8 Weeks Free** Studio Apartment at 923 Folsom   2705  NaN  509.0   \n",
       "\n",
       "                    hood  bath  \\\n",
       "2276                 NaN   1.0   \n",
       "2419  SOMA / south beach   1.0   \n",
       "795   SOMA / south beach   1.0   \n",
       "\n",
       "                                              amenities  \n",
       "2276                                      ['apartment']  \n",
       "2419  ['application fee details: $20', 'apartment', ...  \n",
       "795   ['cats are OK - purrr', 'dogs are OK - wooof',...  "
      ]
     },
     "execution_count": 36,
     "metadata": {},
     "output_type": "execute_result"
    }
   ],
   "source": [
    "missing_brs.head(3)"
   ]
  },
  {
   "cell_type": "code",
   "execution_count": 37,
   "metadata": {
    "ExecuteTime": {
     "end_time": "2020-10-03T00:16:37.932377Z",
     "start_time": "2020-10-03T00:16:37.929966Z"
    },
    "scrolled": true
   },
   "outputs": [
    {
     "name": "stdout",
     "output_type": "stream",
     "text": [
      "Number of missing bedroom rows:  180\n"
     ]
    }
   ],
   "source": [
    "print(\"Number of missing bedroom rows: \", len(missing_brs))"
   ]
  },
  {
   "cell_type": "markdown",
   "metadata": {},
   "source": [
    "What are these nan values? Need to take a look at a few links to see what's happening."
   ]
  },
  {
   "cell_type": "code",
   "execution_count": 38,
   "metadata": {
    "ExecuteTime": {
     "end_time": "2020-10-03T00:16:37.937490Z",
     "start_time": "2020-10-03T00:16:37.934171Z"
    },
    "scrolled": true
   },
   "outputs": [],
   "source": [
    "br_nans = sf_raw[sf_raw['brs'].isnull()]\n",
    "\n",
    "br_nan_links = list(br_nans.link)"
   ]
  },
  {
   "cell_type": "code",
   "execution_count": 39,
   "metadata": {
    "ExecuteTime": {
     "end_time": "2020-10-03T00:16:37.941372Z",
     "start_time": "2020-10-03T00:16:37.938870Z"
    }
   },
   "outputs": [
    {
     "name": "stdout",
     "output_type": "stream",
     "text": [
      "https://sfbay.craigslist.org/sfc/apa/d/san-francisco-huge-newly-remodeled/7206619643.html\n",
      "\n",
      "https://sfbay.craigslist.org/sfc/apa/d/san-francisco-cozy-edwardian-apartment/7194887293.html\n",
      "\n",
      "https://sfbay.craigslist.org/sfc/apa/d/san-francisco-fifth-floor-studio-in/7206615888.html\n",
      "\n",
      "https://sfbay.craigslist.org/sfc/apa/d/san-francisco-second-floor-studio/7202953088.html\n",
      "\n",
      "https://sfbay.craigslist.org/sfc/apa/d/san-francisco-1bd-1bath-california/7200175190.html\n",
      "\n"
     ]
    }
   ],
   "source": [
    "for link in br_nan_links[:5]:\n",
    "    print(link)\n",
    "    print('')"
   ]
  },
  {
   "cell_type": "code",
   "execution_count": 40,
   "metadata": {
    "ExecuteTime": {
     "end_time": "2020-10-03T00:16:37.945577Z",
     "start_time": "2020-10-03T00:16:37.943028Z"
    }
   },
   "outputs": [
    {
     "name": "stdout",
     "output_type": "stream",
     "text": [
      "https://sfbay.craigslist.org/sfc/apa/d/san-francisco-wow-prices-you-cant-beat/7206609316.html\n",
      "\n",
      "https://sfbay.craigslist.org/sfc/apa/d/san-francisco-2-months-free-newly/7206609071.html\n",
      "\n",
      "https://sfbay.craigslist.org/sfc/apa/d/san-francisco-nob-hill-efficiency/7205168796.html\n",
      "\n",
      "https://sfbay.craigslist.org/sfc/apa/d/san-francisco-always-fresh-forever/7206603015.html\n",
      "\n",
      "https://sfbay.craigslist.org/sfc/apa/d/san-francisco-two-months-free-studio-in/7206586455.html\n",
      "\n",
      "https://sfbay.craigslist.org/sfc/apa/d/san-francisco-available-now-4-bedroom-2/7200487016.html\n",
      "\n"
     ]
    }
   ],
   "source": [
    "for link in br_nan_links[9:15]:\n",
    "    print(link)\n",
    "    print('')"
   ]
  },
  {
   "cell_type": "markdown",
   "metadata": {},
   "source": [
    "It seems like a mix -- some are studios, some have 1 or more bedrooms. The key is in the title. So I'll try to parse through the title and if it contains and key words that I can fill in."
   ]
  },
  {
   "cell_type": "code",
   "execution_count": 41,
   "metadata": {
    "ExecuteTime": {
     "end_time": "2020-10-03T00:16:37.951904Z",
     "start_time": "2020-10-03T00:16:37.947379Z"
    }
   },
   "outputs": [],
   "source": [
    "# Function to fill missing bedroom information\n",
    "# by parsing through titles for key words: \n",
    "\n",
    "def replace_missing_brs(post_title):\n",
    "    if 'studio' in post_title.lower():\n",
    "        return 0\n",
    "    elif '1br' in post_title.lower().replace(' ', ''):\n",
    "        return 1\n",
    "    elif '1bed' in post_title.lower().replace(' ', ''):\n",
    "        return 1\n",
    "    elif 'onebed' in post_title.lower().replace(' ', ''):\n",
    "        return 1\n",
    "    elif '2br' in post_title.lower().replace(' ', ''):\n",
    "        return 2\n",
    "    elif '3br' in post_title.lower().replace(' ', ''):\n",
    "        return 3\n",
    "    elif '4br' in post_title.lower().replace(' ', ''):\n",
    "        return 4\n",
    "    elif '4bd' in post_title.lower().replace(' ', ''):\n",
    "        return 4\n",
    "    elif '4bed' in post_title.lower().replace(' ', ''):\n",
    "        return 4\n",
    "    else:\n",
    "        pass"
   ]
  },
  {
   "cell_type": "code",
   "execution_count": 42,
   "metadata": {
    "ExecuteTime": {
     "end_time": "2020-10-03T00:16:37.956827Z",
     "start_time": "2020-10-03T00:16:37.953606Z"
    }
   },
   "outputs": [],
   "source": [
    "sf['brs'] = sf['brs'].fillna('missing')"
   ]
  },
  {
   "cell_type": "code",
   "execution_count": 43,
   "metadata": {
    "ExecuteTime": {
     "end_time": "2020-10-03T00:16:37.976964Z",
     "start_time": "2020-10-03T00:16:37.958554Z"
    }
   },
   "outputs": [],
   "source": [
    "sf['beds'] = sf.apply(\n",
    "    lambda row: replace_missing_brs(row['title']) if row['brs'] == 'missing' else row['brs'], axis=1)"
   ]
  },
  {
   "cell_type": "code",
   "execution_count": 44,
   "metadata": {
    "ExecuteTime": {
     "end_time": "2020-10-03T00:16:37.989255Z",
     "start_time": "2020-10-03T00:16:37.978626Z"
    }
   },
   "outputs": [
    {
     "data": {
      "text/html": [
       "<div>\n",
       "<style scoped>\n",
       "    .dataframe tbody tr th:only-of-type {\n",
       "        vertical-align: middle;\n",
       "    }\n",
       "\n",
       "    .dataframe tbody tr th {\n",
       "        vertical-align: top;\n",
       "    }\n",
       "\n",
       "    .dataframe thead th {\n",
       "        text-align: right;\n",
       "    }\n",
       "</style>\n",
       "<table border=\"1\" class=\"dataframe\">\n",
       "  <thead>\n",
       "    <tr style=\"text-align: right;\">\n",
       "      <th></th>\n",
       "      <th>title</th>\n",
       "      <th>price</th>\n",
       "      <th>brs</th>\n",
       "      <th>sqft</th>\n",
       "      <th>hood</th>\n",
       "      <th>bath</th>\n",
       "      <th>amenities</th>\n",
       "      <th>beds</th>\n",
       "    </tr>\n",
       "  </thead>\n",
       "  <tbody>\n",
       "    <tr>\n",
       "      <th>1980</th>\n",
       "      <td>#107 Furnished Only Heaven by Views, Luxury, S...</td>\n",
       "      <td>6800</td>\n",
       "      <td>2</td>\n",
       "      <td>1600.0</td>\n",
       "      <td>pacific heights</td>\n",
       "      <td>2.0</td>\n",
       "      <td>['furnished', 'apartment', 'w/d in unit', 'no ...</td>\n",
       "      <td>2.0</td>\n",
       "    </tr>\n",
       "    <tr>\n",
       "      <th>2018</th>\n",
       "      <td>#120 Furnished ONLY Gorgeous, Cozy Junior-One-...</td>\n",
       "      <td>3500</td>\n",
       "      <td>1</td>\n",
       "      <td>550.0</td>\n",
       "      <td>pacific heights</td>\n",
       "      <td>1.0</td>\n",
       "      <td>['cats are OK - purrr', 'dogs are OK - wooof',...</td>\n",
       "      <td>1.0</td>\n",
       "    </tr>\n",
       "    <tr>\n",
       "      <th>2095</th>\n",
       "      <td>#125 FURNISHED ONLY Beautiful 2BR in Marina</td>\n",
       "      <td>5100</td>\n",
       "      <td>2</td>\n",
       "      <td>1300.0</td>\n",
       "      <td>marina / cow hollow</td>\n",
       "      <td>1.0</td>\n",
       "      <td>['EV charging', 'cats are OK - purrr', 'dogs a...</td>\n",
       "      <td>2.0</td>\n",
       "    </tr>\n",
       "    <tr>\n",
       "      <th>2015</th>\n",
       "      <td>#132 Furnished ONLY Beautiful Mansion in Heart...</td>\n",
       "      <td>9000</td>\n",
       "      <td>3</td>\n",
       "      <td>3500.0</td>\n",
       "      <td>pacific heights</td>\n",
       "      <td>2.5</td>\n",
       "      <td>['furnished', 'apartment', 'w/d in unit', 'no ...</td>\n",
       "      <td>3.0</td>\n",
       "    </tr>\n",
       "    <tr>\n",
       "      <th>2013</th>\n",
       "      <td>#158 Furnished ONLY Jr 1 bedroom w/ Parking at...</td>\n",
       "      <td>3100</td>\n",
       "      <td>1</td>\n",
       "      <td>561.0</td>\n",
       "      <td>marina / cow hollow</td>\n",
       "      <td>1.0</td>\n",
       "      <td>['cats are OK - purrr', 'dogs are OK - wooof',...</td>\n",
       "      <td>1.0</td>\n",
       "    </tr>\n",
       "  </tbody>\n",
       "</table>\n",
       "</div>"
      ],
      "text/plain": [
       "                                                  title  price brs    sqft  \\\n",
       "1980  #107 Furnished Only Heaven by Views, Luxury, S...   6800   2  1600.0   \n",
       "2018  #120 Furnished ONLY Gorgeous, Cozy Junior-One-...   3500   1   550.0   \n",
       "2095        #125 FURNISHED ONLY Beautiful 2BR in Marina   5100   2  1300.0   \n",
       "2015  #132 Furnished ONLY Beautiful Mansion in Heart...   9000   3  3500.0   \n",
       "2013  #158 Furnished ONLY Jr 1 bedroom w/ Parking at...   3100   1   561.0   \n",
       "\n",
       "                     hood  bath  \\\n",
       "1980      pacific heights   2.0   \n",
       "2018      pacific heights   1.0   \n",
       "2095  marina / cow hollow   1.0   \n",
       "2015      pacific heights   2.5   \n",
       "2013  marina / cow hollow   1.0   \n",
       "\n",
       "                                              amenities  beds  \n",
       "1980  ['furnished', 'apartment', 'w/d in unit', 'no ...   2.0  \n",
       "2018  ['cats are OK - purrr', 'dogs are OK - wooof',...   1.0  \n",
       "2095  ['EV charging', 'cats are OK - purrr', 'dogs a...   2.0  \n",
       "2015  ['furnished', 'apartment', 'w/d in unit', 'no ...   3.0  \n",
       "2013  ['cats are OK - purrr', 'dogs are OK - wooof',...   1.0  "
      ]
     },
     "execution_count": 44,
     "metadata": {},
     "output_type": "execute_result"
    }
   ],
   "source": [
    "sf.head()"
   ]
  },
  {
   "cell_type": "code",
   "execution_count": 45,
   "metadata": {
    "ExecuteTime": {
     "end_time": "2020-10-03T00:16:37.994177Z",
     "start_time": "2020-10-03T00:16:37.990990Z"
    }
   },
   "outputs": [],
   "source": [
    "missing_brs_end = sf[sf['beds'].isnull()]"
   ]
  },
  {
   "cell_type": "code",
   "execution_count": 46,
   "metadata": {
    "ExecuteTime": {
     "end_time": "2020-10-03T00:16:37.998785Z",
     "start_time": "2020-10-03T00:16:37.995728Z"
    }
   },
   "outputs": [
    {
     "name": "stdout",
     "output_type": "stream",
     "text": [
      "Number of missing bedrooms at start:  180\n",
      "Number of missing bedrooms after title parse:  46\n",
      "Number of recoverd bedrooms:  134\n",
      "Percent recovered:  74.44444444444444\n"
     ]
    }
   ],
   "source": [
    "print(\"Number of missing bedrooms at start: \", len(missing_brs))\n",
    "print(\"Number of missing bedrooms after title parse: \",len(missing_brs_end))\n",
    "print(\"Number of recoverd bedrooms: \", len(missing_brs) - len(missing_brs_end))\n",
    "print(\"Percent recovered: \", ((len(missing_brs) - len(missing_brs_end)) / len(missing_brs)) * 100)"
   ]
  },
  {
   "cell_type": "markdown",
   "metadata": {},
   "source": [
    "Good enough! Now to drop everything else that's missing."
   ]
  },
  {
   "cell_type": "code",
   "execution_count": 47,
   "metadata": {
    "ExecuteTime": {
     "end_time": "2020-10-03T00:16:38.003631Z",
     "start_time": "2020-10-03T00:16:38.000507Z"
    }
   },
   "outputs": [],
   "source": [
    "sf = sf[['title', 'price', 'sqft', 'beds', 'bath', 'hood', 'amenities']]"
   ]
  },
  {
   "cell_type": "code",
   "execution_count": 48,
   "metadata": {
    "ExecuteTime": {
     "end_time": "2020-10-03T00:16:38.008596Z",
     "start_time": "2020-10-03T00:16:38.005379Z"
    }
   },
   "outputs": [],
   "source": [
    "sf = sf[sf['beds'].notna()]"
   ]
  },
  {
   "cell_type": "code",
   "execution_count": 49,
   "metadata": {
    "ExecuteTime": {
     "end_time": "2020-10-03T00:16:38.019674Z",
     "start_time": "2020-10-03T00:16:38.009950Z"
    }
   },
   "outputs": [
    {
     "data": {
      "text/html": [
       "<div>\n",
       "<style scoped>\n",
       "    .dataframe tbody tr th:only-of-type {\n",
       "        vertical-align: middle;\n",
       "    }\n",
       "\n",
       "    .dataframe tbody tr th {\n",
       "        vertical-align: top;\n",
       "    }\n",
       "\n",
       "    .dataframe thead th {\n",
       "        text-align: right;\n",
       "    }\n",
       "</style>\n",
       "<table border=\"1\" class=\"dataframe\">\n",
       "  <thead>\n",
       "    <tr style=\"text-align: right;\">\n",
       "      <th></th>\n",
       "      <th>title</th>\n",
       "      <th>price</th>\n",
       "      <th>sqft</th>\n",
       "      <th>beds</th>\n",
       "      <th>bath</th>\n",
       "      <th>hood</th>\n",
       "      <th>amenities</th>\n",
       "    </tr>\n",
       "  </thead>\n",
       "  <tbody>\n",
       "    <tr>\n",
       "      <th>1980</th>\n",
       "      <td>#107 Furnished Only Heaven by Views, Luxury, S...</td>\n",
       "      <td>6800</td>\n",
       "      <td>1600.0</td>\n",
       "      <td>2.0</td>\n",
       "      <td>2.0</td>\n",
       "      <td>pacific heights</td>\n",
       "      <td>['furnished', 'apartment', 'w/d in unit', 'no ...</td>\n",
       "    </tr>\n",
       "    <tr>\n",
       "      <th>2018</th>\n",
       "      <td>#120 Furnished ONLY Gorgeous, Cozy Junior-One-...</td>\n",
       "      <td>3500</td>\n",
       "      <td>550.0</td>\n",
       "      <td>1.0</td>\n",
       "      <td>1.0</td>\n",
       "      <td>pacific heights</td>\n",
       "      <td>['cats are OK - purrr', 'dogs are OK - wooof',...</td>\n",
       "    </tr>\n",
       "    <tr>\n",
       "      <th>2095</th>\n",
       "      <td>#125 FURNISHED ONLY Beautiful 2BR in Marina</td>\n",
       "      <td>5100</td>\n",
       "      <td>1300.0</td>\n",
       "      <td>2.0</td>\n",
       "      <td>1.0</td>\n",
       "      <td>marina / cow hollow</td>\n",
       "      <td>['EV charging', 'cats are OK - purrr', 'dogs a...</td>\n",
       "    </tr>\n",
       "    <tr>\n",
       "      <th>2015</th>\n",
       "      <td>#132 Furnished ONLY Beautiful Mansion in Heart...</td>\n",
       "      <td>9000</td>\n",
       "      <td>3500.0</td>\n",
       "      <td>3.0</td>\n",
       "      <td>2.5</td>\n",
       "      <td>pacific heights</td>\n",
       "      <td>['furnished', 'apartment', 'w/d in unit', 'no ...</td>\n",
       "    </tr>\n",
       "    <tr>\n",
       "      <th>2013</th>\n",
       "      <td>#158 Furnished ONLY Jr 1 bedroom w/ Parking at...</td>\n",
       "      <td>3100</td>\n",
       "      <td>561.0</td>\n",
       "      <td>1.0</td>\n",
       "      <td>1.0</td>\n",
       "      <td>marina / cow hollow</td>\n",
       "      <td>['cats are OK - purrr', 'dogs are OK - wooof',...</td>\n",
       "    </tr>\n",
       "  </tbody>\n",
       "</table>\n",
       "</div>"
      ],
      "text/plain": [
       "                                                  title  price    sqft  beds  \\\n",
       "1980  #107 Furnished Only Heaven by Views, Luxury, S...   6800  1600.0   2.0   \n",
       "2018  #120 Furnished ONLY Gorgeous, Cozy Junior-One-...   3500   550.0   1.0   \n",
       "2095        #125 FURNISHED ONLY Beautiful 2BR in Marina   5100  1300.0   2.0   \n",
       "2015  #132 Furnished ONLY Beautiful Mansion in Heart...   9000  3500.0   3.0   \n",
       "2013  #158 Furnished ONLY Jr 1 bedroom w/ Parking at...   3100   561.0   1.0   \n",
       "\n",
       "      bath                 hood  \\\n",
       "1980   2.0      pacific heights   \n",
       "2018   1.0      pacific heights   \n",
       "2095   1.0  marina / cow hollow   \n",
       "2015   2.5      pacific heights   \n",
       "2013   1.0  marina / cow hollow   \n",
       "\n",
       "                                              amenities  \n",
       "1980  ['furnished', 'apartment', 'w/d in unit', 'no ...  \n",
       "2018  ['cats are OK - purrr', 'dogs are OK - wooof',...  \n",
       "2095  ['EV charging', 'cats are OK - purrr', 'dogs a...  \n",
       "2015  ['furnished', 'apartment', 'w/d in unit', 'no ...  \n",
       "2013  ['cats are OK - purrr', 'dogs are OK - wooof',...  "
      ]
     },
     "execution_count": 49,
     "metadata": {},
     "output_type": "execute_result"
    }
   ],
   "source": [
    "sf.head()"
   ]
  },
  {
   "cell_type": "markdown",
   "metadata": {},
   "source": [
    "## Amenities\n",
    "\n",
    "### Codebook: Fields by Category & Numerical Assignments\n",
    "\n",
    "Values are assigned numerical values representing a rank based on percieved worth\n",
    "\n",
    "**Housing Type**\n",
    "```\n",
    "* apartment          ---> 0\n",
    "* condo              ---> 0\n",
    "* cottage/cabin      ---> 1\n",
    "* duplex             ---> 1\n",
    "* flat               ---> 0\n",
    "* house              ---> 2\n",
    "* in-law             ---> 1\n",
    "* loft               ---> 0\n",
    "* townhouse          ---> 1\n",
    "* manufactured       ---> 0\n",
    "* assisted living    ---> 0\n",
    "```    \n",
    "    \n",
    "    \n",
    "**Laundry**\n",
    "```\n",
    "* w/d in unit          ---> 2\n",
    "* w/d hookups          ---> 0\n",
    "* laundry in bldg      ---> 1\n",
    "* laundry on site      ---> 1\n",
    "* no laundry on site   ---> 0\n",
    "```    \n",
    " \n",
    "**Parking**\n",
    "```\n",
    "* carport             ---> 2\n",
    "* attached garage     ---> 3\n",
    "* detatched garage    ---> 2\n",
    "* off-street parking  ---> 1\n",
    "* street parking      ---> 0\n",
    "* valet parking       ---> 3\n",
    "* no parking          ---> 0\n",
    "```\n",
    "\n",
    "**Pets Allowed**\n",
    "```\n",
    "* none     ---> 0\n",
    "* cats ok  ---> 1 \n",
    "* dogs ok  ---> 2\n",
    "* both     ---> 3\n",
    "```\n",
    "\n",
    "**Others (to be excluded)**\n",
    "```\n",
    "* furnished\n",
    "* no smoking\n",
    "* wheelchair accessible\n",
    "* EV Charging\n",
    "```"
   ]
  },
  {
   "cell_type": "markdown",
   "metadata": {},
   "source": [
    "First - I need to convert the values in the `amenities` column from a string to a list."
   ]
  },
  {
   "cell_type": "code",
   "execution_count": 50,
   "metadata": {
    "ExecuteTime": {
     "end_time": "2020-10-03T00:16:38.023433Z",
     "start_time": "2020-10-03T00:16:38.021332Z"
    }
   },
   "outputs": [],
   "source": [
    "import ast"
   ]
  },
  {
   "cell_type": "code",
   "execution_count": 51,
   "metadata": {
    "ExecuteTime": {
     "end_time": "2020-10-03T00:16:38.045053Z",
     "start_time": "2020-10-03T00:16:38.024980Z"
    }
   },
   "outputs": [],
   "source": [
    "sf['amens_list'] = sf['amenities'].apply(lambda x: ast.literal_eval(x))"
   ]
  },
  {
   "cell_type": "code",
   "execution_count": 52,
   "metadata": {
    "ExecuteTime": {
     "end_time": "2020-10-03T00:16:38.057428Z",
     "start_time": "2020-10-03T00:16:38.046680Z"
    }
   },
   "outputs": [
    {
     "data": {
      "text/html": [
       "<div>\n",
       "<style scoped>\n",
       "    .dataframe tbody tr th:only-of-type {\n",
       "        vertical-align: middle;\n",
       "    }\n",
       "\n",
       "    .dataframe tbody tr th {\n",
       "        vertical-align: top;\n",
       "    }\n",
       "\n",
       "    .dataframe thead th {\n",
       "        text-align: right;\n",
       "    }\n",
       "</style>\n",
       "<table border=\"1\" class=\"dataframe\">\n",
       "  <thead>\n",
       "    <tr style=\"text-align: right;\">\n",
       "      <th></th>\n",
       "      <th>title</th>\n",
       "      <th>price</th>\n",
       "      <th>sqft</th>\n",
       "      <th>beds</th>\n",
       "      <th>bath</th>\n",
       "      <th>hood</th>\n",
       "      <th>amenities</th>\n",
       "      <th>amens_list</th>\n",
       "    </tr>\n",
       "  </thead>\n",
       "  <tbody>\n",
       "    <tr>\n",
       "      <th>1980</th>\n",
       "      <td>#107 Furnished Only Heaven by Views, Luxury, S...</td>\n",
       "      <td>6800</td>\n",
       "      <td>1600.0</td>\n",
       "      <td>2.0</td>\n",
       "      <td>2.0</td>\n",
       "      <td>pacific heights</td>\n",
       "      <td>['furnished', 'apartment', 'w/d in unit', 'no ...</td>\n",
       "      <td>[furnished, apartment, w/d in unit, no smoking...</td>\n",
       "    </tr>\n",
       "    <tr>\n",
       "      <th>2018</th>\n",
       "      <td>#120 Furnished ONLY Gorgeous, Cozy Junior-One-...</td>\n",
       "      <td>3500</td>\n",
       "      <td>550.0</td>\n",
       "      <td>1.0</td>\n",
       "      <td>1.0</td>\n",
       "      <td>pacific heights</td>\n",
       "      <td>['cats are OK - purrr', 'dogs are OK - wooof',...</td>\n",
       "      <td>[cats are OK - purrr, dogs are OK - wooof, fur...</td>\n",
       "    </tr>\n",
       "    <tr>\n",
       "      <th>2095</th>\n",
       "      <td>#125 FURNISHED ONLY Beautiful 2BR in Marina</td>\n",
       "      <td>5100</td>\n",
       "      <td>1300.0</td>\n",
       "      <td>2.0</td>\n",
       "      <td>1.0</td>\n",
       "      <td>marina / cow hollow</td>\n",
       "      <td>['EV charging', 'cats are OK - purrr', 'dogs a...</td>\n",
       "      <td>[EV charging, cats are OK - purrr, dogs are OK...</td>\n",
       "    </tr>\n",
       "    <tr>\n",
       "      <th>2015</th>\n",
       "      <td>#132 Furnished ONLY Beautiful Mansion in Heart...</td>\n",
       "      <td>9000</td>\n",
       "      <td>3500.0</td>\n",
       "      <td>3.0</td>\n",
       "      <td>2.5</td>\n",
       "      <td>pacific heights</td>\n",
       "      <td>['furnished', 'apartment', 'w/d in unit', 'no ...</td>\n",
       "      <td>[furnished, apartment, w/d in unit, no smoking...</td>\n",
       "    </tr>\n",
       "    <tr>\n",
       "      <th>2013</th>\n",
       "      <td>#158 Furnished ONLY Jr 1 bedroom w/ Parking at...</td>\n",
       "      <td>3100</td>\n",
       "      <td>561.0</td>\n",
       "      <td>1.0</td>\n",
       "      <td>1.0</td>\n",
       "      <td>marina / cow hollow</td>\n",
       "      <td>['cats are OK - purrr', 'dogs are OK - wooof',...</td>\n",
       "      <td>[cats are OK - purrr, dogs are OK - wooof, fur...</td>\n",
       "    </tr>\n",
       "  </tbody>\n",
       "</table>\n",
       "</div>"
      ],
      "text/plain": [
       "                                                  title  price    sqft  beds  \\\n",
       "1980  #107 Furnished Only Heaven by Views, Luxury, S...   6800  1600.0   2.0   \n",
       "2018  #120 Furnished ONLY Gorgeous, Cozy Junior-One-...   3500   550.0   1.0   \n",
       "2095        #125 FURNISHED ONLY Beautiful 2BR in Marina   5100  1300.0   2.0   \n",
       "2015  #132 Furnished ONLY Beautiful Mansion in Heart...   9000  3500.0   3.0   \n",
       "2013  #158 Furnished ONLY Jr 1 bedroom w/ Parking at...   3100   561.0   1.0   \n",
       "\n",
       "      bath                 hood  \\\n",
       "1980   2.0      pacific heights   \n",
       "2018   1.0      pacific heights   \n",
       "2095   1.0  marina / cow hollow   \n",
       "2015   2.5      pacific heights   \n",
       "2013   1.0  marina / cow hollow   \n",
       "\n",
       "                                              amenities  \\\n",
       "1980  ['furnished', 'apartment', 'w/d in unit', 'no ...   \n",
       "2018  ['cats are OK - purrr', 'dogs are OK - wooof',...   \n",
       "2095  ['EV charging', 'cats are OK - purrr', 'dogs a...   \n",
       "2015  ['furnished', 'apartment', 'w/d in unit', 'no ...   \n",
       "2013  ['cats are OK - purrr', 'dogs are OK - wooof',...   \n",
       "\n",
       "                                             amens_list  \n",
       "1980  [furnished, apartment, w/d in unit, no smoking...  \n",
       "2018  [cats are OK - purrr, dogs are OK - wooof, fur...  \n",
       "2095  [EV charging, cats are OK - purrr, dogs are OK...  \n",
       "2015  [furnished, apartment, w/d in unit, no smoking...  \n",
       "2013  [cats are OK - purrr, dogs are OK - wooof, fur...  "
      ]
     },
     "execution_count": 52,
     "metadata": {},
     "output_type": "execute_result"
    }
   ],
   "source": [
    "sf.head()"
   ]
  },
  {
   "cell_type": "code",
   "execution_count": 53,
   "metadata": {
    "ExecuteTime": {
     "end_time": "2020-10-03T00:16:38.062208Z",
     "start_time": "2020-10-03T00:16:38.058994Z"
    }
   },
   "outputs": [
    {
     "data": {
      "text/plain": [
       "['condo', 'w/d in unit', 'attached garage']"
      ]
     },
     "execution_count": 53,
     "metadata": {},
     "output_type": "execute_result"
    }
   ],
   "source": [
    "amen_eg = sf.loc[0, 'amens_list']\n",
    "amen_eg"
   ]
  },
  {
   "cell_type": "code",
   "execution_count": 54,
   "metadata": {
    "ExecuteTime": {
     "end_time": "2020-10-03T00:16:38.073897Z",
     "start_time": "2020-10-03T00:16:38.070778Z"
    }
   },
   "outputs": [
    {
     "data": {
      "text/plain": [
       "list"
      ]
     },
     "execution_count": 54,
     "metadata": {},
     "output_type": "execute_result"
    }
   ],
   "source": [
    "type(amen_eg)"
   ]
  },
  {
   "cell_type": "code",
   "execution_count": 55,
   "metadata": {
    "ExecuteTime": {
     "end_time": "2020-10-03T00:16:38.079562Z",
     "start_time": "2020-10-03T00:16:38.076379Z"
    }
   },
   "outputs": [
    {
     "data": {
      "text/plain": [
       "True"
      ]
     },
     "execution_count": 55,
     "metadata": {},
     "output_type": "execute_result"
    }
   ],
   "source": [
    "'condo' in amen_eg"
   ]
  },
  {
   "cell_type": "markdown",
   "metadata": {},
   "source": [
    "Looks like it worked - and now I can parse through the list to check for membership, creating columns for each type of amenity. "
   ]
  },
  {
   "cell_type": "code",
   "execution_count": 56,
   "metadata": {
    "ExecuteTime": {
     "end_time": "2020-10-03T00:16:38.084264Z",
     "start_time": "2020-10-03T00:16:38.080968Z"
    }
   },
   "outputs": [],
   "source": [
    "sf = sf.drop(['amenities'], axis=1)"
   ]
  },
  {
   "cell_type": "code",
   "execution_count": 57,
   "metadata": {
    "ExecuteTime": {
     "end_time": "2020-10-03T00:16:38.096176Z",
     "start_time": "2020-10-03T00:16:38.085654Z"
    }
   },
   "outputs": [
    {
     "data": {
      "text/html": [
       "<div>\n",
       "<style scoped>\n",
       "    .dataframe tbody tr th:only-of-type {\n",
       "        vertical-align: middle;\n",
       "    }\n",
       "\n",
       "    .dataframe tbody tr th {\n",
       "        vertical-align: top;\n",
       "    }\n",
       "\n",
       "    .dataframe thead th {\n",
       "        text-align: right;\n",
       "    }\n",
       "</style>\n",
       "<table border=\"1\" class=\"dataframe\">\n",
       "  <thead>\n",
       "    <tr style=\"text-align: right;\">\n",
       "      <th></th>\n",
       "      <th>title</th>\n",
       "      <th>price</th>\n",
       "      <th>sqft</th>\n",
       "      <th>beds</th>\n",
       "      <th>bath</th>\n",
       "      <th>hood</th>\n",
       "      <th>amens_list</th>\n",
       "    </tr>\n",
       "  </thead>\n",
       "  <tbody>\n",
       "    <tr>\n",
       "      <th>1980</th>\n",
       "      <td>#107 Furnished Only Heaven by Views, Luxury, S...</td>\n",
       "      <td>6800</td>\n",
       "      <td>1600.0</td>\n",
       "      <td>2.0</td>\n",
       "      <td>2.0</td>\n",
       "      <td>pacific heights</td>\n",
       "      <td>[furnished, apartment, w/d in unit, no smoking...</td>\n",
       "    </tr>\n",
       "    <tr>\n",
       "      <th>2018</th>\n",
       "      <td>#120 Furnished ONLY Gorgeous, Cozy Junior-One-...</td>\n",
       "      <td>3500</td>\n",
       "      <td>550.0</td>\n",
       "      <td>1.0</td>\n",
       "      <td>1.0</td>\n",
       "      <td>pacific heights</td>\n",
       "      <td>[cats are OK - purrr, dogs are OK - wooof, fur...</td>\n",
       "    </tr>\n",
       "    <tr>\n",
       "      <th>2095</th>\n",
       "      <td>#125 FURNISHED ONLY Beautiful 2BR in Marina</td>\n",
       "      <td>5100</td>\n",
       "      <td>1300.0</td>\n",
       "      <td>2.0</td>\n",
       "      <td>1.0</td>\n",
       "      <td>marina / cow hollow</td>\n",
       "      <td>[EV charging, cats are OK - purrr, dogs are OK...</td>\n",
       "    </tr>\n",
       "    <tr>\n",
       "      <th>2015</th>\n",
       "      <td>#132 Furnished ONLY Beautiful Mansion in Heart...</td>\n",
       "      <td>9000</td>\n",
       "      <td>3500.0</td>\n",
       "      <td>3.0</td>\n",
       "      <td>2.5</td>\n",
       "      <td>pacific heights</td>\n",
       "      <td>[furnished, apartment, w/d in unit, no smoking...</td>\n",
       "    </tr>\n",
       "    <tr>\n",
       "      <th>2013</th>\n",
       "      <td>#158 Furnished ONLY Jr 1 bedroom w/ Parking at...</td>\n",
       "      <td>3100</td>\n",
       "      <td>561.0</td>\n",
       "      <td>1.0</td>\n",
       "      <td>1.0</td>\n",
       "      <td>marina / cow hollow</td>\n",
       "      <td>[cats are OK - purrr, dogs are OK - wooof, fur...</td>\n",
       "    </tr>\n",
       "  </tbody>\n",
       "</table>\n",
       "</div>"
      ],
      "text/plain": [
       "                                                  title  price    sqft  beds  \\\n",
       "1980  #107 Furnished Only Heaven by Views, Luxury, S...   6800  1600.0   2.0   \n",
       "2018  #120 Furnished ONLY Gorgeous, Cozy Junior-One-...   3500   550.0   1.0   \n",
       "2095        #125 FURNISHED ONLY Beautiful 2BR in Marina   5100  1300.0   2.0   \n",
       "2015  #132 Furnished ONLY Beautiful Mansion in Heart...   9000  3500.0   3.0   \n",
       "2013  #158 Furnished ONLY Jr 1 bedroom w/ Parking at...   3100   561.0   1.0   \n",
       "\n",
       "      bath                 hood  \\\n",
       "1980   2.0      pacific heights   \n",
       "2018   1.0      pacific heights   \n",
       "2095   1.0  marina / cow hollow   \n",
       "2015   2.5      pacific heights   \n",
       "2013   1.0  marina / cow hollow   \n",
       "\n",
       "                                             amens_list  \n",
       "1980  [furnished, apartment, w/d in unit, no smoking...  \n",
       "2018  [cats are OK - purrr, dogs are OK - wooof, fur...  \n",
       "2095  [EV charging, cats are OK - purrr, dogs are OK...  \n",
       "2015  [furnished, apartment, w/d in unit, no smoking...  \n",
       "2013  [cats are OK - purrr, dogs are OK - wooof, fur...  "
      ]
     },
     "execution_count": 57,
     "metadata": {},
     "output_type": "execute_result"
    }
   ],
   "source": [
    "sf.head()"
   ]
  },
  {
   "cell_type": "code",
   "execution_count": 58,
   "metadata": {
    "ExecuteTime": {
     "end_time": "2020-10-03T00:16:38.101184Z",
     "start_time": "2020-10-03T00:16:38.098040Z"
    }
   },
   "outputs": [],
   "source": [
    "def laundry_parse(amen_list):\n",
    "    if 'w/d in unit' in amen_list:\n",
    "        return 2\n",
    "    elif 'laundry in bldg' in amen_list:\n",
    "        return 1\n",
    "    elif 'laundry on site' in amen_list:\n",
    "        return 1\n",
    "    else:\n",
    "        return 0"
   ]
  },
  {
   "cell_type": "code",
   "execution_count": 59,
   "metadata": {
    "ExecuteTime": {
     "end_time": "2020-10-03T00:16:38.107160Z",
     "start_time": "2020-10-03T00:16:38.103122Z"
    }
   },
   "outputs": [],
   "source": [
    "sf['laundry'] = sf['amens_list'].apply(lambda amen_list: laundry_parse(amen_list))"
   ]
  },
  {
   "cell_type": "code",
   "execution_count": 60,
   "metadata": {
    "ExecuteTime": {
     "end_time": "2020-10-03T00:16:38.111758Z",
     "start_time": "2020-10-03T00:16:38.108908Z"
    }
   },
   "outputs": [],
   "source": [
    "def pets_allowed(amen_list):\n",
    "    if 'dogs are OK - wooof' in amen_list and 'cats are OK - purrr' in amen_list:\n",
    "        return 3\n",
    "    elif 'dogs are OK - wooof' in amen_list:\n",
    "        return 2\n",
    "    elif 'cats are OK - purrr' in amen_list:\n",
    "        return 1\n",
    "    else:\n",
    "        return 0"
   ]
  },
  {
   "cell_type": "code",
   "execution_count": 61,
   "metadata": {
    "ExecuteTime": {
     "end_time": "2020-10-03T00:16:38.117373Z",
     "start_time": "2020-10-03T00:16:38.113316Z"
    }
   },
   "outputs": [],
   "source": [
    "sf['pets'] = sf['amens_list'].apply(lambda amen_list: pets_allowed(amen_list))"
   ]
  },
  {
   "cell_type": "code",
   "execution_count": 62,
   "metadata": {
    "ExecuteTime": {
     "end_time": "2020-10-03T00:16:38.121714Z",
     "start_time": "2020-10-03T00:16:38.118932Z"
    }
   },
   "outputs": [],
   "source": [
    "def housing_type(amen_list):\n",
    "    if 'cottage/cabin' in amen_list:\n",
    "        return 1\n",
    "    elif ' duplex' in amen_list:\n",
    "        return 2\n",
    "    elif 'house' in amen_list:\n",
    "        return 3\n",
    "    elif 'in-law' in amen_list:\n",
    "        return 1\n",
    "    elif 'townhouse' in amen_list:\n",
    "        return 2\n",
    "    else:\n",
    "        return 0"
   ]
  },
  {
   "cell_type": "code",
   "execution_count": 63,
   "metadata": {
    "ExecuteTime": {
     "end_time": "2020-10-03T00:16:38.127238Z",
     "start_time": "2020-10-03T00:16:38.123248Z"
    }
   },
   "outputs": [],
   "source": [
    "sf['housing_type'] = sf['amens_list'].apply(lambda amen_list: housing_type(amen_list))"
   ]
  },
  {
   "cell_type": "code",
   "execution_count": 64,
   "metadata": {
    "ExecuteTime": {
     "end_time": "2020-10-03T00:16:38.131630Z",
     "start_time": "2020-10-03T00:16:38.128770Z"
    }
   },
   "outputs": [],
   "source": [
    "def parking_situation(amen_list):\n",
    "    if 'attached garage' in amen_list:\n",
    "        return 3\n",
    "    elif 'valet parking' in amen_list:\n",
    "        return 3\n",
    "    elif 'carport' in amen_list:\n",
    "        return 2\n",
    "    elif 'detatched garage' in amen_list:\n",
    "        return 2\n",
    "    elif 'off-street parking' in amen_list:\n",
    "        return 1\n",
    "    else:\n",
    "        return 0"
   ]
  },
  {
   "cell_type": "code",
   "execution_count": 65,
   "metadata": {
    "ExecuteTime": {
     "end_time": "2020-10-03T00:16:38.137313Z",
     "start_time": "2020-10-03T00:16:38.133249Z"
    }
   },
   "outputs": [],
   "source": [
    "sf['parking'] = sf['amens_list'].apply(lambda amen_list: parking_situation(amen_list))"
   ]
  },
  {
   "cell_type": "code",
   "execution_count": 66,
   "metadata": {
    "ExecuteTime": {
     "end_time": "2020-10-03T00:16:38.142243Z",
     "start_time": "2020-10-03T00:16:38.138736Z"
    }
   },
   "outputs": [],
   "source": [
    "sf = sf.drop(['amens_list'], axis=1)"
   ]
  },
  {
   "cell_type": "code",
   "execution_count": 67,
   "metadata": {
    "ExecuteTime": {
     "end_time": "2020-10-03T00:16:38.153905Z",
     "start_time": "2020-10-03T00:16:38.143793Z"
    }
   },
   "outputs": [
    {
     "data": {
      "text/html": [
       "<div>\n",
       "<style scoped>\n",
       "    .dataframe tbody tr th:only-of-type {\n",
       "        vertical-align: middle;\n",
       "    }\n",
       "\n",
       "    .dataframe tbody tr th {\n",
       "        vertical-align: top;\n",
       "    }\n",
       "\n",
       "    .dataframe thead th {\n",
       "        text-align: right;\n",
       "    }\n",
       "</style>\n",
       "<table border=\"1\" class=\"dataframe\">\n",
       "  <thead>\n",
       "    <tr style=\"text-align: right;\">\n",
       "      <th></th>\n",
       "      <th>title</th>\n",
       "      <th>price</th>\n",
       "      <th>sqft</th>\n",
       "      <th>beds</th>\n",
       "      <th>bath</th>\n",
       "      <th>hood</th>\n",
       "      <th>laundry</th>\n",
       "      <th>pets</th>\n",
       "      <th>housing_type</th>\n",
       "      <th>parking</th>\n",
       "    </tr>\n",
       "  </thead>\n",
       "  <tbody>\n",
       "    <tr>\n",
       "      <th>1980</th>\n",
       "      <td>#107 Furnished Only Heaven by Views, Luxury, S...</td>\n",
       "      <td>6800</td>\n",
       "      <td>1600.0</td>\n",
       "      <td>2.0</td>\n",
       "      <td>2.0</td>\n",
       "      <td>pacific heights</td>\n",
       "      <td>2</td>\n",
       "      <td>0</td>\n",
       "      <td>0</td>\n",
       "      <td>3</td>\n",
       "    </tr>\n",
       "    <tr>\n",
       "      <th>2018</th>\n",
       "      <td>#120 Furnished ONLY Gorgeous, Cozy Junior-One-...</td>\n",
       "      <td>3500</td>\n",
       "      <td>550.0</td>\n",
       "      <td>1.0</td>\n",
       "      <td>1.0</td>\n",
       "      <td>pacific heights</td>\n",
       "      <td>2</td>\n",
       "      <td>3</td>\n",
       "      <td>0</td>\n",
       "      <td>3</td>\n",
       "    </tr>\n",
       "    <tr>\n",
       "      <th>2095</th>\n",
       "      <td>#125 FURNISHED ONLY Beautiful 2BR in Marina</td>\n",
       "      <td>5100</td>\n",
       "      <td>1300.0</td>\n",
       "      <td>2.0</td>\n",
       "      <td>1.0</td>\n",
       "      <td>marina / cow hollow</td>\n",
       "      <td>2</td>\n",
       "      <td>3</td>\n",
       "      <td>0</td>\n",
       "      <td>0</td>\n",
       "    </tr>\n",
       "    <tr>\n",
       "      <th>2015</th>\n",
       "      <td>#132 Furnished ONLY Beautiful Mansion in Heart...</td>\n",
       "      <td>9000</td>\n",
       "      <td>3500.0</td>\n",
       "      <td>3.0</td>\n",
       "      <td>2.5</td>\n",
       "      <td>pacific heights</td>\n",
       "      <td>2</td>\n",
       "      <td>0</td>\n",
       "      <td>0</td>\n",
       "      <td>3</td>\n",
       "    </tr>\n",
       "    <tr>\n",
       "      <th>2013</th>\n",
       "      <td>#158 Furnished ONLY Jr 1 bedroom w/ Parking at...</td>\n",
       "      <td>3100</td>\n",
       "      <td>561.0</td>\n",
       "      <td>1.0</td>\n",
       "      <td>1.0</td>\n",
       "      <td>marina / cow hollow</td>\n",
       "      <td>0</td>\n",
       "      <td>3</td>\n",
       "      <td>0</td>\n",
       "      <td>0</td>\n",
       "    </tr>\n",
       "  </tbody>\n",
       "</table>\n",
       "</div>"
      ],
      "text/plain": [
       "                                                  title  price    sqft  beds  \\\n",
       "1980  #107 Furnished Only Heaven by Views, Luxury, S...   6800  1600.0   2.0   \n",
       "2018  #120 Furnished ONLY Gorgeous, Cozy Junior-One-...   3500   550.0   1.0   \n",
       "2095        #125 FURNISHED ONLY Beautiful 2BR in Marina   5100  1300.0   2.0   \n",
       "2015  #132 Furnished ONLY Beautiful Mansion in Heart...   9000  3500.0   3.0   \n",
       "2013  #158 Furnished ONLY Jr 1 bedroom w/ Parking at...   3100   561.0   1.0   \n",
       "\n",
       "      bath                 hood  laundry  pets  housing_type  parking  \n",
       "1980   2.0      pacific heights        2     0             0        3  \n",
       "2018   1.0      pacific heights        2     3             0        3  \n",
       "2095   1.0  marina / cow hollow        2     3             0        0  \n",
       "2015   2.5      pacific heights        2     0             0        3  \n",
       "2013   1.0  marina / cow hollow        0     3             0        0  "
      ]
     },
     "execution_count": 67,
     "metadata": {},
     "output_type": "execute_result"
    }
   ],
   "source": [
    "sf.head()"
   ]
  },
  {
   "cell_type": "markdown",
   "metadata": {},
   "source": [
    "## Neighborhoods"
   ]
  },
  {
   "cell_type": "code",
   "execution_count": null,
   "metadata": {},
   "outputs": [],
   "source": []
  },
  {
   "cell_type": "code",
   "execution_count": 68,
   "metadata": {
    "ExecuteTime": {
     "end_time": "2020-10-03T00:16:38.157982Z",
     "start_time": "2020-10-03T00:16:38.155406Z"
    }
   },
   "outputs": [],
   "source": [
    "hood_list = list(sf.hood.unique())"
   ]
  },
  {
   "cell_type": "code",
   "execution_count": 69,
   "metadata": {
    "ExecuteTime": {
     "end_time": "2020-10-03T00:16:38.162255Z",
     "start_time": "2020-10-03T00:16:38.159567Z"
    },
    "scrolled": true
   },
   "outputs": [
    {
     "name": "stdout",
     "output_type": "stream",
     "text": [
      "Number of unique neighborhoods provided:  83\n"
     ]
    }
   ],
   "source": [
    "print(\"Number of unique neighborhoods provided: \", len(hood_list))"
   ]
  },
  {
   "cell_type": "markdown",
   "metadata": {},
   "source": [
    "Some of these are NOT in the SF Craigslist location list:"
   ]
  },
  {
   "cell_type": "code",
   "execution_count": 70,
   "metadata": {
    "ExecuteTime": {
     "end_time": "2020-10-03T00:16:38.166843Z",
     "start_time": "2020-10-03T00:16:38.164016Z"
    }
   },
   "outputs": [],
   "source": [
    "cl_locations = ['alamo square / nopa', 'bayview', 'bernal heights', \n",
    "               'castro / upper market', 'cole valley / ashbury hts','downtown / civic / van ness',\n",
    "               'excelsior / outer mission','financial district','glen park','haight ashbury','hayes valley',\n",
    "               'ingleside / SFSU / CCSF','inner richmond','inner sunset / UCSF', 'laurel hts / presidio',\n",
    "               'lower haight','lower nob hill','lower pac hts','marina / cow hollow','mission district',\n",
    "               'nob hill','noe valley','north beach / telegraph hill','pacific heights','portola district',\n",
    "               'potrero hill','richmond / seacliff', 'russian hill','SOMA / south beach','sunset / parkside',\n",
    "               'tenderloin','treasure island','twin peaks / diamond hts','USF / panhandle','visitacion valley',\n",
    "               'west portal / forest hill', 'western addition']"
   ]
  },
  {
   "cell_type": "code",
   "execution_count": 71,
   "metadata": {
    "ExecuteTime": {
     "end_time": "2020-10-03T00:16:38.171259Z",
     "start_time": "2020-10-03T00:16:38.168395Z"
    }
   },
   "outputs": [
    {
     "data": {
      "text/plain": [
       "37"
      ]
     },
     "execution_count": 71,
     "metadata": {},
     "output_type": "execute_result"
    }
   ],
   "source": [
    "len(cl_locations)"
   ]
  },
  {
   "cell_type": "code",
   "execution_count": 72,
   "metadata": {
    "ExecuteTime": {
     "end_time": "2020-10-03T00:16:38.175906Z",
     "start_time": "2020-10-03T00:16:38.172864Z"
    }
   },
   "outputs": [
    {
     "name": "stdout",
     "output_type": "stream",
     "text": [
      "Number of extra hoods:  47\n",
      "[nan, 'Curtis Park (Heart of Sacramento)', 'Mountain View', 'Golden Gate Heights, San Francisco', 'San Francisco/SunnySide', 'San Franciso Richmond District', 'brisbane', 'Mission Bay', 'Mission District', 'Bayview', 'CA', 'San Francisco, CA', '1365 McCandless Drive Milpitas, CA', 'NOPA', 'San Francisco', 'South Park', 'South Beach', 'Hayes Valley', 'Rincon Hill, San Francisco', 'Nob Hill', 'Rincon Hill', 'Cupertino', 'Lower Nob Hill', 'Pacific Heights', 'The Castro', 'North Beach', 'SoMa', 'Fremont', 'Civic Center, Downtown, Van Ness', 'Telegraph Hill', 'Marina District', 'Embarcadero / North Waterfront', 'Lawai, Poipu Adjacent', 'Glen Park', '2026 Beach St, Concord, CA', 'Vallejo', 'San Francisco North Waterfront', 'Daly City', 'Lower Pacific Heights', 'Westlake', 'North Panhandle', 'Eureka Valley', 'SAN FRANCISCO', 'SOMA', 'West Sacramento', 'South of Market', 'Marina']\n"
     ]
    }
   ],
   "source": [
    "extra_hood_count = 0\n",
    "extra_hoods = []\n",
    "\n",
    "for hood in hood_list:\n",
    "    if hood not in cl_locations:\n",
    "        extra_hoods.append(hood)\n",
    "        extra_hood_count += 1\n",
    "        \n",
    "print(\"Number of extra hoods: \", extra_hood_count)\n",
    "print(extra_hoods)        "
   ]
  },
  {
   "cell_type": "markdown",
   "metadata": {},
   "source": [
    "One's not in SF should be dropped. Others that are just unique fields but actually can be mapped to a CL location will be. \n",
    "\n",
    "But also, I need to reduce the number of CL neighborhoods."
   ]
  }
 ],
 "metadata": {
  "kernelspec": {
   "display_name": "Python [conda env:metis] *",
   "language": "python",
   "name": "conda-env-metis-py"
  },
  "language_info": {
   "codemirror_mode": {
    "name": "ipython",
    "version": 3
   },
   "file_extension": ".py",
   "mimetype": "text/x-python",
   "name": "python",
   "nbconvert_exporter": "python",
   "pygments_lexer": "ipython3",
   "version": "3.8.5"
  },
  "toc": {
   "base_numbering": 1,
   "nav_menu": {},
   "number_sections": true,
   "sideBar": true,
   "skip_h1_title": false,
   "title_cell": "Table of Contents",
   "title_sidebar": "Contents",
   "toc_cell": false,
   "toc_position": {},
   "toc_section_display": true,
   "toc_window_display": true
  }
 },
 "nbformat": 4,
 "nbformat_minor": 4
}
