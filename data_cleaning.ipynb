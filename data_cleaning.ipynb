{
 "cells": [
  {
   "cell_type": "markdown",
   "metadata": {},
   "source": [
    "# Data Cleaning"
   ]
  },
  {
   "cell_type": "markdown",
   "metadata": {},
   "source": [
    "**To Do:**\n",
    "- [x] Drop date col\n",
    "- [x] Drop link col\n",
    "- [x] Drop dupes \n",
    "- [ ] BRs: NaN --> 1\n",
    "- [x] BAs: Remove 'Ba' suffix; convert to int\n",
    "    * SplitBa --> 1\n",
    "    * SharedBa --> DROP (means it's not a housing/apt rental\n",
    "- [ ] Hoods: create groups\n",
    "- [ ] Amenities: create groups\n",
    "- [ ] Deal with missing data (esp. sqft) --> *use Median*?\n"
   ]
  },
  {
   "cell_type": "markdown",
   "metadata": {},
   "source": [
    "## Import Data"
   ]
  },
  {
   "cell_type": "code",
   "execution_count": 1,
   "metadata": {
    "ExecuteTime": {
     "end_time": "2020-10-02T17:34:54.936135Z",
     "start_time": "2020-10-02T17:34:54.318754Z"
    }
   },
   "outputs": [],
   "source": [
    "import pandas as pd\n",
    "import numpy as np\n",
    "\n",
    "import matplotlib as plt\n",
    "%matplotlib inline"
   ]
  },
  {
   "cell_type": "code",
   "execution_count": 2,
   "metadata": {
    "ExecuteTime": {
     "end_time": "2020-10-02T17:34:54.957189Z",
     "start_time": "2020-10-02T17:34:54.937867Z"
    }
   },
   "outputs": [],
   "source": [
    "sf_raw = pd.read_csv('raw_sf_scrape.csv')"
   ]
  },
  {
   "cell_type": "code",
   "execution_count": null,
   "metadata": {},
   "outputs": [],
   "source": [
    "sf.info()"
   ]
  },
  {
   "cell_type": "code",
   "execution_count": 3,
   "metadata": {
    "ExecuteTime": {
     "end_time": "2020-10-02T17:34:54.977431Z",
     "start_time": "2020-10-02T17:34:54.962738Z"
    }
   },
   "outputs": [
    {
     "data": {
      "text/html": [
       "<div>\n",
       "<style scoped>\n",
       "    .dataframe tbody tr th:only-of-type {\n",
       "        vertical-align: middle;\n",
       "    }\n",
       "\n",
       "    .dataframe tbody tr th {\n",
       "        vertical-align: top;\n",
       "    }\n",
       "\n",
       "    .dataframe thead th {\n",
       "        text-align: right;\n",
       "    }\n",
       "</style>\n",
       "<table border=\"1\" class=\"dataframe\">\n",
       "  <thead>\n",
       "    <tr style=\"text-align: right;\">\n",
       "      <th></th>\n",
       "      <th>date</th>\n",
       "      <th>title</th>\n",
       "      <th>link</th>\n",
       "      <th>price</th>\n",
       "      <th>brs</th>\n",
       "      <th>sqft</th>\n",
       "      <th>hood</th>\n",
       "      <th>bath</th>\n",
       "      <th>amenities</th>\n",
       "    </tr>\n",
       "  </thead>\n",
       "  <tbody>\n",
       "    <tr>\n",
       "      <th>0</th>\n",
       "      <td>Oct  1</td>\n",
       "      <td>3D Virtual Tour - 2 BR, 2 BA Condo 966 Sq. Ft....</td>\n",
       "      <td>https://sfbay.craigslist.org/sfc/apa/d/san-fra...</td>\n",
       "      <td>3850</td>\n",
       "      <td>2.0</td>\n",
       "      <td>966.0</td>\n",
       "      <td>Mission Bay</td>\n",
       "      <td>2Ba</td>\n",
       "      <td>['condo', 'w/d in unit', 'attached garage']</td>\n",
       "    </tr>\n",
       "    <tr>\n",
       "      <th>1</th>\n",
       "      <td>Oct  1</td>\n",
       "      <td>Beautiful house for rent</td>\n",
       "      <td>https://sfbay.craigslist.org/sfc/apa/d/san-fra...</td>\n",
       "      <td>900</td>\n",
       "      <td>1.0</td>\n",
       "      <td>NaN</td>\n",
       "      <td>portola district</td>\n",
       "      <td>0Ba</td>\n",
       "      <td>['house']</td>\n",
       "    </tr>\n",
       "    <tr>\n",
       "      <th>2</th>\n",
       "      <td>Oct  1</td>\n",
       "      <td>4 BEDROOM APARTMENT IN THE HAIGHT</td>\n",
       "      <td>https://sfbay.craigslist.org/sfc/apa/d/san-fra...</td>\n",
       "      <td>4995</td>\n",
       "      <td>4.0</td>\n",
       "      <td>NaN</td>\n",
       "      <td>haight ashbury</td>\n",
       "      <td>2Ba</td>\n",
       "      <td>['apartment', 'w/d in unit', 'street parking']</td>\n",
       "    </tr>\n",
       "    <tr>\n",
       "      <th>3</th>\n",
       "      <td>Oct  1</td>\n",
       "      <td>4 BEDROOM APARTMENT IN THE HAIGHT</td>\n",
       "      <td>https://sfbay.craigslist.org/sfc/apa/d/san-fra...</td>\n",
       "      <td>4995</td>\n",
       "      <td>4.0</td>\n",
       "      <td>NaN</td>\n",
       "      <td>haight ashbury</td>\n",
       "      <td>2Ba</td>\n",
       "      <td>['apartment', 'w/d in unit', 'street parking']</td>\n",
       "    </tr>\n",
       "    <tr>\n",
       "      <th>4</th>\n",
       "      <td>Oct  1</td>\n",
       "      <td>ENJOY GOLDEN GATE PARK EVERYDAY</td>\n",
       "      <td>https://sfbay.craigslist.org/sfc/apa/d/san-fra...</td>\n",
       "      <td>2800</td>\n",
       "      <td>2.0</td>\n",
       "      <td>700.0</td>\n",
       "      <td>USF / panhandle</td>\n",
       "      <td>1Ba</td>\n",
       "      <td>['apartment', 'laundry in bldg', 'no smoking',...</td>\n",
       "    </tr>\n",
       "  </tbody>\n",
       "</table>\n",
       "</div>"
      ],
      "text/plain": [
       "     date                                              title  \\\n",
       "0  Oct  1  3D Virtual Tour - 2 BR, 2 BA Condo 966 Sq. Ft....   \n",
       "1  Oct  1                           Beautiful house for rent   \n",
       "2  Oct  1                  4 BEDROOM APARTMENT IN THE HAIGHT   \n",
       "3  Oct  1                  4 BEDROOM APARTMENT IN THE HAIGHT   \n",
       "4  Oct  1                    ENJOY GOLDEN GATE PARK EVERYDAY   \n",
       "\n",
       "                                                link  price  brs   sqft  \\\n",
       "0  https://sfbay.craigslist.org/sfc/apa/d/san-fra...   3850  2.0  966.0   \n",
       "1  https://sfbay.craigslist.org/sfc/apa/d/san-fra...    900  1.0    NaN   \n",
       "2  https://sfbay.craigslist.org/sfc/apa/d/san-fra...   4995  4.0    NaN   \n",
       "3  https://sfbay.craigslist.org/sfc/apa/d/san-fra...   4995  4.0    NaN   \n",
       "4  https://sfbay.craigslist.org/sfc/apa/d/san-fra...   2800  2.0  700.0   \n",
       "\n",
       "               hood bath                                          amenities  \n",
       "0       Mission Bay  2Ba        ['condo', 'w/d in unit', 'attached garage']  \n",
       "1  portola district  0Ba                                          ['house']  \n",
       "2    haight ashbury  2Ba     ['apartment', 'w/d in unit', 'street parking']  \n",
       "3    haight ashbury  2Ba     ['apartment', 'w/d in unit', 'street parking']  \n",
       "4   USF / panhandle  1Ba  ['apartment', 'laundry in bldg', 'no smoking',...  "
      ]
     },
     "execution_count": 3,
     "metadata": {},
     "output_type": "execute_result"
    }
   ],
   "source": [
    "sf_raw.head()"
   ]
  },
  {
   "cell_type": "code",
   "execution_count": 4,
   "metadata": {
    "ExecuteTime": {
     "end_time": "2020-10-02T17:34:54.991483Z",
     "start_time": "2020-10-02T17:34:54.979425Z"
    }
   },
   "outputs": [
    {
     "data": {
      "text/html": [
       "<div>\n",
       "<style scoped>\n",
       "    .dataframe tbody tr th:only-of-type {\n",
       "        vertical-align: middle;\n",
       "    }\n",
       "\n",
       "    .dataframe tbody tr th {\n",
       "        vertical-align: top;\n",
       "    }\n",
       "\n",
       "    .dataframe thead th {\n",
       "        text-align: right;\n",
       "    }\n",
       "</style>\n",
       "<table border=\"1\" class=\"dataframe\">\n",
       "  <thead>\n",
       "    <tr style=\"text-align: right;\">\n",
       "      <th></th>\n",
       "      <th>date</th>\n",
       "      <th>title</th>\n",
       "      <th>link</th>\n",
       "      <th>price</th>\n",
       "      <th>brs</th>\n",
       "      <th>sqft</th>\n",
       "      <th>hood</th>\n",
       "      <th>bath</th>\n",
       "      <th>amenities</th>\n",
       "    </tr>\n",
       "  </thead>\n",
       "  <tbody>\n",
       "    <tr>\n",
       "      <th>3088</th>\n",
       "      <td>Sep 30</td>\n",
       "      <td>1 Month Free Rent: Massive Modern Luxury Studio</td>\n",
       "      <td>https://sfbay.craigslist.org/sfc/apa/d/san-fra...</td>\n",
       "      <td>1948</td>\n",
       "      <td>NaN</td>\n",
       "      <td>500.0</td>\n",
       "      <td>SOMA / south beach</td>\n",
       "      <td>1Ba</td>\n",
       "      <td>['application fee details: $30 application fee...</td>\n",
       "    </tr>\n",
       "    <tr>\n",
       "      <th>3089</th>\n",
       "      <td>Sep 30</td>\n",
       "      <td>1 Month Free Rent: Massive Modern Luxury Studio</td>\n",
       "      <td>https://sfbay.craigslist.org/sfc/apa/d/san-fra...</td>\n",
       "      <td>1948</td>\n",
       "      <td>NaN</td>\n",
       "      <td>500.0</td>\n",
       "      <td>downtown / civic / van ness</td>\n",
       "      <td>1Ba</td>\n",
       "      <td>['application fee details: $30 application fee...</td>\n",
       "    </tr>\n",
       "    <tr>\n",
       "      <th>3090</th>\n",
       "      <td>Sep 30</td>\n",
       "      <td>Large, Beautiful Classic Victorian 1bd/1ba</td>\n",
       "      <td>https://sfbay.craigslist.org/sfc/apa/d/san-fra...</td>\n",
       "      <td>3395</td>\n",
       "      <td>1.0</td>\n",
       "      <td>800.0</td>\n",
       "      <td>laurel hts / presidio</td>\n",
       "      <td>1Ba</td>\n",
       "      <td>['apartment', 'laundry in bldg']</td>\n",
       "    </tr>\n",
       "    <tr>\n",
       "      <th>3091</th>\n",
       "      <td>Sep 30</td>\n",
       "      <td>3 bedroom in Nopa with Private Deck (Top Floor)</td>\n",
       "      <td>https://sfbay.craigslist.org/sfc/apa/d/san-fra...</td>\n",
       "      <td>4995</td>\n",
       "      <td>3.0</td>\n",
       "      <td>1500.0</td>\n",
       "      <td>alamo square / nopa</td>\n",
       "      <td>2Ba</td>\n",
       "      <td>['cats are OK - purrr', 'dogs are OK - wooof',...</td>\n",
       "    </tr>\n",
       "    <tr>\n",
       "      <th>3092</th>\n",
       "      <td>Sep 30</td>\n",
       "      <td>Private 1 bed/1 bath/1 kitchen in-law unit ava...</td>\n",
       "      <td>https://sfbay.craigslist.org/sfc/apa/d/san-fra...</td>\n",
       "      <td>1795</td>\n",
       "      <td>1.0</td>\n",
       "      <td>300.0</td>\n",
       "      <td>ingleside / SFSU / CCSF</td>\n",
       "      <td>1Ba</td>\n",
       "      <td>['cats are OK - purrr', 'dogs are OK - wooof',...</td>\n",
       "    </tr>\n",
       "  </tbody>\n",
       "</table>\n",
       "</div>"
      ],
      "text/plain": [
       "        date                                              title  \\\n",
       "3088  Sep 30    1 Month Free Rent: Massive Modern Luxury Studio   \n",
       "3089  Sep 30    1 Month Free Rent: Massive Modern Luxury Studio   \n",
       "3090  Sep 30         Large, Beautiful Classic Victorian 1bd/1ba   \n",
       "3091  Sep 30    3 bedroom in Nopa with Private Deck (Top Floor)   \n",
       "3092  Sep 30  Private 1 bed/1 bath/1 kitchen in-law unit ava...   \n",
       "\n",
       "                                                   link  price  brs    sqft  \\\n",
       "3088  https://sfbay.craigslist.org/sfc/apa/d/san-fra...   1948  NaN   500.0   \n",
       "3089  https://sfbay.craigslist.org/sfc/apa/d/san-fra...   1948  NaN   500.0   \n",
       "3090  https://sfbay.craigslist.org/sfc/apa/d/san-fra...   3395  1.0   800.0   \n",
       "3091  https://sfbay.craigslist.org/sfc/apa/d/san-fra...   4995  3.0  1500.0   \n",
       "3092  https://sfbay.craigslist.org/sfc/apa/d/san-fra...   1795  1.0   300.0   \n",
       "\n",
       "                             hood bath  \\\n",
       "3088           SOMA / south beach  1Ba   \n",
       "3089  downtown / civic / van ness  1Ba   \n",
       "3090        laurel hts / presidio  1Ba   \n",
       "3091          alamo square / nopa  2Ba   \n",
       "3092      ingleside / SFSU / CCSF  1Ba   \n",
       "\n",
       "                                              amenities  \n",
       "3088  ['application fee details: $30 application fee...  \n",
       "3089  ['application fee details: $30 application fee...  \n",
       "3090                   ['apartment', 'laundry in bldg']  \n",
       "3091  ['cats are OK - purrr', 'dogs are OK - wooof',...  \n",
       "3092  ['cats are OK - purrr', 'dogs are OK - wooof',...  "
      ]
     },
     "execution_count": 4,
     "metadata": {},
     "output_type": "execute_result"
    }
   ],
   "source": [
    "sf_raw.tail()"
   ]
  },
  {
   "cell_type": "code",
   "execution_count": 5,
   "metadata": {
    "ExecuteTime": {
     "end_time": "2020-10-02T17:34:54.996276Z",
     "start_time": "2020-10-02T17:34:54.993282Z"
    }
   },
   "outputs": [
    {
     "data": {
      "text/plain": [
       "3093"
      ]
     },
     "execution_count": 5,
     "metadata": {},
     "output_type": "execute_result"
    }
   ],
   "source": [
    "len(sf_raw)"
   ]
  },
  {
   "cell_type": "markdown",
   "metadata": {},
   "source": [
    "## Dealing with duplicate listings"
   ]
  },
  {
   "cell_type": "code",
   "execution_count": 6,
   "metadata": {
    "ExecuteTime": {
     "end_time": "2020-10-02T17:34:55.001150Z",
     "start_time": "2020-10-02T17:34:54.997872Z"
    }
   },
   "outputs": [],
   "source": [
    "sf = sf_raw.drop(['date', 'link'], axis=1)"
   ]
  },
  {
   "cell_type": "code",
   "execution_count": 7,
   "metadata": {
    "ExecuteTime": {
     "end_time": "2020-10-02T17:34:55.017107Z",
     "start_time": "2020-10-02T17:34:55.004247Z"
    },
    "scrolled": true
   },
   "outputs": [
    {
     "data": {
      "text/html": [
       "<div>\n",
       "<style scoped>\n",
       "    .dataframe tbody tr th:only-of-type {\n",
       "        vertical-align: middle;\n",
       "    }\n",
       "\n",
       "    .dataframe tbody tr th {\n",
       "        vertical-align: top;\n",
       "    }\n",
       "\n",
       "    .dataframe thead th {\n",
       "        text-align: right;\n",
       "    }\n",
       "</style>\n",
       "<table border=\"1\" class=\"dataframe\">\n",
       "  <thead>\n",
       "    <tr style=\"text-align: right;\">\n",
       "      <th></th>\n",
       "      <th>title</th>\n",
       "      <th>price</th>\n",
       "      <th>brs</th>\n",
       "      <th>sqft</th>\n",
       "      <th>hood</th>\n",
       "      <th>bath</th>\n",
       "      <th>amenities</th>\n",
       "    </tr>\n",
       "  </thead>\n",
       "  <tbody>\n",
       "    <tr>\n",
       "      <th>0</th>\n",
       "      <td>3D Virtual Tour - 2 BR, 2 BA Condo 966 Sq. Ft....</td>\n",
       "      <td>3850</td>\n",
       "      <td>2.0</td>\n",
       "      <td>966.0</td>\n",
       "      <td>Mission Bay</td>\n",
       "      <td>2Ba</td>\n",
       "      <td>['condo', 'w/d in unit', 'attached garage']</td>\n",
       "    </tr>\n",
       "    <tr>\n",
       "      <th>1</th>\n",
       "      <td>Beautiful house for rent</td>\n",
       "      <td>900</td>\n",
       "      <td>1.0</td>\n",
       "      <td>NaN</td>\n",
       "      <td>portola district</td>\n",
       "      <td>0Ba</td>\n",
       "      <td>['house']</td>\n",
       "    </tr>\n",
       "    <tr>\n",
       "      <th>2</th>\n",
       "      <td>4 BEDROOM APARTMENT IN THE HAIGHT</td>\n",
       "      <td>4995</td>\n",
       "      <td>4.0</td>\n",
       "      <td>NaN</td>\n",
       "      <td>haight ashbury</td>\n",
       "      <td>2Ba</td>\n",
       "      <td>['apartment', 'w/d in unit', 'street parking']</td>\n",
       "    </tr>\n",
       "    <tr>\n",
       "      <th>3</th>\n",
       "      <td>4 BEDROOM APARTMENT IN THE HAIGHT</td>\n",
       "      <td>4995</td>\n",
       "      <td>4.0</td>\n",
       "      <td>NaN</td>\n",
       "      <td>haight ashbury</td>\n",
       "      <td>2Ba</td>\n",
       "      <td>['apartment', 'w/d in unit', 'street parking']</td>\n",
       "    </tr>\n",
       "    <tr>\n",
       "      <th>4</th>\n",
       "      <td>ENJOY GOLDEN GATE PARK EVERYDAY</td>\n",
       "      <td>2800</td>\n",
       "      <td>2.0</td>\n",
       "      <td>700.0</td>\n",
       "      <td>USF / panhandle</td>\n",
       "      <td>1Ba</td>\n",
       "      <td>['apartment', 'laundry in bldg', 'no smoking',...</td>\n",
       "    </tr>\n",
       "  </tbody>\n",
       "</table>\n",
       "</div>"
      ],
      "text/plain": [
       "                                               title  price  brs   sqft  \\\n",
       "0  3D Virtual Tour - 2 BR, 2 BA Condo 966 Sq. Ft....   3850  2.0  966.0   \n",
       "1                           Beautiful house for rent    900  1.0    NaN   \n",
       "2                  4 BEDROOM APARTMENT IN THE HAIGHT   4995  4.0    NaN   \n",
       "3                  4 BEDROOM APARTMENT IN THE HAIGHT   4995  4.0    NaN   \n",
       "4                    ENJOY GOLDEN GATE PARK EVERYDAY   2800  2.0  700.0   \n",
       "\n",
       "               hood bath                                          amenities  \n",
       "0       Mission Bay  2Ba        ['condo', 'w/d in unit', 'attached garage']  \n",
       "1  portola district  0Ba                                          ['house']  \n",
       "2    haight ashbury  2Ba     ['apartment', 'w/d in unit', 'street parking']  \n",
       "3    haight ashbury  2Ba     ['apartment', 'w/d in unit', 'street parking']  \n",
       "4   USF / panhandle  1Ba  ['apartment', 'laundry in bldg', 'no smoking',...  "
      ]
     },
     "execution_count": 7,
     "metadata": {},
     "output_type": "execute_result"
    }
   ],
   "source": [
    "sf.head()"
   ]
  },
  {
   "cell_type": "code",
   "execution_count": 8,
   "metadata": {
    "ExecuteTime": {
     "end_time": "2020-10-02T17:34:55.028834Z",
     "start_time": "2020-10-02T17:34:55.021864Z"
    }
   },
   "outputs": [],
   "source": [
    "sf.sort_values('title', inplace=True)"
   ]
  },
  {
   "cell_type": "code",
   "execution_count": 9,
   "metadata": {
    "ExecuteTime": {
     "end_time": "2020-10-02T17:34:55.040605Z",
     "start_time": "2020-10-02T17:34:55.030660Z"
    },
    "scrolled": true
   },
   "outputs": [
    {
     "data": {
      "text/html": [
       "<div>\n",
       "<style scoped>\n",
       "    .dataframe tbody tr th:only-of-type {\n",
       "        vertical-align: middle;\n",
       "    }\n",
       "\n",
       "    .dataframe tbody tr th {\n",
       "        vertical-align: top;\n",
       "    }\n",
       "\n",
       "    .dataframe thead th {\n",
       "        text-align: right;\n",
       "    }\n",
       "</style>\n",
       "<table border=\"1\" class=\"dataframe\">\n",
       "  <thead>\n",
       "    <tr style=\"text-align: right;\">\n",
       "      <th></th>\n",
       "      <th>title</th>\n",
       "      <th>price</th>\n",
       "      <th>brs</th>\n",
       "      <th>sqft</th>\n",
       "      <th>hood</th>\n",
       "      <th>bath</th>\n",
       "      <th>amenities</th>\n",
       "    </tr>\n",
       "  </thead>\n",
       "  <tbody>\n",
       "    <tr>\n",
       "      <th>2240</th>\n",
       "      <td>\"INCENTIVE\" 2 BR + Bonus Room(Office/Den) - DU...</td>\n",
       "      <td>3400</td>\n",
       "      <td>2.0</td>\n",
       "      <td>NaN</td>\n",
       "      <td>castro / upper market</td>\n",
       "      <td>1Ba</td>\n",
       "      <td>['application fee details: $30 Per Applicant',...</td>\n",
       "    </tr>\n",
       "    <tr>\n",
       "      <th>2243</th>\n",
       "      <td>\"INCENTIVE\" 2 BR + Bonus Room(Office/Den) - DU...</td>\n",
       "      <td>3400</td>\n",
       "      <td>2.0</td>\n",
       "      <td>NaN</td>\n",
       "      <td>castro / upper market</td>\n",
       "      <td>1Ba</td>\n",
       "      <td>['application fee details: $30 Per Applicant',...</td>\n",
       "    </tr>\n",
       "    <tr>\n",
       "      <th>2245</th>\n",
       "      <td>\"INCENTIVE\" IN THE HEART OF THE DUBOCE TRIANGLE</td>\n",
       "      <td>3700</td>\n",
       "      <td>3.0</td>\n",
       "      <td>NaN</td>\n",
       "      <td>castro / upper market</td>\n",
       "      <td>1Ba</td>\n",
       "      <td>['application fee details: $30 Per Applicant',...</td>\n",
       "    </tr>\n",
       "  </tbody>\n",
       "</table>\n",
       "</div>"
      ],
      "text/plain": [
       "                                                  title  price  brs  sqft  \\\n",
       "2240  \"INCENTIVE\" 2 BR + Bonus Room(Office/Den) - DU...   3400  2.0   NaN   \n",
       "2243  \"INCENTIVE\" 2 BR + Bonus Room(Office/Den) - DU...   3400  2.0   NaN   \n",
       "2245    \"INCENTIVE\" IN THE HEART OF THE DUBOCE TRIANGLE   3700  3.0   NaN   \n",
       "\n",
       "                       hood bath  \\\n",
       "2240  castro / upper market  1Ba   \n",
       "2243  castro / upper market  1Ba   \n",
       "2245  castro / upper market  1Ba   \n",
       "\n",
       "                                              amenities  \n",
       "2240  ['application fee details: $30 Per Applicant',...  \n",
       "2243  ['application fee details: $30 Per Applicant',...  \n",
       "2245  ['application fee details: $30 Per Applicant',...  "
      ]
     },
     "execution_count": 9,
     "metadata": {},
     "output_type": "execute_result"
    }
   ],
   "source": [
    "sf.head(3)"
   ]
  },
  {
   "cell_type": "code",
   "execution_count": 10,
   "metadata": {
    "ExecuteTime": {
     "end_time": "2020-10-02T17:34:55.050184Z",
     "start_time": "2020-10-02T17:34:55.042120Z"
    }
   },
   "outputs": [],
   "source": [
    "sf.drop_duplicates(keep=False, inplace=True)"
   ]
  },
  {
   "cell_type": "code",
   "execution_count": 11,
   "metadata": {
    "ExecuteTime": {
     "end_time": "2020-10-02T17:34:55.064196Z",
     "start_time": "2020-10-02T17:34:55.051634Z"
    }
   },
   "outputs": [
    {
     "data": {
      "text/html": [
       "<div>\n",
       "<style scoped>\n",
       "    .dataframe tbody tr th:only-of-type {\n",
       "        vertical-align: middle;\n",
       "    }\n",
       "\n",
       "    .dataframe tbody tr th {\n",
       "        vertical-align: top;\n",
       "    }\n",
       "\n",
       "    .dataframe thead th {\n",
       "        text-align: right;\n",
       "    }\n",
       "</style>\n",
       "<table border=\"1\" class=\"dataframe\">\n",
       "  <thead>\n",
       "    <tr style=\"text-align: right;\">\n",
       "      <th></th>\n",
       "      <th>title</th>\n",
       "      <th>price</th>\n",
       "      <th>brs</th>\n",
       "      <th>sqft</th>\n",
       "      <th>hood</th>\n",
       "      <th>bath</th>\n",
       "      <th>amenities</th>\n",
       "    </tr>\n",
       "  </thead>\n",
       "  <tbody>\n",
       "    <tr>\n",
       "      <th>2245</th>\n",
       "      <td>\"INCENTIVE\" IN THE HEART OF THE DUBOCE TRIANGLE</td>\n",
       "      <td>3700</td>\n",
       "      <td>3.0</td>\n",
       "      <td>NaN</td>\n",
       "      <td>castro / upper market</td>\n",
       "      <td>1Ba</td>\n",
       "      <td>['application fee details: $30 Per Applicant',...</td>\n",
       "    </tr>\n",
       "    <tr>\n",
       "      <th>1980</th>\n",
       "      <td>#107 Furnished Only Heaven by Views, Luxury, S...</td>\n",
       "      <td>6800</td>\n",
       "      <td>2.0</td>\n",
       "      <td>1600.0</td>\n",
       "      <td>pacific heights</td>\n",
       "      <td>2Ba</td>\n",
       "      <td>['furnished', 'apartment', 'w/d in unit', 'no ...</td>\n",
       "    </tr>\n",
       "    <tr>\n",
       "      <th>2018</th>\n",
       "      <td>#120 Furnished ONLY Gorgeous, Cozy Junior-One-...</td>\n",
       "      <td>3500</td>\n",
       "      <td>1.0</td>\n",
       "      <td>550.0</td>\n",
       "      <td>pacific heights</td>\n",
       "      <td>1Ba</td>\n",
       "      <td>['cats are OK - purrr', 'dogs are OK - wooof',...</td>\n",
       "    </tr>\n",
       "    <tr>\n",
       "      <th>2095</th>\n",
       "      <td>#125 FURNISHED ONLY Beautiful 2BR in Marina</td>\n",
       "      <td>5100</td>\n",
       "      <td>2.0</td>\n",
       "      <td>1300.0</td>\n",
       "      <td>marina / cow hollow</td>\n",
       "      <td>1Ba</td>\n",
       "      <td>['EV charging', 'cats are OK - purrr', 'dogs a...</td>\n",
       "    </tr>\n",
       "    <tr>\n",
       "      <th>2015</th>\n",
       "      <td>#132 Furnished ONLY Beautiful Mansion in Heart...</td>\n",
       "      <td>9000</td>\n",
       "      <td>3.0</td>\n",
       "      <td>3500.0</td>\n",
       "      <td>pacific heights</td>\n",
       "      <td>2.5Ba</td>\n",
       "      <td>['furnished', 'apartment', 'w/d in unit', 'no ...</td>\n",
       "    </tr>\n",
       "  </tbody>\n",
       "</table>\n",
       "</div>"
      ],
      "text/plain": [
       "                                                  title  price  brs    sqft  \\\n",
       "2245    \"INCENTIVE\" IN THE HEART OF THE DUBOCE TRIANGLE   3700  3.0     NaN   \n",
       "1980  #107 Furnished Only Heaven by Views, Luxury, S...   6800  2.0  1600.0   \n",
       "2018  #120 Furnished ONLY Gorgeous, Cozy Junior-One-...   3500  1.0   550.0   \n",
       "2095        #125 FURNISHED ONLY Beautiful 2BR in Marina   5100  2.0  1300.0   \n",
       "2015  #132 Furnished ONLY Beautiful Mansion in Heart...   9000  3.0  3500.0   \n",
       "\n",
       "                       hood   bath  \\\n",
       "2245  castro / upper market    1Ba   \n",
       "1980        pacific heights    2Ba   \n",
       "2018        pacific heights    1Ba   \n",
       "2095    marina / cow hollow    1Ba   \n",
       "2015        pacific heights  2.5Ba   \n",
       "\n",
       "                                              amenities  \n",
       "2245  ['application fee details: $30 Per Applicant',...  \n",
       "1980  ['furnished', 'apartment', 'w/d in unit', 'no ...  \n",
       "2018  ['cats are OK - purrr', 'dogs are OK - wooof',...  \n",
       "2095  ['EV charging', 'cats are OK - purrr', 'dogs a...  \n",
       "2015  ['furnished', 'apartment', 'w/d in unit', 'no ...  "
      ]
     },
     "execution_count": 11,
     "metadata": {},
     "output_type": "execute_result"
    }
   ],
   "source": [
    "sf.head()"
   ]
  },
  {
   "cell_type": "code",
   "execution_count": 12,
   "metadata": {
    "ExecuteTime": {
     "end_time": "2020-10-02T17:34:55.070717Z",
     "start_time": "2020-10-02T17:34:55.066832Z"
    }
   },
   "outputs": [
    {
     "data": {
      "text/plain": [
       "2461"
      ]
     },
     "execution_count": 12,
     "metadata": {},
     "output_type": "execute_result"
    }
   ],
   "source": [
    "len(sf)"
   ]
  },
  {
   "cell_type": "markdown",
   "metadata": {},
   "source": [
    "## Price: data type conversion to integer"
   ]
  },
  {
   "cell_type": "code",
   "execution_count": 13,
   "metadata": {
    "ExecuteTime": {
     "end_time": "2020-10-02T17:34:55.076705Z",
     "start_time": "2020-10-02T17:34:55.072928Z"
    }
   },
   "outputs": [],
   "source": [
    "sf.price = sf.price.astype(int)"
   ]
  },
  {
   "cell_type": "code",
   "execution_count": 14,
   "metadata": {
    "ExecuteTime": {
     "end_time": "2020-10-02T17:34:55.084883Z",
     "start_time": "2020-10-02T17:34:55.078979Z"
    }
   },
   "outputs": [
    {
     "data": {
      "text/plain": [
       "title         object\n",
       "price          int64\n",
       "brs          float64\n",
       "sqft         float64\n",
       "hood          object\n",
       "bath          object\n",
       "amenities     object\n",
       "dtype: object"
      ]
     },
     "execution_count": 14,
     "metadata": {},
     "output_type": "execute_result"
    }
   ],
   "source": [
    "sf.dtypes"
   ]
  },
  {
   "cell_type": "markdown",
   "metadata": {},
   "source": [
    "## Cleaning Bathrooms"
   ]
  },
  {
   "cell_type": "code",
   "execution_count": 15,
   "metadata": {
    "ExecuteTime": {
     "end_time": "2020-10-02T17:34:55.090701Z",
     "start_time": "2020-10-02T17:34:55.086457Z"
    },
    "scrolled": true
   },
   "outputs": [
    {
     "data": {
      "text/plain": [
       "array(['1Ba', '2Ba', '2.5Ba', nan, '3.5Ba', 'sharedBa', '0Ba', '3Ba',\n",
       "       '1.5Ba', 'splitBa', '4Ba', '5.5Ba', '4.5Ba'], dtype=object)"
      ]
     },
     "execution_count": 15,
     "metadata": {},
     "output_type": "execute_result"
    }
   ],
   "source": [
    "sf.bath.unique()"
   ]
  },
  {
   "cell_type": "code",
   "execution_count": 16,
   "metadata": {
    "ExecuteTime": {
     "end_time": "2020-10-02T17:34:55.095694Z",
     "start_time": "2020-10-02T17:34:55.092237Z"
    }
   },
   "outputs": [],
   "source": [
    "shared_baths = sf_raw[(sf_raw.bath == 'sharedBa')]\n",
    "\n",
    "shared_baths_links = list(shared_baths.link)"
   ]
  },
  {
   "cell_type": "code",
   "execution_count": 17,
   "metadata": {
    "ExecuteTime": {
     "end_time": "2020-10-02T17:34:55.100397Z",
     "start_time": "2020-10-02T17:34:55.097384Z"
    }
   },
   "outputs": [
    {
     "data": {
      "text/plain": [
       "15"
      ]
     },
     "execution_count": 17,
     "metadata": {},
     "output_type": "execute_result"
    }
   ],
   "source": [
    "# number of listings with shared bath\n",
    "len(shared_baths)"
   ]
  },
  {
   "cell_type": "code",
   "execution_count": 18,
   "metadata": {
    "ExecuteTime": {
     "end_time": "2020-10-02T17:34:55.105928Z",
     "start_time": "2020-10-02T17:34:55.102123Z"
    }
   },
   "outputs": [
    {
     "name": "stdout",
     "output_type": "stream",
     "text": [
      "https://sfbay.craigslist.org/sfc/apa/d/san-francisco-spoons-when-all-you-need/7206516011.html\n",
      "\n",
      "https://sfbay.craigslist.org/sfc/apa/d/excelente-oportunidad-centrico-sf/7206512351.html\n",
      "\n",
      "https://sfbay.craigslist.org/sfc/apa/d/san-francisco-fabulous-mission-studio/7200480477.html\n",
      "\n",
      "https://sfbay.craigslist.org/sfc/apa/d/1400-private-rm-not-share-for-rent/7205302134.html\n",
      "\n",
      "https://sfbay.craigslist.org/sfc/apa/d/best-room-rate-in-north-beach/7203890620.html\n",
      "\n"
     ]
    }
   ],
   "source": [
    "# Investigating a few links\n",
    "for link in shared_baths_links[:5]:\n",
    "    print(link)\n",
    "    print(\"\")"
   ]
  },
  {
   "cell_type": "markdown",
   "metadata": {},
   "source": [
    "Upon inspection, listings with `sharedBa` are not full apartment/housing options -- they are a shared living arrangement and should be dropped."
   ]
  },
  {
   "cell_type": "code",
   "execution_count": 19,
   "metadata": {
    "ExecuteTime": {
     "end_time": "2020-10-02T17:34:55.111601Z",
     "start_time": "2020-10-02T17:34:55.108022Z"
    }
   },
   "outputs": [],
   "source": [
    "sf = sf[sf.bath != 'sharedBa']"
   ]
  },
  {
   "cell_type": "code",
   "execution_count": 20,
   "metadata": {
    "ExecuteTime": {
     "end_time": "2020-10-02T17:34:55.117100Z",
     "start_time": "2020-10-02T17:34:55.113412Z"
    }
   },
   "outputs": [
    {
     "data": {
      "text/plain": [
       "array(['1Ba', '2Ba', '2.5Ba', nan, '3.5Ba', '0Ba', '3Ba', '1.5Ba',\n",
       "       'splitBa', '4Ba', '5.5Ba', '4.5Ba'], dtype=object)"
      ]
     },
     "execution_count": 20,
     "metadata": {},
     "output_type": "execute_result"
    }
   ],
   "source": [
    "sf.bath.unique()"
   ]
  },
  {
   "cell_type": "markdown",
   "metadata": {},
   "source": [
    "`splitBa` means it has a private bathroom, but sink and toilet/shower are just separate -- these will be converted to 1."
   ]
  },
  {
   "cell_type": "code",
   "execution_count": 21,
   "metadata": {
    "ExecuteTime": {
     "end_time": "2020-10-02T17:34:55.122802Z",
     "start_time": "2020-10-02T17:34:55.118886Z"
    }
   },
   "outputs": [],
   "source": [
    "sf['bath'] = sf['bath'].replace('splitBa', '1Ba')"
   ]
  },
  {
   "cell_type": "code",
   "execution_count": 22,
   "metadata": {
    "ExecuteTime": {
     "end_time": "2020-10-02T17:34:55.134795Z",
     "start_time": "2020-10-02T17:34:55.130482Z"
    },
    "scrolled": true
   },
   "outputs": [
    {
     "data": {
      "text/plain": [
       "array(['1Ba', '2Ba', '2.5Ba', nan, '3.5Ba', '0Ba', '3Ba', '1.5Ba', '4Ba',\n",
       "       '5.5Ba', '4.5Ba'], dtype=object)"
      ]
     },
     "execution_count": 22,
     "metadata": {},
     "output_type": "execute_result"
    }
   ],
   "source": [
    "sf.bath.unique()"
   ]
  },
  {
   "cell_type": "markdown",
   "metadata": {},
   "source": [
    "What about `nan` and `0Ba`? "
   ]
  },
  {
   "cell_type": "code",
   "execution_count": 23,
   "metadata": {
    "ExecuteTime": {
     "end_time": "2020-10-02T17:34:55.142792Z",
     "start_time": "2020-10-02T17:34:55.137529Z"
    }
   },
   "outputs": [
    {
     "data": {
      "text/plain": [
       "9"
      ]
     },
     "execution_count": 23,
     "metadata": {},
     "output_type": "execute_result"
    }
   ],
   "source": [
    "missing_bath_info = sf_raw[(sf_raw.bath == np.nan) | \n",
    "                          (sf_raw.bath == '0Ba')]\n",
    "\n",
    "len(missing_bath_info)"
   ]
  },
  {
   "cell_type": "code",
   "execution_count": 24,
   "metadata": {
    "ExecuteTime": {
     "end_time": "2020-10-02T17:34:55.148500Z",
     "start_time": "2020-10-02T17:34:55.144793Z"
    }
   },
   "outputs": [
    {
     "name": "stdout",
     "output_type": "stream",
     "text": [
      "https://sfbay.craigslist.org/sfc/apa/d/san-francisco-beautiful-house-for-rent/7206621152.html\n",
      "\n",
      "https://sfbay.craigslist.org/sfc/apa/d/san-francisco-sunny-victorian-flat/7206563979.html\n",
      "\n",
      "https://sfbay.craigslist.org/sfc/apa/d/san-francisco-two-bedroom-1200-sq-ft/7206561289.html\n",
      "\n",
      "https://sfbay.craigslist.org/sfc/apa/d/san-francisco-airy-bright-marina-1br/7206542254.html\n",
      "\n",
      "https://sfbay.craigslist.org/sfc/apa/d/san-francisco-7th-floor-corner-jr-1-bd/7191572212.html\n",
      "\n",
      "https://sfbay.craigslist.org/sfc/apa/d/san-francisco-2847-turk-street-san/7201729219.html\n",
      "\n",
      "https://sfbay.craigslist.org/sfc/apa/d/san-francisco-live-work-space-in-modern/7197876630.html\n",
      "\n",
      "https://sfbay.craigslist.org/sfc/apa/d/huge-1-bed-hardwood-gas-eat-in-kit/7206260644.html\n",
      "\n",
      "https://sfbay.craigslist.org/sfc/apa/d/san-francisco-bed-1bathh-wd-free/7206132572.html\n",
      "\n"
     ]
    }
   ],
   "source": [
    "for link in missing_bath_info.link:\n",
    "    print(link)\n",
    "    print('')"
   ]
  },
  {
   "cell_type": "markdown",
   "metadata": {},
   "source": [
    "These all have 1 bathroom - so these values will be converted to `1`"
   ]
  },
  {
   "cell_type": "code",
   "execution_count": 25,
   "metadata": {
    "ExecuteTime": {
     "end_time": "2020-10-02T17:34:55.155296Z",
     "start_time": "2020-10-02T17:34:55.151295Z"
    }
   },
   "outputs": [],
   "source": [
    "sf['bath'] = sf['bath'].replace(np.nan, '1Ba')\n",
    "sf['bath'] = sf['bath'].replace('0Ba', '1Ba')"
   ]
  },
  {
   "cell_type": "code",
   "execution_count": 26,
   "metadata": {
    "ExecuteTime": {
     "end_time": "2020-10-02T17:34:55.160259Z",
     "start_time": "2020-10-02T17:34:55.156845Z"
    },
    "scrolled": true
   },
   "outputs": [
    {
     "data": {
      "text/plain": [
       "array(['1Ba', '2Ba', '2.5Ba', '3.5Ba', '3Ba', '1.5Ba', '4Ba', '5.5Ba',\n",
       "       '4.5Ba'], dtype=object)"
      ]
     },
     "execution_count": 26,
     "metadata": {},
     "output_type": "execute_result"
    }
   ],
   "source": [
    "sf.bath.unique()"
   ]
  },
  {
   "cell_type": "markdown",
   "metadata": {},
   "source": [
    "Now to take care of the 'Ba' suffix and convert everything to a float"
   ]
  },
  {
   "cell_type": "code",
   "execution_count": 27,
   "metadata": {
    "ExecuteTime": {
     "end_time": "2020-10-02T17:34:55.167594Z",
     "start_time": "2020-10-02T17:34:55.162125Z"
    }
   },
   "outputs": [],
   "source": [
    "sf['bath'] = sf['bath'].str.replace('Ba', '').astype(float)"
   ]
  },
  {
   "cell_type": "code",
   "execution_count": 28,
   "metadata": {
    "ExecuteTime": {
     "end_time": "2020-10-02T17:34:55.178528Z",
     "start_time": "2020-10-02T17:34:55.169224Z"
    }
   },
   "outputs": [
    {
     "data": {
      "text/html": [
       "<div>\n",
       "<style scoped>\n",
       "    .dataframe tbody tr th:only-of-type {\n",
       "        vertical-align: middle;\n",
       "    }\n",
       "\n",
       "    .dataframe tbody tr th {\n",
       "        vertical-align: top;\n",
       "    }\n",
       "\n",
       "    .dataframe thead th {\n",
       "        text-align: right;\n",
       "    }\n",
       "</style>\n",
       "<table border=\"1\" class=\"dataframe\">\n",
       "  <thead>\n",
       "    <tr style=\"text-align: right;\">\n",
       "      <th></th>\n",
       "      <th>title</th>\n",
       "      <th>price</th>\n",
       "      <th>brs</th>\n",
       "      <th>sqft</th>\n",
       "      <th>hood</th>\n",
       "      <th>bath</th>\n",
       "      <th>amenities</th>\n",
       "    </tr>\n",
       "  </thead>\n",
       "  <tbody>\n",
       "    <tr>\n",
       "      <th>2245</th>\n",
       "      <td>\"INCENTIVE\" IN THE HEART OF THE DUBOCE TRIANGLE</td>\n",
       "      <td>3700</td>\n",
       "      <td>3.0</td>\n",
       "      <td>NaN</td>\n",
       "      <td>castro / upper market</td>\n",
       "      <td>1.0</td>\n",
       "      <td>['application fee details: $30 Per Applicant',...</td>\n",
       "    </tr>\n",
       "    <tr>\n",
       "      <th>1980</th>\n",
       "      <td>#107 Furnished Only Heaven by Views, Luxury, S...</td>\n",
       "      <td>6800</td>\n",
       "      <td>2.0</td>\n",
       "      <td>1600.0</td>\n",
       "      <td>pacific heights</td>\n",
       "      <td>2.0</td>\n",
       "      <td>['furnished', 'apartment', 'w/d in unit', 'no ...</td>\n",
       "    </tr>\n",
       "    <tr>\n",
       "      <th>2018</th>\n",
       "      <td>#120 Furnished ONLY Gorgeous, Cozy Junior-One-...</td>\n",
       "      <td>3500</td>\n",
       "      <td>1.0</td>\n",
       "      <td>550.0</td>\n",
       "      <td>pacific heights</td>\n",
       "      <td>1.0</td>\n",
       "      <td>['cats are OK - purrr', 'dogs are OK - wooof',...</td>\n",
       "    </tr>\n",
       "    <tr>\n",
       "      <th>2095</th>\n",
       "      <td>#125 FURNISHED ONLY Beautiful 2BR in Marina</td>\n",
       "      <td>5100</td>\n",
       "      <td>2.0</td>\n",
       "      <td>1300.0</td>\n",
       "      <td>marina / cow hollow</td>\n",
       "      <td>1.0</td>\n",
       "      <td>['EV charging', 'cats are OK - purrr', 'dogs a...</td>\n",
       "    </tr>\n",
       "    <tr>\n",
       "      <th>2015</th>\n",
       "      <td>#132 Furnished ONLY Beautiful Mansion in Heart...</td>\n",
       "      <td>9000</td>\n",
       "      <td>3.0</td>\n",
       "      <td>3500.0</td>\n",
       "      <td>pacific heights</td>\n",
       "      <td>2.5</td>\n",
       "      <td>['furnished', 'apartment', 'w/d in unit', 'no ...</td>\n",
       "    </tr>\n",
       "  </tbody>\n",
       "</table>\n",
       "</div>"
      ],
      "text/plain": [
       "                                                  title  price  brs    sqft  \\\n",
       "2245    \"INCENTIVE\" IN THE HEART OF THE DUBOCE TRIANGLE   3700  3.0     NaN   \n",
       "1980  #107 Furnished Only Heaven by Views, Luxury, S...   6800  2.0  1600.0   \n",
       "2018  #120 Furnished ONLY Gorgeous, Cozy Junior-One-...   3500  1.0   550.0   \n",
       "2095        #125 FURNISHED ONLY Beautiful 2BR in Marina   5100  2.0  1300.0   \n",
       "2015  #132 Furnished ONLY Beautiful Mansion in Heart...   9000  3.0  3500.0   \n",
       "\n",
       "                       hood  bath  \\\n",
       "2245  castro / upper market   1.0   \n",
       "1980        pacific heights   2.0   \n",
       "2018        pacific heights   1.0   \n",
       "2095    marina / cow hollow   1.0   \n",
       "2015        pacific heights   2.5   \n",
       "\n",
       "                                              amenities  \n",
       "2245  ['application fee details: $30 Per Applicant',...  \n",
       "1980  ['furnished', 'apartment', 'w/d in unit', 'no ...  \n",
       "2018  ['cats are OK - purrr', 'dogs are OK - wooof',...  \n",
       "2095  ['EV charging', 'cats are OK - purrr', 'dogs a...  \n",
       "2015  ['furnished', 'apartment', 'w/d in unit', 'no ...  "
      ]
     },
     "execution_count": 28,
     "metadata": {},
     "output_type": "execute_result"
    }
   ],
   "source": [
    "sf.head()"
   ]
  },
  {
   "cell_type": "markdown",
   "metadata": {},
   "source": [
    "Clean bathrooms!"
   ]
  },
  {
   "cell_type": "markdown",
   "metadata": {},
   "source": [
    "## Cleaning Bedrooms"
   ]
  },
  {
   "cell_type": "code",
   "execution_count": 29,
   "metadata": {
    "ExecuteTime": {
     "end_time": "2020-10-02T17:34:55.184452Z",
     "start_time": "2020-10-02T17:34:55.180341Z"
    }
   },
   "outputs": [
    {
     "data": {
      "text/plain": [
       "array([ 3.,  2.,  1., nan,  4.,  5.,  6.])"
      ]
     },
     "execution_count": 29,
     "metadata": {},
     "output_type": "execute_result"
    }
   ],
   "source": [
    "sf.brs.unique()"
   ]
  },
  {
   "cell_type": "code",
   "execution_count": 30,
   "metadata": {
    "ExecuteTime": {
     "end_time": "2020-10-02T17:34:55.189797Z",
     "start_time": "2020-10-02T17:34:55.186483Z"
    }
   },
   "outputs": [
    {
     "data": {
      "text/plain": [
       "7"
      ]
     },
     "execution_count": 30,
     "metadata": {},
     "output_type": "execute_result"
    }
   ],
   "source": [
    "len(sf.brs.unique())"
   ]
  },
  {
   "cell_type": "markdown",
   "metadata": {},
   "source": [
    "How many nan value? "
   ]
  },
  {
   "cell_type": "code",
   "execution_count": 54,
   "metadata": {
    "ExecuteTime": {
     "end_time": "2020-10-02T17:40:10.930659Z",
     "start_time": "2020-10-02T17:40:10.919407Z"
    }
   },
   "outputs": [
    {
     "data": {
      "text/html": [
       "<div>\n",
       "<style scoped>\n",
       "    .dataframe tbody tr th:only-of-type {\n",
       "        vertical-align: middle;\n",
       "    }\n",
       "\n",
       "    .dataframe tbody tr th {\n",
       "        vertical-align: top;\n",
       "    }\n",
       "\n",
       "    .dataframe thead th {\n",
       "        text-align: right;\n",
       "    }\n",
       "</style>\n",
       "<table border=\"1\" class=\"dataframe\">\n",
       "  <thead>\n",
       "    <tr style=\"text-align: right;\">\n",
       "      <th></th>\n",
       "      <th>date</th>\n",
       "      <th>title</th>\n",
       "      <th>link</th>\n",
       "      <th>price</th>\n",
       "      <th>brs</th>\n",
       "      <th>sqft</th>\n",
       "      <th>hood</th>\n",
       "      <th>bath</th>\n",
       "      <th>amenities</th>\n",
       "    </tr>\n",
       "  </thead>\n",
       "  <tbody>\n",
       "    <tr>\n",
       "      <th>18</th>\n",
       "      <td>Oct  1</td>\n",
       "      <td>Huge Newly Remodeled Studio Downtown; Amazing ...</td>\n",
       "      <td>https://sfbay.craigslist.org/sfc/apa/d/san-fra...</td>\n",
       "      <td>1995</td>\n",
       "      <td>NaN</td>\n",
       "      <td>NaN</td>\n",
       "      <td>lower nob hill</td>\n",
       "      <td>1Ba</td>\n",
       "      <td>['cats are OK - purrr', 'dogs are OK - wooof',...</td>\n",
       "    </tr>\n",
       "    <tr>\n",
       "      <th>31</th>\n",
       "      <td>Oct  1</td>\n",
       "      <td>Cozy Edwardian Apartment - 2 Bedroom (RH)</td>\n",
       "      <td>https://sfbay.craigslist.org/sfc/apa/d/san-fra...</td>\n",
       "      <td>2395</td>\n",
       "      <td>NaN</td>\n",
       "      <td>NaN</td>\n",
       "      <td>russian hill</td>\n",
       "      <td>2.5Ba</td>\n",
       "      <td>['apartment']</td>\n",
       "    </tr>\n",
       "    <tr>\n",
       "      <th>33</th>\n",
       "      <td>Oct  1</td>\n",
       "      <td>Fifth-floor studio in Theater District, PREVIEW</td>\n",
       "      <td>https://sfbay.craigslist.org/sfc/apa/d/san-fra...</td>\n",
       "      <td>1600</td>\n",
       "      <td>NaN</td>\n",
       "      <td>410.0</td>\n",
       "      <td>lower nob hill</td>\n",
       "      <td>1Ba</td>\n",
       "      <td>['apartment', 'laundry in bldg', 'no smoking',...</td>\n",
       "    </tr>\n",
       "    <tr>\n",
       "      <th>35</th>\n",
       "      <td>Oct  1</td>\n",
       "      <td>Second-floor studio, preview for October move-...</td>\n",
       "      <td>https://sfbay.craigslist.org/sfc/apa/d/san-fra...</td>\n",
       "      <td>1800</td>\n",
       "      <td>NaN</td>\n",
       "      <td>440.0</td>\n",
       "      <td>lower nob hill</td>\n",
       "      <td>1Ba</td>\n",
       "      <td>['apartment', 'laundry in bldg', 'no smoking',...</td>\n",
       "    </tr>\n",
       "    <tr>\n",
       "      <th>41</th>\n",
       "      <td>Oct  1</td>\n",
       "      <td>1BD/1Bath - California &amp; Larkin - Pets Welcome!</td>\n",
       "      <td>https://sfbay.craigslist.org/sfc/apa/d/san-fra...</td>\n",
       "      <td>2100</td>\n",
       "      <td>NaN</td>\n",
       "      <td>NaN</td>\n",
       "      <td>russian hill</td>\n",
       "      <td>2Ba</td>\n",
       "      <td>['apartment']</td>\n",
       "    </tr>\n",
       "  </tbody>\n",
       "</table>\n",
       "</div>"
      ],
      "text/plain": [
       "      date                                              title  \\\n",
       "18  Oct  1  Huge Newly Remodeled Studio Downtown; Amazing ...   \n",
       "31  Oct  1          Cozy Edwardian Apartment - 2 Bedroom (RH)   \n",
       "33  Oct  1    Fifth-floor studio in Theater District, PREVIEW   \n",
       "35  Oct  1  Second-floor studio, preview for October move-...   \n",
       "41  Oct  1    1BD/1Bath - California & Larkin - Pets Welcome!   \n",
       "\n",
       "                                                 link  price  brs   sqft  \\\n",
       "18  https://sfbay.craigslist.org/sfc/apa/d/san-fra...   1995  NaN    NaN   \n",
       "31  https://sfbay.craigslist.org/sfc/apa/d/san-fra...   2395  NaN    NaN   \n",
       "33  https://sfbay.craigslist.org/sfc/apa/d/san-fra...   1600  NaN  410.0   \n",
       "35  https://sfbay.craigslist.org/sfc/apa/d/san-fra...   1800  NaN  440.0   \n",
       "41  https://sfbay.craigslist.org/sfc/apa/d/san-fra...   2100  NaN    NaN   \n",
       "\n",
       "              hood   bath                                          amenities  \n",
       "18  lower nob hill    1Ba  ['cats are OK - purrr', 'dogs are OK - wooof',...  \n",
       "31    russian hill  2.5Ba                                      ['apartment']  \n",
       "33  lower nob hill    1Ba  ['apartment', 'laundry in bldg', 'no smoking',...  \n",
       "35  lower nob hill    1Ba  ['apartment', 'laundry in bldg', 'no smoking',...  \n",
       "41    russian hill    2Ba                                      ['apartment']  "
      ]
     },
     "execution_count": 54,
     "metadata": {},
     "output_type": "execute_result"
    }
   ],
   "source": [
    "br_nan.head()"
   ]
  },
  {
   "cell_type": "code",
   "execution_count": 55,
   "metadata": {
    "ExecuteTime": {
     "end_time": "2020-10-02T17:40:20.323712Z",
     "start_time": "2020-10-02T17:40:20.320779Z"
    }
   },
   "outputs": [
    {
     "data": {
      "text/plain": [
       "617"
      ]
     },
     "execution_count": 55,
     "metadata": {},
     "output_type": "execute_result"
    }
   ],
   "source": [
    "len(br_nan)"
   ]
  },
  {
   "cell_type": "markdown",
   "metadata": {},
   "source": [
    "What are these nan values? "
   ]
  },
  {
   "cell_type": "code",
   "execution_count": 56,
   "metadata": {
    "ExecuteTime": {
     "end_time": "2020-10-02T17:40:46.922388Z",
     "start_time": "2020-10-02T17:40:46.920188Z"
    }
   },
   "outputs": [],
   "source": [
    "br_nan_links = list(br_nan.link)"
   ]
  },
  {
   "cell_type": "code",
   "execution_count": 58,
   "metadata": {
    "ExecuteTime": {
     "end_time": "2020-10-02T17:41:09.335319Z",
     "start_time": "2020-10-02T17:41:09.332646Z"
    }
   },
   "outputs": [
    {
     "name": "stdout",
     "output_type": "stream",
     "text": [
      "https://sfbay.craigslist.org/sfc/apa/d/san-francisco-huge-newly-remodeled/7206619643.html\n",
      "\n",
      "https://sfbay.craigslist.org/sfc/apa/d/san-francisco-cozy-edwardian-apartment/7194887293.html\n",
      "\n",
      "https://sfbay.craigslist.org/sfc/apa/d/san-francisco-fifth-floor-studio-in/7206615888.html\n",
      "\n",
      "https://sfbay.craigslist.org/sfc/apa/d/san-francisco-second-floor-studio/7202953088.html\n",
      "\n",
      "https://sfbay.craigslist.org/sfc/apa/d/san-francisco-1bd-1bath-california/7200175190.html\n",
      "\n",
      "https://sfbay.craigslist.org/sfc/apa/d/san-francisco-quiet-remodeled-1-bedroom/7197456326.html\n",
      "\n",
      "https://sfbay.craigslist.org/sfc/apa/d/san-francisco-furnished-central-garden/7203461074.html\n",
      "\n",
      "https://sfbay.craigslist.org/sfc/apa/d/san-francisco-lg-stu-view-top-floor-off/7198666488.html\n",
      "\n",
      "https://sfbay.craigslist.org/sfc/apa/d/san-francisco-lg-remodeled-studio-top/7198668794.html\n",
      "\n"
     ]
    }
   ],
   "source": [
    "for link in br_nan_links[:9]:\n",
    "    print(link)\n",
    "    print('')"
   ]
  },
  {
   "cell_type": "code",
   "execution_count": 59,
   "metadata": {
    "ExecuteTime": {
     "end_time": "2020-10-02T17:42:48.795770Z",
     "start_time": "2020-10-02T17:42:48.792709Z"
    }
   },
   "outputs": [
    {
     "name": "stdout",
     "output_type": "stream",
     "text": [
      "https://sfbay.craigslist.org/sfc/apa/d/san-francisco-wow-prices-you-cant-beat/7206609316.html\n",
      "\n",
      "https://sfbay.craigslist.org/sfc/apa/d/san-francisco-2-months-free-newly/7206609071.html\n",
      "\n",
      "https://sfbay.craigslist.org/sfc/apa/d/san-francisco-nob-hill-efficiency/7205168796.html\n",
      "\n",
      "https://sfbay.craigslist.org/sfc/apa/d/san-francisco-always-fresh-forever/7206603015.html\n",
      "\n",
      "https://sfbay.craigslist.org/sfc/apa/d/san-francisco-two-months-free-studio-in/7206586455.html\n",
      "\n",
      "https://sfbay.craigslist.org/sfc/apa/d/san-francisco-available-now-4-bedroom-2/7200487016.html\n",
      "\n",
      "https://sfbay.craigslist.org/sfc/apa/d/san-francisco-2-months-free-newly/7206598060.html\n",
      "\n",
      "https://sfbay.craigslist.org/sfc/apa/d/san-francisco-beautiful-modern-studios/7206593196.html\n",
      "\n",
      "https://sfbay.craigslist.org/sfc/apa/d/san-francisco-beautiful-modern-studios/7206592788.html\n",
      "\n",
      "https://sfbay.craigslist.org/sfc/apa/d/san-francisco-huge-studio-with-wall/7206597243.html\n",
      "\n",
      "https://sfbay.craigslist.org/sfc/apa/d/san-francisco-large-studio-in-pac/7206596857.html\n",
      "\n"
     ]
    }
   ],
   "source": [
    "for link in br_nan_links[9:20]:\n",
    "    print(link)\n",
    "    print('')"
   ]
  },
  {
   "cell_type": "markdown",
   "metadata": {},
   "source": [
    "It seems like a mix -- some are studios, some have 1 or more bedrooms. The key is in the title. So I'll try to parse through the title and if it contains: \n",
    "```\n",
    "* studio --> 0\n",
    "* 1BR    --> 1\n",
    "* 2BR    --> 2\n",
    "```\n",
    "and so on..."
   ]
  },
  {
   "cell_type": "code",
   "execution_count": 60,
   "metadata": {
    "ExecuteTime": {
     "end_time": "2020-10-02T17:43:28.901915Z",
     "start_time": "2020-10-02T17:43:28.898367Z"
    }
   },
   "outputs": [
    {
     "data": {
      "text/plain": [
       "True"
      ]
     },
     "execution_count": 60,
     "metadata": {},
     "output_type": "execute_result"
    }
   ],
   "source": [
    "'studio' in 'this is a studio'"
   ]
  },
  {
   "cell_type": "code",
   "execution_count": 61,
   "metadata": {
    "ExecuteTime": {
     "end_time": "2020-10-02T17:47:08.709772Z",
     "start_time": "2020-10-02T17:47:08.705943Z"
    }
   },
   "outputs": [
    {
     "data": {
      "text/plain": [
       "True"
      ]
     },
     "execution_count": 61,
     "metadata": {},
     "output_type": "execute_result"
    }
   ],
   "source": [
    "'1br' in 'ThIs has a 1bR'.lower()"
   ]
  },
  {
   "cell_type": "code",
   "execution_count": null,
   "metadata": {},
   "outputs": [],
   "source": []
  },
  {
   "cell_type": "code",
   "execution_count": null,
   "metadata": {},
   "outputs": [],
   "source": []
  },
  {
   "cell_type": "code",
   "execution_count": null,
   "metadata": {},
   "outputs": [],
   "source": []
  },
  {
   "cell_type": "code",
   "execution_count": null,
   "metadata": {},
   "outputs": [],
   "source": []
  },
  {
   "cell_type": "code",
   "execution_count": null,
   "metadata": {},
   "outputs": [],
   "source": []
  },
  {
   "cell_type": "code",
   "execution_count": null,
   "metadata": {},
   "outputs": [],
   "source": []
  },
  {
   "cell_type": "code",
   "execution_count": null,
   "metadata": {},
   "outputs": [],
   "source": []
  },
  {
   "cell_type": "code",
   "execution_count": null,
   "metadata": {},
   "outputs": [],
   "source": []
  },
  {
   "cell_type": "code",
   "execution_count": null,
   "metadata": {},
   "outputs": [],
   "source": []
  },
  {
   "cell_type": "markdown",
   "metadata": {},
   "source": [
    "## Amenities"
   ]
  },
  {
   "cell_type": "code",
   "execution_count": null,
   "metadata": {},
   "outputs": [],
   "source": []
  },
  {
   "cell_type": "code",
   "execution_count": null,
   "metadata": {},
   "outputs": [],
   "source": []
  },
  {
   "cell_type": "code",
   "execution_count": null,
   "metadata": {},
   "outputs": [],
   "source": []
  },
  {
   "cell_type": "code",
   "execution_count": null,
   "metadata": {},
   "outputs": [],
   "source": []
  },
  {
   "cell_type": "code",
   "execution_count": null,
   "metadata": {},
   "outputs": [],
   "source": []
  },
  {
   "cell_type": "markdown",
   "metadata": {},
   "source": [
    "## Neighborhoods"
   ]
  },
  {
   "cell_type": "code",
   "execution_count": null,
   "metadata": {},
   "outputs": [],
   "source": []
  },
  {
   "cell_type": "code",
   "execution_count": null,
   "metadata": {},
   "outputs": [],
   "source": []
  },
  {
   "cell_type": "code",
   "execution_count": null,
   "metadata": {},
   "outputs": [],
   "source": []
  },
  {
   "cell_type": "code",
   "execution_count": null,
   "metadata": {},
   "outputs": [],
   "source": []
  },
  {
   "cell_type": "code",
   "execution_count": null,
   "metadata": {},
   "outputs": [],
   "source": []
  },
  {
   "cell_type": "code",
   "execution_count": null,
   "metadata": {},
   "outputs": [],
   "source": []
  },
  {
   "cell_type": "code",
   "execution_count": null,
   "metadata": {},
   "outputs": [],
   "source": []
  }
 ],
 "metadata": {
  "kernelspec": {
   "display_name": "Python [conda env:metis] *",
   "language": "python",
   "name": "conda-env-metis-py"
  },
  "language_info": {
   "codemirror_mode": {
    "name": "ipython",
    "version": 3
   },
   "file_extension": ".py",
   "mimetype": "text/x-python",
   "name": "python",
   "nbconvert_exporter": "python",
   "pygments_lexer": "ipython3",
   "version": "3.8.5"
  },
  "toc": {
   "base_numbering": 1,
   "nav_menu": {},
   "number_sections": true,
   "sideBar": true,
   "skip_h1_title": false,
   "title_cell": "Table of Contents",
   "title_sidebar": "Contents",
   "toc_cell": false,
   "toc_position": {},
   "toc_section_display": true,
   "toc_window_display": true
  }
 },
 "nbformat": 4,
 "nbformat_minor": 4
}
