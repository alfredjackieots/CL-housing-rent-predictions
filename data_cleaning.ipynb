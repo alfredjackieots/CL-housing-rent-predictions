{
 "cells": [
  {
   "cell_type": "markdown",
   "metadata": {},
   "source": [
    "# Data Cleaning"
   ]
  },
  {
   "cell_type": "markdown",
   "metadata": {},
   "source": [
    "After scraping +3,000 Craigslist posts into a dataframe, it's time to clean the data and organize amenities and neighborhoods into useable values for the regression model. "
   ]
  },
  {
   "cell_type": "markdown",
   "metadata": {},
   "source": [
    "## Import Data"
   ]
  },
  {
   "cell_type": "code",
   "execution_count": 1,
   "metadata": {
    "ExecuteTime": {
     "end_time": "2020-10-04T22:45:14.742072Z",
     "start_time": "2020-10-04T22:45:14.208355Z"
    }
   },
   "outputs": [],
   "source": [
    "import pandas as pd\n",
    "import numpy as np\n",
    "\n",
    "import matplotlib as plt\n",
    "%matplotlib inline"
   ]
  },
  {
   "cell_type": "code",
   "execution_count": 2,
   "metadata": {
    "ExecuteTime": {
     "end_time": "2020-10-04T22:45:14.765108Z",
     "start_time": "2020-10-04T22:45:14.743947Z"
    }
   },
   "outputs": [],
   "source": [
    "sf_raw = pd.read_csv('data_files/raw_sf_scrape.csv')"
   ]
  },
  {
   "cell_type": "code",
   "execution_count": 3,
   "metadata": {
    "ExecuteTime": {
     "end_time": "2020-10-04T22:45:14.784610Z",
     "start_time": "2020-10-04T22:45:14.771135Z"
    }
   },
   "outputs": [
    {
     "name": "stdout",
     "output_type": "stream",
     "text": [
      "<class 'pandas.core.frame.DataFrame'>\n",
      "RangeIndex: 3093 entries, 0 to 3092\n",
      "Data columns (total 9 columns):\n",
      " #   Column     Non-Null Count  Dtype  \n",
      "---  ------     --------------  -----  \n",
      " 0   date       3093 non-null   object \n",
      " 1   title      3093 non-null   object \n",
      " 2   link       3093 non-null   object \n",
      " 3   price      3093 non-null   int64  \n",
      " 4   brs        2476 non-null   float64\n",
      " 5   sqft       1461 non-null   float64\n",
      " 6   hood       3062 non-null   object \n",
      " 7   bath       3042 non-null   object \n",
      " 8   amenities  3093 non-null   object \n",
      "dtypes: float64(2), int64(1), object(6)\n",
      "memory usage: 217.6+ KB\n"
     ]
    }
   ],
   "source": [
    "sf_raw.info()"
   ]
  },
  {
   "cell_type": "code",
   "execution_count": 4,
   "metadata": {
    "ExecuteTime": {
     "end_time": "2020-10-04T22:45:14.800792Z",
     "start_time": "2020-10-04T22:45:14.786499Z"
    }
   },
   "outputs": [
    {
     "data": {
      "text/html": [
       "<div>\n",
       "<style scoped>\n",
       "    .dataframe tbody tr th:only-of-type {\n",
       "        vertical-align: middle;\n",
       "    }\n",
       "\n",
       "    .dataframe tbody tr th {\n",
       "        vertical-align: top;\n",
       "    }\n",
       "\n",
       "    .dataframe thead th {\n",
       "        text-align: right;\n",
       "    }\n",
       "</style>\n",
       "<table border=\"1\" class=\"dataframe\">\n",
       "  <thead>\n",
       "    <tr style=\"text-align: right;\">\n",
       "      <th></th>\n",
       "      <th>date</th>\n",
       "      <th>title</th>\n",
       "      <th>link</th>\n",
       "      <th>price</th>\n",
       "      <th>brs</th>\n",
       "      <th>sqft</th>\n",
       "      <th>hood</th>\n",
       "      <th>bath</th>\n",
       "      <th>amenities</th>\n",
       "    </tr>\n",
       "  </thead>\n",
       "  <tbody>\n",
       "    <tr>\n",
       "      <th>0</th>\n",
       "      <td>Oct  1</td>\n",
       "      <td>3D Virtual Tour - 2 BR, 2 BA Condo 966 Sq. Ft....</td>\n",
       "      <td>https://sfbay.craigslist.org/sfc/apa/d/san-fra...</td>\n",
       "      <td>3850</td>\n",
       "      <td>2.0</td>\n",
       "      <td>966.0</td>\n",
       "      <td>Mission Bay</td>\n",
       "      <td>2Ba</td>\n",
       "      <td>['condo', 'w/d in unit', 'attached garage']</td>\n",
       "    </tr>\n",
       "    <tr>\n",
       "      <th>1</th>\n",
       "      <td>Oct  1</td>\n",
       "      <td>Beautiful house for rent</td>\n",
       "      <td>https://sfbay.craigslist.org/sfc/apa/d/san-fra...</td>\n",
       "      <td>900</td>\n",
       "      <td>1.0</td>\n",
       "      <td>NaN</td>\n",
       "      <td>portola district</td>\n",
       "      <td>0Ba</td>\n",
       "      <td>['house']</td>\n",
       "    </tr>\n",
       "    <tr>\n",
       "      <th>2</th>\n",
       "      <td>Oct  1</td>\n",
       "      <td>4 BEDROOM APARTMENT IN THE HAIGHT</td>\n",
       "      <td>https://sfbay.craigslist.org/sfc/apa/d/san-fra...</td>\n",
       "      <td>4995</td>\n",
       "      <td>4.0</td>\n",
       "      <td>NaN</td>\n",
       "      <td>haight ashbury</td>\n",
       "      <td>2Ba</td>\n",
       "      <td>['apartment', 'w/d in unit', 'street parking']</td>\n",
       "    </tr>\n",
       "    <tr>\n",
       "      <th>3</th>\n",
       "      <td>Oct  1</td>\n",
       "      <td>4 BEDROOM APARTMENT IN THE HAIGHT</td>\n",
       "      <td>https://sfbay.craigslist.org/sfc/apa/d/san-fra...</td>\n",
       "      <td>4995</td>\n",
       "      <td>4.0</td>\n",
       "      <td>NaN</td>\n",
       "      <td>haight ashbury</td>\n",
       "      <td>2Ba</td>\n",
       "      <td>['apartment', 'w/d in unit', 'street parking']</td>\n",
       "    </tr>\n",
       "    <tr>\n",
       "      <th>4</th>\n",
       "      <td>Oct  1</td>\n",
       "      <td>ENJOY GOLDEN GATE PARK EVERYDAY</td>\n",
       "      <td>https://sfbay.craigslist.org/sfc/apa/d/san-fra...</td>\n",
       "      <td>2800</td>\n",
       "      <td>2.0</td>\n",
       "      <td>700.0</td>\n",
       "      <td>USF / panhandle</td>\n",
       "      <td>1Ba</td>\n",
       "      <td>['apartment', 'laundry in bldg', 'no smoking',...</td>\n",
       "    </tr>\n",
       "  </tbody>\n",
       "</table>\n",
       "</div>"
      ],
      "text/plain": [
       "     date                                              title  \\\n",
       "0  Oct  1  3D Virtual Tour - 2 BR, 2 BA Condo 966 Sq. Ft....   \n",
       "1  Oct  1                           Beautiful house for rent   \n",
       "2  Oct  1                  4 BEDROOM APARTMENT IN THE HAIGHT   \n",
       "3  Oct  1                  4 BEDROOM APARTMENT IN THE HAIGHT   \n",
       "4  Oct  1                    ENJOY GOLDEN GATE PARK EVERYDAY   \n",
       "\n",
       "                                                link  price  brs   sqft  \\\n",
       "0  https://sfbay.craigslist.org/sfc/apa/d/san-fra...   3850  2.0  966.0   \n",
       "1  https://sfbay.craigslist.org/sfc/apa/d/san-fra...    900  1.0    NaN   \n",
       "2  https://sfbay.craigslist.org/sfc/apa/d/san-fra...   4995  4.0    NaN   \n",
       "3  https://sfbay.craigslist.org/sfc/apa/d/san-fra...   4995  4.0    NaN   \n",
       "4  https://sfbay.craigslist.org/sfc/apa/d/san-fra...   2800  2.0  700.0   \n",
       "\n",
       "               hood bath                                          amenities  \n",
       "0       Mission Bay  2Ba        ['condo', 'w/d in unit', 'attached garage']  \n",
       "1  portola district  0Ba                                          ['house']  \n",
       "2    haight ashbury  2Ba     ['apartment', 'w/d in unit', 'street parking']  \n",
       "3    haight ashbury  2Ba     ['apartment', 'w/d in unit', 'street parking']  \n",
       "4   USF / panhandle  1Ba  ['apartment', 'laundry in bldg', 'no smoking',...  "
      ]
     },
     "execution_count": 4,
     "metadata": {},
     "output_type": "execute_result"
    }
   ],
   "source": [
    "sf_raw.head()"
   ]
  },
  {
   "cell_type": "code",
   "execution_count": 5,
   "metadata": {
    "ExecuteTime": {
     "end_time": "2020-10-04T22:45:14.816139Z",
     "start_time": "2020-10-04T22:45:14.802720Z"
    }
   },
   "outputs": [
    {
     "data": {
      "text/html": [
       "<div>\n",
       "<style scoped>\n",
       "    .dataframe tbody tr th:only-of-type {\n",
       "        vertical-align: middle;\n",
       "    }\n",
       "\n",
       "    .dataframe tbody tr th {\n",
       "        vertical-align: top;\n",
       "    }\n",
       "\n",
       "    .dataframe thead th {\n",
       "        text-align: right;\n",
       "    }\n",
       "</style>\n",
       "<table border=\"1\" class=\"dataframe\">\n",
       "  <thead>\n",
       "    <tr style=\"text-align: right;\">\n",
       "      <th></th>\n",
       "      <th>date</th>\n",
       "      <th>title</th>\n",
       "      <th>link</th>\n",
       "      <th>price</th>\n",
       "      <th>brs</th>\n",
       "      <th>sqft</th>\n",
       "      <th>hood</th>\n",
       "      <th>bath</th>\n",
       "      <th>amenities</th>\n",
       "    </tr>\n",
       "  </thead>\n",
       "  <tbody>\n",
       "    <tr>\n",
       "      <th>3088</th>\n",
       "      <td>Sep 30</td>\n",
       "      <td>1 Month Free Rent: Massive Modern Luxury Studio</td>\n",
       "      <td>https://sfbay.craigslist.org/sfc/apa/d/san-fra...</td>\n",
       "      <td>1948</td>\n",
       "      <td>NaN</td>\n",
       "      <td>500.0</td>\n",
       "      <td>SOMA / south beach</td>\n",
       "      <td>1Ba</td>\n",
       "      <td>['application fee details: $30 application fee...</td>\n",
       "    </tr>\n",
       "    <tr>\n",
       "      <th>3089</th>\n",
       "      <td>Sep 30</td>\n",
       "      <td>1 Month Free Rent: Massive Modern Luxury Studio</td>\n",
       "      <td>https://sfbay.craigslist.org/sfc/apa/d/san-fra...</td>\n",
       "      <td>1948</td>\n",
       "      <td>NaN</td>\n",
       "      <td>500.0</td>\n",
       "      <td>downtown / civic / van ness</td>\n",
       "      <td>1Ba</td>\n",
       "      <td>['application fee details: $30 application fee...</td>\n",
       "    </tr>\n",
       "    <tr>\n",
       "      <th>3090</th>\n",
       "      <td>Sep 30</td>\n",
       "      <td>Large, Beautiful Classic Victorian 1bd/1ba</td>\n",
       "      <td>https://sfbay.craigslist.org/sfc/apa/d/san-fra...</td>\n",
       "      <td>3395</td>\n",
       "      <td>1.0</td>\n",
       "      <td>800.0</td>\n",
       "      <td>laurel hts / presidio</td>\n",
       "      <td>1Ba</td>\n",
       "      <td>['apartment', 'laundry in bldg']</td>\n",
       "    </tr>\n",
       "    <tr>\n",
       "      <th>3091</th>\n",
       "      <td>Sep 30</td>\n",
       "      <td>3 bedroom in Nopa with Private Deck (Top Floor)</td>\n",
       "      <td>https://sfbay.craigslist.org/sfc/apa/d/san-fra...</td>\n",
       "      <td>4995</td>\n",
       "      <td>3.0</td>\n",
       "      <td>1500.0</td>\n",
       "      <td>alamo square / nopa</td>\n",
       "      <td>2Ba</td>\n",
       "      <td>['cats are OK - purrr', 'dogs are OK - wooof',...</td>\n",
       "    </tr>\n",
       "    <tr>\n",
       "      <th>3092</th>\n",
       "      <td>Sep 30</td>\n",
       "      <td>Private 1 bed/1 bath/1 kitchen in-law unit ava...</td>\n",
       "      <td>https://sfbay.craigslist.org/sfc/apa/d/san-fra...</td>\n",
       "      <td>1795</td>\n",
       "      <td>1.0</td>\n",
       "      <td>300.0</td>\n",
       "      <td>ingleside / SFSU / CCSF</td>\n",
       "      <td>1Ba</td>\n",
       "      <td>['cats are OK - purrr', 'dogs are OK - wooof',...</td>\n",
       "    </tr>\n",
       "  </tbody>\n",
       "</table>\n",
       "</div>"
      ],
      "text/plain": [
       "        date                                              title  \\\n",
       "3088  Sep 30    1 Month Free Rent: Massive Modern Luxury Studio   \n",
       "3089  Sep 30    1 Month Free Rent: Massive Modern Luxury Studio   \n",
       "3090  Sep 30         Large, Beautiful Classic Victorian 1bd/1ba   \n",
       "3091  Sep 30    3 bedroom in Nopa with Private Deck (Top Floor)   \n",
       "3092  Sep 30  Private 1 bed/1 bath/1 kitchen in-law unit ava...   \n",
       "\n",
       "                                                   link  price  brs    sqft  \\\n",
       "3088  https://sfbay.craigslist.org/sfc/apa/d/san-fra...   1948  NaN   500.0   \n",
       "3089  https://sfbay.craigslist.org/sfc/apa/d/san-fra...   1948  NaN   500.0   \n",
       "3090  https://sfbay.craigslist.org/sfc/apa/d/san-fra...   3395  1.0   800.0   \n",
       "3091  https://sfbay.craigslist.org/sfc/apa/d/san-fra...   4995  3.0  1500.0   \n",
       "3092  https://sfbay.craigslist.org/sfc/apa/d/san-fra...   1795  1.0   300.0   \n",
       "\n",
       "                             hood bath  \\\n",
       "3088           SOMA / south beach  1Ba   \n",
       "3089  downtown / civic / van ness  1Ba   \n",
       "3090        laurel hts / presidio  1Ba   \n",
       "3091          alamo square / nopa  2Ba   \n",
       "3092      ingleside / SFSU / CCSF  1Ba   \n",
       "\n",
       "                                              amenities  \n",
       "3088  ['application fee details: $30 application fee...  \n",
       "3089  ['application fee details: $30 application fee...  \n",
       "3090                   ['apartment', 'laundry in bldg']  \n",
       "3091  ['cats are OK - purrr', 'dogs are OK - wooof',...  \n",
       "3092  ['cats are OK - purrr', 'dogs are OK - wooof',...  "
      ]
     },
     "execution_count": 5,
     "metadata": {},
     "output_type": "execute_result"
    }
   ],
   "source": [
    "sf_raw.tail()"
   ]
  },
  {
   "cell_type": "code",
   "execution_count": 6,
   "metadata": {
    "ExecuteTime": {
     "end_time": "2020-10-04T22:45:14.821086Z",
     "start_time": "2020-10-04T22:45:14.818089Z"
    }
   },
   "outputs": [
    {
     "data": {
      "text/plain": [
       "3093"
      ]
     },
     "execution_count": 6,
     "metadata": {},
     "output_type": "execute_result"
    }
   ],
   "source": [
    "len(sf_raw)"
   ]
  },
  {
   "cell_type": "markdown",
   "metadata": {},
   "source": [
    "## Dealing with duplicate listings\n",
    "\n",
    "Users have the option of posting the same listing multiple times to keep the date more current for apartment hunters to find. The URL changes, but everything ele is the same. \n",
    "\n",
    "By dropping the posting date and URL coluns, I can easily identify duplicate rows to drop. "
   ]
  },
  {
   "cell_type": "code",
   "execution_count": 7,
   "metadata": {
    "ExecuteTime": {
     "end_time": "2020-10-04T22:45:14.828561Z",
     "start_time": "2020-10-04T22:45:14.824759Z"
    }
   },
   "outputs": [],
   "source": [
    "sf = sf_raw.drop(['date', 'link'], axis=1)"
   ]
  },
  {
   "cell_type": "code",
   "execution_count": 8,
   "metadata": {
    "ExecuteTime": {
     "end_time": "2020-10-04T22:45:14.841343Z",
     "start_time": "2020-10-04T22:45:14.831957Z"
    },
    "scrolled": true
   },
   "outputs": [
    {
     "data": {
      "text/html": [
       "<div>\n",
       "<style scoped>\n",
       "    .dataframe tbody tr th:only-of-type {\n",
       "        vertical-align: middle;\n",
       "    }\n",
       "\n",
       "    .dataframe tbody tr th {\n",
       "        vertical-align: top;\n",
       "    }\n",
       "\n",
       "    .dataframe thead th {\n",
       "        text-align: right;\n",
       "    }\n",
       "</style>\n",
       "<table border=\"1\" class=\"dataframe\">\n",
       "  <thead>\n",
       "    <tr style=\"text-align: right;\">\n",
       "      <th></th>\n",
       "      <th>title</th>\n",
       "      <th>price</th>\n",
       "      <th>brs</th>\n",
       "      <th>sqft</th>\n",
       "      <th>hood</th>\n",
       "      <th>bath</th>\n",
       "      <th>amenities</th>\n",
       "    </tr>\n",
       "  </thead>\n",
       "  <tbody>\n",
       "    <tr>\n",
       "      <th>0</th>\n",
       "      <td>3D Virtual Tour - 2 BR, 2 BA Condo 966 Sq. Ft....</td>\n",
       "      <td>3850</td>\n",
       "      <td>2.0</td>\n",
       "      <td>966.0</td>\n",
       "      <td>Mission Bay</td>\n",
       "      <td>2Ba</td>\n",
       "      <td>['condo', 'w/d in unit', 'attached garage']</td>\n",
       "    </tr>\n",
       "    <tr>\n",
       "      <th>1</th>\n",
       "      <td>Beautiful house for rent</td>\n",
       "      <td>900</td>\n",
       "      <td>1.0</td>\n",
       "      <td>NaN</td>\n",
       "      <td>portola district</td>\n",
       "      <td>0Ba</td>\n",
       "      <td>['house']</td>\n",
       "    </tr>\n",
       "    <tr>\n",
       "      <th>2</th>\n",
       "      <td>4 BEDROOM APARTMENT IN THE HAIGHT</td>\n",
       "      <td>4995</td>\n",
       "      <td>4.0</td>\n",
       "      <td>NaN</td>\n",
       "      <td>haight ashbury</td>\n",
       "      <td>2Ba</td>\n",
       "      <td>['apartment', 'w/d in unit', 'street parking']</td>\n",
       "    </tr>\n",
       "    <tr>\n",
       "      <th>3</th>\n",
       "      <td>4 BEDROOM APARTMENT IN THE HAIGHT</td>\n",
       "      <td>4995</td>\n",
       "      <td>4.0</td>\n",
       "      <td>NaN</td>\n",
       "      <td>haight ashbury</td>\n",
       "      <td>2Ba</td>\n",
       "      <td>['apartment', 'w/d in unit', 'street parking']</td>\n",
       "    </tr>\n",
       "    <tr>\n",
       "      <th>4</th>\n",
       "      <td>ENJOY GOLDEN GATE PARK EVERYDAY</td>\n",
       "      <td>2800</td>\n",
       "      <td>2.0</td>\n",
       "      <td>700.0</td>\n",
       "      <td>USF / panhandle</td>\n",
       "      <td>1Ba</td>\n",
       "      <td>['apartment', 'laundry in bldg', 'no smoking',...</td>\n",
       "    </tr>\n",
       "  </tbody>\n",
       "</table>\n",
       "</div>"
      ],
      "text/plain": [
       "                                               title  price  brs   sqft  \\\n",
       "0  3D Virtual Tour - 2 BR, 2 BA Condo 966 Sq. Ft....   3850  2.0  966.0   \n",
       "1                           Beautiful house for rent    900  1.0    NaN   \n",
       "2                  4 BEDROOM APARTMENT IN THE HAIGHT   4995  4.0    NaN   \n",
       "3                  4 BEDROOM APARTMENT IN THE HAIGHT   4995  4.0    NaN   \n",
       "4                    ENJOY GOLDEN GATE PARK EVERYDAY   2800  2.0  700.0   \n",
       "\n",
       "               hood bath                                          amenities  \n",
       "0       Mission Bay  2Ba        ['condo', 'w/d in unit', 'attached garage']  \n",
       "1  portola district  0Ba                                          ['house']  \n",
       "2    haight ashbury  2Ba     ['apartment', 'w/d in unit', 'street parking']  \n",
       "3    haight ashbury  2Ba     ['apartment', 'w/d in unit', 'street parking']  \n",
       "4   USF / panhandle  1Ba  ['apartment', 'laundry in bldg', 'no smoking',...  "
      ]
     },
     "execution_count": 8,
     "metadata": {},
     "output_type": "execute_result"
    }
   ],
   "source": [
    "sf.head()"
   ]
  },
  {
   "cell_type": "code",
   "execution_count": 9,
   "metadata": {
    "ExecuteTime": {
     "end_time": "2020-10-04T22:45:14.847959Z",
     "start_time": "2020-10-04T22:45:14.842930Z"
    }
   },
   "outputs": [],
   "source": [
    "sf.sort_values('title', inplace=True)"
   ]
  },
  {
   "cell_type": "code",
   "execution_count": 10,
   "metadata": {
    "ExecuteTime": {
     "end_time": "2020-10-04T22:45:14.858403Z",
     "start_time": "2020-10-04T22:45:14.849647Z"
    },
    "scrolled": true
   },
   "outputs": [
    {
     "data": {
      "text/html": [
       "<div>\n",
       "<style scoped>\n",
       "    .dataframe tbody tr th:only-of-type {\n",
       "        vertical-align: middle;\n",
       "    }\n",
       "\n",
       "    .dataframe tbody tr th {\n",
       "        vertical-align: top;\n",
       "    }\n",
       "\n",
       "    .dataframe thead th {\n",
       "        text-align: right;\n",
       "    }\n",
       "</style>\n",
       "<table border=\"1\" class=\"dataframe\">\n",
       "  <thead>\n",
       "    <tr style=\"text-align: right;\">\n",
       "      <th></th>\n",
       "      <th>title</th>\n",
       "      <th>price</th>\n",
       "      <th>brs</th>\n",
       "      <th>sqft</th>\n",
       "      <th>hood</th>\n",
       "      <th>bath</th>\n",
       "      <th>amenities</th>\n",
       "    </tr>\n",
       "  </thead>\n",
       "  <tbody>\n",
       "    <tr>\n",
       "      <th>2240</th>\n",
       "      <td>\"INCENTIVE\" 2 BR + Bonus Room(Office/Den) - DU...</td>\n",
       "      <td>3400</td>\n",
       "      <td>2.0</td>\n",
       "      <td>NaN</td>\n",
       "      <td>castro / upper market</td>\n",
       "      <td>1Ba</td>\n",
       "      <td>['application fee details: $30 Per Applicant',...</td>\n",
       "    </tr>\n",
       "    <tr>\n",
       "      <th>2243</th>\n",
       "      <td>\"INCENTIVE\" 2 BR + Bonus Room(Office/Den) - DU...</td>\n",
       "      <td>3400</td>\n",
       "      <td>2.0</td>\n",
       "      <td>NaN</td>\n",
       "      <td>castro / upper market</td>\n",
       "      <td>1Ba</td>\n",
       "      <td>['application fee details: $30 Per Applicant',...</td>\n",
       "    </tr>\n",
       "    <tr>\n",
       "      <th>2245</th>\n",
       "      <td>\"INCENTIVE\" IN THE HEART OF THE DUBOCE TRIANGLE</td>\n",
       "      <td>3700</td>\n",
       "      <td>3.0</td>\n",
       "      <td>NaN</td>\n",
       "      <td>castro / upper market</td>\n",
       "      <td>1Ba</td>\n",
       "      <td>['application fee details: $30 Per Applicant',...</td>\n",
       "    </tr>\n",
       "  </tbody>\n",
       "</table>\n",
       "</div>"
      ],
      "text/plain": [
       "                                                  title  price  brs  sqft  \\\n",
       "2240  \"INCENTIVE\" 2 BR + Bonus Room(Office/Den) - DU...   3400  2.0   NaN   \n",
       "2243  \"INCENTIVE\" 2 BR + Bonus Room(Office/Den) - DU...   3400  2.0   NaN   \n",
       "2245    \"INCENTIVE\" IN THE HEART OF THE DUBOCE TRIANGLE   3700  3.0   NaN   \n",
       "\n",
       "                       hood bath  \\\n",
       "2240  castro / upper market  1Ba   \n",
       "2243  castro / upper market  1Ba   \n",
       "2245  castro / upper market  1Ba   \n",
       "\n",
       "                                              amenities  \n",
       "2240  ['application fee details: $30 Per Applicant',...  \n",
       "2243  ['application fee details: $30 Per Applicant',...  \n",
       "2245  ['application fee details: $30 Per Applicant',...  "
      ]
     },
     "execution_count": 10,
     "metadata": {},
     "output_type": "execute_result"
    }
   ],
   "source": [
    "sf.head(3)"
   ]
  },
  {
   "cell_type": "code",
   "execution_count": 11,
   "metadata": {
    "ExecuteTime": {
     "end_time": "2020-10-04T22:45:14.866293Z",
     "start_time": "2020-10-04T22:45:14.860025Z"
    }
   },
   "outputs": [],
   "source": [
    "sf.drop_duplicates(keep=False, inplace=True)"
   ]
  },
  {
   "cell_type": "code",
   "execution_count": 12,
   "metadata": {
    "ExecuteTime": {
     "end_time": "2020-10-04T22:45:14.877384Z",
     "start_time": "2020-10-04T22:45:14.867976Z"
    }
   },
   "outputs": [
    {
     "data": {
      "text/html": [
       "<div>\n",
       "<style scoped>\n",
       "    .dataframe tbody tr th:only-of-type {\n",
       "        vertical-align: middle;\n",
       "    }\n",
       "\n",
       "    .dataframe tbody tr th {\n",
       "        vertical-align: top;\n",
       "    }\n",
       "\n",
       "    .dataframe thead th {\n",
       "        text-align: right;\n",
       "    }\n",
       "</style>\n",
       "<table border=\"1\" class=\"dataframe\">\n",
       "  <thead>\n",
       "    <tr style=\"text-align: right;\">\n",
       "      <th></th>\n",
       "      <th>title</th>\n",
       "      <th>price</th>\n",
       "      <th>brs</th>\n",
       "      <th>sqft</th>\n",
       "      <th>hood</th>\n",
       "      <th>bath</th>\n",
       "      <th>amenities</th>\n",
       "    </tr>\n",
       "  </thead>\n",
       "  <tbody>\n",
       "    <tr>\n",
       "      <th>2245</th>\n",
       "      <td>\"INCENTIVE\" IN THE HEART OF THE DUBOCE TRIANGLE</td>\n",
       "      <td>3700</td>\n",
       "      <td>3.0</td>\n",
       "      <td>NaN</td>\n",
       "      <td>castro / upper market</td>\n",
       "      <td>1Ba</td>\n",
       "      <td>['application fee details: $30 Per Applicant',...</td>\n",
       "    </tr>\n",
       "    <tr>\n",
       "      <th>1980</th>\n",
       "      <td>#107 Furnished Only Heaven by Views, Luxury, S...</td>\n",
       "      <td>6800</td>\n",
       "      <td>2.0</td>\n",
       "      <td>1600.0</td>\n",
       "      <td>pacific heights</td>\n",
       "      <td>2Ba</td>\n",
       "      <td>['furnished', 'apartment', 'w/d in unit', 'no ...</td>\n",
       "    </tr>\n",
       "    <tr>\n",
       "      <th>2018</th>\n",
       "      <td>#120 Furnished ONLY Gorgeous, Cozy Junior-One-...</td>\n",
       "      <td>3500</td>\n",
       "      <td>1.0</td>\n",
       "      <td>550.0</td>\n",
       "      <td>pacific heights</td>\n",
       "      <td>1Ba</td>\n",
       "      <td>['cats are OK - purrr', 'dogs are OK - wooof',...</td>\n",
       "    </tr>\n",
       "    <tr>\n",
       "      <th>2095</th>\n",
       "      <td>#125 FURNISHED ONLY Beautiful 2BR in Marina</td>\n",
       "      <td>5100</td>\n",
       "      <td>2.0</td>\n",
       "      <td>1300.0</td>\n",
       "      <td>marina / cow hollow</td>\n",
       "      <td>1Ba</td>\n",
       "      <td>['EV charging', 'cats are OK - purrr', 'dogs a...</td>\n",
       "    </tr>\n",
       "    <tr>\n",
       "      <th>2015</th>\n",
       "      <td>#132 Furnished ONLY Beautiful Mansion in Heart...</td>\n",
       "      <td>9000</td>\n",
       "      <td>3.0</td>\n",
       "      <td>3500.0</td>\n",
       "      <td>pacific heights</td>\n",
       "      <td>2.5Ba</td>\n",
       "      <td>['furnished', 'apartment', 'w/d in unit', 'no ...</td>\n",
       "    </tr>\n",
       "  </tbody>\n",
       "</table>\n",
       "</div>"
      ],
      "text/plain": [
       "                                                  title  price  brs    sqft  \\\n",
       "2245    \"INCENTIVE\" IN THE HEART OF THE DUBOCE TRIANGLE   3700  3.0     NaN   \n",
       "1980  #107 Furnished Only Heaven by Views, Luxury, S...   6800  2.0  1600.0   \n",
       "2018  #120 Furnished ONLY Gorgeous, Cozy Junior-One-...   3500  1.0   550.0   \n",
       "2095        #125 FURNISHED ONLY Beautiful 2BR in Marina   5100  2.0  1300.0   \n",
       "2015  #132 Furnished ONLY Beautiful Mansion in Heart...   9000  3.0  3500.0   \n",
       "\n",
       "                       hood   bath  \\\n",
       "2245  castro / upper market    1Ba   \n",
       "1980        pacific heights    2Ba   \n",
       "2018        pacific heights    1Ba   \n",
       "2095    marina / cow hollow    1Ba   \n",
       "2015        pacific heights  2.5Ba   \n",
       "\n",
       "                                              amenities  \n",
       "2245  ['application fee details: $30 Per Applicant',...  \n",
       "1980  ['furnished', 'apartment', 'w/d in unit', 'no ...  \n",
       "2018  ['cats are OK - purrr', 'dogs are OK - wooof',...  \n",
       "2095  ['EV charging', 'cats are OK - purrr', 'dogs a...  \n",
       "2015  ['furnished', 'apartment', 'w/d in unit', 'no ...  "
      ]
     },
     "execution_count": 12,
     "metadata": {},
     "output_type": "execute_result"
    }
   ],
   "source": [
    "sf.head()"
   ]
  },
  {
   "cell_type": "code",
   "execution_count": 13,
   "metadata": {
    "ExecuteTime": {
     "end_time": "2020-10-04T22:45:14.882298Z",
     "start_time": "2020-10-04T22:45:14.878940Z"
    }
   },
   "outputs": [
    {
     "data": {
      "text/plain": [
       "2461"
      ]
     },
     "execution_count": 13,
     "metadata": {},
     "output_type": "execute_result"
    }
   ],
   "source": [
    "len(sf)"
   ]
  },
  {
   "cell_type": "markdown",
   "metadata": {},
   "source": [
    "## Cleaning Bathrooms\n",
    "\n",
    "\n",
    "My scrape returned string values for the bathroom fields. Here I'll remove the 'Ba' suffix and also deal with two non-numerical values: `SharedBa` and `splitBa`."
   ]
  },
  {
   "cell_type": "code",
   "execution_count": 14,
   "metadata": {
    "ExecuteTime": {
     "end_time": "2020-10-04T22:45:14.890017Z",
     "start_time": "2020-10-04T22:45:14.884775Z"
    },
    "scrolled": true
   },
   "outputs": [
    {
     "data": {
      "text/plain": [
       "array(['1Ba', '2Ba', '2.5Ba', nan, '3.5Ba', 'sharedBa', '0Ba', '3Ba',\n",
       "       '1.5Ba', 'splitBa', '4Ba', '5.5Ba', '4.5Ba'], dtype=object)"
      ]
     },
     "execution_count": 14,
     "metadata": {},
     "output_type": "execute_result"
    }
   ],
   "source": [
    "sf.bath.unique()"
   ]
  },
  {
   "cell_type": "markdown",
   "metadata": {},
   "source": [
    "What does `sharedBa` mean? "
   ]
  },
  {
   "cell_type": "code",
   "execution_count": 15,
   "metadata": {
    "ExecuteTime": {
     "end_time": "2020-10-04T22:45:14.895698Z",
     "start_time": "2020-10-04T22:45:14.891872Z"
    }
   },
   "outputs": [],
   "source": [
    "shared_baths = sf_raw[(sf_raw.bath == 'sharedBa')]\n",
    "\n",
    "shared_baths_links = list(shared_baths.link)"
   ]
  },
  {
   "cell_type": "code",
   "execution_count": 16,
   "metadata": {
    "ExecuteTime": {
     "end_time": "2020-10-04T22:45:14.901290Z",
     "start_time": "2020-10-04T22:45:14.897415Z"
    }
   },
   "outputs": [
    {
     "data": {
      "text/plain": [
       "15"
      ]
     },
     "execution_count": 16,
     "metadata": {},
     "output_type": "execute_result"
    }
   ],
   "source": [
    "# number of listings with shared bath\n",
    "len(shared_baths)"
   ]
  },
  {
   "cell_type": "code",
   "execution_count": 17,
   "metadata": {
    "ExecuteTime": {
     "end_time": "2020-10-04T22:45:14.906083Z",
     "start_time": "2020-10-04T22:45:14.903000Z"
    }
   },
   "outputs": [
    {
     "name": "stdout",
     "output_type": "stream",
     "text": [
      "https://sfbay.craigslist.org/sfc/apa/d/san-francisco-spoons-when-all-you-need/7206516011.html\n",
      "\n",
      "https://sfbay.craigslist.org/sfc/apa/d/excelente-oportunidad-centrico-sf/7206512351.html\n",
      "\n",
      "https://sfbay.craigslist.org/sfc/apa/d/san-francisco-fabulous-mission-studio/7200480477.html\n",
      "\n",
      "https://sfbay.craigslist.org/sfc/apa/d/1400-private-rm-not-share-for-rent/7205302134.html\n",
      "\n",
      "https://sfbay.craigslist.org/sfc/apa/d/best-room-rate-in-north-beach/7203890620.html\n",
      "\n"
     ]
    }
   ],
   "source": [
    "# Investigating a few links\n",
    "for link in shared_baths_links[:5]:\n",
    "    print(link)\n",
    "    print(\"\")"
   ]
  },
  {
   "cell_type": "markdown",
   "metadata": {},
   "source": [
    "After viewing several posts, listings with `sharedBa` are not full apartment/housing options -- they are a shared living arrangement and should be dropped."
   ]
  },
  {
   "cell_type": "code",
   "execution_count": 18,
   "metadata": {
    "ExecuteTime": {
     "end_time": "2020-10-04T22:45:14.911077Z",
     "start_time": "2020-10-04T22:45:14.907737Z"
    }
   },
   "outputs": [],
   "source": [
    "sf = sf[sf.bath != 'sharedBa']"
   ]
  },
  {
   "cell_type": "code",
   "execution_count": 19,
   "metadata": {
    "ExecuteTime": {
     "end_time": "2020-10-04T22:45:14.916601Z",
     "start_time": "2020-10-04T22:45:14.912831Z"
    }
   },
   "outputs": [
    {
     "data": {
      "text/plain": [
       "array(['1Ba', '2Ba', '2.5Ba', nan, '3.5Ba', '0Ba', '3Ba', '1.5Ba',\n",
       "       'splitBa', '4Ba', '5.5Ba', '4.5Ba'], dtype=object)"
      ]
     },
     "execution_count": 19,
     "metadata": {},
     "output_type": "execute_result"
    }
   ],
   "source": [
    "sf.bath.unique()"
   ]
  },
  {
   "cell_type": "markdown",
   "metadata": {},
   "source": [
    "Next - `splitBa` values. \n",
    "\n",
    "After reviewing a few links, it looks like `splitBa` means it has a private bathroom, but the sink and toilet/shower are just separate -- these will be converted to 1."
   ]
  },
  {
   "cell_type": "code",
   "execution_count": 20,
   "metadata": {
    "ExecuteTime": {
     "end_time": "2020-10-04T22:45:14.921304Z",
     "start_time": "2020-10-04T22:45:14.918277Z"
    }
   },
   "outputs": [],
   "source": [
    "sf['bath'] = sf['bath'].replace('splitBa', '1Ba')"
   ]
  },
  {
   "cell_type": "code",
   "execution_count": 21,
   "metadata": {
    "ExecuteTime": {
     "end_time": "2020-10-04T22:45:14.926210Z",
     "start_time": "2020-10-04T22:45:14.922893Z"
    },
    "scrolled": true
   },
   "outputs": [
    {
     "data": {
      "text/plain": [
       "array(['1Ba', '2Ba', '2.5Ba', nan, '3.5Ba', '0Ba', '3Ba', '1.5Ba', '4Ba',\n",
       "       '5.5Ba', '4.5Ba'], dtype=object)"
      ]
     },
     "execution_count": 21,
     "metadata": {},
     "output_type": "execute_result"
    }
   ],
   "source": [
    "sf.bath.unique()"
   ]
  },
  {
   "cell_type": "markdown",
   "metadata": {},
   "source": [
    "What about `nan` and `0Ba`? "
   ]
  },
  {
   "cell_type": "code",
   "execution_count": 22,
   "metadata": {
    "ExecuteTime": {
     "end_time": "2020-10-04T22:45:14.936948Z",
     "start_time": "2020-10-04T22:45:14.932174Z"
    }
   },
   "outputs": [
    {
     "data": {
      "text/plain": [
       "9"
      ]
     },
     "execution_count": 22,
     "metadata": {},
     "output_type": "execute_result"
    }
   ],
   "source": [
    "missing_bath_info = sf_raw[(sf_raw.bath == np.nan) | \n",
    "                          (sf_raw.bath == '0Ba')]\n",
    "\n",
    "len(missing_bath_info)"
   ]
  },
  {
   "cell_type": "code",
   "execution_count": 23,
   "metadata": {
    "ExecuteTime": {
     "end_time": "2020-10-04T22:45:14.943403Z",
     "start_time": "2020-10-04T22:45:14.940765Z"
    }
   },
   "outputs": [
    {
     "name": "stdout",
     "output_type": "stream",
     "text": [
      "https://sfbay.craigslist.org/sfc/apa/d/san-francisco-beautiful-house-for-rent/7206621152.html\n",
      "\n",
      "https://sfbay.craigslist.org/sfc/apa/d/san-francisco-sunny-victorian-flat/7206563979.html\n",
      "\n",
      "https://sfbay.craigslist.org/sfc/apa/d/san-francisco-two-bedroom-1200-sq-ft/7206561289.html\n",
      "\n",
      "https://sfbay.craigslist.org/sfc/apa/d/san-francisco-airy-bright-marina-1br/7206542254.html\n",
      "\n",
      "https://sfbay.craigslist.org/sfc/apa/d/san-francisco-7th-floor-corner-jr-1-bd/7191572212.html\n",
      "\n",
      "https://sfbay.craigslist.org/sfc/apa/d/san-francisco-2847-turk-street-san/7201729219.html\n",
      "\n",
      "https://sfbay.craigslist.org/sfc/apa/d/san-francisco-live-work-space-in-modern/7197876630.html\n",
      "\n",
      "https://sfbay.craigslist.org/sfc/apa/d/huge-1-bed-hardwood-gas-eat-in-kit/7206260644.html\n",
      "\n",
      "https://sfbay.craigslist.org/sfc/apa/d/san-francisco-bed-1bathh-wd-free/7206132572.html\n",
      "\n"
     ]
    }
   ],
   "source": [
    "for link in missing_bath_info.link:\n",
    "    print(link)\n",
    "    print('')"
   ]
  },
  {
   "cell_type": "markdown",
   "metadata": {},
   "source": [
    "These all have 1 bathroom -- the poster just didn't bother specifying. These values will also be converted to 1."
   ]
  },
  {
   "cell_type": "code",
   "execution_count": 24,
   "metadata": {
    "ExecuteTime": {
     "end_time": "2020-10-04T22:45:14.948492Z",
     "start_time": "2020-10-04T22:45:14.944806Z"
    }
   },
   "outputs": [],
   "source": [
    "sf['bath'] = sf['bath'].replace(np.nan, '1Ba')\n",
    "sf['bath'] = sf['bath'].replace('0Ba', '1Ba')"
   ]
  },
  {
   "cell_type": "code",
   "execution_count": 25,
   "metadata": {
    "ExecuteTime": {
     "end_time": "2020-10-04T22:45:14.953165Z",
     "start_time": "2020-10-04T22:45:14.949991Z"
    },
    "scrolled": true
   },
   "outputs": [
    {
     "data": {
      "text/plain": [
       "array(['1Ba', '2Ba', '2.5Ba', '3.5Ba', '3Ba', '1.5Ba', '4Ba', '5.5Ba',\n",
       "       '4.5Ba'], dtype=object)"
      ]
     },
     "execution_count": 25,
     "metadata": {},
     "output_type": "execute_result"
    }
   ],
   "source": [
    "sf.bath.unique()"
   ]
  },
  {
   "cell_type": "markdown",
   "metadata": {},
   "source": [
    "Now to take care of the 'Ba' suffix and convert everything to a float"
   ]
  },
  {
   "cell_type": "code",
   "execution_count": 26,
   "metadata": {
    "ExecuteTime": {
     "end_time": "2020-10-04T22:45:14.959462Z",
     "start_time": "2020-10-04T22:45:14.954666Z"
    }
   },
   "outputs": [],
   "source": [
    "sf['bath'] = sf['bath'].str.replace('Ba', '').astype(float)"
   ]
  },
  {
   "cell_type": "code",
   "execution_count": 27,
   "metadata": {
    "ExecuteTime": {
     "end_time": "2020-10-04T22:45:14.969897Z",
     "start_time": "2020-10-04T22:45:14.960782Z"
    }
   },
   "outputs": [
    {
     "data": {
      "text/html": [
       "<div>\n",
       "<style scoped>\n",
       "    .dataframe tbody tr th:only-of-type {\n",
       "        vertical-align: middle;\n",
       "    }\n",
       "\n",
       "    .dataframe tbody tr th {\n",
       "        vertical-align: top;\n",
       "    }\n",
       "\n",
       "    .dataframe thead th {\n",
       "        text-align: right;\n",
       "    }\n",
       "</style>\n",
       "<table border=\"1\" class=\"dataframe\">\n",
       "  <thead>\n",
       "    <tr style=\"text-align: right;\">\n",
       "      <th></th>\n",
       "      <th>title</th>\n",
       "      <th>price</th>\n",
       "      <th>brs</th>\n",
       "      <th>sqft</th>\n",
       "      <th>hood</th>\n",
       "      <th>bath</th>\n",
       "      <th>amenities</th>\n",
       "    </tr>\n",
       "  </thead>\n",
       "  <tbody>\n",
       "    <tr>\n",
       "      <th>2245</th>\n",
       "      <td>\"INCENTIVE\" IN THE HEART OF THE DUBOCE TRIANGLE</td>\n",
       "      <td>3700</td>\n",
       "      <td>3.0</td>\n",
       "      <td>NaN</td>\n",
       "      <td>castro / upper market</td>\n",
       "      <td>1.0</td>\n",
       "      <td>['application fee details: $30 Per Applicant',...</td>\n",
       "    </tr>\n",
       "    <tr>\n",
       "      <th>1980</th>\n",
       "      <td>#107 Furnished Only Heaven by Views, Luxury, S...</td>\n",
       "      <td>6800</td>\n",
       "      <td>2.0</td>\n",
       "      <td>1600.0</td>\n",
       "      <td>pacific heights</td>\n",
       "      <td>2.0</td>\n",
       "      <td>['furnished', 'apartment', 'w/d in unit', 'no ...</td>\n",
       "    </tr>\n",
       "    <tr>\n",
       "      <th>2018</th>\n",
       "      <td>#120 Furnished ONLY Gorgeous, Cozy Junior-One-...</td>\n",
       "      <td>3500</td>\n",
       "      <td>1.0</td>\n",
       "      <td>550.0</td>\n",
       "      <td>pacific heights</td>\n",
       "      <td>1.0</td>\n",
       "      <td>['cats are OK - purrr', 'dogs are OK - wooof',...</td>\n",
       "    </tr>\n",
       "    <tr>\n",
       "      <th>2095</th>\n",
       "      <td>#125 FURNISHED ONLY Beautiful 2BR in Marina</td>\n",
       "      <td>5100</td>\n",
       "      <td>2.0</td>\n",
       "      <td>1300.0</td>\n",
       "      <td>marina / cow hollow</td>\n",
       "      <td>1.0</td>\n",
       "      <td>['EV charging', 'cats are OK - purrr', 'dogs a...</td>\n",
       "    </tr>\n",
       "    <tr>\n",
       "      <th>2015</th>\n",
       "      <td>#132 Furnished ONLY Beautiful Mansion in Heart...</td>\n",
       "      <td>9000</td>\n",
       "      <td>3.0</td>\n",
       "      <td>3500.0</td>\n",
       "      <td>pacific heights</td>\n",
       "      <td>2.5</td>\n",
       "      <td>['furnished', 'apartment', 'w/d in unit', 'no ...</td>\n",
       "    </tr>\n",
       "  </tbody>\n",
       "</table>\n",
       "</div>"
      ],
      "text/plain": [
       "                                                  title  price  brs    sqft  \\\n",
       "2245    \"INCENTIVE\" IN THE HEART OF THE DUBOCE TRIANGLE   3700  3.0     NaN   \n",
       "1980  #107 Furnished Only Heaven by Views, Luxury, S...   6800  2.0  1600.0   \n",
       "2018  #120 Furnished ONLY Gorgeous, Cozy Junior-One-...   3500  1.0   550.0   \n",
       "2095        #125 FURNISHED ONLY Beautiful 2BR in Marina   5100  2.0  1300.0   \n",
       "2015  #132 Furnished ONLY Beautiful Mansion in Heart...   9000  3.0  3500.0   \n",
       "\n",
       "                       hood  bath  \\\n",
       "2245  castro / upper market   1.0   \n",
       "1980        pacific heights   2.0   \n",
       "2018        pacific heights   1.0   \n",
       "2095    marina / cow hollow   1.0   \n",
       "2015        pacific heights   2.5   \n",
       "\n",
       "                                              amenities  \n",
       "2245  ['application fee details: $30 Per Applicant',...  \n",
       "1980  ['furnished', 'apartment', 'w/d in unit', 'no ...  \n",
       "2018  ['cats are OK - purrr', 'dogs are OK - wooof',...  \n",
       "2095  ['EV charging', 'cats are OK - purrr', 'dogs a...  \n",
       "2015  ['furnished', 'apartment', 'w/d in unit', 'no ...  "
      ]
     },
     "execution_count": 27,
     "metadata": {},
     "output_type": "execute_result"
    }
   ],
   "source": [
    "sf.head()"
   ]
  },
  {
   "cell_type": "markdown",
   "metadata": {},
   "source": [
    "Clean bathrooms!"
   ]
  },
  {
   "cell_type": "markdown",
   "metadata": {},
   "source": [
    "## Dealing with missing square footage\n",
    "\n",
    "Square footage is likely to be an important feature in determining rent price. Currently it's the column with the most missing values. I'll simply create a new version of `sf` dataframe where there are no missing values for `sqft`. "
   ]
  },
  {
   "cell_type": "code",
   "execution_count": 28,
   "metadata": {
    "ExecuteTime": {
     "end_time": "2020-10-04T22:45:14.979398Z",
     "start_time": "2020-10-04T22:45:14.971664Z"
    }
   },
   "outputs": [
    {
     "name": "stdout",
     "output_type": "stream",
     "text": [
      "<class 'pandas.core.frame.DataFrame'>\n",
      "Int64Index: 2448 entries, 2245 to 2495\n",
      "Data columns (total 7 columns):\n",
      " #   Column     Non-Null Count  Dtype  \n",
      "---  ------     --------------  -----  \n",
      " 0   title      2448 non-null   object \n",
      " 1   price      2448 non-null   int64  \n",
      " 2   brs        1953 non-null   float64\n",
      " 3   sqft       1122 non-null   float64\n",
      " 4   hood       2423 non-null   object \n",
      " 5   bath       2448 non-null   float64\n",
      " 6   amenities  2448 non-null   object \n",
      "dtypes: float64(3), int64(1), object(3)\n",
      "memory usage: 153.0+ KB\n"
     ]
    }
   ],
   "source": [
    "sf.info()"
   ]
  },
  {
   "cell_type": "code",
   "execution_count": 29,
   "metadata": {
    "ExecuteTime": {
     "end_time": "2020-10-04T22:45:14.984031Z",
     "start_time": "2020-10-04T22:45:14.981043Z"
    }
   },
   "outputs": [],
   "source": [
    "sf = sf[sf['sqft'].notna()]"
   ]
  },
  {
   "cell_type": "code",
   "execution_count": 30,
   "metadata": {
    "ExecuteTime": {
     "end_time": "2020-10-04T22:45:14.993836Z",
     "start_time": "2020-10-04T22:45:14.985388Z"
    }
   },
   "outputs": [
    {
     "data": {
      "text/html": [
       "<div>\n",
       "<style scoped>\n",
       "    .dataframe tbody tr th:only-of-type {\n",
       "        vertical-align: middle;\n",
       "    }\n",
       "\n",
       "    .dataframe tbody tr th {\n",
       "        vertical-align: top;\n",
       "    }\n",
       "\n",
       "    .dataframe thead th {\n",
       "        text-align: right;\n",
       "    }\n",
       "</style>\n",
       "<table border=\"1\" class=\"dataframe\">\n",
       "  <thead>\n",
       "    <tr style=\"text-align: right;\">\n",
       "      <th></th>\n",
       "      <th>title</th>\n",
       "      <th>price</th>\n",
       "      <th>brs</th>\n",
       "      <th>sqft</th>\n",
       "      <th>hood</th>\n",
       "      <th>bath</th>\n",
       "      <th>amenities</th>\n",
       "    </tr>\n",
       "  </thead>\n",
       "  <tbody>\n",
       "    <tr>\n",
       "      <th>1980</th>\n",
       "      <td>#107 Furnished Only Heaven by Views, Luxury, S...</td>\n",
       "      <td>6800</td>\n",
       "      <td>2.0</td>\n",
       "      <td>1600.0</td>\n",
       "      <td>pacific heights</td>\n",
       "      <td>2.0</td>\n",
       "      <td>['furnished', 'apartment', 'w/d in unit', 'no ...</td>\n",
       "    </tr>\n",
       "    <tr>\n",
       "      <th>2018</th>\n",
       "      <td>#120 Furnished ONLY Gorgeous, Cozy Junior-One-...</td>\n",
       "      <td>3500</td>\n",
       "      <td>1.0</td>\n",
       "      <td>550.0</td>\n",
       "      <td>pacific heights</td>\n",
       "      <td>1.0</td>\n",
       "      <td>['cats are OK - purrr', 'dogs are OK - wooof',...</td>\n",
       "    </tr>\n",
       "    <tr>\n",
       "      <th>2095</th>\n",
       "      <td>#125 FURNISHED ONLY Beautiful 2BR in Marina</td>\n",
       "      <td>5100</td>\n",
       "      <td>2.0</td>\n",
       "      <td>1300.0</td>\n",
       "      <td>marina / cow hollow</td>\n",
       "      <td>1.0</td>\n",
       "      <td>['EV charging', 'cats are OK - purrr', 'dogs a...</td>\n",
       "    </tr>\n",
       "    <tr>\n",
       "      <th>2015</th>\n",
       "      <td>#132 Furnished ONLY Beautiful Mansion in Heart...</td>\n",
       "      <td>9000</td>\n",
       "      <td>3.0</td>\n",
       "      <td>3500.0</td>\n",
       "      <td>pacific heights</td>\n",
       "      <td>2.5</td>\n",
       "      <td>['furnished', 'apartment', 'w/d in unit', 'no ...</td>\n",
       "    </tr>\n",
       "    <tr>\n",
       "      <th>2013</th>\n",
       "      <td>#158 Furnished ONLY Jr 1 bedroom w/ Parking at...</td>\n",
       "      <td>3100</td>\n",
       "      <td>1.0</td>\n",
       "      <td>561.0</td>\n",
       "      <td>marina / cow hollow</td>\n",
       "      <td>1.0</td>\n",
       "      <td>['cats are OK - purrr', 'dogs are OK - wooof',...</td>\n",
       "    </tr>\n",
       "  </tbody>\n",
       "</table>\n",
       "</div>"
      ],
      "text/plain": [
       "                                                  title  price  brs    sqft  \\\n",
       "1980  #107 Furnished Only Heaven by Views, Luxury, S...   6800  2.0  1600.0   \n",
       "2018  #120 Furnished ONLY Gorgeous, Cozy Junior-One-...   3500  1.0   550.0   \n",
       "2095        #125 FURNISHED ONLY Beautiful 2BR in Marina   5100  2.0  1300.0   \n",
       "2015  #132 Furnished ONLY Beautiful Mansion in Heart...   9000  3.0  3500.0   \n",
       "2013  #158 Furnished ONLY Jr 1 bedroom w/ Parking at...   3100  1.0   561.0   \n",
       "\n",
       "                     hood  bath  \\\n",
       "1980      pacific heights   2.0   \n",
       "2018      pacific heights   1.0   \n",
       "2095  marina / cow hollow   1.0   \n",
       "2015      pacific heights   2.5   \n",
       "2013  marina / cow hollow   1.0   \n",
       "\n",
       "                                              amenities  \n",
       "1980  ['furnished', 'apartment', 'w/d in unit', 'no ...  \n",
       "2018  ['cats are OK - purrr', 'dogs are OK - wooof',...  \n",
       "2095  ['EV charging', 'cats are OK - purrr', 'dogs a...  \n",
       "2015  ['furnished', 'apartment', 'w/d in unit', 'no ...  \n",
       "2013  ['cats are OK - purrr', 'dogs are OK - wooof',...  "
      ]
     },
     "execution_count": 30,
     "metadata": {},
     "output_type": "execute_result"
    }
   ],
   "source": [
    "sf.head()"
   ]
  },
  {
   "cell_type": "code",
   "execution_count": 31,
   "metadata": {
    "ExecuteTime": {
     "end_time": "2020-10-04T22:45:15.002639Z",
     "start_time": "2020-10-04T22:45:14.995170Z"
    }
   },
   "outputs": [
    {
     "name": "stdout",
     "output_type": "stream",
     "text": [
      "<class 'pandas.core.frame.DataFrame'>\n",
      "Int64Index: 1122 entries, 1980 to 225\n",
      "Data columns (total 7 columns):\n",
      " #   Column     Non-Null Count  Dtype  \n",
      "---  ------     --------------  -----  \n",
      " 0   title      1122 non-null   object \n",
      " 1   price      1122 non-null   int64  \n",
      " 2   brs        942 non-null    float64\n",
      " 3   sqft       1122 non-null   float64\n",
      " 4   hood       1101 non-null   object \n",
      " 5   bath       1122 non-null   float64\n",
      " 6   amenities  1122 non-null   object \n",
      "dtypes: float64(3), int64(1), object(3)\n",
      "memory usage: 70.1+ KB\n"
     ]
    }
   ],
   "source": [
    "sf.info()"
   ]
  },
  {
   "cell_type": "markdown",
   "metadata": {},
   "source": [
    "Great! Now bedrooms is the limiting feature. Let's see if I can boost that number a little higher."
   ]
  },
  {
   "cell_type": "markdown",
   "metadata": {},
   "source": [
    "## Cleaning Bedrooms"
   ]
  },
  {
   "cell_type": "code",
   "execution_count": 32,
   "metadata": {
    "ExecuteTime": {
     "end_time": "2020-10-04T22:45:15.007664Z",
     "start_time": "2020-10-04T22:45:15.004157Z"
    }
   },
   "outputs": [
    {
     "data": {
      "text/plain": [
       "array([ 2.,  1.,  3.,  4., nan,  5.,  6.])"
      ]
     },
     "execution_count": 32,
     "metadata": {},
     "output_type": "execute_result"
    }
   ],
   "source": [
    "sf.brs.unique()"
   ]
  },
  {
   "cell_type": "code",
   "execution_count": 33,
   "metadata": {
    "ExecuteTime": {
     "end_time": "2020-10-04T22:45:15.012102Z",
     "start_time": "2020-10-04T22:45:15.009066Z"
    }
   },
   "outputs": [
    {
     "data": {
      "text/plain": [
       "7"
      ]
     },
     "execution_count": 33,
     "metadata": {},
     "output_type": "execute_result"
    }
   ],
   "source": [
    "len(sf.brs.unique())"
   ]
  },
  {
   "cell_type": "markdown",
   "metadata": {},
   "source": [
    "How many nan value? "
   ]
  },
  {
   "cell_type": "code",
   "execution_count": 34,
   "metadata": {
    "ExecuteTime": {
     "end_time": "2020-10-04T22:45:15.015981Z",
     "start_time": "2020-10-04T22:45:15.013427Z"
    }
   },
   "outputs": [],
   "source": [
    "missing_brs = sf[sf.brs.isnull()]"
   ]
  },
  {
   "cell_type": "code",
   "execution_count": 35,
   "metadata": {
    "ExecuteTime": {
     "end_time": "2020-10-04T22:45:15.025841Z",
     "start_time": "2020-10-04T22:45:15.017559Z"
    }
   },
   "outputs": [
    {
     "data": {
      "text/html": [
       "<div>\n",
       "<style scoped>\n",
       "    .dataframe tbody tr th:only-of-type {\n",
       "        vertical-align: middle;\n",
       "    }\n",
       "\n",
       "    .dataframe tbody tr th {\n",
       "        vertical-align: top;\n",
       "    }\n",
       "\n",
       "    .dataframe thead th {\n",
       "        text-align: right;\n",
       "    }\n",
       "</style>\n",
       "<table border=\"1\" class=\"dataframe\">\n",
       "  <thead>\n",
       "    <tr style=\"text-align: right;\">\n",
       "      <th></th>\n",
       "      <th>title</th>\n",
       "      <th>price</th>\n",
       "      <th>brs</th>\n",
       "      <th>sqft</th>\n",
       "      <th>hood</th>\n",
       "      <th>bath</th>\n",
       "      <th>amenities</th>\n",
       "    </tr>\n",
       "  </thead>\n",
       "  <tbody>\n",
       "    <tr>\n",
       "      <th>2276</th>\n",
       "      <td>#LiveTuring Fantastic Studios! 8 Weeks Free! T...</td>\n",
       "      <td>2495</td>\n",
       "      <td>NaN</td>\n",
       "      <td>563.0</td>\n",
       "      <td>NaN</td>\n",
       "      <td>1.0</td>\n",
       "      <td>['apartment']</td>\n",
       "    </tr>\n",
       "    <tr>\n",
       "      <th>2419</th>\n",
       "      <td>***LIKE NEW STUDIO that feels like 1 Bedroom A...</td>\n",
       "      <td>1880</td>\n",
       "      <td>NaN</td>\n",
       "      <td>350.0</td>\n",
       "      <td>SOMA / south beach</td>\n",
       "      <td>1.0</td>\n",
       "      <td>['application fee details: $20', 'apartment', ...</td>\n",
       "    </tr>\n",
       "    <tr>\n",
       "      <th>795</th>\n",
       "      <td>**8 Weeks Free** Studio Apartment at 923 Folsom</td>\n",
       "      <td>2705</td>\n",
       "      <td>NaN</td>\n",
       "      <td>509.0</td>\n",
       "      <td>SOMA / south beach</td>\n",
       "      <td>1.0</td>\n",
       "      <td>['cats are OK - purrr', 'dogs are OK - wooof',...</td>\n",
       "    </tr>\n",
       "  </tbody>\n",
       "</table>\n",
       "</div>"
      ],
      "text/plain": [
       "                                                  title  price  brs   sqft  \\\n",
       "2276  #LiveTuring Fantastic Studios! 8 Weeks Free! T...   2495  NaN  563.0   \n",
       "2419  ***LIKE NEW STUDIO that feels like 1 Bedroom A...   1880  NaN  350.0   \n",
       "795     **8 Weeks Free** Studio Apartment at 923 Folsom   2705  NaN  509.0   \n",
       "\n",
       "                    hood  bath  \\\n",
       "2276                 NaN   1.0   \n",
       "2419  SOMA / south beach   1.0   \n",
       "795   SOMA / south beach   1.0   \n",
       "\n",
       "                                              amenities  \n",
       "2276                                      ['apartment']  \n",
       "2419  ['application fee details: $20', 'apartment', ...  \n",
       "795   ['cats are OK - purrr', 'dogs are OK - wooof',...  "
      ]
     },
     "execution_count": 35,
     "metadata": {},
     "output_type": "execute_result"
    }
   ],
   "source": [
    "missing_brs.head(3)"
   ]
  },
  {
   "cell_type": "code",
   "execution_count": 36,
   "metadata": {
    "ExecuteTime": {
     "end_time": "2020-10-04T22:45:15.029952Z",
     "start_time": "2020-10-04T22:45:15.027461Z"
    },
    "scrolled": true
   },
   "outputs": [
    {
     "name": "stdout",
     "output_type": "stream",
     "text": [
      "Number of missing bedroom rows:  180\n"
     ]
    }
   ],
   "source": [
    "print(\"Number of missing bedroom rows: \", len(missing_brs))"
   ]
  },
  {
   "cell_type": "markdown",
   "metadata": {},
   "source": [
    "What are these nan values? Need to take a look at a few links to see what's happening."
   ]
  },
  {
   "cell_type": "code",
   "execution_count": 37,
   "metadata": {
    "ExecuteTime": {
     "end_time": "2020-10-04T22:45:15.036192Z",
     "start_time": "2020-10-04T22:45:15.031582Z"
    },
    "scrolled": true
   },
   "outputs": [],
   "source": [
    "br_nans = sf_raw[sf_raw['brs'].isnull()]\n",
    "\n",
    "br_nan_links = list(br_nans.link)"
   ]
  },
  {
   "cell_type": "code",
   "execution_count": 38,
   "metadata": {
    "ExecuteTime": {
     "end_time": "2020-10-04T22:45:15.042106Z",
     "start_time": "2020-10-04T22:45:15.038433Z"
    }
   },
   "outputs": [
    {
     "name": "stdout",
     "output_type": "stream",
     "text": [
      "https://sfbay.craigslist.org/sfc/apa/d/san-francisco-huge-newly-remodeled/7206619643.html\n",
      "\n",
      "https://sfbay.craigslist.org/sfc/apa/d/san-francisco-cozy-edwardian-apartment/7194887293.html\n",
      "\n",
      "https://sfbay.craigslist.org/sfc/apa/d/san-francisco-fifth-floor-studio-in/7206615888.html\n",
      "\n",
      "https://sfbay.craigslist.org/sfc/apa/d/san-francisco-second-floor-studio/7202953088.html\n",
      "\n",
      "https://sfbay.craigslist.org/sfc/apa/d/san-francisco-1bd-1bath-california/7200175190.html\n",
      "\n"
     ]
    }
   ],
   "source": [
    "for link in br_nan_links[:5]:\n",
    "    print(link)\n",
    "    print('')"
   ]
  },
  {
   "cell_type": "code",
   "execution_count": 39,
   "metadata": {
    "ExecuteTime": {
     "end_time": "2020-10-04T22:45:15.047460Z",
     "start_time": "2020-10-04T22:45:15.043781Z"
    }
   },
   "outputs": [
    {
     "name": "stdout",
     "output_type": "stream",
     "text": [
      "https://sfbay.craigslist.org/sfc/apa/d/san-francisco-wow-prices-you-cant-beat/7206609316.html\n",
      "\n",
      "https://sfbay.craigslist.org/sfc/apa/d/san-francisco-2-months-free-newly/7206609071.html\n",
      "\n",
      "https://sfbay.craigslist.org/sfc/apa/d/san-francisco-nob-hill-efficiency/7205168796.html\n",
      "\n",
      "https://sfbay.craigslist.org/sfc/apa/d/san-francisco-always-fresh-forever/7206603015.html\n",
      "\n",
      "https://sfbay.craigslist.org/sfc/apa/d/san-francisco-two-months-free-studio-in/7206586455.html\n",
      "\n",
      "https://sfbay.craigslist.org/sfc/apa/d/san-francisco-available-now-4-bedroom-2/7200487016.html\n",
      "\n"
     ]
    }
   ],
   "source": [
    "for link in br_nan_links[9:15]:\n",
    "    print(link)\n",
    "    print('')"
   ]
  },
  {
   "cell_type": "markdown",
   "metadata": {},
   "source": [
    "It seems like a mix -- some are studios, some have 1 or more bedrooms. The key is in the title. So I'll try to parse through the title and if it contains and key words that I can fill in."
   ]
  },
  {
   "cell_type": "code",
   "execution_count": 40,
   "metadata": {
    "ExecuteTime": {
     "end_time": "2020-10-04T22:45:15.054080Z",
     "start_time": "2020-10-04T22:45:15.049406Z"
    }
   },
   "outputs": [],
   "source": [
    "# Function to fill missing bedroom information\n",
    "# by parsing through titles for key words: \n",
    "\n",
    "def replace_missing_brs(post_title):\n",
    "    if 'studio' in post_title.lower():\n",
    "        return 0\n",
    "    elif '1br' in post_title.lower().replace(' ', ''):\n",
    "        return 1\n",
    "    elif '1bed' in post_title.lower().replace(' ', ''):\n",
    "        return 1\n",
    "    elif 'onebed' in post_title.lower().replace(' ', ''):\n",
    "        return 1\n",
    "    elif '2br' in post_title.lower().replace(' ', ''):\n",
    "        return 2\n",
    "    elif '3br' in post_title.lower().replace(' ', ''):\n",
    "        return 3\n",
    "    elif '4br' in post_title.lower().replace(' ', ''):\n",
    "        return 4\n",
    "    elif '4bd' in post_title.lower().replace(' ', ''):\n",
    "        return 4\n",
    "    elif '4bed' in post_title.lower().replace(' ', ''):\n",
    "        return 4\n",
    "    else:\n",
    "        pass"
   ]
  },
  {
   "cell_type": "code",
   "execution_count": 41,
   "metadata": {
    "ExecuteTime": {
     "end_time": "2020-10-04T22:45:15.059447Z",
     "start_time": "2020-10-04T22:45:15.056077Z"
    }
   },
   "outputs": [],
   "source": [
    "sf['brs'] = sf['brs'].fillna('missing')"
   ]
  },
  {
   "cell_type": "code",
   "execution_count": 42,
   "metadata": {
    "ExecuteTime": {
     "end_time": "2020-10-04T22:45:15.079172Z",
     "start_time": "2020-10-04T22:45:15.061208Z"
    }
   },
   "outputs": [],
   "source": [
    "sf['beds'] = sf.apply(\n",
    "    lambda row: replace_missing_brs(row['title']) if row['brs'] == 'missing' else row['brs'], axis=1)"
   ]
  },
  {
   "cell_type": "code",
   "execution_count": 43,
   "metadata": {
    "ExecuteTime": {
     "end_time": "2020-10-04T22:45:15.090113Z",
     "start_time": "2020-10-04T22:45:15.080772Z"
    }
   },
   "outputs": [
    {
     "data": {
      "text/html": [
       "<div>\n",
       "<style scoped>\n",
       "    .dataframe tbody tr th:only-of-type {\n",
       "        vertical-align: middle;\n",
       "    }\n",
       "\n",
       "    .dataframe tbody tr th {\n",
       "        vertical-align: top;\n",
       "    }\n",
       "\n",
       "    .dataframe thead th {\n",
       "        text-align: right;\n",
       "    }\n",
       "</style>\n",
       "<table border=\"1\" class=\"dataframe\">\n",
       "  <thead>\n",
       "    <tr style=\"text-align: right;\">\n",
       "      <th></th>\n",
       "      <th>title</th>\n",
       "      <th>price</th>\n",
       "      <th>brs</th>\n",
       "      <th>sqft</th>\n",
       "      <th>hood</th>\n",
       "      <th>bath</th>\n",
       "      <th>amenities</th>\n",
       "      <th>beds</th>\n",
       "    </tr>\n",
       "  </thead>\n",
       "  <tbody>\n",
       "    <tr>\n",
       "      <th>1980</th>\n",
       "      <td>#107 Furnished Only Heaven by Views, Luxury, S...</td>\n",
       "      <td>6800</td>\n",
       "      <td>2</td>\n",
       "      <td>1600.0</td>\n",
       "      <td>pacific heights</td>\n",
       "      <td>2.0</td>\n",
       "      <td>['furnished', 'apartment', 'w/d in unit', 'no ...</td>\n",
       "      <td>2.0</td>\n",
       "    </tr>\n",
       "    <tr>\n",
       "      <th>2018</th>\n",
       "      <td>#120 Furnished ONLY Gorgeous, Cozy Junior-One-...</td>\n",
       "      <td>3500</td>\n",
       "      <td>1</td>\n",
       "      <td>550.0</td>\n",
       "      <td>pacific heights</td>\n",
       "      <td>1.0</td>\n",
       "      <td>['cats are OK - purrr', 'dogs are OK - wooof',...</td>\n",
       "      <td>1.0</td>\n",
       "    </tr>\n",
       "    <tr>\n",
       "      <th>2095</th>\n",
       "      <td>#125 FURNISHED ONLY Beautiful 2BR in Marina</td>\n",
       "      <td>5100</td>\n",
       "      <td>2</td>\n",
       "      <td>1300.0</td>\n",
       "      <td>marina / cow hollow</td>\n",
       "      <td>1.0</td>\n",
       "      <td>['EV charging', 'cats are OK - purrr', 'dogs a...</td>\n",
       "      <td>2.0</td>\n",
       "    </tr>\n",
       "    <tr>\n",
       "      <th>2015</th>\n",
       "      <td>#132 Furnished ONLY Beautiful Mansion in Heart...</td>\n",
       "      <td>9000</td>\n",
       "      <td>3</td>\n",
       "      <td>3500.0</td>\n",
       "      <td>pacific heights</td>\n",
       "      <td>2.5</td>\n",
       "      <td>['furnished', 'apartment', 'w/d in unit', 'no ...</td>\n",
       "      <td>3.0</td>\n",
       "    </tr>\n",
       "    <tr>\n",
       "      <th>2013</th>\n",
       "      <td>#158 Furnished ONLY Jr 1 bedroom w/ Parking at...</td>\n",
       "      <td>3100</td>\n",
       "      <td>1</td>\n",
       "      <td>561.0</td>\n",
       "      <td>marina / cow hollow</td>\n",
       "      <td>1.0</td>\n",
       "      <td>['cats are OK - purrr', 'dogs are OK - wooof',...</td>\n",
       "      <td>1.0</td>\n",
       "    </tr>\n",
       "  </tbody>\n",
       "</table>\n",
       "</div>"
      ],
      "text/plain": [
       "                                                  title  price brs    sqft  \\\n",
       "1980  #107 Furnished Only Heaven by Views, Luxury, S...   6800   2  1600.0   \n",
       "2018  #120 Furnished ONLY Gorgeous, Cozy Junior-One-...   3500   1   550.0   \n",
       "2095        #125 FURNISHED ONLY Beautiful 2BR in Marina   5100   2  1300.0   \n",
       "2015  #132 Furnished ONLY Beautiful Mansion in Heart...   9000   3  3500.0   \n",
       "2013  #158 Furnished ONLY Jr 1 bedroom w/ Parking at...   3100   1   561.0   \n",
       "\n",
       "                     hood  bath  \\\n",
       "1980      pacific heights   2.0   \n",
       "2018      pacific heights   1.0   \n",
       "2095  marina / cow hollow   1.0   \n",
       "2015      pacific heights   2.5   \n",
       "2013  marina / cow hollow   1.0   \n",
       "\n",
       "                                              amenities  beds  \n",
       "1980  ['furnished', 'apartment', 'w/d in unit', 'no ...   2.0  \n",
       "2018  ['cats are OK - purrr', 'dogs are OK - wooof',...   1.0  \n",
       "2095  ['EV charging', 'cats are OK - purrr', 'dogs a...   2.0  \n",
       "2015  ['furnished', 'apartment', 'w/d in unit', 'no ...   3.0  \n",
       "2013  ['cats are OK - purrr', 'dogs are OK - wooof',...   1.0  "
      ]
     },
     "execution_count": 43,
     "metadata": {},
     "output_type": "execute_result"
    }
   ],
   "source": [
    "sf.head()"
   ]
  },
  {
   "cell_type": "code",
   "execution_count": 44,
   "metadata": {
    "ExecuteTime": {
     "end_time": "2020-10-04T22:45:15.094950Z",
     "start_time": "2020-10-04T22:45:15.091860Z"
    }
   },
   "outputs": [],
   "source": [
    "missing_brs_end = sf[sf['beds'].isnull()]"
   ]
  },
  {
   "cell_type": "code",
   "execution_count": 45,
   "metadata": {
    "ExecuteTime": {
     "end_time": "2020-10-04T22:45:15.099651Z",
     "start_time": "2020-10-04T22:45:15.096318Z"
    }
   },
   "outputs": [
    {
     "name": "stdout",
     "output_type": "stream",
     "text": [
      "Number of missing bedrooms at start:  180\n",
      "Number of missing bedrooms after title parse:  46\n",
      "Number of recoverd bedrooms:  134\n",
      "Percent recovered:  74.44444444444444 %\n"
     ]
    }
   ],
   "source": [
    "print(\"Number of missing bedrooms at start: \", len(missing_brs))\n",
    "print(\"Number of missing bedrooms after title parse: \",len(missing_brs_end))\n",
    "print(\"Number of recoverd bedrooms: \", len(missing_brs) - len(missing_brs_end))\n",
    "print(\"Percent recovered: \", ((len(missing_brs) - len(missing_brs_end)) / len(missing_brs)) * 100, '%')"
   ]
  },
  {
   "cell_type": "markdown",
   "metadata": {},
   "source": [
    "134 bedrooms saved, which is almost 75% of the missing data. Good enough! Now to drop everything else that's missing."
   ]
  },
  {
   "cell_type": "code",
   "execution_count": 46,
   "metadata": {
    "ExecuteTime": {
     "end_time": "2020-10-04T22:45:15.104063Z",
     "start_time": "2020-10-04T22:45:15.101223Z"
    }
   },
   "outputs": [],
   "source": [
    "sf = sf[['title', 'price', 'sqft', 'beds', 'bath', 'hood', 'amenities']]"
   ]
  },
  {
   "cell_type": "code",
   "execution_count": 47,
   "metadata": {
    "ExecuteTime": {
     "end_time": "2020-10-04T22:45:15.108364Z",
     "start_time": "2020-10-04T22:45:15.105477Z"
    }
   },
   "outputs": [],
   "source": [
    "sf = sf[sf['beds'].notna()]"
   ]
  },
  {
   "cell_type": "code",
   "execution_count": 48,
   "metadata": {
    "ExecuteTime": {
     "end_time": "2020-10-04T22:45:15.118730Z",
     "start_time": "2020-10-04T22:45:15.109744Z"
    }
   },
   "outputs": [
    {
     "data": {
      "text/html": [
       "<div>\n",
       "<style scoped>\n",
       "    .dataframe tbody tr th:only-of-type {\n",
       "        vertical-align: middle;\n",
       "    }\n",
       "\n",
       "    .dataframe tbody tr th {\n",
       "        vertical-align: top;\n",
       "    }\n",
       "\n",
       "    .dataframe thead th {\n",
       "        text-align: right;\n",
       "    }\n",
       "</style>\n",
       "<table border=\"1\" class=\"dataframe\">\n",
       "  <thead>\n",
       "    <tr style=\"text-align: right;\">\n",
       "      <th></th>\n",
       "      <th>title</th>\n",
       "      <th>price</th>\n",
       "      <th>sqft</th>\n",
       "      <th>beds</th>\n",
       "      <th>bath</th>\n",
       "      <th>hood</th>\n",
       "      <th>amenities</th>\n",
       "    </tr>\n",
       "  </thead>\n",
       "  <tbody>\n",
       "    <tr>\n",
       "      <th>1980</th>\n",
       "      <td>#107 Furnished Only Heaven by Views, Luxury, S...</td>\n",
       "      <td>6800</td>\n",
       "      <td>1600.0</td>\n",
       "      <td>2.0</td>\n",
       "      <td>2.0</td>\n",
       "      <td>pacific heights</td>\n",
       "      <td>['furnished', 'apartment', 'w/d in unit', 'no ...</td>\n",
       "    </tr>\n",
       "    <tr>\n",
       "      <th>2018</th>\n",
       "      <td>#120 Furnished ONLY Gorgeous, Cozy Junior-One-...</td>\n",
       "      <td>3500</td>\n",
       "      <td>550.0</td>\n",
       "      <td>1.0</td>\n",
       "      <td>1.0</td>\n",
       "      <td>pacific heights</td>\n",
       "      <td>['cats are OK - purrr', 'dogs are OK - wooof',...</td>\n",
       "    </tr>\n",
       "    <tr>\n",
       "      <th>2095</th>\n",
       "      <td>#125 FURNISHED ONLY Beautiful 2BR in Marina</td>\n",
       "      <td>5100</td>\n",
       "      <td>1300.0</td>\n",
       "      <td>2.0</td>\n",
       "      <td>1.0</td>\n",
       "      <td>marina / cow hollow</td>\n",
       "      <td>['EV charging', 'cats are OK - purrr', 'dogs a...</td>\n",
       "    </tr>\n",
       "    <tr>\n",
       "      <th>2015</th>\n",
       "      <td>#132 Furnished ONLY Beautiful Mansion in Heart...</td>\n",
       "      <td>9000</td>\n",
       "      <td>3500.0</td>\n",
       "      <td>3.0</td>\n",
       "      <td>2.5</td>\n",
       "      <td>pacific heights</td>\n",
       "      <td>['furnished', 'apartment', 'w/d in unit', 'no ...</td>\n",
       "    </tr>\n",
       "    <tr>\n",
       "      <th>2013</th>\n",
       "      <td>#158 Furnished ONLY Jr 1 bedroom w/ Parking at...</td>\n",
       "      <td>3100</td>\n",
       "      <td>561.0</td>\n",
       "      <td>1.0</td>\n",
       "      <td>1.0</td>\n",
       "      <td>marina / cow hollow</td>\n",
       "      <td>['cats are OK - purrr', 'dogs are OK - wooof',...</td>\n",
       "    </tr>\n",
       "  </tbody>\n",
       "</table>\n",
       "</div>"
      ],
      "text/plain": [
       "                                                  title  price    sqft  beds  \\\n",
       "1980  #107 Furnished Only Heaven by Views, Luxury, S...   6800  1600.0   2.0   \n",
       "2018  #120 Furnished ONLY Gorgeous, Cozy Junior-One-...   3500   550.0   1.0   \n",
       "2095        #125 FURNISHED ONLY Beautiful 2BR in Marina   5100  1300.0   2.0   \n",
       "2015  #132 Furnished ONLY Beautiful Mansion in Heart...   9000  3500.0   3.0   \n",
       "2013  #158 Furnished ONLY Jr 1 bedroom w/ Parking at...   3100   561.0   1.0   \n",
       "\n",
       "      bath                 hood  \\\n",
       "1980   2.0      pacific heights   \n",
       "2018   1.0      pacific heights   \n",
       "2095   1.0  marina / cow hollow   \n",
       "2015   2.5      pacific heights   \n",
       "2013   1.0  marina / cow hollow   \n",
       "\n",
       "                                              amenities  \n",
       "1980  ['furnished', 'apartment', 'w/d in unit', 'no ...  \n",
       "2018  ['cats are OK - purrr', 'dogs are OK - wooof',...  \n",
       "2095  ['EV charging', 'cats are OK - purrr', 'dogs a...  \n",
       "2015  ['furnished', 'apartment', 'w/d in unit', 'no ...  \n",
       "2013  ['cats are OK - purrr', 'dogs are OK - wooof',...  "
      ]
     },
     "execution_count": 48,
     "metadata": {},
     "output_type": "execute_result"
    }
   ],
   "source": [
    "sf.head()"
   ]
  },
  {
   "cell_type": "markdown",
   "metadata": {},
   "source": [
    "## Amenities\n",
    "\n",
    "Amenities are grouped into a list in the `amenities` column. These amenities values are pre-set fields, and so the values will be standard for each listing. \n",
    "\n",
    "I'll create groupings for each amenity type (laundry, pets allowed, parking, etc), and create a column holding those groups for the listings amenities. "
   ]
  },
  {
   "cell_type": "markdown",
   "metadata": {},
   "source": [
    "First - I need to convert the values in the `amenities` column from a string to a list, and try parsing values through the list values. "
   ]
  },
  {
   "cell_type": "code",
   "execution_count": 49,
   "metadata": {
    "ExecuteTime": {
     "end_time": "2020-10-04T22:45:15.122166Z",
     "start_time": "2020-10-04T22:45:15.119981Z"
    }
   },
   "outputs": [],
   "source": [
    "import ast"
   ]
  },
  {
   "cell_type": "code",
   "execution_count": 50,
   "metadata": {
    "ExecuteTime": {
     "end_time": "2020-10-04T22:45:15.143313Z",
     "start_time": "2020-10-04T22:45:15.123745Z"
    }
   },
   "outputs": [],
   "source": [
    "sf['amens_list'] = sf['amenities'].apply(lambda x: ast.literal_eval(x))"
   ]
  },
  {
   "cell_type": "code",
   "execution_count": 51,
   "metadata": {
    "ExecuteTime": {
     "end_time": "2020-10-04T22:45:15.155664Z",
     "start_time": "2020-10-04T22:45:15.144848Z"
    }
   },
   "outputs": [
    {
     "data": {
      "text/html": [
       "<div>\n",
       "<style scoped>\n",
       "    .dataframe tbody tr th:only-of-type {\n",
       "        vertical-align: middle;\n",
       "    }\n",
       "\n",
       "    .dataframe tbody tr th {\n",
       "        vertical-align: top;\n",
       "    }\n",
       "\n",
       "    .dataframe thead th {\n",
       "        text-align: right;\n",
       "    }\n",
       "</style>\n",
       "<table border=\"1\" class=\"dataframe\">\n",
       "  <thead>\n",
       "    <tr style=\"text-align: right;\">\n",
       "      <th></th>\n",
       "      <th>title</th>\n",
       "      <th>price</th>\n",
       "      <th>sqft</th>\n",
       "      <th>beds</th>\n",
       "      <th>bath</th>\n",
       "      <th>hood</th>\n",
       "      <th>amenities</th>\n",
       "      <th>amens_list</th>\n",
       "    </tr>\n",
       "  </thead>\n",
       "  <tbody>\n",
       "    <tr>\n",
       "      <th>1980</th>\n",
       "      <td>#107 Furnished Only Heaven by Views, Luxury, S...</td>\n",
       "      <td>6800</td>\n",
       "      <td>1600.0</td>\n",
       "      <td>2.0</td>\n",
       "      <td>2.0</td>\n",
       "      <td>pacific heights</td>\n",
       "      <td>['furnished', 'apartment', 'w/d in unit', 'no ...</td>\n",
       "      <td>[furnished, apartment, w/d in unit, no smoking...</td>\n",
       "    </tr>\n",
       "    <tr>\n",
       "      <th>2018</th>\n",
       "      <td>#120 Furnished ONLY Gorgeous, Cozy Junior-One-...</td>\n",
       "      <td>3500</td>\n",
       "      <td>550.0</td>\n",
       "      <td>1.0</td>\n",
       "      <td>1.0</td>\n",
       "      <td>pacific heights</td>\n",
       "      <td>['cats are OK - purrr', 'dogs are OK - wooof',...</td>\n",
       "      <td>[cats are OK - purrr, dogs are OK - wooof, fur...</td>\n",
       "    </tr>\n",
       "    <tr>\n",
       "      <th>2095</th>\n",
       "      <td>#125 FURNISHED ONLY Beautiful 2BR in Marina</td>\n",
       "      <td>5100</td>\n",
       "      <td>1300.0</td>\n",
       "      <td>2.0</td>\n",
       "      <td>1.0</td>\n",
       "      <td>marina / cow hollow</td>\n",
       "      <td>['EV charging', 'cats are OK - purrr', 'dogs a...</td>\n",
       "      <td>[EV charging, cats are OK - purrr, dogs are OK...</td>\n",
       "    </tr>\n",
       "    <tr>\n",
       "      <th>2015</th>\n",
       "      <td>#132 Furnished ONLY Beautiful Mansion in Heart...</td>\n",
       "      <td>9000</td>\n",
       "      <td>3500.0</td>\n",
       "      <td>3.0</td>\n",
       "      <td>2.5</td>\n",
       "      <td>pacific heights</td>\n",
       "      <td>['furnished', 'apartment', 'w/d in unit', 'no ...</td>\n",
       "      <td>[furnished, apartment, w/d in unit, no smoking...</td>\n",
       "    </tr>\n",
       "    <tr>\n",
       "      <th>2013</th>\n",
       "      <td>#158 Furnished ONLY Jr 1 bedroom w/ Parking at...</td>\n",
       "      <td>3100</td>\n",
       "      <td>561.0</td>\n",
       "      <td>1.0</td>\n",
       "      <td>1.0</td>\n",
       "      <td>marina / cow hollow</td>\n",
       "      <td>['cats are OK - purrr', 'dogs are OK - wooof',...</td>\n",
       "      <td>[cats are OK - purrr, dogs are OK - wooof, fur...</td>\n",
       "    </tr>\n",
       "  </tbody>\n",
       "</table>\n",
       "</div>"
      ],
      "text/plain": [
       "                                                  title  price    sqft  beds  \\\n",
       "1980  #107 Furnished Only Heaven by Views, Luxury, S...   6800  1600.0   2.0   \n",
       "2018  #120 Furnished ONLY Gorgeous, Cozy Junior-One-...   3500   550.0   1.0   \n",
       "2095        #125 FURNISHED ONLY Beautiful 2BR in Marina   5100  1300.0   2.0   \n",
       "2015  #132 Furnished ONLY Beautiful Mansion in Heart...   9000  3500.0   3.0   \n",
       "2013  #158 Furnished ONLY Jr 1 bedroom w/ Parking at...   3100   561.0   1.0   \n",
       "\n",
       "      bath                 hood  \\\n",
       "1980   2.0      pacific heights   \n",
       "2018   1.0      pacific heights   \n",
       "2095   1.0  marina / cow hollow   \n",
       "2015   2.5      pacific heights   \n",
       "2013   1.0  marina / cow hollow   \n",
       "\n",
       "                                              amenities  \\\n",
       "1980  ['furnished', 'apartment', 'w/d in unit', 'no ...   \n",
       "2018  ['cats are OK - purrr', 'dogs are OK - wooof',...   \n",
       "2095  ['EV charging', 'cats are OK - purrr', 'dogs a...   \n",
       "2015  ['furnished', 'apartment', 'w/d in unit', 'no ...   \n",
       "2013  ['cats are OK - purrr', 'dogs are OK - wooof',...   \n",
       "\n",
       "                                             amens_list  \n",
       "1980  [furnished, apartment, w/d in unit, no smoking...  \n",
       "2018  [cats are OK - purrr, dogs are OK - wooof, fur...  \n",
       "2095  [EV charging, cats are OK - purrr, dogs are OK...  \n",
       "2015  [furnished, apartment, w/d in unit, no smoking...  \n",
       "2013  [cats are OK - purrr, dogs are OK - wooof, fur...  "
      ]
     },
     "execution_count": 51,
     "metadata": {},
     "output_type": "execute_result"
    }
   ],
   "source": [
    "sf.head()"
   ]
  },
  {
   "cell_type": "code",
   "execution_count": 52,
   "metadata": {
    "ExecuteTime": {
     "end_time": "2020-10-04T22:45:15.160004Z",
     "start_time": "2020-10-04T22:45:15.156916Z"
    }
   },
   "outputs": [
    {
     "data": {
      "text/plain": [
       "['condo', 'w/d in unit', 'attached garage']"
      ]
     },
     "execution_count": 52,
     "metadata": {},
     "output_type": "execute_result"
    }
   ],
   "source": [
    "amen_eg = sf.loc[0, 'amens_list']\n",
    "amen_eg"
   ]
  },
  {
   "cell_type": "code",
   "execution_count": 53,
   "metadata": {
    "ExecuteTime": {
     "end_time": "2020-10-04T22:45:15.163962Z",
     "start_time": "2020-10-04T22:45:15.161363Z"
    }
   },
   "outputs": [
    {
     "data": {
      "text/plain": [
       "list"
      ]
     },
     "execution_count": 53,
     "metadata": {},
     "output_type": "execute_result"
    }
   ],
   "source": [
    "type(amen_eg)"
   ]
  },
  {
   "cell_type": "code",
   "execution_count": 54,
   "metadata": {
    "ExecuteTime": {
     "end_time": "2020-10-04T22:45:15.168093Z",
     "start_time": "2020-10-04T22:45:15.165315Z"
    }
   },
   "outputs": [
    {
     "data": {
      "text/plain": [
       "True"
      ]
     },
     "execution_count": 54,
     "metadata": {},
     "output_type": "execute_result"
    }
   ],
   "source": [
    "'condo' in amen_eg"
   ]
  },
  {
   "cell_type": "markdown",
   "metadata": {},
   "source": [
    "Looks like it worked - and now I can parse through the list to check for membership, creating columns for each type of amenity. "
   ]
  },
  {
   "cell_type": "code",
   "execution_count": 55,
   "metadata": {
    "ExecuteTime": {
     "end_time": "2020-10-04T22:45:15.172784Z",
     "start_time": "2020-10-04T22:45:15.169363Z"
    }
   },
   "outputs": [],
   "source": [
    "sf = sf.drop(['amenities'], axis=1)"
   ]
  },
  {
   "cell_type": "code",
   "execution_count": 56,
   "metadata": {
    "ExecuteTime": {
     "end_time": "2020-10-04T22:45:15.186181Z",
     "start_time": "2020-10-04T22:45:15.174314Z"
    }
   },
   "outputs": [
    {
     "data": {
      "text/html": [
       "<div>\n",
       "<style scoped>\n",
       "    .dataframe tbody tr th:only-of-type {\n",
       "        vertical-align: middle;\n",
       "    }\n",
       "\n",
       "    .dataframe tbody tr th {\n",
       "        vertical-align: top;\n",
       "    }\n",
       "\n",
       "    .dataframe thead th {\n",
       "        text-align: right;\n",
       "    }\n",
       "</style>\n",
       "<table border=\"1\" class=\"dataframe\">\n",
       "  <thead>\n",
       "    <tr style=\"text-align: right;\">\n",
       "      <th></th>\n",
       "      <th>title</th>\n",
       "      <th>price</th>\n",
       "      <th>sqft</th>\n",
       "      <th>beds</th>\n",
       "      <th>bath</th>\n",
       "      <th>hood</th>\n",
       "      <th>amens_list</th>\n",
       "    </tr>\n",
       "  </thead>\n",
       "  <tbody>\n",
       "    <tr>\n",
       "      <th>1980</th>\n",
       "      <td>#107 Furnished Only Heaven by Views, Luxury, S...</td>\n",
       "      <td>6800</td>\n",
       "      <td>1600.0</td>\n",
       "      <td>2.0</td>\n",
       "      <td>2.0</td>\n",
       "      <td>pacific heights</td>\n",
       "      <td>[furnished, apartment, w/d in unit, no smoking...</td>\n",
       "    </tr>\n",
       "    <tr>\n",
       "      <th>2018</th>\n",
       "      <td>#120 Furnished ONLY Gorgeous, Cozy Junior-One-...</td>\n",
       "      <td>3500</td>\n",
       "      <td>550.0</td>\n",
       "      <td>1.0</td>\n",
       "      <td>1.0</td>\n",
       "      <td>pacific heights</td>\n",
       "      <td>[cats are OK - purrr, dogs are OK - wooof, fur...</td>\n",
       "    </tr>\n",
       "    <tr>\n",
       "      <th>2095</th>\n",
       "      <td>#125 FURNISHED ONLY Beautiful 2BR in Marina</td>\n",
       "      <td>5100</td>\n",
       "      <td>1300.0</td>\n",
       "      <td>2.0</td>\n",
       "      <td>1.0</td>\n",
       "      <td>marina / cow hollow</td>\n",
       "      <td>[EV charging, cats are OK - purrr, dogs are OK...</td>\n",
       "    </tr>\n",
       "    <tr>\n",
       "      <th>2015</th>\n",
       "      <td>#132 Furnished ONLY Beautiful Mansion in Heart...</td>\n",
       "      <td>9000</td>\n",
       "      <td>3500.0</td>\n",
       "      <td>3.0</td>\n",
       "      <td>2.5</td>\n",
       "      <td>pacific heights</td>\n",
       "      <td>[furnished, apartment, w/d in unit, no smoking...</td>\n",
       "    </tr>\n",
       "    <tr>\n",
       "      <th>2013</th>\n",
       "      <td>#158 Furnished ONLY Jr 1 bedroom w/ Parking at...</td>\n",
       "      <td>3100</td>\n",
       "      <td>561.0</td>\n",
       "      <td>1.0</td>\n",
       "      <td>1.0</td>\n",
       "      <td>marina / cow hollow</td>\n",
       "      <td>[cats are OK - purrr, dogs are OK - wooof, fur...</td>\n",
       "    </tr>\n",
       "  </tbody>\n",
       "</table>\n",
       "</div>"
      ],
      "text/plain": [
       "                                                  title  price    sqft  beds  \\\n",
       "1980  #107 Furnished Only Heaven by Views, Luxury, S...   6800  1600.0   2.0   \n",
       "2018  #120 Furnished ONLY Gorgeous, Cozy Junior-One-...   3500   550.0   1.0   \n",
       "2095        #125 FURNISHED ONLY Beautiful 2BR in Marina   5100  1300.0   2.0   \n",
       "2015  #132 Furnished ONLY Beautiful Mansion in Heart...   9000  3500.0   3.0   \n",
       "2013  #158 Furnished ONLY Jr 1 bedroom w/ Parking at...   3100   561.0   1.0   \n",
       "\n",
       "      bath                 hood  \\\n",
       "1980   2.0      pacific heights   \n",
       "2018   1.0      pacific heights   \n",
       "2095   1.0  marina / cow hollow   \n",
       "2015   2.5      pacific heights   \n",
       "2013   1.0  marina / cow hollow   \n",
       "\n",
       "                                             amens_list  \n",
       "1980  [furnished, apartment, w/d in unit, no smoking...  \n",
       "2018  [cats are OK - purrr, dogs are OK - wooof, fur...  \n",
       "2095  [EV charging, cats are OK - purrr, dogs are OK...  \n",
       "2015  [furnished, apartment, w/d in unit, no smoking...  \n",
       "2013  [cats are OK - purrr, dogs are OK - wooof, fur...  "
      ]
     },
     "execution_count": 56,
     "metadata": {},
     "output_type": "execute_result"
    }
   ],
   "source": [
    "sf.head()"
   ]
  },
  {
   "cell_type": "markdown",
   "metadata": {},
   "source": [
    "### Laundry\n",
    "\n",
    "Groupings\n",
    "\n",
    "* in-unit (w/d in unit)\n",
    "* on-site (laundry in bldg, laundry on site)\n",
    "* n/a (w/d hookups, no laundry on site, nan)"
   ]
  },
  {
   "cell_type": "code",
   "execution_count": 57,
   "metadata": {
    "ExecuteTime": {
     "end_time": "2020-10-04T22:45:15.190232Z",
     "start_time": "2020-10-04T22:45:15.187724Z"
    }
   },
   "outputs": [],
   "source": [
    "def laundry_parse(amen_list):\n",
    "    if 'w/d in unit' in amen_list:\n",
    "        return 'in-unit'\n",
    "    elif 'laundry in bldg' in amen_list:\n",
    "        return 'on-site'\n",
    "    elif 'laundry on site' in amen_list:\n",
    "        return 'on-site'\n",
    "    else:\n",
    "        return 'n/a'"
   ]
  },
  {
   "cell_type": "code",
   "execution_count": 58,
   "metadata": {
    "ExecuteTime": {
     "end_time": "2020-10-04T22:45:15.194989Z",
     "start_time": "2020-10-04T22:45:15.191486Z"
    }
   },
   "outputs": [],
   "source": [
    "sf['laundry'] = sf['amens_list'].apply(lambda amen_list: laundry_parse(amen_list))"
   ]
  },
  {
   "cell_type": "markdown",
   "metadata": {},
   "source": [
    "### Pets\n",
    "\n",
    "Groupings\n",
    "* both (dogs ok AND cats ok)\n",
    "* dogs (dogs ok)\n",
    "* cats (cats ok)\n",
    "* no-pets (nan)"
   ]
  },
  {
   "cell_type": "code",
   "execution_count": 59,
   "metadata": {
    "ExecuteTime": {
     "end_time": "2020-10-04T22:45:15.199155Z",
     "start_time": "2020-10-04T22:45:15.196383Z"
    }
   },
   "outputs": [],
   "source": [
    "def pets_allowed(amen_list):\n",
    "    if 'dogs are OK - wooof' in amen_list and 'cats are OK - purrr' in amen_list:\n",
    "        return 'both'\n",
    "    elif 'dogs are OK - wooof' in amen_list:\n",
    "        return 'dogs'\n",
    "    elif 'cats are OK - purrr' in amen_list:\n",
    "        return 'cats'\n",
    "    else:\n",
    "        return 'no-pets'"
   ]
  },
  {
   "cell_type": "code",
   "execution_count": 60,
   "metadata": {
    "ExecuteTime": {
     "end_time": "2020-10-04T22:45:15.204785Z",
     "start_time": "2020-10-04T22:45:15.200882Z"
    }
   },
   "outputs": [],
   "source": [
    "sf['pets'] = sf['amens_list'].apply(lambda amen_list: pets_allowed(amen_list))"
   ]
  },
  {
   "cell_type": "markdown",
   "metadata": {},
   "source": [
    "### Housing Type\n",
    "\n",
    "Groupings\n",
    "* multi (apartment, condo, flat, loft, manufactured, assisted living)\n",
    "* double (duplex, in-law)\n",
    "* single (house, townhouse, cottage/cabin)\n"
   ]
  },
  {
   "cell_type": "code",
   "execution_count": 61,
   "metadata": {
    "ExecuteTime": {
     "end_time": "2020-10-04T22:45:15.209134Z",
     "start_time": "2020-10-04T22:45:15.206412Z"
    }
   },
   "outputs": [],
   "source": [
    "def housing_type(amen_list):\n",
    "    if 'cottage/cabin' in amen_list:\n",
    "        return 'single'\n",
    "    elif ' duplex' in amen_list:\n",
    "        return 'double'\n",
    "    elif 'house' in amen_list:\n",
    "        return 'single'\n",
    "    elif 'in-law' in amen_list:\n",
    "        return 'double'\n",
    "    elif 'townhouse' in amen_list:\n",
    "        return 'single'\n",
    "    else:\n",
    "        return 'multi'"
   ]
  },
  {
   "cell_type": "code",
   "execution_count": 62,
   "metadata": {
    "ExecuteTime": {
     "end_time": "2020-10-04T22:45:15.214505Z",
     "start_time": "2020-10-04T22:45:15.210579Z"
    }
   },
   "outputs": [],
   "source": [
    "sf['housing_type'] = sf['amens_list'].apply(lambda amen_list: housing_type(amen_list))"
   ]
  },
  {
   "cell_type": "markdown",
   "metadata": {},
   "source": [
    "### Parking\n",
    "\n",
    "Groupings\n",
    "* valet (valet parking)\n",
    "* protected (carpot, attached garage, detatched garage)\n",
    "* off-street (off-street parking)\n",
    "* n/a (street parking, no parking)"
   ]
  },
  {
   "cell_type": "code",
   "execution_count": 63,
   "metadata": {
    "ExecuteTime": {
     "end_time": "2020-10-04T22:45:15.218527Z",
     "start_time": "2020-10-04T22:45:15.215829Z"
    }
   },
   "outputs": [],
   "source": [
    "def parking_situation(amen_list):\n",
    "    if 'attached garage' in amen_list:\n",
    "        return 'protected'\n",
    "    elif 'valet parking' in amen_list:\n",
    "        return 'valet'\n",
    "    elif 'carport' in amen_list:\n",
    "        return 'protected'\n",
    "    elif 'detatched garage' in amen_list:\n",
    "        return 'protected'\n",
    "    elif 'off-street parking' in amen_list:\n",
    "        return 'off-street'\n",
    "    else:\n",
    "        return 'n/a'"
   ]
  },
  {
   "cell_type": "code",
   "execution_count": 64,
   "metadata": {
    "ExecuteTime": {
     "end_time": "2020-10-04T22:45:15.223295Z",
     "start_time": "2020-10-04T22:45:15.219836Z"
    }
   },
   "outputs": [],
   "source": [
    "sf['parking'] = sf['amens_list'].apply(lambda amen_list: parking_situation(amen_list))"
   ]
  },
  {
   "cell_type": "code",
   "execution_count": 65,
   "metadata": {
    "ExecuteTime": {
     "end_time": "2020-10-04T22:45:15.228157Z",
     "start_time": "2020-10-04T22:45:15.224877Z"
    }
   },
   "outputs": [],
   "source": [
    "sf = sf.drop(['amens_list'], axis=1)"
   ]
  },
  {
   "cell_type": "code",
   "execution_count": 66,
   "metadata": {
    "ExecuteTime": {
     "end_time": "2020-10-04T22:45:15.240734Z",
     "start_time": "2020-10-04T22:45:15.229667Z"
    }
   },
   "outputs": [
    {
     "data": {
      "text/html": [
       "<div>\n",
       "<style scoped>\n",
       "    .dataframe tbody tr th:only-of-type {\n",
       "        vertical-align: middle;\n",
       "    }\n",
       "\n",
       "    .dataframe tbody tr th {\n",
       "        vertical-align: top;\n",
       "    }\n",
       "\n",
       "    .dataframe thead th {\n",
       "        text-align: right;\n",
       "    }\n",
       "</style>\n",
       "<table border=\"1\" class=\"dataframe\">\n",
       "  <thead>\n",
       "    <tr style=\"text-align: right;\">\n",
       "      <th></th>\n",
       "      <th>title</th>\n",
       "      <th>price</th>\n",
       "      <th>sqft</th>\n",
       "      <th>beds</th>\n",
       "      <th>bath</th>\n",
       "      <th>hood</th>\n",
       "      <th>laundry</th>\n",
       "      <th>pets</th>\n",
       "      <th>housing_type</th>\n",
       "      <th>parking</th>\n",
       "    </tr>\n",
       "  </thead>\n",
       "  <tbody>\n",
       "    <tr>\n",
       "      <th>1980</th>\n",
       "      <td>#107 Furnished Only Heaven by Views, Luxury, S...</td>\n",
       "      <td>6800</td>\n",
       "      <td>1600.0</td>\n",
       "      <td>2.0</td>\n",
       "      <td>2.0</td>\n",
       "      <td>pacific heights</td>\n",
       "      <td>in-unit</td>\n",
       "      <td>no-pets</td>\n",
       "      <td>multi</td>\n",
       "      <td>protected</td>\n",
       "    </tr>\n",
       "    <tr>\n",
       "      <th>2018</th>\n",
       "      <td>#120 Furnished ONLY Gorgeous, Cozy Junior-One-...</td>\n",
       "      <td>3500</td>\n",
       "      <td>550.0</td>\n",
       "      <td>1.0</td>\n",
       "      <td>1.0</td>\n",
       "      <td>pacific heights</td>\n",
       "      <td>in-unit</td>\n",
       "      <td>both</td>\n",
       "      <td>multi</td>\n",
       "      <td>protected</td>\n",
       "    </tr>\n",
       "    <tr>\n",
       "      <th>2095</th>\n",
       "      <td>#125 FURNISHED ONLY Beautiful 2BR in Marina</td>\n",
       "      <td>5100</td>\n",
       "      <td>1300.0</td>\n",
       "      <td>2.0</td>\n",
       "      <td>1.0</td>\n",
       "      <td>marina / cow hollow</td>\n",
       "      <td>in-unit</td>\n",
       "      <td>both</td>\n",
       "      <td>multi</td>\n",
       "      <td>n/a</td>\n",
       "    </tr>\n",
       "    <tr>\n",
       "      <th>2015</th>\n",
       "      <td>#132 Furnished ONLY Beautiful Mansion in Heart...</td>\n",
       "      <td>9000</td>\n",
       "      <td>3500.0</td>\n",
       "      <td>3.0</td>\n",
       "      <td>2.5</td>\n",
       "      <td>pacific heights</td>\n",
       "      <td>in-unit</td>\n",
       "      <td>no-pets</td>\n",
       "      <td>multi</td>\n",
       "      <td>protected</td>\n",
       "    </tr>\n",
       "    <tr>\n",
       "      <th>2013</th>\n",
       "      <td>#158 Furnished ONLY Jr 1 bedroom w/ Parking at...</td>\n",
       "      <td>3100</td>\n",
       "      <td>561.0</td>\n",
       "      <td>1.0</td>\n",
       "      <td>1.0</td>\n",
       "      <td>marina / cow hollow</td>\n",
       "      <td>n/a</td>\n",
       "      <td>both</td>\n",
       "      <td>multi</td>\n",
       "      <td>n/a</td>\n",
       "    </tr>\n",
       "  </tbody>\n",
       "</table>\n",
       "</div>"
      ],
      "text/plain": [
       "                                                  title  price    sqft  beds  \\\n",
       "1980  #107 Furnished Only Heaven by Views, Luxury, S...   6800  1600.0   2.0   \n",
       "2018  #120 Furnished ONLY Gorgeous, Cozy Junior-One-...   3500   550.0   1.0   \n",
       "2095        #125 FURNISHED ONLY Beautiful 2BR in Marina   5100  1300.0   2.0   \n",
       "2015  #132 Furnished ONLY Beautiful Mansion in Heart...   9000  3500.0   3.0   \n",
       "2013  #158 Furnished ONLY Jr 1 bedroom w/ Parking at...   3100   561.0   1.0   \n",
       "\n",
       "      bath                 hood  laundry     pets housing_type    parking  \n",
       "1980   2.0      pacific heights  in-unit  no-pets        multi  protected  \n",
       "2018   1.0      pacific heights  in-unit     both        multi  protected  \n",
       "2095   1.0  marina / cow hollow  in-unit     both        multi        n/a  \n",
       "2015   2.5      pacific heights  in-unit  no-pets        multi  protected  \n",
       "2013   1.0  marina / cow hollow      n/a     both        multi        n/a  "
      ]
     },
     "execution_count": 66,
     "metadata": {},
     "output_type": "execute_result"
    }
   ],
   "source": [
    "sf.head()"
   ]
  },
  {
   "cell_type": "markdown",
   "metadata": {},
   "source": [
    "## Neighborhoods"
   ]
  },
  {
   "cell_type": "markdown",
   "metadata": {},
   "source": [
    "For cities of a certain size, Craigslist provides set fields for neighborhoods/areas. Users have the option of using an open field instead. Upon reviewing the values in the `hood` column, there is a mix of pre-set values and open-field values. As we'll soon see, there are ~80 unique values in this column. \n",
    "\n",
    "Even if I map these all to the Craigslist fields, there will still be 37 unique fields, which is too many for the regression model. \n",
    "\n",
    "I'll need to take these smaller neighborhood divisions and draw larger boundaries - that is, reduce the number of `hood` values. A North/South/East/West designation would be over simplified. \n",
    "\n",
    "Fortunately the [SF Association of Realtors has created a map dividing San Francisco into 10 districts](https://my.sfrealtors.com/) and [DataSF](https://data.sfgov.org/Geographic-Locations-and-Boundaries/Realtor-Neighborhoods/5gzd-g9ns) provides an interactive version of the map that will assist me in pinpointing neighborhoods by these district labels."
   ]
  },
  {
   "cell_type": "code",
   "execution_count": 67,
   "metadata": {
    "ExecuteTime": {
     "end_time": "2020-10-04T22:45:15.254296Z",
     "start_time": "2020-10-04T22:45:15.252425Z"
    }
   },
   "outputs": [],
   "source": [
    "from IPython.display import Image"
   ]
  },
  {
   "cell_type": "code",
   "execution_count": 68,
   "metadata": {
    "ExecuteTime": {
     "end_time": "2020-10-04T22:45:15.264731Z",
     "start_time": "2020-10-04T22:45:15.258537Z"
    }
   },
   "outputs": [
    {
     "data": {
      "image/png": "[encoded data removed]",
      "text/plain": [
       "<IPython.core.display.Image object>"
      ]
     },
     "execution_count": 68,
     "metadata": {
      "image/png": {
       "height": 800,
       "width": 900
      }
     },
     "output_type": "execute_result"
    }
   ],
   "source": [
    "Image(\"img/SFAR_map.png\", width=900, height=800)"
   ]
  },
  {
   "cell_type": "code",
   "execution_count": 69,
   "metadata": {
    "ExecuteTime": {
     "end_time": "2020-10-04T22:45:15.269063Z",
     "start_time": "2020-10-04T22:45:15.266152Z"
    }
   },
   "outputs": [],
   "source": [
    "cl_locations = ['alamo square / nopa', 'bayview', 'bernal heights', \n",
    "               'castro / upper market', 'cole valley / ashbury hts','downtown / civic / van ness',\n",
    "               'excelsior / outer mission','financial district','glen park','haight ashbury','hayes valley',\n",
    "               'ingleside / SFSU / CCSF','inner richmond','inner sunset / UCSF', 'laurel hts / presidio',\n",
    "               'lower haight','lower nob hill','lower pac hts','marina / cow hollow','mission district',\n",
    "               'nob hill','noe valley','north beach / telegraph hill','pacific heights','portola district',\n",
    "               'potrero hill','richmond / seacliff', 'russian hill','SOMA / south beach','sunset / parkside',\n",
    "               'tenderloin','treasure island','twin peaks / diamond hts','USF / panhandle','visitacion valley',\n",
    "               'west portal / forest hill', 'western addition']"
   ]
  },
  {
   "cell_type": "code",
   "execution_count": 70,
   "metadata": {
    "ExecuteTime": {
     "end_time": "2020-10-04T22:45:15.273322Z",
     "start_time": "2020-10-04T22:45:15.270626Z"
    }
   },
   "outputs": [
    {
     "data": {
      "text/plain": [
       "37"
      ]
     },
     "execution_count": 70,
     "metadata": {},
     "output_type": "execute_result"
    }
   ],
   "source": [
    "len(cl_locations)"
   ]
  },
  {
   "cell_type": "code",
   "execution_count": 71,
   "metadata": {
    "ExecuteTime": {
     "end_time": "2020-10-04T22:45:15.277165Z",
     "start_time": "2020-10-04T22:45:15.274716Z"
    }
   },
   "outputs": [],
   "source": [
    "hood_list = list(sf.hood.unique())"
   ]
  },
  {
   "cell_type": "code",
   "execution_count": 72,
   "metadata": {
    "ExecuteTime": {
     "end_time": "2020-10-04T22:45:15.281312Z",
     "start_time": "2020-10-04T22:45:15.278674Z"
    },
    "scrolled": false
   },
   "outputs": [
    {
     "name": "stdout",
     "output_type": "stream",
     "text": [
      "Number of unique neighborhoods provided:  83\n",
      "Number of NON-CL Hoods proviced:  46\n"
     ]
    }
   ],
   "source": [
    "print(\"Number of unique neighborhoods provided: \", len(hood_list))\n",
    "print(\"Number of NON-CL Hoods proviced: \", len(hood_list) - len(cl_locations))"
   ]
  },
  {
   "cell_type": "code",
   "execution_count": 73,
   "metadata": {
    "ExecuteTime": {
     "end_time": "2020-10-04T22:45:15.285491Z",
     "start_time": "2020-10-04T22:45:15.282916Z"
    }
   },
   "outputs": [
    {
     "name": "stdout",
     "output_type": "stream",
     "text": [
      "[nan, 'Curtis Park (Heart of Sacramento)', 'Mountain View', 'Golden Gate Heights, San Francisco', 'San Francisco/SunnySide', 'San Franciso Richmond District', 'brisbane', 'Mission Bay', 'Mission District', 'Bayview', 'CA', 'San Francisco, CA', '1365 McCandless Drive Milpitas, CA', 'NOPA', 'San Francisco', 'South Park', 'South Beach', 'Hayes Valley', 'Rincon Hill, San Francisco', 'Nob Hill', 'Rincon Hill', 'Cupertino', 'Lower Nob Hill', 'Pacific Heights', 'The Castro', 'North Beach', 'SoMa', 'Fremont', 'Civic Center, Downtown, Van Ness', 'Telegraph Hill', 'Marina District', 'Embarcadero / North Waterfront', 'Lawai, Poipu Adjacent', 'Glen Park', '2026 Beach St, Concord, CA', 'Vallejo', 'San Francisco North Waterfront', 'Daly City', 'Lower Pacific Heights', 'Westlake', 'North Panhandle', 'Eureka Valley', 'SAN FRANCISCO', 'SOMA', 'West Sacramento', 'South of Market', 'Marina']\n"
     ]
    }
   ],
   "source": [
    "extra_hoods = []\n",
    "\n",
    "for hood in hood_list:\n",
    "    if hood not in cl_locations:\n",
    "        extra_hoods.append(hood)\n",
    "        \n",
    "print(extra_hoods)        "
   ]
  },
  {
   "cell_type": "markdown",
   "metadata": {},
   "source": [
    "Some of these neighborhood values are NOT in San Francisco, and so I'll ignore these. The rest will be mapped below using the `sf_map_dict`. "
   ]
  },
  {
   "cell_type": "markdown",
   "metadata": {},
   "source": [
    "### Create a dictionary to set neighborhoods to district keys"
   ]
  },
  {
   "cell_type": "code",
   "execution_count": 74,
   "metadata": {
    "ExecuteTime": {
     "end_time": "2020-10-04T22:45:15.291127Z",
     "start_time": "2020-10-04T22:45:15.286948Z"
    }
   },
   "outputs": [],
   "source": [
    "sf_map_dict = {1: ['inner richmond', 'richmond / seacliff', 'San Franciso Richmond District' \n",
    "               ],\n",
    "           2: ['inner sunset / UCSF', 'sunset / parkside', 'Golden Gate Heights, San Francisco' \n",
    "              ], \n",
    "           3: ['ingleside / SFSU / CCSF' \n",
    "              ], \n",
    "           4: ['twin peaks / diamond hts', 'west portal / forest hill', 'San Francisco/SunnySide'\n",
    "              ], \n",
    "           5: ['alamo square / nopa', 'castro / upper market', 'cole valley / ashbury hts', \n",
    "               'glen park', 'haight ashbury', 'noe valley', 'The Castro', 'Glen Park',\n",
    "               'North Panhandle', 'Eureka Valley' \n",
    "              ], \n",
    "           6: ['hayes valley', 'lower haight', 'USF / panhandle', 'western addition', \n",
    "              'NOPA', 'Hayes Valley', 'Lower Pacific Heights'\n",
    "              ], \n",
    "           7: ['laurel hts / presidio', 'lower pac hts', 'marina / cow hollow', 'pacific heights',\n",
    "              'Pacific Heights', 'Marina District', 'Marina'\n",
    "              ], \n",
    "           8: ['downtown / civic / van ness', 'financial district', 'lower nob hill', 'nob hill', \n",
    "              'north beach / telegraph hill', 'russian hill', 'tenderloin', 'Nob Hill', 'Lower Nob Hill', \n",
    "               'North Beach', 'Civic Center, Downtown, Van Ness', 'Telegraph Hill', \n",
    "               'Embarcadero / North Waterfront', 'San Francisco North Waterfront' \n",
    "              ], \n",
    "           9: ['bernal heights', 'mission district', 'potrero hill', 'SOMA / south beach', \n",
    "              'Mission Bay', 'Mission District', 'South Park', 'South Beach', 'Rincon Hill, San Francisco', \n",
    "              'Rincon Hill', 'SoMa', 'SOMA', 'South of Market' \n",
    "              ], \n",
    "           10: ['bayview', 'excelsior / outer mission', 'portola district', \n",
    "                'visitacion valley', 'Bayview' \n",
    "               ]\n",
    "           }"
   ]
  },
  {
   "cell_type": "code",
   "execution_count": 75,
   "metadata": {
    "ExecuteTime": {
     "end_time": "2020-10-04T22:45:15.303171Z",
     "start_time": "2020-10-04T22:45:15.292374Z"
    }
   },
   "outputs": [
    {
     "data": {
      "text/html": [
       "<div>\n",
       "<style scoped>\n",
       "    .dataframe tbody tr th:only-of-type {\n",
       "        vertical-align: middle;\n",
       "    }\n",
       "\n",
       "    .dataframe tbody tr th {\n",
       "        vertical-align: top;\n",
       "    }\n",
       "\n",
       "    .dataframe thead th {\n",
       "        text-align: right;\n",
       "    }\n",
       "</style>\n",
       "<table border=\"1\" class=\"dataframe\">\n",
       "  <thead>\n",
       "    <tr style=\"text-align: right;\">\n",
       "      <th></th>\n",
       "      <th>title</th>\n",
       "      <th>price</th>\n",
       "      <th>sqft</th>\n",
       "      <th>beds</th>\n",
       "      <th>bath</th>\n",
       "      <th>hood</th>\n",
       "      <th>laundry</th>\n",
       "      <th>pets</th>\n",
       "      <th>housing_type</th>\n",
       "      <th>parking</th>\n",
       "    </tr>\n",
       "  </thead>\n",
       "  <tbody>\n",
       "    <tr>\n",
       "      <th>1980</th>\n",
       "      <td>#107 Furnished Only Heaven by Views, Luxury, S...</td>\n",
       "      <td>6800</td>\n",
       "      <td>1600.0</td>\n",
       "      <td>2.0</td>\n",
       "      <td>2.0</td>\n",
       "      <td>pacific heights</td>\n",
       "      <td>in-unit</td>\n",
       "      <td>no-pets</td>\n",
       "      <td>multi</td>\n",
       "      <td>protected</td>\n",
       "    </tr>\n",
       "    <tr>\n",
       "      <th>2018</th>\n",
       "      <td>#120 Furnished ONLY Gorgeous, Cozy Junior-One-...</td>\n",
       "      <td>3500</td>\n",
       "      <td>550.0</td>\n",
       "      <td>1.0</td>\n",
       "      <td>1.0</td>\n",
       "      <td>pacific heights</td>\n",
       "      <td>in-unit</td>\n",
       "      <td>both</td>\n",
       "      <td>multi</td>\n",
       "      <td>protected</td>\n",
       "    </tr>\n",
       "    <tr>\n",
       "      <th>2095</th>\n",
       "      <td>#125 FURNISHED ONLY Beautiful 2BR in Marina</td>\n",
       "      <td>5100</td>\n",
       "      <td>1300.0</td>\n",
       "      <td>2.0</td>\n",
       "      <td>1.0</td>\n",
       "      <td>marina / cow hollow</td>\n",
       "      <td>in-unit</td>\n",
       "      <td>both</td>\n",
       "      <td>multi</td>\n",
       "      <td>n/a</td>\n",
       "    </tr>\n",
       "    <tr>\n",
       "      <th>2015</th>\n",
       "      <td>#132 Furnished ONLY Beautiful Mansion in Heart...</td>\n",
       "      <td>9000</td>\n",
       "      <td>3500.0</td>\n",
       "      <td>3.0</td>\n",
       "      <td>2.5</td>\n",
       "      <td>pacific heights</td>\n",
       "      <td>in-unit</td>\n",
       "      <td>no-pets</td>\n",
       "      <td>multi</td>\n",
       "      <td>protected</td>\n",
       "    </tr>\n",
       "    <tr>\n",
       "      <th>2013</th>\n",
       "      <td>#158 Furnished ONLY Jr 1 bedroom w/ Parking at...</td>\n",
       "      <td>3100</td>\n",
       "      <td>561.0</td>\n",
       "      <td>1.0</td>\n",
       "      <td>1.0</td>\n",
       "      <td>marina / cow hollow</td>\n",
       "      <td>n/a</td>\n",
       "      <td>both</td>\n",
       "      <td>multi</td>\n",
       "      <td>n/a</td>\n",
       "    </tr>\n",
       "  </tbody>\n",
       "</table>\n",
       "</div>"
      ],
      "text/plain": [
       "                                                  title  price    sqft  beds  \\\n",
       "1980  #107 Furnished Only Heaven by Views, Luxury, S...   6800  1600.0   2.0   \n",
       "2018  #120 Furnished ONLY Gorgeous, Cozy Junior-One-...   3500   550.0   1.0   \n",
       "2095        #125 FURNISHED ONLY Beautiful 2BR in Marina   5100  1300.0   2.0   \n",
       "2015  #132 Furnished ONLY Beautiful Mansion in Heart...   9000  3500.0   3.0   \n",
       "2013  #158 Furnished ONLY Jr 1 bedroom w/ Parking at...   3100   561.0   1.0   \n",
       "\n",
       "      bath                 hood  laundry     pets housing_type    parking  \n",
       "1980   2.0      pacific heights  in-unit  no-pets        multi  protected  \n",
       "2018   1.0      pacific heights  in-unit     both        multi  protected  \n",
       "2095   1.0  marina / cow hollow  in-unit     both        multi        n/a  \n",
       "2015   2.5      pacific heights  in-unit  no-pets        multi  protected  \n",
       "2013   1.0  marina / cow hollow      n/a     both        multi        n/a  "
      ]
     },
     "execution_count": 75,
     "metadata": {},
     "output_type": "execute_result"
    }
   ],
   "source": [
    "sf.head()"
   ]
  },
  {
   "cell_type": "code",
   "execution_count": 76,
   "metadata": {
    "ExecuteTime": {
     "end_time": "2020-10-04T22:45:15.306848Z",
     "start_time": "2020-10-04T22:45:15.304540Z"
    }
   },
   "outputs": [],
   "source": [
    "def set_hood_district(hood):\n",
    "    for dist, hood_list in sf_map_dict.items():\n",
    "        if hood in hood_list:\n",
    "            return dist"
   ]
  },
  {
   "cell_type": "code",
   "execution_count": 77,
   "metadata": {
    "ExecuteTime": {
     "end_time": "2020-10-04T22:45:15.312660Z",
     "start_time": "2020-10-04T22:45:15.308263Z"
    }
   },
   "outputs": [],
   "source": [
    "sf['hood_district'] = sf['hood'].apply(lambda x: set_hood_district(x))"
   ]
  },
  {
   "cell_type": "code",
   "execution_count": 78,
   "metadata": {
    "ExecuteTime": {
     "end_time": "2020-10-04T22:45:15.330735Z",
     "start_time": "2020-10-04T22:45:15.314022Z"
    }
   },
   "outputs": [
    {
     "data": {
      "text/html": [
       "<div>\n",
       "<style scoped>\n",
       "    .dataframe tbody tr th:only-of-type {\n",
       "        vertical-align: middle;\n",
       "    }\n",
       "\n",
       "    .dataframe tbody tr th {\n",
       "        vertical-align: top;\n",
       "    }\n",
       "\n",
       "    .dataframe thead th {\n",
       "        text-align: right;\n",
       "    }\n",
       "</style>\n",
       "<table border=\"1\" class=\"dataframe\">\n",
       "  <thead>\n",
       "    <tr style=\"text-align: right;\">\n",
       "      <th></th>\n",
       "      <th>title</th>\n",
       "      <th>price</th>\n",
       "      <th>sqft</th>\n",
       "      <th>beds</th>\n",
       "      <th>bath</th>\n",
       "      <th>hood</th>\n",
       "      <th>laundry</th>\n",
       "      <th>pets</th>\n",
       "      <th>housing_type</th>\n",
       "      <th>parking</th>\n",
       "      <th>hood_district</th>\n",
       "    </tr>\n",
       "  </thead>\n",
       "  <tbody>\n",
       "    <tr>\n",
       "      <th>1980</th>\n",
       "      <td>#107 Furnished Only Heaven by Views, Luxury, S...</td>\n",
       "      <td>6800</td>\n",
       "      <td>1600.0</td>\n",
       "      <td>2.0</td>\n",
       "      <td>2.0</td>\n",
       "      <td>pacific heights</td>\n",
       "      <td>in-unit</td>\n",
       "      <td>no-pets</td>\n",
       "      <td>multi</td>\n",
       "      <td>protected</td>\n",
       "      <td>7.0</td>\n",
       "    </tr>\n",
       "    <tr>\n",
       "      <th>2018</th>\n",
       "      <td>#120 Furnished ONLY Gorgeous, Cozy Junior-One-...</td>\n",
       "      <td>3500</td>\n",
       "      <td>550.0</td>\n",
       "      <td>1.0</td>\n",
       "      <td>1.0</td>\n",
       "      <td>pacific heights</td>\n",
       "      <td>in-unit</td>\n",
       "      <td>both</td>\n",
       "      <td>multi</td>\n",
       "      <td>protected</td>\n",
       "      <td>7.0</td>\n",
       "    </tr>\n",
       "    <tr>\n",
       "      <th>2095</th>\n",
       "      <td>#125 FURNISHED ONLY Beautiful 2BR in Marina</td>\n",
       "      <td>5100</td>\n",
       "      <td>1300.0</td>\n",
       "      <td>2.0</td>\n",
       "      <td>1.0</td>\n",
       "      <td>marina / cow hollow</td>\n",
       "      <td>in-unit</td>\n",
       "      <td>both</td>\n",
       "      <td>multi</td>\n",
       "      <td>n/a</td>\n",
       "      <td>7.0</td>\n",
       "    </tr>\n",
       "    <tr>\n",
       "      <th>2015</th>\n",
       "      <td>#132 Furnished ONLY Beautiful Mansion in Heart...</td>\n",
       "      <td>9000</td>\n",
       "      <td>3500.0</td>\n",
       "      <td>3.0</td>\n",
       "      <td>2.5</td>\n",
       "      <td>pacific heights</td>\n",
       "      <td>in-unit</td>\n",
       "      <td>no-pets</td>\n",
       "      <td>multi</td>\n",
       "      <td>protected</td>\n",
       "      <td>7.0</td>\n",
       "    </tr>\n",
       "    <tr>\n",
       "      <th>2013</th>\n",
       "      <td>#158 Furnished ONLY Jr 1 bedroom w/ Parking at...</td>\n",
       "      <td>3100</td>\n",
       "      <td>561.0</td>\n",
       "      <td>1.0</td>\n",
       "      <td>1.0</td>\n",
       "      <td>marina / cow hollow</td>\n",
       "      <td>n/a</td>\n",
       "      <td>both</td>\n",
       "      <td>multi</td>\n",
       "      <td>n/a</td>\n",
       "      <td>7.0</td>\n",
       "    </tr>\n",
       "    <tr>\n",
       "      <th>1978</th>\n",
       "      <td>#168 Furnished&amp;unfurnished - 2 Bdrm 1 Bath in ...</td>\n",
       "      <td>3800</td>\n",
       "      <td>800.0</td>\n",
       "      <td>2.0</td>\n",
       "      <td>1.0</td>\n",
       "      <td>SOMA / south beach</td>\n",
       "      <td>on-site</td>\n",
       "      <td>cats</td>\n",
       "      <td>multi</td>\n",
       "      <td>protected</td>\n",
       "      <td>9.0</td>\n",
       "    </tr>\n",
       "    <tr>\n",
       "      <th>2099</th>\n",
       "      <td>#185 Furnished ONLY Spacious 1 bedroom in Russ...</td>\n",
       "      <td>3100</td>\n",
       "      <td>750.0</td>\n",
       "      <td>1.0</td>\n",
       "      <td>1.0</td>\n",
       "      <td>russian hill</td>\n",
       "      <td>in-unit</td>\n",
       "      <td>no-pets</td>\n",
       "      <td>multi</td>\n",
       "      <td>protected</td>\n",
       "      <td>8.0</td>\n",
       "    </tr>\n",
       "    <tr>\n",
       "      <th>2092</th>\n",
       "      <td>#201 Furnished ONLY Charming 1 bedroom enjoy s...</td>\n",
       "      <td>3000</td>\n",
       "      <td>650.0</td>\n",
       "      <td>1.0</td>\n",
       "      <td>1.0</td>\n",
       "      <td>laurel hts / presidio</td>\n",
       "      <td>on-site</td>\n",
       "      <td>both</td>\n",
       "      <td>multi</td>\n",
       "      <td>n/a</td>\n",
       "      <td>7.0</td>\n",
       "    </tr>\n",
       "    <tr>\n",
       "      <th>2091</th>\n",
       "      <td>#202 Furnished ONLY One bedroom one bath in La...</td>\n",
       "      <td>3000</td>\n",
       "      <td>650.0</td>\n",
       "      <td>1.0</td>\n",
       "      <td>1.0</td>\n",
       "      <td>laurel hts / presidio</td>\n",
       "      <td>on-site</td>\n",
       "      <td>both</td>\n",
       "      <td>multi</td>\n",
       "      <td>protected</td>\n",
       "      <td>7.0</td>\n",
       "    </tr>\n",
       "    <tr>\n",
       "      <th>2014</th>\n",
       "      <td>#210 Modern Jr. 1bd/1ba located by Caltrain w/...</td>\n",
       "      <td>3200</td>\n",
       "      <td>650.0</td>\n",
       "      <td>1.0</td>\n",
       "      <td>1.0</td>\n",
       "      <td>SOMA / south beach</td>\n",
       "      <td>in-unit</td>\n",
       "      <td>cats</td>\n",
       "      <td>multi</td>\n",
       "      <td>protected</td>\n",
       "      <td>9.0</td>\n",
       "    </tr>\n",
       "    <tr>\n",
       "      <th>1976</th>\n",
       "      <td>#212 Furnished ONLY Light-Filled 1 Bedroom in ...</td>\n",
       "      <td>3100</td>\n",
       "      <td>650.0</td>\n",
       "      <td>1.0</td>\n",
       "      <td>1.0</td>\n",
       "      <td>pacific heights</td>\n",
       "      <td>on-site</td>\n",
       "      <td>both</td>\n",
       "      <td>multi</td>\n",
       "      <td>protected</td>\n",
       "      <td>7.0</td>\n",
       "    </tr>\n",
       "    <tr>\n",
       "      <th>2085</th>\n",
       "      <td>#500 Furnished Only NEWLY REMODELED LUXURY 4 B...</td>\n",
       "      <td>15000</td>\n",
       "      <td>3500.0</td>\n",
       "      <td>4.0</td>\n",
       "      <td>3.5</td>\n",
       "      <td>richmond / seacliff</td>\n",
       "      <td>in-unit</td>\n",
       "      <td>no-pets</td>\n",
       "      <td>single</td>\n",
       "      <td>protected</td>\n",
       "      <td>1.0</td>\n",
       "    </tr>\n",
       "    <tr>\n",
       "      <th>1127</th>\n",
       "      <td>#LiveTuring &amp; Live Above a Trader Joe's! 8 WEE...</td>\n",
       "      <td>2980</td>\n",
       "      <td>783.0</td>\n",
       "      <td>1.0</td>\n",
       "      <td>1.0</td>\n",
       "      <td>NaN</td>\n",
       "      <td>n/a</td>\n",
       "      <td>no-pets</td>\n",
       "      <td>multi</td>\n",
       "      <td>n/a</td>\n",
       "      <td>NaN</td>\n",
       "    </tr>\n",
       "    <tr>\n",
       "      <th>958</th>\n",
       "      <td>#LiveTuring &amp; Work Remotely at Our Stunning Ro...</td>\n",
       "      <td>2645</td>\n",
       "      <td>759.0</td>\n",
       "      <td>1.0</td>\n",
       "      <td>1.0</td>\n",
       "      <td>NaN</td>\n",
       "      <td>n/a</td>\n",
       "      <td>no-pets</td>\n",
       "      <td>multi</td>\n",
       "      <td>n/a</td>\n",
       "      <td>NaN</td>\n",
       "    </tr>\n",
       "    <tr>\n",
       "      <th>650</th>\n",
       "      <td>#LiveTuring 8 Weeks Free! Modern Lifestyle w/ ...</td>\n",
       "      <td>2860</td>\n",
       "      <td>759.0</td>\n",
       "      <td>1.0</td>\n",
       "      <td>1.0</td>\n",
       "      <td>NaN</td>\n",
       "      <td>n/a</td>\n",
       "      <td>no-pets</td>\n",
       "      <td>multi</td>\n",
       "      <td>n/a</td>\n",
       "      <td>NaN</td>\n",
       "    </tr>\n",
       "  </tbody>\n",
       "</table>\n",
       "</div>"
      ],
      "text/plain": [
       "                                                  title  price    sqft  beds  \\\n",
       "1980  #107 Furnished Only Heaven by Views, Luxury, S...   6800  1600.0   2.0   \n",
       "2018  #120 Furnished ONLY Gorgeous, Cozy Junior-One-...   3500   550.0   1.0   \n",
       "2095        #125 FURNISHED ONLY Beautiful 2BR in Marina   5100  1300.0   2.0   \n",
       "2015  #132 Furnished ONLY Beautiful Mansion in Heart...   9000  3500.0   3.0   \n",
       "2013  #158 Furnished ONLY Jr 1 bedroom w/ Parking at...   3100   561.0   1.0   \n",
       "1978  #168 Furnished&unfurnished - 2 Bdrm 1 Bath in ...   3800   800.0   2.0   \n",
       "2099  #185 Furnished ONLY Spacious 1 bedroom in Russ...   3100   750.0   1.0   \n",
       "2092  #201 Furnished ONLY Charming 1 bedroom enjoy s...   3000   650.0   1.0   \n",
       "2091  #202 Furnished ONLY One bedroom one bath in La...   3000   650.0   1.0   \n",
       "2014  #210 Modern Jr. 1bd/1ba located by Caltrain w/...   3200   650.0   1.0   \n",
       "1976  #212 Furnished ONLY Light-Filled 1 Bedroom in ...   3100   650.0   1.0   \n",
       "2085  #500 Furnished Only NEWLY REMODELED LUXURY 4 B...  15000  3500.0   4.0   \n",
       "1127  #LiveTuring & Live Above a Trader Joe's! 8 WEE...   2980   783.0   1.0   \n",
       "958   #LiveTuring & Work Remotely at Our Stunning Ro...   2645   759.0   1.0   \n",
       "650   #LiveTuring 8 Weeks Free! Modern Lifestyle w/ ...   2860   759.0   1.0   \n",
       "\n",
       "      bath                   hood  laundry     pets housing_type    parking  \\\n",
       "1980   2.0        pacific heights  in-unit  no-pets        multi  protected   \n",
       "2018   1.0        pacific heights  in-unit     both        multi  protected   \n",
       "2095   1.0    marina / cow hollow  in-unit     both        multi        n/a   \n",
       "2015   2.5        pacific heights  in-unit  no-pets        multi  protected   \n",
       "2013   1.0    marina / cow hollow      n/a     both        multi        n/a   \n",
       "1978   1.0     SOMA / south beach  on-site     cats        multi  protected   \n",
       "2099   1.0           russian hill  in-unit  no-pets        multi  protected   \n",
       "2092   1.0  laurel hts / presidio  on-site     both        multi        n/a   \n",
       "2091   1.0  laurel hts / presidio  on-site     both        multi  protected   \n",
       "2014   1.0     SOMA / south beach  in-unit     cats        multi  protected   \n",
       "1976   1.0        pacific heights  on-site     both        multi  protected   \n",
       "2085   3.5    richmond / seacliff  in-unit  no-pets       single  protected   \n",
       "1127   1.0                    NaN      n/a  no-pets        multi        n/a   \n",
       "958    1.0                    NaN      n/a  no-pets        multi        n/a   \n",
       "650    1.0                    NaN      n/a  no-pets        multi        n/a   \n",
       "\n",
       "      hood_district  \n",
       "1980            7.0  \n",
       "2018            7.0  \n",
       "2095            7.0  \n",
       "2015            7.0  \n",
       "2013            7.0  \n",
       "1978            9.0  \n",
       "2099            8.0  \n",
       "2092            7.0  \n",
       "2091            7.0  \n",
       "2014            9.0  \n",
       "1976            7.0  \n",
       "2085            1.0  \n",
       "1127            NaN  \n",
       "958             NaN  \n",
       "650             NaN  "
      ]
     },
     "execution_count": 78,
     "metadata": {},
     "output_type": "execute_result"
    }
   ],
   "source": [
    "sf.head(15)"
   ]
  },
  {
   "cell_type": "markdown",
   "metadata": {},
   "source": [
    "### Dropping remaining rows with missing values"
   ]
  },
  {
   "cell_type": "code",
   "execution_count": 79,
   "metadata": {
    "ExecuteTime": {
     "end_time": "2020-10-04T22:45:15.341031Z",
     "start_time": "2020-10-04T22:45:15.332551Z"
    },
    "scrolled": true
   },
   "outputs": [
    {
     "name": "stdout",
     "output_type": "stream",
     "text": [
      "<class 'pandas.core.frame.DataFrame'>\n",
      "Int64Index: 1076 entries, 1980 to 225\n",
      "Data columns (total 11 columns):\n",
      " #   Column         Non-Null Count  Dtype  \n",
      "---  ------         --------------  -----  \n",
      " 0   title          1076 non-null   object \n",
      " 1   price          1076 non-null   int64  \n",
      " 2   sqft           1076 non-null   float64\n",
      " 3   beds           1076 non-null   float64\n",
      " 4   bath           1076 non-null   float64\n",
      " 5   hood           1057 non-null   object \n",
      " 6   laundry        1076 non-null   object \n",
      " 7   pets           1076 non-null   object \n",
      " 8   housing_type   1076 non-null   object \n",
      " 9   parking        1076 non-null   object \n",
      " 10  hood_district  1025 non-null   float64\n",
      "dtypes: float64(4), int64(1), object(6)\n",
      "memory usage: 140.9+ KB\n"
     ]
    }
   ],
   "source": [
    "sf.info()"
   ]
  },
  {
   "cell_type": "code",
   "execution_count": 80,
   "metadata": {
    "ExecuteTime": {
     "end_time": "2020-10-04T22:45:15.345400Z",
     "start_time": "2020-10-04T22:45:15.342373Z"
    }
   },
   "outputs": [],
   "source": [
    "sf = sf[sf['hood_district'].notna()]"
   ]
  },
  {
   "cell_type": "code",
   "execution_count": 81,
   "metadata": {
    "ExecuteTime": {
     "end_time": "2020-10-04T22:45:15.355343Z",
     "start_time": "2020-10-04T22:45:15.347134Z"
    }
   },
   "outputs": [
    {
     "name": "stdout",
     "output_type": "stream",
     "text": [
      "<class 'pandas.core.frame.DataFrame'>\n",
      "Int64Index: 1025 entries, 1980 to 225\n",
      "Data columns (total 11 columns):\n",
      " #   Column         Non-Null Count  Dtype  \n",
      "---  ------         --------------  -----  \n",
      " 0   title          1025 non-null   object \n",
      " 1   price          1025 non-null   int64  \n",
      " 2   sqft           1025 non-null   float64\n",
      " 3   beds           1025 non-null   float64\n",
      " 4   bath           1025 non-null   float64\n",
      " 5   hood           1025 non-null   object \n",
      " 6   laundry        1025 non-null   object \n",
      " 7   pets           1025 non-null   object \n",
      " 8   housing_type   1025 non-null   object \n",
      " 9   parking        1025 non-null   object \n",
      " 10  hood_district  1025 non-null   float64\n",
      "dtypes: float64(4), int64(1), object(6)\n",
      "memory usage: 96.1+ KB\n"
     ]
    }
   ],
   "source": [
    "sf.info()"
   ]
  },
  {
   "cell_type": "markdown",
   "metadata": {},
   "source": [
    "## Outliers\n",
    "\n",
    "\n",
    "Before exporting a clean file, I'll do a search for outliers, and refer back to the Craigslist posting to see if they're legitimate. "
   ]
  },
  {
   "cell_type": "code",
   "execution_count": 82,
   "metadata": {
    "ExecuteTime": {
     "end_time": "2020-10-04T22:45:15.369030Z",
     "start_time": "2020-10-04T22:45:15.357054Z"
    }
   },
   "outputs": [
    {
     "data": {
      "text/html": [
       "<div>\n",
       "<style scoped>\n",
       "    .dataframe tbody tr th:only-of-type {\n",
       "        vertical-align: middle;\n",
       "    }\n",
       "\n",
       "    .dataframe tbody tr th {\n",
       "        vertical-align: top;\n",
       "    }\n",
       "\n",
       "    .dataframe thead th {\n",
       "        text-align: right;\n",
       "    }\n",
       "</style>\n",
       "<table border=\"1\" class=\"dataframe\">\n",
       "  <thead>\n",
       "    <tr style=\"text-align: right;\">\n",
       "      <th></th>\n",
       "      <th>title</th>\n",
       "      <th>price</th>\n",
       "      <th>sqft</th>\n",
       "      <th>beds</th>\n",
       "      <th>bath</th>\n",
       "      <th>hood</th>\n",
       "      <th>laundry</th>\n",
       "      <th>pets</th>\n",
       "      <th>housing_type</th>\n",
       "      <th>parking</th>\n",
       "      <th>hood_district</th>\n",
       "    </tr>\n",
       "  </thead>\n",
       "  <tbody>\n",
       "    <tr>\n",
       "      <th>1980</th>\n",
       "      <td>#107 Furnished Only Heaven by Views, Luxury, S...</td>\n",
       "      <td>6800</td>\n",
       "      <td>1600.0</td>\n",
       "      <td>2.0</td>\n",
       "      <td>2.0</td>\n",
       "      <td>pacific heights</td>\n",
       "      <td>in-unit</td>\n",
       "      <td>no-pets</td>\n",
       "      <td>multi</td>\n",
       "      <td>protected</td>\n",
       "      <td>7.0</td>\n",
       "    </tr>\n",
       "    <tr>\n",
       "      <th>2018</th>\n",
       "      <td>#120 Furnished ONLY Gorgeous, Cozy Junior-One-...</td>\n",
       "      <td>3500</td>\n",
       "      <td>550.0</td>\n",
       "      <td>1.0</td>\n",
       "      <td>1.0</td>\n",
       "      <td>pacific heights</td>\n",
       "      <td>in-unit</td>\n",
       "      <td>both</td>\n",
       "      <td>multi</td>\n",
       "      <td>protected</td>\n",
       "      <td>7.0</td>\n",
       "    </tr>\n",
       "    <tr>\n",
       "      <th>2095</th>\n",
       "      <td>#125 FURNISHED ONLY Beautiful 2BR in Marina</td>\n",
       "      <td>5100</td>\n",
       "      <td>1300.0</td>\n",
       "      <td>2.0</td>\n",
       "      <td>1.0</td>\n",
       "      <td>marina / cow hollow</td>\n",
       "      <td>in-unit</td>\n",
       "      <td>both</td>\n",
       "      <td>multi</td>\n",
       "      <td>n/a</td>\n",
       "      <td>7.0</td>\n",
       "    </tr>\n",
       "    <tr>\n",
       "      <th>2015</th>\n",
       "      <td>#132 Furnished ONLY Beautiful Mansion in Heart...</td>\n",
       "      <td>9000</td>\n",
       "      <td>3500.0</td>\n",
       "      <td>3.0</td>\n",
       "      <td>2.5</td>\n",
       "      <td>pacific heights</td>\n",
       "      <td>in-unit</td>\n",
       "      <td>no-pets</td>\n",
       "      <td>multi</td>\n",
       "      <td>protected</td>\n",
       "      <td>7.0</td>\n",
       "    </tr>\n",
       "    <tr>\n",
       "      <th>2013</th>\n",
       "      <td>#158 Furnished ONLY Jr 1 bedroom w/ Parking at...</td>\n",
       "      <td>3100</td>\n",
       "      <td>561.0</td>\n",
       "      <td>1.0</td>\n",
       "      <td>1.0</td>\n",
       "      <td>marina / cow hollow</td>\n",
       "      <td>n/a</td>\n",
       "      <td>both</td>\n",
       "      <td>multi</td>\n",
       "      <td>n/a</td>\n",
       "      <td>7.0</td>\n",
       "    </tr>\n",
       "  </tbody>\n",
       "</table>\n",
       "</div>"
      ],
      "text/plain": [
       "                                                  title  price    sqft  beds  \\\n",
       "1980  #107 Furnished Only Heaven by Views, Luxury, S...   6800  1600.0   2.0   \n",
       "2018  #120 Furnished ONLY Gorgeous, Cozy Junior-One-...   3500   550.0   1.0   \n",
       "2095        #125 FURNISHED ONLY Beautiful 2BR in Marina   5100  1300.0   2.0   \n",
       "2015  #132 Furnished ONLY Beautiful Mansion in Heart...   9000  3500.0   3.0   \n",
       "2013  #158 Furnished ONLY Jr 1 bedroom w/ Parking at...   3100   561.0   1.0   \n",
       "\n",
       "      bath                 hood  laundry     pets housing_type    parking  \\\n",
       "1980   2.0      pacific heights  in-unit  no-pets        multi  protected   \n",
       "2018   1.0      pacific heights  in-unit     both        multi  protected   \n",
       "2095   1.0  marina / cow hollow  in-unit     both        multi        n/a   \n",
       "2015   2.5      pacific heights  in-unit  no-pets        multi  protected   \n",
       "2013   1.0  marina / cow hollow      n/a     both        multi        n/a   \n",
       "\n",
       "      hood_district  \n",
       "1980            7.0  \n",
       "2018            7.0  \n",
       "2095            7.0  \n",
       "2015            7.0  \n",
       "2013            7.0  "
      ]
     },
     "execution_count": 82,
     "metadata": {},
     "output_type": "execute_result"
    }
   ],
   "source": [
    "sf.head()"
   ]
  },
  {
   "cell_type": "code",
   "execution_count": 83,
   "metadata": {
    "ExecuteTime": {
     "end_time": "2020-10-04T22:45:15.389094Z",
     "start_time": "2020-10-04T22:45:15.370517Z"
    }
   },
   "outputs": [
    {
     "data": {
      "text/html": [
       "<div>\n",
       "<style scoped>\n",
       "    .dataframe tbody tr th:only-of-type {\n",
       "        vertical-align: middle;\n",
       "    }\n",
       "\n",
       "    .dataframe tbody tr th {\n",
       "        vertical-align: top;\n",
       "    }\n",
       "\n",
       "    .dataframe thead th {\n",
       "        text-align: right;\n",
       "    }\n",
       "</style>\n",
       "<table border=\"1\" class=\"dataframe\">\n",
       "  <thead>\n",
       "    <tr style=\"text-align: right;\">\n",
       "      <th></th>\n",
       "      <th>price</th>\n",
       "      <th>sqft</th>\n",
       "      <th>beds</th>\n",
       "      <th>bath</th>\n",
       "      <th>hood_district</th>\n",
       "    </tr>\n",
       "  </thead>\n",
       "  <tbody>\n",
       "    <tr>\n",
       "      <th>count</th>\n",
       "      <td>1025.000000</td>\n",
       "      <td>1025.000000</td>\n",
       "      <td>1025.000000</td>\n",
       "      <td>1025.000000</td>\n",
       "      <td>1025.000000</td>\n",
       "    </tr>\n",
       "    <tr>\n",
       "      <th>mean</th>\n",
       "      <td>3602.549268</td>\n",
       "      <td>1146.560000</td>\n",
       "      <td>1.647805</td>\n",
       "      <td>1.387805</td>\n",
       "      <td>7.075122</td>\n",
       "    </tr>\n",
       "    <tr>\n",
       "      <th>std</th>\n",
       "      <td>1645.164943</td>\n",
       "      <td>1127.275597</td>\n",
       "      <td>1.083369</td>\n",
       "      <td>0.565614</td>\n",
       "      <td>2.390414</td>\n",
       "    </tr>\n",
       "    <tr>\n",
       "      <th>min</th>\n",
       "      <td>750.000000</td>\n",
       "      <td>150.000000</td>\n",
       "      <td>0.000000</td>\n",
       "      <td>1.000000</td>\n",
       "      <td>1.000000</td>\n",
       "    </tr>\n",
       "    <tr>\n",
       "      <th>25%</th>\n",
       "      <td>2650.000000</td>\n",
       "      <td>650.000000</td>\n",
       "      <td>1.000000</td>\n",
       "      <td>1.000000</td>\n",
       "      <td>6.000000</td>\n",
       "    </tr>\n",
       "    <tr>\n",
       "      <th>50%</th>\n",
       "      <td>3300.000000</td>\n",
       "      <td>900.000000</td>\n",
       "      <td>2.000000</td>\n",
       "      <td>1.000000</td>\n",
       "      <td>8.000000</td>\n",
       "    </tr>\n",
       "    <tr>\n",
       "      <th>75%</th>\n",
       "      <td>4210.000000</td>\n",
       "      <td>1250.000000</td>\n",
       "      <td>2.000000</td>\n",
       "      <td>2.000000</td>\n",
       "      <td>9.000000</td>\n",
       "    </tr>\n",
       "    <tr>\n",
       "      <th>max</th>\n",
       "      <td>22500.000000</td>\n",
       "      <td>11020.000000</td>\n",
       "      <td>6.000000</td>\n",
       "      <td>4.000000</td>\n",
       "      <td>10.000000</td>\n",
       "    </tr>\n",
       "  </tbody>\n",
       "</table>\n",
       "</div>"
      ],
      "text/plain": [
       "              price          sqft         beds         bath  hood_district\n",
       "count   1025.000000   1025.000000  1025.000000  1025.000000    1025.000000\n",
       "mean    3602.549268   1146.560000     1.647805     1.387805       7.075122\n",
       "std     1645.164943   1127.275597     1.083369     0.565614       2.390414\n",
       "min      750.000000    150.000000     0.000000     1.000000       1.000000\n",
       "25%     2650.000000    650.000000     1.000000     1.000000       6.000000\n",
       "50%     3300.000000    900.000000     2.000000     1.000000       8.000000\n",
       "75%     4210.000000   1250.000000     2.000000     2.000000       9.000000\n",
       "max    22500.000000  11020.000000     6.000000     4.000000      10.000000"
      ]
     },
     "execution_count": 83,
     "metadata": {},
     "output_type": "execute_result"
    }
   ],
   "source": [
    "sf.describe()"
   ]
  },
  {
   "cell_type": "markdown",
   "metadata": {},
   "source": [
    "### Price\n",
    "\n",
    "From the table above, we see that our 75 percentile for price is just over 4k, but our max is over 22k. That seems high. I'll do a search for anything above 10k and check the links to see if they're mistakenly listed."
   ]
  },
  {
   "cell_type": "code",
   "execution_count": 84,
   "metadata": {
    "ExecuteTime": {
     "end_time": "2020-10-04T22:45:15.394302Z",
     "start_time": "2020-10-04T22:45:15.390389Z"
    }
   },
   "outputs": [],
   "source": [
    "high_price_sf = sf[sf.price > 10000]"
   ]
  },
  {
   "cell_type": "code",
   "execution_count": 85,
   "metadata": {
    "ExecuteTime": {
     "end_time": "2020-10-04T22:45:15.406132Z",
     "start_time": "2020-10-04T22:45:15.395535Z"
    }
   },
   "outputs": [
    {
     "data": {
      "text/html": [
       "<div>\n",
       "<style scoped>\n",
       "    .dataframe tbody tr th:only-of-type {\n",
       "        vertical-align: middle;\n",
       "    }\n",
       "\n",
       "    .dataframe tbody tr th {\n",
       "        vertical-align: top;\n",
       "    }\n",
       "\n",
       "    .dataframe thead th {\n",
       "        text-align: right;\n",
       "    }\n",
       "</style>\n",
       "<table border=\"1\" class=\"dataframe\">\n",
       "  <thead>\n",
       "    <tr style=\"text-align: right;\">\n",
       "      <th></th>\n",
       "      <th>title</th>\n",
       "      <th>price</th>\n",
       "      <th>sqft</th>\n",
       "      <th>beds</th>\n",
       "      <th>bath</th>\n",
       "      <th>hood</th>\n",
       "      <th>laundry</th>\n",
       "      <th>pets</th>\n",
       "      <th>housing_type</th>\n",
       "      <th>parking</th>\n",
       "      <th>hood_district</th>\n",
       "    </tr>\n",
       "  </thead>\n",
       "  <tbody>\n",
       "    <tr>\n",
       "      <th>2085</th>\n",
       "      <td>#500 Furnished Only NEWLY REMODELED LUXURY 4 B...</td>\n",
       "      <td>15000</td>\n",
       "      <td>3500.0</td>\n",
       "      <td>4.0</td>\n",
       "      <td>3.5</td>\n",
       "      <td>richmond / seacliff</td>\n",
       "      <td>in-unit</td>\n",
       "      <td>no-pets</td>\n",
       "      <td>single</td>\n",
       "      <td>protected</td>\n",
       "      <td>1.0</td>\n",
       "    </tr>\n",
       "    <tr>\n",
       "      <th>1933</th>\n",
       "      <td>Amenities &amp; Gym Open | Water Views | 3 Bed 3.5...</td>\n",
       "      <td>19000</td>\n",
       "      <td>2358.0</td>\n",
       "      <td>3.0</td>\n",
       "      <td>3.5</td>\n",
       "      <td>SOMA / south beach</td>\n",
       "      <td>in-unit</td>\n",
       "      <td>no-pets</td>\n",
       "      <td>multi</td>\n",
       "      <td>valet</td>\n",
       "      <td>9.0</td>\n",
       "    </tr>\n",
       "    <tr>\n",
       "      <th>1203</th>\n",
       "      <td>Looking for Luxury? Try 33 Tehama! High-Rise L...</td>\n",
       "      <td>12500</td>\n",
       "      <td>2250.0</td>\n",
       "      <td>2.0</td>\n",
       "      <td>2.5</td>\n",
       "      <td>SOMA / south beach</td>\n",
       "      <td>in-unit</td>\n",
       "      <td>both</td>\n",
       "      <td>multi</td>\n",
       "      <td>valet</td>\n",
       "      <td>9.0</td>\n",
       "    </tr>\n",
       "    <tr>\n",
       "      <th>1270</th>\n",
       "      <td>Rarely Available w Parking &amp; Yard!!</td>\n",
       "      <td>10500</td>\n",
       "      <td>2179.0</td>\n",
       "      <td>3.0</td>\n",
       "      <td>3.0</td>\n",
       "      <td>russian hill</td>\n",
       "      <td>in-unit</td>\n",
       "      <td>no-pets</td>\n",
       "      <td>multi</td>\n",
       "      <td>protected</td>\n",
       "      <td>8.0</td>\n",
       "    </tr>\n",
       "    <tr>\n",
       "      <th>2332</th>\n",
       "      <td>Tri-Level Penthouse Loft w/ Private Roof Deck ...</td>\n",
       "      <td>12000</td>\n",
       "      <td>3300.0</td>\n",
       "      <td>4.0</td>\n",
       "      <td>4.0</td>\n",
       "      <td>SOMA / south beach</td>\n",
       "      <td>in-unit</td>\n",
       "      <td>both</td>\n",
       "      <td>multi</td>\n",
       "      <td>protected</td>\n",
       "      <td>9.0</td>\n",
       "    </tr>\n",
       "    <tr>\n",
       "      <th>1926</th>\n",
       "      <td>Warehouse Conversion | Garden Rooftop | Multip...</td>\n",
       "      <td>22500</td>\n",
       "      <td>4509.0</td>\n",
       "      <td>3.0</td>\n",
       "      <td>4.0</td>\n",
       "      <td>SOMA / south beach</td>\n",
       "      <td>in-unit</td>\n",
       "      <td>no-pets</td>\n",
       "      <td>multi</td>\n",
       "      <td>protected</td>\n",
       "      <td>9.0</td>\n",
       "    </tr>\n",
       "  </tbody>\n",
       "</table>\n",
       "</div>"
      ],
      "text/plain": [
       "                                                  title  price    sqft  beds  \\\n",
       "2085  #500 Furnished Only NEWLY REMODELED LUXURY 4 B...  15000  3500.0   4.0   \n",
       "1933  Amenities & Gym Open | Water Views | 3 Bed 3.5...  19000  2358.0   3.0   \n",
       "1203  Looking for Luxury? Try 33 Tehama! High-Rise L...  12500  2250.0   2.0   \n",
       "1270                Rarely Available w Parking & Yard!!  10500  2179.0   3.0   \n",
       "2332  Tri-Level Penthouse Loft w/ Private Roof Deck ...  12000  3300.0   4.0   \n",
       "1926  Warehouse Conversion | Garden Rooftop | Multip...  22500  4509.0   3.0   \n",
       "\n",
       "      bath                 hood  laundry     pets housing_type    parking  \\\n",
       "2085   3.5  richmond / seacliff  in-unit  no-pets       single  protected   \n",
       "1933   3.5   SOMA / south beach  in-unit  no-pets        multi      valet   \n",
       "1203   2.5   SOMA / south beach  in-unit     both        multi      valet   \n",
       "1270   3.0         russian hill  in-unit  no-pets        multi  protected   \n",
       "2332   4.0   SOMA / south beach  in-unit     both        multi  protected   \n",
       "1926   4.0   SOMA / south beach  in-unit  no-pets        multi  protected   \n",
       "\n",
       "      hood_district  \n",
       "2085            1.0  \n",
       "1933            9.0  \n",
       "1203            9.0  \n",
       "1270            8.0  \n",
       "2332            9.0  \n",
       "1926            9.0  "
      ]
     },
     "execution_count": 85,
     "metadata": {},
     "output_type": "execute_result"
    }
   ],
   "source": [
    "high_price_sf"
   ]
  },
  {
   "cell_type": "markdown",
   "metadata": {},
   "source": [
    "Six listings in the dataset above 10k/month. I'll use the `sf_raw` dataframe to grab the links and investigate."
   ]
  },
  {
   "cell_type": "code",
   "execution_count": 86,
   "metadata": {
    "ExecuteTime": {
     "end_time": "2020-10-04T22:45:15.409904Z",
     "start_time": "2020-10-04T22:45:15.407324Z"
    }
   },
   "outputs": [],
   "source": [
    "high_prices = sf_raw[sf_raw.price > 10000]"
   ]
  },
  {
   "cell_type": "code",
   "execution_count": 87,
   "metadata": {
    "ExecuteTime": {
     "end_time": "2020-10-04T22:45:15.413715Z",
     "start_time": "2020-10-04T22:45:15.411151Z"
    }
   },
   "outputs": [
    {
     "data": {
      "text/plain": [
       "16"
      ]
     },
     "execution_count": 87,
     "metadata": {},
     "output_type": "execute_result"
    }
   ],
   "source": [
    "len(high_prices)"
   ]
  },
  {
   "cell_type": "code",
   "execution_count": 88,
   "metadata": {
    "ExecuteTime": {
     "end_time": "2020-10-04T22:45:15.427539Z",
     "start_time": "2020-10-04T22:45:15.414903Z"
    }
   },
   "outputs": [
    {
     "data": {
      "text/html": [
       "<div>\n",
       "<style scoped>\n",
       "    .dataframe tbody tr th:only-of-type {\n",
       "        vertical-align: middle;\n",
       "    }\n",
       "\n",
       "    .dataframe tbody tr th {\n",
       "        vertical-align: top;\n",
       "    }\n",
       "\n",
       "    .dataframe thead th {\n",
       "        text-align: right;\n",
       "    }\n",
       "</style>\n",
       "<table border=\"1\" class=\"dataframe\">\n",
       "  <thead>\n",
       "    <tr style=\"text-align: right;\">\n",
       "      <th></th>\n",
       "      <th>price</th>\n",
       "      <th>brs</th>\n",
       "      <th>sqft</th>\n",
       "    </tr>\n",
       "  </thead>\n",
       "  <tbody>\n",
       "    <tr>\n",
       "      <th>count</th>\n",
       "      <td>16.000000</td>\n",
       "      <td>16.000000</td>\n",
       "      <td>8.000000</td>\n",
       "    </tr>\n",
       "    <tr>\n",
       "      <th>mean</th>\n",
       "      <td>17530.562500</td>\n",
       "      <td>3.375000</td>\n",
       "      <td>3262.000000</td>\n",
       "    </tr>\n",
       "    <tr>\n",
       "      <th>std</th>\n",
       "      <td>6163.095034</td>\n",
       "      <td>0.885061</td>\n",
       "      <td>903.693532</td>\n",
       "    </tr>\n",
       "    <tr>\n",
       "      <th>min</th>\n",
       "      <td>10500.000000</td>\n",
       "      <td>2.000000</td>\n",
       "      <td>2179.000000</td>\n",
       "    </tr>\n",
       "    <tr>\n",
       "      <th>25%</th>\n",
       "      <td>12375.000000</td>\n",
       "      <td>3.000000</td>\n",
       "      <td>2331.000000</td>\n",
       "    </tr>\n",
       "    <tr>\n",
       "      <th>50%</th>\n",
       "      <td>16995.000000</td>\n",
       "      <td>3.000000</td>\n",
       "      <td>3400.000000</td>\n",
       "    </tr>\n",
       "    <tr>\n",
       "      <th>75%</th>\n",
       "      <td>19875.000000</td>\n",
       "      <td>4.000000</td>\n",
       "      <td>4000.000000</td>\n",
       "    </tr>\n",
       "    <tr>\n",
       "      <th>max</th>\n",
       "      <td>29000.000000</td>\n",
       "      <td>5.000000</td>\n",
       "      <td>4509.000000</td>\n",
       "    </tr>\n",
       "  </tbody>\n",
       "</table>\n",
       "</div>"
      ],
      "text/plain": [
       "              price        brs         sqft\n",
       "count     16.000000  16.000000     8.000000\n",
       "mean   17530.562500   3.375000  3262.000000\n",
       "std     6163.095034   0.885061   903.693532\n",
       "min    10500.000000   2.000000  2179.000000\n",
       "25%    12375.000000   3.000000  2331.000000\n",
       "50%    16995.000000   3.000000  3400.000000\n",
       "75%    19875.000000   4.000000  4000.000000\n",
       "max    29000.000000   5.000000  4509.000000"
      ]
     },
     "execution_count": 88,
     "metadata": {},
     "output_type": "execute_result"
    }
   ],
   "source": [
    "high_prices.describe()"
   ]
  },
  {
   "cell_type": "markdown",
   "metadata": {},
   "source": [
    "Amazingly enough, 22.5k was not our actual max in the raw data! I must have dropped some for other missing data fields. "
   ]
  },
  {
   "cell_type": "code",
   "execution_count": 89,
   "metadata": {
    "ExecuteTime": {
     "end_time": "2020-10-04T22:45:15.438264Z",
     "start_time": "2020-10-04T22:45:15.428899Z"
    }
   },
   "outputs": [
    {
     "data": {
      "text/html": [
       "<div>\n",
       "<style scoped>\n",
       "    .dataframe tbody tr th:only-of-type {\n",
       "        vertical-align: middle;\n",
       "    }\n",
       "\n",
       "    .dataframe tbody tr th {\n",
       "        vertical-align: top;\n",
       "    }\n",
       "\n",
       "    .dataframe thead th {\n",
       "        text-align: right;\n",
       "    }\n",
       "</style>\n",
       "<table border=\"1\" class=\"dataframe\">\n",
       "  <thead>\n",
       "    <tr style=\"text-align: right;\">\n",
       "      <th></th>\n",
       "      <th>date</th>\n",
       "      <th>title</th>\n",
       "      <th>link</th>\n",
       "      <th>price</th>\n",
       "      <th>brs</th>\n",
       "      <th>sqft</th>\n",
       "      <th>hood</th>\n",
       "      <th>bath</th>\n",
       "      <th>amenities</th>\n",
       "    </tr>\n",
       "  </thead>\n",
       "  <tbody>\n",
       "    <tr>\n",
       "      <th>293</th>\n",
       "      <td>Oct  1</td>\n",
       "      <td>Two-story luxury penthouse condo. Great locati...</td>\n",
       "      <td>https://sfbay.craigslist.org/sfc/apa/d/san-fra...</td>\n",
       "      <td>11999</td>\n",
       "      <td>3.0</td>\n",
       "      <td>NaN</td>\n",
       "      <td>north beach / telegraph hill</td>\n",
       "      <td>2.5Ba</td>\n",
       "      <td>['cats are OK - purrr', 'dogs are OK - wooof',...</td>\n",
       "    </tr>\n",
       "    <tr>\n",
       "      <th>626</th>\n",
       "      <td>Oct  1</td>\n",
       "      <td>Stunning Dolores Park Penthouse - Views, 3 Car...</td>\n",
       "      <td>https://sfbay.craigslist.org/sfc/apa/d/san-fra...</td>\n",
       "      <td>12500</td>\n",
       "      <td>3.0</td>\n",
       "      <td>NaN</td>\n",
       "      <td>Mission Dolores</td>\n",
       "      <td>3Ba</td>\n",
       "      <td>['cats are OK - purrr', 'dogs are OK - wooof',...</td>\n",
       "    </tr>\n",
       "    <tr>\n",
       "      <th>665</th>\n",
       "      <td>Oct  1</td>\n",
       "      <td>Prime Pacific Heights House-Like Two-Level Condo</td>\n",
       "      <td>https://sfbay.craigslist.org/sfc/apa/d/san-fra...</td>\n",
       "      <td>12000</td>\n",
       "      <td>3.0</td>\n",
       "      <td>NaN</td>\n",
       "      <td>pacific heights</td>\n",
       "      <td>3Ba</td>\n",
       "      <td>['cats are OK - purrr', 'dogs are OK - wooof',...</td>\n",
       "    </tr>\n",
       "    <tr>\n",
       "      <th>780</th>\n",
       "      <td>Oct  1</td>\n",
       "      <td>Grand Mansion in Cole Valley, Private Yard, 2 ...</td>\n",
       "      <td>https://sfbay.craigslist.org/sfc/apa/d/san-fra...</td>\n",
       "      <td>17000</td>\n",
       "      <td>5.0</td>\n",
       "      <td>NaN</td>\n",
       "      <td>inner sunset / UCSF</td>\n",
       "      <td>5.5Ba</td>\n",
       "      <td>['application fee details: $40.00 per applican...</td>\n",
       "    </tr>\n",
       "    <tr>\n",
       "      <th>781</th>\n",
       "      <td>Oct  1</td>\n",
       "      <td>Grand Mansion in Cole Valley, Private Yard, 2 ...</td>\n",
       "      <td>https://sfbay.craigslist.org/sfc/apa/d/san-fra...</td>\n",
       "      <td>17000</td>\n",
       "      <td>5.0</td>\n",
       "      <td>NaN</td>\n",
       "      <td>cole valley / ashbury hts</td>\n",
       "      <td>5.5Ba</td>\n",
       "      <td>['application fee details: $40.00 per applican...</td>\n",
       "    </tr>\n",
       "  </tbody>\n",
       "</table>\n",
       "</div>"
      ],
      "text/plain": [
       "       date                                              title  \\\n",
       "293  Oct  1  Two-story luxury penthouse condo. Great locati...   \n",
       "626  Oct  1  Stunning Dolores Park Penthouse - Views, 3 Car...   \n",
       "665  Oct  1   Prime Pacific Heights House-Like Two-Level Condo   \n",
       "780  Oct  1  Grand Mansion in Cole Valley, Private Yard, 2 ...   \n",
       "781  Oct  1  Grand Mansion in Cole Valley, Private Yard, 2 ...   \n",
       "\n",
       "                                                  link  price  brs  sqft  \\\n",
       "293  https://sfbay.craigslist.org/sfc/apa/d/san-fra...  11999  3.0   NaN   \n",
       "626  https://sfbay.craigslist.org/sfc/apa/d/san-fra...  12500  3.0   NaN   \n",
       "665  https://sfbay.craigslist.org/sfc/apa/d/san-fra...  12000  3.0   NaN   \n",
       "780  https://sfbay.craigslist.org/sfc/apa/d/san-fra...  17000  5.0   NaN   \n",
       "781  https://sfbay.craigslist.org/sfc/apa/d/san-fra...  17000  5.0   NaN   \n",
       "\n",
       "                             hood   bath  \\\n",
       "293  north beach / telegraph hill  2.5Ba   \n",
       "626               Mission Dolores    3Ba   \n",
       "665               pacific heights    3Ba   \n",
       "780           inner sunset / UCSF  5.5Ba   \n",
       "781     cole valley / ashbury hts  5.5Ba   \n",
       "\n",
       "                                             amenities  \n",
       "293  ['cats are OK - purrr', 'dogs are OK - wooof',...  \n",
       "626  ['cats are OK - purrr', 'dogs are OK - wooof',...  \n",
       "665  ['cats are OK - purrr', 'dogs are OK - wooof',...  \n",
       "780  ['application fee details: $40.00 per applican...  \n",
       "781  ['application fee details: $40.00 per applican...  "
      ]
     },
     "execution_count": 89,
     "metadata": {},
     "output_type": "execute_result"
    }
   ],
   "source": [
    "high_prices.head()"
   ]
  },
  {
   "cell_type": "markdown",
   "metadata": {},
   "source": [
    "I'll take a quick look at the 22.5k max from the cleaned dataframe. "
   ]
  },
  {
   "cell_type": "code",
   "execution_count": 90,
   "metadata": {
    "ExecuteTime": {
     "end_time": "2020-10-04T22:45:15.442253Z",
     "start_time": "2020-10-04T22:45:15.439650Z"
    }
   },
   "outputs": [],
   "source": [
    "price_22500 = high_prices[high_prices.price == 22500]"
   ]
  },
  {
   "cell_type": "code",
   "execution_count": 91,
   "metadata": {
    "ExecuteTime": {
     "end_time": "2020-10-04T22:45:15.452252Z",
     "start_time": "2020-10-04T22:45:15.443752Z"
    }
   },
   "outputs": [
    {
     "data": {
      "text/html": [
       "<div>\n",
       "<style scoped>\n",
       "    .dataframe tbody tr th:only-of-type {\n",
       "        vertical-align: middle;\n",
       "    }\n",
       "\n",
       "    .dataframe tbody tr th {\n",
       "        vertical-align: top;\n",
       "    }\n",
       "\n",
       "    .dataframe thead th {\n",
       "        text-align: right;\n",
       "    }\n",
       "</style>\n",
       "<table border=\"1\" class=\"dataframe\">\n",
       "  <thead>\n",
       "    <tr style=\"text-align: right;\">\n",
       "      <th></th>\n",
       "      <th>date</th>\n",
       "      <th>title</th>\n",
       "      <th>link</th>\n",
       "      <th>price</th>\n",
       "      <th>brs</th>\n",
       "      <th>sqft</th>\n",
       "      <th>hood</th>\n",
       "      <th>bath</th>\n",
       "      <th>amenities</th>\n",
       "    </tr>\n",
       "  </thead>\n",
       "  <tbody>\n",
       "    <tr>\n",
       "      <th>1926</th>\n",
       "      <td>Oct  1</td>\n",
       "      <td>Warehouse Conversion | Garden Rooftop | Multip...</td>\n",
       "      <td>https://sfbay.craigslist.org/sfc/apa/d/san-fra...</td>\n",
       "      <td>22500</td>\n",
       "      <td>3.0</td>\n",
       "      <td>4509.0</td>\n",
       "      <td>SOMA / south beach</td>\n",
       "      <td>4Ba</td>\n",
       "      <td>['application fee details: $45 Application Fee...</td>\n",
       "    </tr>\n",
       "  </tbody>\n",
       "</table>\n",
       "</div>"
      ],
      "text/plain": [
       "        date                                              title  \\\n",
       "1926  Oct  1  Warehouse Conversion | Garden Rooftop | Multip...   \n",
       "\n",
       "                                                   link  price  brs    sqft  \\\n",
       "1926  https://sfbay.craigslist.org/sfc/apa/d/san-fra...  22500  3.0  4509.0   \n",
       "\n",
       "                    hood bath  \\\n",
       "1926  SOMA / south beach  4Ba   \n",
       "\n",
       "                                              amenities  \n",
       "1926  ['application fee details: $45 Application Fee...  "
      ]
     },
     "execution_count": 91,
     "metadata": {},
     "output_type": "execute_result"
    }
   ],
   "source": [
    "price_22500"
   ]
  },
  {
   "cell_type": "markdown",
   "metadata": {},
   "source": [
    "That is 100% real, and over 200% of what I pay for rent in Oakland. Amazing. \n",
    "\n",
    "Let's look at the other listings: "
   ]
  },
  {
   "cell_type": "code",
   "execution_count": 92,
   "metadata": {
    "ExecuteTime": {
     "end_time": "2020-10-04T22:45:15.455204Z",
     "start_time": "2020-10-04T22:45:15.453498Z"
    }
   },
   "outputs": [],
   "source": [
    "#for link in high_prices.link:\n",
    "#    print(link, '\\n')"
   ]
  },
  {
   "cell_type": "markdown",
   "metadata": {},
   "source": [
    "These all appear to be real as well - unreal. I can't imagine being able to afford a +20k/month rental in SF and using *Craigslist* as my search tool, but here we are.\n",
    "\n",
    "They'll remain in the data set."
   ]
  },
  {
   "cell_type": "markdown",
   "metadata": {},
   "source": [
    "### Square Footage\n",
    "\n",
    "\n",
    "I'm kind of afraid to look, but let's check square footage for anything above 5k sqft."
   ]
  },
  {
   "cell_type": "code",
   "execution_count": 93,
   "metadata": {
    "ExecuteTime": {
     "end_time": "2020-10-04T22:45:15.459142Z",
     "start_time": "2020-10-04T22:45:15.456508Z"
    }
   },
   "outputs": [],
   "source": [
    "high_sqft_sf = sf[sf.sqft > 5000]"
   ]
  },
  {
   "cell_type": "code",
   "execution_count": 94,
   "metadata": {
    "ExecuteTime": {
     "end_time": "2020-10-04T22:45:15.463410Z",
     "start_time": "2020-10-04T22:45:15.460526Z"
    }
   },
   "outputs": [
    {
     "data": {
      "text/plain": [
       "17"
      ]
     },
     "execution_count": 94,
     "metadata": {},
     "output_type": "execute_result"
    }
   ],
   "source": [
    "len(high_sqft_sf)"
   ]
  },
  {
   "cell_type": "code",
   "execution_count": 95,
   "metadata": {
    "ExecuteTime": {
     "end_time": "2020-10-04T22:45:15.476498Z",
     "start_time": "2020-10-04T22:45:15.464728Z"
    },
    "scrolled": true
   },
   "outputs": [
    {
     "data": {
      "text/html": [
       "<div>\n",
       "<style scoped>\n",
       "    .dataframe tbody tr th:only-of-type {\n",
       "        vertical-align: middle;\n",
       "    }\n",
       "\n",
       "    .dataframe tbody tr th {\n",
       "        vertical-align: top;\n",
       "    }\n",
       "\n",
       "    .dataframe thead th {\n",
       "        text-align: right;\n",
       "    }\n",
       "</style>\n",
       "<table border=\"1\" class=\"dataframe\">\n",
       "  <thead>\n",
       "    <tr style=\"text-align: right;\">\n",
       "      <th></th>\n",
       "      <th>title</th>\n",
       "      <th>price</th>\n",
       "      <th>sqft</th>\n",
       "      <th>beds</th>\n",
       "      <th>bath</th>\n",
       "      <th>hood</th>\n",
       "      <th>laundry</th>\n",
       "      <th>pets</th>\n",
       "      <th>housing_type</th>\n",
       "      <th>parking</th>\n",
       "      <th>hood_district</th>\n",
       "    </tr>\n",
       "  </thead>\n",
       "  <tbody>\n",
       "    <tr>\n",
       "      <th>554</th>\n",
       "      <td>Beautiful Studio, Ready to Rent! Move in special</td>\n",
       "      <td>2053</td>\n",
       "      <td>5100.0</td>\n",
       "      <td>0.0</td>\n",
       "      <td>1.0</td>\n",
       "      <td>western addition</td>\n",
       "      <td>in-unit</td>\n",
       "      <td>both</td>\n",
       "      <td>multi</td>\n",
       "      <td>protected</td>\n",
       "      <td>6.0</td>\n",
       "    </tr>\n",
       "    <tr>\n",
       "      <th>2672</th>\n",
       "      <td>Furnished 1BR South Beach, w/ Balcony + Spa, n...</td>\n",
       "      <td>3590</td>\n",
       "      <td>6360.0</td>\n",
       "      <td>1.0</td>\n",
       "      <td>1.0</td>\n",
       "      <td>South Beach</td>\n",
       "      <td>on-site</td>\n",
       "      <td>both</td>\n",
       "      <td>multi</td>\n",
       "      <td>off-street</td>\n",
       "      <td>9.0</td>\n",
       "    </tr>\n",
       "    <tr>\n",
       "      <th>2764</th>\n",
       "      <td>Furnished Airy Hayes Valley 2BR w/ Rooftop, Pa...</td>\n",
       "      <td>4890</td>\n",
       "      <td>9800.0</td>\n",
       "      <td>2.0</td>\n",
       "      <td>2.0</td>\n",
       "      <td>Hayes Valley</td>\n",
       "      <td>in-unit</td>\n",
       "      <td>both</td>\n",
       "      <td>multi</td>\n",
       "      <td>off-street</td>\n",
       "      <td>6.0</td>\n",
       "    </tr>\n",
       "    <tr>\n",
       "      <th>2670</th>\n",
       "      <td>Furnished Bright Nob Hill Studio w/ Gym, Sauna...</td>\n",
       "      <td>3290</td>\n",
       "      <td>5200.0</td>\n",
       "      <td>0.0</td>\n",
       "      <td>1.0</td>\n",
       "      <td>Nob Hill</td>\n",
       "      <td>on-site</td>\n",
       "      <td>no-pets</td>\n",
       "      <td>multi</td>\n",
       "      <td>off-street</td>\n",
       "      <td>8.0</td>\n",
       "    </tr>\n",
       "    <tr>\n",
       "      <th>2746</th>\n",
       "      <td>Furnished Bright Rincon Hill 1BR w/ Rooftop, S...</td>\n",
       "      <td>3690</td>\n",
       "      <td>5880.0</td>\n",
       "      <td>1.0</td>\n",
       "      <td>1.0</td>\n",
       "      <td>Rincon Hill</td>\n",
       "      <td>in-unit</td>\n",
       "      <td>both</td>\n",
       "      <td>multi</td>\n",
       "      <td>n/a</td>\n",
       "      <td>9.0</td>\n",
       "    </tr>\n",
       "  </tbody>\n",
       "</table>\n",
       "</div>"
      ],
      "text/plain": [
       "                                                  title  price    sqft  beds  \\\n",
       "554    Beautiful Studio, Ready to Rent! Move in special   2053  5100.0   0.0   \n",
       "2672  Furnished 1BR South Beach, w/ Balcony + Spa, n...   3590  6360.0   1.0   \n",
       "2764  Furnished Airy Hayes Valley 2BR w/ Rooftop, Pa...   4890  9800.0   2.0   \n",
       "2670  Furnished Bright Nob Hill Studio w/ Gym, Sauna...   3290  5200.0   0.0   \n",
       "2746  Furnished Bright Rincon Hill 1BR w/ Rooftop, S...   3690  5880.0   1.0   \n",
       "\n",
       "      bath              hood  laundry     pets housing_type     parking  \\\n",
       "554    1.0  western addition  in-unit     both        multi   protected   \n",
       "2672   1.0       South Beach  on-site     both        multi  off-street   \n",
       "2764   2.0      Hayes Valley  in-unit     both        multi  off-street   \n",
       "2670   1.0          Nob Hill  on-site  no-pets        multi  off-street   \n",
       "2746   1.0       Rincon Hill  in-unit     both        multi         n/a   \n",
       "\n",
       "      hood_district  \n",
       "554             6.0  \n",
       "2672            9.0  \n",
       "2764            6.0  \n",
       "2670            8.0  \n",
       "2746            9.0  "
      ]
     },
     "execution_count": 95,
     "metadata": {},
     "output_type": "execute_result"
    }
   ],
   "source": [
    "high_sqft_sf.head()"
   ]
  },
  {
   "cell_type": "code",
   "execution_count": 96,
   "metadata": {
    "ExecuteTime": {
     "end_time": "2020-10-04T22:45:15.481974Z",
     "start_time": "2020-10-04T22:45:15.478599Z"
    }
   },
   "outputs": [],
   "source": [
    "high_sqft = sf_raw[sf_raw.sqft > 5000]"
   ]
  },
  {
   "cell_type": "code",
   "execution_count": 97,
   "metadata": {
    "ExecuteTime": {
     "end_time": "2020-10-04T22:45:15.485398Z",
     "start_time": "2020-10-04T22:45:15.483642Z"
    }
   },
   "outputs": [],
   "source": [
    "# for link in high_sqft.link:\n",
    "#     print(link, '\\n')"
   ]
  },
  {
   "cell_type": "markdown",
   "metadata": {},
   "source": [
    "These are wrong. Most of these listings are apartments that are 1,500 square feet at most. I'm guessing that some of these listings just have a 0 at the end where it shouldnt... for example, 7500 instead of 750.\n",
    "\n",
    "I'll look at square footage above 3k (the 75 percentile is 1250) and less than 5k to see what's going on."
   ]
  },
  {
   "cell_type": "code",
   "execution_count": 98,
   "metadata": {
    "ExecuteTime": {
     "end_time": "2020-10-04T22:45:15.490055Z",
     "start_time": "2020-10-04T22:45:15.486817Z"
    }
   },
   "outputs": [],
   "source": [
    "high_sqft_sf = sf[(sf.sqft > 3000) & (sf.sqft < 5000)]"
   ]
  },
  {
   "cell_type": "code",
   "execution_count": 99,
   "metadata": {
    "ExecuteTime": {
     "end_time": "2020-10-04T22:45:15.494596Z",
     "start_time": "2020-10-04T22:45:15.491583Z"
    }
   },
   "outputs": [
    {
     "data": {
      "text/plain": [
       "21"
      ]
     },
     "execution_count": 99,
     "metadata": {},
     "output_type": "execute_result"
    }
   ],
   "source": [
    "len(high_sqft_sf)"
   ]
  },
  {
   "cell_type": "code",
   "execution_count": 100,
   "metadata": {
    "ExecuteTime": {
     "end_time": "2020-10-04T22:45:15.508726Z",
     "start_time": "2020-10-04T22:45:15.496206Z"
    }
   },
   "outputs": [
    {
     "data": {
      "text/html": [
       "<div>\n",
       "<style scoped>\n",
       "    .dataframe tbody tr th:only-of-type {\n",
       "        vertical-align: middle;\n",
       "    }\n",
       "\n",
       "    .dataframe tbody tr th {\n",
       "        vertical-align: top;\n",
       "    }\n",
       "\n",
       "    .dataframe thead th {\n",
       "        text-align: right;\n",
       "    }\n",
       "</style>\n",
       "<table border=\"1\" class=\"dataframe\">\n",
       "  <thead>\n",
       "    <tr style=\"text-align: right;\">\n",
       "      <th></th>\n",
       "      <th>title</th>\n",
       "      <th>price</th>\n",
       "      <th>sqft</th>\n",
       "      <th>beds</th>\n",
       "      <th>bath</th>\n",
       "      <th>hood</th>\n",
       "      <th>laundry</th>\n",
       "      <th>pets</th>\n",
       "      <th>housing_type</th>\n",
       "      <th>parking</th>\n",
       "      <th>hood_district</th>\n",
       "    </tr>\n",
       "  </thead>\n",
       "  <tbody>\n",
       "    <tr>\n",
       "      <th>2015</th>\n",
       "      <td>#132 Furnished ONLY Beautiful Mansion in Heart...</td>\n",
       "      <td>9000</td>\n",
       "      <td>3500.0</td>\n",
       "      <td>3.0</td>\n",
       "      <td>2.5</td>\n",
       "      <td>pacific heights</td>\n",
       "      <td>in-unit</td>\n",
       "      <td>no-pets</td>\n",
       "      <td>multi</td>\n",
       "      <td>protected</td>\n",
       "      <td>7.0</td>\n",
       "    </tr>\n",
       "    <tr>\n",
       "      <th>2085</th>\n",
       "      <td>#500 Furnished Only NEWLY REMODELED LUXURY 4 B...</td>\n",
       "      <td>15000</td>\n",
       "      <td>3500.0</td>\n",
       "      <td>4.0</td>\n",
       "      <td>3.5</td>\n",
       "      <td>richmond / seacliff</td>\n",
       "      <td>in-unit</td>\n",
       "      <td>no-pets</td>\n",
       "      <td>single</td>\n",
       "      <td>protected</td>\n",
       "      <td>1.0</td>\n",
       "    </tr>\n",
       "    <tr>\n",
       "      <th>705</th>\n",
       "      <td>Elegant 5 Bedroom St Francis Wood home</td>\n",
       "      <td>9100</td>\n",
       "      <td>3200.0</td>\n",
       "      <td>5.0</td>\n",
       "      <td>3.0</td>\n",
       "      <td>west portal / forest hill</td>\n",
       "      <td>in-unit</td>\n",
       "      <td>no-pets</td>\n",
       "      <td>single</td>\n",
       "      <td>n/a</td>\n",
       "      <td>4.0</td>\n",
       "    </tr>\n",
       "    <tr>\n",
       "      <th>1848</th>\n",
       "      <td>Fully Furnished, Ample Studio in South Park, n...</td>\n",
       "      <td>3090</td>\n",
       "      <td>4500.0</td>\n",
       "      <td>0.0</td>\n",
       "      <td>1.0</td>\n",
       "      <td>South Park</td>\n",
       "      <td>on-site</td>\n",
       "      <td>no-pets</td>\n",
       "      <td>multi</td>\n",
       "      <td>off-street</td>\n",
       "      <td>9.0</td>\n",
       "    </tr>\n",
       "    <tr>\n",
       "      <th>2739</th>\n",
       "      <td>Furnished Cozy South Park Studio, near Caltrai...</td>\n",
       "      <td>2890</td>\n",
       "      <td>4250.0</td>\n",
       "      <td>0.0</td>\n",
       "      <td>1.0</td>\n",
       "      <td>South Park</td>\n",
       "      <td>in-unit</td>\n",
       "      <td>no-pets</td>\n",
       "      <td>multi</td>\n",
       "      <td>n/a</td>\n",
       "      <td>9.0</td>\n",
       "    </tr>\n",
       "  </tbody>\n",
       "</table>\n",
       "</div>"
      ],
      "text/plain": [
       "                                                  title  price    sqft  beds  \\\n",
       "2015  #132 Furnished ONLY Beautiful Mansion in Heart...   9000  3500.0   3.0   \n",
       "2085  #500 Furnished Only NEWLY REMODELED LUXURY 4 B...  15000  3500.0   4.0   \n",
       "705              Elegant 5 Bedroom St Francis Wood home   9100  3200.0   5.0   \n",
       "1848  Fully Furnished, Ample Studio in South Park, n...   3090  4500.0   0.0   \n",
       "2739  Furnished Cozy South Park Studio, near Caltrai...   2890  4250.0   0.0   \n",
       "\n",
       "      bath                       hood  laundry     pets housing_type  \\\n",
       "2015   2.5            pacific heights  in-unit  no-pets        multi   \n",
       "2085   3.5        richmond / seacliff  in-unit  no-pets       single   \n",
       "705    3.0  west portal / forest hill  in-unit  no-pets       single   \n",
       "1848   1.0                 South Park  on-site  no-pets        multi   \n",
       "2739   1.0                 South Park  in-unit  no-pets        multi   \n",
       "\n",
       "         parking  hood_district  \n",
       "2015   protected            7.0  \n",
       "2085   protected            1.0  \n",
       "705          n/a            4.0  \n",
       "1848  off-street            9.0  \n",
       "2739         n/a            9.0  "
      ]
     },
     "execution_count": 100,
     "metadata": {},
     "output_type": "execute_result"
    }
   ],
   "source": [
    "high_sqft_sf.head()"
   ]
  },
  {
   "cell_type": "code",
   "execution_count": 101,
   "metadata": {
    "ExecuteTime": {
     "end_time": "2020-10-04T22:45:15.529359Z",
     "start_time": "2020-10-04T22:45:15.510257Z"
    }
   },
   "outputs": [
    {
     "data": {
      "text/html": [
       "<div>\n",
       "<style scoped>\n",
       "    .dataframe tbody tr th:only-of-type {\n",
       "        vertical-align: middle;\n",
       "    }\n",
       "\n",
       "    .dataframe tbody tr th {\n",
       "        vertical-align: top;\n",
       "    }\n",
       "\n",
       "    .dataframe thead th {\n",
       "        text-align: right;\n",
       "    }\n",
       "</style>\n",
       "<table border=\"1\" class=\"dataframe\">\n",
       "  <thead>\n",
       "    <tr style=\"text-align: right;\">\n",
       "      <th></th>\n",
       "      <th>price</th>\n",
       "      <th>sqft</th>\n",
       "      <th>beds</th>\n",
       "      <th>bath</th>\n",
       "      <th>hood_district</th>\n",
       "    </tr>\n",
       "  </thead>\n",
       "  <tbody>\n",
       "    <tr>\n",
       "      <th>count</th>\n",
       "      <td>21.000000</td>\n",
       "      <td>21.000000</td>\n",
       "      <td>21.000000</td>\n",
       "      <td>21.000000</td>\n",
       "      <td>21.000000</td>\n",
       "    </tr>\n",
       "    <tr>\n",
       "      <th>mean</th>\n",
       "      <td>5640.238095</td>\n",
       "      <td>4311.857143</td>\n",
       "      <td>1.095238</td>\n",
       "      <td>1.666667</td>\n",
       "      <td>7.428571</td>\n",
       "    </tr>\n",
       "    <tr>\n",
       "      <th>std</th>\n",
       "      <td>5291.613761</td>\n",
       "      <td>592.677339</td>\n",
       "      <td>1.813967</td>\n",
       "      <td>1.121755</td>\n",
       "      <td>2.203893</td>\n",
       "    </tr>\n",
       "    <tr>\n",
       "      <th>min</th>\n",
       "      <td>1990.000000</td>\n",
       "      <td>3200.000000</td>\n",
       "      <td>0.000000</td>\n",
       "      <td>1.000000</td>\n",
       "      <td>1.000000</td>\n",
       "    </tr>\n",
       "    <tr>\n",
       "      <th>25%</th>\n",
       "      <td>2690.000000</td>\n",
       "      <td>4160.000000</td>\n",
       "      <td>0.000000</td>\n",
       "      <td>1.000000</td>\n",
       "      <td>6.000000</td>\n",
       "    </tr>\n",
       "    <tr>\n",
       "      <th>50%</th>\n",
       "      <td>3090.000000</td>\n",
       "      <td>4509.000000</td>\n",
       "      <td>0.000000</td>\n",
       "      <td>1.000000</td>\n",
       "      <td>8.000000</td>\n",
       "    </tr>\n",
       "    <tr>\n",
       "      <th>75%</th>\n",
       "      <td>7995.000000</td>\n",
       "      <td>4700.000000</td>\n",
       "      <td>3.000000</td>\n",
       "      <td>2.500000</td>\n",
       "      <td>9.000000</td>\n",
       "    </tr>\n",
       "    <tr>\n",
       "      <th>max</th>\n",
       "      <td>22500.000000</td>\n",
       "      <td>4970.000000</td>\n",
       "      <td>5.000000</td>\n",
       "      <td>4.000000</td>\n",
       "      <td>9.000000</td>\n",
       "    </tr>\n",
       "  </tbody>\n",
       "</table>\n",
       "</div>"
      ],
      "text/plain": [
       "              price         sqft       beds       bath  hood_district\n",
       "count     21.000000    21.000000  21.000000  21.000000      21.000000\n",
       "mean    5640.238095  4311.857143   1.095238   1.666667       7.428571\n",
       "std     5291.613761   592.677339   1.813967   1.121755       2.203893\n",
       "min     1990.000000  3200.000000   0.000000   1.000000       1.000000\n",
       "25%     2690.000000  4160.000000   0.000000   1.000000       6.000000\n",
       "50%     3090.000000  4509.000000   0.000000   1.000000       8.000000\n",
       "75%     7995.000000  4700.000000   3.000000   2.500000       9.000000\n",
       "max    22500.000000  4970.000000   5.000000   4.000000       9.000000"
      ]
     },
     "execution_count": 101,
     "metadata": {},
     "output_type": "execute_result"
    }
   ],
   "source": [
    "high_sqft_sf.describe()"
   ]
  },
  {
   "cell_type": "code",
   "execution_count": 102,
   "metadata": {
    "ExecuteTime": {
     "end_time": "2020-10-04T22:45:15.534442Z",
     "start_time": "2020-10-04T22:45:15.530976Z"
    }
   },
   "outputs": [],
   "source": [
    "high_sqft = sf_raw[(sf_raw.sqft > 3000) & (sf_raw.sqft < 5000)]"
   ]
  },
  {
   "cell_type": "code",
   "execution_count": 103,
   "metadata": {
    "ExecuteTime": {
     "end_time": "2020-10-04T22:45:15.538973Z",
     "start_time": "2020-10-04T22:45:15.536035Z"
    }
   },
   "outputs": [
    {
     "data": {
      "text/plain": [
       "23"
      ]
     },
     "execution_count": 103,
     "metadata": {},
     "output_type": "execute_result"
    }
   ],
   "source": [
    "len(high_sqft)"
   ]
  },
  {
   "cell_type": "code",
   "execution_count": 104,
   "metadata": {
    "ExecuteTime": {
     "end_time": "2020-10-04T22:45:15.541992Z",
     "start_time": "2020-10-04T22:45:15.540296Z"
    }
   },
   "outputs": [],
   "source": [
    "# for link in high_sqft.link:\n",
    "#     print(link, '\\n')"
   ]
  },
  {
   "cell_type": "markdown",
   "metadata": {},
   "source": [
    "A fair amount of these still look wrong. There's a few that are probably correct, but I'm seeing a lot of studios and 1-2 bedrooms that claim to be +4000 sqft, but they're obviously not when looking at the floor plan and photos. \n",
    "\n",
    "I think a reasonable cut off then is 4000. Anything above this threshhold will be dropped."
   ]
  },
  {
   "cell_type": "code",
   "execution_count": 105,
   "metadata": {
    "ExecuteTime": {
     "end_time": "2020-10-04T22:45:15.546483Z",
     "start_time": "2020-10-04T22:45:15.543377Z"
    }
   },
   "outputs": [],
   "source": [
    "sf = sf[sf.sqft < 4000]"
   ]
  },
  {
   "cell_type": "code",
   "execution_count": 106,
   "metadata": {
    "ExecuteTime": {
     "end_time": "2020-10-04T22:45:15.566396Z",
     "start_time": "2020-10-04T22:45:15.547829Z"
    }
   },
   "outputs": [
    {
     "data": {
      "text/html": [
       "<div>\n",
       "<style scoped>\n",
       "    .dataframe tbody tr th:only-of-type {\n",
       "        vertical-align: middle;\n",
       "    }\n",
       "\n",
       "    .dataframe tbody tr th {\n",
       "        vertical-align: top;\n",
       "    }\n",
       "\n",
       "    .dataframe thead th {\n",
       "        text-align: right;\n",
       "    }\n",
       "</style>\n",
       "<table border=\"1\" class=\"dataframe\">\n",
       "  <thead>\n",
       "    <tr style=\"text-align: right;\">\n",
       "      <th></th>\n",
       "      <th>price</th>\n",
       "      <th>sqft</th>\n",
       "      <th>beds</th>\n",
       "      <th>bath</th>\n",
       "      <th>hood_district</th>\n",
       "    </tr>\n",
       "  </thead>\n",
       "  <tbody>\n",
       "    <tr>\n",
       "      <th>count</th>\n",
       "      <td>992.000000</td>\n",
       "      <td>992.000000</td>\n",
       "      <td>992.000000</td>\n",
       "      <td>992.000000</td>\n",
       "      <td>992.000000</td>\n",
       "    </tr>\n",
       "    <tr>\n",
       "      <th>mean</th>\n",
       "      <td>3587.469758</td>\n",
       "      <td>974.319556</td>\n",
       "      <td>1.677419</td>\n",
       "      <td>1.390625</td>\n",
       "      <td>7.044355</td>\n",
       "    </tr>\n",
       "    <tr>\n",
       "      <th>std</th>\n",
       "      <td>1550.004042</td>\n",
       "      <td>475.989720</td>\n",
       "      <td>1.075727</td>\n",
       "      <td>0.563239</td>\n",
       "      <td>2.412975</td>\n",
       "    </tr>\n",
       "    <tr>\n",
       "      <th>min</th>\n",
       "      <td>750.000000</td>\n",
       "      <td>150.000000</td>\n",
       "      <td>0.000000</td>\n",
       "      <td>1.000000</td>\n",
       "      <td>1.000000</td>\n",
       "    </tr>\n",
       "    <tr>\n",
       "      <th>25%</th>\n",
       "      <td>2650.000000</td>\n",
       "      <td>650.000000</td>\n",
       "      <td>1.000000</td>\n",
       "      <td>1.000000</td>\n",
       "      <td>6.000000</td>\n",
       "    </tr>\n",
       "    <tr>\n",
       "      <th>50%</th>\n",
       "      <td>3300.000000</td>\n",
       "      <td>900.000000</td>\n",
       "      <td>2.000000</td>\n",
       "      <td>1.000000</td>\n",
       "      <td>8.000000</td>\n",
       "    </tr>\n",
       "    <tr>\n",
       "      <th>75%</th>\n",
       "      <td>4218.000000</td>\n",
       "      <td>1200.000000</td>\n",
       "      <td>2.000000</td>\n",
       "      <td>2.000000</td>\n",
       "      <td>9.000000</td>\n",
       "    </tr>\n",
       "    <tr>\n",
       "      <th>max</th>\n",
       "      <td>19000.000000</td>\n",
       "      <td>3500.000000</td>\n",
       "      <td>6.000000</td>\n",
       "      <td>4.000000</td>\n",
       "      <td>10.000000</td>\n",
       "    </tr>\n",
       "  </tbody>\n",
       "</table>\n",
       "</div>"
      ],
      "text/plain": [
       "              price         sqft        beds        bath  hood_district\n",
       "count    992.000000   992.000000  992.000000  992.000000     992.000000\n",
       "mean    3587.469758   974.319556    1.677419    1.390625       7.044355\n",
       "std     1550.004042   475.989720    1.075727    0.563239       2.412975\n",
       "min      750.000000   150.000000    0.000000    1.000000       1.000000\n",
       "25%     2650.000000   650.000000    1.000000    1.000000       6.000000\n",
       "50%     3300.000000   900.000000    2.000000    1.000000       8.000000\n",
       "75%     4218.000000  1200.000000    2.000000    2.000000       9.000000\n",
       "max    19000.000000  3500.000000    6.000000    4.000000      10.000000"
      ]
     },
     "execution_count": 106,
     "metadata": {},
     "output_type": "execute_result"
    }
   ],
   "source": [
    "sf.describe()"
   ]
  },
  {
   "cell_type": "markdown",
   "metadata": {},
   "source": [
    "What about these low sqft apartments? "
   ]
  },
  {
   "cell_type": "code",
   "execution_count": 107,
   "metadata": {
    "ExecuteTime": {
     "end_time": "2020-10-04T22:45:15.570417Z",
     "start_time": "2020-10-04T22:45:15.567672Z"
    }
   },
   "outputs": [],
   "source": [
    "low_sqft_sf = sf[sf.sqft < 250]"
   ]
  },
  {
   "cell_type": "code",
   "execution_count": 108,
   "metadata": {
    "ExecuteTime": {
     "end_time": "2020-10-04T22:45:15.582416Z",
     "start_time": "2020-10-04T22:45:15.571899Z"
    }
   },
   "outputs": [
    {
     "data": {
      "text/html": [
       "<div>\n",
       "<style scoped>\n",
       "    .dataframe tbody tr th:only-of-type {\n",
       "        vertical-align: middle;\n",
       "    }\n",
       "\n",
       "    .dataframe tbody tr th {\n",
       "        vertical-align: top;\n",
       "    }\n",
       "\n",
       "    .dataframe thead th {\n",
       "        text-align: right;\n",
       "    }\n",
       "</style>\n",
       "<table border=\"1\" class=\"dataframe\">\n",
       "  <thead>\n",
       "    <tr style=\"text-align: right;\">\n",
       "      <th></th>\n",
       "      <th>title</th>\n",
       "      <th>price</th>\n",
       "      <th>sqft</th>\n",
       "      <th>beds</th>\n",
       "      <th>bath</th>\n",
       "      <th>hood</th>\n",
       "      <th>laundry</th>\n",
       "      <th>pets</th>\n",
       "      <th>housing_type</th>\n",
       "      <th>parking</th>\n",
       "      <th>hood_district</th>\n",
       "    </tr>\n",
       "  </thead>\n",
       "  <tbody>\n",
       "    <tr>\n",
       "      <th>529</th>\n",
       "      <td>$1,200 - Inner Richmond, two blocks away from ...</td>\n",
       "      <td>1200</td>\n",
       "      <td>184.0</td>\n",
       "      <td>1.0</td>\n",
       "      <td>2.5</td>\n",
       "      <td>inner richmond</td>\n",
       "      <td>n/a</td>\n",
       "      <td>no-pets</td>\n",
       "      <td>multi</td>\n",
       "      <td>n/a</td>\n",
       "      <td>1.0</td>\n",
       "    </tr>\n",
       "    <tr>\n",
       "      <th>2879</th>\n",
       "      <td>1 Bed 1 Bath Private Studio</td>\n",
       "      <td>750</td>\n",
       "      <td>170.0</td>\n",
       "      <td>1.0</td>\n",
       "      <td>1.0</td>\n",
       "      <td>excelsior / outer mission</td>\n",
       "      <td>on-site</td>\n",
       "      <td>no-pets</td>\n",
       "      <td>multi</td>\n",
       "      <td>n/a</td>\n",
       "      <td>10.0</td>\n",
       "    </tr>\n",
       "    <tr>\n",
       "      <th>1846</th>\n",
       "      <td>2 Months Off! Studio Available Now!</td>\n",
       "      <td>1691</td>\n",
       "      <td>232.0</td>\n",
       "      <td>0.0</td>\n",
       "      <td>1.0</td>\n",
       "      <td>SOMA / south beach</td>\n",
       "      <td>on-site</td>\n",
       "      <td>no-pets</td>\n",
       "      <td>multi</td>\n",
       "      <td>protected</td>\n",
       "      <td>9.0</td>\n",
       "    </tr>\n",
       "    <tr>\n",
       "      <th>1849</th>\n",
       "      <td>2 Months Off! Studio Available Now!</td>\n",
       "      <td>1660</td>\n",
       "      <td>232.0</td>\n",
       "      <td>0.0</td>\n",
       "      <td>1.0</td>\n",
       "      <td>SOMA / south beach</td>\n",
       "      <td>on-site</td>\n",
       "      <td>no-pets</td>\n",
       "      <td>multi</td>\n",
       "      <td>protected</td>\n",
       "      <td>9.0</td>\n",
       "    </tr>\n",
       "    <tr>\n",
       "      <th>1830</th>\n",
       "      <td>2 Months Off! Studio Available Now!</td>\n",
       "      <td>1690</td>\n",
       "      <td>233.0</td>\n",
       "      <td>0.0</td>\n",
       "      <td>1.0</td>\n",
       "      <td>SOMA / south beach</td>\n",
       "      <td>on-site</td>\n",
       "      <td>no-pets</td>\n",
       "      <td>multi</td>\n",
       "      <td>protected</td>\n",
       "      <td>9.0</td>\n",
       "    </tr>\n",
       "  </tbody>\n",
       "</table>\n",
       "</div>"
      ],
      "text/plain": [
       "                                                  title  price   sqft  beds  \\\n",
       "529   $1,200 - Inner Richmond, two blocks away from ...   1200  184.0   1.0   \n",
       "2879                        1 Bed 1 Bath Private Studio    750  170.0   1.0   \n",
       "1846                2 Months Off! Studio Available Now!   1691  232.0   0.0   \n",
       "1849                2 Months Off! Studio Available Now!   1660  232.0   0.0   \n",
       "1830                2 Months Off! Studio Available Now!   1690  233.0   0.0   \n",
       "\n",
       "      bath                       hood  laundry     pets housing_type  \\\n",
       "529    2.5             inner richmond      n/a  no-pets        multi   \n",
       "2879   1.0  excelsior / outer mission  on-site  no-pets        multi   \n",
       "1846   1.0         SOMA / south beach  on-site  no-pets        multi   \n",
       "1849   1.0         SOMA / south beach  on-site  no-pets        multi   \n",
       "1830   1.0         SOMA / south beach  on-site  no-pets        multi   \n",
       "\n",
       "        parking  hood_district  \n",
       "529         n/a            1.0  \n",
       "2879        n/a           10.0  \n",
       "1846  protected            9.0  \n",
       "1849  protected            9.0  \n",
       "1830  protected            9.0  "
      ]
     },
     "execution_count": 108,
     "metadata": {},
     "output_type": "execute_result"
    }
   ],
   "source": [
    "low_sqft_sf.head()"
   ]
  },
  {
   "cell_type": "code",
   "execution_count": 109,
   "metadata": {
    "ExecuteTime": {
     "end_time": "2020-10-04T22:45:15.586433Z",
     "start_time": "2020-10-04T22:45:15.583772Z"
    }
   },
   "outputs": [
    {
     "data": {
      "text/plain": [
       "13"
      ]
     },
     "execution_count": 109,
     "metadata": {},
     "output_type": "execute_result"
    }
   ],
   "source": [
    "len(low_sqft_sf)"
   ]
  },
  {
   "cell_type": "code",
   "execution_count": 110,
   "metadata": {
    "ExecuteTime": {
     "end_time": "2020-10-04T22:45:15.589540Z",
     "start_time": "2020-10-04T22:45:15.587568Z"
    }
   },
   "outputs": [],
   "source": [
    "low_sqft_index = list(low_sqft_sf.index)"
   ]
  },
  {
   "cell_type": "code",
   "execution_count": 111,
   "metadata": {
    "ExecuteTime": {
     "end_time": "2020-10-04T22:45:15.593827Z",
     "start_time": "2020-10-04T22:45:15.590821Z"
    }
   },
   "outputs": [
    {
     "data": {
      "text/plain": [
       "[529, 2879, 1846, 1849, 1830, 1728, 196, 664, 505, 419, 1185, 331, 2923]"
      ]
     },
     "execution_count": 111,
     "metadata": {},
     "output_type": "execute_result"
    }
   ],
   "source": [
    "low_sqft_index"
   ]
  },
  {
   "cell_type": "code",
   "execution_count": 112,
   "metadata": {
    "ExecuteTime": {
     "end_time": "2020-10-04T22:45:15.596523Z",
     "start_time": "2020-10-04T22:45:15.594983Z"
    }
   },
   "outputs": [],
   "source": [
    "# for link in sf_raw.iloc[low_sqft_index].link:\n",
    "#     print(link, '\\n')"
   ]
  },
  {
   "cell_type": "markdown",
   "metadata": {
    "ExecuteTime": {
     "end_time": "2020-10-04T16:45:58.597609Z",
     "start_time": "2020-10-04T16:45:58.595276Z"
    }
   },
   "source": [
    "The following indexes are shared housing arrangements and should be dropped: 529, 664, 1185"
   ]
  },
  {
   "cell_type": "code",
   "execution_count": 113,
   "metadata": {
    "ExecuteTime": {
     "end_time": "2020-10-04T22:45:15.600387Z",
     "start_time": "2020-10-04T22:45:15.597741Z"
    }
   },
   "outputs": [],
   "source": [
    "sf.drop([529, 664, 1185], inplace=True)"
   ]
  },
  {
   "cell_type": "code",
   "execution_count": 114,
   "metadata": {
    "ExecuteTime": {
     "end_time": "2020-10-04T22:45:15.611993Z",
     "start_time": "2020-10-04T22:45:15.601614Z"
    }
   },
   "outputs": [
    {
     "data": {
      "text/html": [
       "<div>\n",
       "<style scoped>\n",
       "    .dataframe tbody tr th:only-of-type {\n",
       "        vertical-align: middle;\n",
       "    }\n",
       "\n",
       "    .dataframe tbody tr th {\n",
       "        vertical-align: top;\n",
       "    }\n",
       "\n",
       "    .dataframe thead th {\n",
       "        text-align: right;\n",
       "    }\n",
       "</style>\n",
       "<table border=\"1\" class=\"dataframe\">\n",
       "  <thead>\n",
       "    <tr style=\"text-align: right;\">\n",
       "      <th></th>\n",
       "      <th>title</th>\n",
       "      <th>price</th>\n",
       "      <th>sqft</th>\n",
       "      <th>beds</th>\n",
       "      <th>bath</th>\n",
       "      <th>hood</th>\n",
       "      <th>laundry</th>\n",
       "      <th>pets</th>\n",
       "      <th>housing_type</th>\n",
       "      <th>parking</th>\n",
       "      <th>hood_district</th>\n",
       "    </tr>\n",
       "  </thead>\n",
       "  <tbody>\n",
       "    <tr>\n",
       "      <th>1980</th>\n",
       "      <td>#107 Furnished Only Heaven by Views, Luxury, S...</td>\n",
       "      <td>6800</td>\n",
       "      <td>1600.0</td>\n",
       "      <td>2.0</td>\n",
       "      <td>2.0</td>\n",
       "      <td>pacific heights</td>\n",
       "      <td>in-unit</td>\n",
       "      <td>no-pets</td>\n",
       "      <td>multi</td>\n",
       "      <td>protected</td>\n",
       "      <td>7.0</td>\n",
       "    </tr>\n",
       "    <tr>\n",
       "      <th>2018</th>\n",
       "      <td>#120 Furnished ONLY Gorgeous, Cozy Junior-One-...</td>\n",
       "      <td>3500</td>\n",
       "      <td>550.0</td>\n",
       "      <td>1.0</td>\n",
       "      <td>1.0</td>\n",
       "      <td>pacific heights</td>\n",
       "      <td>in-unit</td>\n",
       "      <td>both</td>\n",
       "      <td>multi</td>\n",
       "      <td>protected</td>\n",
       "      <td>7.0</td>\n",
       "    </tr>\n",
       "    <tr>\n",
       "      <th>2095</th>\n",
       "      <td>#125 FURNISHED ONLY Beautiful 2BR in Marina</td>\n",
       "      <td>5100</td>\n",
       "      <td>1300.0</td>\n",
       "      <td>2.0</td>\n",
       "      <td>1.0</td>\n",
       "      <td>marina / cow hollow</td>\n",
       "      <td>in-unit</td>\n",
       "      <td>both</td>\n",
       "      <td>multi</td>\n",
       "      <td>n/a</td>\n",
       "      <td>7.0</td>\n",
       "    </tr>\n",
       "    <tr>\n",
       "      <th>2015</th>\n",
       "      <td>#132 Furnished ONLY Beautiful Mansion in Heart...</td>\n",
       "      <td>9000</td>\n",
       "      <td>3500.0</td>\n",
       "      <td>3.0</td>\n",
       "      <td>2.5</td>\n",
       "      <td>pacific heights</td>\n",
       "      <td>in-unit</td>\n",
       "      <td>no-pets</td>\n",
       "      <td>multi</td>\n",
       "      <td>protected</td>\n",
       "      <td>7.0</td>\n",
       "    </tr>\n",
       "    <tr>\n",
       "      <th>2013</th>\n",
       "      <td>#158 Furnished ONLY Jr 1 bedroom w/ Parking at...</td>\n",
       "      <td>3100</td>\n",
       "      <td>561.0</td>\n",
       "      <td>1.0</td>\n",
       "      <td>1.0</td>\n",
       "      <td>marina / cow hollow</td>\n",
       "      <td>n/a</td>\n",
       "      <td>both</td>\n",
       "      <td>multi</td>\n",
       "      <td>n/a</td>\n",
       "      <td>7.0</td>\n",
       "    </tr>\n",
       "  </tbody>\n",
       "</table>\n",
       "</div>"
      ],
      "text/plain": [
       "                                                  title  price    sqft  beds  \\\n",
       "1980  #107 Furnished Only Heaven by Views, Luxury, S...   6800  1600.0   2.0   \n",
       "2018  #120 Furnished ONLY Gorgeous, Cozy Junior-One-...   3500   550.0   1.0   \n",
       "2095        #125 FURNISHED ONLY Beautiful 2BR in Marina   5100  1300.0   2.0   \n",
       "2015  #132 Furnished ONLY Beautiful Mansion in Heart...   9000  3500.0   3.0   \n",
       "2013  #158 Furnished ONLY Jr 1 bedroom w/ Parking at...   3100   561.0   1.0   \n",
       "\n",
       "      bath                 hood  laundry     pets housing_type    parking  \\\n",
       "1980   2.0      pacific heights  in-unit  no-pets        multi  protected   \n",
       "2018   1.0      pacific heights  in-unit     both        multi  protected   \n",
       "2095   1.0  marina / cow hollow  in-unit     both        multi        n/a   \n",
       "2015   2.5      pacific heights  in-unit  no-pets        multi  protected   \n",
       "2013   1.0  marina / cow hollow      n/a     both        multi        n/a   \n",
       "\n",
       "      hood_district  \n",
       "1980            7.0  \n",
       "2018            7.0  \n",
       "2095            7.0  \n",
       "2015            7.0  \n",
       "2013            7.0  "
      ]
     },
     "execution_count": 114,
     "metadata": {},
     "output_type": "execute_result"
    }
   ],
   "source": [
    "sf.head()"
   ]
  },
  {
   "cell_type": "code",
   "execution_count": 115,
   "metadata": {
    "ExecuteTime": {
     "end_time": "2020-10-04T22:45:15.632245Z",
     "start_time": "2020-10-04T22:45:15.613286Z"
    }
   },
   "outputs": [
    {
     "data": {
      "text/html": [
       "<div>\n",
       "<style scoped>\n",
       "    .dataframe tbody tr th:only-of-type {\n",
       "        vertical-align: middle;\n",
       "    }\n",
       "\n",
       "    .dataframe tbody tr th {\n",
       "        vertical-align: top;\n",
       "    }\n",
       "\n",
       "    .dataframe thead th {\n",
       "        text-align: right;\n",
       "    }\n",
       "</style>\n",
       "<table border=\"1\" class=\"dataframe\">\n",
       "  <thead>\n",
       "    <tr style=\"text-align: right;\">\n",
       "      <th></th>\n",
       "      <th>price</th>\n",
       "      <th>sqft</th>\n",
       "      <th>beds</th>\n",
       "      <th>bath</th>\n",
       "      <th>hood_district</th>\n",
       "    </tr>\n",
       "  </thead>\n",
       "  <tbody>\n",
       "    <tr>\n",
       "      <th>count</th>\n",
       "      <td>989.000000</td>\n",
       "      <td>989.000000</td>\n",
       "      <td>989.000000</td>\n",
       "      <td>989.000000</td>\n",
       "      <td>989.000000</td>\n",
       "    </tr>\n",
       "    <tr>\n",
       "      <th>mean</th>\n",
       "      <td>3595.035389</td>\n",
       "      <td>976.765420</td>\n",
       "      <td>1.679474</td>\n",
       "      <td>1.390293</td>\n",
       "      <td>7.052578</td>\n",
       "    </tr>\n",
       "    <tr>\n",
       "      <th>std</th>\n",
       "      <td>1546.222670</td>\n",
       "      <td>474.629798</td>\n",
       "      <td>1.076710</td>\n",
       "      <td>0.562714</td>\n",
       "      <td>2.404716</td>\n",
       "    </tr>\n",
       "    <tr>\n",
       "      <th>min</th>\n",
       "      <td>750.000000</td>\n",
       "      <td>150.000000</td>\n",
       "      <td>0.000000</td>\n",
       "      <td>1.000000</td>\n",
       "      <td>1.000000</td>\n",
       "    </tr>\n",
       "    <tr>\n",
       "      <th>25%</th>\n",
       "      <td>2650.000000</td>\n",
       "      <td>650.000000</td>\n",
       "      <td>1.000000</td>\n",
       "      <td>1.000000</td>\n",
       "      <td>6.000000</td>\n",
       "    </tr>\n",
       "    <tr>\n",
       "      <th>50%</th>\n",
       "      <td>3300.000000</td>\n",
       "      <td>900.000000</td>\n",
       "      <td>2.000000</td>\n",
       "      <td>1.000000</td>\n",
       "      <td>8.000000</td>\n",
       "    </tr>\n",
       "    <tr>\n",
       "      <th>75%</th>\n",
       "      <td>4242.000000</td>\n",
       "      <td>1200.000000</td>\n",
       "      <td>2.000000</td>\n",
       "      <td>2.000000</td>\n",
       "      <td>9.000000</td>\n",
       "    </tr>\n",
       "    <tr>\n",
       "      <th>max</th>\n",
       "      <td>19000.000000</td>\n",
       "      <td>3500.000000</td>\n",
       "      <td>6.000000</td>\n",
       "      <td>4.000000</td>\n",
       "      <td>10.000000</td>\n",
       "    </tr>\n",
       "  </tbody>\n",
       "</table>\n",
       "</div>"
      ],
      "text/plain": [
       "              price         sqft        beds        bath  hood_district\n",
       "count    989.000000   989.000000  989.000000  989.000000     989.000000\n",
       "mean    3595.035389   976.765420    1.679474    1.390293       7.052578\n",
       "std     1546.222670   474.629798    1.076710    0.562714       2.404716\n",
       "min      750.000000   150.000000    0.000000    1.000000       1.000000\n",
       "25%     2650.000000   650.000000    1.000000    1.000000       6.000000\n",
       "50%     3300.000000   900.000000    2.000000    1.000000       8.000000\n",
       "75%     4242.000000  1200.000000    2.000000    2.000000       9.000000\n",
       "max    19000.000000  3500.000000    6.000000    4.000000      10.000000"
      ]
     },
     "execution_count": 115,
     "metadata": {},
     "output_type": "execute_result"
    }
   ],
   "source": [
    "sf.describe()"
   ]
  },
  {
   "cell_type": "markdown",
   "metadata": {},
   "source": [
    "The rest of this looks correct. Now to clean up the columns and export to a csv."
   ]
  },
  {
   "cell_type": "markdown",
   "metadata": {},
   "source": [
    "## Final Formatting and Export"
   ]
  },
  {
   "cell_type": "code",
   "execution_count": 116,
   "metadata": {
    "ExecuteTime": {
     "end_time": "2020-10-04T22:45:15.638441Z",
     "start_time": "2020-10-04T22:45:15.634450Z"
    }
   },
   "outputs": [],
   "source": [
    "sf_clean = sf[['price', 'sqft', 'beds', 'bath', 'laundry', 'pets', 'housing_type', 'parking', 'hood_district']].reset_index(drop=True)"
   ]
  },
  {
   "cell_type": "code",
   "execution_count": 117,
   "metadata": {
    "ExecuteTime": {
     "end_time": "2020-10-04T22:45:15.651161Z",
     "start_time": "2020-10-04T22:45:15.640146Z"
    }
   },
   "outputs": [
    {
     "data": {
      "text/html": [
       "<div>\n",
       "<style scoped>\n",
       "    .dataframe tbody tr th:only-of-type {\n",
       "        vertical-align: middle;\n",
       "    }\n",
       "\n",
       "    .dataframe tbody tr th {\n",
       "        vertical-align: top;\n",
       "    }\n",
       "\n",
       "    .dataframe thead th {\n",
       "        text-align: right;\n",
       "    }\n",
       "</style>\n",
       "<table border=\"1\" class=\"dataframe\">\n",
       "  <thead>\n",
       "    <tr style=\"text-align: right;\">\n",
       "      <th></th>\n",
       "      <th>price</th>\n",
       "      <th>sqft</th>\n",
       "      <th>beds</th>\n",
       "      <th>bath</th>\n",
       "      <th>laundry</th>\n",
       "      <th>pets</th>\n",
       "      <th>housing_type</th>\n",
       "      <th>parking</th>\n",
       "      <th>hood_district</th>\n",
       "    </tr>\n",
       "  </thead>\n",
       "  <tbody>\n",
       "    <tr>\n",
       "      <th>0</th>\n",
       "      <td>6800</td>\n",
       "      <td>1600.0</td>\n",
       "      <td>2.0</td>\n",
       "      <td>2.0</td>\n",
       "      <td>in-unit</td>\n",
       "      <td>no-pets</td>\n",
       "      <td>multi</td>\n",
       "      <td>protected</td>\n",
       "      <td>7.0</td>\n",
       "    </tr>\n",
       "    <tr>\n",
       "      <th>1</th>\n",
       "      <td>3500</td>\n",
       "      <td>550.0</td>\n",
       "      <td>1.0</td>\n",
       "      <td>1.0</td>\n",
       "      <td>in-unit</td>\n",
       "      <td>both</td>\n",
       "      <td>multi</td>\n",
       "      <td>protected</td>\n",
       "      <td>7.0</td>\n",
       "    </tr>\n",
       "    <tr>\n",
       "      <th>2</th>\n",
       "      <td>5100</td>\n",
       "      <td>1300.0</td>\n",
       "      <td>2.0</td>\n",
       "      <td>1.0</td>\n",
       "      <td>in-unit</td>\n",
       "      <td>both</td>\n",
       "      <td>multi</td>\n",
       "      <td>n/a</td>\n",
       "      <td>7.0</td>\n",
       "    </tr>\n",
       "    <tr>\n",
       "      <th>3</th>\n",
       "      <td>9000</td>\n",
       "      <td>3500.0</td>\n",
       "      <td>3.0</td>\n",
       "      <td>2.5</td>\n",
       "      <td>in-unit</td>\n",
       "      <td>no-pets</td>\n",
       "      <td>multi</td>\n",
       "      <td>protected</td>\n",
       "      <td>7.0</td>\n",
       "    </tr>\n",
       "    <tr>\n",
       "      <th>4</th>\n",
       "      <td>3100</td>\n",
       "      <td>561.0</td>\n",
       "      <td>1.0</td>\n",
       "      <td>1.0</td>\n",
       "      <td>n/a</td>\n",
       "      <td>both</td>\n",
       "      <td>multi</td>\n",
       "      <td>n/a</td>\n",
       "      <td>7.0</td>\n",
       "    </tr>\n",
       "  </tbody>\n",
       "</table>\n",
       "</div>"
      ],
      "text/plain": [
       "   price    sqft  beds  bath  laundry     pets housing_type    parking  \\\n",
       "0   6800  1600.0   2.0   2.0  in-unit  no-pets        multi  protected   \n",
       "1   3500   550.0   1.0   1.0  in-unit     both        multi  protected   \n",
       "2   5100  1300.0   2.0   1.0  in-unit     both        multi        n/a   \n",
       "3   9000  3500.0   3.0   2.5  in-unit  no-pets        multi  protected   \n",
       "4   3100   561.0   1.0   1.0      n/a     both        multi        n/a   \n",
       "\n",
       "   hood_district  \n",
       "0            7.0  \n",
       "1            7.0  \n",
       "2            7.0  \n",
       "3            7.0  \n",
       "4            7.0  "
      ]
     },
     "execution_count": 117,
     "metadata": {},
     "output_type": "execute_result"
    }
   ],
   "source": [
    "sf_clean.head()"
   ]
  },
  {
   "cell_type": "code",
   "execution_count": 118,
   "metadata": {
    "ExecuteTime": {
     "end_time": "2020-10-04T22:45:15.661097Z",
     "start_time": "2020-10-04T22:45:15.652832Z"
    }
   },
   "outputs": [
    {
     "name": "stdout",
     "output_type": "stream",
     "text": [
      "<class 'pandas.core.frame.DataFrame'>\n",
      "RangeIndex: 989 entries, 0 to 988\n",
      "Data columns (total 9 columns):\n",
      " #   Column         Non-Null Count  Dtype  \n",
      "---  ------         --------------  -----  \n",
      " 0   price          989 non-null    int64  \n",
      " 1   sqft           989 non-null    float64\n",
      " 2   beds           989 non-null    float64\n",
      " 3   bath           989 non-null    float64\n",
      " 4   laundry        989 non-null    object \n",
      " 5   pets           989 non-null    object \n",
      " 6   housing_type   989 non-null    object \n",
      " 7   parking        989 non-null    object \n",
      " 8   hood_district  989 non-null    float64\n",
      "dtypes: float64(4), int64(1), object(4)\n",
      "memory usage: 69.7+ KB\n"
     ]
    }
   ],
   "source": [
    "sf_clean.info()"
   ]
  },
  {
   "cell_type": "code",
   "execution_count": 119,
   "metadata": {
    "ExecuteTime": {
     "end_time": "2020-10-04T22:45:15.682347Z",
     "start_time": "2020-10-04T22:45:15.662616Z"
    },
    "scrolled": false
   },
   "outputs": [
    {
     "data": {
      "text/html": [
       "<div>\n",
       "<style scoped>\n",
       "    .dataframe tbody tr th:only-of-type {\n",
       "        vertical-align: middle;\n",
       "    }\n",
       "\n",
       "    .dataframe tbody tr th {\n",
       "        vertical-align: top;\n",
       "    }\n",
       "\n",
       "    .dataframe thead th {\n",
       "        text-align: right;\n",
       "    }\n",
       "</style>\n",
       "<table border=\"1\" class=\"dataframe\">\n",
       "  <thead>\n",
       "    <tr style=\"text-align: right;\">\n",
       "      <th></th>\n",
       "      <th>price</th>\n",
       "      <th>sqft</th>\n",
       "      <th>beds</th>\n",
       "      <th>bath</th>\n",
       "      <th>hood_district</th>\n",
       "    </tr>\n",
       "  </thead>\n",
       "  <tbody>\n",
       "    <tr>\n",
       "      <th>count</th>\n",
       "      <td>989.000000</td>\n",
       "      <td>989.000000</td>\n",
       "      <td>989.000000</td>\n",
       "      <td>989.000000</td>\n",
       "      <td>989.000000</td>\n",
       "    </tr>\n",
       "    <tr>\n",
       "      <th>mean</th>\n",
       "      <td>3595.035389</td>\n",
       "      <td>976.765420</td>\n",
       "      <td>1.679474</td>\n",
       "      <td>1.390293</td>\n",
       "      <td>7.052578</td>\n",
       "    </tr>\n",
       "    <tr>\n",
       "      <th>std</th>\n",
       "      <td>1546.222670</td>\n",
       "      <td>474.629798</td>\n",
       "      <td>1.076710</td>\n",
       "      <td>0.562714</td>\n",
       "      <td>2.404716</td>\n",
       "    </tr>\n",
       "    <tr>\n",
       "      <th>min</th>\n",
       "      <td>750.000000</td>\n",
       "      <td>150.000000</td>\n",
       "      <td>0.000000</td>\n",
       "      <td>1.000000</td>\n",
       "      <td>1.000000</td>\n",
       "    </tr>\n",
       "    <tr>\n",
       "      <th>25%</th>\n",
       "      <td>2650.000000</td>\n",
       "      <td>650.000000</td>\n",
       "      <td>1.000000</td>\n",
       "      <td>1.000000</td>\n",
       "      <td>6.000000</td>\n",
       "    </tr>\n",
       "    <tr>\n",
       "      <th>50%</th>\n",
       "      <td>3300.000000</td>\n",
       "      <td>900.000000</td>\n",
       "      <td>2.000000</td>\n",
       "      <td>1.000000</td>\n",
       "      <td>8.000000</td>\n",
       "    </tr>\n",
       "    <tr>\n",
       "      <th>75%</th>\n",
       "      <td>4242.000000</td>\n",
       "      <td>1200.000000</td>\n",
       "      <td>2.000000</td>\n",
       "      <td>2.000000</td>\n",
       "      <td>9.000000</td>\n",
       "    </tr>\n",
       "    <tr>\n",
       "      <th>max</th>\n",
       "      <td>19000.000000</td>\n",
       "      <td>3500.000000</td>\n",
       "      <td>6.000000</td>\n",
       "      <td>4.000000</td>\n",
       "      <td>10.000000</td>\n",
       "    </tr>\n",
       "  </tbody>\n",
       "</table>\n",
       "</div>"
      ],
      "text/plain": [
       "              price         sqft        beds        bath  hood_district\n",
       "count    989.000000   989.000000  989.000000  989.000000     989.000000\n",
       "mean    3595.035389   976.765420    1.679474    1.390293       7.052578\n",
       "std     1546.222670   474.629798    1.076710    0.562714       2.404716\n",
       "min      750.000000   150.000000    0.000000    1.000000       1.000000\n",
       "25%     2650.000000   650.000000    1.000000    1.000000       6.000000\n",
       "50%     3300.000000   900.000000    2.000000    1.000000       8.000000\n",
       "75%     4242.000000  1200.000000    2.000000    2.000000       9.000000\n",
       "max    19000.000000  3500.000000    6.000000    4.000000      10.000000"
      ]
     },
     "execution_count": 119,
     "metadata": {},
     "output_type": "execute_result"
    }
   ],
   "source": [
    "sf_clean.describe()"
   ]
  },
  {
   "cell_type": "code",
   "execution_count": 120,
   "metadata": {
    "ExecuteTime": {
     "end_time": "2020-10-04T22:45:15.993602Z",
     "start_time": "2020-10-04T22:45:15.683852Z"
    }
   },
   "outputs": [],
   "source": [
    "sf_clean.to_csv('data_files/sf_clean.csv', index=False)"
   ]
  }
 ],
 "metadata": {
  "kernelspec": {
   "display_name": "Python [conda env:metis] *",
   "language": "python",
   "name": "conda-env-metis-py"
  },
  "language_info": {
   "codemirror_mode": {
    "name": "ipython",
    "version": 3
   },
   "file_extension": ".py",
   "mimetype": "text/x-python",
   "name": "python",
   "nbconvert_exporter": "python",
   "pygments_lexer": "ipython3",
   "version": "3.8.5"
  },
  "toc": {
   "base_numbering": 1,
   "nav_menu": {},
   "number_sections": true,
   "sideBar": true,
   "skip_h1_title": false,
   "title_cell": "Table of Contents",
   "title_sidebar": "Contents",
   "toc_cell": false,
   "toc_position": {},
   "toc_section_display": true,
   "toc_window_display": true
  }
 },
 "nbformat": 4,
 "nbformat_minor": 4
}
