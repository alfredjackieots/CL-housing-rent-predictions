{
 "cells": [
  {
   "cell_type": "markdown",
   "metadata": {},
   "source": [
    "# Data Cleaning"
   ]
  },
  {
   "cell_type": "code",
   "execution_count": 1,
   "metadata": {
    "ExecuteTime": {
     "end_time": "2020-10-02T00:07:48.553491Z",
     "start_time": "2020-10-02T00:07:48.082478Z"
    }
   },
   "outputs": [],
   "source": [
    "import pandas as pd\n",
    "import numpy as np\n",
    "\n",
    "import matplotlib as plt\n",
    "%matplotlib inline"
   ]
  },
  {
   "cell_type": "code",
   "execution_count": 2,
   "metadata": {
    "ExecuteTime": {
     "end_time": "2020-10-02T00:07:49.904331Z",
     "start_time": "2020-10-02T00:07:49.887310Z"
    }
   },
   "outputs": [],
   "source": [
    "sf_raw = pd.read_csv('sf_raw.csv')"
   ]
  },
  {
   "cell_type": "code",
   "execution_count": 3,
   "metadata": {
    "ExecuteTime": {
     "end_time": "2020-10-02T00:07:52.269980Z",
     "start_time": "2020-10-02T00:07:52.254454Z"
    }
   },
   "outputs": [
    {
     "data": {
      "text/html": [
       "<div>\n",
       "<style scoped>\n",
       "    .dataframe tbody tr th:only-of-type {\n",
       "        vertical-align: middle;\n",
       "    }\n",
       "\n",
       "    .dataframe tbody tr th {\n",
       "        vertical-align: top;\n",
       "    }\n",
       "\n",
       "    .dataframe thead th {\n",
       "        text-align: right;\n",
       "    }\n",
       "</style>\n",
       "<table border=\"1\" class=\"dataframe\">\n",
       "  <thead>\n",
       "    <tr style=\"text-align: right;\">\n",
       "      <th></th>\n",
       "      <th>date</th>\n",
       "      <th>title</th>\n",
       "      <th>link</th>\n",
       "      <th>price</th>\n",
       "      <th>brs</th>\n",
       "      <th>sqft</th>\n",
       "      <th>hood</th>\n",
       "      <th>bath</th>\n",
       "      <th>amenities</th>\n",
       "    </tr>\n",
       "  </thead>\n",
       "  <tbody>\n",
       "    <tr>\n",
       "      <th>0</th>\n",
       "      <td>Oct  1</td>\n",
       "      <td>Lovely Newly Renovated 2BR 1BA Apartment (suns...</td>\n",
       "      <td>https://sfbay.craigslist.org/sfc/apa/d/san-fra...</td>\n",
       "      <td>2500</td>\n",
       "      <td>2.0</td>\n",
       "      <td>NaN</td>\n",
       "      <td>sunset / parkside</td>\n",
       "      <td>1Ba</td>\n",
       "      <td>['apartment', 'laundry on site', 'no smoking']</td>\n",
       "    </tr>\n",
       "    <tr>\n",
       "      <th>1</th>\n",
       "      <td>Oct  1</td>\n",
       "      <td>Boo Spooky Special! The Martin</td>\n",
       "      <td>https://sfbay.craigslist.org/sfc/apa/d/san-fra...</td>\n",
       "      <td>2680</td>\n",
       "      <td>1.0</td>\n",
       "      <td>591.0</td>\n",
       "      <td>potrero hill</td>\n",
       "      <td>1.5Ba</td>\n",
       "      <td>['cats are OK - purrr', 'dogs are OK - wooof',...</td>\n",
       "    </tr>\n",
       "    <tr>\n",
       "      <th>2</th>\n",
       "      <td>Oct  1</td>\n",
       "      <td>Arterra condo with Salesforce Tower Skyline Vi...</td>\n",
       "      <td>https://sfbay.craigslist.org/sfc/apa/d/san-fra...</td>\n",
       "      <td>2800</td>\n",
       "      <td>1.0</td>\n",
       "      <td>NaN</td>\n",
       "      <td>SOMA / south beach</td>\n",
       "      <td>1Ba</td>\n",
       "      <td>['cats are OK - purrr', 'dogs are OK - wooof',...</td>\n",
       "    </tr>\n",
       "    <tr>\n",
       "      <th>3</th>\n",
       "      <td>Oct  1</td>\n",
       "      <td>Bright Marina Studios</td>\n",
       "      <td>https://sfbay.craigslist.org/sfc/apa/d/san-fra...</td>\n",
       "      <td>2100</td>\n",
       "      <td>NaN</td>\n",
       "      <td>NaN</td>\n",
       "      <td>marina / cow hollow</td>\n",
       "      <td>1Ba</td>\n",
       "      <td>['application fee details: 20.00 Credit Check ...</td>\n",
       "    </tr>\n",
       "    <tr>\n",
       "      <th>4</th>\n",
       "      <td>Oct  1</td>\n",
       "      <td>Newly Remodeled ! 2 br1ba$3195</td>\n",
       "      <td>https://sfbay.craigslist.org/sfc/apa/d/san-fra...</td>\n",
       "      <td>3195</td>\n",
       "      <td>NaN</td>\n",
       "      <td>NaN</td>\n",
       "      <td>USF / panhandle</td>\n",
       "      <td>1Ba</td>\n",
       "      <td>['apartment', 'no smoking']</td>\n",
       "    </tr>\n",
       "  </tbody>\n",
       "</table>\n",
       "</div>"
      ],
      "text/plain": [
       "     date                                              title  \\\n",
       "0  Oct  1  Lovely Newly Renovated 2BR 1BA Apartment (suns...   \n",
       "1  Oct  1                     Boo Spooky Special! The Martin   \n",
       "2  Oct  1  Arterra condo with Salesforce Tower Skyline Vi...   \n",
       "3  Oct  1                              Bright Marina Studios   \n",
       "4  Oct  1                     Newly Remodeled ! 2 br1ba$3195   \n",
       "\n",
       "                                                link  price  brs   sqft  \\\n",
       "0  https://sfbay.craigslist.org/sfc/apa/d/san-fra...   2500  2.0    NaN   \n",
       "1  https://sfbay.craigslist.org/sfc/apa/d/san-fra...   2680  1.0  591.0   \n",
       "2  https://sfbay.craigslist.org/sfc/apa/d/san-fra...   2800  1.0    NaN   \n",
       "3  https://sfbay.craigslist.org/sfc/apa/d/san-fra...   2100  NaN    NaN   \n",
       "4  https://sfbay.craigslist.org/sfc/apa/d/san-fra...   3195  NaN    NaN   \n",
       "\n",
       "                  hood   bath  \\\n",
       "0    sunset / parkside    1Ba   \n",
       "1         potrero hill  1.5Ba   \n",
       "2   SOMA / south beach    1Ba   \n",
       "3  marina / cow hollow    1Ba   \n",
       "4      USF / panhandle    1Ba   \n",
       "\n",
       "                                           amenities  \n",
       "0     ['apartment', 'laundry on site', 'no smoking']  \n",
       "1  ['cats are OK - purrr', 'dogs are OK - wooof',...  \n",
       "2  ['cats are OK - purrr', 'dogs are OK - wooof',...  \n",
       "3  ['application fee details: 20.00 Credit Check ...  \n",
       "4                        ['apartment', 'no smoking']  "
      ]
     },
     "execution_count": 3,
     "metadata": {},
     "output_type": "execute_result"
    }
   ],
   "source": [
    "sf_raw.head()"
   ]
  },
  {
   "cell_type": "code",
   "execution_count": 4,
   "metadata": {
    "ExecuteTime": {
     "end_time": "2020-10-02T00:07:54.651855Z",
     "start_time": "2020-10-02T00:07:54.640244Z"
    }
   },
   "outputs": [
    {
     "data": {
      "text/html": [
       "<div>\n",
       "<style scoped>\n",
       "    .dataframe tbody tr th:only-of-type {\n",
       "        vertical-align: middle;\n",
       "    }\n",
       "\n",
       "    .dataframe tbody tr th {\n",
       "        vertical-align: top;\n",
       "    }\n",
       "\n",
       "    .dataframe thead th {\n",
       "        text-align: right;\n",
       "    }\n",
       "</style>\n",
       "<table border=\"1\" class=\"dataframe\">\n",
       "  <thead>\n",
       "    <tr style=\"text-align: right;\">\n",
       "      <th></th>\n",
       "      <th>date</th>\n",
       "      <th>title</th>\n",
       "      <th>link</th>\n",
       "      <th>price</th>\n",
       "      <th>brs</th>\n",
       "      <th>sqft</th>\n",
       "      <th>hood</th>\n",
       "      <th>bath</th>\n",
       "      <th>amenities</th>\n",
       "    </tr>\n",
       "  </thead>\n",
       "  <tbody>\n",
       "    <tr>\n",
       "      <th>3099</th>\n",
       "      <td>Sep 30</td>\n",
       "      <td>$1,895 - Beautiful Studio with Bay Windows and...</td>\n",
       "      <td>https://sfbay.craigslist.org/sfc/apa/d/san-fra...</td>\n",
       "      <td>1895</td>\n",
       "      <td>NaN</td>\n",
       "      <td>400.0</td>\n",
       "      <td>lower nob hill</td>\n",
       "      <td>1Ba</td>\n",
       "      <td>['cats are OK - purrr', 'apartment', 'laundry ...</td>\n",
       "    </tr>\n",
       "    <tr>\n",
       "      <th>3100</th>\n",
       "      <td>Sep 30</td>\n",
       "      <td>$2000 Studio/All utilities included/Cat ok</td>\n",
       "      <td>https://sfbay.craigslist.org/sfc/apa/d/san-fra...</td>\n",
       "      <td>2000</td>\n",
       "      <td>1.0</td>\n",
       "      <td>NaN</td>\n",
       "      <td>SOMA / south beach</td>\n",
       "      <td>1Ba</td>\n",
       "      <td>['application fee details: $40.00', 'cats are ...</td>\n",
       "    </tr>\n",
       "    <tr>\n",
       "      <th>3101</th>\n",
       "      <td>Sep 30</td>\n",
       "      <td>$2600 Russian Hill 1 Bedroom/HDWD Flrs/New Kit...</td>\n",
       "      <td>https://sfbay.craigslist.org/sfc/apa/d/san-fra...</td>\n",
       "      <td>2600</td>\n",
       "      <td>1.0</td>\n",
       "      <td>NaN</td>\n",
       "      <td>russian hill</td>\n",
       "      <td>1Ba</td>\n",
       "      <td>['application fee details: $40.00', 'cats are ...</td>\n",
       "    </tr>\n",
       "    <tr>\n",
       "      <th>3102</th>\n",
       "      <td>Sep 30</td>\n",
       "      <td>Pet friendly Courtyard Studio Available Near U...</td>\n",
       "      <td>https://sfbay.craigslist.org/sfc/apa/d/san-fra...</td>\n",
       "      <td>1650</td>\n",
       "      <td>NaN</td>\n",
       "      <td>NaN</td>\n",
       "      <td>lower nob hill</td>\n",
       "      <td>NaN</td>\n",
       "      <td>['application fee details: There is a $30 back...</td>\n",
       "    </tr>\n",
       "    <tr>\n",
       "      <th>3103</th>\n",
       "      <td>Sep 30</td>\n",
       "      <td>Mission Dolores Park/3809 20th&amp;Dolores/W/D in ...</td>\n",
       "      <td>https://sfbay.craigslist.org/sfc/apa/d/san-fra...</td>\n",
       "      <td>3495</td>\n",
       "      <td>1.0</td>\n",
       "      <td>NaN</td>\n",
       "      <td>mission district</td>\n",
       "      <td>1Ba</td>\n",
       "      <td>['application fee details: $35', 'cats are OK ...</td>\n",
       "    </tr>\n",
       "  </tbody>\n",
       "</table>\n",
       "</div>"
      ],
      "text/plain": [
       "        date                                              title  \\\n",
       "3099  Sep 30  $1,895 - Beautiful Studio with Bay Windows and...   \n",
       "3100  Sep 30         $2000 Studio/All utilities included/Cat ok   \n",
       "3101  Sep 30  $2600 Russian Hill 1 Bedroom/HDWD Flrs/New Kit...   \n",
       "3102  Sep 30  Pet friendly Courtyard Studio Available Near U...   \n",
       "3103  Sep 30  Mission Dolores Park/3809 20th&Dolores/W/D in ...   \n",
       "\n",
       "                                                   link  price  brs   sqft  \\\n",
       "3099  https://sfbay.craigslist.org/sfc/apa/d/san-fra...   1895  NaN  400.0   \n",
       "3100  https://sfbay.craigslist.org/sfc/apa/d/san-fra...   2000  1.0    NaN   \n",
       "3101  https://sfbay.craigslist.org/sfc/apa/d/san-fra...   2600  1.0    NaN   \n",
       "3102  https://sfbay.craigslist.org/sfc/apa/d/san-fra...   1650  NaN    NaN   \n",
       "3103  https://sfbay.craigslist.org/sfc/apa/d/san-fra...   3495  1.0    NaN   \n",
       "\n",
       "                    hood bath  \\\n",
       "3099      lower nob hill  1Ba   \n",
       "3100  SOMA / south beach  1Ba   \n",
       "3101        russian hill  1Ba   \n",
       "3102      lower nob hill  NaN   \n",
       "3103    mission district  1Ba   \n",
       "\n",
       "                                              amenities  \n",
       "3099  ['cats are OK - purrr', 'apartment', 'laundry ...  \n",
       "3100  ['application fee details: $40.00', 'cats are ...  \n",
       "3101  ['application fee details: $40.00', 'cats are ...  \n",
       "3102  ['application fee details: There is a $30 back...  \n",
       "3103  ['application fee details: $35', 'cats are OK ...  "
      ]
     },
     "execution_count": 4,
     "metadata": {},
     "output_type": "execute_result"
    }
   ],
   "source": [
    "sf_raw.tail()"
   ]
  },
  {
   "cell_type": "code",
   "execution_count": 5,
   "metadata": {
    "ExecuteTime": {
     "end_time": "2020-10-02T00:07:58.560893Z",
     "start_time": "2020-10-02T00:07:58.558035Z"
    }
   },
   "outputs": [
    {
     "data": {
      "text/plain": [
       "3104"
      ]
     },
     "execution_count": 5,
     "metadata": {},
     "output_type": "execute_result"
    }
   ],
   "source": [
    "len(sf_raw)"
   ]
  },
  {
   "cell_type": "markdown",
   "metadata": {},
   "source": [
    "# TO DO\n",
    "\n",
    "- [ ] BRs NaN -->> 0\n",
    "- [ ] Bath --> remove 'Ba'\n",
    "- [ ] hood - create some groupings\n",
    "- [ ] amenities - create some groupings\n",
    "- [ ] Deal with SQFT NaNs\n"
   ]
  }
 ],
 "metadata": {
  "kernelspec": {
   "display_name": "Python [conda env:metis] *",
   "language": "python",
   "name": "conda-env-metis-py"
  },
  "language_info": {
   "codemirror_mode": {
    "name": "ipython",
    "version": 3
   },
   "file_extension": ".py",
   "mimetype": "text/x-python",
   "name": "python",
   "nbconvert_exporter": "python",
   "pygments_lexer": "ipython3",
   "version": "3.8.5"
  },
  "toc": {
   "base_numbering": 1,
   "nav_menu": {},
   "number_sections": true,
   "sideBar": true,
   "skip_h1_title": false,
   "title_cell": "Table of Contents",
   "title_sidebar": "Contents",
   "toc_cell": false,
   "toc_position": {},
   "toc_section_display": true,
   "toc_window_display": false
  }
 },
 "nbformat": 4,
 "nbformat_minor": 4
}
