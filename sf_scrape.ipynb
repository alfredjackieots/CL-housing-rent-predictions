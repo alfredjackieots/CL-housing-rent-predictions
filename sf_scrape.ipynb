{
 "cells": [
  {
   "cell_type": "markdown",
   "metadata": {},
   "source": [
    "# Scraping San Francisco Apt/Housing Listings on Craigslist\n",
    "\n",
    "This notebook uses the functions in `scrape_craigslist.py` to scrape 25 pages of Craigslist apartment/housing listings and each listings individual URL for amenities details. \n",
    "\n",
    "In order to avoid web scraping detection, I decided to scrape in batches of ~5 listing pages (which would include ~600 post scrapes). Then I compiled the 5 dataframes and wrote the final dataframe to a csv file for cleanining. \n",
    "\n",
    "\n",
    "**Craigslist settings:** \n",
    "- `SF bay area` > `san francisco` > `housing` > `apartments / housing for rent`\n",
    "- [x] `Bundle Duplicates`\n",
    "\n"
   ]
  },
  {
   "cell_type": "code",
   "execution_count": 1,
   "metadata": {
    "ExecuteTime": {
     "end_time": "2020-10-01T22:51:22.869374Z",
     "start_time": "2020-10-01T22:51:22.423819Z"
    }
   },
   "outputs": [],
   "source": [
    "# Imports\n",
    "\n",
    "from bs4 import BeautifulSoup\n",
    "import requests\n",
    "\n",
    "import pandas as pd\n",
    "import numpy as np\n",
    "\n",
    "from random import randint\n",
    "from time import sleep\n",
    "\n",
    "from scrape_craigslist import *"
   ]
  },
  {
   "cell_type": "markdown",
   "metadata": {},
   "source": [
    "## Compiling list of URLs to scrape"
   ]
  },
  {
   "cell_type": "code",
   "execution_count": 3,
   "metadata": {
    "ExecuteTime": {
     "end_time": "2020-10-01T22:52:24.528081Z",
     "start_time": "2020-10-01T22:52:24.525905Z"
    }
   },
   "outputs": [],
   "source": [
    "# First URL in results page\n",
    "\n",
    "start_url = 'https://sfbay.craigslist.org/search/sfc/apa?sort=date&bundleDuplicates=1'"
   ]
  },
  {
   "cell_type": "code",
   "execution_count": 4,
   "metadata": {
    "ExecuteTime": {
     "end_time": "2020-10-01T22:52:29.718402Z",
     "start_time": "2020-10-01T22:52:29.059416Z"
    }
   },
   "outputs": [],
   "source": [
    "# Get all URLs of listing results pages to scrape\n",
    "urls = get_results_urls(start_url)"
   ]
  },
  {
   "cell_type": "code",
   "execution_count": 6,
   "metadata": {
    "ExecuteTime": {
     "end_time": "2020-10-01T22:53:13.863451Z",
     "start_time": "2020-10-01T22:53:13.858798Z"
    }
   },
   "outputs": [
    {
     "name": "stdout",
     "output_type": "stream",
     "text": [
      "1 https://sfbay.craigslist.org/search/sfc/apa?sort=date&bundleDuplicates=1&s=0\n",
      "\n",
      "2 https://sfbay.craigslist.org/search/sfc/apa?sort=date&bundleDuplicates=1&s=120\n",
      "\n",
      "3 https://sfbay.craigslist.org/search/sfc/apa?sort=date&bundleDuplicates=1&s=240\n",
      "\n",
      "4 https://sfbay.craigslist.org/search/sfc/apa?sort=date&bundleDuplicates=1&s=360\n",
      "\n",
      "5 https://sfbay.craigslist.org/search/sfc/apa?sort=date&bundleDuplicates=1&s=480\n",
      "\n",
      "6 https://sfbay.craigslist.org/search/sfc/apa?sort=date&bundleDuplicates=1&s=600\n",
      "\n",
      "7 https://sfbay.craigslist.org/search/sfc/apa?sort=date&bundleDuplicates=1&s=720\n",
      "\n",
      "8 https://sfbay.craigslist.org/search/sfc/apa?sort=date&bundleDuplicates=1&s=840\n",
      "\n",
      "9 https://sfbay.craigslist.org/search/sfc/apa?sort=date&bundleDuplicates=1&s=960\n",
      "\n",
      "10 https://sfbay.craigslist.org/search/sfc/apa?sort=date&bundleDuplicates=1&s=1080\n",
      "\n",
      "11 https://sfbay.craigslist.org/search/sfc/apa?sort=date&bundleDuplicates=1&s=1200\n",
      "\n",
      "12 https://sfbay.craigslist.org/search/sfc/apa?sort=date&bundleDuplicates=1&s=1320\n",
      "\n",
      "13 https://sfbay.craigslist.org/search/sfc/apa?sort=date&bundleDuplicates=1&s=1440\n",
      "\n",
      "14 https://sfbay.craigslist.org/search/sfc/apa?sort=date&bundleDuplicates=1&s=1560\n",
      "\n",
      "15 https://sfbay.craigslist.org/search/sfc/apa?sort=date&bundleDuplicates=1&s=1680\n",
      "\n",
      "16 https://sfbay.craigslist.org/search/sfc/apa?sort=date&bundleDuplicates=1&s=1800\n",
      "\n",
      "17 https://sfbay.craigslist.org/search/sfc/apa?sort=date&bundleDuplicates=1&s=1920\n",
      "\n",
      "18 https://sfbay.craigslist.org/search/sfc/apa?sort=date&bundleDuplicates=1&s=2040\n",
      "\n",
      "19 https://sfbay.craigslist.org/search/sfc/apa?sort=date&bundleDuplicates=1&s=2160\n",
      "\n",
      "20 https://sfbay.craigslist.org/search/sfc/apa?sort=date&bundleDuplicates=1&s=2280\n",
      "\n",
      "21 https://sfbay.craigslist.org/search/sfc/apa?sort=date&bundleDuplicates=1&s=2400\n",
      "\n",
      "22 https://sfbay.craigslist.org/search/sfc/apa?sort=date&bundleDuplicates=1&s=2520\n",
      "\n",
      "23 https://sfbay.craigslist.org/search/sfc/apa?sort=date&bundleDuplicates=1&s=2640\n",
      "\n",
      "24 https://sfbay.craigslist.org/search/sfc/apa?sort=date&bundleDuplicates=1&s=2760\n",
      "\n",
      "25 https://sfbay.craigslist.org/search/sfc/apa?sort=date&bundleDuplicates=1&s=2880\n",
      "\n"
     ]
    }
   ],
   "source": [
    "# Review URLs to make sure they were formatted correctly:\n",
    "\n",
    "page = 1\n",
    "for url in urls:\n",
    "    print(page, url)\n",
    "    print(\"\")\n",
    "    page += 1"
   ]
  },
  {
   "cell_type": "markdown",
   "metadata": {},
   "source": [
    "## First batch"
   ]
  },
  {
   "cell_type": "code",
   "execution_count": 7,
   "metadata": {
    "ExecuteTime": {
     "end_time": "2020-10-01T22:53:39.263914Z",
     "start_time": "2020-10-01T22:53:39.261710Z"
    }
   },
   "outputs": [],
   "source": [
    "# First batch\n",
    "batch_1 = urls[:6]"
   ]
  },
  {
   "cell_type": "code",
   "execution_count": 13,
   "metadata": {
    "ExecuteTime": {
     "end_time": "2020-10-01T22:57:05.339226Z",
     "start_time": "2020-10-01T22:57:05.336206Z"
    }
   },
   "outputs": [
    {
     "name": "stdout",
     "output_type": "stream",
     "text": [
      "1 https://sfbay.craigslist.org/search/sfc/apa?sort=date&bundleDuplicates=1&s=0\n",
      "\n",
      "2 https://sfbay.craigslist.org/search/sfc/apa?sort=date&bundleDuplicates=1&s=120\n",
      "\n",
      "3 https://sfbay.craigslist.org/search/sfc/apa?sort=date&bundleDuplicates=1&s=240\n",
      "\n",
      "4 https://sfbay.craigslist.org/search/sfc/apa?sort=date&bundleDuplicates=1&s=360\n",
      "\n",
      "5 https://sfbay.craigslist.org/search/sfc/apa?sort=date&bundleDuplicates=1&s=480\n",
      "\n",
      "6 https://sfbay.craigslist.org/search/sfc/apa?sort=date&bundleDuplicates=1&s=600\n",
      "\n"
     ]
    }
   ],
   "source": [
    "page = 1\n",
    "for url in batch_1:\n",
    "    print(page, url)\n",
    "    print(\"\")\n",
    "    page += 1"
   ]
  },
  {
   "cell_type": "code",
   "execution_count": 9,
   "metadata": {
    "ExecuteTime": {
     "end_time": "2020-10-01T22:55:43.017346Z",
     "start_time": "2020-10-01T22:54:04.062619Z"
    },
    "scrolled": true
   },
   "outputs": [
    {
     "name": "stdout",
     "output_type": "stream",
     "text": [
      "Scraping page 1 of 6...\n",
      "\n",
      "Listing page scrape complete!\n",
      "Number of postings scraped: 121\n",
      "\n",
      "Individual posts scrape complete!\n",
      "Number of posts scraped:  121\n",
      "\n",
      "Page 1 of 6 scrape complete!\n",
      "\n",
      "Scraping page 2 of 6...\n",
      "\n",
      "Listing page scrape complete!\n",
      "Number of postings scraped: 123\n",
      "\n",
      "Individual posts scrape complete!\n",
      "Number of posts scraped:  123\n",
      "\n",
      "Page 2 of 6 scrape complete!\n",
      "\n",
      "Scraping page 3 of 6...\n",
      "\n",
      "Listing page scrape complete!\n",
      "Number of postings scraped: 137\n",
      "\n",
      "Individual posts scrape complete!\n",
      "Number of posts scraped:  137\n",
      "\n",
      "Page 3 of 6 scrape complete!\n",
      "\n",
      "Scraping page 4 of 6...\n",
      "\n",
      "Listing page scrape complete!\n",
      "Number of postings scraped: 135\n",
      "\n",
      "Individual posts scrape complete!\n",
      "Number of posts scraped:  135\n",
      "\n",
      "Page 4 of 6 scrape complete!\n",
      "\n",
      "Scraping page 5 of 6...\n",
      "\n",
      "Listing page scrape complete!\n",
      "Number of postings scraped: 123\n",
      "\n",
      "Individual posts scrape complete!\n",
      "Number of posts scraped:  123\n",
      "\n",
      "Page 5 of 6 scrape complete!\n",
      "\n",
      "Scraping page 6 of 6...\n",
      "\n",
      "Listing page scrape complete!\n",
      "Number of postings scraped: 128\n",
      "\n",
      "Individual posts scrape complete!\n",
      "Number of posts scraped:  128\n",
      "\n",
      "Page 6 of 6 scrape complete!\n",
      "\n"
     ]
    }
   ],
   "source": [
    "sf_1 = full_listings_scrape(batch_1)"
   ]
  },
  {
   "cell_type": "markdown",
   "metadata": {},
   "source": [
    "## Second batch"
   ]
  },
  {
   "cell_type": "code",
   "execution_count": 14,
   "metadata": {
    "ExecuteTime": {
     "end_time": "2020-10-01T22:57:33.887905Z",
     "start_time": "2020-10-01T22:57:33.885612Z"
    }
   },
   "outputs": [],
   "source": [
    "batch_2 = urls[6:11]"
   ]
  },
  {
   "cell_type": "code",
   "execution_count": 15,
   "metadata": {
    "ExecuteTime": {
     "end_time": "2020-10-01T22:57:38.169924Z",
     "start_time": "2020-10-01T22:57:38.166936Z"
    }
   },
   "outputs": [
    {
     "name": "stdout",
     "output_type": "stream",
     "text": [
      "1 https://sfbay.craigslist.org/search/sfc/apa?sort=date&bundleDuplicates=1&s=720\n",
      "\n",
      "2 https://sfbay.craigslist.org/search/sfc/apa?sort=date&bundleDuplicates=1&s=840\n",
      "\n",
      "3 https://sfbay.craigslist.org/search/sfc/apa?sort=date&bundleDuplicates=1&s=960\n",
      "\n",
      "4 https://sfbay.craigslist.org/search/sfc/apa?sort=date&bundleDuplicates=1&s=1080\n",
      "\n",
      "5 https://sfbay.craigslist.org/search/sfc/apa?sort=date&bundleDuplicates=1&s=1200\n",
      "\n"
     ]
    }
   ],
   "source": [
    "page = 1\n",
    "for url in batch_2:\n",
    "    print(page, url)\n",
    "    print(\"\")\n",
    "    page += 1"
   ]
  },
  {
   "cell_type": "code",
   "execution_count": 17,
   "metadata": {
    "ExecuteTime": {
     "end_time": "2020-10-01T23:00:58.437463Z",
     "start_time": "2020-10-01T22:59:38.204833Z"
    },
    "scrolled": true
   },
   "outputs": [
    {
     "name": "stdout",
     "output_type": "stream",
     "text": [
      "Scraping page 1 of 5...\n",
      "\n",
      "Listing page scrape complete!\n",
      "Number of postings scraped: 127\n",
      "\n",
      "Individual posts scrape complete!\n",
      "Number of posts scraped:  127\n",
      "\n",
      "Page 1 of 5 scrape complete!\n",
      "\n",
      "Scraping page 2 of 5...\n",
      "\n",
      "Listing page scrape complete!\n",
      "Number of postings scraped: 124\n",
      "\n",
      "Individual posts scrape complete!\n",
      "Number of posts scraped:  124\n",
      "\n",
      "Page 2 of 5 scrape complete!\n",
      "\n",
      "Scraping page 3 of 5...\n",
      "\n",
      "Listing page scrape complete!\n",
      "Number of postings scraped: 127\n",
      "\n",
      "Individual posts scrape complete!\n",
      "Number of posts scraped:  127\n",
      "\n",
      "Page 3 of 5 scrape complete!\n",
      "\n",
      "Scraping page 4 of 5...\n",
      "\n",
      "Listing page scrape complete!\n",
      "Number of postings scraped: 122\n",
      "\n",
      "Individual posts scrape complete!\n",
      "Number of posts scraped:  122\n",
      "\n",
      "Page 4 of 5 scrape complete!\n",
      "\n",
      "Scraping page 5 of 5...\n",
      "\n",
      "Listing page scrape complete!\n",
      "Number of postings scraped: 126\n",
      "\n",
      "Individual posts scrape complete!\n",
      "Number of posts scraped:  126\n",
      "\n",
      "Page 5 of 5 scrape complete!\n",
      "\n"
     ]
    }
   ],
   "source": [
    "sf_2 = full_listings_scrape(batch_2)"
   ]
  },
  {
   "cell_type": "markdown",
   "metadata": {},
   "source": [
    "## Third batch"
   ]
  },
  {
   "cell_type": "code",
   "execution_count": 49,
   "metadata": {
    "ExecuteTime": {
     "end_time": "2020-10-01T23:42:55.691323Z",
     "start_time": "2020-10-01T23:42:55.689019Z"
    }
   },
   "outputs": [],
   "source": [
    "batch_3 = urls[11:16]"
   ]
  },
  {
   "cell_type": "code",
   "execution_count": 21,
   "metadata": {
    "ExecuteTime": {
     "end_time": "2020-10-01T23:01:42.321471Z",
     "start_time": "2020-10-01T23:01:42.318350Z"
    },
    "scrolled": true
   },
   "outputs": [
    {
     "name": "stdout",
     "output_type": "stream",
     "text": [
      "1 https://sfbay.craigslist.org/search/sfc/apa?sort=date&bundleDuplicates=1&s=1320\n",
      "\n",
      "2 https://sfbay.craigslist.org/search/sfc/apa?sort=date&bundleDuplicates=1&s=1440\n",
      "\n",
      "3 https://sfbay.craigslist.org/search/sfc/apa?sort=date&bundleDuplicates=1&s=1560\n",
      "\n",
      "4 https://sfbay.craigslist.org/search/sfc/apa?sort=date&bundleDuplicates=1&s=1680\n",
      "\n",
      "5 https://sfbay.craigslist.org/search/sfc/apa?sort=date&bundleDuplicates=1&s=1800\n",
      "\n"
     ]
    }
   ],
   "source": [
    "page = 1\n",
    "for url in batch_3:\n",
    "    print(page, url)\n",
    "    print(\"\")\n",
    "    page += 1"
   ]
  },
  {
   "cell_type": "code",
   "execution_count": 22,
   "metadata": {
    "ExecuteTime": {
     "end_time": "2020-10-01T23:03:12.987945Z",
     "start_time": "2020-10-01T23:01:55.812733Z"
    },
    "scrolled": true
   },
   "outputs": [
    {
     "name": "stdout",
     "output_type": "stream",
     "text": [
      "Scraping page 1 of 5...\n",
      "\n",
      "Listing page scrape complete!\n",
      "Number of postings scraped: 128\n",
      "\n",
      "Individual posts scrape complete!\n",
      "Number of posts scraped:  128\n",
      "\n",
      "Page 1 of 5 scrape complete!\n",
      "\n",
      "Scraping page 2 of 5...\n",
      "\n",
      "Listing page scrape complete!\n",
      "Number of postings scraped: 121\n",
      "\n",
      "Individual posts scrape complete!\n",
      "Number of posts scraped:  121\n",
      "\n",
      "Page 2 of 5 scrape complete!\n",
      "\n",
      "Scraping page 3 of 5...\n",
      "\n",
      "Listing page scrape complete!\n",
      "Number of postings scraped: 122\n",
      "\n",
      "Individual posts scrape complete!\n",
      "Number of posts scraped:  122\n",
      "\n",
      "Page 3 of 5 scrape complete!\n",
      "\n",
      "Scraping page 4 of 5...\n",
      "\n",
      "Listing page scrape complete!\n",
      "Number of postings scraped: 121\n",
      "\n",
      "Individual posts scrape complete!\n",
      "Number of posts scraped:  121\n",
      "\n",
      "Page 4 of 5 scrape complete!\n",
      "\n",
      "Scraping page 5 of 5...\n",
      "\n",
      "Listing page scrape complete!\n",
      "Number of postings scraped: 122\n",
      "\n",
      "Individual posts scrape complete!\n",
      "Number of posts scraped:  122\n",
      "\n",
      "Page 5 of 5 scrape complete!\n",
      "\n"
     ]
    }
   ],
   "source": [
    "sf_3 = full_listings_scrape(batch_3)"
   ]
  },
  {
   "cell_type": "markdown",
   "metadata": {},
   "source": [
    "## Fourth batch"
   ]
  },
  {
   "cell_type": "code",
   "execution_count": 24,
   "metadata": {
    "ExecuteTime": {
     "end_time": "2020-10-01T23:04:00.457984Z",
     "start_time": "2020-10-01T23:04:00.455672Z"
    }
   },
   "outputs": [],
   "source": [
    "batch_4 = urls[16:21]"
   ]
  },
  {
   "cell_type": "code",
   "execution_count": 25,
   "metadata": {
    "ExecuteTime": {
     "end_time": "2020-10-01T23:04:12.178412Z",
     "start_time": "2020-10-01T23:04:12.175159Z"
    }
   },
   "outputs": [
    {
     "name": "stdout",
     "output_type": "stream",
     "text": [
      "1 https://sfbay.craigslist.org/search/sfc/apa?sort=date&bundleDuplicates=1&s=1920\n",
      "\n",
      "2 https://sfbay.craigslist.org/search/sfc/apa?sort=date&bundleDuplicates=1&s=2040\n",
      "\n",
      "3 https://sfbay.craigslist.org/search/sfc/apa?sort=date&bundleDuplicates=1&s=2160\n",
      "\n",
      "4 https://sfbay.craigslist.org/search/sfc/apa?sort=date&bundleDuplicates=1&s=2280\n",
      "\n",
      "5 https://sfbay.craigslist.org/search/sfc/apa?sort=date&bundleDuplicates=1&s=2400\n",
      "\n"
     ]
    }
   ],
   "source": [
    "page = 1\n",
    "for url in batch_4:\n",
    "    print(page, url)\n",
    "    print(\"\")\n",
    "    page += 1"
   ]
  },
  {
   "cell_type": "code",
   "execution_count": 26,
   "metadata": {
    "ExecuteTime": {
     "end_time": "2020-10-01T23:06:19.926072Z",
     "start_time": "2020-10-01T23:05:01.476285Z"
    }
   },
   "outputs": [
    {
     "name": "stdout",
     "output_type": "stream",
     "text": [
      "Scraping page 1 of 5...\n",
      "\n",
      "Listing page scrape complete!\n",
      "Number of postings scraped: 121\n",
      "\n",
      "Individual posts scrape complete!\n",
      "Number of posts scraped:  121\n",
      "\n",
      "Page 1 of 5 scrape complete!\n",
      "\n",
      "Scraping page 2 of 5...\n",
      "\n",
      "Listing page scrape complete!\n",
      "Number of postings scraped: 122\n",
      "\n",
      "Individual posts scrape complete!\n",
      "Number of posts scraped:  122\n",
      "\n",
      "Page 2 of 5 scrape complete!\n",
      "\n",
      "Scraping page 3 of 5...\n",
      "\n",
      "Listing page scrape complete!\n",
      "Number of postings scraped: 120\n",
      "\n",
      "Individual posts scrape complete!\n",
      "Number of posts scraped:  120\n",
      "\n",
      "Page 3 of 5 scrape complete!\n",
      "\n",
      "Scraping page 4 of 5...\n",
      "\n",
      "Listing page scrape complete!\n",
      "Number of postings scraped: 121\n",
      "\n",
      "Individual posts scrape complete!\n",
      "Number of posts scraped:  121\n",
      "\n",
      "Page 4 of 5 scrape complete!\n",
      "\n",
      "Scraping page 5 of 5...\n",
      "\n",
      "Listing page scrape complete!\n",
      "Number of postings scraped: 124\n",
      "\n",
      "Individual posts scrape complete!\n",
      "Number of posts scraped:  124\n",
      "\n",
      "Page 5 of 5 scrape complete!\n",
      "\n"
     ]
    }
   ],
   "source": [
    "sf_4 = full_listings_scrape(batch_4)"
   ]
  },
  {
   "cell_type": "markdown",
   "metadata": {},
   "source": [
    "## Fifth batch"
   ]
  },
  {
   "cell_type": "code",
   "execution_count": 27,
   "metadata": {
    "ExecuteTime": {
     "end_time": "2020-10-01T23:06:41.245305Z",
     "start_time": "2020-10-01T23:06:41.243011Z"
    }
   },
   "outputs": [],
   "source": [
    "batch_5 = urls[21:]"
   ]
  },
  {
   "cell_type": "code",
   "execution_count": 28,
   "metadata": {
    "ExecuteTime": {
     "end_time": "2020-10-01T23:06:52.560013Z",
     "start_time": "2020-10-01T23:06:52.557060Z"
    },
    "scrolled": true
   },
   "outputs": [
    {
     "name": "stdout",
     "output_type": "stream",
     "text": [
      "1 https://sfbay.craigslist.org/search/sfc/apa?sort=date&bundleDuplicates=1&s=2520\n",
      "\n",
      "2 https://sfbay.craigslist.org/search/sfc/apa?sort=date&bundleDuplicates=1&s=2640\n",
      "\n",
      "3 https://sfbay.craigslist.org/search/sfc/apa?sort=date&bundleDuplicates=1&s=2760\n",
      "\n",
      "4 https://sfbay.craigslist.org/search/sfc/apa?sort=date&bundleDuplicates=1&s=2880\n",
      "\n"
     ]
    }
   ],
   "source": [
    "page = 1\n",
    "for url in batch_5:\n",
    "    print(page, url)\n",
    "    print(\"\")\n",
    "    page += 1"
   ]
  },
  {
   "cell_type": "code",
   "execution_count": 29,
   "metadata": {
    "ExecuteTime": {
     "end_time": "2020-10-01T23:08:10.937339Z",
     "start_time": "2020-10-01T23:07:09.912984Z"
    },
    "scrolled": false
   },
   "outputs": [
    {
     "name": "stdout",
     "output_type": "stream",
     "text": [
      "Scraping page 1 of 4...\n",
      "\n",
      "Listing page scrape complete!\n",
      "Number of postings scraped: 121\n",
      "\n",
      "Individual posts scrape complete!\n",
      "Number of posts scraped:  121\n",
      "\n",
      "Page 1 of 4 scrape complete!\n",
      "\n",
      "Scraping page 2 of 4...\n",
      "\n",
      "Listing page scrape complete!\n",
      "Number of postings scraped: 122\n",
      "\n",
      "Individual posts scrape complete!\n",
      "Number of posts scraped:  122\n",
      "\n",
      "Page 2 of 4 scrape complete!\n",
      "\n",
      "Scraping page 3 of 4...\n",
      "\n",
      "Listing page scrape complete!\n",
      "Number of postings scraped: 126\n",
      "\n",
      "Individual posts scrape complete!\n",
      "Number of posts scraped:  126\n",
      "\n",
      "Page 3 of 4 scrape complete!\n",
      "\n",
      "Scraping page 4 of 4...\n",
      "\n",
      "Listing page scrape complete!\n",
      "Number of postings scraped: 120\n",
      "\n",
      "Individual posts scrape complete!\n",
      "Number of posts scraped:  120\n",
      "\n",
      "Page 4 of 4 scrape complete!\n",
      "\n"
     ]
    }
   ],
   "source": [
    "sf_5 = full_listings_scrape(batch_5)"
   ]
  },
  {
   "cell_type": "markdown",
   "metadata": {},
   "source": [
    "## Compiling dataframes & export"
   ]
  },
  {
   "cell_type": "code",
   "execution_count": 32,
   "metadata": {
    "ExecuteTime": {
     "end_time": "2020-10-01T23:08:57.508406Z",
     "start_time": "2020-10-01T23:08:57.506075Z"
    }
   },
   "outputs": [],
   "source": [
    "df_list = [sf_1, sf_2, sf_3, sf_4, sf_5]"
   ]
  },
  {
   "cell_type": "code",
   "execution_count": 43,
   "metadata": {
    "ExecuteTime": {
     "end_time": "2020-10-01T23:30:10.899615Z",
     "start_time": "2020-10-01T23:30:10.891208Z"
    }
   },
   "outputs": [],
   "source": [
    "sf = pd.concat(df_list)"
   ]
  },
  {
   "cell_type": "code",
   "execution_count": 44,
   "metadata": {
    "ExecuteTime": {
     "end_time": "2020-10-01T23:30:12.985092Z",
     "start_time": "2020-10-01T23:30:12.971572Z"
    },
    "scrolled": true
   },
   "outputs": [
    {
     "data": {
      "text/html": [
       "<div>\n",
       "<style scoped>\n",
       "    .dataframe tbody tr th:only-of-type {\n",
       "        vertical-align: middle;\n",
       "    }\n",
       "\n",
       "    .dataframe tbody tr th {\n",
       "        vertical-align: top;\n",
       "    }\n",
       "\n",
       "    .dataframe thead th {\n",
       "        text-align: right;\n",
       "    }\n",
       "</style>\n",
       "<table border=\"1\" class=\"dataframe\">\n",
       "  <thead>\n",
       "    <tr style=\"text-align: right;\">\n",
       "      <th></th>\n",
       "      <th>index</th>\n",
       "      <th>date</th>\n",
       "      <th>title</th>\n",
       "      <th>link</th>\n",
       "      <th>price</th>\n",
       "      <th>brs</th>\n",
       "      <th>sqft</th>\n",
       "      <th>hood</th>\n",
       "      <th>bath</th>\n",
       "      <th>amenities</th>\n",
       "    </tr>\n",
       "  </thead>\n",
       "  <tbody>\n",
       "    <tr>\n",
       "      <th>0</th>\n",
       "      <td>0</td>\n",
       "      <td>Oct  1</td>\n",
       "      <td>Lovely Newly Renovated 2BR 1BA Apartment (suns...</td>\n",
       "      <td>https://sfbay.craigslist.org/sfc/apa/d/san-fra...</td>\n",
       "      <td>2500</td>\n",
       "      <td>2</td>\n",
       "      <td>NaN</td>\n",
       "      <td>sunset / parkside</td>\n",
       "      <td>1Ba</td>\n",
       "      <td>[apartment, laundry on site, no smoking]</td>\n",
       "    </tr>\n",
       "    <tr>\n",
       "      <th>1</th>\n",
       "      <td>1</td>\n",
       "      <td>Oct  1</td>\n",
       "      <td>Boo Spooky Special! The Martin</td>\n",
       "      <td>https://sfbay.craigslist.org/sfc/apa/d/san-fra...</td>\n",
       "      <td>2680</td>\n",
       "      <td>1</td>\n",
       "      <td>591.0</td>\n",
       "      <td>potrero hill</td>\n",
       "      <td>1.5Ba</td>\n",
       "      <td>[cats are OK - purrr, dogs are OK - wooof, apa...</td>\n",
       "    </tr>\n",
       "    <tr>\n",
       "      <th>2</th>\n",
       "      <td>2</td>\n",
       "      <td>Oct  1</td>\n",
       "      <td>Arterra condo with Salesforce Tower Skyline Vi...</td>\n",
       "      <td>https://sfbay.craigslist.org/sfc/apa/d/san-fra...</td>\n",
       "      <td>2800</td>\n",
       "      <td>1</td>\n",
       "      <td>NaN</td>\n",
       "      <td>SOMA / south beach</td>\n",
       "      <td>1Ba</td>\n",
       "      <td>[cats are OK - purrr, dogs are OK - wooof, con...</td>\n",
       "    </tr>\n",
       "    <tr>\n",
       "      <th>3</th>\n",
       "      <td>3</td>\n",
       "      <td>Oct  1</td>\n",
       "      <td>Bright Marina Studios</td>\n",
       "      <td>https://sfbay.craigslist.org/sfc/apa/d/san-fra...</td>\n",
       "      <td>2100</td>\n",
       "      <td>NaN</td>\n",
       "      <td>NaN</td>\n",
       "      <td>marina / cow hollow</td>\n",
       "      <td>1Ba</td>\n",
       "      <td>[application fee details: 20.00 Credit Check f...</td>\n",
       "    </tr>\n",
       "    <tr>\n",
       "      <th>4</th>\n",
       "      <td>4</td>\n",
       "      <td>Oct  1</td>\n",
       "      <td>Newly Remodeled ! 2 br1ba$3195</td>\n",
       "      <td>https://sfbay.craigslist.org/sfc/apa/d/san-fra...</td>\n",
       "      <td>3195</td>\n",
       "      <td>NaN</td>\n",
       "      <td>NaN</td>\n",
       "      <td>USF / panhandle</td>\n",
       "      <td>1Ba</td>\n",
       "      <td>[apartment, no smoking]</td>\n",
       "    </tr>\n",
       "  </tbody>\n",
       "</table>\n",
       "</div>"
      ],
      "text/plain": [
       "   index    date                                              title  \\\n",
       "0      0  Oct  1  Lovely Newly Renovated 2BR 1BA Apartment (suns...   \n",
       "1      1  Oct  1                     Boo Spooky Special! The Martin   \n",
       "2      2  Oct  1  Arterra condo with Salesforce Tower Skyline Vi...   \n",
       "3      3  Oct  1                              Bright Marina Studios   \n",
       "4      4  Oct  1                     Newly Remodeled ! 2 br1ba$3195   \n",
       "\n",
       "                                                link  price  brs   sqft  \\\n",
       "0  https://sfbay.craigslist.org/sfc/apa/d/san-fra...   2500    2    NaN   \n",
       "1  https://sfbay.craigslist.org/sfc/apa/d/san-fra...   2680    1  591.0   \n",
       "2  https://sfbay.craigslist.org/sfc/apa/d/san-fra...   2800    1    NaN   \n",
       "3  https://sfbay.craigslist.org/sfc/apa/d/san-fra...   2100  NaN    NaN   \n",
       "4  https://sfbay.craigslist.org/sfc/apa/d/san-fra...   3195  NaN    NaN   \n",
       "\n",
       "                  hood   bath  \\\n",
       "0    sunset / parkside    1Ba   \n",
       "1         potrero hill  1.5Ba   \n",
       "2   SOMA / south beach    1Ba   \n",
       "3  marina / cow hollow    1Ba   \n",
       "4      USF / panhandle    1Ba   \n",
       "\n",
       "                                           amenities  \n",
       "0           [apartment, laundry on site, no smoking]  \n",
       "1  [cats are OK - purrr, dogs are OK - wooof, apa...  \n",
       "2  [cats are OK - purrr, dogs are OK - wooof, con...  \n",
       "3  [application fee details: 20.00 Credit Check f...  \n",
       "4                            [apartment, no smoking]  "
      ]
     },
     "execution_count": 44,
     "metadata": {},
     "output_type": "execute_result"
    }
   ],
   "source": [
    "sf.head()"
   ]
  },
  {
   "cell_type": "code",
   "execution_count": 46,
   "metadata": {
    "ExecuteTime": {
     "end_time": "2020-10-01T23:31:49.747843Z",
     "start_time": "2020-10-01T23:31:49.742581Z"
    }
   },
   "outputs": [],
   "source": [
    "# Dataframe cleanup\n",
    "sf = sf.drop(['index'], axis=1)"
   ]
  },
  {
   "cell_type": "code",
   "execution_count": 47,
   "metadata": {
    "ExecuteTime": {
     "end_time": "2020-10-01T23:31:52.696392Z",
     "start_time": "2020-10-01T23:31:52.684212Z"
    }
   },
   "outputs": [
    {
     "data": {
      "text/html": [
       "<div>\n",
       "<style scoped>\n",
       "    .dataframe tbody tr th:only-of-type {\n",
       "        vertical-align: middle;\n",
       "    }\n",
       "\n",
       "    .dataframe tbody tr th {\n",
       "        vertical-align: top;\n",
       "    }\n",
       "\n",
       "    .dataframe thead th {\n",
       "        text-align: right;\n",
       "    }\n",
       "</style>\n",
       "<table border=\"1\" class=\"dataframe\">\n",
       "  <thead>\n",
       "    <tr style=\"text-align: right;\">\n",
       "      <th></th>\n",
       "      <th>date</th>\n",
       "      <th>title</th>\n",
       "      <th>link</th>\n",
       "      <th>price</th>\n",
       "      <th>brs</th>\n",
       "      <th>sqft</th>\n",
       "      <th>hood</th>\n",
       "      <th>bath</th>\n",
       "      <th>amenities</th>\n",
       "    </tr>\n",
       "  </thead>\n",
       "  <tbody>\n",
       "    <tr>\n",
       "      <th>0</th>\n",
       "      <td>Oct  1</td>\n",
       "      <td>Lovely Newly Renovated 2BR 1BA Apartment (suns...</td>\n",
       "      <td>https://sfbay.craigslist.org/sfc/apa/d/san-fra...</td>\n",
       "      <td>2500</td>\n",
       "      <td>2</td>\n",
       "      <td>NaN</td>\n",
       "      <td>sunset / parkside</td>\n",
       "      <td>1Ba</td>\n",
       "      <td>[apartment, laundry on site, no smoking]</td>\n",
       "    </tr>\n",
       "    <tr>\n",
       "      <th>1</th>\n",
       "      <td>Oct  1</td>\n",
       "      <td>Boo Spooky Special! The Martin</td>\n",
       "      <td>https://sfbay.craigslist.org/sfc/apa/d/san-fra...</td>\n",
       "      <td>2680</td>\n",
       "      <td>1</td>\n",
       "      <td>591.0</td>\n",
       "      <td>potrero hill</td>\n",
       "      <td>1.5Ba</td>\n",
       "      <td>[cats are OK - purrr, dogs are OK - wooof, apa...</td>\n",
       "    </tr>\n",
       "    <tr>\n",
       "      <th>2</th>\n",
       "      <td>Oct  1</td>\n",
       "      <td>Arterra condo with Salesforce Tower Skyline Vi...</td>\n",
       "      <td>https://sfbay.craigslist.org/sfc/apa/d/san-fra...</td>\n",
       "      <td>2800</td>\n",
       "      <td>1</td>\n",
       "      <td>NaN</td>\n",
       "      <td>SOMA / south beach</td>\n",
       "      <td>1Ba</td>\n",
       "      <td>[cats are OK - purrr, dogs are OK - wooof, con...</td>\n",
       "    </tr>\n",
       "    <tr>\n",
       "      <th>3</th>\n",
       "      <td>Oct  1</td>\n",
       "      <td>Bright Marina Studios</td>\n",
       "      <td>https://sfbay.craigslist.org/sfc/apa/d/san-fra...</td>\n",
       "      <td>2100</td>\n",
       "      <td>NaN</td>\n",
       "      <td>NaN</td>\n",
       "      <td>marina / cow hollow</td>\n",
       "      <td>1Ba</td>\n",
       "      <td>[application fee details: 20.00 Credit Check f...</td>\n",
       "    </tr>\n",
       "    <tr>\n",
       "      <th>4</th>\n",
       "      <td>Oct  1</td>\n",
       "      <td>Newly Remodeled ! 2 br1ba$3195</td>\n",
       "      <td>https://sfbay.craigslist.org/sfc/apa/d/san-fra...</td>\n",
       "      <td>3195</td>\n",
       "      <td>NaN</td>\n",
       "      <td>NaN</td>\n",
       "      <td>USF / panhandle</td>\n",
       "      <td>1Ba</td>\n",
       "      <td>[apartment, no smoking]</td>\n",
       "    </tr>\n",
       "  </tbody>\n",
       "</table>\n",
       "</div>"
      ],
      "text/plain": [
       "     date                                              title  \\\n",
       "0  Oct  1  Lovely Newly Renovated 2BR 1BA Apartment (suns...   \n",
       "1  Oct  1                     Boo Spooky Special! The Martin   \n",
       "2  Oct  1  Arterra condo with Salesforce Tower Skyline Vi...   \n",
       "3  Oct  1                              Bright Marina Studios   \n",
       "4  Oct  1                     Newly Remodeled ! 2 br1ba$3195   \n",
       "\n",
       "                                                link  price  brs   sqft  \\\n",
       "0  https://sfbay.craigslist.org/sfc/apa/d/san-fra...   2500    2    NaN   \n",
       "1  https://sfbay.craigslist.org/sfc/apa/d/san-fra...   2680    1  591.0   \n",
       "2  https://sfbay.craigslist.org/sfc/apa/d/san-fra...   2800    1    NaN   \n",
       "3  https://sfbay.craigslist.org/sfc/apa/d/san-fra...   2100  NaN    NaN   \n",
       "4  https://sfbay.craigslist.org/sfc/apa/d/san-fra...   3195  NaN    NaN   \n",
       "\n",
       "                  hood   bath  \\\n",
       "0    sunset / parkside    1Ba   \n",
       "1         potrero hill  1.5Ba   \n",
       "2   SOMA / south beach    1Ba   \n",
       "3  marina / cow hollow    1Ba   \n",
       "4      USF / panhandle    1Ba   \n",
       "\n",
       "                                           amenities  \n",
       "0           [apartment, laundry on site, no smoking]  \n",
       "1  [cats are OK - purrr, dogs are OK - wooof, apa...  \n",
       "2  [cats are OK - purrr, dogs are OK - wooof, con...  \n",
       "3  [application fee details: 20.00 Credit Check f...  \n",
       "4                            [apartment, no smoking]  "
      ]
     },
     "execution_count": 47,
     "metadata": {},
     "output_type": "execute_result"
    }
   ],
   "source": [
    "sf.head()"
   ]
  },
  {
   "cell_type": "code",
   "execution_count": 48,
   "metadata": {
    "ExecuteTime": {
     "end_time": "2020-10-01T23:32:03.149460Z",
     "start_time": "2020-10-01T23:32:03.112269Z"
    }
   },
   "outputs": [],
   "source": [
    "# Export \n",
    "sf.to_csv('sf_raw.csv', index=False)"
   ]
  }
 ],
 "metadata": {
  "kernelspec": {
   "display_name": "Python [conda env:metis] *",
   "language": "python",
   "name": "conda-env-metis-py"
  },
  "language_info": {
   "codemirror_mode": {
    "name": "ipython",
    "version": 3
   },
   "file_extension": ".py",
   "mimetype": "text/x-python",
   "name": "python",
   "nbconvert_exporter": "python",
   "pygments_lexer": "ipython3",
   "version": "3.8.5"
  },
  "toc": {
   "base_numbering": 1,
   "nav_menu": {},
   "number_sections": true,
   "sideBar": true,
   "skip_h1_title": false,
   "title_cell": "Table of Contents",
   "title_sidebar": "Contents",
   "toc_cell": false,
   "toc_position": {},
   "toc_section_display": true,
   "toc_window_display": false
  }
 },
 "nbformat": 4,
 "nbformat_minor": 4
}
