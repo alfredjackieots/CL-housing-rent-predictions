{
 "cells": [
  {
   "cell_type": "markdown",
   "metadata": {},
   "source": [
    "# Test use of imported functions to scrape a Craiglist Page"
   ]
  },
  {
   "cell_type": "code",
   "execution_count": 1,
   "metadata": {
    "ExecuteTime": {
     "end_time": "2020-09-30T21:49:57.640974Z",
     "start_time": "2020-09-30T21:49:57.017028Z"
    }
   },
   "outputs": [],
   "source": [
    "from bs4 import BeautifulSoup\n",
    "import requests\n",
    "\n",
    "import pandas as pd\n",
    "import numpy as np\n",
    "\n",
    "%matplotlib inline\n",
    "import matplotlib as plt"
   ]
  },
  {
   "cell_type": "code",
   "execution_count": 2,
   "metadata": {
    "ExecuteTime": {
     "end_time": "2020-09-30T21:49:57.646027Z",
     "start_time": "2020-09-30T21:49:57.643373Z"
    }
   },
   "outputs": [],
   "source": [
    "from scrape_craigslist import get_listing_details, get_page_listings, clpage_to_df"
   ]
  },
  {
   "cell_type": "code",
   "execution_count": 3,
   "metadata": {
    "ExecuteTime": {
     "end_time": "2020-09-30T21:49:57.761007Z",
     "start_time": "2020-09-30T21:49:57.650332Z"
    }
   },
   "outputs": [
    {
     "data": {
      "text/plain": [
       "200"
      ]
     },
     "execution_count": 3,
     "metadata": {},
     "output_type": "execute_result"
    }
   ],
   "source": [
    "# PDX Housing/Apartment Search Page\n",
    "url = 'https://portland.craigslist.org/search/mlt/apa?availabilityMode=0&bundleDuplicates=1'\n",
    "\n",
    "response = requests.get(url)\n",
    "response.status_code"
   ]
  },
  {
   "cell_type": "code",
   "execution_count": 4,
   "metadata": {
    "ExecuteTime": {
     "end_time": "2020-09-30T21:49:57.961099Z",
     "start_time": "2020-09-30T21:49:57.762550Z"
    }
   },
   "outputs": [],
   "source": [
    "page = response.text\n",
    "soup = BeautifulSoup(page, 'html.parser')"
   ]
  },
  {
   "cell_type": "code",
   "execution_count": 5,
   "metadata": {
    "ExecuteTime": {
     "end_time": "2020-09-30T21:49:58.056499Z",
     "start_time": "2020-09-30T21:49:57.962689Z"
    }
   },
   "outputs": [
    {
     "name": "stdout",
     "output_type": "stream",
     "text": [
      "Scrape Complete!\n",
      "Number of Postings Scraped: 121\n"
     ]
    }
   ],
   "source": [
    "df = clpage_to_df(soup)"
   ]
  },
  {
   "cell_type": "code",
   "execution_count": 6,
   "metadata": {
    "ExecuteTime": {
     "end_time": "2020-09-30T21:49:58.069759Z",
     "start_time": "2020-09-30T21:49:58.059422Z"
    }
   },
   "outputs": [
    {
     "data": {
      "text/html": [
       "<div>\n",
       "<style scoped>\n",
       "    .dataframe tbody tr th:only-of-type {\n",
       "        vertical-align: middle;\n",
       "    }\n",
       "\n",
       "    .dataframe tbody tr th {\n",
       "        vertical-align: top;\n",
       "    }\n",
       "\n",
       "    .dataframe thead th {\n",
       "        text-align: right;\n",
       "    }\n",
       "</style>\n",
       "<table border=\"1\" class=\"dataframe\">\n",
       "  <thead>\n",
       "    <tr style=\"text-align: right;\">\n",
       "      <th></th>\n",
       "      <th>date</th>\n",
       "      <th>title</th>\n",
       "      <th>link</th>\n",
       "      <th>price</th>\n",
       "      <th>brs</th>\n",
       "      <th>sqft</th>\n",
       "      <th>hood</th>\n",
       "    </tr>\n",
       "  </thead>\n",
       "  <tbody>\n",
       "    <tr>\n",
       "      <th>0</th>\n",
       "      <td>Sep 30</td>\n",
       "      <td>Our Two Bedrooms Have Endless Space!</td>\n",
       "      <td>https://portland.craigslist.org/mlt/apa/d/fair...</td>\n",
       "      <td>1500</td>\n",
       "      <td>2</td>\n",
       "      <td>1051.0</td>\n",
       "      <td>NaN</td>\n",
       "    </tr>\n",
       "    <tr>\n",
       "      <th>1</th>\n",
       "      <td>Sep 30</td>\n",
       "      <td>CRAZY DEALS! 8 WEEKS FREE AND FREE PARKING ON ...</td>\n",
       "      <td>https://portland.craigslist.org/mlt/apa/d/port...</td>\n",
       "      <td>1285</td>\n",
       "      <td>1</td>\n",
       "      <td>620.0</td>\n",
       "      <td>Downtown</td>\n",
       "    </tr>\n",
       "    <tr>\n",
       "      <th>2</th>\n",
       "      <td>Sep 30</td>\n",
       "      <td>BUSHWICK🌞BRAND NEW 2BR,2BA APT,LAUNDRY IN U</td>\n",
       "      <td>https://portland.craigslist.org/mlt/apa/d/alba...</td>\n",
       "      <td>1</td>\n",
       "      <td>NaN</td>\n",
       "      <td>NaN</td>\n",
       "      <td>NaN</td>\n",
       "    </tr>\n",
       "    <tr>\n",
       "      <th>3</th>\n",
       "      <td>Sep 30</td>\n",
       "      <td>Beautifully Updated 2 Bedroom 2 Bath Apartment!</td>\n",
       "      <td>https://portland.craigslist.org/mlt/apa/d/gres...</td>\n",
       "      <td>1494</td>\n",
       "      <td>2</td>\n",
       "      <td>1002.0</td>\n",
       "      <td>Gresham, Troutdale, Fairview</td>\n",
       "    </tr>\n",
       "    <tr>\n",
       "      <th>4</th>\n",
       "      <td>Sep 30</td>\n",
       "      <td>KING / IRVING PARK AREA - 3 Bed 2 Bath SF Home...</td>\n",
       "      <td>https://portland.craigslist.org/mlt/apa/d/port...</td>\n",
       "      <td>2999</td>\n",
       "      <td>3</td>\n",
       "      <td>1400.0</td>\n",
       "      <td>NE 7th Avenue</td>\n",
       "    </tr>\n",
       "  </tbody>\n",
       "</table>\n",
       "</div>"
      ],
      "text/plain": [
       "     date                                              title  \\\n",
       "0  Sep 30               Our Two Bedrooms Have Endless Space!   \n",
       "1  Sep 30  CRAZY DEALS! 8 WEEKS FREE AND FREE PARKING ON ...   \n",
       "2  Sep 30        BUSHWICK🌞BRAND NEW 2BR,2BA APT,LAUNDRY IN U   \n",
       "3  Sep 30    Beautifully Updated 2 Bedroom 2 Bath Apartment!   \n",
       "4  Sep 30  KING / IRVING PARK AREA - 3 Bed 2 Bath SF Home...   \n",
       "\n",
       "                                                link  price  brs    sqft  \\\n",
       "0  https://portland.craigslist.org/mlt/apa/d/fair...   1500    2  1051.0   \n",
       "1  https://portland.craigslist.org/mlt/apa/d/port...   1285    1   620.0   \n",
       "2  https://portland.craigslist.org/mlt/apa/d/alba...      1  NaN     NaN   \n",
       "3  https://portland.craigslist.org/mlt/apa/d/gres...   1494    2  1002.0   \n",
       "4  https://portland.craigslist.org/mlt/apa/d/port...   2999    3  1400.0   \n",
       "\n",
       "                           hood  \n",
       "0                           NaN  \n",
       "1                      Downtown  \n",
       "2                           NaN  \n",
       "3  Gresham, Troutdale, Fairview  \n",
       "4                 NE 7th Avenue  "
      ]
     },
     "execution_count": 6,
     "metadata": {},
     "output_type": "execute_result"
    }
   ],
   "source": [
    "df.head()"
   ]
  },
  {
   "cell_type": "code",
   "execution_count": null,
   "metadata": {},
   "outputs": [],
   "source": []
  },
  {
   "cell_type": "markdown",
   "metadata": {},
   "source": [
    "# Scraping an individual post page for amenities"
   ]
  },
  {
   "cell_type": "code",
   "execution_count": 7,
   "metadata": {
    "ExecuteTime": {
     "end_time": "2020-09-30T21:49:58.074184Z",
     "start_time": "2020-09-30T21:49:58.071724Z"
    }
   },
   "outputs": [],
   "source": [
    "post_url = 'https://portland.craigslist.org/mlt/apa/d/portland-crazy-deals-8-weeks-free-and/7205910128.html'"
   ]
  },
  {
   "cell_type": "code",
   "execution_count": 8,
   "metadata": {
    "ExecuteTime": {
     "end_time": "2020-09-30T21:49:58.158587Z",
     "start_time": "2020-09-30T21:49:58.076576Z"
    }
   },
   "outputs": [
    {
     "data": {
      "text/plain": [
       "200"
      ]
     },
     "execution_count": 8,
     "metadata": {},
     "output_type": "execute_result"
    }
   ],
   "source": [
    "post_response = requests.get(post_url)\n",
    "post_response.status_code"
   ]
  },
  {
   "cell_type": "code",
   "execution_count": 9,
   "metadata": {
    "ExecuteTime": {
     "end_time": "2020-09-30T21:49:58.177472Z",
     "start_time": "2020-09-30T21:49:58.160347Z"
    }
   },
   "outputs": [],
   "source": [
    "post_page = post_response.text\n",
    "post_soup = BeautifulSoup(post_page, 'html.parser')"
   ]
  },
  {
   "cell_type": "code",
   "execution_count": 36,
   "metadata": {
    "ExecuteTime": {
     "end_time": "2020-09-30T22:04:21.001828Z",
     "start_time": "2020-09-30T22:04:20.999612Z"
    }
   },
   "outputs": [],
   "source": [
    "#print(post_soup.prettify())"
   ]
  },
  {
   "cell_type": "code",
   "execution_count": 17,
   "metadata": {
    "ExecuteTime": {
     "end_time": "2020-09-30T21:50:58.551837Z",
     "start_time": "2020-09-30T21:50:58.547435Z"
    }
   },
   "outputs": [
    {
     "data": {
      "text/plain": [
       "'1BR / 1Ba'"
      ]
     },
     "execution_count": 17,
     "metadata": {},
     "output_type": "execute_result"
    }
   ],
   "source": [
    "bath = post_soup.find('span', class_='shared-line-bubble').text\n",
    "bath"
   ]
  },
  {
   "cell_type": "code",
   "execution_count": 21,
   "metadata": {
    "ExecuteTime": {
     "end_time": "2020-09-30T21:58:21.259218Z",
     "start_time": "2020-09-30T21:58:21.254486Z"
    }
   },
   "outputs": [
    {
     "name": "stdout",
     "output_type": "stream",
     "text": [
      "2\n",
      "[<p class=\"attrgroup\">\n",
      "<span class=\"shared-line-bubble\"><b>1BR</b> / <b>1Ba</b></span>\n",
      "<span class=\"shared-line-bubble\"><b>620</b>ft<sup>2</sup></span>\n",
      "<span class=\"housing_movein_now property_date shared-line-bubble\" data-date=\"2020-09-30\" data-today_msg=\"available now\">available sep 30</span>\n",
      "</p>, <p class=\"attrgroup\">\n",
      "<span>cats are OK - purrr</span>\n",
      "<br/>\n",
      "<span>dogs are OK - wooof</span>\n",
      "<br/>\n",
      "<span>apartment</span>\n",
      "<br/>\n",
      "<span>laundry in bldg</span>\n",
      "<br/>\n",
      "<span>no smoking</span>\n",
      "<br/>\n",
      "<span>off-street parking</span>\n",
      "<br/>\n",
      "</p>]\n"
     ]
    }
   ],
   "source": [
    "table_info = post_soup.find_all('p', class_='attrgroup')\n",
    "print(len(table_info))\n",
    "print(table_info)"
   ]
  },
  {
   "cell_type": "code",
   "execution_count": 34,
   "metadata": {
    "ExecuteTime": {
     "end_time": "2020-09-30T22:02:17.634818Z",
     "start_time": "2020-09-30T22:02:17.630492Z"
    }
   },
   "outputs": [
    {
     "data": {
      "text/plain": [
       "['1BR / 1Ba', '620ft2', 'available sep 30']"
      ]
     },
     "execution_count": 34,
     "metadata": {},
     "output_type": "execute_result"
    }
   ],
   "source": [
    "group1 = table_info[0].text.split('\\n')\n",
    "item_list2 = [item for item in group1 if item != '']\n",
    "item_list2"
   ]
  },
  {
   "cell_type": "code",
   "execution_count": 35,
   "metadata": {
    "ExecuteTime": {
     "end_time": "2020-09-30T22:02:21.402947Z",
     "start_time": "2020-09-30T22:02:21.399203Z"
    }
   },
   "outputs": [
    {
     "data": {
      "text/plain": [
       "['cats are OK - purrr',\n",
       " 'dogs are OK - wooof',\n",
       " 'apartment',\n",
       " 'laundry in bldg',\n",
       " 'no smoking',\n",
       " 'off-street parking']"
      ]
     },
     "execution_count": 35,
     "metadata": {},
     "output_type": "execute_result"
    }
   ],
   "source": [
    "group2 = table_info[1].text.split('\\n')\n",
    "\n",
    "item_list2 = [item for item in group2 if item != '']\n",
    "item_list2"
   ]
  },
  {
   "cell_type": "code",
   "execution_count": null,
   "metadata": {},
   "outputs": [],
   "source": []
  },
  {
   "cell_type": "code",
   "execution_count": null,
   "metadata": {},
   "outputs": [],
   "source": []
  },
  {
   "cell_type": "code",
   "execution_count": null,
   "metadata": {},
   "outputs": [],
   "source": []
  },
  {
   "cell_type": "code",
   "execution_count": null,
   "metadata": {},
   "outputs": [],
   "source": []
  },
  {
   "cell_type": "code",
   "execution_count": null,
   "metadata": {},
   "outputs": [],
   "source": []
  }
 ],
 "metadata": {
  "kernelspec": {
   "display_name": "Python [conda env:metis] *",
   "language": "python",
   "name": "conda-env-metis-py"
  },
  "language_info": {
   "codemirror_mode": {
    "name": "ipython",
    "version": 3
   },
   "file_extension": ".py",
   "mimetype": "text/x-python",
   "name": "python",
   "nbconvert_exporter": "python",
   "pygments_lexer": "ipython3",
   "version": "3.8.5"
  },
  "toc": {
   "base_numbering": 1,
   "nav_menu": {},
   "number_sections": true,
   "sideBar": true,
   "skip_h1_title": false,
   "title_cell": "Table of Contents",
   "title_sidebar": "Contents",
   "toc_cell": false,
   "toc_position": {},
   "toc_section_display": true,
   "toc_window_display": false
  }
 },
 "nbformat": 4,
 "nbformat_minor": 4
}
