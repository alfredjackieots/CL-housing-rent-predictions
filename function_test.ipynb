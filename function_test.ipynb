{
 "cells": [
  {
   "cell_type": "markdown",
   "metadata": {},
   "source": [
    "# Test use of imported functions to scrape a Craiglist Page"
   ]
  },
  {
   "cell_type": "code",
   "execution_count": 1,
   "metadata": {
    "ExecuteTime": {
     "end_time": "2020-09-30T17:28:17.886781Z",
     "start_time": "2020-09-30T17:28:17.197630Z"
    }
   },
   "outputs": [],
   "source": [
    "from bs4 import BeautifulSoup\n",
    "import requests\n",
    "\n",
    "import pandas as pd\n",
    "import numpy as np\n",
    "\n",
    "%matplotlib inline\n",
    "import matplotlib as plt"
   ]
  },
  {
   "cell_type": "code",
   "execution_count": 2,
   "metadata": {
    "ExecuteTime": {
     "end_time": "2020-09-30T17:28:17.893315Z",
     "start_time": "2020-09-30T17:28:17.888937Z"
    }
   },
   "outputs": [],
   "source": [
    "from scrape_craigslist import get_listing_details, get_page_listings, clpage_to_df"
   ]
  },
  {
   "cell_type": "code",
   "execution_count": 3,
   "metadata": {
    "ExecuteTime": {
     "end_time": "2020-09-30T17:28:18.063385Z",
     "start_time": "2020-09-30T17:28:17.895510Z"
    }
   },
   "outputs": [
    {
     "data": {
      "text/plain": [
       "200"
      ]
     },
     "execution_count": 3,
     "metadata": {},
     "output_type": "execute_result"
    }
   ],
   "source": [
    "# PDX Housing/Apartment Search Page\n",
    "url = 'https://portland.craigslist.org/search/apa'\n",
    "\n",
    "response = requests.get(url)\n",
    "response.status_code"
   ]
  },
  {
   "cell_type": "code",
   "execution_count": 4,
   "metadata": {
    "ExecuteTime": {
     "end_time": "2020-09-30T17:28:18.297896Z",
     "start_time": "2020-09-30T17:28:18.065700Z"
    }
   },
   "outputs": [],
   "source": [
    "page = response.text\n",
    "soup = BeautifulSoup(page, 'html.parser')"
   ]
  },
  {
   "cell_type": "code",
   "execution_count": 5,
   "metadata": {
    "ExecuteTime": {
     "end_time": "2020-09-30T17:28:18.397641Z",
     "start_time": "2020-09-30T17:28:18.299610Z"
    }
   },
   "outputs": [
    {
     "name": "stdout",
     "output_type": "stream",
     "text": [
      "Scrape Complete!\n",
      "Number of Postings Scraped: 120\n"
     ]
    }
   ],
   "source": [
    "df = clpage_to_df(soup)"
   ]
  },
  {
   "cell_type": "code",
   "execution_count": 6,
   "metadata": {
    "ExecuteTime": {
     "end_time": "2020-09-30T17:28:18.410072Z",
     "start_time": "2020-09-30T17:28:18.399352Z"
    }
   },
   "outputs": [
    {
     "data": {
      "text/html": [
       "<div>\n",
       "<style scoped>\n",
       "    .dataframe tbody tr th:only-of-type {\n",
       "        vertical-align: middle;\n",
       "    }\n",
       "\n",
       "    .dataframe tbody tr th {\n",
       "        vertical-align: top;\n",
       "    }\n",
       "\n",
       "    .dataframe thead th {\n",
       "        text-align: right;\n",
       "    }\n",
       "</style>\n",
       "<table border=\"1\" class=\"dataframe\">\n",
       "  <thead>\n",
       "    <tr style=\"text-align: right;\">\n",
       "      <th></th>\n",
       "      <th>date</th>\n",
       "      <th>title</th>\n",
       "      <th>link</th>\n",
       "      <th>price</th>\n",
       "      <th>brs</th>\n",
       "      <th>sqft</th>\n",
       "      <th>hood</th>\n",
       "    </tr>\n",
       "  </thead>\n",
       "  <tbody>\n",
       "    <tr>\n",
       "      <th>0</th>\n",
       "      <td>Sep 30</td>\n",
       "      <td>Ceiling Fan, Disposal, Playground</td>\n",
       "      <td>https://portland.craigslist.org/clc/apa/d/oreg...</td>\n",
       "      <td>1413</td>\n",
       "      <td>2</td>\n",
       "      <td>872.0</td>\n",
       "      <td>NaN</td>\n",
       "    </tr>\n",
       "    <tr>\n",
       "      <th>1</th>\n",
       "      <td>Sep 30</td>\n",
       "      <td>Come, Live &amp; Enjoy Your Apartment Home</td>\n",
       "      <td>https://portland.craigslist.org/clk/apa/d/vanc...</td>\n",
       "      <td>1265</td>\n",
       "      <td>2</td>\n",
       "      <td>NaN</td>\n",
       "      <td>NaN</td>\n",
       "    </tr>\n",
       "    <tr>\n",
       "      <th>2</th>\n",
       "      <td>Sep 30</td>\n",
       "      <td>Ground level, private, with a large covered patio</td>\n",
       "      <td>https://portland.craigslist.org/clk/apa/d/vanc...</td>\n",
       "      <td>1528</td>\n",
       "      <td>2</td>\n",
       "      <td>1173.0</td>\n",
       "      <td>Salmon Creek, Vancouver</td>\n",
       "    </tr>\n",
       "    <tr>\n",
       "      <th>3</th>\n",
       "      <td>Sep 30</td>\n",
       "      <td>Playground, Carpeting, Dark Espresso Kitchen C...</td>\n",
       "      <td>https://portland.craigslist.org/clc/apa/d/oreg...</td>\n",
       "      <td>1413</td>\n",
       "      <td>2</td>\n",
       "      <td>872.0</td>\n",
       "      <td>NaN</td>\n",
       "    </tr>\n",
       "    <tr>\n",
       "      <th>4</th>\n",
       "      <td>Sep 30</td>\n",
       "      <td>$200 OFF! Beautiful Spacious Two Bedroom One Bath</td>\n",
       "      <td>https://portland.craigslist.org/clk/apa/d/vanc...</td>\n",
       "      <td>1265</td>\n",
       "      <td>2</td>\n",
       "      <td>NaN</td>\n",
       "      <td>NaN</td>\n",
       "    </tr>\n",
       "  </tbody>\n",
       "</table>\n",
       "</div>"
      ],
      "text/plain": [
       "     date                                              title  \\\n",
       "0  Sep 30                  Ceiling Fan, Disposal, Playground   \n",
       "1  Sep 30             Come, Live & Enjoy Your Apartment Home   \n",
       "2  Sep 30  Ground level, private, with a large covered patio   \n",
       "3  Sep 30  Playground, Carpeting, Dark Espresso Kitchen C...   \n",
       "4  Sep 30  $200 OFF! Beautiful Spacious Two Bedroom One Bath   \n",
       "\n",
       "                                                link  price brs    sqft  \\\n",
       "0  https://portland.craigslist.org/clc/apa/d/oreg...   1413   2   872.0   \n",
       "1  https://portland.craigslist.org/clk/apa/d/vanc...   1265   2     NaN   \n",
       "2  https://portland.craigslist.org/clk/apa/d/vanc...   1528   2  1173.0   \n",
       "3  https://portland.craigslist.org/clc/apa/d/oreg...   1413   2   872.0   \n",
       "4  https://portland.craigslist.org/clk/apa/d/vanc...   1265   2     NaN   \n",
       "\n",
       "                      hood  \n",
       "0                      NaN  \n",
       "1                      NaN  \n",
       "2  Salmon Creek, Vancouver  \n",
       "3                      NaN  \n",
       "4                      NaN  "
      ]
     },
     "execution_count": 6,
     "metadata": {},
     "output_type": "execute_result"
    }
   ],
   "source": [
    "df.head()"
   ]
  },
  {
   "cell_type": "code",
   "execution_count": null,
   "metadata": {},
   "outputs": [],
   "source": []
  },
  {
   "cell_type": "code",
   "execution_count": null,
   "metadata": {},
   "outputs": [],
   "source": []
  },
  {
   "cell_type": "code",
   "execution_count": null,
   "metadata": {},
   "outputs": [],
   "source": []
  }
 ],
 "metadata": {
  "kernelspec": {
   "display_name": "Python [conda env:metis] *",
   "language": "python",
   "name": "conda-env-metis-py"
  },
  "language_info": {
   "codemirror_mode": {
    "name": "ipython",
    "version": 3
   },
   "file_extension": ".py",
   "mimetype": "text/x-python",
   "name": "python",
   "nbconvert_exporter": "python",
   "pygments_lexer": "ipython3",
   "version": "3.8.5"
  },
  "toc": {
   "base_numbering": 1,
   "nav_menu": {},
   "number_sections": true,
   "sideBar": true,
   "skip_h1_title": false,
   "title_cell": "Table of Contents",
   "title_sidebar": "Contents",
   "toc_cell": false,
   "toc_position": {},
   "toc_section_display": true,
   "toc_window_display": false
  }
 },
 "nbformat": 4,
 "nbformat_minor": 4
}
