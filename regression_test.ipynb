{
 "cells": [
  {
   "cell_type": "markdown",
   "metadata": {},
   "source": [
    "# Regression Testing"
   ]
  },
  {
   "cell_type": "code",
   "execution_count": 1,
   "metadata": {
    "ExecuteTime": {
     "end_time": "2020-10-04T22:30:59.779511Z",
     "start_time": "2020-10-04T22:30:58.648351Z"
    }
   },
   "outputs": [],
   "source": [
    "# Necessary imports\n",
    "import pandas as pd\n",
    "import numpy as np\n",
    "import seaborn as sns\n",
    "import matplotlib.pyplot as plt\n",
    "\n",
    "import statsmodels.api as sm\n",
    "from sklearn.linear_model import LinearRegression\n",
    "\n",
    "%matplotlib inline"
   ]
  },
  {
   "cell_type": "markdown",
   "metadata": {},
   "source": [
    "## Review of sf DataFrame"
   ]
  },
  {
   "cell_type": "code",
   "execution_count": 2,
   "metadata": {
    "ExecuteTime": {
     "end_time": "2020-10-04T22:30:59.786777Z",
     "start_time": "2020-10-04T22:30:59.781717Z"
    }
   },
   "outputs": [],
   "source": [
    "sf = pd.read_csv('data_files/sf_clean.csv')"
   ]
  },
  {
   "cell_type": "code",
   "execution_count": 3,
   "metadata": {
    "ExecuteTime": {
     "end_time": "2020-10-04T22:30:59.791931Z",
     "start_time": "2020-10-04T22:30:59.788761Z"
    }
   },
   "outputs": [],
   "source": [
    "sf['hood_district'] = sf['hood_district'].astype(str)"
   ]
  },
  {
   "cell_type": "code",
   "execution_count": 4,
   "metadata": {
    "ExecuteTime": {
     "end_time": "2020-10-04T22:30:59.801901Z",
     "start_time": "2020-10-04T22:30:59.793378Z"
    }
   },
   "outputs": [
    {
     "name": "stdout",
     "output_type": "stream",
     "text": [
      "<class 'pandas.core.frame.DataFrame'>\n",
      "RangeIndex: 989 entries, 0 to 988\n",
      "Data columns (total 9 columns):\n",
      " #   Column         Non-Null Count  Dtype  \n",
      "---  ------         --------------  -----  \n",
      " 0   price          989 non-null    int64  \n",
      " 1   sqft           989 non-null    float64\n",
      " 2   beds           989 non-null    float64\n",
      " 3   bath           989 non-null    float64\n",
      " 4   laundry        858 non-null    object \n",
      " 5   pets           989 non-null    object \n",
      " 6   housing_type   989 non-null    object \n",
      " 7   parking        511 non-null    object \n",
      " 8   hood_district  989 non-null    object \n",
      "dtypes: float64(3), int64(1), object(5)\n",
      "memory usage: 69.7+ KB\n"
     ]
    }
   ],
   "source": [
    "sf.info()"
   ]
  },
  {
   "cell_type": "code",
   "execution_count": 5,
   "metadata": {
    "ExecuteTime": {
     "end_time": "2020-10-04T22:30:59.816386Z",
     "start_time": "2020-10-04T22:30:59.803401Z"
    },
    "scrolled": true
   },
   "outputs": [
    {
     "data": {
      "text/html": [
       "<div>\n",
       "<style scoped>\n",
       "    .dataframe tbody tr th:only-of-type {\n",
       "        vertical-align: middle;\n",
       "    }\n",
       "\n",
       "    .dataframe tbody tr th {\n",
       "        vertical-align: top;\n",
       "    }\n",
       "\n",
       "    .dataframe thead th {\n",
       "        text-align: right;\n",
       "    }\n",
       "</style>\n",
       "<table border=\"1\" class=\"dataframe\">\n",
       "  <thead>\n",
       "    <tr style=\"text-align: right;\">\n",
       "      <th></th>\n",
       "      <th>price</th>\n",
       "      <th>sqft</th>\n",
       "      <th>beds</th>\n",
       "      <th>bath</th>\n",
       "      <th>laundry</th>\n",
       "      <th>pets</th>\n",
       "      <th>housing_type</th>\n",
       "      <th>parking</th>\n",
       "      <th>hood_district</th>\n",
       "    </tr>\n",
       "  </thead>\n",
       "  <tbody>\n",
       "    <tr>\n",
       "      <th>0</th>\n",
       "      <td>6800</td>\n",
       "      <td>1600.0</td>\n",
       "      <td>2.0</td>\n",
       "      <td>2.0</td>\n",
       "      <td>in-unit</td>\n",
       "      <td>no-pets</td>\n",
       "      <td>apt</td>\n",
       "      <td>protected</td>\n",
       "      <td>7.0</td>\n",
       "    </tr>\n",
       "    <tr>\n",
       "      <th>1</th>\n",
       "      <td>3500</td>\n",
       "      <td>550.0</td>\n",
       "      <td>1.0</td>\n",
       "      <td>1.0</td>\n",
       "      <td>in-unit</td>\n",
       "      <td>both</td>\n",
       "      <td>apt</td>\n",
       "      <td>protected</td>\n",
       "      <td>7.0</td>\n",
       "    </tr>\n",
       "    <tr>\n",
       "      <th>2</th>\n",
       "      <td>5100</td>\n",
       "      <td>1300.0</td>\n",
       "      <td>2.0</td>\n",
       "      <td>1.0</td>\n",
       "      <td>in-unit</td>\n",
       "      <td>both</td>\n",
       "      <td>apt</td>\n",
       "      <td>NaN</td>\n",
       "      <td>7.0</td>\n",
       "    </tr>\n",
       "    <tr>\n",
       "      <th>3</th>\n",
       "      <td>9000</td>\n",
       "      <td>3500.0</td>\n",
       "      <td>3.0</td>\n",
       "      <td>2.5</td>\n",
       "      <td>in-unit</td>\n",
       "      <td>no-pets</td>\n",
       "      <td>apt</td>\n",
       "      <td>protected</td>\n",
       "      <td>7.0</td>\n",
       "    </tr>\n",
       "    <tr>\n",
       "      <th>4</th>\n",
       "      <td>3100</td>\n",
       "      <td>561.0</td>\n",
       "      <td>1.0</td>\n",
       "      <td>1.0</td>\n",
       "      <td>NaN</td>\n",
       "      <td>both</td>\n",
       "      <td>apt</td>\n",
       "      <td>NaN</td>\n",
       "      <td>7.0</td>\n",
       "    </tr>\n",
       "  </tbody>\n",
       "</table>\n",
       "</div>"
      ],
      "text/plain": [
       "   price    sqft  beds  bath  laundry     pets housing_type    parking  \\\n",
       "0   6800  1600.0   2.0   2.0  in-unit  no-pets          apt  protected   \n",
       "1   3500   550.0   1.0   1.0  in-unit     both          apt  protected   \n",
       "2   5100  1300.0   2.0   1.0  in-unit     both          apt        NaN   \n",
       "3   9000  3500.0   3.0   2.5  in-unit  no-pets          apt  protected   \n",
       "4   3100   561.0   1.0   1.0      NaN     both          apt        NaN   \n",
       "\n",
       "  hood_district  \n",
       "0           7.0  \n",
       "1           7.0  \n",
       "2           7.0  \n",
       "3           7.0  \n",
       "4           7.0  "
      ]
     },
     "execution_count": 5,
     "metadata": {},
     "output_type": "execute_result"
    }
   ],
   "source": [
    "sf.head()"
   ]
  },
  {
   "cell_type": "code",
   "execution_count": 6,
   "metadata": {
    "ExecuteTime": {
     "end_time": "2020-10-04T22:30:59.835158Z",
     "start_time": "2020-10-04T22:30:59.817930Z"
    }
   },
   "outputs": [
    {
     "data": {
      "text/html": [
       "<div>\n",
       "<style scoped>\n",
       "    .dataframe tbody tr th:only-of-type {\n",
       "        vertical-align: middle;\n",
       "    }\n",
       "\n",
       "    .dataframe tbody tr th {\n",
       "        vertical-align: top;\n",
       "    }\n",
       "\n",
       "    .dataframe thead th {\n",
       "        text-align: right;\n",
       "    }\n",
       "</style>\n",
       "<table border=\"1\" class=\"dataframe\">\n",
       "  <thead>\n",
       "    <tr style=\"text-align: right;\">\n",
       "      <th></th>\n",
       "      <th>price</th>\n",
       "      <th>sqft</th>\n",
       "      <th>beds</th>\n",
       "      <th>bath</th>\n",
       "    </tr>\n",
       "  </thead>\n",
       "  <tbody>\n",
       "    <tr>\n",
       "      <th>count</th>\n",
       "      <td>989.000000</td>\n",
       "      <td>989.000000</td>\n",
       "      <td>989.000000</td>\n",
       "      <td>989.000000</td>\n",
       "    </tr>\n",
       "    <tr>\n",
       "      <th>mean</th>\n",
       "      <td>3595.035389</td>\n",
       "      <td>976.765420</td>\n",
       "      <td>1.679474</td>\n",
       "      <td>1.390293</td>\n",
       "    </tr>\n",
       "    <tr>\n",
       "      <th>std</th>\n",
       "      <td>1546.222670</td>\n",
       "      <td>474.629798</td>\n",
       "      <td>1.076710</td>\n",
       "      <td>0.562714</td>\n",
       "    </tr>\n",
       "    <tr>\n",
       "      <th>min</th>\n",
       "      <td>750.000000</td>\n",
       "      <td>150.000000</td>\n",
       "      <td>0.000000</td>\n",
       "      <td>1.000000</td>\n",
       "    </tr>\n",
       "    <tr>\n",
       "      <th>25%</th>\n",
       "      <td>2650.000000</td>\n",
       "      <td>650.000000</td>\n",
       "      <td>1.000000</td>\n",
       "      <td>1.000000</td>\n",
       "    </tr>\n",
       "    <tr>\n",
       "      <th>50%</th>\n",
       "      <td>3300.000000</td>\n",
       "      <td>900.000000</td>\n",
       "      <td>2.000000</td>\n",
       "      <td>1.000000</td>\n",
       "    </tr>\n",
       "    <tr>\n",
       "      <th>75%</th>\n",
       "      <td>4242.000000</td>\n",
       "      <td>1200.000000</td>\n",
       "      <td>2.000000</td>\n",
       "      <td>2.000000</td>\n",
       "    </tr>\n",
       "    <tr>\n",
       "      <th>max</th>\n",
       "      <td>19000.000000</td>\n",
       "      <td>3500.000000</td>\n",
       "      <td>6.000000</td>\n",
       "      <td>4.000000</td>\n",
       "    </tr>\n",
       "  </tbody>\n",
       "</table>\n",
       "</div>"
      ],
      "text/plain": [
       "              price         sqft        beds        bath\n",
       "count    989.000000   989.000000  989.000000  989.000000\n",
       "mean    3595.035389   976.765420    1.679474    1.390293\n",
       "std     1546.222670   474.629798    1.076710    0.562714\n",
       "min      750.000000   150.000000    0.000000    1.000000\n",
       "25%     2650.000000   650.000000    1.000000    1.000000\n",
       "50%     3300.000000   900.000000    2.000000    1.000000\n",
       "75%     4242.000000  1200.000000    2.000000    2.000000\n",
       "max    19000.000000  3500.000000    6.000000    4.000000"
      ]
     },
     "execution_count": 6,
     "metadata": {},
     "output_type": "execute_result"
    }
   ],
   "source": [
    "sf.describe()"
   ]
  },
  {
   "cell_type": "code",
   "execution_count": 7,
   "metadata": {
    "ExecuteTime": {
     "end_time": "2020-10-04T22:30:59.846237Z",
     "start_time": "2020-10-04T22:30:59.838802Z"
    }
   },
   "outputs": [
    {
     "data": {
      "text/html": [
       "<div>\n",
       "<style scoped>\n",
       "    .dataframe tbody tr th:only-of-type {\n",
       "        vertical-align: middle;\n",
       "    }\n",
       "\n",
       "    .dataframe tbody tr th {\n",
       "        vertical-align: top;\n",
       "    }\n",
       "\n",
       "    .dataframe thead th {\n",
       "        text-align: right;\n",
       "    }\n",
       "</style>\n",
       "<table border=\"1\" class=\"dataframe\">\n",
       "  <thead>\n",
       "    <tr style=\"text-align: right;\">\n",
       "      <th></th>\n",
       "      <th>price</th>\n",
       "      <th>sqft</th>\n",
       "      <th>beds</th>\n",
       "      <th>bath</th>\n",
       "    </tr>\n",
       "  </thead>\n",
       "  <tbody>\n",
       "    <tr>\n",
       "      <th>price</th>\n",
       "      <td>1.000000</td>\n",
       "      <td>0.835834</td>\n",
       "      <td>0.673328</td>\n",
       "      <td>0.691190</td>\n",
       "    </tr>\n",
       "    <tr>\n",
       "      <th>sqft</th>\n",
       "      <td>0.835834</td>\n",
       "      <td>1.000000</td>\n",
       "      <td>0.765070</td>\n",
       "      <td>0.720929</td>\n",
       "    </tr>\n",
       "    <tr>\n",
       "      <th>beds</th>\n",
       "      <td>0.673328</td>\n",
       "      <td>0.765070</td>\n",
       "      <td>1.000000</td>\n",
       "      <td>0.629331</td>\n",
       "    </tr>\n",
       "    <tr>\n",
       "      <th>bath</th>\n",
       "      <td>0.691190</td>\n",
       "      <td>0.720929</td>\n",
       "      <td>0.629331</td>\n",
       "      <td>1.000000</td>\n",
       "    </tr>\n",
       "  </tbody>\n",
       "</table>\n",
       "</div>"
      ],
      "text/plain": [
       "          price      sqft      beds      bath\n",
       "price  1.000000  0.835834  0.673328  0.691190\n",
       "sqft   0.835834  1.000000  0.765070  0.720929\n",
       "beds   0.673328  0.765070  1.000000  0.629331\n",
       "bath   0.691190  0.720929  0.629331  1.000000"
      ]
     },
     "execution_count": 7,
     "metadata": {},
     "output_type": "execute_result"
    }
   ],
   "source": [
    "sf.corr()"
   ]
  },
  {
   "cell_type": "code",
   "execution_count": 8,
   "metadata": {
    "ExecuteTime": {
     "end_time": "2020-10-04T22:31:00.116733Z",
     "start_time": "2020-10-04T22:30:59.849124Z"
    }
   },
   "outputs": [
    {
     "data": {
      "image/png": "[encoded data removed]",
      "text/plain": [
       "<Figure size 432x288 with 2 Axes>"
      ]
     },
     "metadata": {
      "needs_background": "light"
     },
     "output_type": "display_data"
    }
   ],
   "source": [
    "# example of a better corr matrix\n",
    "sns.heatmap(sf.corr(), cmap=\"seismic\", annot=True, vmin=-1, vmax=1)\n",
    "\n",
    "plt.gca().set_ylim(len(sf.corr())+0.5, -0.5);  # quick fix to make sure viz isn't cut off\n"
   ]
  },
  {
   "cell_type": "code",
   "execution_count": 9,
   "metadata": {
    "ExecuteTime": {
     "end_time": "2020-10-04T22:31:01.733989Z",
     "start_time": "2020-10-04T22:31:00.118901Z"
    }
   },
   "outputs": [
    {
     "data": {
      "image/png": "[encoded data removed]",
      "text/plain": [
       "<Figure size 432x345.6 with 20 Axes>"
      ]
     },
     "metadata": {
      "needs_background": "light"
     },
     "output_type": "display_data"
    }
   ],
   "source": [
    "# Plot all of the variable-to-variable relations as scatterplots\n",
    "sns.pairplot(sf, height=1.2, aspect=1.25);"
   ]
  },
  {
   "cell_type": "markdown",
   "metadata": {},
   "source": [
    "### Regression with sklearn"
   ]
  },
  {
   "cell_type": "markdown",
   "metadata": {},
   "source": [
    "#### Single independent variable"
   ]
  },
  {
   "cell_type": "code",
   "execution_count": 10,
   "metadata": {
    "ExecuteTime": {
     "end_time": "2020-10-04T22:31:02.044665Z",
     "start_time": "2020-10-04T22:31:01.736492Z"
    },
    "scrolled": true
   },
   "outputs": [
    {
     "data": {
      "image/png": "[encoded data removed]",
      "text/plain": [
       "<Figure size 288x288 with 1 Axes>"
      ]
     },
     "metadata": {
      "needs_background": "light"
     },
     "output_type": "display_data"
    }
   ],
   "source": [
    "sns.lmplot(x='sqft', y='price', data=sf, height=4);"
   ]
  },
  {
   "cell_type": "code",
   "execution_count": 11,
   "metadata": {
    "ExecuteTime": {
     "end_time": "2020-10-04T22:31:02.052124Z",
     "start_time": "2020-10-04T22:31:02.046712Z"
    }
   },
   "outputs": [
    {
     "data": {
      "text/plain": [
       "LinearRegression()"
      ]
     },
     "execution_count": 11,
     "metadata": {},
     "output_type": "execute_result"
    }
   ],
   "source": [
    "#Create an empty model\n",
    "lr = LinearRegression()\n",
    "\n",
    "# Choose just the X1 column for our data\n",
    "# If using just ONE feature, we should apply `.values.reshape(-1, 1)`\n",
    "X = sf['sqft'].values.reshape(-1, 1)\n",
    "\n",
    "# Choose the response variable\n",
    "y = sf['price']\n",
    "\n",
    "# Fit the model \n",
    "lr.fit(X, y)"
   ]
  },
  {
   "cell_type": "code",
   "execution_count": 12,
   "metadata": {
    "ExecuteTime": {
     "end_time": "2020-10-04T22:31:02.056887Z",
     "start_time": "2020-10-04T22:31:02.053315Z"
    }
   },
   "outputs": [
    {
     "data": {
      "text/plain": [
       "0.6986176510656257"
      ]
     },
     "execution_count": 12,
     "metadata": {},
     "output_type": "execute_result"
    }
   ],
   "source": [
    "lr.score(X,y)"
   ]
  },
  {
   "cell_type": "markdown",
   "metadata": {},
   "source": [
    "#### Multiple independent variables"
   ]
  },
  {
   "cell_type": "code",
   "execution_count": 13,
   "metadata": {
    "ExecuteTime": {
     "end_time": "2020-10-04T22:31:02.066610Z",
     "start_time": "2020-10-04T22:31:02.058001Z"
    }
   },
   "outputs": [
    {
     "data": {
      "text/html": [
       "<div>\n",
       "<style scoped>\n",
       "    .dataframe tbody tr th:only-of-type {\n",
       "        vertical-align: middle;\n",
       "    }\n",
       "\n",
       "    .dataframe tbody tr th {\n",
       "        vertical-align: top;\n",
       "    }\n",
       "\n",
       "    .dataframe thead th {\n",
       "        text-align: right;\n",
       "    }\n",
       "</style>\n",
       "<table border=\"1\" class=\"dataframe\">\n",
       "  <thead>\n",
       "    <tr style=\"text-align: right;\">\n",
       "      <th></th>\n",
       "      <th>price</th>\n",
       "      <th>sqft</th>\n",
       "      <th>beds</th>\n",
       "      <th>bath</th>\n",
       "      <th>laundry</th>\n",
       "      <th>pets</th>\n",
       "      <th>housing_type</th>\n",
       "      <th>parking</th>\n",
       "      <th>hood_district</th>\n",
       "    </tr>\n",
       "  </thead>\n",
       "  <tbody>\n",
       "    <tr>\n",
       "      <th>0</th>\n",
       "      <td>6800</td>\n",
       "      <td>1600.0</td>\n",
       "      <td>2.0</td>\n",
       "      <td>2.0</td>\n",
       "      <td>in-unit</td>\n",
       "      <td>no-pets</td>\n",
       "      <td>apt</td>\n",
       "      <td>protected</td>\n",
       "      <td>7.0</td>\n",
       "    </tr>\n",
       "    <tr>\n",
       "      <th>1</th>\n",
       "      <td>3500</td>\n",
       "      <td>550.0</td>\n",
       "      <td>1.0</td>\n",
       "      <td>1.0</td>\n",
       "      <td>in-unit</td>\n",
       "      <td>both</td>\n",
       "      <td>apt</td>\n",
       "      <td>protected</td>\n",
       "      <td>7.0</td>\n",
       "    </tr>\n",
       "    <tr>\n",
       "      <th>2</th>\n",
       "      <td>5100</td>\n",
       "      <td>1300.0</td>\n",
       "      <td>2.0</td>\n",
       "      <td>1.0</td>\n",
       "      <td>in-unit</td>\n",
       "      <td>both</td>\n",
       "      <td>apt</td>\n",
       "      <td>NaN</td>\n",
       "      <td>7.0</td>\n",
       "    </tr>\n",
       "  </tbody>\n",
       "</table>\n",
       "</div>"
      ],
      "text/plain": [
       "   price    sqft  beds  bath  laundry     pets housing_type    parking  \\\n",
       "0   6800  1600.0   2.0   2.0  in-unit  no-pets          apt  protected   \n",
       "1   3500   550.0   1.0   1.0  in-unit     both          apt  protected   \n",
       "2   5100  1300.0   2.0   1.0  in-unit     both          apt        NaN   \n",
       "\n",
       "  hood_district  \n",
       "0           7.0  \n",
       "1           7.0  \n",
       "2           7.0  "
      ]
     },
     "execution_count": 13,
     "metadata": {},
     "output_type": "execute_result"
    }
   ],
   "source": [
    "sf.head(3)"
   ]
  },
  {
   "cell_type": "code",
   "execution_count": 14,
   "metadata": {
    "ExecuteTime": {
     "end_time": "2020-10-04T22:31:02.075797Z",
     "start_time": "2020-10-04T22:31:02.068075Z"
    }
   },
   "outputs": [
    {
     "data": {
      "text/plain": [
       "0.7159141709042369"
      ]
     },
     "execution_count": 14,
     "metadata": {},
     "output_type": "execute_result"
    }
   ],
   "source": [
    "model = LinearRegression()\n",
    "\n",
    "# Construct the data matrix, X, using X1 and X3 as features\n",
    "# Hint: now that you have more than one feature, you can work with dataframes \n",
    "X = sf[['sqft', 'beds', 'bath']]\n",
    "\n",
    "# Choose the response variable\n",
    "y = sf['price']\n",
    "\n",
    "# Fit the model \n",
    "model.fit(X, y)\n",
    "\n",
    "# Score the model (with R^2)\n",
    "model.score(X, y)"
   ]
  },
  {
   "cell_type": "code",
   "execution_count": 15,
   "metadata": {
    "ExecuteTime": {
     "end_time": "2020-10-04T22:31:02.080665Z",
     "start_time": "2020-10-04T22:31:02.077580Z"
    },
    "scrolled": true
   },
   "outputs": [
    {
     "name": "stdout",
     "output_type": "stream",
     "text": [
      "Intercept:  666.8587955481671\n",
      "Coefficients:  [  2.18711602  69.67558797 485.40763346]\n"
     ]
    }
   ],
   "source": [
    "# print out intercept\n",
    "print(\"Intercept: \", model.intercept_)\n",
    "\n",
    "# print out other coefficients\n",
    "print(\"Coefficients: \", model.coef_)"
   ]
  },
  {
   "cell_type": "code",
   "execution_count": null,
   "metadata": {},
   "outputs": [],
   "source": []
  },
  {
   "cell_type": "code",
   "execution_count": null,
   "metadata": {},
   "outputs": [],
   "source": []
  },
  {
   "cell_type": "markdown",
   "metadata": {},
   "source": [
    "#### Model"
   ]
  },
  {
   "cell_type": "code",
   "execution_count": 16,
   "metadata": {
    "ExecuteTime": {
     "end_time": "2020-10-04T22:31:02.100938Z",
     "start_time": "2020-10-04T22:31:02.082600Z"
    }
   },
   "outputs": [
    {
     "data": {
      "text/html": [
       "<table class=\"simpletable\">\n",
       "<caption>OLS Regression Results</caption>\n",
       "<tr>\n",
       "  <th>Dep. Variable:</th>          <td>price</td>      <th>  R-squared:         </th> <td>   0.716</td> \n",
       "</tr>\n",
       "<tr>\n",
       "  <th>Model:</th>                   <td>OLS</td>       <th>  Adj. R-squared:    </th> <td>   0.715</td> \n",
       "</tr>\n",
       "<tr>\n",
       "  <th>Method:</th>             <td>Least Squares</td>  <th>  F-statistic:       </th> <td>   827.4</td> \n",
       "</tr>\n",
       "<tr>\n",
       "  <th>Date:</th>             <td>Sun, 04 Oct 2020</td> <th>  Prob (F-statistic):</th> <td>1.41e-268</td>\n",
       "</tr>\n",
       "<tr>\n",
       "  <th>Time:</th>                 <td>15:31:02</td>     <th>  Log-Likelihood:    </th> <td> -8043.3</td> \n",
       "</tr>\n",
       "<tr>\n",
       "  <th>No. Observations:</th>      <td>   989</td>      <th>  AIC:               </th> <td>1.609e+04</td>\n",
       "</tr>\n",
       "<tr>\n",
       "  <th>Df Residuals:</th>          <td>   985</td>      <th>  BIC:               </th> <td>1.611e+04</td>\n",
       "</tr>\n",
       "<tr>\n",
       "  <th>Df Model:</th>              <td>     3</td>      <th>                     </th>     <td> </td>    \n",
       "</tr>\n",
       "<tr>\n",
       "  <th>Covariance Type:</th>      <td>nonrobust</td>    <th>                     </th>     <td> </td>    \n",
       "</tr>\n",
       "</table>\n",
       "<table class=\"simpletable\">\n",
       "<tr>\n",
       "    <td></td>       <th>coef</th>     <th>std err</th>      <th>t</th>      <th>P>|t|</th>  <th>[0.025</th>    <th>0.975]</th>  \n",
       "</tr>\n",
       "<tr>\n",
       "  <th>const</th> <td>  666.8588</td> <td>   71.135</td> <td>    9.375</td> <td> 0.000</td> <td>  527.265</td> <td>  806.452</td>\n",
       "</tr>\n",
       "<tr>\n",
       "  <th>sqft</th>  <td>    2.1871</td> <td>    0.098</td> <td>   22.353</td> <td> 0.000</td> <td>    1.995</td> <td>    2.379</td>\n",
       "</tr>\n",
       "<tr>\n",
       "  <th>beds</th>  <td>   69.6756</td> <td>   38.462</td> <td>    1.812</td> <td> 0.070</td> <td>   -5.800</td> <td>  145.152</td>\n",
       "</tr>\n",
       "<tr>\n",
       "  <th>bath</th>  <td>  485.4076</td> <td>   68.383</td> <td>    7.098</td> <td> 0.000</td> <td>  351.214</td> <td>  619.601</td>\n",
       "</tr>\n",
       "</table>\n",
       "<table class=\"simpletable\">\n",
       "<tr>\n",
       "  <th>Omnibus:</th>       <td>836.353</td> <th>  Durbin-Watson:     </th> <td>   1.808</td> \n",
       "</tr>\n",
       "<tr>\n",
       "  <th>Prob(Omnibus):</th> <td> 0.000</td>  <th>  Jarque-Bera (JB):  </th> <td>64804.091</td>\n",
       "</tr>\n",
       "<tr>\n",
       "  <th>Skew:</th>          <td> 3.360</td>  <th>  Prob(JB):          </th> <td>    0.00</td> \n",
       "</tr>\n",
       "<tr>\n",
       "  <th>Kurtosis:</th>      <td>42.082</td>  <th>  Cond. No.          </th> <td>3.59e+03</td> \n",
       "</tr>\n",
       "</table><br/><br/>Notes:<br/>[1] Standard Errors assume that the covariance matrix of the errors is correctly specified.<br/>[2] The condition number is large, 3.59e+03. This might indicate that there are<br/>strong multicollinearity or other numerical problems."
      ],
      "text/plain": [
       "<class 'statsmodels.iolib.summary.Summary'>\n",
       "\"\"\"\n",
       "                            OLS Regression Results                            \n",
       "==============================================================================\n",
       "Dep. Variable:                  price   R-squared:                       0.716\n",
       "Model:                            OLS   Adj. R-squared:                  0.715\n",
       "Method:                 Least Squares   F-statistic:                     827.4\n",
       "Date:                Sun, 04 Oct 2020   Prob (F-statistic):          1.41e-268\n",
       "Time:                        15:31:02   Log-Likelihood:                -8043.3\n",
       "No. Observations:                 989   AIC:                         1.609e+04\n",
       "Df Residuals:                     985   BIC:                         1.611e+04\n",
       "Df Model:                           3                                         \n",
       "Covariance Type:            nonrobust                                         \n",
       "==============================================================================\n",
       "                 coef    std err          t      P>|t|      [0.025      0.975]\n",
       "------------------------------------------------------------------------------\n",
       "const        666.8588     71.135      9.375      0.000     527.265     806.452\n",
       "sqft           2.1871      0.098     22.353      0.000       1.995       2.379\n",
       "beds          69.6756     38.462      1.812      0.070      -5.800     145.152\n",
       "bath         485.4076     68.383      7.098      0.000     351.214     619.601\n",
       "==============================================================================\n",
       "Omnibus:                      836.353   Durbin-Watson:                   1.808\n",
       "Prob(Omnibus):                  0.000   Jarque-Bera (JB):            64804.091\n",
       "Skew:                           3.360   Prob(JB):                         0.00\n",
       "Kurtosis:                      42.082   Cond. No.                     3.59e+03\n",
       "==============================================================================\n",
       "\n",
       "Notes:\n",
       "[1] Standard Errors assume that the covariance matrix of the errors is correctly specified.\n",
       "[2] The condition number is large, 3.59e+03. This might indicate that there are\n",
       "strong multicollinearity or other numerical problems.\n",
       "\"\"\""
      ]
     },
     "execution_count": 16,
     "metadata": {},
     "output_type": "execute_result"
    }
   ],
   "source": [
    "features = ['sqft', 'beds', 'bath']\n",
    "\n",
    "model = LinearRegression()\n",
    "\n",
    "# Construct the data matrix, X, using X1 and X3 as features\n",
    "# Hint: now that you have more than one feature, you can work with dataframes \n",
    "X = sf[features]\n",
    "X = sm.add_constant(X)\n",
    "\n",
    "# Choose the response variable\n",
    "y = sf['price']\n",
    "\n",
    "# Fit the model \n",
    "lm = sm.OLS(y, X)\n",
    "lm = lm.fit()\n",
    "\n",
    "# Score the model (with R^2)\n",
    "lm.summary()"
   ]
  },
  {
   "cell_type": "code",
   "execution_count": null,
   "metadata": {},
   "outputs": [],
   "source": []
  },
  {
   "cell_type": "markdown",
   "metadata": {},
   "source": [
    "## Using Dummy Variables"
   ]
  },
  {
   "cell_type": "code",
   "execution_count": 17,
   "metadata": {
    "ExecuteTime": {
     "end_time": "2020-10-04T22:31:02.113648Z",
     "start_time": "2020-10-04T22:31:02.102939Z"
    }
   },
   "outputs": [
    {
     "data": {
      "text/html": [
       "<div>\n",
       "<style scoped>\n",
       "    .dataframe tbody tr th:only-of-type {\n",
       "        vertical-align: middle;\n",
       "    }\n",
       "\n",
       "    .dataframe tbody tr th {\n",
       "        vertical-align: top;\n",
       "    }\n",
       "\n",
       "    .dataframe thead th {\n",
       "        text-align: right;\n",
       "    }\n",
       "</style>\n",
       "<table border=\"1\" class=\"dataframe\">\n",
       "  <thead>\n",
       "    <tr style=\"text-align: right;\">\n",
       "      <th></th>\n",
       "      <th>price</th>\n",
       "      <th>sqft</th>\n",
       "      <th>beds</th>\n",
       "      <th>bath</th>\n",
       "      <th>laundry</th>\n",
       "      <th>pets</th>\n",
       "      <th>housing_type</th>\n",
       "      <th>parking</th>\n",
       "      <th>hood_district</th>\n",
       "    </tr>\n",
       "  </thead>\n",
       "  <tbody>\n",
       "    <tr>\n",
       "      <th>0</th>\n",
       "      <td>6800</td>\n",
       "      <td>1600.0</td>\n",
       "      <td>2.0</td>\n",
       "      <td>2.0</td>\n",
       "      <td>in-unit</td>\n",
       "      <td>no-pets</td>\n",
       "      <td>apt</td>\n",
       "      <td>protected</td>\n",
       "      <td>7.0</td>\n",
       "    </tr>\n",
       "    <tr>\n",
       "      <th>1</th>\n",
       "      <td>3500</td>\n",
       "      <td>550.0</td>\n",
       "      <td>1.0</td>\n",
       "      <td>1.0</td>\n",
       "      <td>in-unit</td>\n",
       "      <td>both</td>\n",
       "      <td>apt</td>\n",
       "      <td>protected</td>\n",
       "      <td>7.0</td>\n",
       "    </tr>\n",
       "    <tr>\n",
       "      <th>2</th>\n",
       "      <td>5100</td>\n",
       "      <td>1300.0</td>\n",
       "      <td>2.0</td>\n",
       "      <td>1.0</td>\n",
       "      <td>in-unit</td>\n",
       "      <td>both</td>\n",
       "      <td>apt</td>\n",
       "      <td>NaN</td>\n",
       "      <td>7.0</td>\n",
       "    </tr>\n",
       "  </tbody>\n",
       "</table>\n",
       "</div>"
      ],
      "text/plain": [
       "   price    sqft  beds  bath  laundry     pets housing_type    parking  \\\n",
       "0   6800  1600.0   2.0   2.0  in-unit  no-pets          apt  protected   \n",
       "1   3500   550.0   1.0   1.0  in-unit     both          apt  protected   \n",
       "2   5100  1300.0   2.0   1.0  in-unit     both          apt        NaN   \n",
       "\n",
       "  hood_district  \n",
       "0           7.0  \n",
       "1           7.0  \n",
       "2           7.0  "
      ]
     },
     "execution_count": 17,
     "metadata": {},
     "output_type": "execute_result"
    }
   ],
   "source": [
    "sf.head(3)"
   ]
  },
  {
   "cell_type": "code",
   "execution_count": 18,
   "metadata": {
    "ExecuteTime": {
     "end_time": "2020-10-04T22:31:02.118945Z",
     "start_time": "2020-10-04T22:31:02.115392Z"
    }
   },
   "outputs": [
    {
     "data": {
      "text/plain": [
       "10"
      ]
     },
     "execution_count": 18,
     "metadata": {},
     "output_type": "execute_result"
    }
   ],
   "source": [
    "sf['hood_district'].nunique()"
   ]
  },
  {
   "cell_type": "code",
   "execution_count": 19,
   "metadata": {
    "ExecuteTime": {
     "end_time": "2020-10-04T22:31:02.129398Z",
     "start_time": "2020-10-04T22:31:02.120497Z"
    }
   },
   "outputs": [
    {
     "data": {
      "text/html": [
       "<div>\n",
       "<style scoped>\n",
       "    .dataframe tbody tr th:only-of-type {\n",
       "        vertical-align: middle;\n",
       "    }\n",
       "\n",
       "    .dataframe tbody tr th {\n",
       "        vertical-align: top;\n",
       "    }\n",
       "\n",
       "    .dataframe thead th {\n",
       "        text-align: right;\n",
       "    }\n",
       "</style>\n",
       "<table border=\"1\" class=\"dataframe\">\n",
       "  <thead>\n",
       "    <tr style=\"text-align: right;\">\n",
       "      <th></th>\n",
       "      <th>1.0</th>\n",
       "      <th>10.0</th>\n",
       "      <th>2.0</th>\n",
       "      <th>3.0</th>\n",
       "      <th>4.0</th>\n",
       "      <th>5.0</th>\n",
       "      <th>6.0</th>\n",
       "      <th>7.0</th>\n",
       "      <th>8.0</th>\n",
       "      <th>9.0</th>\n",
       "    </tr>\n",
       "  </thead>\n",
       "  <tbody>\n",
       "    <tr>\n",
       "      <th>0</th>\n",
       "      <td>0</td>\n",
       "      <td>0</td>\n",
       "      <td>0</td>\n",
       "      <td>0</td>\n",
       "      <td>0</td>\n",
       "      <td>0</td>\n",
       "      <td>0</td>\n",
       "      <td>1</td>\n",
       "      <td>0</td>\n",
       "      <td>0</td>\n",
       "    </tr>\n",
       "    <tr>\n",
       "      <th>1</th>\n",
       "      <td>0</td>\n",
       "      <td>0</td>\n",
       "      <td>0</td>\n",
       "      <td>0</td>\n",
       "      <td>0</td>\n",
       "      <td>0</td>\n",
       "      <td>0</td>\n",
       "      <td>1</td>\n",
       "      <td>0</td>\n",
       "      <td>0</td>\n",
       "    </tr>\n",
       "    <tr>\n",
       "      <th>2</th>\n",
       "      <td>0</td>\n",
       "      <td>0</td>\n",
       "      <td>0</td>\n",
       "      <td>0</td>\n",
       "      <td>0</td>\n",
       "      <td>0</td>\n",
       "      <td>0</td>\n",
       "      <td>1</td>\n",
       "      <td>0</td>\n",
       "      <td>0</td>\n",
       "    </tr>\n",
       "    <tr>\n",
       "      <th>3</th>\n",
       "      <td>0</td>\n",
       "      <td>0</td>\n",
       "      <td>0</td>\n",
       "      <td>0</td>\n",
       "      <td>0</td>\n",
       "      <td>0</td>\n",
       "      <td>0</td>\n",
       "      <td>1</td>\n",
       "      <td>0</td>\n",
       "      <td>0</td>\n",
       "    </tr>\n",
       "    <tr>\n",
       "      <th>4</th>\n",
       "      <td>0</td>\n",
       "      <td>0</td>\n",
       "      <td>0</td>\n",
       "      <td>0</td>\n",
       "      <td>0</td>\n",
       "      <td>0</td>\n",
       "      <td>0</td>\n",
       "      <td>1</td>\n",
       "      <td>0</td>\n",
       "      <td>0</td>\n",
       "    </tr>\n",
       "  </tbody>\n",
       "</table>\n",
       "</div>"
      ],
      "text/plain": [
       "   1.0  10.0  2.0  3.0  4.0  5.0  6.0  7.0  8.0  9.0\n",
       "0    0     0    0    0    0    0    0    1    0    0\n",
       "1    0     0    0    0    0    0    0    1    0    0\n",
       "2    0     0    0    0    0    0    0    1    0    0\n",
       "3    0     0    0    0    0    0    0    1    0    0\n",
       "4    0     0    0    0    0    0    0    1    0    0"
      ]
     },
     "execution_count": 19,
     "metadata": {},
     "output_type": "execute_result"
    }
   ],
   "source": [
    "pd.get_dummies(sf['hood_district']).head()"
   ]
  },
  {
   "cell_type": "code",
   "execution_count": null,
   "metadata": {
    "ExecuteTime": {
     "end_time": "2020-10-04T22:24:01.915688Z",
     "start_time": "2020-10-04T22:24:01.912693Z"
    }
   },
   "outputs": [],
   "source": []
  },
  {
   "cell_type": "code",
   "execution_count": 20,
   "metadata": {
    "ExecuteTime": {
     "end_time": "2020-10-04T22:31:02.137026Z",
     "start_time": "2020-10-04T22:31:02.131169Z"
    }
   },
   "outputs": [
    {
     "data": {
      "text/plain": [
       "price              int64\n",
       "sqft             float64\n",
       "beds             float64\n",
       "bath             float64\n",
       "laundry           object\n",
       "pets              object\n",
       "housing_type      object\n",
       "parking           object\n",
       "hood_district     object\n",
       "dtype: object"
      ]
     },
     "execution_count": 20,
     "metadata": {},
     "output_type": "execute_result"
    }
   ],
   "source": [
    "sf.dtypes"
   ]
  },
  {
   "cell_type": "code",
   "execution_count": 21,
   "metadata": {
    "ExecuteTime": {
     "end_time": "2020-10-04T22:31:02.148571Z",
     "start_time": "2020-10-04T22:31:02.139036Z"
    }
   },
   "outputs": [],
   "source": [
    "sf_dummy = pd.get_dummies(sf)"
   ]
  },
  {
   "cell_type": "code",
   "execution_count": 22,
   "metadata": {
    "ExecuteTime": {
     "end_time": "2020-10-04T22:31:02.169415Z",
     "start_time": "2020-10-04T22:31:02.153676Z"
    }
   },
   "outputs": [
    {
     "data": {
      "text/html": [
       "<div>\n",
       "<style scoped>\n",
       "    .dataframe tbody tr th:only-of-type {\n",
       "        vertical-align: middle;\n",
       "    }\n",
       "\n",
       "    .dataframe tbody tr th {\n",
       "        vertical-align: top;\n",
       "    }\n",
       "\n",
       "    .dataframe thead th {\n",
       "        text-align: right;\n",
       "    }\n",
       "</style>\n",
       "<table border=\"1\" class=\"dataframe\">\n",
       "  <thead>\n",
       "    <tr style=\"text-align: right;\">\n",
       "      <th></th>\n",
       "      <th>price</th>\n",
       "      <th>sqft</th>\n",
       "      <th>beds</th>\n",
       "      <th>bath</th>\n",
       "      <th>laundry_in-unit</th>\n",
       "      <th>laundry_on-site</th>\n",
       "      <th>pets_both</th>\n",
       "      <th>pets_cats</th>\n",
       "      <th>pets_dogs</th>\n",
       "      <th>pets_no-pets</th>\n",
       "      <th>...</th>\n",
       "      <th>hood_district_1.0</th>\n",
       "      <th>hood_district_10.0</th>\n",
       "      <th>hood_district_2.0</th>\n",
       "      <th>hood_district_3.0</th>\n",
       "      <th>hood_district_4.0</th>\n",
       "      <th>hood_district_5.0</th>\n",
       "      <th>hood_district_6.0</th>\n",
       "      <th>hood_district_7.0</th>\n",
       "      <th>hood_district_8.0</th>\n",
       "      <th>hood_district_9.0</th>\n",
       "    </tr>\n",
       "  </thead>\n",
       "  <tbody>\n",
       "    <tr>\n",
       "      <th>0</th>\n",
       "      <td>6800</td>\n",
       "      <td>1600.0</td>\n",
       "      <td>2.0</td>\n",
       "      <td>2.0</td>\n",
       "      <td>1</td>\n",
       "      <td>0</td>\n",
       "      <td>0</td>\n",
       "      <td>0</td>\n",
       "      <td>0</td>\n",
       "      <td>1</td>\n",
       "      <td>...</td>\n",
       "      <td>0</td>\n",
       "      <td>0</td>\n",
       "      <td>0</td>\n",
       "      <td>0</td>\n",
       "      <td>0</td>\n",
       "      <td>0</td>\n",
       "      <td>0</td>\n",
       "      <td>1</td>\n",
       "      <td>0</td>\n",
       "      <td>0</td>\n",
       "    </tr>\n",
       "    <tr>\n",
       "      <th>1</th>\n",
       "      <td>3500</td>\n",
       "      <td>550.0</td>\n",
       "      <td>1.0</td>\n",
       "      <td>1.0</td>\n",
       "      <td>1</td>\n",
       "      <td>0</td>\n",
       "      <td>1</td>\n",
       "      <td>0</td>\n",
       "      <td>0</td>\n",
       "      <td>0</td>\n",
       "      <td>...</td>\n",
       "      <td>0</td>\n",
       "      <td>0</td>\n",
       "      <td>0</td>\n",
       "      <td>0</td>\n",
       "      <td>0</td>\n",
       "      <td>0</td>\n",
       "      <td>0</td>\n",
       "      <td>1</td>\n",
       "      <td>0</td>\n",
       "      <td>0</td>\n",
       "    </tr>\n",
       "    <tr>\n",
       "      <th>2</th>\n",
       "      <td>5100</td>\n",
       "      <td>1300.0</td>\n",
       "      <td>2.0</td>\n",
       "      <td>1.0</td>\n",
       "      <td>1</td>\n",
       "      <td>0</td>\n",
       "      <td>1</td>\n",
       "      <td>0</td>\n",
       "      <td>0</td>\n",
       "      <td>0</td>\n",
       "      <td>...</td>\n",
       "      <td>0</td>\n",
       "      <td>0</td>\n",
       "      <td>0</td>\n",
       "      <td>0</td>\n",
       "      <td>0</td>\n",
       "      <td>0</td>\n",
       "      <td>0</td>\n",
       "      <td>1</td>\n",
       "      <td>0</td>\n",
       "      <td>0</td>\n",
       "    </tr>\n",
       "    <tr>\n",
       "      <th>3</th>\n",
       "      <td>9000</td>\n",
       "      <td>3500.0</td>\n",
       "      <td>3.0</td>\n",
       "      <td>2.5</td>\n",
       "      <td>1</td>\n",
       "      <td>0</td>\n",
       "      <td>0</td>\n",
       "      <td>0</td>\n",
       "      <td>0</td>\n",
       "      <td>1</td>\n",
       "      <td>...</td>\n",
       "      <td>0</td>\n",
       "      <td>0</td>\n",
       "      <td>0</td>\n",
       "      <td>0</td>\n",
       "      <td>0</td>\n",
       "      <td>0</td>\n",
       "      <td>0</td>\n",
       "      <td>1</td>\n",
       "      <td>0</td>\n",
       "      <td>0</td>\n",
       "    </tr>\n",
       "    <tr>\n",
       "      <th>4</th>\n",
       "      <td>3100</td>\n",
       "      <td>561.0</td>\n",
       "      <td>1.0</td>\n",
       "      <td>1.0</td>\n",
       "      <td>0</td>\n",
       "      <td>0</td>\n",
       "      <td>1</td>\n",
       "      <td>0</td>\n",
       "      <td>0</td>\n",
       "      <td>0</td>\n",
       "      <td>...</td>\n",
       "      <td>0</td>\n",
       "      <td>0</td>\n",
       "      <td>0</td>\n",
       "      <td>0</td>\n",
       "      <td>0</td>\n",
       "      <td>0</td>\n",
       "      <td>0</td>\n",
       "      <td>1</td>\n",
       "      <td>0</td>\n",
       "      <td>0</td>\n",
       "    </tr>\n",
       "  </tbody>\n",
       "</table>\n",
       "<p>5 rows × 26 columns</p>\n",
       "</div>"
      ],
      "text/plain": [
       "   price    sqft  beds  bath  laundry_in-unit  laundry_on-site  pets_both  \\\n",
       "0   6800  1600.0   2.0   2.0                1                0          0   \n",
       "1   3500   550.0   1.0   1.0                1                0          1   \n",
       "2   5100  1300.0   2.0   1.0                1                0          1   \n",
       "3   9000  3500.0   3.0   2.5                1                0          0   \n",
       "4   3100   561.0   1.0   1.0                0                0          1   \n",
       "\n",
       "   pets_cats  pets_dogs  pets_no-pets  ...  hood_district_1.0  \\\n",
       "0          0          0             1  ...                  0   \n",
       "1          0          0             0  ...                  0   \n",
       "2          0          0             0  ...                  0   \n",
       "3          0          0             1  ...                  0   \n",
       "4          0          0             0  ...                  0   \n",
       "\n",
       "   hood_district_10.0  hood_district_2.0  hood_district_3.0  \\\n",
       "0                   0                  0                  0   \n",
       "1                   0                  0                  0   \n",
       "2                   0                  0                  0   \n",
       "3                   0                  0                  0   \n",
       "4                   0                  0                  0   \n",
       "\n",
       "   hood_district_4.0  hood_district_5.0  hood_district_6.0  hood_district_7.0  \\\n",
       "0                  0                  0                  0                  1   \n",
       "1                  0                  0                  0                  1   \n",
       "2                  0                  0                  0                  1   \n",
       "3                  0                  0                  0                  1   \n",
       "4                  0                  0                  0                  1   \n",
       "\n",
       "   hood_district_8.0  hood_district_9.0  \n",
       "0                  0                  0  \n",
       "1                  0                  0  \n",
       "2                  0                  0  \n",
       "3                  0                  0  \n",
       "4                  0                  0  \n",
       "\n",
       "[5 rows x 26 columns]"
      ]
     },
     "execution_count": 22,
     "metadata": {},
     "output_type": "execute_result"
    }
   ],
   "source": [
    "sf_dummy.head()"
   ]
  },
  {
   "cell_type": "code",
   "execution_count": 23,
   "metadata": {
    "ExecuteTime": {
     "end_time": "2020-10-04T22:31:02.178175Z",
     "start_time": "2020-10-04T22:31:02.171888Z"
    }
   },
   "outputs": [],
   "source": [
    "from sklearn.model_selection import train_test_split\n",
    "from sklearn.linear_model import LinearRegression, Ridge #ordinary linear regression + w/ ridge regularization\n",
    "from sklearn.preprocessing import StandardScaler, PolynomialFeatures\n",
    "\n",
    "X, y = sf_dummy.drop('price',axis=1), sf_dummy['price']\n",
    "\n",
    "# hold out 20% of the data for final testing\n",
    "X, X_test, y, y_test = train_test_split(X, y, test_size=.2, random_state=10)"
   ]
  },
  {
   "cell_type": "code",
   "execution_count": 24,
   "metadata": {
    "ExecuteTime": {
     "end_time": "2020-10-04T22:31:02.184397Z",
     "start_time": "2020-10-04T22:31:02.179758Z"
    }
   },
   "outputs": [],
   "source": [
    "X_train, X_val, y_train, y_val = train_test_split(X, y, test_size=.25, random_state=37)"
   ]
  },
  {
   "cell_type": "code",
   "execution_count": 25,
   "metadata": {
    "ExecuteTime": {
     "end_time": "2020-10-04T22:31:02.194684Z",
     "start_time": "2020-10-04T22:31:02.186035Z"
    }
   },
   "outputs": [],
   "source": [
    "#set up the 3 models we're choosing from:\n",
    "\n",
    "lm = LinearRegression()\n",
    "\n",
    "#Feature scaling for train, val, and test so that we can run our ridge model on each\n",
    "scaler = StandardScaler()\n",
    "\n",
    "X_train_scaled = scaler.fit_transform(X_train.values)\n",
    "X_val_scaled = scaler.transform(X_val.values)\n",
    "X_test_scaled = scaler.transform(X_test.values)\n",
    "\n",
    "lm_reg = Ridge(alpha=1)\n",
    "\n",
    "#Feature transforms for train, val, and test so that we can run our poly model on each\n",
    "poly = PolynomialFeatures(degree=2) \n",
    "\n",
    "X_train_poly = poly.fit_transform(X_train.values)\n",
    "X_val_poly = poly.transform(X_val.values)\n",
    "X_test_poly = poly.transform(X_test.values)\n",
    "\n",
    "lm_poly = LinearRegression()"
   ]
  },
  {
   "cell_type": "code",
   "execution_count": 26,
   "metadata": {
    "ExecuteTime": {
     "end_time": "2020-10-04T22:31:02.285533Z",
     "start_time": "2020-10-04T22:31:02.196280Z"
    }
   },
   "outputs": [
    {
     "name": "stdout",
     "output_type": "stream",
     "text": [
      "Linear Regression val R^2: 0.806\n",
      "Ridge Regression val R^2: 0.807\n",
      "Degree 2 polynomial regression val R^2: 0.602\n"
     ]
    }
   ],
   "source": [
    "#validate\n",
    "\n",
    "lm.fit(X_train, y_train)\n",
    "print(f'Linear Regression val R^2: {lm.score(X_val, y_val):.3f}')\n",
    "\n",
    "lm_reg.fit(X_train_scaled, y_train)\n",
    "print(f'Ridge Regression val R^2: {lm_reg.score(X_val_scaled, y_val):.3f}')\n",
    "\n",
    "lm_poly.fit(X_train_poly, y_train)\n",
    "print(f'Degree 2 polynomial regression val R^2: {lm_poly.score(X_val_poly, y_val):.3f}')"
   ]
  },
  {
   "cell_type": "code",
   "execution_count": 27,
   "metadata": {
    "ExecuteTime": {
     "end_time": "2020-10-04T22:31:02.290729Z",
     "start_time": "2020-10-04T22:31:02.287191Z"
    }
   },
   "outputs": [
    {
     "name": "stdout",
     "output_type": "stream",
     "text": [
      "('sqft', 1.8553434167787786)\n",
      "('beds', 200.28086921345306)\n",
      "('bath', 368.93161717005484)\n",
      "('laundry_in-unit', 355.7520971923149)\n",
      "('laundry_on-site', 46.34510484432353)\n",
      "('pets_both', -116.73722029282673)\n",
      "('pets_cats', -23.52493668251037)\n",
      "('pets_dogs', 177.74346396425736)\n",
      "('pets_no-pets', -37.48130698892047)\n",
      "('housing_type_apt', 12.979955947048706)\n",
      "('housing_type_house', -62.78145551813953)\n",
      "('housing_type_multi', 49.80149957109018)\n",
      "('parking_off-street', 255.913476892889)\n",
      "('parking_protected', 127.29989799813356)\n",
      "('parking_valet', 1504.697498794895)\n",
      "('hood_district_1.0', -60.27762823834867)\n",
      "('hood_district_10.0', -796.6973226035591)\n",
      "('hood_district_2.0', -169.1841654064191)\n",
      "('hood_district_3.0', -173.43335422054986)\n",
      "('hood_district_4.0', 61.16810938160543)\n",
      "('hood_district_5.0', 307.3864790652955)\n",
      "('hood_district_6.0', 174.27010684569203)\n",
      "('hood_district_7.0', 360.4493929057114)\n",
      "('hood_district_8.0', 202.90961904873123)\n",
      "('hood_district_9.0', 93.4087632218404)\n"
     ]
    }
   ],
   "source": [
    "coefs = lm.coef_\n",
    "columns = sf_dummy.columns[1:]\n",
    "\n",
    "for pair in zip(columns, coefs):\n",
    "    print(pair)"
   ]
  }
 ],
 "metadata": {
  "kernelspec": {
   "display_name": "Python [conda env:metis] *",
   "language": "python",
   "name": "conda-env-metis-py"
  },
  "language_info": {
   "codemirror_mode": {
    "name": "ipython",
    "version": 3
   },
   "file_extension": ".py",
   "mimetype": "text/x-python",
   "name": "python",
   "nbconvert_exporter": "python",
   "pygments_lexer": "ipython3",
   "version": "3.8.5"
  },
  "toc": {
   "base_numbering": 1,
   "nav_menu": {},
   "number_sections": true,
   "sideBar": true,
   "skip_h1_title": false,
   "title_cell": "Table of Contents",
   "title_sidebar": "Contents",
   "toc_cell": false,
   "toc_position": {},
   "toc_section_display": true,
   "toc_window_display": true
  }
 },
 "nbformat": 4,
 "nbformat_minor": 4
}
