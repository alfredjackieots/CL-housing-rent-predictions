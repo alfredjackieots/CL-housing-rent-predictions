{
 "cells": [
  {
   "cell_type": "markdown",
   "metadata": {},
   "source": [
    "# Full listing page & individual post scrape test"
   ]
  },
  {
   "cell_type": "code",
   "execution_count": 1,
   "metadata": {
    "ExecuteTime": {
     "end_time": "2020-10-01T03:43:01.606125Z",
     "start_time": "2020-10-01T03:43:01.004344Z"
    }
   },
   "outputs": [],
   "source": [
    "from bs4 import BeautifulSoup\n",
    "import requests\n",
    "\n",
    "import pandas as pd\n",
    "import numpy as np\n",
    "\n",
    "%matplotlib inline\n",
    "import matplotlib as plt\n",
    "\n",
    "from scrape_craigslist import *"
   ]
  },
  {
   "cell_type": "code",
   "execution_count": 2,
   "metadata": {
    "ExecuteTime": {
     "end_time": "2020-10-01T03:43:01.610819Z",
     "start_time": "2020-10-01T03:43:01.608725Z"
    }
   },
   "outputs": [],
   "source": [
    "url = 'https://sfbay.craigslist.org/search/apa?availabilityMode=0&bundleDuplicates=1'"
   ]
  },
  {
   "cell_type": "code",
   "execution_count": 3,
   "metadata": {
    "ExecuteTime": {
     "end_time": "2020-10-01T03:43:16.443787Z",
     "start_time": "2020-10-01T03:43:01.614419Z"
    }
   },
   "outputs": [
    {
     "name": "stdout",
     "output_type": "stream",
     "text": [
      "Listing page scrape complete!\n",
      "Number of postings scraped: 120\n",
      "Individual posts scrape complete!\n",
      "Number of posts scraped:  120\n"
     ]
    }
   ],
   "source": [
    "df = full_page_scrape(url)"
   ]
  },
  {
   "cell_type": "code",
   "execution_count": 4,
   "metadata": {
    "ExecuteTime": {
     "end_time": "2020-10-01T03:43:16.461730Z",
     "start_time": "2020-10-01T03:43:16.445487Z"
    }
   },
   "outputs": [
    {
     "data": {
      "text/html": [
       "<div>\n",
       "<style scoped>\n",
       "    .dataframe tbody tr th:only-of-type {\n",
       "        vertical-align: middle;\n",
       "    }\n",
       "\n",
       "    .dataframe tbody tr th {\n",
       "        vertical-align: top;\n",
       "    }\n",
       "\n",
       "    .dataframe thead th {\n",
       "        text-align: right;\n",
       "    }\n",
       "</style>\n",
       "<table border=\"1\" class=\"dataframe\">\n",
       "  <thead>\n",
       "    <tr style=\"text-align: right;\">\n",
       "      <th></th>\n",
       "      <th>date</th>\n",
       "      <th>title</th>\n",
       "      <th>link</th>\n",
       "      <th>price</th>\n",
       "      <th>brs</th>\n",
       "      <th>sqft</th>\n",
       "      <th>hood</th>\n",
       "      <th>bath</th>\n",
       "      <th>amenities</th>\n",
       "    </tr>\n",
       "  </thead>\n",
       "  <tbody>\n",
       "    <tr>\n",
       "      <th>0</th>\n",
       "      <td>Sep 30</td>\n",
       "      <td>Apartment, 2bed 1 1/2 bath, 1 Car Garage</td>\n",
       "      <td>https://sfbay.craigslist.org/sby/apa/d/san-jos...</td>\n",
       "      <td>2295</td>\n",
       "      <td>2</td>\n",
       "      <td>1285.0</td>\n",
       "      <td>san jose west</td>\n",
       "      <td>1.5Ba</td>\n",
       "      <td>[application fee details: $29.95 credit and ba...</td>\n",
       "    </tr>\n",
       "    <tr>\n",
       "      <th>1</th>\n",
       "      <td>Sep 30</td>\n",
       "      <td>&gt;&gt;--2 Bedroom, 1 1/2 bath, updated Condo  - Te...</td>\n",
       "      <td>https://sfbay.craigslist.org/nby/apa/d/2-bedro...</td>\n",
       "      <td>2750</td>\n",
       "      <td>2</td>\n",
       "      <td>1107.0</td>\n",
       "      <td>san rafael</td>\n",
       "      <td>1.5Ba</td>\n",
       "      <td>[apartment, w/d in unit, no smoking, carport]</td>\n",
       "    </tr>\n",
       "    <tr>\n",
       "      <th>2</th>\n",
       "      <td>Sep 30</td>\n",
       "      <td>NO RENT 'TIL 2021! HUGE 2 Bedroom, 2 Bath</td>\n",
       "      <td>https://sfbay.craigslist.org/sfc/apa/d/san-fra...</td>\n",
       "      <td>3416</td>\n",
       "      <td>2</td>\n",
       "      <td>1003.0</td>\n",
       "      <td>SOMA / south beach</td>\n",
       "      <td>2Ba</td>\n",
       "      <td>[application fee details: $38 Application Fee ...</td>\n",
       "    </tr>\n",
       "    <tr>\n",
       "      <th>3</th>\n",
       "      <td>Sep 30</td>\n",
       "      <td>Beautifully Renovated 2BR/2BA; 2 Months Free; ...</td>\n",
       "      <td>https://sfbay.craigslist.org/sfc/apa/d/san-fra...</td>\n",
       "      <td>3095</td>\n",
       "      <td>2</td>\n",
       "      <td>NaN</td>\n",
       "      <td>lower nob hill</td>\n",
       "      <td>2Ba</td>\n",
       "      <td>[cats are OK - purrr, dogs are OK - wooof, apa...</td>\n",
       "    </tr>\n",
       "    <tr>\n",
       "      <th>4</th>\n",
       "      <td>Sep 30</td>\n",
       "      <td>Ready move-in 2 bed units nr. Serramonte Mall ...</td>\n",
       "      <td>https://sfbay.craigslist.org/sfc/apa/d/daly-ci...</td>\n",
       "      <td>2350</td>\n",
       "      <td>2</td>\n",
       "      <td>NaN</td>\n",
       "      <td>glen park</td>\n",
       "      <td>1Ba</td>\n",
       "      <td>[apartment, laundry in bldg, no smoking, attac...</td>\n",
       "    </tr>\n",
       "  </tbody>\n",
       "</table>\n",
       "</div>"
      ],
      "text/plain": [
       "     date                                              title  \\\n",
       "0  Sep 30           Apartment, 2bed 1 1/2 bath, 1 Car Garage   \n",
       "1  Sep 30  >>--2 Bedroom, 1 1/2 bath, updated Condo  - Te...   \n",
       "2  Sep 30          NO RENT 'TIL 2021! HUGE 2 Bedroom, 2 Bath   \n",
       "3  Sep 30  Beautifully Renovated 2BR/2BA; 2 Months Free; ...   \n",
       "4  Sep 30  Ready move-in 2 bed units nr. Serramonte Mall ...   \n",
       "\n",
       "                                                link  price brs    sqft  \\\n",
       "0  https://sfbay.craigslist.org/sby/apa/d/san-jos...   2295   2  1285.0   \n",
       "1  https://sfbay.craigslist.org/nby/apa/d/2-bedro...   2750   2  1107.0   \n",
       "2  https://sfbay.craigslist.org/sfc/apa/d/san-fra...   3416   2  1003.0   \n",
       "3  https://sfbay.craigslist.org/sfc/apa/d/san-fra...   3095   2     NaN   \n",
       "4  https://sfbay.craigslist.org/sfc/apa/d/daly-ci...   2350   2     NaN   \n",
       "\n",
       "                 hood   bath  \\\n",
       "0       san jose west  1.5Ba   \n",
       "1          san rafael  1.5Ba   \n",
       "2  SOMA / south beach    2Ba   \n",
       "3      lower nob hill    2Ba   \n",
       "4           glen park    1Ba   \n",
       "\n",
       "                                           amenities  \n",
       "0  [application fee details: $29.95 credit and ba...  \n",
       "1      [apartment, w/d in unit, no smoking, carport]  \n",
       "2  [application fee details: $38 Application Fee ...  \n",
       "3  [cats are OK - purrr, dogs are OK - wooof, apa...  \n",
       "4  [apartment, laundry in bldg, no smoking, attac...  "
      ]
     },
     "execution_count": 4,
     "metadata": {},
     "output_type": "execute_result"
    }
   ],
   "source": [
    "df.head()"
   ]
  },
  {
   "cell_type": "markdown",
   "metadata": {
    "ExecuteTime": {
     "end_time": "2020-10-01T03:36:23.267598Z",
     "start_time": "2020-10-01T03:36:23.264689Z"
    }
   },
   "source": [
    "A fair amount of missing sqft from the listings:"
   ]
  },
  {
   "cell_type": "code",
   "execution_count": 5,
   "metadata": {
    "ExecuteTime": {
     "end_time": "2020-10-01T03:43:16.468352Z",
     "start_time": "2020-10-01T03:43:16.463403Z"
    }
   },
   "outputs": [
    {
     "data": {
      "text/plain": [
       "56"
      ]
     },
     "execution_count": 5,
     "metadata": {},
     "output_type": "execute_result"
    }
   ],
   "source": [
    "no_sqft = df[df.sqft.isnull()]\n",
    "len(no_sqft)"
   ]
  },
  {
   "cell_type": "markdown",
   "metadata": {},
   "source": [
    "Trying a second page"
   ]
  },
  {
   "cell_type": "code",
   "execution_count": 6,
   "metadata": {
    "ExecuteTime": {
     "end_time": "2020-10-01T03:43:16.473817Z",
     "start_time": "2020-10-01T03:43:16.471406Z"
    }
   },
   "outputs": [],
   "source": [
    "url2 = 'https://sfbay.craigslist.org/search/apa?s=120&availabilityMode=0&bundleDuplicates=1'"
   ]
  },
  {
   "cell_type": "code",
   "execution_count": 7,
   "metadata": {
    "ExecuteTime": {
     "end_time": "2020-10-01T03:43:29.282491Z",
     "start_time": "2020-10-01T03:43:16.475751Z"
    }
   },
   "outputs": [
    {
     "name": "stdout",
     "output_type": "stream",
     "text": [
      "Listing page scrape complete!\n",
      "Number of postings scraped: 121\n",
      "Individual posts scrape complete!\n",
      "Number of posts scraped:  121\n"
     ]
    }
   ],
   "source": [
    "df2 = full_page_scrape(url2)"
   ]
  },
  {
   "cell_type": "code",
   "execution_count": 8,
   "metadata": {
    "ExecuteTime": {
     "end_time": "2020-10-01T03:43:29.286337Z",
     "start_time": "2020-10-01T03:43:29.284459Z"
    }
   },
   "outputs": [],
   "source": [
    "url3 = 'https://sfbay.craigslist.org/search/apa?s=240&availabilityMode=0&bundleDuplicates=1'"
   ]
  },
  {
   "cell_type": "code",
   "execution_count": 9,
   "metadata": {
    "ExecuteTime": {
     "end_time": "2020-10-01T03:43:42.937072Z",
     "start_time": "2020-10-01T03:43:29.288449Z"
    }
   },
   "outputs": [
    {
     "name": "stdout",
     "output_type": "stream",
     "text": [
      "Listing page scrape complete!\n",
      "Number of postings scraped: 125\n",
      "Individual posts scrape complete!\n",
      "Number of posts scraped:  125\n"
     ]
    }
   ],
   "source": [
    "df3 = full_page_scrape(url3)"
   ]
  },
  {
   "cell_type": "code",
   "execution_count": 11,
   "metadata": {
    "ExecuteTime": {
     "end_time": "2020-10-01T03:43:50.647280Z",
     "start_time": "2020-10-01T03:43:50.642014Z"
    }
   },
   "outputs": [],
   "source": [
    "dfs = [df, df2, df3]\n",
    "\n",
    "super_df = pd.concat(dfs)"
   ]
  },
  {
   "cell_type": "code",
   "execution_count": 12,
   "metadata": {
    "ExecuteTime": {
     "end_time": "2020-10-01T03:43:55.440600Z",
     "start_time": "2020-10-01T03:43:55.427313Z"
    },
    "scrolled": true
   },
   "outputs": [
    {
     "data": {
      "text/html": [
       "<div>\n",
       "<style scoped>\n",
       "    .dataframe tbody tr th:only-of-type {\n",
       "        vertical-align: middle;\n",
       "    }\n",
       "\n",
       "    .dataframe tbody tr th {\n",
       "        vertical-align: top;\n",
       "    }\n",
       "\n",
       "    .dataframe thead th {\n",
       "        text-align: right;\n",
       "    }\n",
       "</style>\n",
       "<table border=\"1\" class=\"dataframe\">\n",
       "  <thead>\n",
       "    <tr style=\"text-align: right;\">\n",
       "      <th></th>\n",
       "      <th>date</th>\n",
       "      <th>title</th>\n",
       "      <th>link</th>\n",
       "      <th>price</th>\n",
       "      <th>brs</th>\n",
       "      <th>sqft</th>\n",
       "      <th>hood</th>\n",
       "      <th>bath</th>\n",
       "      <th>amenities</th>\n",
       "    </tr>\n",
       "  </thead>\n",
       "  <tbody>\n",
       "    <tr>\n",
       "      <th>0</th>\n",
       "      <td>Sep 30</td>\n",
       "      <td>Apartment, 2bed 1 1/2 bath, 1 Car Garage</td>\n",
       "      <td>https://sfbay.craigslist.org/sby/apa/d/san-jos...</td>\n",
       "      <td>2295</td>\n",
       "      <td>2</td>\n",
       "      <td>1285.0</td>\n",
       "      <td>san jose west</td>\n",
       "      <td>1.5Ba</td>\n",
       "      <td>[application fee details: $29.95 credit and ba...</td>\n",
       "    </tr>\n",
       "    <tr>\n",
       "      <th>1</th>\n",
       "      <td>Sep 30</td>\n",
       "      <td>&gt;&gt;--2 Bedroom, 1 1/2 bath, updated Condo  - Te...</td>\n",
       "      <td>https://sfbay.craigslist.org/nby/apa/d/2-bedro...</td>\n",
       "      <td>2750</td>\n",
       "      <td>2</td>\n",
       "      <td>1107.0</td>\n",
       "      <td>san rafael</td>\n",
       "      <td>1.5Ba</td>\n",
       "      <td>[apartment, w/d in unit, no smoking, carport]</td>\n",
       "    </tr>\n",
       "    <tr>\n",
       "      <th>2</th>\n",
       "      <td>Sep 30</td>\n",
       "      <td>NO RENT 'TIL 2021! HUGE 2 Bedroom, 2 Bath</td>\n",
       "      <td>https://sfbay.craigslist.org/sfc/apa/d/san-fra...</td>\n",
       "      <td>3416</td>\n",
       "      <td>2</td>\n",
       "      <td>1003.0</td>\n",
       "      <td>SOMA / south beach</td>\n",
       "      <td>2Ba</td>\n",
       "      <td>[application fee details: $38 Application Fee ...</td>\n",
       "    </tr>\n",
       "    <tr>\n",
       "      <th>3</th>\n",
       "      <td>Sep 30</td>\n",
       "      <td>Beautifully Renovated 2BR/2BA; 2 Months Free; ...</td>\n",
       "      <td>https://sfbay.craigslist.org/sfc/apa/d/san-fra...</td>\n",
       "      <td>3095</td>\n",
       "      <td>2</td>\n",
       "      <td>NaN</td>\n",
       "      <td>lower nob hill</td>\n",
       "      <td>2Ba</td>\n",
       "      <td>[cats are OK - purrr, dogs are OK - wooof, apa...</td>\n",
       "    </tr>\n",
       "    <tr>\n",
       "      <th>4</th>\n",
       "      <td>Sep 30</td>\n",
       "      <td>Ready move-in 2 bed units nr. Serramonte Mall ...</td>\n",
       "      <td>https://sfbay.craigslist.org/sfc/apa/d/daly-ci...</td>\n",
       "      <td>2350</td>\n",
       "      <td>2</td>\n",
       "      <td>NaN</td>\n",
       "      <td>glen park</td>\n",
       "      <td>1Ba</td>\n",
       "      <td>[apartment, laundry in bldg, no smoking, attac...</td>\n",
       "    </tr>\n",
       "  </tbody>\n",
       "</table>\n",
       "</div>"
      ],
      "text/plain": [
       "     date                                              title  \\\n",
       "0  Sep 30           Apartment, 2bed 1 1/2 bath, 1 Car Garage   \n",
       "1  Sep 30  >>--2 Bedroom, 1 1/2 bath, updated Condo  - Te...   \n",
       "2  Sep 30          NO RENT 'TIL 2021! HUGE 2 Bedroom, 2 Bath   \n",
       "3  Sep 30  Beautifully Renovated 2BR/2BA; 2 Months Free; ...   \n",
       "4  Sep 30  Ready move-in 2 bed units nr. Serramonte Mall ...   \n",
       "\n",
       "                                                link  price brs    sqft  \\\n",
       "0  https://sfbay.craigslist.org/sby/apa/d/san-jos...   2295   2  1285.0   \n",
       "1  https://sfbay.craigslist.org/nby/apa/d/2-bedro...   2750   2  1107.0   \n",
       "2  https://sfbay.craigslist.org/sfc/apa/d/san-fra...   3416   2  1003.0   \n",
       "3  https://sfbay.craigslist.org/sfc/apa/d/san-fra...   3095   2     NaN   \n",
       "4  https://sfbay.craigslist.org/sfc/apa/d/daly-ci...   2350   2     NaN   \n",
       "\n",
       "                 hood   bath  \\\n",
       "0       san jose west  1.5Ba   \n",
       "1          san rafael  1.5Ba   \n",
       "2  SOMA / south beach    2Ba   \n",
       "3      lower nob hill    2Ba   \n",
       "4           glen park    1Ba   \n",
       "\n",
       "                                           amenities  \n",
       "0  [application fee details: $29.95 credit and ba...  \n",
       "1      [apartment, w/d in unit, no smoking, carport]  \n",
       "2  [application fee details: $38 Application Fee ...  \n",
       "3  [cats are OK - purrr, dogs are OK - wooof, apa...  \n",
       "4  [apartment, laundry in bldg, no smoking, attac...  "
      ]
     },
     "execution_count": 12,
     "metadata": {},
     "output_type": "execute_result"
    }
   ],
   "source": [
    "super_df.head()"
   ]
  },
  {
   "cell_type": "code",
   "execution_count": 16,
   "metadata": {
    "ExecuteTime": {
     "end_time": "2020-10-01T03:44:53.022169Z",
     "start_time": "2020-10-01T03:44:53.018833Z"
    }
   },
   "outputs": [
    {
     "data": {
      "text/plain": [
       "366"
      ]
     },
     "execution_count": 16,
     "metadata": {},
     "output_type": "execute_result"
    }
   ],
   "source": [
    "total_rows = len(super_df)\n",
    "total_rows"
   ]
  },
  {
   "cell_type": "code",
   "execution_count": 17,
   "metadata": {
    "ExecuteTime": {
     "end_time": "2020-10-01T03:44:59.543751Z",
     "start_time": "2020-10-01T03:44:59.539161Z"
    }
   },
   "outputs": [
    {
     "data": {
      "text/plain": [
       "140"
      ]
     },
     "execution_count": 17,
     "metadata": {},
     "output_type": "execute_result"
    }
   ],
   "source": [
    "no_sqft = super_df[super_df.sqft.isnull()]\n",
    "missing_sqft = len(no_sqft)\n",
    "missing_sqft"
   ]
  },
  {
   "cell_type": "code",
   "execution_count": 22,
   "metadata": {
    "ExecuteTime": {
     "end_time": "2020-10-01T03:46:24.858827Z",
     "start_time": "2020-10-01T03:46:24.856012Z"
    }
   },
   "outputs": [
    {
     "name": "stdout",
     "output_type": "stream",
     "text": [
      "% of rows missing sqft:  38.25136612021858\n"
     ]
    }
   ],
   "source": [
    "perc_missing = (missing_sqft / total_rows) * 100\n",
    "\n",
    "print(\"% of rows missing sqft: \", perc_missing)"
   ]
  },
  {
   "cell_type": "code",
   "execution_count": 24,
   "metadata": {
    "ExecuteTime": {
     "end_time": "2020-10-01T03:46:49.401587Z",
     "start_time": "2020-10-01T03:46:49.398207Z"
    }
   },
   "outputs": [
    {
     "data": {
      "text/plain": [
       "1147.5409836065573"
      ]
     },
     "execution_count": 24,
     "metadata": {},
     "output_type": "execute_result"
    }
   ],
   "source": [
    "3000 * (perc_missing/100)"
   ]
  }
 ],
 "metadata": {
  "kernelspec": {
   "display_name": "Python [conda env:metis] *",
   "language": "python",
   "name": "conda-env-metis-py"
  },
  "language_info": {
   "codemirror_mode": {
    "name": "ipython",
    "version": 3
   },
   "file_extension": ".py",
   "mimetype": "text/x-python",
   "name": "python",
   "nbconvert_exporter": "python",
   "pygments_lexer": "ipython3",
   "version": "3.8.5"
  },
  "toc": {
   "base_numbering": 1,
   "nav_menu": {},
   "number_sections": true,
   "sideBar": true,
   "skip_h1_title": false,
   "title_cell": "Table of Contents",
   "title_sidebar": "Contents",
   "toc_cell": false,
   "toc_position": {},
   "toc_section_display": true,
   "toc_window_display": false
  }
 },
 "nbformat": 4,
 "nbformat_minor": 4
}
