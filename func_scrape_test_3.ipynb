{
 "cells": [
  {
   "cell_type": "markdown",
   "metadata": {},
   "source": [
    "# Full listing page & individual post scrape test"
   ]
  },
  {
   "cell_type": "code",
   "execution_count": 1,
   "metadata": {
    "ExecuteTime": {
     "end_time": "2020-10-01T16:38:21.816703Z",
     "start_time": "2020-10-01T16:38:20.732875Z"
    }
   },
   "outputs": [],
   "source": [
    "from bs4 import BeautifulSoup\n",
    "import requests\n",
    "\n",
    "import pandas as pd\n",
    "import numpy as np\n",
    "\n",
    "%matplotlib inline\n",
    "import matplotlib as plt\n",
    "\n",
    "from scrape_craigslist import *"
   ]
  },
  {
   "cell_type": "code",
   "execution_count": 2,
   "metadata": {
    "ExecuteTime": {
     "end_time": "2020-10-01T16:38:21.821615Z",
     "start_time": "2020-10-01T16:38:21.818944Z"
    }
   },
   "outputs": [],
   "source": [
    "url = 'https://sfbay.craigslist.org/search/apa?availabilityMode=0&bundleDuplicates=1'"
   ]
  },
  {
   "cell_type": "code",
   "execution_count": 3,
   "metadata": {
    "ExecuteTime": {
     "end_time": "2020-10-01T16:38:35.803578Z",
     "start_time": "2020-10-01T16:38:21.824422Z"
    }
   },
   "outputs": [
    {
     "name": "stdout",
     "output_type": "stream",
     "text": [
      "Listing page scrape complete!\n",
      "Number of postings scraped: 123\n",
      "Individual posts scrape complete!\n",
      "Number of posts scraped:  123\n"
     ]
    }
   ],
   "source": [
    "df = full_page_scrape(url)"
   ]
  },
  {
   "cell_type": "code",
   "execution_count": 4,
   "metadata": {
    "ExecuteTime": {
     "end_time": "2020-10-01T16:38:35.824196Z",
     "start_time": "2020-10-01T16:38:35.805941Z"
    }
   },
   "outputs": [
    {
     "data": {
      "text/html": [
       "<div>\n",
       "<style scoped>\n",
       "    .dataframe tbody tr th:only-of-type {\n",
       "        vertical-align: middle;\n",
       "    }\n",
       "\n",
       "    .dataframe tbody tr th {\n",
       "        vertical-align: top;\n",
       "    }\n",
       "\n",
       "    .dataframe thead th {\n",
       "        text-align: right;\n",
       "    }\n",
       "</style>\n",
       "<table border=\"1\" class=\"dataframe\">\n",
       "  <thead>\n",
       "    <tr style=\"text-align: right;\">\n",
       "      <th></th>\n",
       "      <th>date</th>\n",
       "      <th>title</th>\n",
       "      <th>link</th>\n",
       "      <th>price</th>\n",
       "      <th>brs</th>\n",
       "      <th>sqft</th>\n",
       "      <th>hood</th>\n",
       "      <th>bath</th>\n",
       "      <th>amenities</th>\n",
       "    </tr>\n",
       "  </thead>\n",
       "  <tbody>\n",
       "    <tr>\n",
       "      <th>0</th>\n",
       "      <td>Oct  1</td>\n",
       "      <td>Spacious Bedroom w/ Walk in Closet!</td>\n",
       "      <td>https://sfbay.craigslist.org/eby/apa/d/fairfie...</td>\n",
       "      <td>1625</td>\n",
       "      <td>1</td>\n",
       "      <td>750.0</td>\n",
       "      <td>fairfield / vacaville</td>\n",
       "      <td>1Ba</td>\n",
       "      <td>[application fee details: $45 per applicant, c...</td>\n",
       "    </tr>\n",
       "    <tr>\n",
       "      <th>1</th>\n",
       "      <td>Oct  1</td>\n",
       "      <td>**APPLY TODAY AND MOVE INTO A BEAUTIFUL 1X1 AT...</td>\n",
       "      <td>https://sfbay.craigslist.org/sby/apa/d/gilroy-...</td>\n",
       "      <td>1950</td>\n",
       "      <td>1</td>\n",
       "      <td>700.0</td>\n",
       "      <td>gilroy</td>\n",
       "      <td>1Ba</td>\n",
       "      <td>[application fee details: $35.00 For Credit &amp; ...</td>\n",
       "    </tr>\n",
       "    <tr>\n",
       "      <th>2</th>\n",
       "      <td>Oct  1</td>\n",
       "      <td>Want 8 weeks free + 5% Off monthly rate?! Book...</td>\n",
       "      <td>https://sfbay.craigslist.org/sby/apa/d/sunnyva...</td>\n",
       "      <td>2647</td>\n",
       "      <td>1</td>\n",
       "      <td>727.0</td>\n",
       "      <td>sunnyvale</td>\n",
       "      <td>1Ba</td>\n",
       "      <td>[EV charging, cats are OK - purrr, dogs are OK...</td>\n",
       "    </tr>\n",
       "    <tr>\n",
       "      <th>3</th>\n",
       "      <td>Oct  1</td>\n",
       "      <td>MOVE TODAY ~ 2 MONTHS FREE! RENOVATED, PARKING...</td>\n",
       "      <td>https://sfbay.craigslist.org/sby/apa/d/san-jos...</td>\n",
       "      <td>2299</td>\n",
       "      <td>2</td>\n",
       "      <td>900.0</td>\n",
       "      <td>san jose downtown</td>\n",
       "      <td>1Ba</td>\n",
       "      <td>[application fee details: WAIVED, cats are OK ...</td>\n",
       "    </tr>\n",
       "    <tr>\n",
       "      <th>4</th>\n",
       "      <td>Oct  1</td>\n",
       "      <td>FREE RENT! Studio w/ W/D in unit, Roof Deck w/...</td>\n",
       "      <td>https://sfbay.craigslist.org/sfc/apa/d/san-fra...</td>\n",
       "      <td>2200</td>\n",
       "      <td>NaN</td>\n",
       "      <td>NaN</td>\n",
       "      <td>potrero hill</td>\n",
       "      <td>1Ba</td>\n",
       "      <td>[application fee details: $40 application fee,...</td>\n",
       "    </tr>\n",
       "  </tbody>\n",
       "</table>\n",
       "</div>"
      ],
      "text/plain": [
       "     date                                              title  \\\n",
       "0  Oct  1                Spacious Bedroom w/ Walk in Closet!   \n",
       "1  Oct  1  **APPLY TODAY AND MOVE INTO A BEAUTIFUL 1X1 AT...   \n",
       "2  Oct  1  Want 8 weeks free + 5% Off monthly rate?! Book...   \n",
       "3  Oct  1  MOVE TODAY ~ 2 MONTHS FREE! RENOVATED, PARKING...   \n",
       "4  Oct  1  FREE RENT! Studio w/ W/D in unit, Roof Deck w/...   \n",
       "\n",
       "                                                link  price  brs   sqft  \\\n",
       "0  https://sfbay.craigslist.org/eby/apa/d/fairfie...   1625    1  750.0   \n",
       "1  https://sfbay.craigslist.org/sby/apa/d/gilroy-...   1950    1  700.0   \n",
       "2  https://sfbay.craigslist.org/sby/apa/d/sunnyva...   2647    1  727.0   \n",
       "3  https://sfbay.craigslist.org/sby/apa/d/san-jos...   2299    2  900.0   \n",
       "4  https://sfbay.craigslist.org/sfc/apa/d/san-fra...   2200  NaN    NaN   \n",
       "\n",
       "                    hood bath  \\\n",
       "0  fairfield / vacaville  1Ba   \n",
       "1                 gilroy  1Ba   \n",
       "2              sunnyvale  1Ba   \n",
       "3      san jose downtown  1Ba   \n",
       "4           potrero hill  1Ba   \n",
       "\n",
       "                                           amenities  \n",
       "0  [application fee details: $45 per applicant, c...  \n",
       "1  [application fee details: $35.00 For Credit & ...  \n",
       "2  [EV charging, cats are OK - purrr, dogs are OK...  \n",
       "3  [application fee details: WAIVED, cats are OK ...  \n",
       "4  [application fee details: $40 application fee,...  "
      ]
     },
     "execution_count": 4,
     "metadata": {},
     "output_type": "execute_result"
    }
   ],
   "source": [
    "df.head()"
   ]
  },
  {
   "cell_type": "markdown",
   "metadata": {
    "ExecuteTime": {
     "end_time": "2020-10-01T03:36:23.267598Z",
     "start_time": "2020-10-01T03:36:23.264689Z"
    }
   },
   "source": [
    "A fair amount of missing sqft from the listings:"
   ]
  },
  {
   "cell_type": "code",
   "execution_count": 5,
   "metadata": {
    "ExecuteTime": {
     "end_time": "2020-10-01T16:38:35.833566Z",
     "start_time": "2020-10-01T16:38:35.826007Z"
    }
   },
   "outputs": [
    {
     "data": {
      "text/plain": [
       "36"
      ]
     },
     "execution_count": 5,
     "metadata": {},
     "output_type": "execute_result"
    }
   ],
   "source": [
    "no_sqft = df[df.sqft.isnull()]\n",
    "len(no_sqft)"
   ]
  },
  {
   "cell_type": "markdown",
   "metadata": {},
   "source": [
    "Trying a second page"
   ]
  },
  {
   "cell_type": "code",
   "execution_count": 6,
   "metadata": {
    "ExecuteTime": {
     "end_time": "2020-10-01T16:38:35.841148Z",
     "start_time": "2020-10-01T16:38:35.838763Z"
    }
   },
   "outputs": [],
   "source": [
    "url2 = 'https://sfbay.craigslist.org/search/apa?s=120&availabilityMode=0&bundleDuplicates=1'"
   ]
  },
  {
   "cell_type": "code",
   "execution_count": 7,
   "metadata": {
    "ExecuteTime": {
     "end_time": "2020-10-01T16:38:49.640426Z",
     "start_time": "2020-10-01T16:38:35.843599Z"
    }
   },
   "outputs": [
    {
     "name": "stdout",
     "output_type": "stream",
     "text": [
      "Listing page scrape complete!\n",
      "Number of postings scraped: 121\n",
      "Individual posts scrape complete!\n",
      "Number of posts scraped:  121\n"
     ]
    }
   ],
   "source": [
    "df2 = full_page_scrape(url2)"
   ]
  },
  {
   "cell_type": "code",
   "execution_count": 8,
   "metadata": {
    "ExecuteTime": {
     "end_time": "2020-10-01T16:38:49.644329Z",
     "start_time": "2020-10-01T16:38:49.642192Z"
    }
   },
   "outputs": [],
   "source": [
    "url3 = 'https://sfbay.craigslist.org/search/apa?s=240&availabilityMode=0&bundleDuplicates=1'"
   ]
  },
  {
   "cell_type": "code",
   "execution_count": 9,
   "metadata": {
    "ExecuteTime": {
     "end_time": "2020-10-01T16:39:02.868053Z",
     "start_time": "2020-10-01T16:38:49.645990Z"
    }
   },
   "outputs": [
    {
     "name": "stdout",
     "output_type": "stream",
     "text": [
      "Listing page scrape complete!\n",
      "Number of postings scraped: 123\n",
      "Individual posts scrape complete!\n",
      "Number of posts scraped:  123\n"
     ]
    }
   ],
   "source": [
    "df3 = full_page_scrape(url3)"
   ]
  },
  {
   "cell_type": "code",
   "execution_count": 10,
   "metadata": {
    "ExecuteTime": {
     "end_time": "2020-10-01T16:39:02.876446Z",
     "start_time": "2020-10-01T16:39:02.870028Z"
    }
   },
   "outputs": [],
   "source": [
    "dfs = [df, df2, df3]\n",
    "\n",
    "super_df = pd.concat(dfs)"
   ]
  },
  {
   "cell_type": "code",
   "execution_count": 11,
   "metadata": {
    "ExecuteTime": {
     "end_time": "2020-10-01T16:39:02.891788Z",
     "start_time": "2020-10-01T16:39:02.878173Z"
    },
    "scrolled": true
   },
   "outputs": [
    {
     "data": {
      "text/html": [
       "<div>\n",
       "<style scoped>\n",
       "    .dataframe tbody tr th:only-of-type {\n",
       "        vertical-align: middle;\n",
       "    }\n",
       "\n",
       "    .dataframe tbody tr th {\n",
       "        vertical-align: top;\n",
       "    }\n",
       "\n",
       "    .dataframe thead th {\n",
       "        text-align: right;\n",
       "    }\n",
       "</style>\n",
       "<table border=\"1\" class=\"dataframe\">\n",
       "  <thead>\n",
       "    <tr style=\"text-align: right;\">\n",
       "      <th></th>\n",
       "      <th>date</th>\n",
       "      <th>title</th>\n",
       "      <th>link</th>\n",
       "      <th>price</th>\n",
       "      <th>brs</th>\n",
       "      <th>sqft</th>\n",
       "      <th>hood</th>\n",
       "      <th>bath</th>\n",
       "      <th>amenities</th>\n",
       "    </tr>\n",
       "  </thead>\n",
       "  <tbody>\n",
       "    <tr>\n",
       "      <th>0</th>\n",
       "      <td>Oct  1</td>\n",
       "      <td>Spacious Bedroom w/ Walk in Closet!</td>\n",
       "      <td>https://sfbay.craigslist.org/eby/apa/d/fairfie...</td>\n",
       "      <td>1625</td>\n",
       "      <td>1</td>\n",
       "      <td>750.0</td>\n",
       "      <td>fairfield / vacaville</td>\n",
       "      <td>1Ba</td>\n",
       "      <td>[application fee details: $45 per applicant, c...</td>\n",
       "    </tr>\n",
       "    <tr>\n",
       "      <th>1</th>\n",
       "      <td>Oct  1</td>\n",
       "      <td>**APPLY TODAY AND MOVE INTO A BEAUTIFUL 1X1 AT...</td>\n",
       "      <td>https://sfbay.craigslist.org/sby/apa/d/gilroy-...</td>\n",
       "      <td>1950</td>\n",
       "      <td>1</td>\n",
       "      <td>700.0</td>\n",
       "      <td>gilroy</td>\n",
       "      <td>1Ba</td>\n",
       "      <td>[application fee details: $35.00 For Credit &amp; ...</td>\n",
       "    </tr>\n",
       "    <tr>\n",
       "      <th>2</th>\n",
       "      <td>Oct  1</td>\n",
       "      <td>Want 8 weeks free + 5% Off monthly rate?! Book...</td>\n",
       "      <td>https://sfbay.craigslist.org/sby/apa/d/sunnyva...</td>\n",
       "      <td>2647</td>\n",
       "      <td>1</td>\n",
       "      <td>727.0</td>\n",
       "      <td>sunnyvale</td>\n",
       "      <td>1Ba</td>\n",
       "      <td>[EV charging, cats are OK - purrr, dogs are OK...</td>\n",
       "    </tr>\n",
       "    <tr>\n",
       "      <th>3</th>\n",
       "      <td>Oct  1</td>\n",
       "      <td>MOVE TODAY ~ 2 MONTHS FREE! RENOVATED, PARKING...</td>\n",
       "      <td>https://sfbay.craigslist.org/sby/apa/d/san-jos...</td>\n",
       "      <td>2299</td>\n",
       "      <td>2</td>\n",
       "      <td>900.0</td>\n",
       "      <td>san jose downtown</td>\n",
       "      <td>1Ba</td>\n",
       "      <td>[application fee details: WAIVED, cats are OK ...</td>\n",
       "    </tr>\n",
       "    <tr>\n",
       "      <th>4</th>\n",
       "      <td>Oct  1</td>\n",
       "      <td>FREE RENT! Studio w/ W/D in unit, Roof Deck w/...</td>\n",
       "      <td>https://sfbay.craigslist.org/sfc/apa/d/san-fra...</td>\n",
       "      <td>2200</td>\n",
       "      <td>NaN</td>\n",
       "      <td>NaN</td>\n",
       "      <td>potrero hill</td>\n",
       "      <td>1Ba</td>\n",
       "      <td>[application fee details: $40 application fee,...</td>\n",
       "    </tr>\n",
       "  </tbody>\n",
       "</table>\n",
       "</div>"
      ],
      "text/plain": [
       "     date                                              title  \\\n",
       "0  Oct  1                Spacious Bedroom w/ Walk in Closet!   \n",
       "1  Oct  1  **APPLY TODAY AND MOVE INTO A BEAUTIFUL 1X1 AT...   \n",
       "2  Oct  1  Want 8 weeks free + 5% Off monthly rate?! Book...   \n",
       "3  Oct  1  MOVE TODAY ~ 2 MONTHS FREE! RENOVATED, PARKING...   \n",
       "4  Oct  1  FREE RENT! Studio w/ W/D in unit, Roof Deck w/...   \n",
       "\n",
       "                                                link  price  brs   sqft  \\\n",
       "0  https://sfbay.craigslist.org/eby/apa/d/fairfie...   1625    1  750.0   \n",
       "1  https://sfbay.craigslist.org/sby/apa/d/gilroy-...   1950    1  700.0   \n",
       "2  https://sfbay.craigslist.org/sby/apa/d/sunnyva...   2647    1  727.0   \n",
       "3  https://sfbay.craigslist.org/sby/apa/d/san-jos...   2299    2  900.0   \n",
       "4  https://sfbay.craigslist.org/sfc/apa/d/san-fra...   2200  NaN    NaN   \n",
       "\n",
       "                    hood bath  \\\n",
       "0  fairfield / vacaville  1Ba   \n",
       "1                 gilroy  1Ba   \n",
       "2              sunnyvale  1Ba   \n",
       "3      san jose downtown  1Ba   \n",
       "4           potrero hill  1Ba   \n",
       "\n",
       "                                           amenities  \n",
       "0  [application fee details: $45 per applicant, c...  \n",
       "1  [application fee details: $35.00 For Credit & ...  \n",
       "2  [EV charging, cats are OK - purrr, dogs are OK...  \n",
       "3  [application fee details: WAIVED, cats are OK ...  \n",
       "4  [application fee details: $40 application fee,...  "
      ]
     },
     "execution_count": 11,
     "metadata": {},
     "output_type": "execute_result"
    }
   ],
   "source": [
    "super_df.head()"
   ]
  },
  {
   "cell_type": "code",
   "execution_count": 12,
   "metadata": {
    "ExecuteTime": {
     "end_time": "2020-10-01T16:39:02.897730Z",
     "start_time": "2020-10-01T16:39:02.893791Z"
    }
   },
   "outputs": [
    {
     "data": {
      "text/plain": [
       "367"
      ]
     },
     "execution_count": 12,
     "metadata": {},
     "output_type": "execute_result"
    }
   ],
   "source": [
    "total_rows = len(super_df)\n",
    "total_rows"
   ]
  },
  {
   "cell_type": "code",
   "execution_count": 13,
   "metadata": {
    "ExecuteTime": {
     "end_time": "2020-10-01T16:39:02.906552Z",
     "start_time": "2020-10-01T16:39:02.899675Z"
    }
   },
   "outputs": [
    {
     "data": {
      "text/plain": [
       "101"
      ]
     },
     "execution_count": 13,
     "metadata": {},
     "output_type": "execute_result"
    }
   ],
   "source": [
    "no_sqft = super_df[super_df.sqft.isnull()]\n",
    "missing_sqft = len(no_sqft)\n",
    "missing_sqft"
   ]
  },
  {
   "cell_type": "code",
   "execution_count": 14,
   "metadata": {
    "ExecuteTime": {
     "end_time": "2020-10-01T16:39:02.911755Z",
     "start_time": "2020-10-01T16:39:02.908711Z"
    }
   },
   "outputs": [
    {
     "name": "stdout",
     "output_type": "stream",
     "text": [
      "% of rows missing sqft:  27.520435967302454\n"
     ]
    }
   ],
   "source": [
    "perc_missing = (missing_sqft / total_rows) * 100\n",
    "\n",
    "print(\"% of rows missing sqft: \", perc_missing)"
   ]
  },
  {
   "cell_type": "code",
   "execution_count": 17,
   "metadata": {
    "ExecuteTime": {
     "end_time": "2020-10-01T16:39:37.504810Z",
     "start_time": "2020-10-01T16:39:37.502379Z"
    }
   },
   "outputs": [
    {
     "name": "stdout",
     "output_type": "stream",
     "text": [
      "Estimated # missing sqft values in total scrape:  825.6130790190736\n"
     ]
    }
   ],
   "source": [
    "print(\"Estimated # missing sqft values in total scrape: \", (3000 * (perc_missing/100)))"
   ]
  }
 ],
 "metadata": {
  "kernelspec": {
   "display_name": "Python [conda env:metis] *",
   "language": "python",
   "name": "conda-env-metis-py"
  },
  "language_info": {
   "codemirror_mode": {
    "name": "ipython",
    "version": 3
   },
   "file_extension": ".py",
   "mimetype": "text/x-python",
   "name": "python",
   "nbconvert_exporter": "python",
   "pygments_lexer": "ipython3",
   "version": "3.8.5"
  },
  "toc": {
   "base_numbering": 1,
   "nav_menu": {},
   "number_sections": true,
   "sideBar": true,
   "skip_h1_title": false,
   "title_cell": "Table of Contents",
   "title_sidebar": "Contents",
   "toc_cell": false,
   "toc_position": {},
   "toc_section_display": true,
   "toc_window_display": false
  }
 },
 "nbformat": 4,
 "nbformat_minor": 4
}
