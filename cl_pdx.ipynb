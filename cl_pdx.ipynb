{
 "cells": [
  {
   "cell_type": "markdown",
   "metadata": {},
   "source": [
    "# Project 2: Web Scraping & Linear Regresssion\n",
    "\n",
    "Apartment rental prices in Portland\n",
    "- Scrape Craiglist\n",
    "- Predict Price\n",
    "\n",
    "Features: \n",
    "- # bedrooms\n",
    "- Square footage\n",
    "- "
   ]
  },
  {
   "cell_type": "code",
   "execution_count": 1,
   "metadata": {
    "ExecuteTime": {
     "end_time": "2020-09-30T17:21:38.020149Z",
     "start_time": "2020-09-30T17:21:37.334244Z"
    }
   },
   "outputs": [],
   "source": [
    "from bs4 import BeautifulSoup\n",
    "import requests\n",
    "\n",
    "import pandas as pd\n",
    "import numpy as np\n",
    "\n",
    "%matplotlib inline\n",
    "import matplotlib as plt"
   ]
  },
  {
   "cell_type": "code",
   "execution_count": 2,
   "metadata": {
    "ExecuteTime": {
     "end_time": "2020-09-30T17:21:38.023870Z",
     "start_time": "2020-09-30T17:21:38.022148Z"
    }
   },
   "outputs": [],
   "source": [
    "# PDX Housing/Apartment Search Page\n",
    "url = 'https://portland.craigslist.org/search/apa'"
   ]
  },
  {
   "cell_type": "code",
   "execution_count": 3,
   "metadata": {
    "ExecuteTime": {
     "end_time": "2020-09-30T17:21:38.166170Z",
     "start_time": "2020-09-30T17:21:38.026014Z"
    }
   },
   "outputs": [
    {
     "data": {
      "text/plain": [
       "200"
      ]
     },
     "execution_count": 3,
     "metadata": {},
     "output_type": "execute_result"
    }
   ],
   "source": [
    "response = requests.get(url)\n",
    "response.status_code"
   ]
  },
  {
   "cell_type": "code",
   "execution_count": 4,
   "metadata": {
    "ExecuteTime": {
     "end_time": "2020-09-30T17:21:38.380533Z",
     "start_time": "2020-09-30T17:21:38.167779Z"
    }
   },
   "outputs": [],
   "source": [
    "page = response.text\n",
    "soup = BeautifulSoup(page, 'html.parser')"
   ]
  },
  {
   "cell_type": "code",
   "execution_count": 5,
   "metadata": {
    "ExecuteTime": {
     "end_time": "2020-09-30T17:21:38.400164Z",
     "start_time": "2020-09-30T17:21:38.382560Z"
    }
   },
   "outputs": [],
   "source": [
    "postings = soup.find_all('li', class_='result-row')"
   ]
  },
  {
   "cell_type": "code",
   "execution_count": 6,
   "metadata": {
    "ExecuteTime": {
     "end_time": "2020-09-30T17:21:38.406338Z",
     "start_time": "2020-09-30T17:21:38.403484Z"
    }
   },
   "outputs": [
    {
     "data": {
      "text/plain": [
       "bs4.element.ResultSet"
      ]
     },
     "execution_count": 6,
     "metadata": {},
     "output_type": "execute_result"
    }
   ],
   "source": [
    "type(postings)"
   ]
  },
  {
   "cell_type": "code",
   "execution_count": 7,
   "metadata": {
    "ExecuteTime": {
     "end_time": "2020-09-30T17:21:38.412405Z",
     "start_time": "2020-09-30T17:21:38.409201Z"
    }
   },
   "outputs": [
    {
     "name": "stdout",
     "output_type": "stream",
     "text": [
      "Number of postings: 120\n"
     ]
    }
   ],
   "source": [
    "print(\"Number of postings: {}\".format(len(postings)))"
   ]
  },
  {
   "cell_type": "code",
   "execution_count": 8,
   "metadata": {
    "ExecuteTime": {
     "end_time": "2020-09-30T17:21:38.420949Z",
     "start_time": "2020-09-30T17:21:38.415195Z"
    }
   },
   "outputs": [
    {
     "data": {
      "text/plain": [
       "<li class=\"result-row\" data-pid=\"7205725894\" data-repost-of=\"6975672005\">\n",
       "<a class=\"result-image gallery\" data-ids=\"1:00z0z_2K6gAdXIf8a,3:01111_blwa6SZfFAG_0CI0lM,1:00x0x_ivJoPphmd5z,1:00G0G_fYMjCsSR9w2,1:01717_dQq69SMztUa,1:00909_6QyUxbZ3o8M,1:00h0h_4AfEAUWUR8J,1:00D0D_W8GvJQcwPx,1:00a0a_24dfg5bHZf6,1:00a0a_d9eXEb93556,1:00L0L_lrkYoEwZpJG,1:00r0r_4Mrbc2nrhtj,3:00K0K_c3BRFope6sr_0CI0lM\" href=\"https://portland.craigslist.org/mlt/apa/d/portland-spacious-luxury-studio-floor/7205725894.html\">\n",
       "<span class=\"result-price\">$1,350</span>\n",
       "</a>\n",
       "<div class=\"result-info\">\n",
       "<span class=\"icon icon-star\" role=\"button\">\n",
       "<span class=\"screen-reader-text\">favorite this post</span>\n",
       "</span>\n",
       "<time class=\"result-date\" datetime=\"2020-09-30 10:13\" title=\"Wed 30 Sep 10:13:18 AM\">Sep 30</time>\n",
       "<h2>\n",
       "<a class=\"result-title hdrlnk\" data-id=\"7205725894\" href=\"https://portland.craigslist.org/mlt/apa/d/portland-spacious-luxury-studio-floor/7205725894.html\" id=\"postid_7205725894\">Spacious &amp; Luxury Studio! Floor To Ceiling Windows</a>\n",
       "</h2>\n",
       "<span class=\"result-meta\">\n",
       "<span class=\"result-price\">$1,350</span>\n",
       "<span class=\"housing\">\n",
       "                    493ft<sup>2</sup> -\n",
       "                </span>\n",
       "<span class=\"result-hood\"> (2014 SE 11th Ave - 303)</span>\n",
       "<span class=\"result-tags\">\n",
       "<span class=\"pictag\">pic</span>\n",
       "</span>\n",
       "<span class=\"banish icon icon-trash\" role=\"button\">\n",
       "<span class=\"screen-reader-text\">hide this posting</span>\n",
       "</span>\n",
       "<span aria-hidden=\"true\" class=\"unbanish icon icon-trash red\" role=\"button\"></span>\n",
       "<a class=\"restore-link\" href=\"#\">\n",
       "<span class=\"restore-narrow-text\">restore</span>\n",
       "<span class=\"restore-wide-text\">restore this posting</span>\n",
       "</a>\n",
       "</span>\n",
       "</div>\n",
       "</li>"
      ]
     },
     "execution_count": 8,
     "metadata": {},
     "output_type": "execute_result"
    }
   ],
   "source": [
    "# First posting - Raw HTML\n",
    "postings[0]"
   ]
  },
  {
   "cell_type": "markdown",
   "metadata": {},
   "source": [
    "First loook at how to scrape each individual item: "
   ]
  },
  {
   "cell_type": "markdown",
   "metadata": {},
   "source": [
    "Create a function to get all the details from a post:"
   ]
  },
  {
   "cell_type": "code",
   "execution_count": 9,
   "metadata": {
    "ExecuteTime": {
     "end_time": "2020-09-30T17:21:38.431218Z",
     "start_time": "2020-09-30T17:21:38.422616Z"
    }
   },
   "outputs": [],
   "source": [
    "def get_listing_details(post):\n",
    "    \n",
    "    # Present in each post\n",
    "    date = post.find('time', class_='result-date').text\n",
    "    title = post.find('a', class_='result-title hdrlnk').text\n",
    "    link = post.find('a', class_='result-title hdrlnk')['href']\n",
    "    price = int(post.find('span', class_='result-price').text.strip().replace(\"$\",\"\").replace(\",\",\"\"))\n",
    "    \n",
    "    \n",
    "    if post.find('span', class_='result-hood') is None:\n",
    "        hood = np.nan\n",
    "    else:\n",
    "        hood = post.find('span', class_='result-hood').text.strip()[1:][:-1]\n",
    "    \n",
    "    # Test to for BR - SQFT info\n",
    "    if post.find('span', class_='housing') is None:\n",
    "        # Set both BRs and sq-ft to np.nan\n",
    "        brs = np.nan\n",
    "        sqft = np.nan\n",
    "        \n",
    "    elif len(post.find('span', class_='housing').text.split()) < 3:\n",
    "        # test to see if we have BR\n",
    "        if post.find('span', class_='housing').text.split()[0][-2:] == 'br':\n",
    "            brs = post.find('span', class_='housing').text.split()[0][:-2]\n",
    "            sqft = np.nan\n",
    "        else:\n",
    "            sqft = int(post.find('span', class_='housing').text.split()[0][:-3])\n",
    "            brs = np.nan\n",
    "             \n",
    "    else:\n",
    "        # We have both BRs and sq-ft      \n",
    "        brs = post.find('span', class_='housing').text.split()[0][:-2]\n",
    "        sqft = int(post.find('span', class_='housing').text.split()[2][:-3])     \n",
    "    \n",
    "    # Order of elements to be returned\n",
    "    post_elements = [date, title, link, price, brs, sqft, hood]\n",
    "    \n",
    "    return post_elements"
   ]
  },
  {
   "cell_type": "markdown",
   "metadata": {},
   "source": [
    "Example of scraped listing using function above"
   ]
  },
  {
   "cell_type": "code",
   "execution_count": 10,
   "metadata": {
    "ExecuteTime": {
     "end_time": "2020-09-30T17:21:38.438185Z",
     "start_time": "2020-09-30T17:21:38.433773Z"
    }
   },
   "outputs": [
    {
     "data": {
      "text/plain": [
       "['Sep 30',\n",
       " 'Spacious & Luxury Studio! Floor To Ceiling Windows',\n",
       " 'https://portland.craigslist.org/mlt/apa/d/portland-spacious-luxury-studio-floor/7205725894.html',\n",
       " 1350,\n",
       " nan,\n",
       " 493,\n",
       " '2014 SE 11th Ave - 303']"
      ]
     },
     "execution_count": 10,
     "metadata": {},
     "output_type": "execute_result"
    }
   ],
   "source": [
    "get_listing_details(postings[0])"
   ]
  },
  {
   "cell_type": "markdown",
   "metadata": {},
   "source": [
    "Function to scrape the entire page of postings"
   ]
  },
  {
   "cell_type": "code",
   "execution_count": 11,
   "metadata": {
    "ExecuteTime": {
     "end_time": "2020-09-30T17:21:38.444575Z",
     "start_time": "2020-09-30T17:21:38.440224Z"
    }
   },
   "outputs": [],
   "source": [
    "def get_page_listings(page):\n",
    "    \n",
    "    post_counter = 0\n",
    "    page_results = []\n",
    "    \n",
    "    for post in page:\n",
    "        listing = get_listing_details(post)\n",
    "        page_results.append(listing)\n",
    "        post_counter += 1\n",
    "        \n",
    "    print(\"Scrape Complete!\")\n",
    "    print(\"Number of Postings Scraped: {}\".format(post_counter))        \n",
    "    return page_results            "
   ]
  },
  {
   "cell_type": "code",
   "execution_count": 12,
   "metadata": {
    "ExecuteTime": {
     "end_time": "2020-09-30T17:21:38.537255Z",
     "start_time": "2020-09-30T17:21:38.446532Z"
    },
    "scrolled": true
   },
   "outputs": [
    {
     "name": "stdout",
     "output_type": "stream",
     "text": [
      "Scrape Complete!\n",
      "Number of Postings Scraped: 120\n"
     ]
    }
   ],
   "source": [
    "# Scrape the page, return postings as variable 'data'\n",
    "data = get_page_listings(postings)"
   ]
  },
  {
   "cell_type": "code",
   "execution_count": 13,
   "metadata": {
    "ExecuteTime": {
     "end_time": "2020-09-30T17:21:38.540739Z",
     "start_time": "2020-09-30T17:21:38.538640Z"
    }
   },
   "outputs": [],
   "source": [
    "# Assigning headrs for DF\n",
    "headers = ['date', 'title', 'link', 'price', 'brs', 'sqft', 'hood']"
   ]
  },
  {
   "cell_type": "code",
   "execution_count": 14,
   "metadata": {
    "ExecuteTime": {
     "end_time": "2020-09-30T17:21:38.547540Z",
     "start_time": "2020-09-30T17:21:38.542759Z"
    }
   },
   "outputs": [],
   "source": [
    "# Creating the dataframe from scraped page\n",
    "df = pd.DataFrame(data, columns=headers)"
   ]
  },
  {
   "cell_type": "code",
   "execution_count": 15,
   "metadata": {
    "ExecuteTime": {
     "end_time": "2020-09-30T17:21:38.561270Z",
     "start_time": "2020-09-30T17:21:38.549455Z"
    }
   },
   "outputs": [
    {
     "data": {
      "text/html": [
       "<div>\n",
       "<style scoped>\n",
       "    .dataframe tbody tr th:only-of-type {\n",
       "        vertical-align: middle;\n",
       "    }\n",
       "\n",
       "    .dataframe tbody tr th {\n",
       "        vertical-align: top;\n",
       "    }\n",
       "\n",
       "    .dataframe thead th {\n",
       "        text-align: right;\n",
       "    }\n",
       "</style>\n",
       "<table border=\"1\" class=\"dataframe\">\n",
       "  <thead>\n",
       "    <tr style=\"text-align: right;\">\n",
       "      <th></th>\n",
       "      <th>date</th>\n",
       "      <th>title</th>\n",
       "      <th>link</th>\n",
       "      <th>price</th>\n",
       "      <th>brs</th>\n",
       "      <th>sqft</th>\n",
       "      <th>hood</th>\n",
       "    </tr>\n",
       "  </thead>\n",
       "  <tbody>\n",
       "    <tr>\n",
       "      <th>0</th>\n",
       "      <td>Sep 30</td>\n",
       "      <td>Spacious &amp; Luxury Studio! Floor To Ceiling Win...</td>\n",
       "      <td>https://portland.craigslist.org/mlt/apa/d/port...</td>\n",
       "      <td>1350</td>\n",
       "      <td>NaN</td>\n",
       "      <td>493.0</td>\n",
       "      <td>2014 SE 11th Ave - 303</td>\n",
       "    </tr>\n",
       "    <tr>\n",
       "      <th>1</th>\n",
       "      <td>Sep 30</td>\n",
       "      <td>1x1 with Carport &amp; W/D Included! 24-hr Fitness...</td>\n",
       "      <td>https://portland.craigslist.org/clc/apa/d/wils...</td>\n",
       "      <td>1234</td>\n",
       "      <td>1</td>\n",
       "      <td>620.0</td>\n",
       "      <td>Wilsonville</td>\n",
       "    </tr>\n",
       "    <tr>\n",
       "      <th>2</th>\n",
       "      <td>Sep 30</td>\n",
       "      <td>Charming Upstairs 1BDRM Apartment</td>\n",
       "      <td>https://portland.craigslist.org/mlt/apa/d/port...</td>\n",
       "      <td>1295</td>\n",
       "      <td>1</td>\n",
       "      <td>NaN</td>\n",
       "      <td>King</td>\n",
       "    </tr>\n",
       "    <tr>\n",
       "      <th>3</th>\n",
       "      <td>Sep 30</td>\n",
       "      <td>LOVE WHERE YOU LIVE!</td>\n",
       "      <td>https://portland.craigslist.org/wsc/apa/d/port...</td>\n",
       "      <td>1199</td>\n",
       "      <td>2</td>\n",
       "      <td>756.0</td>\n",
       "      <td>Tigard</td>\n",
       "    </tr>\n",
       "    <tr>\n",
       "      <th>4</th>\n",
       "      <td>Sep 30</td>\n",
       "      <td>1 Bedroom/ 1 Bathroom With 3 Months Free Parki...</td>\n",
       "      <td>https://portland.craigslist.org/wsc/apa/d/beav...</td>\n",
       "      <td>1265</td>\n",
       "      <td>1</td>\n",
       "      <td>647.0</td>\n",
       "      <td>6523 NE Cherry Drive Hillsboro, OR</td>\n",
       "    </tr>\n",
       "  </tbody>\n",
       "</table>\n",
       "</div>"
      ],
      "text/plain": [
       "     date                                              title  \\\n",
       "0  Sep 30  Spacious & Luxury Studio! Floor To Ceiling Win...   \n",
       "1  Sep 30  1x1 with Carport & W/D Included! 24-hr Fitness...   \n",
       "2  Sep 30                  Charming Upstairs 1BDRM Apartment   \n",
       "3  Sep 30                               LOVE WHERE YOU LIVE!   \n",
       "4  Sep 30  1 Bedroom/ 1 Bathroom With 3 Months Free Parki...   \n",
       "\n",
       "                                                link  price  brs   sqft  \\\n",
       "0  https://portland.craigslist.org/mlt/apa/d/port...   1350  NaN  493.0   \n",
       "1  https://portland.craigslist.org/clc/apa/d/wils...   1234    1  620.0   \n",
       "2  https://portland.craigslist.org/mlt/apa/d/port...   1295    1    NaN   \n",
       "3  https://portland.craigslist.org/wsc/apa/d/port...   1199    2  756.0   \n",
       "4  https://portland.craigslist.org/wsc/apa/d/beav...   1265    1  647.0   \n",
       "\n",
       "                                 hood  \n",
       "0              2014 SE 11th Ave - 303  \n",
       "1                         Wilsonville  \n",
       "2                                King  \n",
       "3                              Tigard  \n",
       "4  6523 NE Cherry Drive Hillsboro, OR  "
      ]
     },
     "execution_count": 15,
     "metadata": {},
     "output_type": "execute_result"
    }
   ],
   "source": [
    "df.head()"
   ]
  },
  {
   "cell_type": "markdown",
   "metadata": {},
   "source": [
    "Testing another page:"
   ]
  },
  {
   "cell_type": "code",
   "execution_count": 16,
   "metadata": {
    "ExecuteTime": {
     "end_time": "2020-09-30T17:21:38.567506Z",
     "start_time": "2020-09-30T17:21:38.564248Z"
    }
   },
   "outputs": [],
   "source": [
    "url_2 = 'https://portland.craigslist.org/search/apa?s=120'"
   ]
  },
  {
   "cell_type": "code",
   "execution_count": 17,
   "metadata": {
    "ExecuteTime": {
     "end_time": "2020-09-30T17:21:38.668561Z",
     "start_time": "2020-09-30T17:21:38.570418Z"
    }
   },
   "outputs": [
    {
     "data": {
      "text/plain": [
       "200"
      ]
     },
     "execution_count": 17,
     "metadata": {},
     "output_type": "execute_result"
    }
   ],
   "source": [
    "response = requests.get(url_2)\n",
    "response.status_code"
   ]
  },
  {
   "cell_type": "code",
   "execution_count": 18,
   "metadata": {
    "ExecuteTime": {
     "end_time": "2020-09-30T17:21:38.871389Z",
     "start_time": "2020-09-30T17:21:38.673014Z"
    }
   },
   "outputs": [],
   "source": [
    "page2 = response.text\n",
    "soup2 = BeautifulSoup(page2, 'html.parser')"
   ]
  },
  {
   "cell_type": "code",
   "execution_count": 19,
   "metadata": {
    "ExecuteTime": {
     "end_time": "2020-09-30T17:21:38.876162Z",
     "start_time": "2020-09-30T17:21:38.873186Z"
    }
   },
   "outputs": [],
   "source": [
    "def clpage_to_df(soup_obj):\n",
    "    '''\n",
    "    Function to create a DataFrame from one entire craiglist page\n",
    "    --> Nested Functions: \n",
    "            get_page_listings(postings)\n",
    "                get_listing_details(post)\n",
    "    '''\n",
    "    \n",
    "    postings = soup.find_all('li', class_='result-row')\n",
    "    data = get_page_listings(postings)\n",
    "    df = pd.DataFrame(data, columns=headers)\n",
    "    \n",
    "    return df"
   ]
  },
  {
   "cell_type": "code",
   "execution_count": 20,
   "metadata": {
    "ExecuteTime": {
     "end_time": "2020-09-30T17:21:38.979342Z",
     "start_time": "2020-09-30T17:21:38.877788Z"
    }
   },
   "outputs": [
    {
     "name": "stdout",
     "output_type": "stream",
     "text": [
      "Scrape Complete!\n",
      "Number of Postings Scraped: 120\n"
     ]
    },
    {
     "data": {
      "text/html": [
       "<div>\n",
       "<style scoped>\n",
       "    .dataframe tbody tr th:only-of-type {\n",
       "        vertical-align: middle;\n",
       "    }\n",
       "\n",
       "    .dataframe tbody tr th {\n",
       "        vertical-align: top;\n",
       "    }\n",
       "\n",
       "    .dataframe thead th {\n",
       "        text-align: right;\n",
       "    }\n",
       "</style>\n",
       "<table border=\"1\" class=\"dataframe\">\n",
       "  <thead>\n",
       "    <tr style=\"text-align: right;\">\n",
       "      <th></th>\n",
       "      <th>date</th>\n",
       "      <th>title</th>\n",
       "      <th>link</th>\n",
       "      <th>price</th>\n",
       "      <th>brs</th>\n",
       "      <th>sqft</th>\n",
       "      <th>hood</th>\n",
       "    </tr>\n",
       "  </thead>\n",
       "  <tbody>\n",
       "    <tr>\n",
       "      <th>0</th>\n",
       "      <td>Sep 30</td>\n",
       "      <td>Spacious &amp; Luxury Studio! Floor To Ceiling Win...</td>\n",
       "      <td>https://portland.craigslist.org/mlt/apa/d/port...</td>\n",
       "      <td>1350</td>\n",
       "      <td>NaN</td>\n",
       "      <td>493.0</td>\n",
       "      <td>2014 SE 11th Ave - 303</td>\n",
       "    </tr>\n",
       "    <tr>\n",
       "      <th>1</th>\n",
       "      <td>Sep 30</td>\n",
       "      <td>1x1 with Carport &amp; W/D Included! 24-hr Fitness...</td>\n",
       "      <td>https://portland.craigslist.org/clc/apa/d/wils...</td>\n",
       "      <td>1234</td>\n",
       "      <td>1</td>\n",
       "      <td>620.0</td>\n",
       "      <td>Wilsonville</td>\n",
       "    </tr>\n",
       "    <tr>\n",
       "      <th>2</th>\n",
       "      <td>Sep 30</td>\n",
       "      <td>Charming Upstairs 1BDRM Apartment</td>\n",
       "      <td>https://portland.craigslist.org/mlt/apa/d/port...</td>\n",
       "      <td>1295</td>\n",
       "      <td>1</td>\n",
       "      <td>NaN</td>\n",
       "      <td>King</td>\n",
       "    </tr>\n",
       "    <tr>\n",
       "      <th>3</th>\n",
       "      <td>Sep 30</td>\n",
       "      <td>LOVE WHERE YOU LIVE!</td>\n",
       "      <td>https://portland.craigslist.org/wsc/apa/d/port...</td>\n",
       "      <td>1199</td>\n",
       "      <td>2</td>\n",
       "      <td>756.0</td>\n",
       "      <td>Tigard</td>\n",
       "    </tr>\n",
       "    <tr>\n",
       "      <th>4</th>\n",
       "      <td>Sep 30</td>\n",
       "      <td>1 Bedroom/ 1 Bathroom With 3 Months Free Parki...</td>\n",
       "      <td>https://portland.craigslist.org/wsc/apa/d/beav...</td>\n",
       "      <td>1265</td>\n",
       "      <td>1</td>\n",
       "      <td>647.0</td>\n",
       "      <td>6523 NE Cherry Drive Hillsboro, OR</td>\n",
       "    </tr>\n",
       "  </tbody>\n",
       "</table>\n",
       "</div>"
      ],
      "text/plain": [
       "     date                                              title  \\\n",
       "0  Sep 30  Spacious & Luxury Studio! Floor To Ceiling Win...   \n",
       "1  Sep 30  1x1 with Carport & W/D Included! 24-hr Fitness...   \n",
       "2  Sep 30                  Charming Upstairs 1BDRM Apartment   \n",
       "3  Sep 30                               LOVE WHERE YOU LIVE!   \n",
       "4  Sep 30  1 Bedroom/ 1 Bathroom With 3 Months Free Parki...   \n",
       "\n",
       "                                                link  price  brs   sqft  \\\n",
       "0  https://portland.craigslist.org/mlt/apa/d/port...   1350  NaN  493.0   \n",
       "1  https://portland.craigslist.org/clc/apa/d/wils...   1234    1  620.0   \n",
       "2  https://portland.craigslist.org/mlt/apa/d/port...   1295    1    NaN   \n",
       "3  https://portland.craigslist.org/wsc/apa/d/port...   1199    2  756.0   \n",
       "4  https://portland.craigslist.org/wsc/apa/d/beav...   1265    1  647.0   \n",
       "\n",
       "                                 hood  \n",
       "0              2014 SE 11th Ave - 303  \n",
       "1                         Wilsonville  \n",
       "2                                King  \n",
       "3                              Tigard  \n",
       "4  6523 NE Cherry Drive Hillsboro, OR  "
      ]
     },
     "execution_count": 20,
     "metadata": {},
     "output_type": "execute_result"
    }
   ],
   "source": [
    "df = clpage_to_df(soup)\n",
    "df.head()"
   ]
  }
 ],
 "metadata": {
  "kernelspec": {
   "display_name": "Python [conda env:metis] *",
   "language": "python",
   "name": "conda-env-metis-py"
  },
  "language_info": {
   "codemirror_mode": {
    "name": "ipython",
    "version": 3
   },
   "file_extension": ".py",
   "mimetype": "text/x-python",
   "name": "python",
   "nbconvert_exporter": "python",
   "pygments_lexer": "ipython3",
   "version": "3.8.5"
  },
  "toc": {
   "base_numbering": 1,
   "nav_menu": {},
   "number_sections": true,
   "sideBar": true,
   "skip_h1_title": false,
   "title_cell": "Table of Contents",
   "title_sidebar": "Contents",
   "toc_cell": false,
   "toc_position": {},
   "toc_section_display": true,
   "toc_window_display": false
  }
 },
 "nbformat": 4,
 "nbformat_minor": 4
}
