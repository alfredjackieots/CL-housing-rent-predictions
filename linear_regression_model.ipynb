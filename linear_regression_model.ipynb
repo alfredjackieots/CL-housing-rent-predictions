{
 "cells": [
  {
   "cell_type": "markdown",
   "metadata": {},
   "source": [
    "# Apartment Hunting on Craigslist\n",
    "\n",
    "## Using linear regression to predict rental prices in San Francisco"
   ]
  },
  {
   "cell_type": "code",
   "execution_count": 1,
   "metadata": {
    "ExecuteTime": {
     "end_time": "2020-10-09T01:46:15.426439Z",
     "start_time": "2020-10-09T01:46:14.277661Z"
    }
   },
   "outputs": [],
   "source": [
    "# Necessary imports\n",
    "import pandas as pd\n",
    "import numpy as np\n",
    "import seaborn as sns\n",
    "import matplotlib.pyplot as plt\n",
    "import matplotlib.pylab as plb \n",
    "%matplotlib inline\n",
    "\n",
    "import statsmodels.api as sm\n",
    "from sklearn.model_selection import train_test_split, KFold\n",
    "from sklearn.linear_model import LinearRegression, Lasso, LassoCV, Ridge, RidgeCV\n",
    "from sklearn.preprocessing import StandardScaler, PolynomialFeatures\n",
    "from sklearn.metrics import r2_score, mean_squared_error\n",
    "\n",
    "sns.set(context='notebook', style='whitegrid', font_scale=1.2)"
   ]
  },
  {
   "cell_type": "markdown",
   "metadata": {},
   "source": [
    "## Data Import & Setup"
   ]
  },
  {
   "cell_type": "code",
   "execution_count": 2,
   "metadata": {
    "ExecuteTime": {
     "end_time": "2020-10-09T01:46:15.435019Z",
     "start_time": "2020-10-09T01:46:15.428225Z"
    }
   },
   "outputs": [],
   "source": [
    "sf = pd.read_csv('data_files/sf_clean.csv')\n",
    "\n",
    "# Reformatting hood_district names\n",
    "sf['hood_district'] = sf['hood_district'].astype(int)\n",
    "sf['hood_district'] = sf['hood_district'].astype(str)"
   ]
  },
  {
   "cell_type": "markdown",
   "metadata": {},
   "source": [
    "To improve model accuracy, I'm limiting the scope of the model to rentals under $6,000 per month"
   ]
  },
  {
   "cell_type": "code",
   "execution_count": 3,
   "metadata": {
    "ExecuteTime": {
     "end_time": "2020-10-09T01:46:15.441199Z",
     "start_time": "2020-10-09T01:46:15.436694Z"
    }
   },
   "outputs": [],
   "source": [
    "sf = sf[sf['price'] < 6000]"
   ]
  },
  {
   "cell_type": "markdown",
   "metadata": {},
   "source": [
    "Converting Laundry and Parking to ordinal variables"
   ]
  },
  {
   "cell_type": "code",
   "execution_count": 4,
   "metadata": {
    "ExecuteTime": {
     "end_time": "2020-10-09T01:46:15.447107Z",
     "start_time": "2020-10-09T01:46:15.442825Z"
    }
   },
   "outputs": [],
   "source": [
    "laundry_dict = {'(a) in-unit': 2, \n",
    "               '(b) on-site': 1,\n",
    "               '(c) no laundry': 0}\n",
    "\n",
    "sf = sf.replace({'laundry': laundry_dict})"
   ]
  },
  {
   "cell_type": "code",
   "execution_count": 5,
   "metadata": {
    "ExecuteTime": {
     "end_time": "2020-10-09T01:46:15.453058Z",
     "start_time": "2020-10-09T01:46:15.448275Z"
    }
   },
   "outputs": [],
   "source": [
    "parking_dict = {'(a) valet': 3, \n",
    "               '(b) protected': 2,\n",
    "               '(c) off-street': 1,\n",
    "               '(d) no parking': 0}\n",
    "\n",
    "sf = sf.replace({'parking': parking_dict})"
   ]
  },
  {
   "cell_type": "markdown",
   "metadata": {},
   "source": [
    "Simplifying the Pets feature to a categorical variable (pets allowed or not)."
   ]
  },
  {
   "cell_type": "code",
   "execution_count": 6,
   "metadata": {
    "ExecuteTime": {
     "end_time": "2020-10-09T01:46:15.460041Z",
     "start_time": "2020-10-09T01:46:15.455641Z"
    }
   },
   "outputs": [],
   "source": [
    "pets_dict = {'(a) both': 1, \n",
    "            '(b) dogs': 1,\n",
    "            '(c) cats': 1,\n",
    "            '(d) no pets': 0}\n",
    "\n",
    "sf = sf.replace({'pets': pets_dict})"
   ]
  },
  {
   "cell_type": "markdown",
   "metadata": {},
   "source": [
    "Housing type (apartment, duplex, or single residence) has shown to be a weak feature in this model. "
   ]
  },
  {
   "cell_type": "code",
   "execution_count": 7,
   "metadata": {
    "ExecuteTime": {
     "end_time": "2020-10-09T01:46:15.465103Z",
     "start_time": "2020-10-09T01:46:15.462029Z"
    }
   },
   "outputs": [],
   "source": [
    "sf = sf.drop(['housing_type'], axis=1)"
   ]
  },
  {
   "cell_type": "markdown",
   "metadata": {},
   "source": [
    "Creating dummy variables for the last categorical feature: neighborhood districts"
   ]
  },
  {
   "cell_type": "code",
   "execution_count": 8,
   "metadata": {
    "ExecuteTime": {
     "end_time": "2020-10-09T01:46:15.473434Z",
     "start_time": "2020-10-09T01:46:15.466468Z"
    }
   },
   "outputs": [],
   "source": [
    "sf = pd.get_dummies(sf)\n",
    "sf = sf.drop(['hood_district_10'], axis=1)"
   ]
  },
  {
   "cell_type": "markdown",
   "metadata": {},
   "source": [
    "## Train / Test Split"
   ]
  },
  {
   "cell_type": "markdown",
   "metadata": {},
   "source": [
    "Setting up train/test split to evaluate the final model's performance. "
   ]
  },
  {
   "cell_type": "code",
   "execution_count": 9,
   "metadata": {
    "ExecuteTime": {
     "end_time": "2020-10-09T01:46:15.481004Z",
     "start_time": "2020-10-09T01:46:15.474723Z"
    }
   },
   "outputs": [],
   "source": [
    "X, y = sf.drop('price',axis=1), sf['price']\n",
    "\n",
    "# Training versus Test Data\n",
    "# hold out 20% of the data for testing\n",
    "X, X_test, y, y_test = train_test_split(X, y, test_size=.2, random_state=42)\n",
    "\n",
    "# Training versus Validation\n",
    "X_train, X_val, y_train, y_val = train_test_split(X, y, test_size=.2, random_state=4)"
   ]
  },
  {
   "cell_type": "markdown",
   "metadata": {},
   "source": [
    "## Polynomial Features Set Up"
   ]
  },
  {
   "cell_type": "code",
   "execution_count": 10,
   "metadata": {
    "ExecuteTime": {
     "end_time": "2020-10-09T01:46:15.491149Z",
     "start_time": "2020-10-09T01:46:15.482357Z"
    }
   },
   "outputs": [],
   "source": [
    "poly = PolynomialFeatures(degree=2, interaction_only=False)\n",
    "    \n",
    "X_train_poly = poly.fit_transform(X_train)\n",
    "X_val_poly = poly.transform(X_val)\n",
    "X_test_poly = poly.transform(X_test)"
   ]
  },
  {
   "cell_type": "code",
   "execution_count": 11,
   "metadata": {
    "ExecuteTime": {
     "end_time": "2020-10-09T01:46:15.496568Z",
     "start_time": "2020-10-09T01:46:15.492503Z"
    }
   },
   "outputs": [],
   "source": [
    "# Scaling for Ridge & Lasso \n",
    "scaler = StandardScaler(with_mean=False)\n",
    "\n",
    "X_train_scaled = scaler.fit_transform(X_train_poly)\n",
    "X_val_scaled = scaler.transform(X_val_poly)\n",
    "X_test_scaled = scaler.transform(X_test_poly)"
   ]
  },
  {
   "cell_type": "markdown",
   "metadata": {},
   "source": [
    "# Regularization"
   ]
  },
  {
   "cell_type": "markdown",
   "metadata": {},
   "source": [
    "## Lasso"
   ]
  },
  {
   "cell_type": "markdown",
   "metadata": {},
   "source": [
    "Providing the Lasso Cross Validation method a series of alphas to test and pick the best one."
   ]
  },
  {
   "cell_type": "code",
   "execution_count": 12,
   "metadata": {
    "ExecuteTime": {
     "end_time": "2020-10-09T01:46:25.424187Z",
     "start_time": "2020-10-09T01:46:15.497881Z"
    }
   },
   "outputs": [],
   "source": [
    "alphavec = 10**np.linspace(-2,1,10000)\n",
    "\n",
    "lasso_model = LassoCV(alphas=alphavec, cv=3).fit(X_train_scaled, y_train)"
   ]
  },
  {
   "cell_type": "code",
   "execution_count": 13,
   "metadata": {
    "ExecuteTime": {
     "end_time": "2020-10-09T01:46:25.432290Z",
     "start_time": "2020-10-09T01:46:25.426214Z"
    },
    "scrolled": true
   },
   "outputs": [
    {
     "data": {
      "text/plain": [
       "6.1699128249171915"
      ]
     },
     "execution_count": 13,
     "metadata": {},
     "output_type": "execute_result"
    }
   ],
   "source": [
    "las_alpha = lasso_model.alpha_\n",
    "las_alpha"
   ]
  },
  {
   "cell_type": "code",
   "execution_count": 14,
   "metadata": {
    "ExecuteTime": {
     "end_time": "2020-10-09T01:46:25.447711Z",
     "start_time": "2020-10-09T01:46:25.434367Z"
    }
   },
   "outputs": [
    {
     "name": "stdout",
     "output_type": "stream",
     "text": [
      "Lasso Regression train R^2: 0.79802\n",
      "Lasso Regression val R^2: 0.78779\n",
      "\n",
      "Lasso Regression RMSE (train): 453.69726\n",
      "Lasso Regression RMSE (val): 534.17586\n"
     ]
    }
   ],
   "source": [
    "las = Lasso(alpha=las_alpha)\n",
    "\n",
    "las.fit(X_train_scaled, y_train)\n",
    "print(f'Lasso Regression train R^2: {las.score(X_train_scaled, y_train):.5f}')\n",
    "print(f'Lasso Regression val R^2: {las.score(X_val_scaled, y_val):.5f}')\n",
    "print(\"\")\n",
    "print(f'Lasso Regression RMSE (train): {mean_squared_error(y_train, las.predict(X_train_scaled), squared=False):.5f}')\n",
    "print(f'Lasso Regression RMSE (val): {mean_squared_error(y_val, las.predict(X_val_scaled), squared=False):.5f}')"
   ]
  },
  {
   "cell_type": "markdown",
   "metadata": {},
   "source": [
    "Scoring high on both training and validation R^2 and RMSE metrics. "
   ]
  },
  {
   "cell_type": "markdown",
   "metadata": {},
   "source": [
    "## Ridge"
   ]
  },
  {
   "cell_type": "markdown",
   "metadata": {},
   "source": [
    "Again, providing an series of alphas for the Ridge Cross Validation method to evaluate and pick the best one."
   ]
  },
  {
   "cell_type": "code",
   "execution_count": 15,
   "metadata": {
    "ExecuteTime": {
     "end_time": "2020-10-09T01:46:28.279332Z",
     "start_time": "2020-10-09T01:46:25.449756Z"
    }
   },
   "outputs": [
    {
     "data": {
      "text/plain": [
       "RidgeCV(alphas=array([1.00000000e-02, 1.01862899e-02, 1.03760502e-02, 1.05693455e-02,\n",
       "       1.07662418e-02, 1.09668060e-02, 1.11711065e-02, 1.13792129e-02,\n",
       "       1.15911962e-02, 1.18071285e-02, 1.20270833e-02, 1.22511358e-02,\n",
       "       1.24793621e-02, 1.27118400e-02, 1.29486487e-02, 1.31898690e-02,\n",
       "       1.34355829e-02, 1.36858742e-02, 1.39408283e-02, 1.42005318e-02,\n",
       "       1.44650734e-02, 1.47345431e-0...\n",
       "       6.54080591e+01, 6.66265452e+01, 6.78677305e+01, 6.91320378e+01,\n",
       "       7.04198979e+01, 7.17317494e+01, 7.30680395e+01, 7.44292233e+01,\n",
       "       7.58157646e+01, 7.72281357e+01, 7.86668179e+01, 8.01323013e+01,\n",
       "       8.16250851e+01, 8.31456781e+01, 8.46945981e+01, 8.62723729e+01,\n",
       "       8.78795401e+01, 8.95166472e+01, 9.11842520e+01, 9.28829225e+01,\n",
       "       9.46132376e+01, 9.63757866e+01, 9.81711702e+01, 1.00000000e+02]),\n",
       "        cv=3)"
      ]
     },
     "execution_count": 15,
     "metadata": {},
     "output_type": "execute_result"
    }
   ],
   "source": [
    "alphavec = 10**np.linspace(-2,2,500)\n",
    "\n",
    "ridge_model = RidgeCV(alphas=alphavec, cv=3)\n",
    "ridge_model.fit(X_train_scaled, y_train)"
   ]
  },
  {
   "cell_type": "code",
   "execution_count": 16,
   "metadata": {
    "ExecuteTime": {
     "end_time": "2020-10-09T01:46:28.284060Z",
     "start_time": "2020-10-09T01:46:28.280946Z"
    }
   },
   "outputs": [
    {
     "data": {
      "text/plain": [
       "7.830465404301183"
      ]
     },
     "execution_count": 16,
     "metadata": {},
     "output_type": "execute_result"
    }
   ],
   "source": [
    "rid_alpha = ridge_model.alpha_\n",
    "rid_alpha"
   ]
  },
  {
   "cell_type": "code",
   "execution_count": 17,
   "metadata": {
    "ExecuteTime": {
     "end_time": "2020-10-09T01:46:28.293748Z",
     "start_time": "2020-10-09T01:46:28.285608Z"
    }
   },
   "outputs": [
    {
     "name": "stdout",
     "output_type": "stream",
     "text": [
      "Ridge Regression train R^2: 0.81330\n",
      "Ridge Regression val R^2: 0.78622\n",
      "\n",
      "Ridge Regression RMSE (train): 436.19833\n",
      "Ridge Regression RMSE (val): 536.14653\n"
     ]
    }
   ],
   "source": [
    "rid = Ridge(alpha=rid_alpha)\n",
    "\n",
    "rid.fit(X_train_scaled, y_train)\n",
    "print(f'Ridge Regression train R^2: {rid.score(X_train_scaled, y_train):.5f}')\n",
    "print(f'Ridge Regression val R^2: {rid.score(X_val_scaled, y_val):.5f}')\n",
    "print(\"\")\n",
    "print(f'Ridge Regression RMSE (train): {mean_squared_error(y_train, rid.predict(X_train_scaled), squared=False):.5f}')\n",
    "print(f'Ridge Regression RMSE (val): {mean_squared_error(y_val, rid.predict(X_val_scaled), squared=False):.5f}')"
   ]
  },
  {
   "cell_type": "markdown",
   "metadata": {},
   "source": [
    "Ridge regularization scoring very high as well. \n",
    "\n",
    "This is too close to call based on these splits. I'll set up a cross validation process using KFolds to evaluate each model over several runs and see if a clear winner emerges. "
   ]
  },
  {
   "cell_type": "markdown",
   "metadata": {},
   "source": [
    "## Ridge versus Lasso Evaluation"
   ]
  },
  {
   "cell_type": "markdown",
   "metadata": {},
   "source": [
    "### Using KFolds for Cross Validation"
   ]
  },
  {
   "cell_type": "code",
   "execution_count": 18,
   "metadata": {
    "ExecuteTime": {
     "end_time": "2020-10-09T01:46:28.339710Z",
     "start_time": "2020-10-09T01:46:28.299588Z"
    }
   },
   "outputs": [
    {
     "name": "stdout",
     "output_type": "stream",
     "text": [
      "Ridge\n",
      "Ridge mean cv r^2 (TRAIN): 0.81876 +- 0.00649\n",
      "Ridge mean cv r^2 (VAL): 0.76399 +- 0.00592\n",
      "Ridge mean RMSE (TRAIN): 443.24502 +- 6.960\n",
      "Ridge mean RMSE (VAL): 443.24502 +- 6.960\n",
      "\n",
      "Lasso\n",
      "Lasso mean cv r^2 (TRAIN): 0.80456 +- 0.00427\n",
      "Lasso mean cv r^2 (VAL): 0.76630 +- 0.00219\n",
      "Lasso mean RMSE (VAL): 460.32578 +- 4.06590\n",
      "Lasso mean RMSE (VAL): 502.91010 +- 7.85106\n"
     ]
    }
   ],
   "source": [
    "kf = KFold(n_splits=3, shuffle=True, random_state = 12)\n",
    "\n",
    "cv_rid_train_r2s, cv_las_train_r2s = [], []\n",
    "cv_rid_val_r2s, cv_las_val_r2s = [], []\n",
    "\n",
    "rid_rmses_train, las_rmses_train = [], []\n",
    "rid_rmses_val, las_rmses_val = [], []\n",
    "\n",
    "X_kf, y_kf = np.array(X), np.array(y)\n",
    "\n",
    "for train_ind, val_ind in kf.split(X, y):\n",
    "    \n",
    "    X_train, y_train = X_kf[train_ind], y_kf[train_ind]\n",
    "    X_val, y_val = X_kf[val_ind], y_kf[val_ind]\n",
    "    \n",
    "    # Set up poly features\n",
    "    poly = PolynomialFeatures(degree=2, interaction_only=False)\n",
    "    X_train_poly = poly.fit_transform(X_train)\n",
    "    X_val_poly = poly.transform(X_val)\n",
    "    \n",
    "    # Scaling for Ridge & Lasso \n",
    "    scaler = StandardScaler(with_mean=False)\n",
    "    X_train_scaled = scaler.fit_transform(X_train_poly)\n",
    "    X_val_scaled = scaler.transform(X_val_poly)\n",
    "    \n",
    "    # Lasso\n",
    "    las = Lasso(alpha=las_alpha)\n",
    "    las.fit(X_train_scaled, y_train)\n",
    "    \n",
    "    cv_las_train_r2s.append(las.score(X_train_scaled, y_train))\n",
    "    cv_las_val_r2s.append(las.score(X_val_scaled, y_val))\n",
    "    las_rmses_train.append(mean_squared_error(y_train, las.predict(X_train_scaled), squared=False))\n",
    "    las_rmses_val.append(mean_squared_error(y_val, las.predict(X_val_scaled), squared=False))\n",
    "    \n",
    "    # Ridge\n",
    "    rid = Ridge(alpha=rid_alpha)\n",
    "    rid.fit(X_train_scaled, y_train)\n",
    "    \n",
    "    cv_rid_train_r2s.append(rid.score(X_train_scaled, y_train))\n",
    "    cv_rid_val_r2s.append(rid.score(X_val_scaled, y_val))\n",
    "    rid_rmses_train.append(mean_squared_error(y_train, rid.predict(X_train_scaled), squared=False))\n",
    "    rid_rmses_val.append(mean_squared_error(y_val, rid.predict(X_val_scaled), squared=False))\n",
    "\n",
    "# Summary output\n",
    "\n",
    "print(\"Ridge\")\n",
    "print(f'Ridge mean cv r^2 (TRAIN): {np.mean(cv_rid_train_r2s):.5f} +- {np.std(cv_rid_train_r2s):.5f}')\n",
    "print(f'Ridge mean cv r^2 (VAL): {np.mean(cv_rid_val_r2s):.5f} +- {np.std(cv_rid_val_r2s):.5f}')\n",
    "print(f'Ridge mean RMSE (TRAIN): {np.mean(rid_rmses_train):.5f} +- {np.std(rid_rmses_train):.3f}')\n",
    "print(f'Ridge mean RMSE (VAL): {np.mean(rid_rmses_train):.5f} +- {np.std(rid_rmses_train):.3f}')\n",
    "print('')\n",
    "print(\"Lasso\")\n",
    "print(f'Lasso mean cv r^2 (TRAIN): {np.mean(cv_las_train_r2s):.5f} +- {np.std(cv_las_train_r2s):.5f}')\n",
    "print(f'Lasso mean cv r^2 (VAL): {np.mean(cv_las_val_r2s):.5f} +- {np.std(cv_las_val_r2s):.5f}')\n",
    "print(f'Lasso mean RMSE (VAL): {np.mean(las_rmses_train):.5f} +- {np.std(las_rmses_train):.5f}')\n",
    "print(f'Lasso mean RMSE (VAL): {np.mean(las_rmses_val):.5f} +- {np.std(las_rmses_val):.5f}')    "
   ]
  },
  {
   "cell_type": "markdown",
   "metadata": {},
   "source": [
    "The consistency of the Ridge regularized model makes it a compelling choice to move forward."
   ]
  },
  {
   "cell_type": "markdown",
   "metadata": {},
   "source": [
    "### Coefficients"
   ]
  },
  {
   "cell_type": "markdown",
   "metadata": {},
   "source": [
    "Coefficients of both models available for evaluation."
   ]
  },
  {
   "cell_type": "code",
   "execution_count": 19,
   "metadata": {
    "ExecuteTime": {
     "end_time": "2020-10-09T01:46:28.349871Z",
     "start_time": "2020-10-09T01:46:28.344026Z"
    },
    "scrolled": true
   },
   "outputs": [],
   "source": [
    "rid_coefs = rid.coef_\n",
    "las_coefs = las.coef_\n",
    "features = sf.columns[1:]\n",
    "\n",
    "coef_data = {'Features': poly.get_feature_names(X.columns),\n",
    "             'Ridge': rid_coefs,\n",
    "             'Lasso': las_coefs}\n",
    "\n",
    "coef_df = pd.DataFrame(coef_data)"
   ]
  },
  {
   "cell_type": "code",
   "execution_count": 20,
   "metadata": {
    "ExecuteTime": {
     "end_time": "2020-10-09T01:46:28.359656Z",
     "start_time": "2020-10-09T01:46:28.351433Z"
    }
   },
   "outputs": [
    {
     "data": {
      "text/html": [
       "<div>\n",
       "<style scoped>\n",
       "    .dataframe tbody tr th:only-of-type {\n",
       "        vertical-align: middle;\n",
       "    }\n",
       "\n",
       "    .dataframe tbody tr th {\n",
       "        vertical-align: top;\n",
       "    }\n",
       "\n",
       "    .dataframe thead th {\n",
       "        text-align: right;\n",
       "    }\n",
       "</style>\n",
       "<table border=\"1\" class=\"dataframe\">\n",
       "  <thead>\n",
       "    <tr style=\"text-align: right;\">\n",
       "      <th></th>\n",
       "      <th>Features</th>\n",
       "      <th>Ridge</th>\n",
       "      <th>Lasso</th>\n",
       "    </tr>\n",
       "  </thead>\n",
       "  <tbody>\n",
       "    <tr>\n",
       "      <th>0</th>\n",
       "      <td>1</td>\n",
       "      <td>0.000000</td>\n",
       "      <td>0.000000</td>\n",
       "    </tr>\n",
       "    <tr>\n",
       "      <th>1</th>\n",
       "      <td>sqft</td>\n",
       "      <td>461.300104</td>\n",
       "      <td>494.635534</td>\n",
       "    </tr>\n",
       "    <tr>\n",
       "      <th>2</th>\n",
       "      <td>beds</td>\n",
       "      <td>336.388960</td>\n",
       "      <td>278.829942</td>\n",
       "    </tr>\n",
       "    <tr>\n",
       "      <th>3</th>\n",
       "      <td>bath</td>\n",
       "      <td>75.581774</td>\n",
       "      <td>0.000000</td>\n",
       "    </tr>\n",
       "    <tr>\n",
       "      <th>4</th>\n",
       "      <td>laundry</td>\n",
       "      <td>-50.427037</td>\n",
       "      <td>-0.000000</td>\n",
       "    </tr>\n",
       "    <tr>\n",
       "      <th>5</th>\n",
       "      <td>pets</td>\n",
       "      <td>-27.857723</td>\n",
       "      <td>0.000000</td>\n",
       "    </tr>\n",
       "    <tr>\n",
       "      <th>6</th>\n",
       "      <td>parking</td>\n",
       "      <td>-173.334140</td>\n",
       "      <td>-0.000000</td>\n",
       "    </tr>\n",
       "    <tr>\n",
       "      <th>7</th>\n",
       "      <td>hood_district_1</td>\n",
       "      <td>27.601505</td>\n",
       "      <td>1.894155</td>\n",
       "    </tr>\n",
       "    <tr>\n",
       "      <th>8</th>\n",
       "      <td>hood_district_2</td>\n",
       "      <td>7.514400</td>\n",
       "      <td>0.000000</td>\n",
       "    </tr>\n",
       "    <tr>\n",
       "      <th>9</th>\n",
       "      <td>hood_district_3</td>\n",
       "      <td>5.660664</td>\n",
       "      <td>-0.000000</td>\n",
       "    </tr>\n",
       "  </tbody>\n",
       "</table>\n",
       "</div>"
      ],
      "text/plain": [
       "          Features       Ridge       Lasso\n",
       "0                1    0.000000    0.000000\n",
       "1             sqft  461.300104  494.635534\n",
       "2             beds  336.388960  278.829942\n",
       "3             bath   75.581774    0.000000\n",
       "4          laundry  -50.427037   -0.000000\n",
       "5             pets  -27.857723    0.000000\n",
       "6          parking -173.334140   -0.000000\n",
       "7  hood_district_1   27.601505    1.894155\n",
       "8  hood_district_2    7.514400    0.000000\n",
       "9  hood_district_3    5.660664   -0.000000"
      ]
     },
     "execution_count": 20,
     "metadata": {},
     "output_type": "execute_result"
    }
   ],
   "source": [
    "coef_df.head(10)"
   ]
  },
  {
   "cell_type": "code",
   "execution_count": 21,
   "metadata": {
    "ExecuteTime": {
     "end_time": "2020-10-09T01:46:28.363383Z",
     "start_time": "2020-10-09T01:46:28.361430Z"
    }
   },
   "outputs": [],
   "source": [
    "#coef_df[:50]"
   ]
  },
  {
   "cell_type": "code",
   "execution_count": 22,
   "metadata": {
    "ExecuteTime": {
     "end_time": "2020-10-09T01:46:28.366989Z",
     "start_time": "2020-10-09T01:46:28.365186Z"
    }
   },
   "outputs": [],
   "source": [
    "#coef_df[50:100]"
   ]
  },
  {
   "cell_type": "code",
   "execution_count": 23,
   "metadata": {
    "ExecuteTime": {
     "end_time": "2020-10-09T01:46:28.370263Z",
     "start_time": "2020-10-09T01:46:28.368517Z"
    }
   },
   "outputs": [],
   "source": [
    "#coef_df[100:]"
   ]
  },
  {
   "cell_type": "markdown",
   "metadata": {},
   "source": [
    "# Moving Forward with Ridge Regularization Model"
   ]
  },
  {
   "cell_type": "markdown",
   "metadata": {},
   "source": [
    "## Full train and test"
   ]
  },
  {
   "cell_type": "code",
   "execution_count": 24,
   "metadata": {
    "ExecuteTime": {
     "end_time": "2020-10-09T01:46:28.384770Z",
     "start_time": "2020-10-09T01:46:28.371854Z"
    }
   },
   "outputs": [],
   "source": [
    "poly = PolynomialFeatures(degree=2, interaction_only=False)\n",
    "    \n",
    "X_train_poly = poly.fit_transform(X)\n",
    "X_test_poly = poly.transform(X_test)\n",
    "\n",
    "# Scaling for Ridge & Lasso \n",
    "scaler = StandardScaler(with_mean=False)\n",
    "\n",
    "X_train_scaled = scaler.fit_transform(X_train_poly)\n",
    "X_test_scaled = scaler.transform(X_test_poly)"
   ]
  },
  {
   "cell_type": "code",
   "execution_count": 25,
   "metadata": {
    "ExecuteTime": {
     "end_time": "2020-10-09T01:46:28.392041Z",
     "start_time": "2020-10-09T01:46:28.386351Z"
    }
   },
   "outputs": [
    {
     "data": {
      "text/plain": [
       "Ridge(alpha=7.830465404301183)"
      ]
     },
     "execution_count": 25,
     "metadata": {},
     "output_type": "execute_result"
    }
   ],
   "source": [
    "rid = Ridge(alpha=rid_alpha)\n",
    "rid.fit(X_train_scaled, y)"
   ]
  },
  {
   "cell_type": "markdown",
   "metadata": {},
   "source": [
    "## Results"
   ]
  },
  {
   "cell_type": "code",
   "execution_count": 26,
   "metadata": {
    "ExecuteTime": {
     "end_time": "2020-10-09T01:46:28.402755Z",
     "start_time": "2020-10-09T01:46:28.393681Z"
    },
    "scrolled": true
   },
   "outputs": [
    {
     "name": "stdout",
     "output_type": "stream",
     "text": [
      "Ridge - training score:  0.8126102806703003\n",
      "Rige - test score:  0.7654766724734549\n",
      "\n",
      "RMSE - training:  450.9562073553731\n",
      "RMSE - test:  477.17411020645665\n",
      "\n",
      "MAE - training:  341.23389455873496\n",
      "MAE - test:  366.25041367614966\n"
     ]
    }
   ],
   "source": [
    "print(\"Ridge - training score: \", rid.score(X_train_scaled, y))\n",
    "print(\"Rige - test score: \", rid.score(X_test_scaled, y_test))\n",
    "print(\"\")\n",
    "print(\"RMSE - training: \", mean_squared_error(y, rid.predict(X_train_scaled), squared=False))\n",
    "print(\"RMSE - test: \", mean_squared_error(y_test, rid.predict(X_test_scaled), squared=False))\n",
    "print(\"\")\n",
    "print(\"MAE - training: \", np.mean(np.abs(rid.predict(X_train_scaled) - y)))\n",
    "print(\"MAE - test: \", np.mean(np.abs(rid.predict(X_test_scaled) - y_test)))"
   ]
  },
  {
   "cell_type": "markdown",
   "metadata": {},
   "source": [
    "## Charts"
   ]
  },
  {
   "cell_type": "markdown",
   "metadata": {},
   "source": [
    "### Actual versus Predicted"
   ]
  },
  {
   "cell_type": "code",
   "execution_count": 27,
   "metadata": {
    "ExecuteTime": {
     "end_time": "2020-10-09T01:46:28.406839Z",
     "start_time": "2020-10-09T01:46:28.404411Z"
    }
   },
   "outputs": [],
   "source": [
    "rid_predict = rid.predict(X_test_scaled)"
   ]
  },
  {
   "cell_type": "code",
   "execution_count": 32,
   "metadata": {
    "ExecuteTime": {
     "end_time": "2020-10-09T01:51:10.499010Z",
     "start_time": "2020-10-09T01:51:10.235221Z"
    }
   },
   "outputs": [
    {
     "data": {
      "image/png": "[encoded data removed]",
      "text/plain": [
       "<Figure size 1008x576 with 1 Axes>"
      ]
     },
     "metadata": {},
     "output_type": "display_data"
    }
   ],
   "source": [
    "plt.figure(figsize=(14, 8))\n",
    "plt.scatter(rid_predict, y_test, alpha=.6) \n",
    "\n",
    "z = np.polyfit(rid_predict, y_test, 1)\n",
    "p = np.poly1d(z)\n",
    "plb.plot(rid_predict, p(rid_predict), 'm-', color='red')\n",
    "plt.plot(np.linspace(0,7000,1000), np.linspace(0,7000,1000), color='grey')\n",
    "\n",
    "plt.xlim(0, 7000)\n",
    "plt.ylim(0, 7000)\n",
    "\n",
    "plt.suptitle('SF Apartment Rentals (Craigslist): Actual versus Predicted', fontsize=20, fontname='Arial')\n",
    "plt.title('Linear Regression with Ridge Regularization', fontsize=16, fontname='Arial')\n",
    "plt.xlabel('Predicted Values ($)', fontsize=16, fontname='Arial')\n",
    "plt.ylabel('Actual Values ($)', fontsize=16, fontname='Arial');\n",
    "\n",
    "#plt.savefig('img/ridge_actual_predicted.png')"
   ]
  },
  {
   "cell_type": "markdown",
   "metadata": {},
   "source": [
    "### Residuals Plot"
   ]
  },
  {
   "cell_type": "code",
   "execution_count": 29,
   "metadata": {
    "ExecuteTime": {
     "end_time": "2020-10-09T01:46:28.624135Z",
     "start_time": "2020-10-09T01:46:28.621430Z"
    }
   },
   "outputs": [],
   "source": [
    "rid_residual = (y_test - rid_predict)"
   ]
  },
  {
   "cell_type": "code",
   "execution_count": 33,
   "metadata": {
    "ExecuteTime": {
     "end_time": "2020-10-09T01:51:26.359356Z",
     "start_time": "2020-10-09T01:51:26.098964Z"
    }
   },
   "outputs": [
    {
     "data": {
      "image/png": "[encoded data removed]",
      "text/plain": [
       "<Figure size 1008x576 with 1 Axes>"
      ]
     },
     "metadata": {},
     "output_type": "display_data"
    }
   ],
   "source": [
    "plt.figure(figsize=(14, 8))\n",
    "plt.scatter(rid_predict, rid_residual, alpha=.7)   \n",
    "\n",
    "plt.axhline(0, linestyle='--', color='grey')\n",
    "plt.suptitle('Residuals', fontsize=20, fontname='Arial')\n",
    "plt.title('Linear Regression with Ridge Regularization', fontsize=16, fontname='Arial')\n",
    "plt.ylim(-2000, 2000)\n",
    "plt.xlabel('Predicted Values ($)', fontsize=16, fontname='Arial')\n",
    "plt.ylabel('Residuals ($)', fontsize=16, fontname='Arial');\n",
    "\n",
    "#plt.savefig('img/ridge_residuals.png')"
   ]
  },
  {
   "cell_type": "markdown",
   "metadata": {},
   "source": [
    "# Appendix"
   ]
  },
  {
   "cell_type": "markdown",
   "metadata": {},
   "source": [
    "## Distribution of Rental Prices in Sample"
   ]
  },
  {
   "cell_type": "code",
   "execution_count": 31,
   "metadata": {
    "ExecuteTime": {
     "end_time": "2020-10-09T01:46:29.013384Z",
     "start_time": "2020-10-09T01:46:28.790241Z"
    }
   },
   "outputs": [
    {
     "data": {
      "image/png": "[encoded data removed]",
      "text/plain": [
       "<Figure size 1008x576 with 1 Axes>"
      ]
     },
     "metadata": {},
     "output_type": "display_data"
    }
   ],
   "source": [
    "plt.figure(figsize=(14, 8))\n",
    "ax_actual = sns.histplot(sf.price, kde=True, bins=(list(range(500, 6001, 500))))\n",
    "plt.axvline(sf.price.mean(), linestyle='--', color='grey')\n",
    "#ax_predict = sns.histplot(rid_predict, kde=True)\n",
    "ax_actual.set_title('Distribution of SF Rental Prices', fontname='Arial', fontsize=18)\n",
    "ax_actual.set_xlabel('Price ($)', fontname='Arial', fontsize=16)\n",
    "ax_actual.set_ylabel('Count', fontname='Arial', fontsize=16)\n",
    "ax_actual.set_yticks([0, 25, 50, 75, 100, 125, 150, 175, 200, 225])\n",
    "ax_actual.set_xticks(list(range(500, 6001, 500)))\n",
    "ax_actual.set_xticklabels(list(range(500, 6001, 500)));\n",
    "\n",
    "#plt.savefig('img/price_distribution.png');"
   ]
  }
 ],
 "metadata": {
  "kernelspec": {
   "display_name": "Python [conda env:metis] *",
   "language": "python",
   "name": "conda-env-metis-py"
  },
  "language_info": {
   "codemirror_mode": {
    "name": "ipython",
    "version": 3
   },
   "file_extension": ".py",
   "mimetype": "text/x-python",
   "name": "python",
   "nbconvert_exporter": "python",
   "pygments_lexer": "ipython3",
   "version": "3.8.5"
  },
  "toc": {
   "base_numbering": 1,
   "nav_menu": {},
   "number_sections": true,
   "sideBar": true,
   "skip_h1_title": false,
   "title_cell": "Table of Contents",
   "title_sidebar": "Contents",
   "toc_cell": false,
   "toc_position": {},
   "toc_section_display": true,
   "toc_window_display": true
  },
  "varInspector": {
   "cols": {
    "lenName": 16,
    "lenType": 16,
    "lenVar": 40
   },
   "kernels_config": {
    "python": {
     "delete_cmd_postfix": "",
     "delete_cmd_prefix": "del ",
     "library": "var_list.py",
     "varRefreshCmd": "print(var_dic_list())"
    },
    "r": {
     "delete_cmd_postfix": ") ",
     "delete_cmd_prefix": "rm(",
     "library": "var_list.r",
     "varRefreshCmd": "cat(var_dic_list()) "
    }
   },
   "types_to_exclude": [
    "module",
    "function",
    "builtin_function_or_method",
    "instance",
    "_Feature"
   ],
   "window_display": false
  }
 },
 "nbformat": 4,
 "nbformat_minor": 4
}
