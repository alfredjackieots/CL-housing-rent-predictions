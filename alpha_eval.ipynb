{
 "cells": [
  {
   "cell_type": "markdown",
   "metadata": {},
   "source": [
    "# Find best alpha by looping through random states"
   ]
  },
  {
   "cell_type": "code",
   "execution_count": 1,
   "metadata": {
    "ExecuteTime": {
     "end_time": "2020-10-06T03:14:14.956307Z",
     "start_time": "2020-10-06T03:14:13.742189Z"
    }
   },
   "outputs": [],
   "source": [
    "# Necessary imports\n",
    "import pandas as pd\n",
    "import numpy as np\n",
    "import seaborn as sns\n",
    "import matplotlib.pyplot as plt\n",
    "%matplotlib inline\n",
    "\n",
    "import statsmodels.api as sm\n",
    "from sklearn.model_selection import train_test_split, KFold, cross_val_score\n",
    "from sklearn.linear_model import LinearRegression, Lasso, LassoCV, Ridge, RidgeCV, lars_path\n",
    "from sklearn.preprocessing import StandardScaler\n",
    "from sklearn.metrics import r2_score\n",
    "\n",
    "sns.set(context='notebook', style='whitegrid', font_scale=1.2)"
   ]
  },
  {
   "cell_type": "code",
   "execution_count": 2,
   "metadata": {
    "ExecuteTime": {
     "end_time": "2020-10-06T03:14:14.966794Z",
     "start_time": "2020-10-06T03:14:14.959069Z"
    }
   },
   "outputs": [],
   "source": [
    "sf = pd.read_csv('data_files/sf_clean.csv')\n",
    "\n",
    "# Reformatting hood_district names\n",
    "sf['hood_district'] = sf['hood_district'].astype(int)\n",
    "sf['hood_district'] = sf['hood_district'].astype(str)"
   ]
  },
  {
   "cell_type": "code",
   "execution_count": 3,
   "metadata": {
    "ExecuteTime": {
     "end_time": "2020-10-06T03:14:14.977968Z",
     "start_time": "2020-10-06T03:14:14.968737Z"
    }
   },
   "outputs": [],
   "source": [
    "sf = pd.get_dummies(sf)"
   ]
  },
  {
   "cell_type": "code",
   "execution_count": 4,
   "metadata": {
    "ExecuteTime": {
     "end_time": "2020-10-06T03:14:14.984010Z",
     "start_time": "2020-10-06T03:14:14.979850Z"
    }
   },
   "outputs": [],
   "source": [
    "cols_to_drop = ['laundry_(c) no laundry',\n",
    "               'pets_(d) no pets', \n",
    "               'housing_type_(c) multi',\n",
    "               'parking_(d) no parking',\n",
    "               'hood_district_10']\n",
    "\n",
    "sf = sf.drop(cols_to_drop, axis=1)"
   ]
  },
  {
   "cell_type": "code",
   "execution_count": 5,
   "metadata": {
    "ExecuteTime": {
     "end_time": "2020-10-06T03:14:15.004372Z",
     "start_time": "2020-10-06T03:14:14.985577Z"
    }
   },
   "outputs": [
    {
     "data": {
      "text/html": [
       "<div>\n",
       "<style scoped>\n",
       "    .dataframe tbody tr th:only-of-type {\n",
       "        vertical-align: middle;\n",
       "    }\n",
       "\n",
       "    .dataframe tbody tr th {\n",
       "        vertical-align: top;\n",
       "    }\n",
       "\n",
       "    .dataframe thead th {\n",
       "        text-align: right;\n",
       "    }\n",
       "</style>\n",
       "<table border=\"1\" class=\"dataframe\">\n",
       "  <thead>\n",
       "    <tr style=\"text-align: right;\">\n",
       "      <th></th>\n",
       "      <th>price</th>\n",
       "      <th>sqft</th>\n",
       "      <th>beds</th>\n",
       "      <th>bath</th>\n",
       "      <th>laundry_(a) in-unit</th>\n",
       "      <th>laundry_(b) on-site</th>\n",
       "      <th>pets_(a) both</th>\n",
       "      <th>pets_(b) dogs</th>\n",
       "      <th>pets_(c) cats</th>\n",
       "      <th>housing_type_(a) single</th>\n",
       "      <th>...</th>\n",
       "      <th>parking_(c) off-street</th>\n",
       "      <th>hood_district_1</th>\n",
       "      <th>hood_district_2</th>\n",
       "      <th>hood_district_3</th>\n",
       "      <th>hood_district_4</th>\n",
       "      <th>hood_district_5</th>\n",
       "      <th>hood_district_6</th>\n",
       "      <th>hood_district_7</th>\n",
       "      <th>hood_district_8</th>\n",
       "      <th>hood_district_9</th>\n",
       "    </tr>\n",
       "  </thead>\n",
       "  <tbody>\n",
       "    <tr>\n",
       "      <th>0</th>\n",
       "      <td>6800</td>\n",
       "      <td>1600.0</td>\n",
       "      <td>2.0</td>\n",
       "      <td>2.0</td>\n",
       "      <td>1</td>\n",
       "      <td>0</td>\n",
       "      <td>0</td>\n",
       "      <td>0</td>\n",
       "      <td>0</td>\n",
       "      <td>0</td>\n",
       "      <td>...</td>\n",
       "      <td>0</td>\n",
       "      <td>0</td>\n",
       "      <td>0</td>\n",
       "      <td>0</td>\n",
       "      <td>0</td>\n",
       "      <td>0</td>\n",
       "      <td>0</td>\n",
       "      <td>1</td>\n",
       "      <td>0</td>\n",
       "      <td>0</td>\n",
       "    </tr>\n",
       "    <tr>\n",
       "      <th>1</th>\n",
       "      <td>3500</td>\n",
       "      <td>550.0</td>\n",
       "      <td>1.0</td>\n",
       "      <td>1.0</td>\n",
       "      <td>1</td>\n",
       "      <td>0</td>\n",
       "      <td>1</td>\n",
       "      <td>0</td>\n",
       "      <td>0</td>\n",
       "      <td>0</td>\n",
       "      <td>...</td>\n",
       "      <td>0</td>\n",
       "      <td>0</td>\n",
       "      <td>0</td>\n",
       "      <td>0</td>\n",
       "      <td>0</td>\n",
       "      <td>0</td>\n",
       "      <td>0</td>\n",
       "      <td>1</td>\n",
       "      <td>0</td>\n",
       "      <td>0</td>\n",
       "    </tr>\n",
       "    <tr>\n",
       "      <th>2</th>\n",
       "      <td>5100</td>\n",
       "      <td>1300.0</td>\n",
       "      <td>2.0</td>\n",
       "      <td>1.0</td>\n",
       "      <td>1</td>\n",
       "      <td>0</td>\n",
       "      <td>1</td>\n",
       "      <td>0</td>\n",
       "      <td>0</td>\n",
       "      <td>0</td>\n",
       "      <td>...</td>\n",
       "      <td>0</td>\n",
       "      <td>0</td>\n",
       "      <td>0</td>\n",
       "      <td>0</td>\n",
       "      <td>0</td>\n",
       "      <td>0</td>\n",
       "      <td>0</td>\n",
       "      <td>1</td>\n",
       "      <td>0</td>\n",
       "      <td>0</td>\n",
       "    </tr>\n",
       "    <tr>\n",
       "      <th>3</th>\n",
       "      <td>9000</td>\n",
       "      <td>3500.0</td>\n",
       "      <td>3.0</td>\n",
       "      <td>2.5</td>\n",
       "      <td>1</td>\n",
       "      <td>0</td>\n",
       "      <td>0</td>\n",
       "      <td>0</td>\n",
       "      <td>0</td>\n",
       "      <td>0</td>\n",
       "      <td>...</td>\n",
       "      <td>0</td>\n",
       "      <td>0</td>\n",
       "      <td>0</td>\n",
       "      <td>0</td>\n",
       "      <td>0</td>\n",
       "      <td>0</td>\n",
       "      <td>0</td>\n",
       "      <td>1</td>\n",
       "      <td>0</td>\n",
       "      <td>0</td>\n",
       "    </tr>\n",
       "    <tr>\n",
       "      <th>4</th>\n",
       "      <td>3100</td>\n",
       "      <td>561.0</td>\n",
       "      <td>1.0</td>\n",
       "      <td>1.0</td>\n",
       "      <td>0</td>\n",
       "      <td>0</td>\n",
       "      <td>1</td>\n",
       "      <td>0</td>\n",
       "      <td>0</td>\n",
       "      <td>0</td>\n",
       "      <td>...</td>\n",
       "      <td>0</td>\n",
       "      <td>0</td>\n",
       "      <td>0</td>\n",
       "      <td>0</td>\n",
       "      <td>0</td>\n",
       "      <td>0</td>\n",
       "      <td>0</td>\n",
       "      <td>1</td>\n",
       "      <td>0</td>\n",
       "      <td>0</td>\n",
       "    </tr>\n",
       "  </tbody>\n",
       "</table>\n",
       "<p>5 rows × 23 columns</p>\n",
       "</div>"
      ],
      "text/plain": [
       "   price    sqft  beds  bath  laundry_(a) in-unit  laundry_(b) on-site  \\\n",
       "0   6800  1600.0   2.0   2.0                    1                    0   \n",
       "1   3500   550.0   1.0   1.0                    1                    0   \n",
       "2   5100  1300.0   2.0   1.0                    1                    0   \n",
       "3   9000  3500.0   3.0   2.5                    1                    0   \n",
       "4   3100   561.0   1.0   1.0                    0                    0   \n",
       "\n",
       "   pets_(a) both  pets_(b) dogs  pets_(c) cats  housing_type_(a) single  ...  \\\n",
       "0              0              0              0                        0  ...   \n",
       "1              1              0              0                        0  ...   \n",
       "2              1              0              0                        0  ...   \n",
       "3              0              0              0                        0  ...   \n",
       "4              1              0              0                        0  ...   \n",
       "\n",
       "   parking_(c) off-street  hood_district_1  hood_district_2  hood_district_3  \\\n",
       "0                       0                0                0                0   \n",
       "1                       0                0                0                0   \n",
       "2                       0                0                0                0   \n",
       "3                       0                0                0                0   \n",
       "4                       0                0                0                0   \n",
       "\n",
       "   hood_district_4  hood_district_5  hood_district_6  hood_district_7  \\\n",
       "0                0                0                0                1   \n",
       "1                0                0                0                1   \n",
       "2                0                0                0                1   \n",
       "3                0                0                0                1   \n",
       "4                0                0                0                1   \n",
       "\n",
       "   hood_district_8  hood_district_9  \n",
       "0                0                0  \n",
       "1                0                0  \n",
       "2                0                0  \n",
       "3                0                0  \n",
       "4                0                0  \n",
       "\n",
       "[5 rows x 23 columns]"
      ]
     },
     "execution_count": 5,
     "metadata": {},
     "output_type": "execute_result"
    }
   ],
   "source": [
    "sf.head()"
   ]
  },
  {
   "cell_type": "markdown",
   "metadata": {},
   "source": [
    "## Function to evaluate alphas"
   ]
  },
  {
   "cell_type": "code",
   "execution_count": 6,
   "metadata": {
    "ExecuteTime": {
     "end_time": "2020-10-06T03:14:15.015398Z",
     "start_time": "2020-10-06T03:14:15.006052Z"
    }
   },
   "outputs": [],
   "source": [
    "def find_best_alpha(rando_state_list, alphavec, X, y, model_type):\n",
    "    '''\n",
    "    Function to evalaute alphas at different random states for lasso or ridge models\n",
    "    \n",
    "    Inputs:  * list of random states\n",
    "             * vector of possible alphas to evaluate\n",
    "             * X - independent variables\n",
    "             * y - target variable\n",
    "             * model type: 'ridge' or 'lasso'\n",
    "             \n",
    "    Returns: For each random state\n",
    "                * Best alpha for the given random state\n",
    "                * Trains model using best alpha and returns: \n",
    "                    * Training r^2 value\n",
    "                    * Validation r^2 value\n",
    "                    * Training/Validation r^2 ratio\n",
    "    '''\n",
    "    \n",
    "    print(\"Model Type: \", model_type)\n",
    "    print(\"Alpha evaluation in progress...\\n\")    \n",
    "    \n",
    "    for r_state in rando_state_list:\n",
    "        \n",
    "        X, X_test, y, y_test = train_test_split(X, y, test_size=.2, random_state=r_state+1)\n",
    "        \n",
    "        X_train, X_val, y_train, y_val = train_test_split(X, y, test_size=.20, random_state=r_state+2)\n",
    "        \n",
    "        # Scalilng features\n",
    "        scaler = StandardScaler()\n",
    "\n",
    "        X_train_scaled = scaler.fit_transform(X_train.values)\n",
    "        X_val_scaled = scaler.transform(X_val.values)\n",
    "        X_test_scaled = scaler.transform(X_test.values)\n",
    "            \n",
    "        \n",
    "        if model_type == 'lasso':\n",
    "        \n",
    "            # Lasso Model Evaluation\n",
    "            lasso_model = LassoCV(alphas = alphavec, cv=5)\n",
    "            lasso_model.fit(X_train_scaled, y_train)\n",
    "            \n",
    "            # Find best alpha \n",
    "            best_alpha = lasso_model.alpha_\n",
    "        \n",
    "            # Fit Model\n",
    "            las = Lasso(alpha=best_alpha)\n",
    "\n",
    "            las.fit(X_train_scaled, y_train)\n",
    "            train_score = las.score(X_train_scaled, y_train)\n",
    "            val_score = las.score(X_val_scaled, y_val)\n",
    "            \n",
    "        elif model_type == 'ridge':\n",
    "            \n",
    "            # Ridge Model evaluation\n",
    "            # Lasso Model Evaluation\n",
    "            ridge_model = RidgeCV(alphas = alphavec, cv=5)\n",
    "            ridge_model.fit(X_train_scaled, y_train)\n",
    "            \n",
    "            # Find best alpha \n",
    "            best_alpha = ridge_model.alpha_\n",
    "        \n",
    "            # Fit Model\n",
    "            rid = Ridge(alpha=best_alpha)\n",
    "\n",
    "            rid.fit(X_train_scaled, y_train)\n",
    "            train_score = rid.score(X_train_scaled, y_train)\n",
    "            val_score = rid.score(X_val_scaled, y_val)\n",
    "            \n",
    "        else:\n",
    "            print(\"~~~ No Other Models Supported ~~~\")\n",
    "            break\n",
    "        \n",
    "        print(\"Random State: \", r_state)\n",
    "        print(\"~~~~~~~~~~~~~~~~~~\")\n",
    "        print(\"Best Alpha: \", best_alpha)\n",
    "        print(f'Lasso Regression train R^2: {train_score:.5f}')\n",
    "        print(f'Lasso Regression val R^2: {val_score:.5f}')\n",
    "        print(\"\")\n",
    "        print(f'Train/Val R^2 Ratio: {train_score/val_score: .5f}')\n",
    "        print(\"\")\n",
    "        print(\"~~~~~~~~~~~~~~~~~~~~~~~~~~~~~~~~~~~\")\n",
    "        print(\"\")\n",
    "        \n",
    "    print(\"Evaluation complete.\")    \n",
    "        \n"
   ]
  },
  {
   "cell_type": "markdown",
   "metadata": {},
   "source": [
    "## Model evaluations"
   ]
  },
  {
   "cell_type": "code",
   "execution_count": 7,
   "metadata": {
    "ExecuteTime": {
     "end_time": "2020-10-06T03:14:15.021937Z",
     "start_time": "2020-10-06T03:14:15.018710Z"
    }
   },
   "outputs": [],
   "source": [
    "X, y = sf.drop('price',axis=1), sf['price']"
   ]
  },
  {
   "cell_type": "markdown",
   "metadata": {},
   "source": [
    "### Ridge"
   ]
  },
  {
   "cell_type": "code",
   "execution_count": 8,
   "metadata": {
    "ExecuteTime": {
     "end_time": "2020-10-06T03:14:15.027337Z",
     "start_time": "2020-10-06T03:14:15.024787Z"
    }
   },
   "outputs": [],
   "source": [
    "rando_states = [6, 11, 14, 27, 32, 37, 42, 400]\n",
    "\n",
    "alphavec = 10**np.linspace(-2,2,500)"
   ]
  },
  {
   "cell_type": "code",
   "execution_count": 9,
   "metadata": {
    "ExecuteTime": {
     "end_time": "2020-10-06T03:14:37.180048Z",
     "start_time": "2020-10-06T03:14:15.029012Z"
    }
   },
   "outputs": [
    {
     "name": "stdout",
     "output_type": "stream",
     "text": [
      "Model Type:  ridge\n",
      "Alpha evaluation in progress...\n",
      "\n",
      "Random State:  6\n",
      "~~~~~~~~~~~~~~~~~~\n",
      "Best Alpha:  2.315951492743152\n",
      "Lasso Regression train R^2: 0.79214\n",
      "Lasso Regression val R^2: 0.73203\n",
      "\n",
      "Train/Val R^2 Ratio:  1.08212\n",
      "\n",
      "~~~~~~~~~~~~~~~~~~~~~~~~~~~~~~~~~~~\n",
      "\n",
      "Random State:  11\n",
      "~~~~~~~~~~~~~~~~~~\n",
      "Best Alpha:  24.591304254680438\n",
      "Lasso Regression train R^2: 0.77178\n",
      "Lasso Regression val R^2: 0.77619\n",
      "\n",
      "Train/Val R^2 Ratio:  0.99433\n",
      "\n",
      "~~~~~~~~~~~~~~~~~~~~~~~~~~~~~~~~~~~\n",
      "\n",
      "Random State:  14\n",
      "~~~~~~~~~~~~~~~~~~\n",
      "Best Alpha:  11.971713434189656\n",
      "Lasso Regression train R^2: 0.75764\n",
      "Lasso Regression val R^2: 0.80055\n",
      "\n",
      "Train/Val R^2 Ratio:  0.94641\n",
      "\n",
      "~~~~~~~~~~~~~~~~~~~~~~~~~~~~~~~~~~~\n",
      "\n",
      "Random State:  27\n",
      "~~~~~~~~~~~~~~~~~~\n",
      "Best Alpha:  2.151123430182165\n",
      "Lasso Regression train R^2: 0.78149\n",
      "Lasso Regression val R^2: 0.81222\n",
      "\n",
      "Train/Val R^2 Ratio:  0.96217\n",
      "\n",
      "~~~~~~~~~~~~~~~~~~~~~~~~~~~~~~~~~~~\n",
      "\n",
      "Random State:  32\n",
      "~~~~~~~~~~~~~~~~~~\n",
      "Best Alpha:  33.65534975507091\n",
      "Lasso Regression train R^2: 0.75900\n",
      "Lasso Regression val R^2: 0.74192\n",
      "\n",
      "Train/Val R^2 Ratio:  1.02302\n",
      "\n",
      "~~~~~~~~~~~~~~~~~~~~~~~~~~~~~~~~~~~\n",
      "\n",
      "Random State:  37\n",
      "~~~~~~~~~~~~~~~~~~\n",
      "Best Alpha:  41.23162591029748\n",
      "Lasso Regression train R^2: 0.72071\n",
      "Lasso Regression val R^2: 0.80118\n",
      "\n",
      "Train/Val R^2 Ratio:  0.89956\n",
      "\n",
      "~~~~~~~~~~~~~~~~~~~~~~~~~~~~~~~~~~~\n",
      "\n",
      "Random State:  42\n",
      "~~~~~~~~~~~~~~~~~~\n",
      "Best Alpha:  40.47756965997318\n",
      "Lasso Regression train R^2: 0.75696\n",
      "Lasso Regression val R^2: 0.72917\n",
      "\n",
      "Train/Val R^2 Ratio:  1.03811\n",
      "\n",
      "~~~~~~~~~~~~~~~~~~~~~~~~~~~~~~~~~~~\n",
      "\n",
      "Random State:  400\n",
      "~~~~~~~~~~~~~~~~~~\n",
      "Best Alpha:  37.59674965785464\n",
      "Lasso Regression train R^2: 0.75746\n",
      "Lasso Regression val R^2: 0.75334\n",
      "\n",
      "Train/Val R^2 Ratio:  1.00547\n",
      "\n",
      "~~~~~~~~~~~~~~~~~~~~~~~~~~~~~~~~~~~\n",
      "\n",
      "Evaluation complete.\n"
     ]
    }
   ],
   "source": [
    "find_best_alpha(rando_states, alphavec, X, y, model_type='ridge')"
   ]
  },
  {
   "cell_type": "code",
   "execution_count": 10,
   "metadata": {
    "ExecuteTime": {
     "end_time": "2020-10-06T03:14:37.184404Z",
     "start_time": "2020-10-06T03:14:37.181759Z"
    }
   },
   "outputs": [],
   "source": [
    "rando_states = [6, 11, 14, 27, 32, 37, 42, 400]\n",
    "\n",
    "alphavec = 10**np.linspace(-2,2,1000)"
   ]
  },
  {
   "cell_type": "code",
   "execution_count": 11,
   "metadata": {
    "ExecuteTime": {
     "end_time": "2020-10-06T03:14:40.319988Z",
     "start_time": "2020-10-06T03:14:37.186011Z"
    }
   },
   "outputs": [
    {
     "name": "stdout",
     "output_type": "stream",
     "text": [
      "Model Type:  lasso\n",
      "Alpha evaluation in progress...\n",
      "\n",
      "Random State:  6\n",
      "~~~~~~~~~~~~~~~~~~\n",
      "Best Alpha:  1.101645949633657\n",
      "Lasso Regression train R^2: 0.79215\n",
      "Lasso Regression val R^2: 0.73216\n",
      "\n",
      "Train/Val R^2 Ratio:  1.08193\n",
      "\n",
      "~~~~~~~~~~~~~~~~~~~~~~~~~~~~~~~~~~~\n",
      "\n",
      "Random State:  11\n",
      "~~~~~~~~~~~~~~~~~~\n",
      "Best Alpha:  2.0244465099768036\n",
      "Lasso Regression train R^2: 0.77691\n",
      "Lasso Regression val R^2: 0.77291\n",
      "\n",
      "Train/Val R^2 Ratio:  1.00518\n",
      "\n",
      "~~~~~~~~~~~~~~~~~~~~~~~~~~~~~~~~~~~\n",
      "\n",
      "Random State:  14\n",
      "~~~~~~~~~~~~~~~~~~\n",
      "Best Alpha:  0.8354528058382867\n",
      "Lasso Regression train R^2: 0.75973\n",
      "Lasso Regression val R^2: 0.80255\n",
      "\n",
      "Train/Val R^2 Ratio:  0.94665\n",
      "\n",
      "~~~~~~~~~~~~~~~~~~~~~~~~~~~~~~~~~~~\n",
      "\n",
      "Random State:  27\n",
      "~~~~~~~~~~~~~~~~~~\n",
      "Best Alpha:  0.9862658461312821\n",
      "Lasso Regression train R^2: 0.78163\n",
      "Lasso Regression val R^2: 0.81254\n",
      "\n",
      "Train/Val R^2 Ratio:  0.96196\n",
      "\n",
      "~~~~~~~~~~~~~~~~~~~~~~~~~~~~~~~~~~~\n",
      "\n",
      "Random State:  32\n",
      "~~~~~~~~~~~~~~~~~~\n",
      "Best Alpha:  45.67301270168747\n",
      "Lasso Regression train R^2: 0.75107\n",
      "Lasso Regression val R^2: 0.73062\n",
      "\n",
      "Train/Val R^2 Ratio:  1.02799\n",
      "\n",
      "~~~~~~~~~~~~~~~~~~~~~~~~~~~~~~~~~~~\n",
      "\n",
      "Random State:  37\n",
      "~~~~~~~~~~~~~~~~~~\n",
      "Best Alpha:  51.016153147498336\n",
      "Lasso Regression train R^2: 0.71463\n",
      "Lasso Regression val R^2: 0.80956\n",
      "\n",
      "Train/Val R^2 Ratio:  0.88275\n",
      "\n",
      "~~~~~~~~~~~~~~~~~~~~~~~~~~~~~~~~~~~\n",
      "\n",
      "Random State:  42\n",
      "~~~~~~~~~~~~~~~~~~\n",
      "Best Alpha:  61.34621717992506\n",
      "Lasso Regression train R^2: 0.75283\n",
      "Lasso Regression val R^2: 0.72255\n",
      "\n",
      "Train/Val R^2 Ratio:  1.04191\n",
      "\n",
      "~~~~~~~~~~~~~~~~~~~~~~~~~~~~~~~~~~~\n",
      "\n",
      "Random State:  400\n",
      "~~~~~~~~~~~~~~~~~~\n",
      "Best Alpha:  98.17298406188841\n",
      "Lasso Regression train R^2: 0.73897\n",
      "Lasso Regression val R^2: 0.75919\n",
      "\n",
      "Train/Val R^2 Ratio:  0.97336\n",
      "\n",
      "~~~~~~~~~~~~~~~~~~~~~~~~~~~~~~~~~~~\n",
      "\n",
      "Evaluation complete.\n"
     ]
    }
   ],
   "source": [
    "find_best_alpha(rando_states, alphavec, X, y, model_type='lasso')"
   ]
  }
 ],
 "metadata": {
  "kernelspec": {
   "display_name": "Python [conda env:metis] *",
   "language": "python",
   "name": "conda-env-metis-py"
  },
  "language_info": {
   "codemirror_mode": {
    "name": "ipython",
    "version": 3
   },
   "file_extension": ".py",
   "mimetype": "text/x-python",
   "name": "python",
   "nbconvert_exporter": "python",
   "pygments_lexer": "ipython3",
   "version": "3.8.5"
  },
  "toc": {
   "base_numbering": 1,
   "nav_menu": {},
   "number_sections": true,
   "sideBar": true,
   "skip_h1_title": false,
   "title_cell": "Table of Contents",
   "title_sidebar": "Contents",
   "toc_cell": false,
   "toc_position": {},
   "toc_section_display": true,
   "toc_window_display": false
  },
  "varInspector": {
   "cols": {
    "lenName": 16,
    "lenType": 16,
    "lenVar": 40
   },
   "kernels_config": {
    "python": {
     "delete_cmd_postfix": "",
     "delete_cmd_prefix": "del ",
     "library": "var_list.py",
     "varRefreshCmd": "print(var_dic_list())"
    },
    "r": {
     "delete_cmd_postfix": ") ",
     "delete_cmd_prefix": "rm(",
     "library": "var_list.r",
     "varRefreshCmd": "cat(var_dic_list()) "
    }
   },
   "types_to_exclude": [
    "module",
    "function",
    "builtin_function_or_method",
    "instance",
    "_Feature"
   ],
   "window_display": false
  }
 },
 "nbformat": 4,
 "nbformat_minor": 4
}
