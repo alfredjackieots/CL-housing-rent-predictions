{
 "cells": [
  {
   "cell_type": "markdown",
   "metadata": {},
   "source": [
    "# Model Evaluation\n",
    "\n",
    "Process \n",
    "1. Import data & set up dummy variables\n",
    "    * drop 1 column for each grouping!\n",
    "2. Split data: \n",
    "    * Train / Test: X, X_test, y, y_test (~20%)\n",
    "    * Train / Val: X_train, X_val, y_train, y_val (~60%?)\n",
    "3. Create 3 Models: Linear, Ridge, Lasso\n",
    "    * SCALE: Ridge & Lasso\n",
    "    * Keep default alphas\n",
    "    * use KFolds\n",
    "4. Evaluate basic models on scoring (r2 train, r2 val)\n",
    "    * Use KFolds \n",
    "    * if models are really close to one another, tune alphas\n",
    "    * Pick an alpha range to loop through and compare results \n",
    "5. Tune alphas for Ridge & Lasso\n",
    "    * difference between r2 train and r2 val will be guide\n",
    "    * if r2 train > r2 val --> overfitting --> increase alpha\n",
    "6. Pick best version of each model to evaluate\n",
    "    * linear\n",
    "    * ridge at best alpha\n",
    "    * lasso at best alpha\n",
    "7. RETRAIN best model on entire training data (X)\n",
    "8. Evaluate model against hold out data (predict x_test vs. y_test) \n",
    "    * r2 train versus r2 test\n",
    "    * if difference is significant, more model tuning"
   ]
  },
  {
   "cell_type": "code",
   "execution_count": 1,
   "metadata": {
    "ExecuteTime": {
     "end_time": "2020-10-06T01:18:20.854338Z",
     "start_time": "2020-10-06T01:18:18.758883Z"
    }
   },
   "outputs": [],
   "source": [
    "# Necessary imports\n",
    "import pandas as pd\n",
    "import numpy as np\n",
    "import seaborn as sns\n",
    "import matplotlib.pyplot as plt\n",
    "%matplotlib inline\n",
    "\n",
    "import statsmodels.api as sm\n",
    "from sklearn.model_selection import train_test_split, KFold, cross_val_score\n",
    "from sklearn.linear_model import LinearRegression, Lasso, LassoCV, Ridge, RidgeCV, lars_path\n",
    "from sklearn.preprocessing import StandardScaler\n",
    "from sklearn.metrics import r2_score\n",
    "\n",
    "sns.set(context='notebook', style='whitegrid', font_scale=1.2)"
   ]
  },
  {
   "cell_type": "markdown",
   "metadata": {},
   "source": [
    "## Data Import & Setup"
   ]
  },
  {
   "cell_type": "code",
   "execution_count": 2,
   "metadata": {
    "ExecuteTime": {
     "end_time": "2020-10-06T01:18:20.864224Z",
     "start_time": "2020-10-06T01:18:20.856679Z"
    }
   },
   "outputs": [],
   "source": [
    "sf = pd.read_csv('data_files/sf_clean.csv')\n",
    "\n",
    "# Reformatting hood_district names\n",
    "sf['hood_district'] = sf['hood_district'].astype(int)\n",
    "sf['hood_district'] = sf['hood_district'].astype(str)"
   ]
  },
  {
   "cell_type": "code",
   "execution_count": 3,
   "metadata": {
    "ExecuteTime": {
     "end_time": "2020-10-06T01:18:20.877446Z",
     "start_time": "2020-10-06T01:18:20.867868Z"
    }
   },
   "outputs": [],
   "source": [
    "sf = pd.get_dummies(sf)"
   ]
  },
  {
   "cell_type": "code",
   "execution_count": 4,
   "metadata": {
    "ExecuteTime": {
     "end_time": "2020-10-06T01:18:20.883515Z",
     "start_time": "2020-10-06T01:18:20.878721Z"
    }
   },
   "outputs": [
    {
     "data": {
      "text/plain": [
       "Index(['price', 'sqft', 'beds', 'bath', 'laundry_(a) in-unit',\n",
       "       'laundry_(b) on-site', 'laundry_(c) no laundry', 'pets_(a) both',\n",
       "       'pets_(b) dogs', 'pets_(c) cats', 'pets_(d) no pets',\n",
       "       'housing_type_(a) single', 'housing_type_(b) double',\n",
       "       'housing_type_(c) multi', 'parking_(a) valet', 'parking_(b) protected',\n",
       "       'parking_(c) off-street', 'parking_(d) no parking', 'hood_district_1',\n",
       "       'hood_district_10', 'hood_district_2', 'hood_district_3',\n",
       "       'hood_district_4', 'hood_district_5', 'hood_district_6',\n",
       "       'hood_district_7', 'hood_district_8', 'hood_district_9'],\n",
       "      dtype='object')"
      ]
     },
     "execution_count": 4,
     "metadata": {},
     "output_type": "execute_result"
    }
   ],
   "source": [
    "sf.columns"
   ]
  },
  {
   "cell_type": "code",
   "execution_count": 5,
   "metadata": {
    "ExecuteTime": {
     "end_time": "2020-10-06T01:18:20.891717Z",
     "start_time": "2020-10-06T01:18:20.886557Z"
    }
   },
   "outputs": [],
   "source": [
    "cols_to_drop = ['laundry_(c) no laundry',\n",
    "               'pets_(d) no pets', \n",
    "               'housing_type_(c) multi',\n",
    "               'parking_(d) no parking',\n",
    "               'hood_district_10']\n",
    "\n",
    "sf = sf.drop(cols_to_drop, axis=1)"
   ]
  },
  {
   "cell_type": "code",
   "execution_count": 6,
   "metadata": {
    "ExecuteTime": {
     "end_time": "2020-10-06T01:18:20.909767Z",
     "start_time": "2020-10-06T01:18:20.894116Z"
    },
    "scrolled": true
   },
   "outputs": [
    {
     "data": {
      "text/html": [
       "<div>\n",
       "<style scoped>\n",
       "    .dataframe tbody tr th:only-of-type {\n",
       "        vertical-align: middle;\n",
       "    }\n",
       "\n",
       "    .dataframe tbody tr th {\n",
       "        vertical-align: top;\n",
       "    }\n",
       "\n",
       "    .dataframe thead th {\n",
       "        text-align: right;\n",
       "    }\n",
       "</style>\n",
       "<table border=\"1\" class=\"dataframe\">\n",
       "  <thead>\n",
       "    <tr style=\"text-align: right;\">\n",
       "      <th></th>\n",
       "      <th>price</th>\n",
       "      <th>sqft</th>\n",
       "      <th>beds</th>\n",
       "      <th>bath</th>\n",
       "      <th>laundry_(a) in-unit</th>\n",
       "      <th>laundry_(b) on-site</th>\n",
       "      <th>pets_(a) both</th>\n",
       "      <th>pets_(b) dogs</th>\n",
       "      <th>pets_(c) cats</th>\n",
       "      <th>housing_type_(a) single</th>\n",
       "      <th>...</th>\n",
       "      <th>parking_(c) off-street</th>\n",
       "      <th>hood_district_1</th>\n",
       "      <th>hood_district_2</th>\n",
       "      <th>hood_district_3</th>\n",
       "      <th>hood_district_4</th>\n",
       "      <th>hood_district_5</th>\n",
       "      <th>hood_district_6</th>\n",
       "      <th>hood_district_7</th>\n",
       "      <th>hood_district_8</th>\n",
       "      <th>hood_district_9</th>\n",
       "    </tr>\n",
       "  </thead>\n",
       "  <tbody>\n",
       "    <tr>\n",
       "      <th>0</th>\n",
       "      <td>6800</td>\n",
       "      <td>1600.0</td>\n",
       "      <td>2.0</td>\n",
       "      <td>2.0</td>\n",
       "      <td>1</td>\n",
       "      <td>0</td>\n",
       "      <td>0</td>\n",
       "      <td>0</td>\n",
       "      <td>0</td>\n",
       "      <td>0</td>\n",
       "      <td>...</td>\n",
       "      <td>0</td>\n",
       "      <td>0</td>\n",
       "      <td>0</td>\n",
       "      <td>0</td>\n",
       "      <td>0</td>\n",
       "      <td>0</td>\n",
       "      <td>0</td>\n",
       "      <td>1</td>\n",
       "      <td>0</td>\n",
       "      <td>0</td>\n",
       "    </tr>\n",
       "    <tr>\n",
       "      <th>1</th>\n",
       "      <td>3500</td>\n",
       "      <td>550.0</td>\n",
       "      <td>1.0</td>\n",
       "      <td>1.0</td>\n",
       "      <td>1</td>\n",
       "      <td>0</td>\n",
       "      <td>1</td>\n",
       "      <td>0</td>\n",
       "      <td>0</td>\n",
       "      <td>0</td>\n",
       "      <td>...</td>\n",
       "      <td>0</td>\n",
       "      <td>0</td>\n",
       "      <td>0</td>\n",
       "      <td>0</td>\n",
       "      <td>0</td>\n",
       "      <td>0</td>\n",
       "      <td>0</td>\n",
       "      <td>1</td>\n",
       "      <td>0</td>\n",
       "      <td>0</td>\n",
       "    </tr>\n",
       "    <tr>\n",
       "      <th>2</th>\n",
       "      <td>5100</td>\n",
       "      <td>1300.0</td>\n",
       "      <td>2.0</td>\n",
       "      <td>1.0</td>\n",
       "      <td>1</td>\n",
       "      <td>0</td>\n",
       "      <td>1</td>\n",
       "      <td>0</td>\n",
       "      <td>0</td>\n",
       "      <td>0</td>\n",
       "      <td>...</td>\n",
       "      <td>0</td>\n",
       "      <td>0</td>\n",
       "      <td>0</td>\n",
       "      <td>0</td>\n",
       "      <td>0</td>\n",
       "      <td>0</td>\n",
       "      <td>0</td>\n",
       "      <td>1</td>\n",
       "      <td>0</td>\n",
       "      <td>0</td>\n",
       "    </tr>\n",
       "    <tr>\n",
       "      <th>3</th>\n",
       "      <td>9000</td>\n",
       "      <td>3500.0</td>\n",
       "      <td>3.0</td>\n",
       "      <td>2.5</td>\n",
       "      <td>1</td>\n",
       "      <td>0</td>\n",
       "      <td>0</td>\n",
       "      <td>0</td>\n",
       "      <td>0</td>\n",
       "      <td>0</td>\n",
       "      <td>...</td>\n",
       "      <td>0</td>\n",
       "      <td>0</td>\n",
       "      <td>0</td>\n",
       "      <td>0</td>\n",
       "      <td>0</td>\n",
       "      <td>0</td>\n",
       "      <td>0</td>\n",
       "      <td>1</td>\n",
       "      <td>0</td>\n",
       "      <td>0</td>\n",
       "    </tr>\n",
       "    <tr>\n",
       "      <th>4</th>\n",
       "      <td>3100</td>\n",
       "      <td>561.0</td>\n",
       "      <td>1.0</td>\n",
       "      <td>1.0</td>\n",
       "      <td>0</td>\n",
       "      <td>0</td>\n",
       "      <td>1</td>\n",
       "      <td>0</td>\n",
       "      <td>0</td>\n",
       "      <td>0</td>\n",
       "      <td>...</td>\n",
       "      <td>0</td>\n",
       "      <td>0</td>\n",
       "      <td>0</td>\n",
       "      <td>0</td>\n",
       "      <td>0</td>\n",
       "      <td>0</td>\n",
       "      <td>0</td>\n",
       "      <td>1</td>\n",
       "      <td>0</td>\n",
       "      <td>0</td>\n",
       "    </tr>\n",
       "  </tbody>\n",
       "</table>\n",
       "<p>5 rows × 23 columns</p>\n",
       "</div>"
      ],
      "text/plain": [
       "   price    sqft  beds  bath  laundry_(a) in-unit  laundry_(b) on-site  \\\n",
       "0   6800  1600.0   2.0   2.0                    1                    0   \n",
       "1   3500   550.0   1.0   1.0                    1                    0   \n",
       "2   5100  1300.0   2.0   1.0                    1                    0   \n",
       "3   9000  3500.0   3.0   2.5                    1                    0   \n",
       "4   3100   561.0   1.0   1.0                    0                    0   \n",
       "\n",
       "   pets_(a) both  pets_(b) dogs  pets_(c) cats  housing_type_(a) single  ...  \\\n",
       "0              0              0              0                        0  ...   \n",
       "1              1              0              0                        0  ...   \n",
       "2              1              0              0                        0  ...   \n",
       "3              0              0              0                        0  ...   \n",
       "4              1              0              0                        0  ...   \n",
       "\n",
       "   parking_(c) off-street  hood_district_1  hood_district_2  hood_district_3  \\\n",
       "0                       0                0                0                0   \n",
       "1                       0                0                0                0   \n",
       "2                       0                0                0                0   \n",
       "3                       0                0                0                0   \n",
       "4                       0                0                0                0   \n",
       "\n",
       "   hood_district_4  hood_district_5  hood_district_6  hood_district_7  \\\n",
       "0                0                0                0                1   \n",
       "1                0                0                0                1   \n",
       "2                0                0                0                1   \n",
       "3                0                0                0                1   \n",
       "4                0                0                0                1   \n",
       "\n",
       "   hood_district_8  hood_district_9  \n",
       "0                0                0  \n",
       "1                0                0  \n",
       "2                0                0  \n",
       "3                0                0  \n",
       "4                0                0  \n",
       "\n",
       "[5 rows x 23 columns]"
      ]
     },
     "execution_count": 6,
     "metadata": {},
     "output_type": "execute_result"
    }
   ],
   "source": [
    "sf.head()"
   ]
  },
  {
   "cell_type": "markdown",
   "metadata": {},
   "source": [
    "## Training & Hold-Out Splits"
   ]
  },
  {
   "cell_type": "markdown",
   "metadata": {},
   "source": [
    "### Train / Test"
   ]
  },
  {
   "cell_type": "code",
   "execution_count": 7,
   "metadata": {
    "ExecuteTime": {
     "end_time": "2020-10-06T01:18:20.917644Z",
     "start_time": "2020-10-06T01:18:20.911350Z"
    }
   },
   "outputs": [],
   "source": [
    "X, y = sf.drop('price',axis=1), sf['price']\n",
    "\n",
    "# hold out 20% of the data for final testing\n",
    "X, X_test, y, y_test = train_test_split(X, y, test_size=.2, random_state=10)"
   ]
  },
  {
   "cell_type": "markdown",
   "metadata": {},
   "source": [
    "### Train / Validation"
   ]
  },
  {
   "cell_type": "code",
   "execution_count": 8,
   "metadata": {
    "ExecuteTime": {
     "end_time": "2020-10-06T01:18:20.923993Z",
     "start_time": "2020-10-06T01:18:20.919284Z"
    }
   },
   "outputs": [],
   "source": [
    "X_train, X_val, y_train, y_val = train_test_split(X, y, test_size=.20, random_state=10)"
   ]
  },
  {
   "cell_type": "markdown",
   "metadata": {},
   "source": [
    "## Models"
   ]
  },
  {
   "cell_type": "markdown",
   "metadata": {},
   "source": [
    "### Linear"
   ]
  },
  {
   "cell_type": "code",
   "execution_count": 9,
   "metadata": {
    "ExecuteTime": {
     "end_time": "2020-10-06T01:18:20.939312Z",
     "start_time": "2020-10-06T01:18:20.925631Z"
    }
   },
   "outputs": [
    {
     "name": "stdout",
     "output_type": "stream",
     "text": [
      "Linear Regression train R^2: 0.78184\n",
      "Linear Regression val R^2: 0.67066\n"
     ]
    }
   ],
   "source": [
    "lin = LinearRegression()\n",
    "\n",
    "lin.fit(X_train, y_train)\n",
    "print(f'Linear Regression train R^2: {lin.score(X_train, y_train):.5f}')\n",
    "print(f'Linear Regression val R^2: {lin.score(X_val, y_val):.5f}')"
   ]
  },
  {
   "cell_type": "markdown",
   "metadata": {},
   "source": [
    "### Ridge"
   ]
  },
  {
   "cell_type": "markdown",
   "metadata": {},
   "source": [
    "#### Scaling Features for Lasso / Ridge"
   ]
  },
  {
   "cell_type": "code",
   "execution_count": 10,
   "metadata": {
    "ExecuteTime": {
     "end_time": "2020-10-06T01:18:20.947029Z",
     "start_time": "2020-10-06T01:18:20.941565Z"
    }
   },
   "outputs": [],
   "source": [
    "scaler = StandardScaler()\n",
    "\n",
    "X_train_scaled = scaler.fit_transform(X_train.values)\n",
    "X_val_scaled = scaler.transform(X_val.values)\n",
    "X_test_scaled = scaler.transform(X_test.values)"
   ]
  },
  {
   "cell_type": "markdown",
   "metadata": {},
   "source": [
    "#### Model Setup"
   ]
  },
  {
   "cell_type": "code",
   "execution_count": 11,
   "metadata": {
    "ExecuteTime": {
     "end_time": "2020-10-06T01:18:20.956237Z",
     "start_time": "2020-10-06T01:18:20.948977Z"
    }
   },
   "outputs": [
    {
     "name": "stdout",
     "output_type": "stream",
     "text": [
      "Ridge Regression test R^2: 0.78181\n",
      "Ridge Regression val R^2: 0.67054\n"
     ]
    }
   ],
   "source": [
    "rid = Ridge()\n",
    "\n",
    "rid.fit(X_train_scaled, y_train)\n",
    "print(f'Ridge Regression test R^2: {rid.score(X_train_scaled, y_train):.5f}')\n",
    "print(f'Ridge Regression val R^2: {rid.score(X_val_scaled, y_val):.5f}')"
   ]
  },
  {
   "cell_type": "markdown",
   "metadata": {},
   "source": [
    "### Lasso"
   ]
  },
  {
   "cell_type": "code",
   "execution_count": 12,
   "metadata": {
    "ExecuteTime": {
     "end_time": "2020-10-06T01:18:20.965851Z",
     "start_time": "2020-10-06T01:18:20.958219Z"
    }
   },
   "outputs": [
    {
     "name": "stdout",
     "output_type": "stream",
     "text": [
      "Ridge Regression test R^2: 0.78172\n",
      "Ridge Regression val R^2: 0.67067\n"
     ]
    }
   ],
   "source": [
    "las = Lasso()\n",
    "\n",
    "las.fit(X_train_scaled, y_train)\n",
    "print(f'Ridge Regression test R^2: {las.score(X_train_scaled, y_train):.5f}')\n",
    "print(f'Ridge Regression val R^2: {las.score(X_val_scaled, y_val):.5f}')"
   ]
  },
  {
   "cell_type": "markdown",
   "metadata": {},
   "source": [
    "### Model Evaluation using KFolds"
   ]
  },
  {
   "cell_type": "code",
   "execution_count": 13,
   "metadata": {
    "ExecuteTime": {
     "end_time": "2020-10-06T01:18:20.979145Z",
     "start_time": "2020-10-06T01:18:20.968956Z"
    }
   },
   "outputs": [],
   "source": [
    "sf2 = sf.copy()\n",
    "\n",
    "X, y = sf2.drop('price',axis=1), sf['price']\n",
    "\n",
    "X, X_test, y, y_test = train_test_split(X, y, test_size=.2, random_state=30)\n",
    "\n",
    "#this helps with the way kf will generate indices below\n",
    "X, y = np.array(X), np.array(y)"
   ]
  },
  {
   "cell_type": "code",
   "execution_count": 14,
   "metadata": {
    "ExecuteTime": {
     "end_time": "2020-10-06T01:18:21.033444Z",
     "start_time": "2020-10-06T01:18:20.981804Z"
    },
    "scrolled": true
   },
   "outputs": [
    {
     "name": "stdout",
     "output_type": "stream",
     "text": [
      "Simple scores:  [0.7902121151705227, 0.678231918470749, 0.6539934339757945, 0.7160366020304101, 0.8024668639219245]\n",
      "Ridge scores:  [0.789965695329414, 0.6794760528664688, 0.6538530428786878, 0.7162344132034061, 0.8022393400128285]\n",
      "Lasso scores:  [0.7904453069834163, 0.6802749348235684, 0.6541668011093027, 0.7158473766765832, 0.8020956988709493] \n",
      "\n",
      "Simple mean cv r^2: 0.72819 +- 0.05918\n",
      "Ridge mean cv r^2: 0.72835 +- 0.05889\n",
      "Lasso mean cv r^2: 0.72857 +- 0.05876\n"
     ]
    }
   ],
   "source": [
    "kf = KFold(n_splits=5, shuffle=True, random_state =12)\n",
    "\n",
    "cv_lin_r2s, cv_rid_r2s, cv_las_r2s = [], [], []  #collect the validation results for both models\n",
    "\n",
    "for train_ind, val_ind in kf.split(X,y):\n",
    "    \n",
    "    X_train, y_train = X[train_ind], y[train_ind]\n",
    "    X_val, y_val = X[val_ind], y[val_ind] \n",
    "    \n",
    "    #simple linear regression\n",
    "    lin = LinearRegression()\n",
    "    rid = Ridge()\n",
    "    las = Lasso()\n",
    "\n",
    "    lin.fit(X_train, y_train)\n",
    "    cv_lin_r2s.append(lin.score(X_val, y_val))\n",
    "    \n",
    "    #ridge/lasso with feature scaling\n",
    "    scaler = StandardScaler()\n",
    "    X_train_scaled = scaler.fit_transform(X_train)\n",
    "    X_val_scaled = scaler.transform(X_val)\n",
    "    \n",
    "    rid.fit(X_train_scaled, y_train)\n",
    "    cv_rid_r2s.append(rid.score(X_val_scaled, y_val))\n",
    "    \n",
    "    \n",
    "    #lasso with feature scaling\n",
    "    las.fit(X_train_scaled, y_train)\n",
    "    cv_las_r2s.append(las.score(X_val_scaled, y_val))\n",
    "\n",
    "print('Simple scores: ', cv_lin_r2s)\n",
    "print('Ridge scores: ', cv_rid_r2s)\n",
    "print('Lasso scores: ', cv_las_r2s, '\\n')\n",
    "\n",
    "print(f'Simple mean cv r^2: {np.mean(cv_lin_r2s):.5f} +- {np.std(cv_lin_r2s):.5f}')\n",
    "print(f'Ridge mean cv r^2: {np.mean(cv_rid_r2s):.5f} +- {np.std(cv_rid_r2s):.5f}')\n",
    "print(f'Lasso mean cv r^2: {np.mean(cv_las_r2s):.5f} +- {np.std(cv_las_r2s):.5f}')"
   ]
  },
  {
   "cell_type": "markdown",
   "metadata": {},
   "source": [
    "## Alpha Tuning - Ridge & Lasso"
   ]
  },
  {
   "cell_type": "code",
   "execution_count": 15,
   "metadata": {
    "ExecuteTime": {
     "end_time": "2020-10-06T01:18:21.043924Z",
     "start_time": "2020-10-06T01:18:21.035823Z"
    }
   },
   "outputs": [],
   "source": [
    "sf3 = sf.copy()\n",
    "\n",
    "X, y = sf3.drop('price',axis=1), sf['price']\n",
    "\n",
    "X, X_test, y, y_test = train_test_split(X, y, test_size=.2, random_state=30)"
   ]
  },
  {
   "cell_type": "code",
   "execution_count": 16,
   "metadata": {
    "ExecuteTime": {
     "end_time": "2020-10-06T01:18:21.051062Z",
     "start_time": "2020-10-06T01:18:21.046036Z"
    }
   },
   "outputs": [],
   "source": [
    "X_train, X_val, y_train, y_val = train_test_split(X, y, test_size=.20, random_state=10)"
   ]
  },
  {
   "cell_type": "code",
   "execution_count": 17,
   "metadata": {
    "ExecuteTime": {
     "end_time": "2020-10-06T01:18:21.063829Z",
     "start_time": "2020-10-06T01:18:21.058548Z"
    }
   },
   "outputs": [],
   "source": [
    "# Scalilng features\n",
    "scaler = StandardScaler()\n",
    "\n",
    "X_train_scaled = scaler.fit_transform(X_train.values)\n",
    "X_val_scaled = scaler.transform(X_val.values)\n",
    "X_test_scaled = scaler.transform(X_test.values)"
   ]
  },
  {
   "cell_type": "markdown",
   "metadata": {},
   "source": [
    "### Lasso"
   ]
  },
  {
   "cell_type": "code",
   "execution_count": 18,
   "metadata": {
    "ExecuteTime": {
     "end_time": "2020-10-06T01:18:21.398940Z",
     "start_time": "2020-10-06T01:18:21.068940Z"
    }
   },
   "outputs": [
    {
     "data": {
      "text/plain": [
       "LassoCV(alphas=array([1.00000000e-02, 1.01862899e-02, 1.03760502e-02, 1.05693455e-02,\n",
       "       1.07662418e-02, 1.09668060e-02, 1.11711065e-02, 1.13792129e-02,\n",
       "       1.15911962e-02, 1.18071285e-02, 1.20270833e-02, 1.22511358e-02,\n",
       "       1.24793621e-02, 1.27118400e-02, 1.29486487e-02, 1.31898690e-02,\n",
       "       1.34355829e-02, 1.36858742e-02, 1.39408283e-02, 1.42005318e-02,\n",
       "       1.44650734e-02, 1.47345431e-0...\n",
       "       6.54080591e+01, 6.66265452e+01, 6.78677305e+01, 6.91320378e+01,\n",
       "       7.04198979e+01, 7.17317494e+01, 7.30680395e+01, 7.44292233e+01,\n",
       "       7.58157646e+01, 7.72281357e+01, 7.86668179e+01, 8.01323013e+01,\n",
       "       8.16250851e+01, 8.31456781e+01, 8.46945981e+01, 8.62723729e+01,\n",
       "       8.78795401e+01, 8.95166472e+01, 9.11842520e+01, 9.28829225e+01,\n",
       "       9.46132376e+01, 9.63757866e+01, 9.81711702e+01, 1.00000000e+02]),\n",
       "        cv=5)"
      ]
     },
     "execution_count": 18,
     "metadata": {},
     "output_type": "execute_result"
    }
   ],
   "source": [
    "alphavec = 10**np.linspace(-2,2,500)\n",
    "\n",
    "lasso_model = LassoCV(alphas = alphavec, cv=5)\n",
    "lasso_model.fit(X_train_scaled, y_train)"
   ]
  },
  {
   "cell_type": "code",
   "execution_count": 19,
   "metadata": {
    "ExecuteTime": {
     "end_time": "2020-10-06T01:18:21.403610Z",
     "start_time": "2020-10-06T01:18:21.400602Z"
    }
   },
   "outputs": [
    {
     "data": {
      "text/plain": [
       "2.1117830444482424"
      ]
     },
     "execution_count": 19,
     "metadata": {},
     "output_type": "execute_result"
    }
   ],
   "source": [
    "las_alpha = lasso_model.alpha_\n",
    "las_alpha"
   ]
  },
  {
   "cell_type": "code",
   "execution_count": 20,
   "metadata": {
    "ExecuteTime": {
     "end_time": "2020-10-06T01:18:21.411050Z",
     "start_time": "2020-10-06T01:18:21.405365Z"
    }
   },
   "outputs": [
    {
     "name": "stdout",
     "output_type": "stream",
     "text": [
      "Lasso Regression test R^2: 0.73848\n",
      "Lasso Regression val R^2: 0.78571\n"
     ]
    }
   ],
   "source": [
    "las = Lasso(alpha=las_alpha)\n",
    "\n",
    "las.fit(X_train_scaled, y_train)\n",
    "print(f'Lasso Regression test R^2: {las.score(X_train_scaled, y_train):.5f}')\n",
    "print(f'Lasso Regression val R^2: {las.score(X_val_scaled, y_val):.5f}')"
   ]
  },
  {
   "cell_type": "markdown",
   "metadata": {},
   "source": [
    "### Ridge"
   ]
  },
  {
   "cell_type": "code",
   "execution_count": 21,
   "metadata": {
    "ExecuteTime": {
     "end_time": "2020-10-06T01:18:24.850818Z",
     "start_time": "2020-10-06T01:18:21.412915Z"
    }
   },
   "outputs": [
    {
     "data": {
      "text/plain": [
       "RidgeCV(alphas=array([1.00000000e-02, 1.01862899e-02, 1.03760502e-02, 1.05693455e-02,\n",
       "       1.07662418e-02, 1.09668060e-02, 1.11711065e-02, 1.13792129e-02,\n",
       "       1.15911962e-02, 1.18071285e-02, 1.20270833e-02, 1.22511358e-02,\n",
       "       1.24793621e-02, 1.27118400e-02, 1.29486487e-02, 1.31898690e-02,\n",
       "       1.34355829e-02, 1.36858742e-02, 1.39408283e-02, 1.42005318e-02,\n",
       "       1.44650734e-02, 1.47345431e-0...\n",
       "       6.54080591e+01, 6.66265452e+01, 6.78677305e+01, 6.91320378e+01,\n",
       "       7.04198979e+01, 7.17317494e+01, 7.30680395e+01, 7.44292233e+01,\n",
       "       7.58157646e+01, 7.72281357e+01, 7.86668179e+01, 8.01323013e+01,\n",
       "       8.16250851e+01, 8.31456781e+01, 8.46945981e+01, 8.62723729e+01,\n",
       "       8.78795401e+01, 8.95166472e+01, 9.11842520e+01, 9.28829225e+01,\n",
       "       9.46132376e+01, 9.63757866e+01, 9.81711702e+01, 1.00000000e+02]),\n",
       "        cv=5)"
      ]
     },
     "execution_count": 21,
     "metadata": {},
     "output_type": "execute_result"
    }
   ],
   "source": [
    "alphavec = 10**np.linspace(-2,2,500)\n",
    "\n",
    "ridge_model = RidgeCV(alphas = alphavec, cv=5)\n",
    "ridge_model.fit(X_train_scaled, y_train)"
   ]
  },
  {
   "cell_type": "code",
   "execution_count": 22,
   "metadata": {
    "ExecuteTime": {
     "end_time": "2020-10-06T01:18:24.855606Z",
     "start_time": "2020-10-06T01:18:24.852513Z"
    }
   },
   "outputs": [
    {
     "data": {
      "text/plain": [
       "2.5871740785959214"
      ]
     },
     "execution_count": 22,
     "metadata": {},
     "output_type": "execute_result"
    }
   ],
   "source": [
    "rid_alpha = ridge_model.alpha_\n",
    "rid_alpha"
   ]
  },
  {
   "cell_type": "code",
   "execution_count": 23,
   "metadata": {
    "ExecuteTime": {
     "end_time": "2020-10-06T01:18:24.862945Z",
     "start_time": "2020-10-06T01:18:24.857286Z"
    }
   },
   "outputs": [
    {
     "name": "stdout",
     "output_type": "stream",
     "text": [
      "Ridge Regression test R^2: 0.73873\n",
      "Ridge Regression val R^2: 0.78592\n"
     ]
    }
   ],
   "source": [
    "rid = Ridge(alpha=rid_alpha)\n",
    "\n",
    "rid.fit(X_train_scaled, y_train)\n",
    "print(f'Ridge Regression test R^2: {rid.score(X_train_scaled, y_train):.5f}')\n",
    "print(f'Ridge Regression val R^2: {rid.score(X_val_scaled, y_val):.5f}')"
   ]
  },
  {
   "cell_type": "code",
   "execution_count": 24,
   "metadata": {
    "ExecuteTime": {
     "end_time": "2020-10-06T01:18:24.877603Z",
     "start_time": "2020-10-06T01:18:24.865007Z"
    }
   },
   "outputs": [
    {
     "data": {
      "text/html": [
       "<div>\n",
       "<style scoped>\n",
       "    .dataframe tbody tr th:only-of-type {\n",
       "        vertical-align: middle;\n",
       "    }\n",
       "\n",
       "    .dataframe tbody tr th {\n",
       "        vertical-align: top;\n",
       "    }\n",
       "\n",
       "    .dataframe thead th {\n",
       "        text-align: right;\n",
       "    }\n",
       "</style>\n",
       "<table border=\"1\" class=\"dataframe\">\n",
       "  <thead>\n",
       "    <tr style=\"text-align: right;\">\n",
       "      <th></th>\n",
       "      <th>Features</th>\n",
       "      <th>Linear</th>\n",
       "      <th>Ridge</th>\n",
       "      <th>Lasso</th>\n",
       "    </tr>\n",
       "  </thead>\n",
       "  <tbody>\n",
       "    <tr>\n",
       "      <th>0</th>\n",
       "      <td>sqft</td>\n",
       "      <td>2.033856</td>\n",
       "      <td>957.181236</td>\n",
       "      <td>968.179587</td>\n",
       "    </tr>\n",
       "    <tr>\n",
       "      <th>1</th>\n",
       "      <td>beds</td>\n",
       "      <td>114.780222</td>\n",
       "      <td>111.329017</td>\n",
       "      <td>104.323032</td>\n",
       "    </tr>\n",
       "    <tr>\n",
       "      <th>2</th>\n",
       "      <td>bath</td>\n",
       "      <td>445.059762</td>\n",
       "      <td>245.145479</td>\n",
       "      <td>242.251573</td>\n",
       "    </tr>\n",
       "    <tr>\n",
       "      <th>3</th>\n",
       "      <td>laundry_(a) in-unit</td>\n",
       "      <td>173.740595</td>\n",
       "      <td>126.507968</td>\n",
       "      <td>117.193070</td>\n",
       "    </tr>\n",
       "    <tr>\n",
       "      <th>4</th>\n",
       "      <td>laundry_(b) on-site</td>\n",
       "      <td>-80.711853</td>\n",
       "      <td>13.899650</td>\n",
       "      <td>6.698238</td>\n",
       "    </tr>\n",
       "    <tr>\n",
       "      <th>5</th>\n",
       "      <td>pets_(a) both</td>\n",
       "      <td>-34.860571</td>\n",
       "      <td>-8.201269</td>\n",
       "      <td>-4.588684</td>\n",
       "    </tr>\n",
       "    <tr>\n",
       "      <th>6</th>\n",
       "      <td>pets_(b) dogs</td>\n",
       "      <td>130.004859</td>\n",
       "      <td>25.407144</td>\n",
       "      <td>24.673251</td>\n",
       "    </tr>\n",
       "    <tr>\n",
       "      <th>7</th>\n",
       "      <td>pets_(c) cats</td>\n",
       "      <td>-31.840035</td>\n",
       "      <td>-13.327121</td>\n",
       "      <td>-11.043984</td>\n",
       "    </tr>\n",
       "    <tr>\n",
       "      <th>8</th>\n",
       "      <td>housing_type_(a) single</td>\n",
       "      <td>68.667593</td>\n",
       "      <td>44.934480</td>\n",
       "      <td>43.016688</td>\n",
       "    </tr>\n",
       "    <tr>\n",
       "      <th>9</th>\n",
       "      <td>housing_type_(b) double</td>\n",
       "      <td>62.693603</td>\n",
       "      <td>17.423840</td>\n",
       "      <td>14.759738</td>\n",
       "    </tr>\n",
       "    <tr>\n",
       "      <th>10</th>\n",
       "      <td>parking_(a) valet</td>\n",
       "      <td>1384.470871</td>\n",
       "      <td>266.408693</td>\n",
       "      <td>264.316214</td>\n",
       "    </tr>\n",
       "    <tr>\n",
       "      <th>11</th>\n",
       "      <td>parking_(b) protected</td>\n",
       "      <td>56.925378</td>\n",
       "      <td>21.197153</td>\n",
       "      <td>18.972992</td>\n",
       "    </tr>\n",
       "    <tr>\n",
       "      <th>12</th>\n",
       "      <td>parking_(c) off-street</td>\n",
       "      <td>323.068169</td>\n",
       "      <td>52.268690</td>\n",
       "      <td>50.382237</td>\n",
       "    </tr>\n",
       "    <tr>\n",
       "      <th>13</th>\n",
       "      <td>hood_district_1</td>\n",
       "      <td>745.311995</td>\n",
       "      <td>144.189408</td>\n",
       "      <td>127.856961</td>\n",
       "    </tr>\n",
       "    <tr>\n",
       "      <th>14</th>\n",
       "      <td>hood_district_2</td>\n",
       "      <td>664.966951</td>\n",
       "      <td>133.993581</td>\n",
       "      <td>116.661005</td>\n",
       "    </tr>\n",
       "    <tr>\n",
       "      <th>15</th>\n",
       "      <td>hood_district_3</td>\n",
       "      <td>487.575451</td>\n",
       "      <td>39.731208</td>\n",
       "      <td>31.036171</td>\n",
       "    </tr>\n",
       "    <tr>\n",
       "      <th>16</th>\n",
       "      <td>hood_district_4</td>\n",
       "      <td>819.055337</td>\n",
       "      <td>53.398055</td>\n",
       "      <td>45.007875</td>\n",
       "    </tr>\n",
       "    <tr>\n",
       "      <th>17</th>\n",
       "      <td>hood_district_5</td>\n",
       "      <td>1083.759784</td>\n",
       "      <td>299.497266</td>\n",
       "      <td>276.792481</td>\n",
       "    </tr>\n",
       "    <tr>\n",
       "      <th>18</th>\n",
       "      <td>hood_district_6</td>\n",
       "      <td>1125.399067</td>\n",
       "      <td>294.465527</td>\n",
       "      <td>275.119990</td>\n",
       "    </tr>\n",
       "    <tr>\n",
       "      <th>19</th>\n",
       "      <td>hood_district_7</td>\n",
       "      <td>1258.616170</td>\n",
       "      <td>371.811883</td>\n",
       "      <td>348.925059</td>\n",
       "    </tr>\n",
       "    <tr>\n",
       "      <th>20</th>\n",
       "      <td>hood_district_8</td>\n",
       "      <td>1024.477575</td>\n",
       "      <td>396.705975</td>\n",
       "      <td>367.303908</td>\n",
       "    </tr>\n",
       "    <tr>\n",
       "      <th>21</th>\n",
       "      <td>hood_district_9</td>\n",
       "      <td>878.551123</td>\n",
       "      <td>423.166203</td>\n",
       "      <td>390.166951</td>\n",
       "    </tr>\n",
       "  </tbody>\n",
       "</table>\n",
       "</div>"
      ],
      "text/plain": [
       "                   Features       Linear       Ridge       Lasso\n",
       "0                      sqft     2.033856  957.181236  968.179587\n",
       "1                      beds   114.780222  111.329017  104.323032\n",
       "2                      bath   445.059762  245.145479  242.251573\n",
       "3       laundry_(a) in-unit   173.740595  126.507968  117.193070\n",
       "4       laundry_(b) on-site   -80.711853   13.899650    6.698238\n",
       "5             pets_(a) both   -34.860571   -8.201269   -4.588684\n",
       "6             pets_(b) dogs   130.004859   25.407144   24.673251\n",
       "7             pets_(c) cats   -31.840035  -13.327121  -11.043984\n",
       "8   housing_type_(a) single    68.667593   44.934480   43.016688\n",
       "9   housing_type_(b) double    62.693603   17.423840   14.759738\n",
       "10        parking_(a) valet  1384.470871  266.408693  264.316214\n",
       "11    parking_(b) protected    56.925378   21.197153   18.972992\n",
       "12   parking_(c) off-street   323.068169   52.268690   50.382237\n",
       "13          hood_district_1   745.311995  144.189408  127.856961\n",
       "14          hood_district_2   664.966951  133.993581  116.661005\n",
       "15          hood_district_3   487.575451   39.731208   31.036171\n",
       "16          hood_district_4   819.055337   53.398055   45.007875\n",
       "17          hood_district_5  1083.759784  299.497266  276.792481\n",
       "18          hood_district_6  1125.399067  294.465527  275.119990\n",
       "19          hood_district_7  1258.616170  371.811883  348.925059\n",
       "20          hood_district_8  1024.477575  396.705975  367.303908\n",
       "21          hood_district_9   878.551123  423.166203  390.166951"
      ]
     },
     "execution_count": 24,
     "metadata": {},
     "output_type": "execute_result"
    }
   ],
   "source": [
    "lin_coefs = lin.coef_\n",
    "rid_coefs = rid.coef_\n",
    "las_coefs = las.coef_\n",
    "\n",
    "features = sf2.columns[1:]\n",
    "\n",
    "coef_data = {'Features': features,\n",
    "             'Linear': lin_coefs,\n",
    "             'Ridge': rid_coefs,\n",
    "             'Lasso': las_coefs}\n",
    "\n",
    "coef_df = pd.DataFrame(coef_data)\n",
    "coef_df"
   ]
  },
  {
   "cell_type": "markdown",
   "metadata": {},
   "source": [
    "### Full Train & Evaluation"
   ]
  },
  {
   "cell_type": "code",
   "execution_count": 25,
   "metadata": {
    "ExecuteTime": {
     "end_time": "2020-10-06T01:22:21.994913Z",
     "start_time": "2020-10-06T01:22:21.984766Z"
    }
   },
   "outputs": [
    {
     "name": "stdout",
     "output_type": "stream",
     "text": [
      "Ridge Regression full-train R^2: 0.74593\n",
      "Ridge Regression test R^2: 0.82500\n"
     ]
    }
   ],
   "source": [
    "rid = Ridge(alpha=rid_alpha)\n",
    "\n",
    "X_scaled = scaler.fit_transform(X)\n",
    "\n",
    "rid.fit(X_train_scaled, y_train)\n",
    "print(f'Ridge Regression full-train R^2: {rid.score(X_scaled, y):.5f}')\n",
    "print(f'Ridge Regression test R^2: {rid.score(X_test_scaled, y_test):.5f}')"
   ]
  },
  {
   "cell_type": "code",
   "execution_count": 27,
   "metadata": {
    "ExecuteTime": {
     "end_time": "2020-10-06T01:23:40.298900Z",
     "start_time": "2020-10-06T01:23:40.288572Z"
    }
   },
   "outputs": [
    {
     "name": "stdout",
     "output_type": "stream",
     "text": [
      "Lasso Regression full-train R^2: 0.74572\n",
      "Lasso Regression test R^2: 0.82481\n"
     ]
    }
   ],
   "source": [
    "las = Lasso(alpha=las_alpha)\n",
    "\n",
    "X_scaled = scaler.fit_transform(X)\n",
    "\n",
    "las.fit(X_train_scaled, y_train)\n",
    "print(f'Lasso Regression full-train R^2: {las.score(X_scaled, y):.5f}')\n",
    "print(f'Lasso Regression test R^2: {las.score(X_test_scaled, y_test):.5f}')"
   ]
  },
  {
   "cell_type": "code",
   "execution_count": null,
   "metadata": {},
   "outputs": [],
   "source": []
  }
 ],
 "metadata": {
  "kernelspec": {
   "display_name": "Python [conda env:metis] *",
   "language": "python",
   "name": "conda-env-metis-py"
  },
  "language_info": {
   "codemirror_mode": {
    "name": "ipython",
    "version": 3
   },
   "file_extension": ".py",
   "mimetype": "text/x-python",
   "name": "python",
   "nbconvert_exporter": "python",
   "pygments_lexer": "ipython3",
   "version": "3.8.5"
  },
  "toc": {
   "base_numbering": 1,
   "nav_menu": {},
   "number_sections": true,
   "sideBar": true,
   "skip_h1_title": false,
   "title_cell": "Table of Contents",
   "title_sidebar": "Contents",
   "toc_cell": false,
   "toc_position": {},
   "toc_section_display": true,
   "toc_window_display": true
  },
  "varInspector": {
   "cols": {
    "lenName": 16,
    "lenType": 16,
    "lenVar": 40
   },
   "kernels_config": {
    "python": {
     "delete_cmd_postfix": "",
     "delete_cmd_prefix": "del ",
     "library": "var_list.py",
     "varRefreshCmd": "print(var_dic_list())"
    },
    "r": {
     "delete_cmd_postfix": ") ",
     "delete_cmd_prefix": "rm(",
     "library": "var_list.r",
     "varRefreshCmd": "cat(var_dic_list()) "
    }
   },
   "types_to_exclude": [
    "module",
    "function",
    "builtin_function_or_method",
    "instance",
    "_Feature"
   ],
   "window_display": false
  }
 },
 "nbformat": 4,
 "nbformat_minor": 4
}
