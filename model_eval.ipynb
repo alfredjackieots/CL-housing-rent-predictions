{
 "cells": [
  {
   "cell_type": "markdown",
   "metadata": {},
   "source": [
    "# Model Evaluation\n",
    "\n",
    "Process \n",
    "1. Import data & set up dummy variables\n",
    "    * drop 1 column for each grouping!\n",
    "2. Split data: \n",
    "    * Train / Test: X, X_test, y, y_test (~20%)\n",
    "    * Train / Val: X_train, X_val, y_train, y_val (~60%?)\n",
    "3. Create 3 Models: Linear, Ridge, Lasso\n",
    "    * SCALE: Ridge & Lasso\n",
    "    * Keep default alphas\n",
    "    * use KFolds\n",
    "4. Evaluate basic models on scoring (r2 train, r2 val)\n",
    "    * Use KFolds \n",
    "    * if models are really close to one another, tune alphas\n",
    "    * Pick an alpha range to loop through and compare results \n",
    "5. Tune alphas for Ridge & Lasso\n",
    "    * difference between r2 train and r2 val will be guide\n",
    "    * if r2 train > r2 val --> overfitting --> increase alpha\n",
    "6. Pick best version of each model to evaluate\n",
    "    * linear\n",
    "    * ridge at best alpha\n",
    "    * lasso at best alpha\n",
    "7. RETRAIN best model on entire training data (X)\n",
    "8. Evaluate model against hold out data (predict x_test vs. y_test) \n",
    "    * r2 train versus r2 test\n",
    "    * if difference is significant, more model tuning"
   ]
  },
  {
   "cell_type": "code",
   "execution_count": 1,
   "metadata": {
    "ExecuteTime": {
     "end_time": "2020-10-05T23:37:13.792953Z",
     "start_time": "2020-10-05T23:37:12.648970Z"
    }
   },
   "outputs": [],
   "source": [
    "# Necessary imports\n",
    "import pandas as pd\n",
    "import numpy as np\n",
    "import seaborn as sns\n",
    "import matplotlib.pyplot as plt\n",
    "%matplotlib inline\n",
    "\n",
    "import statsmodels.api as sm\n",
    "from sklearn.model_selection import train_test_split, KFold, cross_val_score\n",
    "from sklearn.linear_model import LinearRegression, Lasso, LassoCV, Ridge, RidgeCV, lars_path\n",
    "from sklearn.preprocessing import StandardScaler\n",
    "from sklearn.metrics import r2_score\n",
    "\n",
    "sns.set(context='notebook', style='whitegrid', font_scale=1.2)"
   ]
  },
  {
   "cell_type": "markdown",
   "metadata": {},
   "source": [
    "## Data Import & Setup"
   ]
  },
  {
   "cell_type": "code",
   "execution_count": 2,
   "metadata": {
    "ExecuteTime": {
     "end_time": "2020-10-05T23:37:13.801747Z",
     "start_time": "2020-10-05T23:37:13.794726Z"
    }
   },
   "outputs": [],
   "source": [
    "sf = pd.read_csv('data_files/sf_clean.csv')\n",
    "\n",
    "# Reformatting hood_district names\n",
    "sf['hood_district'] = sf['hood_district'].astype(int)\n",
    "sf['hood_district'] = sf['hood_district'].astype(str)"
   ]
  },
  {
   "cell_type": "code",
   "execution_count": 3,
   "metadata": {
    "ExecuteTime": {
     "end_time": "2020-10-05T23:37:13.813635Z",
     "start_time": "2020-10-05T23:37:13.804974Z"
    }
   },
   "outputs": [],
   "source": [
    "sf = pd.get_dummies(sf)"
   ]
  },
  {
   "cell_type": "code",
   "execution_count": 5,
   "metadata": {
    "ExecuteTime": {
     "end_time": "2020-10-05T23:38:04.961792Z",
     "start_time": "2020-10-05T23:38:04.958676Z"
    }
   },
   "outputs": [
    {
     "data": {
      "text/plain": [
       "Index(['price', 'sqft', 'beds', 'bath', 'laundry_(a) in-unit',\n",
       "       'laundry_(b) on-site', 'laundry_(c) no laundry', 'pets_(a) both',\n",
       "       'pets_(b) dogs', 'pets_(c) cats', 'pets_(d) no pets',\n",
       "       'housing_type_(a) single', 'housing_type_(b) double',\n",
       "       'housing_type_(c) multi', 'parking_(a) valet', 'parking_(b) protected',\n",
       "       'parking_(c) off-street', 'parking_(d) no parking', 'hood_district_1',\n",
       "       'hood_district_10', 'hood_district_2', 'hood_district_3',\n",
       "       'hood_district_4', 'hood_district_5', 'hood_district_6',\n",
       "       'hood_district_7', 'hood_district_8', 'hood_district_9'],\n",
       "      dtype='object')"
      ]
     },
     "execution_count": 5,
     "metadata": {},
     "output_type": "execute_result"
    }
   ],
   "source": [
    "sf.columns"
   ]
  },
  {
   "cell_type": "code",
   "execution_count": 6,
   "metadata": {
    "ExecuteTime": {
     "end_time": "2020-10-05T23:39:45.283908Z",
     "start_time": "2020-10-05T23:39:45.280382Z"
    }
   },
   "outputs": [],
   "source": [
    "cols_to_drop = ['laundry_(c) no laundry',\n",
    "               'pets_(d) no pets', \n",
    "               'housing_type_(c) multi',\n",
    "               'parking_(d) no parking',\n",
    "               'hood_district_10']\n",
    "\n",
    "sf = sf.drop(cols_to_drop, axis=1)"
   ]
  },
  {
   "cell_type": "code",
   "execution_count": 8,
   "metadata": {
    "ExecuteTime": {
     "end_time": "2020-10-05T23:40:15.810853Z",
     "start_time": "2020-10-05T23:40:15.794319Z"
    },
    "scrolled": true
   },
   "outputs": [
    {
     "data": {
      "text/html": [
       "<div>\n",
       "<style scoped>\n",
       "    .dataframe tbody tr th:only-of-type {\n",
       "        vertical-align: middle;\n",
       "    }\n",
       "\n",
       "    .dataframe tbody tr th {\n",
       "        vertical-align: top;\n",
       "    }\n",
       "\n",
       "    .dataframe thead th {\n",
       "        text-align: right;\n",
       "    }\n",
       "</style>\n",
       "<table border=\"1\" class=\"dataframe\">\n",
       "  <thead>\n",
       "    <tr style=\"text-align: right;\">\n",
       "      <th></th>\n",
       "      <th>price</th>\n",
       "      <th>sqft</th>\n",
       "      <th>beds</th>\n",
       "      <th>bath</th>\n",
       "      <th>laundry_(a) in-unit</th>\n",
       "      <th>laundry_(b) on-site</th>\n",
       "      <th>pets_(a) both</th>\n",
       "      <th>pets_(b) dogs</th>\n",
       "      <th>pets_(c) cats</th>\n",
       "      <th>housing_type_(a) single</th>\n",
       "      <th>...</th>\n",
       "      <th>parking_(c) off-street</th>\n",
       "      <th>hood_district_1</th>\n",
       "      <th>hood_district_2</th>\n",
       "      <th>hood_district_3</th>\n",
       "      <th>hood_district_4</th>\n",
       "      <th>hood_district_5</th>\n",
       "      <th>hood_district_6</th>\n",
       "      <th>hood_district_7</th>\n",
       "      <th>hood_district_8</th>\n",
       "      <th>hood_district_9</th>\n",
       "    </tr>\n",
       "  </thead>\n",
       "  <tbody>\n",
       "    <tr>\n",
       "      <th>0</th>\n",
       "      <td>6800</td>\n",
       "      <td>1600.0</td>\n",
       "      <td>2.0</td>\n",
       "      <td>2.0</td>\n",
       "      <td>1</td>\n",
       "      <td>0</td>\n",
       "      <td>0</td>\n",
       "      <td>0</td>\n",
       "      <td>0</td>\n",
       "      <td>0</td>\n",
       "      <td>...</td>\n",
       "      <td>0</td>\n",
       "      <td>0</td>\n",
       "      <td>0</td>\n",
       "      <td>0</td>\n",
       "      <td>0</td>\n",
       "      <td>0</td>\n",
       "      <td>0</td>\n",
       "      <td>1</td>\n",
       "      <td>0</td>\n",
       "      <td>0</td>\n",
       "    </tr>\n",
       "    <tr>\n",
       "      <th>1</th>\n",
       "      <td>3500</td>\n",
       "      <td>550.0</td>\n",
       "      <td>1.0</td>\n",
       "      <td>1.0</td>\n",
       "      <td>1</td>\n",
       "      <td>0</td>\n",
       "      <td>1</td>\n",
       "      <td>0</td>\n",
       "      <td>0</td>\n",
       "      <td>0</td>\n",
       "      <td>...</td>\n",
       "      <td>0</td>\n",
       "      <td>0</td>\n",
       "      <td>0</td>\n",
       "      <td>0</td>\n",
       "      <td>0</td>\n",
       "      <td>0</td>\n",
       "      <td>0</td>\n",
       "      <td>1</td>\n",
       "      <td>0</td>\n",
       "      <td>0</td>\n",
       "    </tr>\n",
       "    <tr>\n",
       "      <th>2</th>\n",
       "      <td>5100</td>\n",
       "      <td>1300.0</td>\n",
       "      <td>2.0</td>\n",
       "      <td>1.0</td>\n",
       "      <td>1</td>\n",
       "      <td>0</td>\n",
       "      <td>1</td>\n",
       "      <td>0</td>\n",
       "      <td>0</td>\n",
       "      <td>0</td>\n",
       "      <td>...</td>\n",
       "      <td>0</td>\n",
       "      <td>0</td>\n",
       "      <td>0</td>\n",
       "      <td>0</td>\n",
       "      <td>0</td>\n",
       "      <td>0</td>\n",
       "      <td>0</td>\n",
       "      <td>1</td>\n",
       "      <td>0</td>\n",
       "      <td>0</td>\n",
       "    </tr>\n",
       "    <tr>\n",
       "      <th>3</th>\n",
       "      <td>9000</td>\n",
       "      <td>3500.0</td>\n",
       "      <td>3.0</td>\n",
       "      <td>2.5</td>\n",
       "      <td>1</td>\n",
       "      <td>0</td>\n",
       "      <td>0</td>\n",
       "      <td>0</td>\n",
       "      <td>0</td>\n",
       "      <td>0</td>\n",
       "      <td>...</td>\n",
       "      <td>0</td>\n",
       "      <td>0</td>\n",
       "      <td>0</td>\n",
       "      <td>0</td>\n",
       "      <td>0</td>\n",
       "      <td>0</td>\n",
       "      <td>0</td>\n",
       "      <td>1</td>\n",
       "      <td>0</td>\n",
       "      <td>0</td>\n",
       "    </tr>\n",
       "    <tr>\n",
       "      <th>4</th>\n",
       "      <td>3100</td>\n",
       "      <td>561.0</td>\n",
       "      <td>1.0</td>\n",
       "      <td>1.0</td>\n",
       "      <td>0</td>\n",
       "      <td>0</td>\n",
       "      <td>1</td>\n",
       "      <td>0</td>\n",
       "      <td>0</td>\n",
       "      <td>0</td>\n",
       "      <td>...</td>\n",
       "      <td>0</td>\n",
       "      <td>0</td>\n",
       "      <td>0</td>\n",
       "      <td>0</td>\n",
       "      <td>0</td>\n",
       "      <td>0</td>\n",
       "      <td>0</td>\n",
       "      <td>1</td>\n",
       "      <td>0</td>\n",
       "      <td>0</td>\n",
       "    </tr>\n",
       "  </tbody>\n",
       "</table>\n",
       "<p>5 rows × 23 columns</p>\n",
       "</div>"
      ],
      "text/plain": [
       "   price    sqft  beds  bath  laundry_(a) in-unit  laundry_(b) on-site  \\\n",
       "0   6800  1600.0   2.0   2.0                    1                    0   \n",
       "1   3500   550.0   1.0   1.0                    1                    0   \n",
       "2   5100  1300.0   2.0   1.0                    1                    0   \n",
       "3   9000  3500.0   3.0   2.5                    1                    0   \n",
       "4   3100   561.0   1.0   1.0                    0                    0   \n",
       "\n",
       "   pets_(a) both  pets_(b) dogs  pets_(c) cats  housing_type_(a) single  ...  \\\n",
       "0              0              0              0                        0  ...   \n",
       "1              1              0              0                        0  ...   \n",
       "2              1              0              0                        0  ...   \n",
       "3              0              0              0                        0  ...   \n",
       "4              1              0              0                        0  ...   \n",
       "\n",
       "   parking_(c) off-street  hood_district_1  hood_district_2  hood_district_3  \\\n",
       "0                       0                0                0                0   \n",
       "1                       0                0                0                0   \n",
       "2                       0                0                0                0   \n",
       "3                       0                0                0                0   \n",
       "4                       0                0                0                0   \n",
       "\n",
       "   hood_district_4  hood_district_5  hood_district_6  hood_district_7  \\\n",
       "0                0                0                0                1   \n",
       "1                0                0                0                1   \n",
       "2                0                0                0                1   \n",
       "3                0                0                0                1   \n",
       "4                0                0                0                1   \n",
       "\n",
       "   hood_district_8  hood_district_9  \n",
       "0                0                0  \n",
       "1                0                0  \n",
       "2                0                0  \n",
       "3                0                0  \n",
       "4                0                0  \n",
       "\n",
       "[5 rows x 23 columns]"
      ]
     },
     "execution_count": 8,
     "metadata": {},
     "output_type": "execute_result"
    }
   ],
   "source": [
    "sf.head()"
   ]
  },
  {
   "cell_type": "markdown",
   "metadata": {},
   "source": [
    "## Training & Hold-Out Splits"
   ]
  },
  {
   "cell_type": "markdown",
   "metadata": {},
   "source": [
    "### Train / Test"
   ]
  },
  {
   "cell_type": "code",
   "execution_count": 9,
   "metadata": {
    "ExecuteTime": {
     "end_time": "2020-10-05T23:41:50.518001Z",
     "start_time": "2020-10-05T23:41:50.512772Z"
    }
   },
   "outputs": [],
   "source": [
    "X, y = sf.drop('price',axis=1), sf['price']\n",
    "\n",
    "# hold out 20% of the data for final testing\n",
    "X, X_test, y, y_test = train_test_split(X, y, test_size=.2, random_state=10)"
   ]
  },
  {
   "cell_type": "markdown",
   "metadata": {},
   "source": [
    "### Train / Validation"
   ]
  },
  {
   "cell_type": "code",
   "execution_count": 10,
   "metadata": {
    "ExecuteTime": {
     "end_time": "2020-10-05T23:41:52.345000Z",
     "start_time": "2020-10-05T23:41:52.341461Z"
    }
   },
   "outputs": [],
   "source": [
    "X_train, X_val, y_train, y_val = train_test_split(X, y, test_size=.20, random_state=10)"
   ]
  },
  {
   "cell_type": "markdown",
   "metadata": {},
   "source": [
    "## Models"
   ]
  },
  {
   "cell_type": "markdown",
   "metadata": {},
   "source": [
    "### Linear"
   ]
  },
  {
   "cell_type": "code",
   "execution_count": 11,
   "metadata": {
    "ExecuteTime": {
     "end_time": "2020-10-05T23:42:51.219105Z",
     "start_time": "2020-10-05T23:42:51.208252Z"
    }
   },
   "outputs": [
    {
     "name": "stdout",
     "output_type": "stream",
     "text": [
      "Linear Regression train R^2: 0.78184\n",
      "Linear Regression val R^2: 0.67066\n"
     ]
    }
   ],
   "source": [
    "lin = LinearRegression()\n",
    "\n",
    "lin.fit(X_train, y_train)\n",
    "print(f'Linear Regression train R^2: {lin.score(X_train, y_train):.5f}')\n",
    "print(f'Linear Regression val R^2: {lin.score(X_val, y_val):.5f}')"
   ]
  },
  {
   "cell_type": "markdown",
   "metadata": {},
   "source": [
    "### Ridge"
   ]
  },
  {
   "cell_type": "markdown",
   "metadata": {},
   "source": [
    "#### Scaling Features for Lasso / Ridge"
   ]
  },
  {
   "cell_type": "code",
   "execution_count": 12,
   "metadata": {
    "ExecuteTime": {
     "end_time": "2020-10-05T23:43:47.849500Z",
     "start_time": "2020-10-05T23:43:47.845602Z"
    }
   },
   "outputs": [],
   "source": [
    "scaler = StandardScaler()\n",
    "\n",
    "X_train_scaled = scaler.fit_transform(X_train.values)\n",
    "X_val_scaled = scaler.transform(X_val.values)\n",
    "X_test_scaled = scaler.transform(X_test.values)"
   ]
  },
  {
   "cell_type": "markdown",
   "metadata": {},
   "source": [
    "#### Model Setup"
   ]
  },
  {
   "cell_type": "code",
   "execution_count": 13,
   "metadata": {
    "ExecuteTime": {
     "end_time": "2020-10-05T23:45:00.223193Z",
     "start_time": "2020-10-05T23:45:00.217110Z"
    }
   },
   "outputs": [
    {
     "name": "stdout",
     "output_type": "stream",
     "text": [
      "Ridge Regression test R^2: 0.78181\n",
      "Ridge Regression val R^2: 0.67054\n"
     ]
    }
   ],
   "source": [
    "rid = Ridge()\n",
    "\n",
    "rid.fit(X_train_scaled, y_train)\n",
    "print(f'Ridge Regression test R^2: {rid.score(X_train_scaled, y_train):.5f}')\n",
    "print(f'Ridge Regression val R^2: {rid.score(X_val_scaled, y_val):.5f}')"
   ]
  },
  {
   "cell_type": "markdown",
   "metadata": {},
   "source": [
    "### Lasso"
   ]
  },
  {
   "cell_type": "code",
   "execution_count": 14,
   "metadata": {
    "ExecuteTime": {
     "end_time": "2020-10-05T23:45:28.316839Z",
     "start_time": "2020-10-05T23:45:28.310839Z"
    }
   },
   "outputs": [
    {
     "name": "stdout",
     "output_type": "stream",
     "text": [
      "Ridge Regression test R^2: 0.78172\n",
      "Ridge Regression val R^2: 0.67067\n"
     ]
    }
   ],
   "source": [
    "las = Lasso()\n",
    "\n",
    "las.fit(X_train_scaled, y_train)\n",
    "print(f'Ridge Regression test R^2: {las.score(X_train_scaled, y_train):.5f}')\n",
    "print(f'Ridge Regression val R^2: {las.score(X_val_scaled, y_val):.5f}')"
   ]
  },
  {
   "cell_type": "markdown",
   "metadata": {},
   "source": [
    "### Model Evaluation using KFolds"
   ]
  },
  {
   "cell_type": "code",
   "execution_count": 20,
   "metadata": {
    "ExecuteTime": {
     "end_time": "2020-10-05T23:53:10.429788Z",
     "start_time": "2020-10-05T23:53:10.423769Z"
    }
   },
   "outputs": [],
   "source": [
    "sf2 = sf.copy()\n",
    "\n",
    "X, y = sf2.drop('price',axis=1), sf['price']\n",
    "\n",
    "X, X_test, y, y_test = train_test_split(X, y, test_size=.2, random_state=30)\n",
    "\n",
    "#this helps with the way kf will generate indices below\n",
    "X, y = np.array(X), np.array(y)"
   ]
  },
  {
   "cell_type": "code",
   "execution_count": 23,
   "metadata": {
    "ExecuteTime": {
     "end_time": "2020-10-05T23:56:34.319409Z",
     "start_time": "2020-10-05T23:56:34.275610Z"
    },
    "scrolled": true
   },
   "outputs": [
    {
     "name": "stdout",
     "output_type": "stream",
     "text": [
      "Simple scores:  [0.7902121151705227, 0.678231918470749, 0.6539934339757945, 0.7160366020304101, 0.8024668639219245]\n",
      "Ridge scores:  [0.789965695329414, 0.6794760528664688, 0.6538530428786878, 0.7162344132034061, 0.8022393400128285]\n",
      "Lasso scores:  [0.7904453069834163, 0.6802749348235684, 0.6541668011093027, 0.7158473766765832, 0.8020956988709493] \n",
      "\n",
      "Simple mean cv r^2: 0.72819 +- 0.05918\n",
      "Ridge mean cv r^2: 0.72835 +- 0.05889\n",
      "Lasso mean cv r^2: 0.72857 +- 0.05876\n"
     ]
    }
   ],
   "source": [
    "kf = KFold(n_splits=5, shuffle=True, random_state =12)\n",
    "\n",
    "cv_lin_r2s, cv_rid_r2s, cv_las_r2s = [], [], []  #collect the validation results for both models\n",
    "\n",
    "for train_ind, val_ind in kf.split(X,y):\n",
    "    \n",
    "    X_train, y_train = X[train_ind], y[train_ind]\n",
    "    X_val, y_val = X[val_ind], y[val_ind] \n",
    "    \n",
    "    #simple linear regression\n",
    "    lin = LinearRegression()\n",
    "    rid = Ridge()\n",
    "    las = Lasso()\n",
    "\n",
    "    lin.fit(X_train, y_train)\n",
    "    cv_lin_r2s.append(lin.score(X_val, y_val))\n",
    "    \n",
    "    #ridge/lasso with feature scaling\n",
    "    scaler = StandardScaler()\n",
    "    X_train_scaled = scaler.fit_transform(X_train)\n",
    "    X_val_scaled = scaler.transform(X_val)\n",
    "    \n",
    "    rid.fit(X_train_scaled, y_train)\n",
    "    cv_rid_r2s.append(rid.score(X_val_scaled, y_val))\n",
    "    \n",
    "    \n",
    "    #lasso with feature scaling\n",
    "    las.fit(X_train_scaled, y_train)\n",
    "    cv_las_r2s.append(las.score(X_val_scaled, y_val))\n",
    "\n",
    "print('Simple scores: ', cv_lin_r2s)\n",
    "print('Ridge scores: ', cv_rid_r2s)\n",
    "print('Lasso scores: ', cv_las_r2s, '\\n')\n",
    "\n",
    "print(f'Simple mean cv r^2: {np.mean(cv_lin_r2s):.5f} +- {np.std(cv_lin_r2s):.5f}')\n",
    "print(f'Ridge mean cv r^2: {np.mean(cv_rid_r2s):.5f} +- {np.std(cv_rid_r2s):.5f}')\n",
    "print(f'Lasso mean cv r^2: {np.mean(cv_las_r2s):.5f} +- {np.std(cv_las_r2s):.5f}')"
   ]
  },
  {
   "cell_type": "markdown",
   "metadata": {},
   "source": [
    "## Alpha Tuning - Ridge & Lasso"
   ]
  },
  {
   "cell_type": "code",
   "execution_count": 24,
   "metadata": {
    "ExecuteTime": {
     "end_time": "2020-10-05T23:58:51.954290Z",
     "start_time": "2020-10-05T23:58:51.948329Z"
    }
   },
   "outputs": [],
   "source": [
    "sf3 = sf.copy()\n",
    "\n",
    "X, y = sf3.drop('price',axis=1), sf['price']\n",
    "\n",
    "X, X_test, y, y_test = train_test_split(X, y, test_size=.2, random_state=30)\n",
    "\n",
    "#this helps with the way kf will generate indices below\n",
    "#X, y = np.array(X), np.array(y)\n",
    "\n",
    "# KFolds"
   ]
  },
  {
   "cell_type": "code",
   "execution_count": 25,
   "metadata": {
    "ExecuteTime": {
     "end_time": "2020-10-05T23:59:29.664188Z",
     "start_time": "2020-10-05T23:59:29.660047Z"
    }
   },
   "outputs": [],
   "source": [
    "X_train, X_val, y_train, y_val = train_test_split(X, y, test_size=.20, random_state=10)"
   ]
  },
  {
   "cell_type": "code",
   "execution_count": 26,
   "metadata": {
    "ExecuteTime": {
     "end_time": "2020-10-06T00:00:16.770893Z",
     "start_time": "2020-10-06T00:00:16.766213Z"
    }
   },
   "outputs": [],
   "source": [
    "# Scalilng features\n",
    "scaler = StandardScaler()\n",
    "\n",
    "X_train_scaled = scaler.fit_transform(X_train.values)\n",
    "X_val_scaled = scaler.transform(X_val.values)\n",
    "X_test_scaled = scaler.transform(X_test.values)"
   ]
  },
  {
   "cell_type": "markdown",
   "metadata": {},
   "source": [
    "### Lasso"
   ]
  },
  {
   "cell_type": "code",
   "execution_count": 36,
   "metadata": {
    "ExecuteTime": {
     "end_time": "2020-10-06T00:03:03.390735Z",
     "start_time": "2020-10-06T00:02:59.713768Z"
    }
   },
   "outputs": [
    {
     "data": {
      "text/plain": [
       "LassoCV(alphas=array([1.00000000e-02, 1.00092155e-02, 1.00184395e-02, ...,\n",
       "       9.98159444e+01, 9.99079298e+01, 1.00000000e+02]),\n",
       "        cv=5)"
      ]
     },
     "execution_count": 36,
     "metadata": {},
     "output_type": "execute_result"
    }
   ],
   "source": [
    "alphavec = 10**np.linspace(-2,2,10000)\n",
    "\n",
    "lasso_model = LassoCV(alphas = alphavec, cv=5)\n",
    "lasso_model.fit(X_train_scaled, y_train)"
   ]
  },
  {
   "cell_type": "code",
   "execution_count": 41,
   "metadata": {
    "ExecuteTime": {
     "end_time": "2020-10-06T00:04:29.654365Z",
     "start_time": "2020-10-06T00:04:29.651016Z"
    }
   },
   "outputs": [
    {
     "data": {
      "text/plain": [
       "2.1253611770864973"
      ]
     },
     "execution_count": 41,
     "metadata": {},
     "output_type": "execute_result"
    }
   ],
   "source": [
    "las_alpha = lasso_model.alpha_\n",
    "las_alpha"
   ]
  },
  {
   "cell_type": "code",
   "execution_count": 42,
   "metadata": {
    "ExecuteTime": {
     "end_time": "2020-10-06T00:04:31.270812Z",
     "start_time": "2020-10-06T00:04:31.263780Z"
    }
   },
   "outputs": [
    {
     "name": "stdout",
     "output_type": "stream",
     "text": [
      "Ridge Regression test R^2: 0.73848\n",
      "Ridge Regression val R^2: 0.78571\n"
     ]
    }
   ],
   "source": [
    "las = Lasso(alpha=las_alpha)\n",
    "\n",
    "las.fit(X_train_scaled, y_train)\n",
    "print(f'Ridge Regression test R^2: {las.score(X_train_scaled, y_train):.5f}')\n",
    "print(f'Ridge Regression val R^2: {las.score(X_val_scaled, y_val):.5f}')"
   ]
  },
  {
   "cell_type": "markdown",
   "metadata": {},
   "source": [
    "### Ridge"
   ]
  },
  {
   "cell_type": "code",
   "execution_count": 44,
   "metadata": {
    "ExecuteTime": {
     "end_time": "2020-10-06T00:05:50.933767Z",
     "start_time": "2020-10-06T00:05:50.238340Z"
    }
   },
   "outputs": [
    {
     "data": {
      "text/plain": [
       "RidgeCV(alphas=array([1.00000000e-02, 1.09749877e-02, 1.20450354e-02, 1.32194115e-02,\n",
       "       1.45082878e-02, 1.59228279e-02, 1.74752840e-02, 1.91791026e-02,\n",
       "       2.10490414e-02, 2.31012970e-02, 2.53536449e-02, 2.78255940e-02,\n",
       "       3.05385551e-02, 3.35160265e-02, 3.67837977e-02, 4.03701726e-02,\n",
       "       4.43062146e-02, 4.86260158e-02, 5.33669923e-02, 5.85702082e-02,\n",
       "       6.42807312e-02, 7.05480231e-0...\n",
       "       1.17681195e+01, 1.29154967e+01, 1.41747416e+01, 1.55567614e+01,\n",
       "       1.70735265e+01, 1.87381742e+01, 2.05651231e+01, 2.25701972e+01,\n",
       "       2.47707636e+01, 2.71858824e+01, 2.98364724e+01, 3.27454916e+01,\n",
       "       3.59381366e+01, 3.94420606e+01, 4.32876128e+01, 4.75081016e+01,\n",
       "       5.21400829e+01, 5.72236766e+01, 6.28029144e+01, 6.89261210e+01,\n",
       "       7.56463328e+01, 8.30217568e+01, 9.11162756e+01, 1.00000000e+02]),\n",
       "        cv=5)"
      ]
     },
     "execution_count": 44,
     "metadata": {},
     "output_type": "execute_result"
    }
   ],
   "source": [
    "alphavec = 10**np.linspace(-2,2,100)\n",
    "\n",
    "ridge_model = RidgeCV(alphas = alphavec, cv=5)\n",
    "ridge_model.fit(X_train_scaled, y_train)"
   ]
  },
  {
   "cell_type": "code",
   "execution_count": 45,
   "metadata": {
    "ExecuteTime": {
     "end_time": "2020-10-06T00:05:54.240798Z",
     "start_time": "2020-10-06T00:05:54.237286Z"
    }
   },
   "outputs": [
    {
     "data": {
      "text/plain": [
       "2.656087782946687"
      ]
     },
     "execution_count": 45,
     "metadata": {},
     "output_type": "execute_result"
    }
   ],
   "source": [
    "rid_alpha = ridge_model.alpha_\n",
    "rid_alpha"
   ]
  },
  {
   "cell_type": "code",
   "execution_count": null,
   "metadata": {},
   "outputs": [],
   "source": [
    "rid = Ridge(alpha=rid_alpha)\n",
    "\n",
    "rid.fit(X_train_scaled, y_train)\n",
    "print(f'Ridge Regression test R^2: {rid.score(X_train_scaled, y_train):.5f}')\n",
    "print(f'Ridge Regression val R^2: {rid.score(X_val_scaled, y_val):.5f}')"
   ]
  }
 ],
 "metadata": {
  "kernelspec": {
   "display_name": "Python [conda env:metis] *",
   "language": "python",
   "name": "conda-env-metis-py"
  },
  "language_info": {
   "codemirror_mode": {
    "name": "ipython",
    "version": 3
   },
   "file_extension": ".py",
   "mimetype": "text/x-python",
   "name": "python",
   "nbconvert_exporter": "python",
   "pygments_lexer": "ipython3",
   "version": "3.8.5"
  },
  "toc": {
   "base_numbering": 1,
   "nav_menu": {},
   "number_sections": true,
   "sideBar": true,
   "skip_h1_title": false,
   "title_cell": "Table of Contents",
   "title_sidebar": "Contents",
   "toc_cell": false,
   "toc_position": {},
   "toc_section_display": true,
   "toc_window_display": true
  },
  "varInspector": {
   "cols": {
    "lenName": 16,
    "lenType": 16,
    "lenVar": 40
   },
   "kernels_config": {
    "python": {
     "delete_cmd_postfix": "",
     "delete_cmd_prefix": "del ",
     "library": "var_list.py",
     "varRefreshCmd": "print(var_dic_list())"
    },
    "r": {
     "delete_cmd_postfix": ") ",
     "delete_cmd_prefix": "rm(",
     "library": "var_list.r",
     "varRefreshCmd": "cat(var_dic_list()) "
    }
   },
   "types_to_exclude": [
    "module",
    "function",
    "builtin_function_or_method",
    "instance",
    "_Feature"
   ],
   "window_display": false
  }
 },
 "nbformat": 4,
 "nbformat_minor": 4
}
