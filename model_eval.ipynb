{
 "cells": [
  {
   "cell_type": "markdown",
   "metadata": {},
   "source": [
    "# Model Evaluation\n",
    "\n",
    "Process \n",
    "1. Import data & set up dummy variables\n",
    "    * drop 1 column for each grouping!\n",
    "2. Split data: \n",
    "    * Train / Test: X, X_test, y, y_test (~20%)\n",
    "    * Train / Val: X_train, X_val, y_train, y_val (~60%?)\n",
    "3. Create 3 Models: Linear, Ridge, Lasso\n",
    "    * SCALE: Ridge & Lasso\n",
    "    * Keep default alphas\n",
    "    * use KFolds\n",
    "4. Evaluate basic models on scoring (r2 train, r2 val)\n",
    "    * Use KFolds \n",
    "    * if models are really close to one another, tune alphas\n",
    "    * Pick an alpha range to loop through and compare results \n",
    "5. Tune alphas for Ridge & Lasso\n",
    "    * difference between r2 train and r2 val will be guide\n",
    "    * if r2 train > r2 val --> overfitting --> increase alpha\n",
    "6. Pick best version of each model to evaluate\n",
    "    * linear\n",
    "    * ridge at best alpha\n",
    "    * lasso at best alpha\n",
    "7. RETRAIN best model on entire training data (X)\n",
    "8. Evaluate model against hold out data (predict x_test vs. y_test) \n",
    "    * r2 train versus r2 test\n",
    "    * if difference is significant, more model tuning"
   ]
  },
  {
   "cell_type": "code",
   "execution_count": 1,
   "metadata": {
    "ExecuteTime": {
     "end_time": "2020-10-06T17:28:55.007503Z",
     "start_time": "2020-10-06T17:28:53.503785Z"
    }
   },
   "outputs": [],
   "source": [
    "# Necessary imports\n",
    "import pandas as pd\n",
    "import numpy as np\n",
    "import seaborn as sns\n",
    "import matplotlib.pyplot as plt\n",
    "%matplotlib inline\n",
    "\n",
    "import statsmodels.api as sm\n",
    "from sklearn.model_selection import train_test_split, KFold, cross_val_score\n",
    "from sklearn.linear_model import LinearRegression, Lasso, LassoCV, Ridge, RidgeCV, lars_path\n",
    "from sklearn.preprocessing import StandardScaler\n",
    "from sklearn.metrics import r2_score\n",
    "\n",
    "sns.set(context='notebook', style='whitegrid', font_scale=1.2)"
   ]
  },
  {
   "cell_type": "markdown",
   "metadata": {},
   "source": [
    "## Data Import & Setup"
   ]
  },
  {
   "cell_type": "code",
   "execution_count": 2,
   "metadata": {
    "ExecuteTime": {
     "end_time": "2020-10-06T17:28:55.016921Z",
     "start_time": "2020-10-06T17:28:55.009524Z"
    }
   },
   "outputs": [],
   "source": [
    "sf = pd.read_csv('data_files/sf_clean.csv')\n",
    "\n",
    "# Reformatting hood_district names\n",
    "sf['hood_district'] = sf['hood_district'].astype(int)\n",
    "sf['hood_district'] = sf['hood_district'].astype(str)"
   ]
  },
  {
   "cell_type": "code",
   "execution_count": 3,
   "metadata": {
    "ExecuteTime": {
     "end_time": "2020-10-06T17:28:55.026148Z",
     "start_time": "2020-10-06T17:28:55.019154Z"
    }
   },
   "outputs": [
    {
     "data": {
      "text/plain": [
       "9     332\n",
       "8     207\n",
       "7     123\n",
       "5     106\n",
       "6      62\n",
       "2      51\n",
       "1      50\n",
       "10     33\n",
       "3      14\n",
       "4      11\n",
       "Name: hood_district, dtype: int64"
      ]
     },
     "execution_count": 3,
     "metadata": {},
     "output_type": "execute_result"
    }
   ],
   "source": [
    "sf.hood_district.value_counts()"
   ]
  },
  {
   "cell_type": "code",
   "execution_count": 4,
   "metadata": {
    "ExecuteTime": {
     "end_time": "2020-10-06T17:28:55.030178Z",
     "start_time": "2020-10-06T17:28:55.027853Z"
    }
   },
   "outputs": [],
   "source": [
    "#sns.pairplot(sf, aspect=1.25, corner=True);"
   ]
  },
  {
   "cell_type": "code",
   "execution_count": 5,
   "metadata": {
    "ExecuteTime": {
     "end_time": "2020-10-06T17:28:55.042695Z",
     "start_time": "2020-10-06T17:28:55.032232Z"
    }
   },
   "outputs": [],
   "source": [
    "sf = pd.get_dummies(sf)"
   ]
  },
  {
   "cell_type": "code",
   "execution_count": 6,
   "metadata": {
    "ExecuteTime": {
     "end_time": "2020-10-06T17:28:55.049894Z",
     "start_time": "2020-10-06T17:28:55.046340Z"
    }
   },
   "outputs": [
    {
     "data": {
      "text/plain": [
       "Index(['price', 'sqft', 'beds', 'bath', 'laundry_(a) in-unit',\n",
       "       'laundry_(b) on-site', 'laundry_(c) no laundry', 'pets_(a) both',\n",
       "       'pets_(b) dogs', 'pets_(c) cats', 'pets_(d) no pets',\n",
       "       'housing_type_(a) single', 'housing_type_(b) double',\n",
       "       'housing_type_(c) multi', 'parking_(a) valet', 'parking_(b) protected',\n",
       "       'parking_(c) off-street', 'parking_(d) no parking', 'hood_district_1',\n",
       "       'hood_district_10', 'hood_district_2', 'hood_district_3',\n",
       "       'hood_district_4', 'hood_district_5', 'hood_district_6',\n",
       "       'hood_district_7', 'hood_district_8', 'hood_district_9'],\n",
       "      dtype='object')"
      ]
     },
     "execution_count": 6,
     "metadata": {},
     "output_type": "execute_result"
    }
   ],
   "source": [
    "sf.columns"
   ]
  },
  {
   "cell_type": "code",
   "execution_count": 7,
   "metadata": {
    "ExecuteTime": {
     "end_time": "2020-10-06T17:28:55.057041Z",
     "start_time": "2020-10-06T17:28:55.052796Z"
    }
   },
   "outputs": [],
   "source": [
    "cols_to_drop = ['laundry_(c) no laundry',\n",
    "               'pets_(d) no pets', \n",
    "               'housing_type_(c) multi',\n",
    "               'parking_(d) no parking',\n",
    "               'hood_district_10']\n",
    "\n",
    "sf = sf.drop(cols_to_drop, axis=1)"
   ]
  },
  {
   "cell_type": "code",
   "execution_count": 8,
   "metadata": {
    "ExecuteTime": {
     "end_time": "2020-10-06T17:28:55.076574Z",
     "start_time": "2020-10-06T17:28:55.058767Z"
    },
    "scrolled": true
   },
   "outputs": [
    {
     "data": {
      "text/html": [
       "<div>\n",
       "<style scoped>\n",
       "    .dataframe tbody tr th:only-of-type {\n",
       "        vertical-align: middle;\n",
       "    }\n",
       "\n",
       "    .dataframe tbody tr th {\n",
       "        vertical-align: top;\n",
       "    }\n",
       "\n",
       "    .dataframe thead th {\n",
       "        text-align: right;\n",
       "    }\n",
       "</style>\n",
       "<table border=\"1\" class=\"dataframe\">\n",
       "  <thead>\n",
       "    <tr style=\"text-align: right;\">\n",
       "      <th></th>\n",
       "      <th>price</th>\n",
       "      <th>sqft</th>\n",
       "      <th>beds</th>\n",
       "      <th>bath</th>\n",
       "      <th>laundry_(a) in-unit</th>\n",
       "      <th>laundry_(b) on-site</th>\n",
       "      <th>pets_(a) both</th>\n",
       "      <th>pets_(b) dogs</th>\n",
       "      <th>pets_(c) cats</th>\n",
       "      <th>housing_type_(a) single</th>\n",
       "      <th>...</th>\n",
       "      <th>parking_(c) off-street</th>\n",
       "      <th>hood_district_1</th>\n",
       "      <th>hood_district_2</th>\n",
       "      <th>hood_district_3</th>\n",
       "      <th>hood_district_4</th>\n",
       "      <th>hood_district_5</th>\n",
       "      <th>hood_district_6</th>\n",
       "      <th>hood_district_7</th>\n",
       "      <th>hood_district_8</th>\n",
       "      <th>hood_district_9</th>\n",
       "    </tr>\n",
       "  </thead>\n",
       "  <tbody>\n",
       "    <tr>\n",
       "      <th>0</th>\n",
       "      <td>6800</td>\n",
       "      <td>1600.0</td>\n",
       "      <td>2.0</td>\n",
       "      <td>2.0</td>\n",
       "      <td>1</td>\n",
       "      <td>0</td>\n",
       "      <td>0</td>\n",
       "      <td>0</td>\n",
       "      <td>0</td>\n",
       "      <td>0</td>\n",
       "      <td>...</td>\n",
       "      <td>0</td>\n",
       "      <td>0</td>\n",
       "      <td>0</td>\n",
       "      <td>0</td>\n",
       "      <td>0</td>\n",
       "      <td>0</td>\n",
       "      <td>0</td>\n",
       "      <td>1</td>\n",
       "      <td>0</td>\n",
       "      <td>0</td>\n",
       "    </tr>\n",
       "    <tr>\n",
       "      <th>1</th>\n",
       "      <td>3500</td>\n",
       "      <td>550.0</td>\n",
       "      <td>1.0</td>\n",
       "      <td>1.0</td>\n",
       "      <td>1</td>\n",
       "      <td>0</td>\n",
       "      <td>1</td>\n",
       "      <td>0</td>\n",
       "      <td>0</td>\n",
       "      <td>0</td>\n",
       "      <td>...</td>\n",
       "      <td>0</td>\n",
       "      <td>0</td>\n",
       "      <td>0</td>\n",
       "      <td>0</td>\n",
       "      <td>0</td>\n",
       "      <td>0</td>\n",
       "      <td>0</td>\n",
       "      <td>1</td>\n",
       "      <td>0</td>\n",
       "      <td>0</td>\n",
       "    </tr>\n",
       "    <tr>\n",
       "      <th>2</th>\n",
       "      <td>5100</td>\n",
       "      <td>1300.0</td>\n",
       "      <td>2.0</td>\n",
       "      <td>1.0</td>\n",
       "      <td>1</td>\n",
       "      <td>0</td>\n",
       "      <td>1</td>\n",
       "      <td>0</td>\n",
       "      <td>0</td>\n",
       "      <td>0</td>\n",
       "      <td>...</td>\n",
       "      <td>0</td>\n",
       "      <td>0</td>\n",
       "      <td>0</td>\n",
       "      <td>0</td>\n",
       "      <td>0</td>\n",
       "      <td>0</td>\n",
       "      <td>0</td>\n",
       "      <td>1</td>\n",
       "      <td>0</td>\n",
       "      <td>0</td>\n",
       "    </tr>\n",
       "    <tr>\n",
       "      <th>3</th>\n",
       "      <td>9000</td>\n",
       "      <td>3500.0</td>\n",
       "      <td>3.0</td>\n",
       "      <td>2.5</td>\n",
       "      <td>1</td>\n",
       "      <td>0</td>\n",
       "      <td>0</td>\n",
       "      <td>0</td>\n",
       "      <td>0</td>\n",
       "      <td>0</td>\n",
       "      <td>...</td>\n",
       "      <td>0</td>\n",
       "      <td>0</td>\n",
       "      <td>0</td>\n",
       "      <td>0</td>\n",
       "      <td>0</td>\n",
       "      <td>0</td>\n",
       "      <td>0</td>\n",
       "      <td>1</td>\n",
       "      <td>0</td>\n",
       "      <td>0</td>\n",
       "    </tr>\n",
       "    <tr>\n",
       "      <th>4</th>\n",
       "      <td>3100</td>\n",
       "      <td>561.0</td>\n",
       "      <td>1.0</td>\n",
       "      <td>1.0</td>\n",
       "      <td>0</td>\n",
       "      <td>0</td>\n",
       "      <td>1</td>\n",
       "      <td>0</td>\n",
       "      <td>0</td>\n",
       "      <td>0</td>\n",
       "      <td>...</td>\n",
       "      <td>0</td>\n",
       "      <td>0</td>\n",
       "      <td>0</td>\n",
       "      <td>0</td>\n",
       "      <td>0</td>\n",
       "      <td>0</td>\n",
       "      <td>0</td>\n",
       "      <td>1</td>\n",
       "      <td>0</td>\n",
       "      <td>0</td>\n",
       "    </tr>\n",
       "  </tbody>\n",
       "</table>\n",
       "<p>5 rows × 23 columns</p>\n",
       "</div>"
      ],
      "text/plain": [
       "   price    sqft  beds  bath  laundry_(a) in-unit  laundry_(b) on-site  \\\n",
       "0   6800  1600.0   2.0   2.0                    1                    0   \n",
       "1   3500   550.0   1.0   1.0                    1                    0   \n",
       "2   5100  1300.0   2.0   1.0                    1                    0   \n",
       "3   9000  3500.0   3.0   2.5                    1                    0   \n",
       "4   3100   561.0   1.0   1.0                    0                    0   \n",
       "\n",
       "   pets_(a) both  pets_(b) dogs  pets_(c) cats  housing_type_(a) single  ...  \\\n",
       "0              0              0              0                        0  ...   \n",
       "1              1              0              0                        0  ...   \n",
       "2              1              0              0                        0  ...   \n",
       "3              0              0              0                        0  ...   \n",
       "4              1              0              0                        0  ...   \n",
       "\n",
       "   parking_(c) off-street  hood_district_1  hood_district_2  hood_district_3  \\\n",
       "0                       0                0                0                0   \n",
       "1                       0                0                0                0   \n",
       "2                       0                0                0                0   \n",
       "3                       0                0                0                0   \n",
       "4                       0                0                0                0   \n",
       "\n",
       "   hood_district_4  hood_district_5  hood_district_6  hood_district_7  \\\n",
       "0                0                0                0                1   \n",
       "1                0                0                0                1   \n",
       "2                0                0                0                1   \n",
       "3                0                0                0                1   \n",
       "4                0                0                0                1   \n",
       "\n",
       "   hood_district_8  hood_district_9  \n",
       "0                0                0  \n",
       "1                0                0  \n",
       "2                0                0  \n",
       "3                0                0  \n",
       "4                0                0  \n",
       "\n",
       "[5 rows x 23 columns]"
      ]
     },
     "execution_count": 8,
     "metadata": {},
     "output_type": "execute_result"
    }
   ],
   "source": [
    "sf.head()"
   ]
  },
  {
   "cell_type": "markdown",
   "metadata": {},
   "source": [
    "## Feature Engineering"
   ]
  },
  {
   "cell_type": "markdown",
   "metadata": {},
   "source": [
    "### All Features\n",
    "\n",
    "##### Best Model Output\n",
    "\n",
    "Linear -- overfitting \n",
    "* Linear Regression train R^2: 0.78184\n",
    "* Linear Regression val R^2: 0.67066\n",
    "\n",
    "Ridge -- good candidate\n",
    "* Ridge Regression test R^2: 0.75815\n",
    "* Ridge Regression val R^2: 0.78565\n",
    "\n",
    "Lasso -- good candidate\n",
    "* Lasso Regression test R^2: 0.75885\n",
    "* Lasso Regression val R^2: 0.78052"
   ]
  },
  {
   "cell_type": "markdown",
   "metadata": {},
   "source": [
    "### Quadratic on Bed and Bath"
   ]
  },
  {
   "cell_type": "code",
   "execution_count": 9,
   "metadata": {
    "ExecuteTime": {
     "end_time": "2020-10-06T17:28:55.085469Z",
     "start_time": "2020-10-06T17:28:55.078314Z"
    }
   },
   "outputs": [],
   "source": [
    "sf['beds^2'] = sf['beds']**2\n",
    "sf['bath^2'] = sf['bath']**2"
   ]
  },
  {
   "cell_type": "markdown",
   "metadata": {},
   "source": [
    "##### Best Model Output \n",
    "\n",
    "Linear -- still overfitting\n",
    "* Linear Regression train R^2: 0.78595\n",
    "* Linear Regression val R^2: 0.69627\n",
    "\n",
    "Ridge -- improvement!\n",
    "* Ridge Regression test R^2: 0.76921\n",
    "* Ridge Regression val R^2: 0.78664\n",
    "\n",
    "Lasso -- improvement!\n",
    "* Lasso Regression test R^2: 0.75915\n",
    "* Lasso Regression val R^2: 0.78483"
   ]
  },
  {
   "cell_type": "markdown",
   "metadata": {},
   "source": [
    "### Cubic on Bed and Bath"
   ]
  },
  {
   "cell_type": "code",
   "execution_count": 10,
   "metadata": {
    "ExecuteTime": {
     "end_time": "2020-10-06T17:28:55.089189Z",
     "start_time": "2020-10-06T17:28:55.087167Z"
    }
   },
   "outputs": [],
   "source": [
    "# sf['beds^3'] = sf['beds']**3\n",
    "# sf['bath^3'] = sf['bath']**3"
   ]
  },
  {
   "cell_type": "markdown",
   "metadata": {},
   "source": [
    "##### Best Model Output \n",
    "\n",
    "Linear -- still overfitting\n",
    "* Linear Regression train R^2: 0.78637\n",
    "* Linear Regression val R^2: 0.69691\n",
    "\n",
    "Ridge -- score decreased from quadratic\n",
    "* Ridge Regression test R^2: 0.76689\n",
    "* Ridge Regression val R^2: 0.78111\n",
    "\n",
    "Lasso -- score decreased from quadratic\n",
    "* Lasso Regression test R^2: 0.76183\n",
    "* Lasso Regression val R^2: 0.78245"
   ]
  },
  {
   "cell_type": "markdown",
   "metadata": {},
   "source": [
    "### Quadratic - Just Beds"
   ]
  },
  {
   "cell_type": "code",
   "execution_count": 11,
   "metadata": {
    "ExecuteTime": {
     "end_time": "2020-10-06T17:28:55.092652Z",
     "start_time": "2020-10-06T17:28:55.090934Z"
    }
   },
   "outputs": [],
   "source": [
    "#sf['beds^2'] = sf['beds']**2"
   ]
  },
  {
   "cell_type": "markdown",
   "metadata": {
    "ExecuteTime": {
     "end_time": "2020-10-06T17:23:49.279436Z",
     "start_time": "2020-10-06T17:23:49.275969Z"
    }
   },
   "source": [
    "##### Best Model Output \n",
    "\n",
    "Linear -- still overfitting\n",
    "* Linear Regression train R^2: 0.78233\n",
    "* Linear Regression val R^2: 0.67072\n",
    "\n",
    "Ridge -- not better than quadratic on both beds and bath\n",
    "* Ridge Regression test R^2: 0.75888\n",
    "* Ridge Regression val R^2: 0.78402\n",
    "\n",
    "Lasso -- not better than quadratic on both beds and bath\n",
    "* Lasso Regression test R^2: 0.75996\n",
    "* Lasso Regression val R^2: 0.78091"
   ]
  },
  {
   "cell_type": "markdown",
   "metadata": {
    "ExecuteTime": {
     "end_time": "2020-10-06T17:23:32.516904Z",
     "start_time": "2020-10-06T17:23:32.514811Z"
    }
   },
   "source": [
    "### Cubic - Just Beds"
   ]
  },
  {
   "cell_type": "code",
   "execution_count": 12,
   "metadata": {
    "ExecuteTime": {
     "end_time": "2020-10-06T17:28:55.095983Z",
     "start_time": "2020-10-06T17:28:55.094245Z"
    }
   },
   "outputs": [],
   "source": [
    "# sf['beds^3'] = sf['beds']**3"
   ]
  },
  {
   "cell_type": "markdown",
   "metadata": {
    "ExecuteTime": {
     "end_time": "2020-10-06T17:23:49.421709Z",
     "start_time": "2020-10-06T17:23:47.559Z"
    },
    "heading_collapsed": true
   },
   "source": [
    "##### Best Model Output \n",
    "\n",
    "Linear -- still overfitting\n",
    "* Linear Regression train R^2: 0.78270\n",
    "* Linear Regression val R^2: 0.67044\n",
    "\n",
    "Ridge -- not better than quadratic on both beds and bath\n",
    "* Ridge Regression test R^2: 0.75935\n",
    "* Ridge Regression val R^2: 0.78292\n",
    "\n",
    "Lasso -- not better than quadratic on both beds and bath\n",
    "* Lasso Regression test R^2: 0.76062\n",
    "* Lasso Regression val R^2: 0.77847"
   ]
  },
  {
   "cell_type": "markdown",
   "metadata": {},
   "source": [
    "### Outcome\n",
    "\n",
    "Quadratic on Beds and Baths produces the best model with RIDGE performing the best"
   ]
  },
  {
   "cell_type": "markdown",
   "metadata": {},
   "source": [
    "## Training & Hold-Out Splits"
   ]
  },
  {
   "cell_type": "markdown",
   "metadata": {},
   "source": [
    "### Train / Test"
   ]
  },
  {
   "cell_type": "code",
   "execution_count": 13,
   "metadata": {
    "ExecuteTime": {
     "end_time": "2020-10-06T17:28:55.105175Z",
     "start_time": "2020-10-06T17:28:55.097745Z"
    }
   },
   "outputs": [],
   "source": [
    "X, y = sf.drop('price',axis=1), sf['price']\n",
    "\n",
    "# hold out 20% of the data for final testing\n",
    "X, X_test, y, y_test = train_test_split(X, y, test_size=.2, random_state=10)"
   ]
  },
  {
   "cell_type": "markdown",
   "metadata": {},
   "source": [
    "### Train / Validation"
   ]
  },
  {
   "cell_type": "code",
   "execution_count": 14,
   "metadata": {
    "ExecuteTime": {
     "end_time": "2020-10-06T17:28:55.111685Z",
     "start_time": "2020-10-06T17:28:55.106979Z"
    }
   },
   "outputs": [],
   "source": [
    "X_train, X_val, y_train, y_val = train_test_split(X, y, test_size=.20, random_state=10)"
   ]
  },
  {
   "cell_type": "code",
   "execution_count": 15,
   "metadata": {
    "ExecuteTime": {
     "end_time": "2020-10-06T17:28:55.119568Z",
     "start_time": "2020-10-06T17:28:55.113262Z"
    }
   },
   "outputs": [],
   "source": [
    "# Scaling for Ridge & Lasso \n",
    "\n",
    "scaler = StandardScaler()\n",
    "\n",
    "X_train_scaled = scaler.fit_transform(X_train.values)\n",
    "X_val_scaled = scaler.transform(X_val.values)\n",
    "X_test_scaled = scaler.transform(X_test.values)"
   ]
  },
  {
   "cell_type": "markdown",
   "metadata": {},
   "source": [
    "## Models"
   ]
  },
  {
   "cell_type": "markdown",
   "metadata": {},
   "source": [
    "### Linear"
   ]
  },
  {
   "cell_type": "code",
   "execution_count": 16,
   "metadata": {
    "ExecuteTime": {
     "end_time": "2020-10-06T17:28:55.136495Z",
     "start_time": "2020-10-06T17:28:55.121692Z"
    }
   },
   "outputs": [
    {
     "name": "stdout",
     "output_type": "stream",
     "text": [
      "Linear Regression train R^2: 0.78595\n",
      "Linear Regression val R^2: 0.69627\n"
     ]
    }
   ],
   "source": [
    "lin = LinearRegression()\n",
    "\n",
    "lin.fit(X_train, y_train)\n",
    "print(f'Linear Regression train R^2: {lin.score(X_train, y_train):.5f}')\n",
    "print(f'Linear Regression val R^2: {lin.score(X_val, y_val):.5f}')"
   ]
  },
  {
   "cell_type": "markdown",
   "metadata": {},
   "source": [
    "### Ridge"
   ]
  },
  {
   "cell_type": "code",
   "execution_count": 17,
   "metadata": {
    "ExecuteTime": {
     "end_time": "2020-10-06T17:28:55.145442Z",
     "start_time": "2020-10-06T17:28:55.138413Z"
    }
   },
   "outputs": [
    {
     "name": "stdout",
     "output_type": "stream",
     "text": [
      "Ridge Regression test R^2: 0.78591\n",
      "Ridge Regression val R^2: 0.69469\n"
     ]
    }
   ],
   "source": [
    "rid = Ridge()\n",
    "\n",
    "rid.fit(X_train_scaled, y_train)\n",
    "print(f'Ridge Regression test R^2: {rid.score(X_train_scaled, y_train):.5f}')\n",
    "print(f'Ridge Regression val R^2: {rid.score(X_val_scaled, y_val):.5f}')"
   ]
  },
  {
   "cell_type": "markdown",
   "metadata": {},
   "source": [
    "### Lasso"
   ]
  },
  {
   "cell_type": "code",
   "execution_count": 18,
   "metadata": {
    "ExecuteTime": {
     "end_time": "2020-10-06T17:28:55.164869Z",
     "start_time": "2020-10-06T17:28:55.153571Z"
    }
   },
   "outputs": [
    {
     "name": "stdout",
     "output_type": "stream",
     "text": [
      "Lasso Regression test R^2: 0.78577\n",
      "Lasso Regression val R^2: 0.69367\n"
     ]
    }
   ],
   "source": [
    "las = Lasso()\n",
    "\n",
    "las.fit(X_train_scaled, y_train)\n",
    "print(f'Lasso Regression test R^2: {las.score(X_train_scaled, y_train):.5f}')\n",
    "print(f'Lasso Regression val R^2: {las.score(X_val_scaled, y_val):.5f}')"
   ]
  },
  {
   "cell_type": "markdown",
   "metadata": {},
   "source": [
    "### Model Evaluation using KFolds"
   ]
  },
  {
   "cell_type": "code",
   "execution_count": 19,
   "metadata": {
    "ExecuteTime": {
     "end_time": "2020-10-06T17:28:55.178364Z",
     "start_time": "2020-10-06T17:28:55.170884Z"
    }
   },
   "outputs": [],
   "source": [
    "sf2 = sf.copy()\n",
    "\n",
    "X, y = sf2.drop('price',axis=1), sf['price']\n",
    "\n",
    "X, X_test, y, y_test = train_test_split(X, y, test_size=.2, random_state=30)\n",
    "\n",
    "#this helps with the way kf will generate indices below\n",
    "X, y = np.array(X), np.array(y)"
   ]
  },
  {
   "cell_type": "code",
   "execution_count": 20,
   "metadata": {
    "ExecuteTime": {
     "end_time": "2020-10-06T17:28:55.242665Z",
     "start_time": "2020-10-06T17:28:55.180540Z"
    },
    "scrolled": true
   },
   "outputs": [
    {
     "name": "stdout",
     "output_type": "stream",
     "text": [
      "Simple scores:  [0.8181008845905573, 0.6755087392348761, 0.6960595840328078, 0.7113970028545764, 0.7824759723081276]\n",
      "Ridge scores:  [0.8168635752240738, 0.6781799271891892, 0.6930524152046132, 0.7137262543854624, 0.7944344423675458]\n",
      "Lasso scores:  [0.8178853543201481, 0.6781851528008418, 0.6939829275571862, 0.7123971327492138, 0.7879738454770158] \n",
      "\n",
      "Simple mean cv r^2: 0.73671 +- 0.05433\n",
      "Ridge mean cv r^2: 0.73925 +- 0.05583\n",
      "Lasso mean cv r^2: 0.73808 +- 0.05486\n"
     ]
    }
   ],
   "source": [
    "kf = KFold(n_splits=5, shuffle=True, random_state =12)\n",
    "\n",
    "cv_lin_r2s, cv_rid_r2s, cv_las_r2s = [], [], []  #collect the validation results for both models\n",
    "\n",
    "for train_ind, val_ind in kf.split(X,y):\n",
    "    \n",
    "    X_train, y_train = X[train_ind], y[train_ind]\n",
    "    X_val, y_val = X[val_ind], y[val_ind] \n",
    "    \n",
    "    #simple linear regression\n",
    "    lin = LinearRegression()\n",
    "    rid = Ridge()\n",
    "    las = Lasso()\n",
    "\n",
    "    lin.fit(X_train, y_train)\n",
    "    cv_lin_r2s.append(lin.score(X_val, y_val))\n",
    "    \n",
    "    #ridge/lasso with feature scaling\n",
    "    scaler = StandardScaler()\n",
    "    X_train_scaled = scaler.fit_transform(X_train)\n",
    "    X_val_scaled = scaler.transform(X_val)\n",
    "    \n",
    "    rid.fit(X_train_scaled, y_train)\n",
    "    cv_rid_r2s.append(rid.score(X_val_scaled, y_val))\n",
    "    \n",
    "    \n",
    "    #lasso with feature scaling\n",
    "    las.fit(X_train_scaled, y_train)\n",
    "    cv_las_r2s.append(las.score(X_val_scaled, y_val))\n",
    "\n",
    "print('Simple scores: ', cv_lin_r2s)\n",
    "print('Ridge scores: ', cv_rid_r2s)\n",
    "print('Lasso scores: ', cv_las_r2s, '\\n')\n",
    "\n",
    "print(f'Simple mean cv r^2: {np.mean(cv_lin_r2s):.5f} +- {np.std(cv_lin_r2s):.5f}')\n",
    "print(f'Ridge mean cv r^2: {np.mean(cv_rid_r2s):.5f} +- {np.std(cv_rid_r2s):.5f}')\n",
    "print(f'Lasso mean cv r^2: {np.mean(cv_las_r2s):.5f} +- {np.std(cv_las_r2s):.5f}')"
   ]
  },
  {
   "cell_type": "markdown",
   "metadata": {},
   "source": [
    "## Alpha Tuning - Ridge & Lasso"
   ]
  },
  {
   "cell_type": "code",
   "execution_count": 21,
   "metadata": {
    "ExecuteTime": {
     "end_time": "2020-10-06T17:28:55.250620Z",
     "start_time": "2020-10-06T17:28:55.244445Z"
    }
   },
   "outputs": [],
   "source": [
    "sf3 = sf.copy()\n",
    "\n",
    "X, y = sf3.drop('price',axis=1), sf['price']\n",
    "\n",
    "X, X_test, y, y_test = train_test_split(X, y, test_size=.2, random_state=42)"
   ]
  },
  {
   "cell_type": "code",
   "execution_count": 22,
   "metadata": {
    "ExecuteTime": {
     "end_time": "2020-10-06T17:28:55.257257Z",
     "start_time": "2020-10-06T17:28:55.252485Z"
    }
   },
   "outputs": [],
   "source": [
    "X_train, X_val, y_train, y_val = train_test_split(X, y, test_size=.2, random_state=37)"
   ]
  },
  {
   "cell_type": "code",
   "execution_count": 23,
   "metadata": {
    "ExecuteTime": {
     "end_time": "2020-10-06T17:28:55.263857Z",
     "start_time": "2020-10-06T17:28:55.258940Z"
    }
   },
   "outputs": [],
   "source": [
    "# Scalilng features\n",
    "scaler = StandardScaler()\n",
    "\n",
    "X_train_scaled = scaler.fit_transform(X_train.values)\n",
    "X_val_scaled = scaler.transform(X_val.values)\n",
    "X_test_scaled = scaler.transform(X_test.values)"
   ]
  },
  {
   "cell_type": "code",
   "execution_count": 24,
   "metadata": {
    "ExecuteTime": {
     "end_time": "2020-10-06T17:28:55.269885Z",
     "start_time": "2020-10-06T17:28:55.265801Z"
    }
   },
   "outputs": [
    {
     "data": {
      "text/plain": [
       "(numpy.ndarray, numpy.ndarray, numpy.ndarray)"
      ]
     },
     "execution_count": 24,
     "metadata": {},
     "output_type": "execute_result"
    }
   ],
   "source": [
    "type(X_train_scaled), type(X_val_scaled), type(X_test_scaled)"
   ]
  },
  {
   "cell_type": "markdown",
   "metadata": {},
   "source": [
    "### Lasso"
   ]
  },
  {
   "cell_type": "code",
   "execution_count": 25,
   "metadata": {
    "ExecuteTime": {
     "end_time": "2020-10-06T17:28:55.961725Z",
     "start_time": "2020-10-06T17:28:55.271817Z"
    }
   },
   "outputs": [
    {
     "data": {
      "text/plain": [
       "LassoCV(alphas=array([1.00000000e-02, 1.00926219e-02, 1.01861017e-02, 1.02804473e-02,\n",
       "       1.03756668e-02, 1.04717682e-02, 1.05687597e-02, 1.06666496e-02,\n",
       "       1.07654461e-02, 1.08651577e-02, 1.09657929e-02, 1.10673602e-02,\n",
       "       1.11698682e-02, 1.12733256e-02, 1.13777413e-02, 1.14831241e-02,\n",
       "       1.15894830e-02, 1.16968270e-02, 1.18051653e-02, 1.19145070e-02,\n",
       "       1.20248614e-02, 1.21362380e-0...\n",
       "       8.08924349e+01, 8.16416760e+01, 8.23978568e+01, 8.31610415e+01,\n",
       "       8.39312950e+01, 8.47086827e+01, 8.54932707e+01, 8.62851257e+01,\n",
       "       8.70843150e+01, 8.78909065e+01, 8.87049689e+01, 8.95265713e+01,\n",
       "       9.03557835e+01, 9.11926760e+01, 9.20373200e+01, 9.28897872e+01,\n",
       "       9.37501502e+01, 9.46184819e+01, 9.54948564e+01, 9.63793480e+01,\n",
       "       9.72720319e+01, 9.81729841e+01, 9.90822810e+01, 1.00000000e+02]),\n",
       "        cv=5)"
      ]
     },
     "execution_count": 25,
     "metadata": {},
     "output_type": "execute_result"
    }
   ],
   "source": [
    "alphavec = 10**np.linspace(-2,2,1000)\n",
    "\n",
    "lasso_model = LassoCV(alphas = alphavec, cv=5)\n",
    "lasso_model.fit(X_train_scaled, y_train)"
   ]
  },
  {
   "cell_type": "code",
   "execution_count": 26,
   "metadata": {
    "ExecuteTime": {
     "end_time": "2020-10-06T17:28:55.966468Z",
     "start_time": "2020-10-06T17:28:55.963362Z"
    }
   },
   "outputs": [
    {
     "data": {
      "text/plain": [
       "15.24695727017573"
      ]
     },
     "execution_count": 26,
     "metadata": {},
     "output_type": "execute_result"
    }
   ],
   "source": [
    "las_alpha = lasso_model.alpha_\n",
    "las_alpha"
   ]
  },
  {
   "cell_type": "code",
   "execution_count": 27,
   "metadata": {
    "ExecuteTime": {
     "end_time": "2020-10-06T17:28:55.974757Z",
     "start_time": "2020-10-06T17:28:55.968236Z"
    }
   },
   "outputs": [
    {
     "name": "stdout",
     "output_type": "stream",
     "text": [
      "Lasso Regression test R^2: 0.75915\n",
      "Lasso Regression val R^2: 0.78483\n"
     ]
    }
   ],
   "source": [
    "las = Lasso(alpha=las_alpha)\n",
    "\n",
    "las.fit(X_train_scaled, y_train)\n",
    "print(f'Lasso Regression test R^2: {las.score(X_train_scaled, y_train):.5f}')\n",
    "print(f'Lasso Regression val R^2: {las.score(X_val_scaled, y_val):.5f}')"
   ]
  },
  {
   "cell_type": "markdown",
   "metadata": {},
   "source": [
    "### Ridge"
   ]
  },
  {
   "cell_type": "code",
   "execution_count": 28,
   "metadata": {
    "ExecuteTime": {
     "end_time": "2020-10-06T17:29:01.428364Z",
     "start_time": "2020-10-06T17:28:55.976634Z"
    }
   },
   "outputs": [
    {
     "data": {
      "text/plain": [
       "RidgeCV(alphas=array([1.00000000e-02, 1.01237277e-02, 1.02489862e-02, 1.03757945e-02,\n",
       "       1.05041718e-02, 1.06341375e-02, 1.07657112e-02, 1.08989128e-02,\n",
       "       1.10337625e-02, 1.11702807e-02, 1.13084879e-02, 1.14484052e-02,\n",
       "       1.15900537e-02, 1.17334547e-02, 1.18786300e-02, 1.20256015e-02,\n",
       "       1.21743915e-02, 1.23250224e-02, 1.24775170e-02, 1.26318984e-02,\n",
       "       1.27881900e-02, 1.29464153e-0...\n",
       "       7.35340780e+01, 7.44438980e+01, 7.53649750e+01, 7.62974483e+01,\n",
       "       7.72414588e+01, 7.81971493e+01, 7.91646644e+01, 8.01441504e+01,\n",
       "       8.11357552e+01, 8.21396290e+01, 8.31559235e+01, 8.41847923e+01,\n",
       "       8.52263911e+01, 8.62808774e+01, 8.73484105e+01, 8.84291521e+01,\n",
       "       8.95232653e+01, 9.06309158e+01, 9.17522710e+01, 9.28875004e+01,\n",
       "       9.40367758e+01, 9.52002709e+01, 9.63781617e+01, 9.75706262e+01,\n",
       "       9.87778448e+01, 1.00000000e+02]),\n",
       "        cv=5)"
      ]
     },
     "execution_count": 28,
     "metadata": {},
     "output_type": "execute_result"
    }
   ],
   "source": [
    "alphavec = 10**np.linspace(-2,2,750)\n",
    "\n",
    "ridge_model = RidgeCV(alphas = alphavec, cv=5)\n",
    "ridge_model.fit(X_train_scaled, y_train)"
   ]
  },
  {
   "cell_type": "code",
   "execution_count": 29,
   "metadata": {
    "ExecuteTime": {
     "end_time": "2020-10-06T17:29:01.433158Z",
     "start_time": "2020-10-06T17:29:01.430141Z"
    }
   },
   "outputs": [
    {
     "data": {
      "text/plain": [
       "22.035563736348692"
      ]
     },
     "execution_count": 29,
     "metadata": {},
     "output_type": "execute_result"
    }
   ],
   "source": [
    "rid_alpha = ridge_model.alpha_\n",
    "rid_alpha"
   ]
  },
  {
   "cell_type": "code",
   "execution_count": 30,
   "metadata": {
    "ExecuteTime": {
     "end_time": "2020-10-06T17:29:01.440173Z",
     "start_time": "2020-10-06T17:29:01.434853Z"
    }
   },
   "outputs": [
    {
     "name": "stdout",
     "output_type": "stream",
     "text": [
      "Ridge Regression test R^2: 0.76921\n",
      "Ridge Regression val R^2: 0.78664\n"
     ]
    }
   ],
   "source": [
    "rid = Ridge(alpha=rid_alpha)\n",
    "\n",
    "rid.fit(X_train_scaled, y_train)\n",
    "print(f'Ridge Regression test R^2: {rid.score(X_train_scaled, y_train):.5f}')\n",
    "print(f'Ridge Regression val R^2: {rid.score(X_val_scaled, y_val):.5f}')"
   ]
  },
  {
   "cell_type": "markdown",
   "metadata": {},
   "source": [
    "### Coefficients"
   ]
  },
  {
   "cell_type": "code",
   "execution_count": 31,
   "metadata": {
    "ExecuteTime": {
     "end_time": "2020-10-06T17:29:01.455532Z",
     "start_time": "2020-10-06T17:29:01.441823Z"
    }
   },
   "outputs": [
    {
     "data": {
      "text/html": [
       "<div>\n",
       "<style scoped>\n",
       "    .dataframe tbody tr th:only-of-type {\n",
       "        vertical-align: middle;\n",
       "    }\n",
       "\n",
       "    .dataframe tbody tr th {\n",
       "        vertical-align: top;\n",
       "    }\n",
       "\n",
       "    .dataframe thead th {\n",
       "        text-align: right;\n",
       "    }\n",
       "</style>\n",
       "<table border=\"1\" class=\"dataframe\">\n",
       "  <thead>\n",
       "    <tr style=\"text-align: right;\">\n",
       "      <th></th>\n",
       "      <th>Features</th>\n",
       "      <th>Linear</th>\n",
       "      <th>Ridge</th>\n",
       "      <th>Lasso</th>\n",
       "    </tr>\n",
       "  </thead>\n",
       "  <tbody>\n",
       "    <tr>\n",
       "      <th>0</th>\n",
       "      <td>sqft</td>\n",
       "      <td>1.794600</td>\n",
       "      <td>820.692852</td>\n",
       "      <td>901.365895</td>\n",
       "    </tr>\n",
       "    <tr>\n",
       "      <th>1</th>\n",
       "      <td>beds</td>\n",
       "      <td>299.154409</td>\n",
       "      <td>89.046382</td>\n",
       "      <td>8.366285</td>\n",
       "    </tr>\n",
       "    <tr>\n",
       "      <th>2</th>\n",
       "      <td>bath</td>\n",
       "      <td>-2651.752710</td>\n",
       "      <td>-211.695404</td>\n",
       "      <td>-30.359077</td>\n",
       "    </tr>\n",
       "    <tr>\n",
       "      <th>3</th>\n",
       "      <td>laundry_(a) in-unit</td>\n",
       "      <td>194.804769</td>\n",
       "      <td>111.958625</td>\n",
       "      <td>114.725533</td>\n",
       "    </tr>\n",
       "    <tr>\n",
       "      <th>4</th>\n",
       "      <td>laundry_(b) on-site</td>\n",
       "      <td>-98.824626</td>\n",
       "      <td>-26.834205</td>\n",
       "      <td>-0.000000</td>\n",
       "    </tr>\n",
       "    <tr>\n",
       "      <th>5</th>\n",
       "      <td>pets_(a) both</td>\n",
       "      <td>-50.703656</td>\n",
       "      <td>-4.771967</td>\n",
       "      <td>-0.000000</td>\n",
       "    </tr>\n",
       "    <tr>\n",
       "      <th>6</th>\n",
       "      <td>pets_(b) dogs</td>\n",
       "      <td>167.249236</td>\n",
       "      <td>59.630742</td>\n",
       "      <td>46.921537</td>\n",
       "    </tr>\n",
       "    <tr>\n",
       "      <th>7</th>\n",
       "      <td>pets_(c) cats</td>\n",
       "      <td>-68.001366</td>\n",
       "      <td>20.319804</td>\n",
       "      <td>6.121278</td>\n",
       "    </tr>\n",
       "    <tr>\n",
       "      <th>8</th>\n",
       "      <td>housing_type_(a) single</td>\n",
       "      <td>-35.856172</td>\n",
       "      <td>2.178254</td>\n",
       "      <td>-0.000000</td>\n",
       "    </tr>\n",
       "    <tr>\n",
       "      <th>9</th>\n",
       "      <td>housing_type_(b) double</td>\n",
       "      <td>10.006150</td>\n",
       "      <td>18.613627</td>\n",
       "      <td>0.000000</td>\n",
       "    </tr>\n",
       "    <tr>\n",
       "      <th>10</th>\n",
       "      <td>parking_(a) valet</td>\n",
       "      <td>1177.398587</td>\n",
       "      <td>250.711800</td>\n",
       "      <td>231.910936</td>\n",
       "    </tr>\n",
       "    <tr>\n",
       "      <th>11</th>\n",
       "      <td>parking_(b) protected</td>\n",
       "      <td>94.384506</td>\n",
       "      <td>96.382170</td>\n",
       "      <td>62.507810</td>\n",
       "    </tr>\n",
       "    <tr>\n",
       "      <th>12</th>\n",
       "      <td>parking_(c) off-street</td>\n",
       "      <td>348.328806</td>\n",
       "      <td>82.583513</td>\n",
       "      <td>62.586946</td>\n",
       "    </tr>\n",
       "    <tr>\n",
       "      <th>13</th>\n",
       "      <td>hood_district_1</td>\n",
       "      <td>523.989663</td>\n",
       "      <td>74.021780</td>\n",
       "      <td>0.000000</td>\n",
       "    </tr>\n",
       "    <tr>\n",
       "      <th>14</th>\n",
       "      <td>hood_district_2</td>\n",
       "      <td>577.319329</td>\n",
       "      <td>60.895332</td>\n",
       "      <td>-0.000000</td>\n",
       "    </tr>\n",
       "    <tr>\n",
       "      <th>15</th>\n",
       "      <td>hood_district_3</td>\n",
       "      <td>425.782662</td>\n",
       "      <td>20.932298</td>\n",
       "      <td>-0.000000</td>\n",
       "    </tr>\n",
       "    <tr>\n",
       "      <th>16</th>\n",
       "      <td>hood_district_4</td>\n",
       "      <td>555.439778</td>\n",
       "      <td>34.971577</td>\n",
       "      <td>0.000000</td>\n",
       "    </tr>\n",
       "    <tr>\n",
       "      <th>17</th>\n",
       "      <td>hood_district_5</td>\n",
       "      <td>1029.417187</td>\n",
       "      <td>212.926824</td>\n",
       "      <td>104.721265</td>\n",
       "    </tr>\n",
       "    <tr>\n",
       "      <th>18</th>\n",
       "      <td>hood_district_6</td>\n",
       "      <td>1120.256072</td>\n",
       "      <td>158.807919</td>\n",
       "      <td>68.756853</td>\n",
       "    </tr>\n",
       "    <tr>\n",
       "      <th>19</th>\n",
       "      <td>hood_district_7</td>\n",
       "      <td>1244.390061</td>\n",
       "      <td>290.432728</td>\n",
       "      <td>163.806852</td>\n",
       "    </tr>\n",
       "    <tr>\n",
       "      <th>20</th>\n",
       "      <td>hood_district_8</td>\n",
       "      <td>911.465808</td>\n",
       "      <td>256.636654</td>\n",
       "      <td>104.922367</td>\n",
       "    </tr>\n",
       "    <tr>\n",
       "      <th>21</th>\n",
       "      <td>hood_district_9</td>\n",
       "      <td>837.267858</td>\n",
       "      <td>227.750184</td>\n",
       "      <td>65.618494</td>\n",
       "    </tr>\n",
       "    <tr>\n",
       "      <th>22</th>\n",
       "      <td>beds^2</td>\n",
       "      <td>-22.967987</td>\n",
       "      <td>125.662692</td>\n",
       "      <td>128.177326</td>\n",
       "    </tr>\n",
       "    <tr>\n",
       "      <th>23</th>\n",
       "      <td>bath^2</td>\n",
       "      <td>922.949709</td>\n",
       "      <td>541.800732</td>\n",
       "      <td>365.382245</td>\n",
       "    </tr>\n",
       "  </tbody>\n",
       "</table>\n",
       "</div>"
      ],
      "text/plain": [
       "                   Features       Linear       Ridge       Lasso\n",
       "0                      sqft     1.794600  820.692852  901.365895\n",
       "1                      beds   299.154409   89.046382    8.366285\n",
       "2                      bath -2651.752710 -211.695404  -30.359077\n",
       "3       laundry_(a) in-unit   194.804769  111.958625  114.725533\n",
       "4       laundry_(b) on-site   -98.824626  -26.834205   -0.000000\n",
       "5             pets_(a) both   -50.703656   -4.771967   -0.000000\n",
       "6             pets_(b) dogs   167.249236   59.630742   46.921537\n",
       "7             pets_(c) cats   -68.001366   20.319804    6.121278\n",
       "8   housing_type_(a) single   -35.856172    2.178254   -0.000000\n",
       "9   housing_type_(b) double    10.006150   18.613627    0.000000\n",
       "10        parking_(a) valet  1177.398587  250.711800  231.910936\n",
       "11    parking_(b) protected    94.384506   96.382170   62.507810\n",
       "12   parking_(c) off-street   348.328806   82.583513   62.586946\n",
       "13          hood_district_1   523.989663   74.021780    0.000000\n",
       "14          hood_district_2   577.319329   60.895332   -0.000000\n",
       "15          hood_district_3   425.782662   20.932298   -0.000000\n",
       "16          hood_district_4   555.439778   34.971577    0.000000\n",
       "17          hood_district_5  1029.417187  212.926824  104.721265\n",
       "18          hood_district_6  1120.256072  158.807919   68.756853\n",
       "19          hood_district_7  1244.390061  290.432728  163.806852\n",
       "20          hood_district_8   911.465808  256.636654  104.922367\n",
       "21          hood_district_9   837.267858  227.750184   65.618494\n",
       "22                   beds^2   -22.967987  125.662692  128.177326\n",
       "23                   bath^2   922.949709  541.800732  365.382245"
      ]
     },
     "execution_count": 31,
     "metadata": {},
     "output_type": "execute_result"
    }
   ],
   "source": [
    "lin_coefs = lin.coef_\n",
    "rid_coefs = rid.coef_\n",
    "las_coefs = las.coef_\n",
    "\n",
    "features = sf2.columns[1:]\n",
    "\n",
    "coef_data = {'Features': features,\n",
    "             'Linear': lin_coefs,\n",
    "             'Ridge': rid_coefs,\n",
    "             'Lasso': las_coefs}\n",
    "\n",
    "coef_df = pd.DataFrame(coef_data)\n",
    "coef_df"
   ]
  },
  {
   "cell_type": "markdown",
   "metadata": {},
   "source": [
    "### Full Train & Evaluation"
   ]
  },
  {
   "cell_type": "code",
   "execution_count": 32,
   "metadata": {
    "ExecuteTime": {
     "end_time": "2020-10-06T17:29:01.465402Z",
     "start_time": "2020-10-06T17:29:01.457389Z"
    }
   },
   "outputs": [],
   "source": [
    "X, y = sf3.drop('price',axis=1), sf['price']\n",
    "\n",
    "X, X_test, y, y_test = train_test_split(X, y, test_size=.2, random_state=42)\n",
    "\n",
    "# Scaling values\n",
    "scaler = StandardScaler()\n",
    "X_train_scaled = scaler.fit_transform(X.values)\n",
    "X_test_scaled = scaler.transform(X_test.values)"
   ]
  },
  {
   "cell_type": "markdown",
   "metadata": {},
   "source": [
    "#### Ridge"
   ]
  },
  {
   "cell_type": "code",
   "execution_count": 33,
   "metadata": {
    "ExecuteTime": {
     "end_time": "2020-10-06T17:29:01.473765Z",
     "start_time": "2020-10-06T17:29:01.467418Z"
    },
    "scrolled": true
   },
   "outputs": [
    {
     "data": {
      "text/plain": [
       "Ridge(alpha=22.035563736348692)"
      ]
     },
     "execution_count": 33,
     "metadata": {},
     "output_type": "execute_result"
    }
   ],
   "source": [
    "rid = Ridge(alpha=rid_alpha)\n",
    "\n",
    "rid.fit(X_train_scaled, y)"
   ]
  },
  {
   "cell_type": "code",
   "execution_count": 34,
   "metadata": {
    "ExecuteTime": {
     "end_time": "2020-10-06T17:29:01.481670Z",
     "start_time": "2020-10-06T17:29:01.475945Z"
    }
   },
   "outputs": [
    {
     "name": "stdout",
     "output_type": "stream",
     "text": [
      "Ridge Regression full-train R^2: 0.77411\n",
      "Ridge Regression test R^2: 0.77620\n"
     ]
    }
   ],
   "source": [
    "print(f'Ridge Regression full-train R^2: {rid.score(X_train_scaled, y):.5f}')\n",
    "print(f'Ridge Regression test R^2: {rid.score(X_test_scaled, y_test):.5f}')"
   ]
  },
  {
   "cell_type": "markdown",
   "metadata": {},
   "source": [
    "#### Lasso"
   ]
  },
  {
   "cell_type": "code",
   "execution_count": 35,
   "metadata": {
    "ExecuteTime": {
     "end_time": "2020-10-06T17:29:01.490422Z",
     "start_time": "2020-10-06T17:29:01.483844Z"
    }
   },
   "outputs": [
    {
     "data": {
      "text/plain": [
       "Lasso(alpha=15.24695727017573)"
      ]
     },
     "execution_count": 35,
     "metadata": {},
     "output_type": "execute_result"
    }
   ],
   "source": [
    "las = Lasso(alpha=las_alpha)\n",
    "\n",
    "las.fit(X_train_scaled, y)"
   ]
  },
  {
   "cell_type": "code",
   "execution_count": 36,
   "metadata": {
    "ExecuteTime": {
     "end_time": "2020-10-06T17:29:01.498973Z",
     "start_time": "2020-10-06T17:29:01.492690Z"
    }
   },
   "outputs": [
    {
     "name": "stdout",
     "output_type": "stream",
     "text": [
      "Lasso Regression full-train R^2: 0.76254\n",
      "Lasso Regression test R^2: 0.77152\n"
     ]
    }
   ],
   "source": [
    "print(f'Lasso Regression full-train R^2: {las.score(X_train_scaled, y):.5f}')\n",
    "print(f'Lasso Regression test R^2: {las.score(X_test_scaled, y_test):.5f}')"
   ]
  }
 ],
 "metadata": {
  "kernelspec": {
   "display_name": "Python [conda env:metis] *",
   "language": "python",
   "name": "conda-env-metis-py"
  },
  "language_info": {
   "codemirror_mode": {
    "name": "ipython",
    "version": 3
   },
   "file_extension": ".py",
   "mimetype": "text/x-python",
   "name": "python",
   "nbconvert_exporter": "python",
   "pygments_lexer": "ipython3",
   "version": "3.8.5"
  },
  "toc": {
   "base_numbering": 1,
   "nav_menu": {},
   "number_sections": true,
   "sideBar": true,
   "skip_h1_title": false,
   "title_cell": "Table of Contents",
   "title_sidebar": "Contents",
   "toc_cell": false,
   "toc_position": {
    "height": "calc(100% - 180px)",
    "left": "10px",
    "top": "150px",
    "width": "319.594px"
   },
   "toc_section_display": true,
   "toc_window_display": true
  },
  "varInspector": {
   "cols": {
    "lenName": 16,
    "lenType": 16,
    "lenVar": 40
   },
   "kernels_config": {
    "python": {
     "delete_cmd_postfix": "",
     "delete_cmd_prefix": "del ",
     "library": "var_list.py",
     "varRefreshCmd": "print(var_dic_list())"
    },
    "r": {
     "delete_cmd_postfix": ") ",
     "delete_cmd_prefix": "rm(",
     "library": "var_list.r",
     "varRefreshCmd": "cat(var_dic_list()) "
    }
   },
   "types_to_exclude": [
    "module",
    "function",
    "builtin_function_or_method",
    "instance",
    "_Feature"
   ],
   "window_display": false
  }
 },
 "nbformat": 4,
 "nbformat_minor": 4
}
