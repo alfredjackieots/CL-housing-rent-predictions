{
 "cells": [
  {
   "cell_type": "markdown",
   "metadata": {},
   "source": [
    "# Model Evaluation\n",
    "\n",
    "Process \n",
    "1. Import data & set up dummy variables\n",
    "    * drop 1 column for each grouping!\n",
    "2. Split data: \n",
    "    * Train / Test: X, X_test, y, y_test (~20%)\n",
    "    * Train / Val: X_train, X_val, y_train, y_val (~60%?)\n",
    "3. Create 3 Models: Linear, Ridge, Lasso\n",
    "    * SCALE: Ridge & Lasso\n",
    "    * Keep default alphas\n",
    "    * use KFolds\n",
    "4. Evaluate basic models on scoring (r2 train, r2 val)\n",
    "    * Use KFolds \n",
    "    * if models are really close to one another, tune alphas\n",
    "    * Pick an alpha range to loop through and compare results \n",
    "5. Tune alphas for Ridge & Lasso\n",
    "    * difference between r2 train and r2 val will be guide\n",
    "    * if r2 train > r2 val --> overfitting --> increase alpha\n",
    "6. Pick best version of each model to evaluate\n",
    "    * linear\n",
    "    * ridge at best alpha\n",
    "    * lasso at best alpha\n",
    "7. RETRAIN best model on entire training data (X)\n",
    "8. Evaluate model against hold out data (predict x_test vs. y_test) \n",
    "    * r2 train versus r2 test\n",
    "    * if difference is significant, more model tuning"
   ]
  },
  {
   "cell_type": "code",
   "execution_count": 1,
   "metadata": {
    "ExecuteTime": {
     "end_time": "2020-10-06T14:09:22.793958Z",
     "start_time": "2020-10-06T14:09:21.137962Z"
    }
   },
   "outputs": [],
   "source": [
    "# Necessary imports\n",
    "import pandas as pd\n",
    "import numpy as np\n",
    "import seaborn as sns\n",
    "import matplotlib.pyplot as plt\n",
    "%matplotlib inline\n",
    "\n",
    "import statsmodels.api as sm\n",
    "from sklearn.model_selection import train_test_split, KFold, cross_val_score\n",
    "from sklearn.linear_model import LinearRegression, Lasso, LassoCV, Ridge, RidgeCV, lars_path\n",
    "from sklearn.preprocessing import StandardScaler\n",
    "from sklearn.metrics import r2_score\n",
    "\n",
    "sns.set(context='notebook', style='whitegrid', font_scale=1.2)"
   ]
  },
  {
   "cell_type": "markdown",
   "metadata": {},
   "source": [
    "## Data Import & Setup"
   ]
  },
  {
   "cell_type": "code",
   "execution_count": 2,
   "metadata": {
    "ExecuteTime": {
     "end_time": "2020-10-06T14:09:22.802314Z",
     "start_time": "2020-10-06T14:09:22.795651Z"
    }
   },
   "outputs": [],
   "source": [
    "sf = pd.read_csv('data_files/sf_clean.csv')\n",
    "\n",
    "# Reformatting hood_district names\n",
    "sf['hood_district'] = sf['hood_district'].astype(int)\n",
    "sf['hood_district'] = sf['hood_district'].astype(str)"
   ]
  },
  {
   "cell_type": "code",
   "execution_count": 3,
   "metadata": {
    "ExecuteTime": {
     "end_time": "2020-10-06T14:09:22.813947Z",
     "start_time": "2020-10-06T14:09:22.804524Z"
    }
   },
   "outputs": [],
   "source": [
    "sf = pd.get_dummies(sf)"
   ]
  },
  {
   "cell_type": "code",
   "execution_count": 4,
   "metadata": {
    "ExecuteTime": {
     "end_time": "2020-10-06T14:09:22.819474Z",
     "start_time": "2020-10-06T14:09:22.815131Z"
    }
   },
   "outputs": [
    {
     "data": {
      "text/plain": [
       "Index(['price', 'sqft', 'beds', 'bath', 'laundry_(a) in-unit',\n",
       "       'laundry_(b) on-site', 'laundry_(c) no laundry', 'pets_(a) both',\n",
       "       'pets_(b) dogs', 'pets_(c) cats', 'pets_(d) no pets',\n",
       "       'housing_type_(a) single', 'housing_type_(b) double',\n",
       "       'housing_type_(c) multi', 'parking_(a) valet', 'parking_(b) protected',\n",
       "       'parking_(c) off-street', 'parking_(d) no parking', 'hood_district_1',\n",
       "       'hood_district_10', 'hood_district_2', 'hood_district_3',\n",
       "       'hood_district_4', 'hood_district_5', 'hood_district_6',\n",
       "       'hood_district_7', 'hood_district_8', 'hood_district_9'],\n",
       "      dtype='object')"
      ]
     },
     "execution_count": 4,
     "metadata": {},
     "output_type": "execute_result"
    }
   ],
   "source": [
    "sf.columns"
   ]
  },
  {
   "cell_type": "code",
   "execution_count": 5,
   "metadata": {
    "ExecuteTime": {
     "end_time": "2020-10-06T14:09:22.825281Z",
     "start_time": "2020-10-06T14:09:22.821054Z"
    }
   },
   "outputs": [],
   "source": [
    "cols_to_drop = ['laundry_(c) no laundry',\n",
    "               'pets_(d) no pets', \n",
    "               'housing_type_(c) multi',\n",
    "               'parking_(d) no parking',\n",
    "               'hood_district_10']\n",
    "\n",
    "sf = sf.drop(cols_to_drop, axis=1)"
   ]
  },
  {
   "cell_type": "code",
   "execution_count": 6,
   "metadata": {
    "ExecuteTime": {
     "end_time": "2020-10-06T14:09:22.843151Z",
     "start_time": "2020-10-06T14:09:22.826924Z"
    },
    "scrolled": true
   },
   "outputs": [
    {
     "data": {
      "text/html": [
       "<div>\n",
       "<style scoped>\n",
       "    .dataframe tbody tr th:only-of-type {\n",
       "        vertical-align: middle;\n",
       "    }\n",
       "\n",
       "    .dataframe tbody tr th {\n",
       "        vertical-align: top;\n",
       "    }\n",
       "\n",
       "    .dataframe thead th {\n",
       "        text-align: right;\n",
       "    }\n",
       "</style>\n",
       "<table border=\"1\" class=\"dataframe\">\n",
       "  <thead>\n",
       "    <tr style=\"text-align: right;\">\n",
       "      <th></th>\n",
       "      <th>price</th>\n",
       "      <th>sqft</th>\n",
       "      <th>beds</th>\n",
       "      <th>bath</th>\n",
       "      <th>laundry_(a) in-unit</th>\n",
       "      <th>laundry_(b) on-site</th>\n",
       "      <th>pets_(a) both</th>\n",
       "      <th>pets_(b) dogs</th>\n",
       "      <th>pets_(c) cats</th>\n",
       "      <th>housing_type_(a) single</th>\n",
       "      <th>...</th>\n",
       "      <th>parking_(c) off-street</th>\n",
       "      <th>hood_district_1</th>\n",
       "      <th>hood_district_2</th>\n",
       "      <th>hood_district_3</th>\n",
       "      <th>hood_district_4</th>\n",
       "      <th>hood_district_5</th>\n",
       "      <th>hood_district_6</th>\n",
       "      <th>hood_district_7</th>\n",
       "      <th>hood_district_8</th>\n",
       "      <th>hood_district_9</th>\n",
       "    </tr>\n",
       "  </thead>\n",
       "  <tbody>\n",
       "    <tr>\n",
       "      <th>0</th>\n",
       "      <td>6800</td>\n",
       "      <td>1600.0</td>\n",
       "      <td>2.0</td>\n",
       "      <td>2.0</td>\n",
       "      <td>1</td>\n",
       "      <td>0</td>\n",
       "      <td>0</td>\n",
       "      <td>0</td>\n",
       "      <td>0</td>\n",
       "      <td>0</td>\n",
       "      <td>...</td>\n",
       "      <td>0</td>\n",
       "      <td>0</td>\n",
       "      <td>0</td>\n",
       "      <td>0</td>\n",
       "      <td>0</td>\n",
       "      <td>0</td>\n",
       "      <td>0</td>\n",
       "      <td>1</td>\n",
       "      <td>0</td>\n",
       "      <td>0</td>\n",
       "    </tr>\n",
       "    <tr>\n",
       "      <th>1</th>\n",
       "      <td>3500</td>\n",
       "      <td>550.0</td>\n",
       "      <td>1.0</td>\n",
       "      <td>1.0</td>\n",
       "      <td>1</td>\n",
       "      <td>0</td>\n",
       "      <td>1</td>\n",
       "      <td>0</td>\n",
       "      <td>0</td>\n",
       "      <td>0</td>\n",
       "      <td>...</td>\n",
       "      <td>0</td>\n",
       "      <td>0</td>\n",
       "      <td>0</td>\n",
       "      <td>0</td>\n",
       "      <td>0</td>\n",
       "      <td>0</td>\n",
       "      <td>0</td>\n",
       "      <td>1</td>\n",
       "      <td>0</td>\n",
       "      <td>0</td>\n",
       "    </tr>\n",
       "    <tr>\n",
       "      <th>2</th>\n",
       "      <td>5100</td>\n",
       "      <td>1300.0</td>\n",
       "      <td>2.0</td>\n",
       "      <td>1.0</td>\n",
       "      <td>1</td>\n",
       "      <td>0</td>\n",
       "      <td>1</td>\n",
       "      <td>0</td>\n",
       "      <td>0</td>\n",
       "      <td>0</td>\n",
       "      <td>...</td>\n",
       "      <td>0</td>\n",
       "      <td>0</td>\n",
       "      <td>0</td>\n",
       "      <td>0</td>\n",
       "      <td>0</td>\n",
       "      <td>0</td>\n",
       "      <td>0</td>\n",
       "      <td>1</td>\n",
       "      <td>0</td>\n",
       "      <td>0</td>\n",
       "    </tr>\n",
       "    <tr>\n",
       "      <th>3</th>\n",
       "      <td>9000</td>\n",
       "      <td>3500.0</td>\n",
       "      <td>3.0</td>\n",
       "      <td>2.5</td>\n",
       "      <td>1</td>\n",
       "      <td>0</td>\n",
       "      <td>0</td>\n",
       "      <td>0</td>\n",
       "      <td>0</td>\n",
       "      <td>0</td>\n",
       "      <td>...</td>\n",
       "      <td>0</td>\n",
       "      <td>0</td>\n",
       "      <td>0</td>\n",
       "      <td>0</td>\n",
       "      <td>0</td>\n",
       "      <td>0</td>\n",
       "      <td>0</td>\n",
       "      <td>1</td>\n",
       "      <td>0</td>\n",
       "      <td>0</td>\n",
       "    </tr>\n",
       "    <tr>\n",
       "      <th>4</th>\n",
       "      <td>3100</td>\n",
       "      <td>561.0</td>\n",
       "      <td>1.0</td>\n",
       "      <td>1.0</td>\n",
       "      <td>0</td>\n",
       "      <td>0</td>\n",
       "      <td>1</td>\n",
       "      <td>0</td>\n",
       "      <td>0</td>\n",
       "      <td>0</td>\n",
       "      <td>...</td>\n",
       "      <td>0</td>\n",
       "      <td>0</td>\n",
       "      <td>0</td>\n",
       "      <td>0</td>\n",
       "      <td>0</td>\n",
       "      <td>0</td>\n",
       "      <td>0</td>\n",
       "      <td>1</td>\n",
       "      <td>0</td>\n",
       "      <td>0</td>\n",
       "    </tr>\n",
       "  </tbody>\n",
       "</table>\n",
       "<p>5 rows × 23 columns</p>\n",
       "</div>"
      ],
      "text/plain": [
       "   price    sqft  beds  bath  laundry_(a) in-unit  laundry_(b) on-site  \\\n",
       "0   6800  1600.0   2.0   2.0                    1                    0   \n",
       "1   3500   550.0   1.0   1.0                    1                    0   \n",
       "2   5100  1300.0   2.0   1.0                    1                    0   \n",
       "3   9000  3500.0   3.0   2.5                    1                    0   \n",
       "4   3100   561.0   1.0   1.0                    0                    0   \n",
       "\n",
       "   pets_(a) both  pets_(b) dogs  pets_(c) cats  housing_type_(a) single  ...  \\\n",
       "0              0              0              0                        0  ...   \n",
       "1              1              0              0                        0  ...   \n",
       "2              1              0              0                        0  ...   \n",
       "3              0              0              0                        0  ...   \n",
       "4              1              0              0                        0  ...   \n",
       "\n",
       "   parking_(c) off-street  hood_district_1  hood_district_2  hood_district_3  \\\n",
       "0                       0                0                0                0   \n",
       "1                       0                0                0                0   \n",
       "2                       0                0                0                0   \n",
       "3                       0                0                0                0   \n",
       "4                       0                0                0                0   \n",
       "\n",
       "   hood_district_4  hood_district_5  hood_district_6  hood_district_7  \\\n",
       "0                0                0                0                1   \n",
       "1                0                0                0                1   \n",
       "2                0                0                0                1   \n",
       "3                0                0                0                1   \n",
       "4                0                0                0                1   \n",
       "\n",
       "   hood_district_8  hood_district_9  \n",
       "0                0                0  \n",
       "1                0                0  \n",
       "2                0                0  \n",
       "3                0                0  \n",
       "4                0                0  \n",
       "\n",
       "[5 rows x 23 columns]"
      ]
     },
     "execution_count": 6,
     "metadata": {},
     "output_type": "execute_result"
    }
   ],
   "source": [
    "sf.head()"
   ]
  },
  {
   "cell_type": "markdown",
   "metadata": {},
   "source": [
    "## Training & Hold-Out Splits"
   ]
  },
  {
   "cell_type": "markdown",
   "metadata": {},
   "source": [
    "### Train / Test"
   ]
  },
  {
   "cell_type": "code",
   "execution_count": 7,
   "metadata": {
    "ExecuteTime": {
     "end_time": "2020-10-06T14:09:22.851470Z",
     "start_time": "2020-10-06T14:09:22.846295Z"
    }
   },
   "outputs": [],
   "source": [
    "X, y = sf.drop('price',axis=1), sf['price']\n",
    "\n",
    "# hold out 20% of the data for final testing\n",
    "X, X_test, y, y_test = train_test_split(X, y, test_size=.2, random_state=10)"
   ]
  },
  {
   "cell_type": "markdown",
   "metadata": {},
   "source": [
    "### Train / Validation"
   ]
  },
  {
   "cell_type": "code",
   "execution_count": 8,
   "metadata": {
    "ExecuteTime": {
     "end_time": "2020-10-06T14:09:22.859029Z",
     "start_time": "2020-10-06T14:09:22.854415Z"
    }
   },
   "outputs": [],
   "source": [
    "X_train, X_val, y_train, y_val = train_test_split(X, y, test_size=.20, random_state=10)"
   ]
  },
  {
   "cell_type": "code",
   "execution_count": 9,
   "metadata": {
    "ExecuteTime": {
     "end_time": "2020-10-06T14:09:22.867564Z",
     "start_time": "2020-10-06T14:09:22.861070Z"
    }
   },
   "outputs": [],
   "source": [
    "# Scaling for Ridge & Lasso \n",
    "\n",
    "scaler = StandardScaler()\n",
    "\n",
    "X_train_scaled = scaler.fit_transform(X_train.values)\n",
    "X_val_scaled = scaler.transform(X_val.values)\n",
    "X_test_scaled = scaler.transform(X_test.values)"
   ]
  },
  {
   "cell_type": "markdown",
   "metadata": {},
   "source": [
    "## Models"
   ]
  },
  {
   "cell_type": "markdown",
   "metadata": {},
   "source": [
    "### Linear"
   ]
  },
  {
   "cell_type": "code",
   "execution_count": 10,
   "metadata": {
    "ExecuteTime": {
     "end_time": "2020-10-06T14:09:22.883046Z",
     "start_time": "2020-10-06T14:09:22.869293Z"
    }
   },
   "outputs": [
    {
     "name": "stdout",
     "output_type": "stream",
     "text": [
      "Linear Regression train R^2: 0.78184\n",
      "Linear Regression val R^2: 0.67066\n"
     ]
    }
   ],
   "source": [
    "lin = LinearRegression()\n",
    "\n",
    "lin.fit(X_train, y_train)\n",
    "print(f'Linear Regression train R^2: {lin.score(X_train, y_train):.5f}')\n",
    "print(f'Linear Regression val R^2: {lin.score(X_val, y_val):.5f}')"
   ]
  },
  {
   "cell_type": "markdown",
   "metadata": {},
   "source": [
    "### Ridge"
   ]
  },
  {
   "cell_type": "code",
   "execution_count": 11,
   "metadata": {
    "ExecuteTime": {
     "end_time": "2020-10-06T14:09:22.891954Z",
     "start_time": "2020-10-06T14:09:22.885073Z"
    }
   },
   "outputs": [
    {
     "name": "stdout",
     "output_type": "stream",
     "text": [
      "Ridge Regression test R^2: 0.78181\n",
      "Ridge Regression val R^2: 0.67054\n"
     ]
    }
   ],
   "source": [
    "rid = Ridge()\n",
    "\n",
    "rid.fit(X_train_scaled, y_train)\n",
    "print(f'Ridge Regression test R^2: {rid.score(X_train_scaled, y_train):.5f}')\n",
    "print(f'Ridge Regression val R^2: {rid.score(X_val_scaled, y_val):.5f}')"
   ]
  },
  {
   "cell_type": "markdown",
   "metadata": {},
   "source": [
    "### Lasso"
   ]
  },
  {
   "cell_type": "code",
   "execution_count": 12,
   "metadata": {
    "ExecuteTime": {
     "end_time": "2020-10-06T14:09:22.902292Z",
     "start_time": "2020-10-06T14:09:22.894044Z"
    }
   },
   "outputs": [
    {
     "name": "stdout",
     "output_type": "stream",
     "text": [
      "Ridge Regression test R^2: 0.78172\n",
      "Ridge Regression val R^2: 0.67067\n"
     ]
    }
   ],
   "source": [
    "las = Lasso()\n",
    "\n",
    "las.fit(X_train_scaled, y_train)\n",
    "print(f'Ridge Regression test R^2: {las.score(X_train_scaled, y_train):.5f}')\n",
    "print(f'Ridge Regression val R^2: {las.score(X_val_scaled, y_val):.5f}')"
   ]
  },
  {
   "cell_type": "markdown",
   "metadata": {},
   "source": [
    "### Model Evaluation using KFolds"
   ]
  },
  {
   "cell_type": "code",
   "execution_count": 13,
   "metadata": {
    "ExecuteTime": {
     "end_time": "2020-10-06T14:09:22.911869Z",
     "start_time": "2020-10-06T14:09:22.904528Z"
    }
   },
   "outputs": [],
   "source": [
    "sf2 = sf.copy()\n",
    "\n",
    "X, y = sf2.drop('price',axis=1), sf['price']\n",
    "\n",
    "X, X_test, y, y_test = train_test_split(X, y, test_size=.2, random_state=30)\n",
    "\n",
    "#this helps with the way kf will generate indices below\n",
    "X, y = np.array(X), np.array(y)"
   ]
  },
  {
   "cell_type": "code",
   "execution_count": 14,
   "metadata": {
    "ExecuteTime": {
     "end_time": "2020-10-06T14:09:22.953984Z",
     "start_time": "2020-10-06T14:09:22.913831Z"
    },
    "scrolled": true
   },
   "outputs": [
    {
     "name": "stdout",
     "output_type": "stream",
     "text": [
      "Simple scores:  [0.7902121151705227, 0.678231918470749, 0.6539934339757945, 0.7160366020304101, 0.8024668639219245]\n",
      "Ridge scores:  [0.789965695329414, 0.6794760528664688, 0.6538530428786878, 0.7162344132034061, 0.8022393400128285]\n",
      "Lasso scores:  [0.7904453069834163, 0.6802749348235684, 0.6541668011093027, 0.7158473766765832, 0.8020956988709493] \n",
      "\n",
      "Simple mean cv r^2: 0.72819 +- 0.05918\n",
      "Ridge mean cv r^2: 0.72835 +- 0.05889\n",
      "Lasso mean cv r^2: 0.72857 +- 0.05876\n"
     ]
    }
   ],
   "source": [
    "kf = KFold(n_splits=5, shuffle=True, random_state =12)\n",
    "\n",
    "cv_lin_r2s, cv_rid_r2s, cv_las_r2s = [], [], []  #collect the validation results for both models\n",
    "\n",
    "for train_ind, val_ind in kf.split(X,y):\n",
    "    \n",
    "    X_train, y_train = X[train_ind], y[train_ind]\n",
    "    X_val, y_val = X[val_ind], y[val_ind] \n",
    "    \n",
    "    #simple linear regression\n",
    "    lin = LinearRegression()\n",
    "    rid = Ridge()\n",
    "    las = Lasso()\n",
    "\n",
    "    lin.fit(X_train, y_train)\n",
    "    cv_lin_r2s.append(lin.score(X_val, y_val))\n",
    "    \n",
    "    #ridge/lasso with feature scaling\n",
    "    scaler = StandardScaler()\n",
    "    X_train_scaled = scaler.fit_transform(X_train)\n",
    "    X_val_scaled = scaler.transform(X_val)\n",
    "    \n",
    "    rid.fit(X_train_scaled, y_train)\n",
    "    cv_rid_r2s.append(rid.score(X_val_scaled, y_val))\n",
    "    \n",
    "    \n",
    "    #lasso with feature scaling\n",
    "    las.fit(X_train_scaled, y_train)\n",
    "    cv_las_r2s.append(las.score(X_val_scaled, y_val))\n",
    "\n",
    "print('Simple scores: ', cv_lin_r2s)\n",
    "print('Ridge scores: ', cv_rid_r2s)\n",
    "print('Lasso scores: ', cv_las_r2s, '\\n')\n",
    "\n",
    "print(f'Simple mean cv r^2: {np.mean(cv_lin_r2s):.5f} +- {np.std(cv_lin_r2s):.5f}')\n",
    "print(f'Ridge mean cv r^2: {np.mean(cv_rid_r2s):.5f} +- {np.std(cv_rid_r2s):.5f}')\n",
    "print(f'Lasso mean cv r^2: {np.mean(cv_las_r2s):.5f} +- {np.std(cv_las_r2s):.5f}')"
   ]
  },
  {
   "cell_type": "markdown",
   "metadata": {},
   "source": [
    "## Alpha Tuning - Ridge & Lasso"
   ]
  },
  {
   "cell_type": "code",
   "execution_count": 15,
   "metadata": {
    "ExecuteTime": {
     "end_time": "2020-10-06T14:09:22.961654Z",
     "start_time": "2020-10-06T14:09:22.955580Z"
    }
   },
   "outputs": [],
   "source": [
    "sf3 = sf.copy()\n",
    "\n",
    "X, y = sf3.drop('price',axis=1), sf['price']\n",
    "\n",
    "X, X_test, y, y_test = train_test_split(X, y, test_size=.2, random_state=42)"
   ]
  },
  {
   "cell_type": "code",
   "execution_count": 16,
   "metadata": {
    "ExecuteTime": {
     "end_time": "2020-10-06T14:09:22.967618Z",
     "start_time": "2020-10-06T14:09:22.963283Z"
    }
   },
   "outputs": [],
   "source": [
    "X_train, X_val, y_train, y_val = train_test_split(X, y, test_size=.2, random_state=37)"
   ]
  },
  {
   "cell_type": "code",
   "execution_count": 17,
   "metadata": {
    "ExecuteTime": {
     "end_time": "2020-10-06T14:09:22.974038Z",
     "start_time": "2020-10-06T14:09:22.969317Z"
    }
   },
   "outputs": [],
   "source": [
    "# Scalilng features\n",
    "scaler = StandardScaler()\n",
    "\n",
    "X_train_scaled = scaler.fit_transform(X_train.values)\n",
    "X_val_scaled = scaler.transform(X_val.values)\n",
    "X_test_scaled = scaler.transform(X_test.values)"
   ]
  },
  {
   "cell_type": "code",
   "execution_count": 18,
   "metadata": {
    "ExecuteTime": {
     "end_time": "2020-10-06T14:09:22.979066Z",
     "start_time": "2020-10-06T14:09:22.975777Z"
    }
   },
   "outputs": [
    {
     "data": {
      "text/plain": [
       "(numpy.ndarray, numpy.ndarray, numpy.ndarray)"
      ]
     },
     "execution_count": 18,
     "metadata": {},
     "output_type": "execute_result"
    }
   ],
   "source": [
    "type(X_train_scaled), type(X_val_scaled), type(X_test_scaled)"
   ]
  },
  {
   "cell_type": "markdown",
   "metadata": {},
   "source": [
    "### Lasso"
   ]
  },
  {
   "cell_type": "code",
   "execution_count": 19,
   "metadata": {
    "ExecuteTime": {
     "end_time": "2020-10-06T14:09:23.555574Z",
     "start_time": "2020-10-06T14:09:22.980514Z"
    }
   },
   "outputs": [
    {
     "data": {
      "text/plain": [
       "LassoCV(alphas=array([1.00000000e-02, 1.00926219e-02, 1.01861017e-02, 1.02804473e-02,\n",
       "       1.03756668e-02, 1.04717682e-02, 1.05687597e-02, 1.06666496e-02,\n",
       "       1.07654461e-02, 1.08651577e-02, 1.09657929e-02, 1.10673602e-02,\n",
       "       1.11698682e-02, 1.12733256e-02, 1.13777413e-02, 1.14831241e-02,\n",
       "       1.15894830e-02, 1.16968270e-02, 1.18051653e-02, 1.19145070e-02,\n",
       "       1.20248614e-02, 1.21362380e-0...\n",
       "       8.08924349e+01, 8.16416760e+01, 8.23978568e+01, 8.31610415e+01,\n",
       "       8.39312950e+01, 8.47086827e+01, 8.54932707e+01, 8.62851257e+01,\n",
       "       8.70843150e+01, 8.78909065e+01, 8.87049689e+01, 8.95265713e+01,\n",
       "       9.03557835e+01, 9.11926760e+01, 9.20373200e+01, 9.28897872e+01,\n",
       "       9.37501502e+01, 9.46184819e+01, 9.54948564e+01, 9.63793480e+01,\n",
       "       9.72720319e+01, 9.81729841e+01, 9.90822810e+01, 1.00000000e+02]),\n",
       "        cv=5)"
      ]
     },
     "execution_count": 19,
     "metadata": {},
     "output_type": "execute_result"
    }
   ],
   "source": [
    "alphavec = 10**np.linspace(-2,2,1000)\n",
    "\n",
    "lasso_model = LassoCV(alphas = alphavec, cv=5)\n",
    "lasso_model.fit(X_train_scaled, y_train)"
   ]
  },
  {
   "cell_type": "code",
   "execution_count": 20,
   "metadata": {
    "ExecuteTime": {
     "end_time": "2020-10-06T14:09:23.560494Z",
     "start_time": "2020-10-06T14:09:23.557264Z"
    }
   },
   "outputs": [
    {
     "data": {
      "text/plain": [
       "0.010186101701559758"
      ]
     },
     "execution_count": 20,
     "metadata": {},
     "output_type": "execute_result"
    }
   ],
   "source": [
    "las_alpha = lasso_model.alpha_\n",
    "las_alpha"
   ]
  },
  {
   "cell_type": "code",
   "execution_count": 21,
   "metadata": {
    "ExecuteTime": {
     "end_time": "2020-10-06T14:09:23.571493Z",
     "start_time": "2020-10-06T14:09:23.562214Z"
    }
   },
   "outputs": [
    {
     "name": "stdout",
     "output_type": "stream",
     "text": [
      "Lasso Regression test R^2: 0.75885\n",
      "Lasso Regression val R^2: 0.78052\n"
     ]
    }
   ],
   "source": [
    "las = Lasso(alpha=las_alpha)\n",
    "\n",
    "las.fit(X_train_scaled, y_train)\n",
    "print(f'Lasso Regression test R^2: {las.score(X_train_scaled, y_train):.5f}')\n",
    "print(f'Lasso Regression val R^2: {las.score(X_val_scaled, y_val):.5f}')"
   ]
  },
  {
   "cell_type": "markdown",
   "metadata": {},
   "source": [
    "### Ridge"
   ]
  },
  {
   "cell_type": "code",
   "execution_count": 22,
   "metadata": {
    "ExecuteTime": {
     "end_time": "2020-10-06T14:09:28.612161Z",
     "start_time": "2020-10-06T14:09:23.579418Z"
    }
   },
   "outputs": [
    {
     "data": {
      "text/plain": [
       "RidgeCV(alphas=array([1.00000000e-02, 1.01237277e-02, 1.02489862e-02, 1.03757945e-02,\n",
       "       1.05041718e-02, 1.06341375e-02, 1.07657112e-02, 1.08989128e-02,\n",
       "       1.10337625e-02, 1.11702807e-02, 1.13084879e-02, 1.14484052e-02,\n",
       "       1.15900537e-02, 1.17334547e-02, 1.18786300e-02, 1.20256015e-02,\n",
       "       1.21743915e-02, 1.23250224e-02, 1.24775170e-02, 1.26318984e-02,\n",
       "       1.27881900e-02, 1.29464153e-0...\n",
       "       7.35340780e+01, 7.44438980e+01, 7.53649750e+01, 7.62974483e+01,\n",
       "       7.72414588e+01, 7.81971493e+01, 7.91646644e+01, 8.01441504e+01,\n",
       "       8.11357552e+01, 8.21396290e+01, 8.31559235e+01, 8.41847923e+01,\n",
       "       8.52263911e+01, 8.62808774e+01, 8.73484105e+01, 8.84291521e+01,\n",
       "       8.95232653e+01, 9.06309158e+01, 9.17522710e+01, 9.28875004e+01,\n",
       "       9.40367758e+01, 9.52002709e+01, 9.63781617e+01, 9.75706262e+01,\n",
       "       9.87778448e+01, 1.00000000e+02]),\n",
       "        cv=5)"
      ]
     },
     "execution_count": 22,
     "metadata": {},
     "output_type": "execute_result"
    }
   ],
   "source": [
    "alphavec = 10**np.linspace(-2,2,750)\n",
    "\n",
    "ridge_model = RidgeCV(alphas = alphavec, cv=5)\n",
    "ridge_model.fit(X_train_scaled, y_train)"
   ]
  },
  {
   "cell_type": "code",
   "execution_count": 23,
   "metadata": {
    "ExecuteTime": {
     "end_time": "2020-10-06T14:09:28.620862Z",
     "start_time": "2020-10-06T14:09:28.617458Z"
    }
   },
   "outputs": [
    {
     "data": {
      "text/plain": [
       "6.364119381231064"
      ]
     },
     "execution_count": 23,
     "metadata": {},
     "output_type": "execute_result"
    }
   ],
   "source": [
    "rid_alpha = ridge_model.alpha_\n",
    "rid_alpha"
   ]
  },
  {
   "cell_type": "code",
   "execution_count": 24,
   "metadata": {
    "ExecuteTime": {
     "end_time": "2020-10-06T14:09:28.628019Z",
     "start_time": "2020-10-06T14:09:28.622336Z"
    }
   },
   "outputs": [
    {
     "name": "stdout",
     "output_type": "stream",
     "text": [
      "Ridge Regression test R^2: 0.75815\n",
      "Ridge Regression val R^2: 0.78565\n"
     ]
    }
   ],
   "source": [
    "rid = Ridge(alpha=rid_alpha)\n",
    "\n",
    "rid.fit(X_train_scaled, y_train)\n",
    "print(f'Ridge Regression test R^2: {rid.score(X_train_scaled, y_train):.5f}')\n",
    "print(f'Ridge Regression val R^2: {rid.score(X_val_scaled, y_val):.5f}')"
   ]
  },
  {
   "cell_type": "markdown",
   "metadata": {},
   "source": [
    "### Coefficients"
   ]
  },
  {
   "cell_type": "code",
   "execution_count": 25,
   "metadata": {
    "ExecuteTime": {
     "end_time": "2020-10-06T14:09:28.642579Z",
     "start_time": "2020-10-06T14:09:28.630144Z"
    }
   },
   "outputs": [
    {
     "data": {
      "text/html": [
       "<div>\n",
       "<style scoped>\n",
       "    .dataframe tbody tr th:only-of-type {\n",
       "        vertical-align: middle;\n",
       "    }\n",
       "\n",
       "    .dataframe tbody tr th {\n",
       "        vertical-align: top;\n",
       "    }\n",
       "\n",
       "    .dataframe thead th {\n",
       "        text-align: right;\n",
       "    }\n",
       "</style>\n",
       "<table border=\"1\" class=\"dataframe\">\n",
       "  <thead>\n",
       "    <tr style=\"text-align: right;\">\n",
       "      <th></th>\n",
       "      <th>Features</th>\n",
       "      <th>Linear</th>\n",
       "      <th>Ridge</th>\n",
       "      <th>Lasso</th>\n",
       "    </tr>\n",
       "  </thead>\n",
       "  <tbody>\n",
       "    <tr>\n",
       "      <th>0</th>\n",
       "      <td>sqft</td>\n",
       "      <td>2.033856</td>\n",
       "      <td>924.298778</td>\n",
       "      <td>947.039832</td>\n",
       "    </tr>\n",
       "    <tr>\n",
       "      <th>1</th>\n",
       "      <td>beds</td>\n",
       "      <td>114.780222</td>\n",
       "      <td>144.690319</td>\n",
       "      <td>129.513572</td>\n",
       "    </tr>\n",
       "    <tr>\n",
       "      <th>2</th>\n",
       "      <td>bath</td>\n",
       "      <td>445.059762</td>\n",
       "      <td>276.629916</td>\n",
       "      <td>272.927579</td>\n",
       "    </tr>\n",
       "    <tr>\n",
       "      <th>3</th>\n",
       "      <td>laundry_(a) in-unit</td>\n",
       "      <td>173.740595</td>\n",
       "      <td>112.110509</td>\n",
       "      <td>114.262055</td>\n",
       "    </tr>\n",
       "    <tr>\n",
       "      <th>4</th>\n",
       "      <td>laundry_(b) on-site</td>\n",
       "      <td>-80.711853</td>\n",
       "      <td>-29.533046</td>\n",
       "      <td>-29.820363</td>\n",
       "    </tr>\n",
       "    <tr>\n",
       "      <th>5</th>\n",
       "      <td>pets_(a) both</td>\n",
       "      <td>-34.860571</td>\n",
       "      <td>-5.894833</td>\n",
       "      <td>-7.817705</td>\n",
       "    </tr>\n",
       "    <tr>\n",
       "      <th>6</th>\n",
       "      <td>pets_(b) dogs</td>\n",
       "      <td>130.004859</td>\n",
       "      <td>55.872931</td>\n",
       "      <td>54.835180</td>\n",
       "    </tr>\n",
       "    <tr>\n",
       "      <th>7</th>\n",
       "      <td>pets_(c) cats</td>\n",
       "      <td>-31.840035</td>\n",
       "      <td>15.025104</td>\n",
       "      <td>13.488959</td>\n",
       "    </tr>\n",
       "    <tr>\n",
       "      <th>8</th>\n",
       "      <td>housing_type_(a) single</td>\n",
       "      <td>68.667593</td>\n",
       "      <td>8.258446</td>\n",
       "      <td>12.324794</td>\n",
       "    </tr>\n",
       "    <tr>\n",
       "      <th>9</th>\n",
       "      <td>housing_type_(b) double</td>\n",
       "      <td>62.693603</td>\n",
       "      <td>27.238311</td>\n",
       "      <td>31.914300</td>\n",
       "    </tr>\n",
       "    <tr>\n",
       "      <th>10</th>\n",
       "      <td>parking_(a) valet</td>\n",
       "      <td>1384.470871</td>\n",
       "      <td>251.603491</td>\n",
       "      <td>250.006594</td>\n",
       "    </tr>\n",
       "    <tr>\n",
       "      <th>11</th>\n",
       "      <td>parking_(b) protected</td>\n",
       "      <td>56.925378</td>\n",
       "      <td>74.247029</td>\n",
       "      <td>70.893241</td>\n",
       "    </tr>\n",
       "    <tr>\n",
       "      <th>12</th>\n",
       "      <td>parking_(c) off-street</td>\n",
       "      <td>323.068169</td>\n",
       "      <td>88.389639</td>\n",
       "      <td>90.715313</td>\n",
       "    </tr>\n",
       "    <tr>\n",
       "      <th>13</th>\n",
       "      <td>hood_district_1</td>\n",
       "      <td>745.311995</td>\n",
       "      <td>148.723893</td>\n",
       "      <td>198.232770</td>\n",
       "    </tr>\n",
       "    <tr>\n",
       "      <th>14</th>\n",
       "      <td>hood_district_2</td>\n",
       "      <td>664.966951</td>\n",
       "      <td>130.619957</td>\n",
       "      <td>180.654459</td>\n",
       "    </tr>\n",
       "    <tr>\n",
       "      <th>15</th>\n",
       "      <td>hood_district_3</td>\n",
       "      <td>487.575451</td>\n",
       "      <td>56.171144</td>\n",
       "      <td>84.135011</td>\n",
       "    </tr>\n",
       "    <tr>\n",
       "      <th>16</th>\n",
       "      <td>hood_district_4</td>\n",
       "      <td>819.055337</td>\n",
       "      <td>60.404777</td>\n",
       "      <td>77.872281</td>\n",
       "    </tr>\n",
       "    <tr>\n",
       "      <th>17</th>\n",
       "      <td>hood_district_5</td>\n",
       "      <td>1083.759784</td>\n",
       "      <td>312.941416</td>\n",
       "      <td>386.555471</td>\n",
       "    </tr>\n",
       "    <tr>\n",
       "      <th>18</th>\n",
       "      <td>hood_district_6</td>\n",
       "      <td>1125.399067</td>\n",
       "      <td>235.005493</td>\n",
       "      <td>290.492342</td>\n",
       "    </tr>\n",
       "    <tr>\n",
       "      <th>19</th>\n",
       "      <td>hood_district_7</td>\n",
       "      <td>1258.616170</td>\n",
       "      <td>390.787069</td>\n",
       "      <td>468.288798</td>\n",
       "    </tr>\n",
       "    <tr>\n",
       "      <th>20</th>\n",
       "      <td>hood_district_8</td>\n",
       "      <td>1024.477575</td>\n",
       "      <td>395.860961</td>\n",
       "      <td>495.487190</td>\n",
       "    </tr>\n",
       "    <tr>\n",
       "      <th>21</th>\n",
       "      <td>hood_district_9</td>\n",
       "      <td>878.551123</td>\n",
       "      <td>367.247956</td>\n",
       "      <td>476.295555</td>\n",
       "    </tr>\n",
       "  </tbody>\n",
       "</table>\n",
       "</div>"
      ],
      "text/plain": [
       "                   Features       Linear       Ridge       Lasso\n",
       "0                      sqft     2.033856  924.298778  947.039832\n",
       "1                      beds   114.780222  144.690319  129.513572\n",
       "2                      bath   445.059762  276.629916  272.927579\n",
       "3       laundry_(a) in-unit   173.740595  112.110509  114.262055\n",
       "4       laundry_(b) on-site   -80.711853  -29.533046  -29.820363\n",
       "5             pets_(a) both   -34.860571   -5.894833   -7.817705\n",
       "6             pets_(b) dogs   130.004859   55.872931   54.835180\n",
       "7             pets_(c) cats   -31.840035   15.025104   13.488959\n",
       "8   housing_type_(a) single    68.667593    8.258446   12.324794\n",
       "9   housing_type_(b) double    62.693603   27.238311   31.914300\n",
       "10        parking_(a) valet  1384.470871  251.603491  250.006594\n",
       "11    parking_(b) protected    56.925378   74.247029   70.893241\n",
       "12   parking_(c) off-street   323.068169   88.389639   90.715313\n",
       "13          hood_district_1   745.311995  148.723893  198.232770\n",
       "14          hood_district_2   664.966951  130.619957  180.654459\n",
       "15          hood_district_3   487.575451   56.171144   84.135011\n",
       "16          hood_district_4   819.055337   60.404777   77.872281\n",
       "17          hood_district_5  1083.759784  312.941416  386.555471\n",
       "18          hood_district_6  1125.399067  235.005493  290.492342\n",
       "19          hood_district_7  1258.616170  390.787069  468.288798\n",
       "20          hood_district_8  1024.477575  395.860961  495.487190\n",
       "21          hood_district_9   878.551123  367.247956  476.295555"
      ]
     },
     "execution_count": 25,
     "metadata": {},
     "output_type": "execute_result"
    }
   ],
   "source": [
    "lin_coefs = lin.coef_\n",
    "rid_coefs = rid.coef_\n",
    "las_coefs = las.coef_\n",
    "\n",
    "features = sf2.columns[1:]\n",
    "\n",
    "coef_data = {'Features': features,\n",
    "             'Linear': lin_coefs,\n",
    "             'Ridge': rid_coefs,\n",
    "             'Lasso': las_coefs}\n",
    "\n",
    "coef_df = pd.DataFrame(coef_data)\n",
    "coef_df"
   ]
  },
  {
   "cell_type": "markdown",
   "metadata": {},
   "source": [
    "### Full Train & Evaluation"
   ]
  },
  {
   "cell_type": "code",
   "execution_count": 26,
   "metadata": {
    "ExecuteTime": {
     "end_time": "2020-10-06T14:09:28.652542Z",
     "start_time": "2020-10-06T14:09:28.644342Z"
    }
   },
   "outputs": [],
   "source": [
    "X, y = sf3.drop('price',axis=1), sf['price']\n",
    "\n",
    "X, X_test, y, y_test = train_test_split(X, y, test_size=.2, random_state=42)\n",
    "\n",
    "# Scaling values\n",
    "scaler = StandardScaler()\n",
    "X_train_scaled = scaler.fit_transform(X.values)\n",
    "X_test_scaled = scaler.transform(X_test.values)"
   ]
  },
  {
   "cell_type": "markdown",
   "metadata": {},
   "source": [
    "#### Ridge"
   ]
  },
  {
   "cell_type": "code",
   "execution_count": 27,
   "metadata": {
    "ExecuteTime": {
     "end_time": "2020-10-06T14:09:28.660822Z",
     "start_time": "2020-10-06T14:09:28.654542Z"
    },
    "scrolled": true
   },
   "outputs": [
    {
     "data": {
      "text/plain": [
       "Ridge(alpha=6.364119381231064)"
      ]
     },
     "execution_count": 27,
     "metadata": {},
     "output_type": "execute_result"
    }
   ],
   "source": [
    "rid = Ridge(alpha=rid_alpha)\n",
    "\n",
    "rid.fit(X_train_scaled, y)"
   ]
  },
  {
   "cell_type": "code",
   "execution_count": 28,
   "metadata": {
    "ExecuteTime": {
     "end_time": "2020-10-06T14:09:28.668838Z",
     "start_time": "2020-10-06T14:09:28.663126Z"
    }
   },
   "outputs": [
    {
     "name": "stdout",
     "output_type": "stream",
     "text": [
      "Ridge Regression full-train R^2: 0.76367\n",
      "Ridge Regression test R^2: 0.76347\n"
     ]
    }
   ],
   "source": [
    "print(f'Ridge Regression full-train R^2: {rid.score(X_train_scaled, y):.5f}')\n",
    "print(f'Ridge Regression test R^2: {rid.score(X_test_scaled, y_test):.5f}')"
   ]
  },
  {
   "cell_type": "markdown",
   "metadata": {},
   "source": [
    "#### Lasso"
   ]
  },
  {
   "cell_type": "code",
   "execution_count": 29,
   "metadata": {
    "ExecuteTime": {
     "end_time": "2020-10-06T14:09:28.681812Z",
     "start_time": "2020-10-06T14:09:28.670990Z"
    }
   },
   "outputs": [
    {
     "data": {
      "text/plain": [
       "Lasso(alpha=0.010186101701559758)"
      ]
     },
     "execution_count": 29,
     "metadata": {},
     "output_type": "execute_result"
    }
   ],
   "source": [
    "las = Lasso(alpha=las_alpha)\n",
    "\n",
    "las.fit(X_train_scaled, y)"
   ]
  },
  {
   "cell_type": "code",
   "execution_count": 30,
   "metadata": {
    "ExecuteTime": {
     "end_time": "2020-10-06T14:09:28.688728Z",
     "start_time": "2020-10-06T14:09:28.683787Z"
    }
   },
   "outputs": [
    {
     "name": "stdout",
     "output_type": "stream",
     "text": [
      "Lasso Regression full-train R^2: 0.76406\n",
      "Lasso Regression test R^2: 0.76179\n"
     ]
    }
   ],
   "source": [
    "print(f'Lasso Regression full-train R^2: {las.score(X_train_scaled, y):.5f}')\n",
    "print(f'Lasso Regression test R^2: {las.score(X_test_scaled, y_test):.5f}')"
   ]
  }
 ],
 "metadata": {
  "kernelspec": {
   "display_name": "Python [conda env:metis] *",
   "language": "python",
   "name": "conda-env-metis-py"
  },
  "language_info": {
   "codemirror_mode": {
    "name": "ipython",
    "version": 3
   },
   "file_extension": ".py",
   "mimetype": "text/x-python",
   "name": "python",
   "nbconvert_exporter": "python",
   "pygments_lexer": "ipython3",
   "version": "3.8.5"
  },
  "toc": {
   "base_numbering": 1,
   "nav_menu": {},
   "number_sections": true,
   "sideBar": true,
   "skip_h1_title": false,
   "title_cell": "Table of Contents",
   "title_sidebar": "Contents",
   "toc_cell": false,
   "toc_position": {},
   "toc_section_display": true,
   "toc_window_display": true
  },
  "varInspector": {
   "cols": {
    "lenName": 16,
    "lenType": 16,
    "lenVar": 40
   },
   "kernels_config": {
    "python": {
     "delete_cmd_postfix": "",
     "delete_cmd_prefix": "del ",
     "library": "var_list.py",
     "varRefreshCmd": "print(var_dic_list())"
    },
    "r": {
     "delete_cmd_postfix": ") ",
     "delete_cmd_prefix": "rm(",
     "library": "var_list.r",
     "varRefreshCmd": "cat(var_dic_list()) "
    }
   },
   "types_to_exclude": [
    "module",
    "function",
    "builtin_function_or_method",
    "instance",
    "_Feature"
   ],
   "window_display": false
  }
 },
 "nbformat": 4,
 "nbformat_minor": 4
}
