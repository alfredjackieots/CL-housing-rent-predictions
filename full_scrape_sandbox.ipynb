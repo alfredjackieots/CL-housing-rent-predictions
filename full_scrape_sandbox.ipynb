{
 "cells": [
  {
   "cell_type": "markdown",
   "metadata": {},
   "source": [
    "# Scraping multiple pages of listings"
   ]
  },
  {
   "cell_type": "code",
   "execution_count": 1,
   "metadata": {
    "ExecuteTime": {
     "end_time": "2020-10-01T17:19:49.761408Z",
     "start_time": "2020-10-01T17:19:48.846108Z"
    }
   },
   "outputs": [],
   "source": [
    "from bs4 import BeautifulSoup\n",
    "import requests\n",
    "\n",
    "import pandas as pd\n",
    "import numpy as np\n",
    "\n",
    "from random import randint\n",
    "from time import sleep\n",
    "\n",
    "%matplotlib inline\n",
    "import matplotlib as plt\n",
    "\n",
    "from scrape_craigslist import *"
   ]
  },
  {
   "cell_type": "markdown",
   "metadata": {},
   "source": [
    "## Steps\n",
    "\n",
    "1. URL formatting\n",
    "    * pagingation\n",
    "    * timing between pages\n",
    "2. Calling on `full_page_scrape()` to get listings & post details\n",
    "3. Return list of dataframes\n",
    "4. Concatonate list of dataframes into one super_df"
   ]
  },
  {
   "cell_type": "markdown",
   "metadata": {},
   "source": [
    "### URL Formatting\n",
    "\n",
    "Note: search paramenters = `bundle duplicates`\n",
    "\n",
    "URL formatting: \n",
    "\n",
    "```\n",
    "start_url = 'https://sfbay.craigslist.org/search/apa?availabilityMode=0&bundleDuplicates=1'\n",
    "```\n",
    "\n",
    "```\n",
    "page_2 = 'https://sfbay.craigslist.org/search/apa?availabilityMode=0&bundleDuplicates=1&s=120'\n",
    "```\n",
    "\n",
    "Difference = `&s=120`"
   ]
  },
  {
   "cell_type": "code",
   "execution_count": 8,
   "metadata": {
    "ExecuteTime": {
     "end_time": "2020-10-01T17:19:49.795628Z",
     "start_time": "2020-10-01T17:19:49.791482Z"
    }
   },
   "outputs": [],
   "source": [
    "def get_results_urls(start_url):\n",
    "\n",
    "    response = requests.get(start_url)\n",
    "    page = response.text\n",
    "    soup = BeautifulSoup(page, 'html.parser')\n",
    "\n",
    "    total_listings = int(soup.find('span', class_='totalcount').text)\n",
    "    total_listings\n",
    "\n",
    "    pages = np.arange(0, total_listings+1, 120)\n",
    "    pages = pages[:len(pages)-1]\n",
    "\n",
    "    results_urls = []\n",
    "\n",
    "    for page in pages:\n",
    "    \n",
    "        url_prefix = start_url\n",
    "        suffix = '&s='\n",
    "\n",
    "        url = url_prefix + suffix + str(page)\n",
    "    \n",
    "        results_urls.append(url)\n",
    "        \n",
    "    return results_urls        "
   ]
  },
  {
   "cell_type": "code",
   "execution_count": 24,
   "metadata": {
    "ExecuteTime": {
     "end_time": "2020-10-01T17:29:51.638741Z",
     "start_time": "2020-10-01T17:29:51.634218Z"
    }
   },
   "outputs": [],
   "source": [
    "def full_listings_scrape(start_url):\n",
    "\n",
    "    df_list = []\n",
    "    page_counter = 1\n",
    "    \n",
    "    results_urls = get_results_urls(start_url)\n",
    "    total_pages = len(results_urls)\n",
    "\n",
    "    for url in results_urls[0:2]:    # Limit output for now\n",
    "    \n",
    "        response = requests.get(url)\n",
    "        code = response.status_code\n",
    "    \n",
    "        #print(\"Status Code: \", code)\n",
    "        #print(url)\n",
    "        #print(\"\")\n",
    "    \n",
    "        sleep(randint(1,3))\n",
    "    \n",
    "        print(\"Scraping page {} of {}...\".format(page_counter, total_pages))\n",
    "        print(\"\")\n",
    "        df = full_page_scrape(url)\n",
    "        df_list.append(df)\n",
    "    \n",
    "        print(\"\")\n",
    "        print(\"Page {} of {} scrape complete!\".format(page_counter, total_pages))\n",
    "        print(\"\")\n",
    "    \n",
    "        page_counter += 1\n",
    "    \n",
    "    compiled_df = pd.concat(df_list)    \n",
    "    \n",
    "    return compiled_df"
   ]
  },
  {
   "cell_type": "code",
   "execution_count": 25,
   "metadata": {
    "ExecuteTime": {
     "end_time": "2020-10-01T17:29:53.311657Z",
     "start_time": "2020-10-01T17:29:53.309635Z"
    }
   },
   "outputs": [],
   "source": [
    "start_url = 'https://sfbay.craigslist.org/search/eby/apa?bundleDuplicates=1'"
   ]
  },
  {
   "cell_type": "code",
   "execution_count": 26,
   "metadata": {
    "ExecuteTime": {
     "end_time": "2020-10-01T17:30:25.820317Z",
     "start_time": "2020-10-01T17:29:54.789624Z"
    }
   },
   "outputs": [
    {
     "name": "stdout",
     "output_type": "stream",
     "text": [
      "Scraping page 1 of 25...\n",
      "\n",
      "Listing page scrape complete!\n",
      "Number of postings scraped: 120\n",
      "Individual posts scrape complete!\n",
      "Number of posts scraped:  120\n",
      "\n",
      "Page 1 of 25 scrape complete!\n",
      "\n",
      "Scraping page 2 of 25...\n",
      "\n",
      "Listing page scrape complete!\n",
      "Number of postings scraped: 121\n",
      "Individual posts scrape complete!\n",
      "Number of posts scraped:  121\n",
      "\n",
      "Page 2 of 25 scrape complete!\n",
      "\n"
     ]
    }
   ],
   "source": [
    "df = full_listings_scrape(start_url)"
   ]
  },
  {
   "cell_type": "code",
   "execution_count": 22,
   "metadata": {
    "ExecuteTime": {
     "end_time": "2020-10-01T17:28:08.586392Z",
     "start_time": "2020-10-01T17:28:08.572826Z"
    },
    "scrolled": true
   },
   "outputs": [
    {
     "data": {
      "text/html": [
       "<div>\n",
       "<style scoped>\n",
       "    .dataframe tbody tr th:only-of-type {\n",
       "        vertical-align: middle;\n",
       "    }\n",
       "\n",
       "    .dataframe tbody tr th {\n",
       "        vertical-align: top;\n",
       "    }\n",
       "\n",
       "    .dataframe thead th {\n",
       "        text-align: right;\n",
       "    }\n",
       "</style>\n",
       "<table border=\"1\" class=\"dataframe\">\n",
       "  <thead>\n",
       "    <tr style=\"text-align: right;\">\n",
       "      <th></th>\n",
       "      <th>date</th>\n",
       "      <th>title</th>\n",
       "      <th>link</th>\n",
       "      <th>price</th>\n",
       "      <th>brs</th>\n",
       "      <th>sqft</th>\n",
       "      <th>hood</th>\n",
       "      <th>bath</th>\n",
       "      <th>amenities</th>\n",
       "    </tr>\n",
       "  </thead>\n",
       "  <tbody>\n",
       "    <tr>\n",
       "      <th>0</th>\n",
       "      <td>Oct  1</td>\n",
       "      <td>Home for rent in Crow Canyon Country Club A ga...</td>\n",
       "      <td>https://sfbay.craigslist.org/eby/apa/d/danvill...</td>\n",
       "      <td>3400</td>\n",
       "      <td>2</td>\n",
       "      <td>1496.0</td>\n",
       "      <td>danville / san ramon</td>\n",
       "      <td>2Ba</td>\n",
       "      <td>[townhouse, w/d in unit, no smoking, attached ...</td>\n",
       "    </tr>\n",
       "    <tr>\n",
       "      <th>1</th>\n",
       "      <td>Oct  1</td>\n",
       "      <td>Find Your Studio Home Today (So You Can Use th...</td>\n",
       "      <td>https://sfbay.craigslist.org/eby/apa/d/walnut-...</td>\n",
       "      <td>1742</td>\n",
       "      <td>NaN</td>\n",
       "      <td>466.0</td>\n",
       "      <td>walnut creek</td>\n",
       "      <td>1Ba</td>\n",
       "      <td>[application fee details: $25.00 per adult, ca...</td>\n",
       "    </tr>\n",
       "    <tr>\n",
       "      <th>2</th>\n",
       "      <td>Oct  1</td>\n",
       "      <td>ASAP,STUDIO/InLaw,Furnish,Negotiable,BathW/Tub...</td>\n",
       "      <td>https://sfbay.craigslist.org/eby/apa/d/berkele...</td>\n",
       "      <td>1595</td>\n",
       "      <td>NaN</td>\n",
       "      <td>NaN</td>\n",
       "      <td>berkeley</td>\n",
       "      <td>1Ba</td>\n",
       "      <td>[application fee details: $25.00 per adult, ca...</td>\n",
       "    </tr>\n",
       "    <tr>\n",
       "      <th>3</th>\n",
       "      <td>Oct  1</td>\n",
       "      <td>Massive and Remodeled Top Floor 1 BD w/Small D...</td>\n",
       "      <td>https://sfbay.craigslist.org/eby/apa/d/berkele...</td>\n",
       "      <td>1925</td>\n",
       "      <td>1</td>\n",
       "      <td>600.0</td>\n",
       "      <td>berkeley</td>\n",
       "      <td>1Ba</td>\n",
       "      <td>[application fee details: 30.00 (non-refundabl...</td>\n",
       "    </tr>\n",
       "    <tr>\n",
       "      <th>4</th>\n",
       "      <td>Oct  1</td>\n",
       "      <td>*Stylish Apt w/hw floors(2440 8th Ave #17)</td>\n",
       "      <td>https://sfbay.craigslist.org/eby/apa/d/oakland...</td>\n",
       "      <td>2250</td>\n",
       "      <td>2</td>\n",
       "      <td>NaN</td>\n",
       "      <td>oakland lake merritt / grand</td>\n",
       "      <td>1Ba</td>\n",
       "      <td>[apartment, no smoking]</td>\n",
       "    </tr>\n",
       "  </tbody>\n",
       "</table>\n",
       "</div>"
      ],
      "text/plain": [
       "     date                                              title  \\\n",
       "0  Oct  1  Home for rent in Crow Canyon Country Club A ga...   \n",
       "1  Oct  1  Find Your Studio Home Today (So You Can Use th...   \n",
       "2  Oct  1  ASAP,STUDIO/InLaw,Furnish,Negotiable,BathW/Tub...   \n",
       "3  Oct  1  Massive and Remodeled Top Floor 1 BD w/Small D...   \n",
       "4  Oct  1         *Stylish Apt w/hw floors(2440 8th Ave #17)   \n",
       "\n",
       "                                                link  price  brs    sqft  \\\n",
       "0  https://sfbay.craigslist.org/eby/apa/d/danvill...   3400    2  1496.0   \n",
       "1  https://sfbay.craigslist.org/eby/apa/d/walnut-...   1742  NaN   466.0   \n",
       "2  https://sfbay.craigslist.org/eby/apa/d/berkele...   1595  NaN     NaN   \n",
       "3  https://sfbay.craigslist.org/eby/apa/d/berkele...   1925    1   600.0   \n",
       "4  https://sfbay.craigslist.org/eby/apa/d/oakland...   2250    2     NaN   \n",
       "\n",
       "                           hood bath  \\\n",
       "0          danville / san ramon  2Ba   \n",
       "1                  walnut creek  1Ba   \n",
       "2                      berkeley  1Ba   \n",
       "3                      berkeley  1Ba   \n",
       "4  oakland lake merritt / grand  1Ba   \n",
       "\n",
       "                                           amenities  \n",
       "0  [townhouse, w/d in unit, no smoking, attached ...  \n",
       "1  [application fee details: $25.00 per adult, ca...  \n",
       "2  [application fee details: $25.00 per adult, ca...  \n",
       "3  [application fee details: 30.00 (non-refundabl...  \n",
       "4                            [apartment, no smoking]  "
      ]
     },
     "execution_count": 22,
     "metadata": {},
     "output_type": "execute_result"
    }
   ],
   "source": [
    "df.head()"
   ]
  },
  {
   "cell_type": "code",
   "execution_count": 23,
   "metadata": {
    "ExecuteTime": {
     "end_time": "2020-10-01T17:28:14.085710Z",
     "start_time": "2020-10-01T17:28:14.082496Z"
    }
   },
   "outputs": [
    {
     "data": {
      "text/plain": [
       "242"
      ]
     },
     "execution_count": 23,
     "metadata": {},
     "output_type": "execute_result"
    }
   ],
   "source": [
    "len(df)"
   ]
  }
 ],
 "metadata": {
  "kernelspec": {
   "display_name": "Python [conda env:metis] *",
   "language": "python",
   "name": "conda-env-metis-py"
  },
  "language_info": {
   "codemirror_mode": {
    "name": "ipython",
    "version": 3
   },
   "file_extension": ".py",
   "mimetype": "text/x-python",
   "name": "python",
   "nbconvert_exporter": "python",
   "pygments_lexer": "ipython3",
   "version": "3.8.5"
  },
  "toc": {
   "base_numbering": 1,
   "nav_menu": {},
   "number_sections": true,
   "sideBar": true,
   "skip_h1_title": false,
   "title_cell": "Table of Contents",
   "title_sidebar": "Contents",
   "toc_cell": false,
   "toc_position": {},
   "toc_section_display": true,
   "toc_window_display": false
  }
 },
 "nbformat": 4,
 "nbformat_minor": 4
}
