{
 "cells": [
  {
   "cell_type": "markdown",
   "metadata": {},
   "source": [
    "# Scraping multiple pages of listings"
   ]
  },
  {
   "cell_type": "code",
   "execution_count": 1,
   "metadata": {
    "ExecuteTime": {
     "end_time": "2020-10-01T21:39:47.040182Z",
     "start_time": "2020-10-01T21:39:46.256002Z"
    }
   },
   "outputs": [],
   "source": [
    "from bs4 import BeautifulSoup\n",
    "import requests\n",
    "\n",
    "import pandas as pd\n",
    "import numpy as np\n",
    "\n",
    "from random import randint\n",
    "from time import sleep\n",
    "\n",
    "%matplotlib inline\n",
    "import matplotlib as plt\n",
    "\n",
    "from scrape_craigslist import *"
   ]
  },
  {
   "cell_type": "markdown",
   "metadata": {},
   "source": [
    "## Steps\n",
    "\n",
    "1. URL formatting\n",
    "    * pagingation\n",
    "    * timing between pages\n",
    "2. Calling on `full_page_scrape()` to get listings & post details\n",
    "3. Return list of dataframes\n",
    "4. Concatonate list of dataframes into one super_df"
   ]
  },
  {
   "cell_type": "markdown",
   "metadata": {},
   "source": [
    "### URL Formatting\n",
    "\n",
    "Note: search paramenters = `bundle duplicates`\n",
    "\n",
    "URL formatting: \n",
    "\n",
    "```\n",
    "start_url = 'https://sfbay.craigslist.org/search/apa?availabilityMode=0&bundleDuplicates=1'\n",
    "```\n",
    "\n",
    "```\n",
    "page_2 = 'https://sfbay.craigslist.org/search/apa?availabilityMode=0&bundleDuplicates=1&s=120'\n",
    "```\n",
    "\n",
    "Difference = `&s=120`"
   ]
  },
  {
   "cell_type": "code",
   "execution_count": 2,
   "metadata": {
    "ExecuteTime": {
     "end_time": "2020-10-01T21:39:47.046336Z",
     "start_time": "2020-10-01T21:39:47.042440Z"
    }
   },
   "outputs": [],
   "source": [
    "def get_results_urls(start_url):\n",
    "\n",
    "    response = requests.get(start_url)\n",
    "    page = response.text\n",
    "    soup = BeautifulSoup(page, 'html.parser')\n",
    "\n",
    "    total_listings = int(soup.find('span', class_='totalcount').text)\n",
    "    total_listings\n",
    "\n",
    "    pages = np.arange(0, total_listings+1, 120)\n",
    "    pages = pages[:len(pages)-1]\n",
    "\n",
    "    results_urls = []\n",
    "\n",
    "    for page in pages:\n",
    "    \n",
    "        url_prefix = start_url\n",
    "        suffix = '&s='\n",
    "\n",
    "        url = url_prefix + suffix + str(page)\n",
    "    \n",
    "        results_urls.append(url)\n",
    "        \n",
    "    return results_urls        "
   ]
  },
  {
   "cell_type": "code",
   "execution_count": 25,
   "metadata": {
    "ExecuteTime": {
     "end_time": "2020-10-01T21:48:11.711716Z",
     "start_time": "2020-10-01T21:48:11.707111Z"
    }
   },
   "outputs": [],
   "source": [
    "def full_listings_scrape(start_url):\n",
    "\n",
    "    df_list = []\n",
    "    page_counter = 1\n",
    "    \n",
    "    results_urls = get_results_urls(start_url)\n",
    "    total_pages = len(results_urls)\n",
    "\n",
    "    for url in results_urls[0:2]:    # Limit output for now\n",
    "    \n",
    "        response = requests.get(url)\n",
    "        code = response.status_code\n",
    "    \n",
    "        #print(\"Status Code: \", code)\n",
    "        #print(url)\n",
    "        #print(\"\")\n",
    "    \n",
    "        sleep(randint(1,4))\n",
    "    \n",
    "        print(\"Scraping page {} of {}...\".format(page_counter, total_pages))\n",
    "        print(\"\")\n",
    "        df = full_page_scrape(url)\n",
    "        df_list.append(df)\n",
    "    \n",
    "        print(\"\")\n",
    "        print(\"Page {} of {} scrape complete!\".format(page_counter, total_pages))\n",
    "        print(\"\")\n",
    "    \n",
    "        page_counter += 1\n",
    "    \n",
    "    compiled_df = pd.concat(df_list).reset_index()\n",
    "    \n",
    "    return compiled_df"
   ]
  },
  {
   "cell_type": "code",
   "execution_count": 26,
   "metadata": {
    "ExecuteTime": {
     "end_time": "2020-10-01T21:48:12.858232Z",
     "start_time": "2020-10-01T21:48:12.855977Z"
    }
   },
   "outputs": [],
   "source": [
    "start_url = 'https://sfbay.craigslist.org/search/eby/apa?bundleDuplicates=1'"
   ]
  },
  {
   "cell_type": "code",
   "execution_count": 27,
   "metadata": {
    "ExecuteTime": {
     "end_time": "2020-10-01T21:48:43.273128Z",
     "start_time": "2020-10-01T21:48:14.056103Z"
    }
   },
   "outputs": [
    {
     "name": "stdout",
     "output_type": "stream",
     "text": [
      "Scraping page 1 of 25...\n",
      "\n",
      "Listing page scrape complete!\n",
      "Number of postings scraped: 122\n",
      "Individual posts scrape complete!\n",
      "Number of posts scraped:  122\n",
      "\n",
      "Page 1 of 25 scrape complete!\n",
      "\n",
      "Scraping page 2 of 25...\n",
      "\n",
      "Listing page scrape complete!\n",
      "Number of postings scraped: 120\n",
      "Individual posts scrape complete!\n",
      "Number of posts scraped:  120\n",
      "\n",
      "Page 2 of 25 scrape complete!\n",
      "\n"
     ]
    }
   ],
   "source": [
    "df = full_listings_scrape(start_url)"
   ]
  },
  {
   "cell_type": "code",
   "execution_count": 29,
   "metadata": {
    "ExecuteTime": {
     "end_time": "2020-10-01T21:48:47.307754Z",
     "start_time": "2020-10-01T21:48:47.294045Z"
    },
    "scrolled": true
   },
   "outputs": [
    {
     "data": {
      "text/html": [
       "<div>\n",
       "<style scoped>\n",
       "    .dataframe tbody tr th:only-of-type {\n",
       "        vertical-align: middle;\n",
       "    }\n",
       "\n",
       "    .dataframe tbody tr th {\n",
       "        vertical-align: top;\n",
       "    }\n",
       "\n",
       "    .dataframe thead th {\n",
       "        text-align: right;\n",
       "    }\n",
       "</style>\n",
       "<table border=\"1\" class=\"dataframe\">\n",
       "  <thead>\n",
       "    <tr style=\"text-align: right;\">\n",
       "      <th></th>\n",
       "      <th>index</th>\n",
       "      <th>date</th>\n",
       "      <th>title</th>\n",
       "      <th>link</th>\n",
       "      <th>price</th>\n",
       "      <th>brs</th>\n",
       "      <th>sqft</th>\n",
       "      <th>hood</th>\n",
       "      <th>bath</th>\n",
       "      <th>amenities</th>\n",
       "    </tr>\n",
       "  </thead>\n",
       "  <tbody>\n",
       "    <tr>\n",
       "      <th>0</th>\n",
       "      <td>0</td>\n",
       "      <td>Oct  1</td>\n",
       "      <td>Crazy Deals On Cozy 1Beds!! Tour The Bridge&amp;Ge...</td>\n",
       "      <td>https://sfbay.craigslist.org/eby/apa/d/walnut-...</td>\n",
       "      <td>1999</td>\n",
       "      <td>1</td>\n",
       "      <td>600.0</td>\n",
       "      <td>walnut creek</td>\n",
       "      <td>1Ba</td>\n",
       "      <td>[cats are OK - purrr, dogs are OK - wooof, apa...</td>\n",
       "    </tr>\n",
       "    <tr>\n",
       "      <th>1</th>\n",
       "      <td>1</td>\n",
       "      <td>Oct  1</td>\n",
       "      <td>Spa, near EMC Corp.</td>\n",
       "      <td>https://sfbay.craigslist.org/eby/apa/d/pleasan...</td>\n",
       "      <td>2531</td>\n",
       "      <td>2</td>\n",
       "      <td>1073.0</td>\n",
       "      <td>dublin / pleasanton / livermore</td>\n",
       "      <td>2Ba</td>\n",
       "      <td>[cats are OK - purrr, dogs are OK - wooof, apa...</td>\n",
       "    </tr>\n",
       "    <tr>\n",
       "      <th>2</th>\n",
       "      <td>2</td>\n",
       "      <td>Oct  1</td>\n",
       "      <td>Pet friendly, renovated townhome with two mont...</td>\n",
       "      <td>https://sfbay.craigslist.org/eby/apa/d/newark-...</td>\n",
       "      <td>2229</td>\n",
       "      <td>2</td>\n",
       "      <td>850.0</td>\n",
       "      <td>fremont / union city / newark</td>\n",
       "      <td>1Ba</td>\n",
       "      <td>[application fee details: 39, cats are OK - pu...</td>\n",
       "    </tr>\n",
       "    <tr>\n",
       "      <th>3</th>\n",
       "      <td>3</td>\n",
       "      <td>Oct  1</td>\n",
       "      <td>2BR / 2 Ba available now $800.00 Sec. deposit ...</td>\n",
       "      <td>https://sfbay.craigslist.org/eby/apa/d/walnut-...</td>\n",
       "      <td>2175</td>\n",
       "      <td>2</td>\n",
       "      <td>900.0</td>\n",
       "      <td>walnut creek</td>\n",
       "      <td>2Ba</td>\n",
       "      <td>[cats are OK - purrr, dogs are OK - wooof, apa...</td>\n",
       "    </tr>\n",
       "    <tr>\n",
       "      <th>4</th>\n",
       "      <td>4</td>\n",
       "      <td>Oct  1</td>\n",
       "      <td>Pet friendly, renovated townhome with in home ...</td>\n",
       "      <td>https://sfbay.craigslist.org/eby/apa/d/newark-...</td>\n",
       "      <td>2397</td>\n",
       "      <td>2</td>\n",
       "      <td>850.0</td>\n",
       "      <td>fremont / union city / newark</td>\n",
       "      <td>1Ba</td>\n",
       "      <td>[application fee details: 39, cats are OK - pu...</td>\n",
       "    </tr>\n",
       "  </tbody>\n",
       "</table>\n",
       "</div>"
      ],
      "text/plain": [
       "   index    date                                              title  \\\n",
       "0      0  Oct  1  Crazy Deals On Cozy 1Beds!! Tour The Bridge&Ge...   \n",
       "1      1  Oct  1                                Spa, near EMC Corp.   \n",
       "2      2  Oct  1  Pet friendly, renovated townhome with two mont...   \n",
       "3      3  Oct  1  2BR / 2 Ba available now $800.00 Sec. deposit ...   \n",
       "4      4  Oct  1  Pet friendly, renovated townhome with in home ...   \n",
       "\n",
       "                                                link  price brs    sqft  \\\n",
       "0  https://sfbay.craigslist.org/eby/apa/d/walnut-...   1999   1   600.0   \n",
       "1  https://sfbay.craigslist.org/eby/apa/d/pleasan...   2531   2  1073.0   \n",
       "2  https://sfbay.craigslist.org/eby/apa/d/newark-...   2229   2   850.0   \n",
       "3  https://sfbay.craigslist.org/eby/apa/d/walnut-...   2175   2   900.0   \n",
       "4  https://sfbay.craigslist.org/eby/apa/d/newark-...   2397   2   850.0   \n",
       "\n",
       "                              hood bath  \\\n",
       "0                     walnut creek  1Ba   \n",
       "1  dublin / pleasanton / livermore  2Ba   \n",
       "2    fremont / union city / newark  1Ba   \n",
       "3                     walnut creek  2Ba   \n",
       "4    fremont / union city / newark  1Ba   \n",
       "\n",
       "                                           amenities  \n",
       "0  [cats are OK - purrr, dogs are OK - wooof, apa...  \n",
       "1  [cats are OK - purrr, dogs are OK - wooof, apa...  \n",
       "2  [application fee details: 39, cats are OK - pu...  \n",
       "3  [cats are OK - purrr, dogs are OK - wooof, apa...  \n",
       "4  [application fee details: 39, cats are OK - pu...  "
      ]
     },
     "execution_count": 29,
     "metadata": {},
     "output_type": "execute_result"
    }
   ],
   "source": [
    "df.head()"
   ]
  },
  {
   "cell_type": "code",
   "execution_count": 30,
   "metadata": {
    "ExecuteTime": {
     "end_time": "2020-10-01T21:48:52.630138Z",
     "start_time": "2020-10-01T21:48:52.616653Z"
    }
   },
   "outputs": [
    {
     "data": {
      "text/html": [
       "<div>\n",
       "<style scoped>\n",
       "    .dataframe tbody tr th:only-of-type {\n",
       "        vertical-align: middle;\n",
       "    }\n",
       "\n",
       "    .dataframe tbody tr th {\n",
       "        vertical-align: top;\n",
       "    }\n",
       "\n",
       "    .dataframe thead th {\n",
       "        text-align: right;\n",
       "    }\n",
       "</style>\n",
       "<table border=\"1\" class=\"dataframe\">\n",
       "  <thead>\n",
       "    <tr style=\"text-align: right;\">\n",
       "      <th></th>\n",
       "      <th>index</th>\n",
       "      <th>date</th>\n",
       "      <th>title</th>\n",
       "      <th>link</th>\n",
       "      <th>price</th>\n",
       "      <th>brs</th>\n",
       "      <th>sqft</th>\n",
       "      <th>hood</th>\n",
       "      <th>bath</th>\n",
       "      <th>amenities</th>\n",
       "    </tr>\n",
       "  </thead>\n",
       "  <tbody>\n",
       "    <tr>\n",
       "      <th>237</th>\n",
       "      <td>115</td>\n",
       "      <td>Oct  1</td>\n",
       "      <td>Price Reduction on Luxury Living on South Faci...</td>\n",
       "      <td>https://sfbay.craigslist.org/eby/apa/d/hercule...</td>\n",
       "      <td>1959</td>\n",
       "      <td>NaN</td>\n",
       "      <td>549.0</td>\n",
       "      <td>hercules, pinole, san pablo, el sob</td>\n",
       "      <td>1Ba</td>\n",
       "      <td>[EV charging, cats are OK - purrr, dogs are OK...</td>\n",
       "    </tr>\n",
       "    <tr>\n",
       "      <th>238</th>\n",
       "      <td>116</td>\n",
       "      <td>Oct  1</td>\n",
       "      <td>Studio Home Close to UC Berkeley! Apt 610 8WKS...</td>\n",
       "      <td>https://sfbay.craigslist.org/eby/apa/d/berkele...</td>\n",
       "      <td>2000</td>\n",
       "      <td>NaN</td>\n",
       "      <td>NaN</td>\n",
       "      <td>berkeley</td>\n",
       "      <td>1Ba</td>\n",
       "      <td>[EV charging, cats are OK - purrr, dogs are OK...</td>\n",
       "    </tr>\n",
       "    <tr>\n",
       "      <th>239</th>\n",
       "      <td>117</td>\n",
       "      <td>Oct  1</td>\n",
       "      <td>Ground Floor Two Bedroom Beauty! W/D Inside Too!</td>\n",
       "      <td>https://sfbay.craigslist.org/eby/apa/d/concord...</td>\n",
       "      <td>2380</td>\n",
       "      <td>2</td>\n",
       "      <td>825.0</td>\n",
       "      <td>concord / pleasant hill / martinez</td>\n",
       "      <td>2Ba</td>\n",
       "      <td>[cats are OK - purrr, dogs are OK - wooof, apa...</td>\n",
       "    </tr>\n",
       "    <tr>\n",
       "      <th>240</th>\n",
       "      <td>118</td>\n",
       "      <td>Oct  1</td>\n",
       "      <td>Quiet, Clean and Peaceful, below market rents!...</td>\n",
       "      <td>https://sfbay.craigslist.org/eby/apa/d/oakland...</td>\n",
       "      <td>1914</td>\n",
       "      <td>NaN</td>\n",
       "      <td>990.0</td>\n",
       "      <td>Oakland</td>\n",
       "      <td>1Ba</td>\n",
       "      <td>[cats are OK - purrr, dogs are OK - wooof, apa...</td>\n",
       "    </tr>\n",
       "    <tr>\n",
       "      <th>241</th>\n",
       "      <td>119</td>\n",
       "      <td>Oct  1</td>\n",
       "      <td>Beautiful Upgrades for This Large One Bedroom ...</td>\n",
       "      <td>https://sfbay.craigslist.org/eby/apa/d/dublin-...</td>\n",
       "      <td>2190</td>\n",
       "      <td>1</td>\n",
       "      <td>650.0</td>\n",
       "      <td>danville / san ramon</td>\n",
       "      <td>1Ba</td>\n",
       "      <td>[cats are OK - purrr, dogs are OK - wooof, apa...</td>\n",
       "    </tr>\n",
       "  </tbody>\n",
       "</table>\n",
       "</div>"
      ],
      "text/plain": [
       "     index    date                                              title  \\\n",
       "237    115  Oct  1  Price Reduction on Luxury Living on South Faci...   \n",
       "238    116  Oct  1  Studio Home Close to UC Berkeley! Apt 610 8WKS...   \n",
       "239    117  Oct  1   Ground Floor Two Bedroom Beauty! W/D Inside Too!   \n",
       "240    118  Oct  1  Quiet, Clean and Peaceful, below market rents!...   \n",
       "241    119  Oct  1  Beautiful Upgrades for This Large One Bedroom ...   \n",
       "\n",
       "                                                  link  price  brs   sqft  \\\n",
       "237  https://sfbay.craigslist.org/eby/apa/d/hercule...   1959  NaN  549.0   \n",
       "238  https://sfbay.craigslist.org/eby/apa/d/berkele...   2000  NaN    NaN   \n",
       "239  https://sfbay.craigslist.org/eby/apa/d/concord...   2380    2  825.0   \n",
       "240  https://sfbay.craigslist.org/eby/apa/d/oakland...   1914  NaN  990.0   \n",
       "241  https://sfbay.craigslist.org/eby/apa/d/dublin-...   2190    1  650.0   \n",
       "\n",
       "                                    hood bath  \\\n",
       "237  hercules, pinole, san pablo, el sob  1Ba   \n",
       "238                             berkeley  1Ba   \n",
       "239   concord / pleasant hill / martinez  2Ba   \n",
       "240                              Oakland  1Ba   \n",
       "241                 danville / san ramon  1Ba   \n",
       "\n",
       "                                             amenities  \n",
       "237  [EV charging, cats are OK - purrr, dogs are OK...  \n",
       "238  [EV charging, cats are OK - purrr, dogs are OK...  \n",
       "239  [cats are OK - purrr, dogs are OK - wooof, apa...  \n",
       "240  [cats are OK - purrr, dogs are OK - wooof, apa...  \n",
       "241  [cats are OK - purrr, dogs are OK - wooof, apa...  "
      ]
     },
     "execution_count": 30,
     "metadata": {},
     "output_type": "execute_result"
    }
   ],
   "source": [
    "df.tail()"
   ]
  },
  {
   "cell_type": "code",
   "execution_count": 31,
   "metadata": {
    "ExecuteTime": {
     "end_time": "2020-10-01T21:48:55.857312Z",
     "start_time": "2020-10-01T21:48:55.854246Z"
    }
   },
   "outputs": [
    {
     "data": {
      "text/plain": [
       "242"
      ]
     },
     "execution_count": 31,
     "metadata": {},
     "output_type": "execute_result"
    }
   ],
   "source": [
    "len(df)"
   ]
  },
  {
   "cell_type": "code",
   "execution_count": 33,
   "metadata": {
    "ExecuteTime": {
     "end_time": "2020-10-01T21:49:05.230180Z",
     "start_time": "2020-10-01T21:49:05.227839Z"
    }
   },
   "outputs": [],
   "source": [
    "amens_list = df.amenities"
   ]
  },
  {
   "cell_type": "code",
   "execution_count": 34,
   "metadata": {
    "ExecuteTime": {
     "end_time": "2020-10-01T21:49:06.360650Z",
     "start_time": "2020-10-01T21:49:06.357567Z"
    }
   },
   "outputs": [
    {
     "data": {
      "text/plain": [
       "242"
      ]
     },
     "execution_count": 34,
     "metadata": {},
     "output_type": "execute_result"
    }
   ],
   "source": [
    "len(amens_list)"
   ]
  },
  {
   "cell_type": "code",
   "execution_count": 36,
   "metadata": {
    "ExecuteTime": {
     "end_time": "2020-10-01T21:49:56.163481Z",
     "start_time": "2020-10-01T21:49:56.161660Z"
    }
   },
   "outputs": [],
   "source": [
    "# for item in amens_list:\n",
    "#     print(item)\n",
    "#     print(\"\")"
   ]
  },
  {
   "cell_type": "code",
   "execution_count": null,
   "metadata": {},
   "outputs": [],
   "source": []
  }
 ],
 "metadata": {
  "kernelspec": {
   "display_name": "Python [conda env:metis] *",
   "language": "python",
   "name": "conda-env-metis-py"
  },
  "language_info": {
   "codemirror_mode": {
    "name": "ipython",
    "version": 3
   },
   "file_extension": ".py",
   "mimetype": "text/x-python",
   "name": "python",
   "nbconvert_exporter": "python",
   "pygments_lexer": "ipython3",
   "version": "3.8.5"
  },
  "toc": {
   "base_numbering": 1,
   "nav_menu": {},
   "number_sections": true,
   "sideBar": true,
   "skip_h1_title": false,
   "title_cell": "Table of Contents",
   "title_sidebar": "Contents",
   "toc_cell": false,
   "toc_position": {},
   "toc_section_display": true,
   "toc_window_display": false
  }
 },
 "nbformat": 4,
 "nbformat_minor": 4
}
