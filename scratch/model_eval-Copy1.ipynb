{
 "cells": [
  {
   "cell_type": "markdown",
   "metadata": {},
   "source": [
    "# Model Evaluation\n",
    "\n",
    "Process \n",
    "1. Import data & set up dummy variables\n",
    "    * drop 1 column for each grouping!\n",
    "2. Split data: \n",
    "    * Train / Test: X, X_test, y, y_test (~20%)\n",
    "    * Train / Val: X_train, X_val, y_train, y_val (~60%?)\n",
    "3. Create 3 Models: Linear, Ridge, Lasso\n",
    "    * SCALE: Ridge & Lasso\n",
    "    * Keep default alphas\n",
    "    * use KFolds\n",
    "4. Evaluate basic models on scoring (r2 train, r2 val)\n",
    "    * Use KFolds \n",
    "    * if models are really close to one another, tune alphas\n",
    "    * Pick an alpha range to loop through and compare results \n",
    "5. Tune alphas for Ridge & Lasso\n",
    "    * difference between r2 train and r2 val will be guide\n",
    "    * if r2 train > r2 val --> overfitting --> increase alpha\n",
    "6. Pick best version of each model to evaluate\n",
    "    * linear\n",
    "    * ridge at best alpha\n",
    "    * lasso at best alpha\n",
    "7. RETRAIN best model on entire training data (X)\n",
    "8. Evaluate model against hold out data (predict x_test vs. y_test) \n",
    "    * r2 train versus r2 test\n",
    "    * if difference is significant, more model tuning\n",
    "    \n",
    "    \n",
    "    \n",
    "More to do (maybe):\n",
    "* Residual analysis? \n",
    "* Dealing with outliers in training data? \n",
    "* Charts (predicted versus actual)!"
   ]
  },
  {
   "cell_type": "code",
   "execution_count": 1,
   "metadata": {
    "ExecuteTime": {
     "end_time": "2020-10-06T21:15:06.236214Z",
     "start_time": "2020-10-06T21:15:04.841890Z"
    }
   },
   "outputs": [],
   "source": [
    "# Necessary imports\n",
    "import pandas as pd\n",
    "import numpy as np\n",
    "import seaborn as sns\n",
    "import matplotlib.pyplot as plt\n",
    "import matplotlib.pylab as plb \n",
    "%matplotlib inline\n",
    "\n",
    "import statsmodels.api as sm\n",
    "from sklearn.model_selection import train_test_split, KFold, cross_val_score\n",
    "from sklearn.linear_model import LinearRegression, Lasso, LassoCV, Ridge, RidgeCV, lars_path\n",
    "from sklearn.preprocessing import StandardScaler\n",
    "from sklearn.metrics import r2_score\n",
    "\n",
    "sns.set(context='notebook', style='whitegrid', font_scale=1.2)"
   ]
  },
  {
   "cell_type": "markdown",
   "metadata": {},
   "source": [
    "## Data Import & Setup"
   ]
  },
  {
   "cell_type": "code",
   "execution_count": 2,
   "metadata": {
    "ExecuteTime": {
     "end_time": "2020-10-06T21:15:06.246272Z",
     "start_time": "2020-10-06T21:15:06.238090Z"
    }
   },
   "outputs": [],
   "source": [
    "sf = pd.read_csv('data_files/sf_clean.csv')\n",
    "\n",
    "# Reformatting hood_district names\n",
    "sf['hood_district'] = sf['hood_district'].astype(int)\n",
    "sf['hood_district'] = sf['hood_district'].astype(str)"
   ]
  },
  {
   "cell_type": "code",
   "execution_count": 3,
   "metadata": {
    "ExecuteTime": {
     "end_time": "2020-10-06T21:15:06.265384Z",
     "start_time": "2020-10-06T21:15:06.250356Z"
    }
   },
   "outputs": [
    {
     "data": {
      "text/html": [
       "<div>\n",
       "<style scoped>\n",
       "    .dataframe tbody tr th:only-of-type {\n",
       "        vertical-align: middle;\n",
       "    }\n",
       "\n",
       "    .dataframe tbody tr th {\n",
       "        vertical-align: top;\n",
       "    }\n",
       "\n",
       "    .dataframe thead th {\n",
       "        text-align: right;\n",
       "    }\n",
       "</style>\n",
       "<table border=\"1\" class=\"dataframe\">\n",
       "  <thead>\n",
       "    <tr style=\"text-align: right;\">\n",
       "      <th></th>\n",
       "      <th>price</th>\n",
       "      <th>sqft</th>\n",
       "      <th>beds</th>\n",
       "      <th>bath</th>\n",
       "      <th>laundry</th>\n",
       "      <th>pets</th>\n",
       "      <th>housing_type</th>\n",
       "      <th>parking</th>\n",
       "      <th>hood_district</th>\n",
       "    </tr>\n",
       "  </thead>\n",
       "  <tbody>\n",
       "    <tr>\n",
       "      <th>0</th>\n",
       "      <td>6800</td>\n",
       "      <td>1600.0</td>\n",
       "      <td>2.0</td>\n",
       "      <td>2.0</td>\n",
       "      <td>(a) in-unit</td>\n",
       "      <td>(d) no pets</td>\n",
       "      <td>(c) multi</td>\n",
       "      <td>(b) protected</td>\n",
       "      <td>7</td>\n",
       "    </tr>\n",
       "    <tr>\n",
       "      <th>1</th>\n",
       "      <td>3500</td>\n",
       "      <td>550.0</td>\n",
       "      <td>1.0</td>\n",
       "      <td>1.0</td>\n",
       "      <td>(a) in-unit</td>\n",
       "      <td>(a) both</td>\n",
       "      <td>(c) multi</td>\n",
       "      <td>(b) protected</td>\n",
       "      <td>7</td>\n",
       "    </tr>\n",
       "    <tr>\n",
       "      <th>2</th>\n",
       "      <td>5100</td>\n",
       "      <td>1300.0</td>\n",
       "      <td>2.0</td>\n",
       "      <td>1.0</td>\n",
       "      <td>(a) in-unit</td>\n",
       "      <td>(a) both</td>\n",
       "      <td>(c) multi</td>\n",
       "      <td>(d) no parking</td>\n",
       "      <td>7</td>\n",
       "    </tr>\n",
       "    <tr>\n",
       "      <th>3</th>\n",
       "      <td>9000</td>\n",
       "      <td>3500.0</td>\n",
       "      <td>3.0</td>\n",
       "      <td>2.5</td>\n",
       "      <td>(a) in-unit</td>\n",
       "      <td>(d) no pets</td>\n",
       "      <td>(c) multi</td>\n",
       "      <td>(b) protected</td>\n",
       "      <td>7</td>\n",
       "    </tr>\n",
       "    <tr>\n",
       "      <th>4</th>\n",
       "      <td>3100</td>\n",
       "      <td>561.0</td>\n",
       "      <td>1.0</td>\n",
       "      <td>1.0</td>\n",
       "      <td>(c) no laundry</td>\n",
       "      <td>(a) both</td>\n",
       "      <td>(c) multi</td>\n",
       "      <td>(d) no parking</td>\n",
       "      <td>7</td>\n",
       "    </tr>\n",
       "  </tbody>\n",
       "</table>\n",
       "</div>"
      ],
      "text/plain": [
       "   price    sqft  beds  bath         laundry         pets housing_type  \\\n",
       "0   6800  1600.0   2.0   2.0     (a) in-unit  (d) no pets    (c) multi   \n",
       "1   3500   550.0   1.0   1.0     (a) in-unit     (a) both    (c) multi   \n",
       "2   5100  1300.0   2.0   1.0     (a) in-unit     (a) both    (c) multi   \n",
       "3   9000  3500.0   3.0   2.5     (a) in-unit  (d) no pets    (c) multi   \n",
       "4   3100   561.0   1.0   1.0  (c) no laundry     (a) both    (c) multi   \n",
       "\n",
       "          parking hood_district  \n",
       "0   (b) protected             7  \n",
       "1   (b) protected             7  \n",
       "2  (d) no parking             7  \n",
       "3   (b) protected             7  \n",
       "4  (d) no parking             7  "
      ]
     },
     "execution_count": 3,
     "metadata": {},
     "output_type": "execute_result"
    }
   ],
   "source": [
    "sf.head()"
   ]
  },
  {
   "cell_type": "markdown",
   "metadata": {},
   "source": [
    "### Dropping Features"
   ]
  },
  {
   "cell_type": "markdown",
   "metadata": {},
   "source": [
    "#### Drop  Pets, Housing Type"
   ]
  },
  {
   "cell_type": "code",
   "execution_count": 4,
   "metadata": {
    "ExecuteTime": {
     "end_time": "2020-10-06T21:15:06.271228Z",
     "start_time": "2020-10-06T21:15:06.267196Z"
    }
   },
   "outputs": [],
   "source": [
    "sf = sf.drop(['pets', 'housing_type'], axis=1)"
   ]
  },
  {
   "cell_type": "code",
   "execution_count": 5,
   "metadata": {
    "ExecuteTime": {
     "end_time": "2020-10-06T21:15:06.284130Z",
     "start_time": "2020-10-06T21:15:06.274345Z"
    }
   },
   "outputs": [
    {
     "data": {
      "text/html": [
       "<div>\n",
       "<style scoped>\n",
       "    .dataframe tbody tr th:only-of-type {\n",
       "        vertical-align: middle;\n",
       "    }\n",
       "\n",
       "    .dataframe tbody tr th {\n",
       "        vertical-align: top;\n",
       "    }\n",
       "\n",
       "    .dataframe thead th {\n",
       "        text-align: right;\n",
       "    }\n",
       "</style>\n",
       "<table border=\"1\" class=\"dataframe\">\n",
       "  <thead>\n",
       "    <tr style=\"text-align: right;\">\n",
       "      <th></th>\n",
       "      <th>price</th>\n",
       "      <th>sqft</th>\n",
       "      <th>beds</th>\n",
       "      <th>bath</th>\n",
       "      <th>laundry</th>\n",
       "      <th>parking</th>\n",
       "      <th>hood_district</th>\n",
       "    </tr>\n",
       "  </thead>\n",
       "  <tbody>\n",
       "    <tr>\n",
       "      <th>0</th>\n",
       "      <td>6800</td>\n",
       "      <td>1600.0</td>\n",
       "      <td>2.0</td>\n",
       "      <td>2.0</td>\n",
       "      <td>(a) in-unit</td>\n",
       "      <td>(b) protected</td>\n",
       "      <td>7</td>\n",
       "    </tr>\n",
       "    <tr>\n",
       "      <th>1</th>\n",
       "      <td>3500</td>\n",
       "      <td>550.0</td>\n",
       "      <td>1.0</td>\n",
       "      <td>1.0</td>\n",
       "      <td>(a) in-unit</td>\n",
       "      <td>(b) protected</td>\n",
       "      <td>7</td>\n",
       "    </tr>\n",
       "    <tr>\n",
       "      <th>2</th>\n",
       "      <td>5100</td>\n",
       "      <td>1300.0</td>\n",
       "      <td>2.0</td>\n",
       "      <td>1.0</td>\n",
       "      <td>(a) in-unit</td>\n",
       "      <td>(d) no parking</td>\n",
       "      <td>7</td>\n",
       "    </tr>\n",
       "  </tbody>\n",
       "</table>\n",
       "</div>"
      ],
      "text/plain": [
       "   price    sqft  beds  bath      laundry         parking hood_district\n",
       "0   6800  1600.0   2.0   2.0  (a) in-unit   (b) protected             7\n",
       "1   3500   550.0   1.0   1.0  (a) in-unit   (b) protected             7\n",
       "2   5100  1300.0   2.0   1.0  (a) in-unit  (d) no parking             7"
      ]
     },
     "execution_count": 5,
     "metadata": {},
     "output_type": "execute_result"
    }
   ],
   "source": [
    "sf.head(3)"
   ]
  },
  {
   "cell_type": "code",
   "execution_count": 6,
   "metadata": {
    "ExecuteTime": {
     "end_time": "2020-10-06T21:15:06.288492Z",
     "start_time": "2020-10-06T21:15:06.286570Z"
    }
   },
   "outputs": [],
   "source": [
    "#sns.pairplot(sf, aspect=1.25, corner=True);"
   ]
  },
  {
   "cell_type": "code",
   "execution_count": 7,
   "metadata": {
    "ExecuteTime": {
     "end_time": "2020-10-06T21:15:06.299713Z",
     "start_time": "2020-10-06T21:15:06.290547Z"
    }
   },
   "outputs": [],
   "source": [
    "sf = pd.get_dummies(sf)"
   ]
  },
  {
   "cell_type": "code",
   "execution_count": 8,
   "metadata": {
    "ExecuteTime": {
     "end_time": "2020-10-06T21:15:06.304653Z",
     "start_time": "2020-10-06T21:15:06.301446Z"
    }
   },
   "outputs": [
    {
     "data": {
      "text/plain": [
       "Index(['price', 'sqft', 'beds', 'bath', 'laundry_(a) in-unit',\n",
       "       'laundry_(b) on-site', 'laundry_(c) no laundry', 'parking_(a) valet',\n",
       "       'parking_(b) protected', 'parking_(c) off-street',\n",
       "       'parking_(d) no parking', 'hood_district_1', 'hood_district_10',\n",
       "       'hood_district_2', 'hood_district_3', 'hood_district_4',\n",
       "       'hood_district_5', 'hood_district_6', 'hood_district_7',\n",
       "       'hood_district_8', 'hood_district_9'],\n",
       "      dtype='object')"
      ]
     },
     "execution_count": 8,
     "metadata": {},
     "output_type": "execute_result"
    }
   ],
   "source": [
    "sf.columns"
   ]
  },
  {
   "cell_type": "code",
   "execution_count": 9,
   "metadata": {
    "ExecuteTime": {
     "end_time": "2020-10-06T21:15:06.309986Z",
     "start_time": "2020-10-06T21:15:06.306319Z"
    }
   },
   "outputs": [],
   "source": [
    "cols_to_drop = ['laundry_(c) no laundry',\n",
    "               #'pets_(d) no pets', \n",
    "               #'housing_type_(c) multi',\n",
    "               'parking_(d) no parking',\n",
    "               'hood_district_10'\n",
    "               ]\n",
    "\n",
    "sf = sf.drop(cols_to_drop, axis=1)"
   ]
  },
  {
   "cell_type": "code",
   "execution_count": 10,
   "metadata": {
    "ExecuteTime": {
     "end_time": "2020-10-06T21:15:06.327123Z",
     "start_time": "2020-10-06T21:15:06.312002Z"
    },
    "scrolled": true
   },
   "outputs": [
    {
     "data": {
      "text/html": [
       "<div>\n",
       "<style scoped>\n",
       "    .dataframe tbody tr th:only-of-type {\n",
       "        vertical-align: middle;\n",
       "    }\n",
       "\n",
       "    .dataframe tbody tr th {\n",
       "        vertical-align: top;\n",
       "    }\n",
       "\n",
       "    .dataframe thead th {\n",
       "        text-align: right;\n",
       "    }\n",
       "</style>\n",
       "<table border=\"1\" class=\"dataframe\">\n",
       "  <thead>\n",
       "    <tr style=\"text-align: right;\">\n",
       "      <th></th>\n",
       "      <th>price</th>\n",
       "      <th>sqft</th>\n",
       "      <th>beds</th>\n",
       "      <th>bath</th>\n",
       "      <th>laundry_(a) in-unit</th>\n",
       "      <th>laundry_(b) on-site</th>\n",
       "      <th>parking_(a) valet</th>\n",
       "      <th>parking_(b) protected</th>\n",
       "      <th>parking_(c) off-street</th>\n",
       "      <th>hood_district_1</th>\n",
       "      <th>hood_district_2</th>\n",
       "      <th>hood_district_3</th>\n",
       "      <th>hood_district_4</th>\n",
       "      <th>hood_district_5</th>\n",
       "      <th>hood_district_6</th>\n",
       "      <th>hood_district_7</th>\n",
       "      <th>hood_district_8</th>\n",
       "      <th>hood_district_9</th>\n",
       "    </tr>\n",
       "  </thead>\n",
       "  <tbody>\n",
       "    <tr>\n",
       "      <th>0</th>\n",
       "      <td>6800</td>\n",
       "      <td>1600.0</td>\n",
       "      <td>2.0</td>\n",
       "      <td>2.0</td>\n",
       "      <td>1</td>\n",
       "      <td>0</td>\n",
       "      <td>0</td>\n",
       "      <td>1</td>\n",
       "      <td>0</td>\n",
       "      <td>0</td>\n",
       "      <td>0</td>\n",
       "      <td>0</td>\n",
       "      <td>0</td>\n",
       "      <td>0</td>\n",
       "      <td>0</td>\n",
       "      <td>1</td>\n",
       "      <td>0</td>\n",
       "      <td>0</td>\n",
       "    </tr>\n",
       "    <tr>\n",
       "      <th>1</th>\n",
       "      <td>3500</td>\n",
       "      <td>550.0</td>\n",
       "      <td>1.0</td>\n",
       "      <td>1.0</td>\n",
       "      <td>1</td>\n",
       "      <td>0</td>\n",
       "      <td>0</td>\n",
       "      <td>1</td>\n",
       "      <td>0</td>\n",
       "      <td>0</td>\n",
       "      <td>0</td>\n",
       "      <td>0</td>\n",
       "      <td>0</td>\n",
       "      <td>0</td>\n",
       "      <td>0</td>\n",
       "      <td>1</td>\n",
       "      <td>0</td>\n",
       "      <td>0</td>\n",
       "    </tr>\n",
       "    <tr>\n",
       "      <th>2</th>\n",
       "      <td>5100</td>\n",
       "      <td>1300.0</td>\n",
       "      <td>2.0</td>\n",
       "      <td>1.0</td>\n",
       "      <td>1</td>\n",
       "      <td>0</td>\n",
       "      <td>0</td>\n",
       "      <td>0</td>\n",
       "      <td>0</td>\n",
       "      <td>0</td>\n",
       "      <td>0</td>\n",
       "      <td>0</td>\n",
       "      <td>0</td>\n",
       "      <td>0</td>\n",
       "      <td>0</td>\n",
       "      <td>1</td>\n",
       "      <td>0</td>\n",
       "      <td>0</td>\n",
       "    </tr>\n",
       "  </tbody>\n",
       "</table>\n",
       "</div>"
      ],
      "text/plain": [
       "   price    sqft  beds  bath  laundry_(a) in-unit  laundry_(b) on-site  \\\n",
       "0   6800  1600.0   2.0   2.0                    1                    0   \n",
       "1   3500   550.0   1.0   1.0                    1                    0   \n",
       "2   5100  1300.0   2.0   1.0                    1                    0   \n",
       "\n",
       "   parking_(a) valet  parking_(b) protected  parking_(c) off-street  \\\n",
       "0                  0                      1                       0   \n",
       "1                  0                      1                       0   \n",
       "2                  0                      0                       0   \n",
       "\n",
       "   hood_district_1  hood_district_2  hood_district_3  hood_district_4  \\\n",
       "0                0                0                0                0   \n",
       "1                0                0                0                0   \n",
       "2                0                0                0                0   \n",
       "\n",
       "   hood_district_5  hood_district_6  hood_district_7  hood_district_8  \\\n",
       "0                0                0                1                0   \n",
       "1                0                0                1                0   \n",
       "2                0                0                1                0   \n",
       "\n",
       "   hood_district_9  \n",
       "0                0  \n",
       "1                0  \n",
       "2                0  "
      ]
     },
     "execution_count": 10,
     "metadata": {},
     "output_type": "execute_result"
    }
   ],
   "source": [
    "sf.head(3)"
   ]
  },
  {
   "cell_type": "markdown",
   "metadata": {},
   "source": [
    "## Feature Engineering"
   ]
  },
  {
   "cell_type": "markdown",
   "metadata": {},
   "source": [
    "### All Features\n",
    "\n",
    "##### Best Model Output\n",
    "\n",
    "Linear -- overfitting \n",
    "* Linear Regression train R^2: 0.78184\n",
    "* Linear Regression val R^2: 0.67066\n",
    "\n",
    "Ridge -- good candidate\n",
    "* Ridge Regression test R^2: 0.75815\n",
    "* Ridge Regression val R^2: 0.78565\n",
    "\n",
    "Lasso -- good candidate\n",
    "* Lasso Regression test R^2: 0.75885\n",
    "* Lasso Regression val R^2: 0.78052"
   ]
  },
  {
   "cell_type": "markdown",
   "metadata": {},
   "source": [
    "### Quadratic on Bed and Bath"
   ]
  },
  {
   "cell_type": "code",
   "execution_count": 11,
   "metadata": {
    "ExecuteTime": {
     "end_time": "2020-10-06T21:15:06.334759Z",
     "start_time": "2020-10-06T21:15:06.328889Z"
    }
   },
   "outputs": [],
   "source": [
    "sf['beds^2'] = sf['beds']**2\n",
    "sf['bath^2'] = sf['bath']**2"
   ]
  },
  {
   "cell_type": "markdown",
   "metadata": {},
   "source": [
    "##### Best Model Output \n",
    "\n",
    "Linear -- still overfitting\n",
    "* Linear Regression train R^2: 0.78595\n",
    "* Linear Regression val R^2: 0.69627\n",
    "\n",
    "Ridge -- improvement!\n",
    "* Ridge Regression test R^2: 0.76921\n",
    "* Ridge Regression val R^2: 0.78664\n",
    "\n",
    "Lasso -- improvement!\n",
    "* Lasso Regression test R^2: 0.75915\n",
    "* Lasso Regression val R^2: 0.78483"
   ]
  },
  {
   "cell_type": "markdown",
   "metadata": {},
   "source": [
    "### Cubic on Bed and Bath"
   ]
  },
  {
   "cell_type": "code",
   "execution_count": 12,
   "metadata": {
    "ExecuteTime": {
     "end_time": "2020-10-06T21:15:06.338193Z",
     "start_time": "2020-10-06T21:15:06.336339Z"
    }
   },
   "outputs": [],
   "source": [
    "# sf['beds^3'] = sf['beds']**3\n",
    "# sf['bath^3'] = sf['bath']**3"
   ]
  },
  {
   "cell_type": "markdown",
   "metadata": {},
   "source": [
    "##### Best Model Output \n",
    "\n",
    "Linear -- still overfitting\n",
    "* Linear Regression train R^2: 0.78637\n",
    "* Linear Regression val R^2: 0.69691\n",
    "\n",
    "Ridge -- score decreased from quadratic\n",
    "* Ridge Regression test R^2: 0.76689\n",
    "* Ridge Regression val R^2: 0.78111\n",
    "\n",
    "Lasso -- score decreased from quadratic\n",
    "* Lasso Regression test R^2: 0.76183\n",
    "* Lasso Regression val R^2: 0.78245"
   ]
  },
  {
   "cell_type": "markdown",
   "metadata": {},
   "source": [
    "### Quadratic - Just Beds"
   ]
  },
  {
   "cell_type": "code",
   "execution_count": 13,
   "metadata": {
    "ExecuteTime": {
     "end_time": "2020-10-06T21:15:06.341539Z",
     "start_time": "2020-10-06T21:15:06.339863Z"
    }
   },
   "outputs": [],
   "source": [
    "#sf['beds^2'] = sf['beds']**2"
   ]
  },
  {
   "cell_type": "markdown",
   "metadata": {
    "ExecuteTime": {
     "end_time": "2020-10-06T17:23:49.279436Z",
     "start_time": "2020-10-06T17:23:49.275969Z"
    }
   },
   "source": [
    "##### Best Model Output \n",
    "\n",
    "Linear -- still overfitting\n",
    "* Linear Regression train R^2: 0.78233\n",
    "* Linear Regression val R^2: 0.67072\n",
    "\n",
    "Ridge -- not better than quadratic on both beds and bath\n",
    "* Ridge Regression test R^2: 0.75888\n",
    "* Ridge Regression val R^2: 0.78402\n",
    "\n",
    "Lasso -- not better than quadratic on both beds and bath\n",
    "* Lasso Regression test R^2: 0.75996\n",
    "* Lasso Regression val R^2: 0.78091"
   ]
  },
  {
   "cell_type": "markdown",
   "metadata": {
    "ExecuteTime": {
     "end_time": "2020-10-06T17:23:32.516904Z",
     "start_time": "2020-10-06T17:23:32.514811Z"
    }
   },
   "source": [
    "### Cubic - Just Beds"
   ]
  },
  {
   "cell_type": "code",
   "execution_count": 14,
   "metadata": {
    "ExecuteTime": {
     "end_time": "2020-10-06T21:15:06.345050Z",
     "start_time": "2020-10-06T21:15:06.343200Z"
    }
   },
   "outputs": [],
   "source": [
    "# sf['beds^3'] = sf['beds']**3"
   ]
  },
  {
   "cell_type": "markdown",
   "metadata": {
    "ExecuteTime": {
     "end_time": "2020-10-06T17:23:49.421709Z",
     "start_time": "2020-10-06T17:23:47.559Z"
    },
    "heading_collapsed": true
   },
   "source": [
    "##### Best Model Output \n",
    "\n",
    "Linear -- still overfitting\n",
    "* Linear Regression train R^2: 0.78270\n",
    "* Linear Regression val R^2: 0.67044\n",
    "\n",
    "Ridge -- not better than quadratic on both beds and bath\n",
    "* Ridge Regression test R^2: 0.75935\n",
    "* Ridge Regression val R^2: 0.78292\n",
    "\n",
    "Lasso -- not better than quadratic on both beds and bath\n",
    "* Lasso Regression test R^2: 0.76062\n",
    "* Lasso Regression val R^2: 0.77847"
   ]
  },
  {
   "cell_type": "markdown",
   "metadata": {},
   "source": [
    "### Outcome & Decision for model\n",
    "\n",
    "Quadratic on `beds` and `bath` produces the best models with **Ridge** model performing the best. \n",
    "\n",
    "\n",
    "Continue with quadratic transformation on `beds` and `bath` features. "
   ]
  },
  {
   "cell_type": "markdown",
   "metadata": {},
   "source": [
    "## Training & Hold-Out Splits"
   ]
  },
  {
   "cell_type": "markdown",
   "metadata": {},
   "source": [
    "### Train / Test"
   ]
  },
  {
   "cell_type": "code",
   "execution_count": 15,
   "metadata": {
    "ExecuteTime": {
     "end_time": "2020-10-06T21:15:06.352350Z",
     "start_time": "2020-10-06T21:15:06.346726Z"
    }
   },
   "outputs": [],
   "source": [
    "X, y = sf.drop('price',axis=1), sf['price']\n",
    "\n",
    "# hold out 20% of the data for final testing\n",
    "X, X_test, y, y_test = train_test_split(X, y, test_size=.2, random_state=10)"
   ]
  },
  {
   "cell_type": "markdown",
   "metadata": {},
   "source": [
    "#### OUTLIERS??"
   ]
  },
  {
   "cell_type": "markdown",
   "metadata": {},
   "source": [
    "### Train / Validation"
   ]
  },
  {
   "cell_type": "code",
   "execution_count": 16,
   "metadata": {
    "ExecuteTime": {
     "end_time": "2020-10-06T21:15:06.358751Z",
     "start_time": "2020-10-06T21:15:06.354168Z"
    }
   },
   "outputs": [],
   "source": [
    "X_train, X_val, y_train, y_val = train_test_split(X, y, test_size=.20, random_state=10)"
   ]
  },
  {
   "cell_type": "code",
   "execution_count": 17,
   "metadata": {
    "ExecuteTime": {
     "end_time": "2020-10-06T21:15:06.369024Z",
     "start_time": "2020-10-06T21:15:06.364513Z"
    }
   },
   "outputs": [],
   "source": [
    "# Scaling for Ridge & Lasso \n",
    "\n",
    "scaler = StandardScaler()\n",
    "\n",
    "X_train_scaled = scaler.fit_transform(X_train.values)\n",
    "X_val_scaled = scaler.transform(X_val.values)\n",
    "X_test_scaled = scaler.transform(X_test.values)"
   ]
  },
  {
   "cell_type": "markdown",
   "metadata": {},
   "source": [
    "## Models"
   ]
  },
  {
   "cell_type": "markdown",
   "metadata": {},
   "source": [
    "### Linear"
   ]
  },
  {
   "cell_type": "code",
   "execution_count": 18,
   "metadata": {
    "ExecuteTime": {
     "end_time": "2020-10-06T21:15:06.387291Z",
     "start_time": "2020-10-06T21:15:06.373546Z"
    }
   },
   "outputs": [
    {
     "name": "stdout",
     "output_type": "stream",
     "text": [
      "Linear Regression train R^2: 0.78514\n",
      "Linear Regression val R^2: 0.69811\n"
     ]
    }
   ],
   "source": [
    "lin = LinearRegression()\n",
    "\n",
    "lin.fit(X_train, y_train)\n",
    "print(f'Linear Regression train R^2: {lin.score(X_train, y_train):.5f}')\n",
    "print(f'Linear Regression val R^2: {lin.score(X_val, y_val):.5f}')"
   ]
  },
  {
   "cell_type": "markdown",
   "metadata": {},
   "source": [
    "### Ridge"
   ]
  },
  {
   "cell_type": "code",
   "execution_count": 19,
   "metadata": {
    "ExecuteTime": {
     "end_time": "2020-10-06T21:15:06.397820Z",
     "start_time": "2020-10-06T21:15:06.389630Z"
    }
   },
   "outputs": [
    {
     "name": "stdout",
     "output_type": "stream",
     "text": [
      "Ridge Regression test R^2: 0.78509\n",
      "Ridge Regression val R^2: 0.69655\n"
     ]
    }
   ],
   "source": [
    "rid = Ridge()\n",
    "\n",
    "rid.fit(X_train_scaled, y_train)\n",
    "print(f'Ridge Regression test R^2: {rid.score(X_train_scaled, y_train):.5f}')\n",
    "print(f'Ridge Regression val R^2: {rid.score(X_val_scaled, y_val):.5f}')"
   ]
  },
  {
   "cell_type": "markdown",
   "metadata": {},
   "source": [
    "### Lasso"
   ]
  },
  {
   "cell_type": "code",
   "execution_count": 20,
   "metadata": {
    "ExecuteTime": {
     "end_time": "2020-10-06T21:15:06.409625Z",
     "start_time": "2020-10-06T21:15:06.400323Z"
    }
   },
   "outputs": [
    {
     "name": "stdout",
     "output_type": "stream",
     "text": [
      "Lasso Regression test R^2: 0.78496\n",
      "Lasso Regression val R^2: 0.69543\n"
     ]
    }
   ],
   "source": [
    "las = Lasso()\n",
    "\n",
    "las.fit(X_train_scaled, y_train)\n",
    "print(f'Lasso Regression test R^2: {las.score(X_train_scaled, y_train):.5f}')\n",
    "print(f'Lasso Regression val R^2: {las.score(X_val_scaled, y_val):.5f}')"
   ]
  },
  {
   "cell_type": "markdown",
   "metadata": {},
   "source": [
    "### Model Evaluation using KFolds"
   ]
  },
  {
   "cell_type": "code",
   "execution_count": 21,
   "metadata": {
    "ExecuteTime": {
     "end_time": "2020-10-06T21:15:06.419248Z",
     "start_time": "2020-10-06T21:15:06.411946Z"
    }
   },
   "outputs": [],
   "source": [
    "sf2 = sf.copy()\n",
    "\n",
    "X, y = sf2.drop('price',axis=1), sf['price']\n",
    "\n",
    "X, X_test, y, y_test = train_test_split(X, y, test_size=.2, random_state=30)\n",
    "\n",
    "#this helps with the way kf will generate indices below\n",
    "X, y = np.array(X), np.array(y)"
   ]
  },
  {
   "cell_type": "code",
   "execution_count": 22,
   "metadata": {
    "ExecuteTime": {
     "end_time": "2020-10-06T21:15:06.480452Z",
     "start_time": "2020-10-06T21:15:06.421262Z"
    },
    "scrolled": true
   },
   "outputs": [
    {
     "name": "stdout",
     "output_type": "stream",
     "text": [
      "Simple scores:  [0.8197150323945377, 0.6834608818726107, 0.700738675217424, 0.714479100433844, 0.7839250415794152]\n",
      "Ridge scores:  [0.8185888623389794, 0.6859954956240167, 0.6978368877274586, 0.7165615679464201, 0.7954957894679633]\n",
      "Lasso scores:  [0.8195102386719904, 0.6856076604546292, 0.6984367433202765, 0.7151850060797156, 0.7890896741178122] \n",
      "\n",
      "Simple mean cv r^2: 0.74046 +- 0.05229\n",
      "Ridge mean cv r^2: 0.74290 +- 0.05377\n",
      "Lasso mean cv r^2: 0.74157 +- 0.05296\n"
     ]
    }
   ],
   "source": [
    "kf = KFold(n_splits=5, shuffle=True, random_state =12)\n",
    "\n",
    "cv_lin_r2s, cv_rid_r2s, cv_las_r2s = [], [], []  #collect the validation results for both models\n",
    "\n",
    "for train_ind, val_ind in kf.split(X,y):\n",
    "    \n",
    "    X_train, y_train = X[train_ind], y[train_ind]\n",
    "    X_val, y_val = X[val_ind], y[val_ind] \n",
    "    \n",
    "    #simple linear regression\n",
    "    lin = LinearRegression()\n",
    "    rid = Ridge()\n",
    "    las = Lasso()\n",
    "\n",
    "    lin.fit(X_train, y_train)\n",
    "    cv_lin_r2s.append(lin.score(X_val, y_val))\n",
    "    \n",
    "    #ridge/lasso with feature scaling\n",
    "    scaler = StandardScaler()\n",
    "    X_train_scaled = scaler.fit_transform(X_train)\n",
    "    X_val_scaled = scaler.transform(X_val)\n",
    "    \n",
    "    rid.fit(X_train_scaled, y_train)\n",
    "    cv_rid_r2s.append(rid.score(X_val_scaled, y_val))\n",
    "    \n",
    "    \n",
    "    #lasso with feature scaling\n",
    "    las.fit(X_train_scaled, y_train)\n",
    "    cv_las_r2s.append(las.score(X_val_scaled, y_val))\n",
    "\n",
    "print('Simple scores: ', cv_lin_r2s)\n",
    "print('Ridge scores: ', cv_rid_r2s)\n",
    "print('Lasso scores: ', cv_las_r2s, '\\n')\n",
    "\n",
    "print(f'Simple mean cv r^2: {np.mean(cv_lin_r2s):.5f} +- {np.std(cv_lin_r2s):.5f}')\n",
    "print(f'Ridge mean cv r^2: {np.mean(cv_rid_r2s):.5f} +- {np.std(cv_rid_r2s):.5f}')\n",
    "print(f'Lasso mean cv r^2: {np.mean(cv_las_r2s):.5f} +- {np.std(cv_las_r2s):.5f}')"
   ]
  },
  {
   "cell_type": "markdown",
   "metadata": {},
   "source": [
    "## Alpha Tuning - Ridge & Lasso"
   ]
  },
  {
   "cell_type": "code",
   "execution_count": 23,
   "metadata": {
    "ExecuteTime": {
     "end_time": "2020-10-06T21:15:06.490149Z",
     "start_time": "2020-10-06T21:15:06.482699Z"
    }
   },
   "outputs": [],
   "source": [
    "sf3 = sf.copy()\n",
    "\n",
    "X, y = sf3.drop('price',axis=1), sf['price']\n",
    "\n",
    "X, X_test, y, y_test = train_test_split(X, y, test_size=.2, random_state=42)"
   ]
  },
  {
   "cell_type": "code",
   "execution_count": 24,
   "metadata": {
    "ExecuteTime": {
     "end_time": "2020-10-06T21:15:06.498090Z",
     "start_time": "2020-10-06T21:15:06.492563Z"
    }
   },
   "outputs": [],
   "source": [
    "X_train, X_val, y_train, y_val = train_test_split(X, y, test_size=.2, random_state=37)"
   ]
  },
  {
   "cell_type": "code",
   "execution_count": 25,
   "metadata": {
    "ExecuteTime": {
     "end_time": "2020-10-06T21:15:06.505945Z",
     "start_time": "2020-10-06T21:15:06.500336Z"
    }
   },
   "outputs": [],
   "source": [
    "# Scalilng features\n",
    "scaler = StandardScaler()\n",
    "\n",
    "X_train_scaled = scaler.fit_transform(X_train.values)\n",
    "X_val_scaled = scaler.transform(X_val.values)\n",
    "X_test_scaled = scaler.transform(X_test.values)"
   ]
  },
  {
   "cell_type": "code",
   "execution_count": 26,
   "metadata": {
    "ExecuteTime": {
     "end_time": "2020-10-06T21:15:06.511648Z",
     "start_time": "2020-10-06T21:15:06.507754Z"
    }
   },
   "outputs": [
    {
     "data": {
      "text/plain": [
       "(numpy.ndarray, numpy.ndarray, numpy.ndarray)"
      ]
     },
     "execution_count": 26,
     "metadata": {},
     "output_type": "execute_result"
    }
   ],
   "source": [
    "type(X_train_scaled), type(X_val_scaled), type(X_test_scaled)"
   ]
  },
  {
   "cell_type": "markdown",
   "metadata": {},
   "source": [
    "### Lasso"
   ]
  },
  {
   "cell_type": "code",
   "execution_count": 27,
   "metadata": {
    "ExecuteTime": {
     "end_time": "2020-10-06T21:15:07.201203Z",
     "start_time": "2020-10-06T21:15:06.513973Z"
    }
   },
   "outputs": [
    {
     "data": {
      "text/plain": [
       "LassoCV(alphas=array([1.00000000e-02, 1.00926219e-02, 1.01861017e-02, 1.02804473e-02,\n",
       "       1.03756668e-02, 1.04717682e-02, 1.05687597e-02, 1.06666496e-02,\n",
       "       1.07654461e-02, 1.08651577e-02, 1.09657929e-02, 1.10673602e-02,\n",
       "       1.11698682e-02, 1.12733256e-02, 1.13777413e-02, 1.14831241e-02,\n",
       "       1.15894830e-02, 1.16968270e-02, 1.18051653e-02, 1.19145070e-02,\n",
       "       1.20248614e-02, 1.21362380e-0...\n",
       "       8.08924349e+01, 8.16416760e+01, 8.23978568e+01, 8.31610415e+01,\n",
       "       8.39312950e+01, 8.47086827e+01, 8.54932707e+01, 8.62851257e+01,\n",
       "       8.70843150e+01, 8.78909065e+01, 8.87049689e+01, 8.95265713e+01,\n",
       "       9.03557835e+01, 9.11926760e+01, 9.20373200e+01, 9.28897872e+01,\n",
       "       9.37501502e+01, 9.46184819e+01, 9.54948564e+01, 9.63793480e+01,\n",
       "       9.72720319e+01, 9.81729841e+01, 9.90822810e+01, 1.00000000e+02]),\n",
       "        cv=5)"
      ]
     },
     "execution_count": 27,
     "metadata": {},
     "output_type": "execute_result"
    }
   ],
   "source": [
    "alphavec = 10**np.linspace(-2,2,1000)\n",
    "\n",
    "lasso_model = LassoCV(alphas = alphavec, cv=5)\n",
    "lasso_model.fit(X_train_scaled, y_train)"
   ]
  },
  {
   "cell_type": "code",
   "execution_count": 28,
   "metadata": {
    "ExecuteTime": {
     "end_time": "2020-10-06T21:15:07.206151Z",
     "start_time": "2020-10-06T21:15:07.202924Z"
    }
   },
   "outputs": [
    {
     "data": {
      "text/plain": [
       "14.560059950206485"
      ]
     },
     "execution_count": 28,
     "metadata": {},
     "output_type": "execute_result"
    }
   ],
   "source": [
    "las_alpha = lasso_model.alpha_\n",
    "las_alpha"
   ]
  },
  {
   "cell_type": "code",
   "execution_count": 29,
   "metadata": {
    "ExecuteTime": {
     "end_time": "2020-10-06T21:15:07.214348Z",
     "start_time": "2020-10-06T21:15:07.207694Z"
    }
   },
   "outputs": [
    {
     "name": "stdout",
     "output_type": "stream",
     "text": [
      "Lasso Regression test R^2: 0.75901\n",
      "Lasso Regression val R^2: 0.78712\n"
     ]
    }
   ],
   "source": [
    "las = Lasso(alpha=las_alpha)\n",
    "\n",
    "las.fit(X_train_scaled, y_train)\n",
    "print(f'Lasso Regression test R^2: {las.score(X_train_scaled, y_train):.5f}')\n",
    "print(f'Lasso Regression val R^2: {las.score(X_val_scaled, y_val):.5f}')"
   ]
  },
  {
   "cell_type": "markdown",
   "metadata": {},
   "source": [
    "### Ridge"
   ]
  },
  {
   "cell_type": "code",
   "execution_count": 30,
   "metadata": {
    "ExecuteTime": {
     "end_time": "2020-10-06T21:15:12.829771Z",
     "start_time": "2020-10-06T21:15:07.216189Z"
    }
   },
   "outputs": [
    {
     "data": {
      "text/plain": [
       "RidgeCV(alphas=array([1.00000000e-02, 1.01237277e-02, 1.02489862e-02, 1.03757945e-02,\n",
       "       1.05041718e-02, 1.06341375e-02, 1.07657112e-02, 1.08989128e-02,\n",
       "       1.10337625e-02, 1.11702807e-02, 1.13084879e-02, 1.14484052e-02,\n",
       "       1.15900537e-02, 1.17334547e-02, 1.18786300e-02, 1.20256015e-02,\n",
       "       1.21743915e-02, 1.23250224e-02, 1.24775170e-02, 1.26318984e-02,\n",
       "       1.27881900e-02, 1.29464153e-0...\n",
       "       7.35340780e+01, 7.44438980e+01, 7.53649750e+01, 7.62974483e+01,\n",
       "       7.72414588e+01, 7.81971493e+01, 7.91646644e+01, 8.01441504e+01,\n",
       "       8.11357552e+01, 8.21396290e+01, 8.31559235e+01, 8.41847923e+01,\n",
       "       8.52263911e+01, 8.62808774e+01, 8.73484105e+01, 8.84291521e+01,\n",
       "       8.95232653e+01, 9.06309158e+01, 9.17522710e+01, 9.28875004e+01,\n",
       "       9.40367758e+01, 9.52002709e+01, 9.63781617e+01, 9.75706262e+01,\n",
       "       9.87778448e+01, 1.00000000e+02]),\n",
       "        cv=5)"
      ]
     },
     "execution_count": 30,
     "metadata": {},
     "output_type": "execute_result"
    }
   ],
   "source": [
    "alphavec = 10**np.linspace(-2,2,750)\n",
    "\n",
    "ridge_model = RidgeCV(alphas = alphavec, cv=5)\n",
    "ridge_model.fit(X_train_scaled, y_train)"
   ]
  },
  {
   "cell_type": "code",
   "execution_count": 31,
   "metadata": {
    "ExecuteTime": {
     "end_time": "2020-10-06T21:15:12.835324Z",
     "start_time": "2020-10-06T21:15:12.831920Z"
    }
   },
   "outputs": [
    {
     "data": {
      "text/plain": [
       "22.035563736348692"
      ]
     },
     "execution_count": 31,
     "metadata": {},
     "output_type": "execute_result"
    }
   ],
   "source": [
    "rid_alpha = ridge_model.alpha_\n",
    "rid_alpha"
   ]
  },
  {
   "cell_type": "code",
   "execution_count": 32,
   "metadata": {
    "ExecuteTime": {
     "end_time": "2020-10-06T21:15:12.844062Z",
     "start_time": "2020-10-06T21:15:12.837714Z"
    }
   },
   "outputs": [
    {
     "name": "stdout",
     "output_type": "stream",
     "text": [
      "Ridge Regression test R^2: 0.76749\n",
      "Ridge Regression val R^2: 0.79167\n"
     ]
    }
   ],
   "source": [
    "rid = Ridge(alpha=rid_alpha)\n",
    "\n",
    "rid.fit(X_train_scaled, y_train)\n",
    "print(f'Ridge Regression test R^2: {rid.score(X_train_scaled, y_train):.5f}')\n",
    "print(f'Ridge Regression val R^2: {rid.score(X_val_scaled, y_val):.5f}')"
   ]
  },
  {
   "cell_type": "markdown",
   "metadata": {},
   "source": [
    "### Coefficients"
   ]
  },
  {
   "cell_type": "code",
   "execution_count": 33,
   "metadata": {
    "ExecuteTime": {
     "end_time": "2020-10-06T21:15:12.863038Z",
     "start_time": "2020-10-06T21:15:12.846709Z"
    }
   },
   "outputs": [
    {
     "data": {
      "text/html": [
       "<div>\n",
       "<style scoped>\n",
       "    .dataframe tbody tr th:only-of-type {\n",
       "        vertical-align: middle;\n",
       "    }\n",
       "\n",
       "    .dataframe tbody tr th {\n",
       "        vertical-align: top;\n",
       "    }\n",
       "\n",
       "    .dataframe thead th {\n",
       "        text-align: right;\n",
       "    }\n",
       "</style>\n",
       "<table border=\"1\" class=\"dataframe\">\n",
       "  <thead>\n",
       "    <tr style=\"text-align: right;\">\n",
       "      <th></th>\n",
       "      <th>Features</th>\n",
       "      <th>Linear</th>\n",
       "      <th>Ridge</th>\n",
       "      <th>Lasso</th>\n",
       "    </tr>\n",
       "  </thead>\n",
       "  <tbody>\n",
       "    <tr>\n",
       "      <th>0</th>\n",
       "      <td>sqft</td>\n",
       "      <td>1.789796</td>\n",
       "      <td>822.885869</td>\n",
       "      <td>901.596824</td>\n",
       "    </tr>\n",
       "    <tr>\n",
       "      <th>1</th>\n",
       "      <td>beds</td>\n",
       "      <td>294.433497</td>\n",
       "      <td>90.353294</td>\n",
       "      <td>15.295431</td>\n",
       "    </tr>\n",
       "    <tr>\n",
       "      <th>2</th>\n",
       "      <td>bath</td>\n",
       "      <td>-2625.201812</td>\n",
       "      <td>-212.176656</td>\n",
       "      <td>-72.166037</td>\n",
       "    </tr>\n",
       "    <tr>\n",
       "      <th>3</th>\n",
       "      <td>laundry_(a) in-unit</td>\n",
       "      <td>190.678061</td>\n",
       "      <td>114.318460</td>\n",
       "      <td>116.017429</td>\n",
       "    </tr>\n",
       "    <tr>\n",
       "      <th>4</th>\n",
       "      <td>laundry_(b) on-site</td>\n",
       "      <td>-94.316680</td>\n",
       "      <td>-23.684171</td>\n",
       "      <td>-0.000000</td>\n",
       "    </tr>\n",
       "    <tr>\n",
       "      <th>5</th>\n",
       "      <td>parking_(a) valet</td>\n",
       "      <td>1181.504715</td>\n",
       "      <td>248.470603</td>\n",
       "      <td>231.297681</td>\n",
       "    </tr>\n",
       "    <tr>\n",
       "      <th>6</th>\n",
       "      <td>parking_(b) protected</td>\n",
       "      <td>96.935670</td>\n",
       "      <td>97.926021</td>\n",
       "      <td>67.568263</td>\n",
       "    </tr>\n",
       "    <tr>\n",
       "      <th>7</th>\n",
       "      <td>parking_(c) off-street</td>\n",
       "      <td>350.114601</td>\n",
       "      <td>84.265761</td>\n",
       "      <td>65.125080</td>\n",
       "    </tr>\n",
       "    <tr>\n",
       "      <th>8</th>\n",
       "      <td>hood_district_1</td>\n",
       "      <td>533.003288</td>\n",
       "      <td>75.192218</td>\n",
       "      <td>0.000000</td>\n",
       "    </tr>\n",
       "    <tr>\n",
       "      <th>9</th>\n",
       "      <td>hood_district_2</td>\n",
       "      <td>577.298665</td>\n",
       "      <td>64.902392</td>\n",
       "      <td>-0.000000</td>\n",
       "    </tr>\n",
       "    <tr>\n",
       "      <th>10</th>\n",
       "      <td>hood_district_3</td>\n",
       "      <td>396.825721</td>\n",
       "      <td>25.257305</td>\n",
       "      <td>-0.000000</td>\n",
       "    </tr>\n",
       "    <tr>\n",
       "      <th>11</th>\n",
       "      <td>hood_district_4</td>\n",
       "      <td>532.220293</td>\n",
       "      <td>38.437786</td>\n",
       "      <td>0.000000</td>\n",
       "    </tr>\n",
       "    <tr>\n",
       "      <th>12</th>\n",
       "      <td>hood_district_5</td>\n",
       "      <td>1025.904970</td>\n",
       "      <td>215.642522</td>\n",
       "      <td>110.540211</td>\n",
       "    </tr>\n",
       "    <tr>\n",
       "      <th>13</th>\n",
       "      <td>hood_district_6</td>\n",
       "      <td>1107.824912</td>\n",
       "      <td>157.109320</td>\n",
       "      <td>71.096016</td>\n",
       "    </tr>\n",
       "    <tr>\n",
       "      <th>14</th>\n",
       "      <td>hood_district_7</td>\n",
       "      <td>1246.969804</td>\n",
       "      <td>289.794872</td>\n",
       "      <td>168.540995</td>\n",
       "    </tr>\n",
       "    <tr>\n",
       "      <th>15</th>\n",
       "      <td>hood_district_8</td>\n",
       "      <td>913.843728</td>\n",
       "      <td>257.631511</td>\n",
       "      <td>111.393289</td>\n",
       "    </tr>\n",
       "    <tr>\n",
       "      <th>16</th>\n",
       "      <td>hood_district_9</td>\n",
       "      <td>830.760320</td>\n",
       "      <td>225.491761</td>\n",
       "      <td>70.822237</td>\n",
       "    </tr>\n",
       "    <tr>\n",
       "      <th>17</th>\n",
       "      <td>beds^2</td>\n",
       "      <td>-21.697286</td>\n",
       "      <td>120.976702</td>\n",
       "      <td>122.979125</td>\n",
       "    </tr>\n",
       "    <tr>\n",
       "      <th>18</th>\n",
       "      <td>bath^2</td>\n",
       "      <td>916.046459</td>\n",
       "      <td>539.565312</td>\n",
       "      <td>404.626106</td>\n",
       "    </tr>\n",
       "  </tbody>\n",
       "</table>\n",
       "</div>"
      ],
      "text/plain": [
       "                  Features       Linear       Ridge       Lasso\n",
       "0                     sqft     1.789796  822.885869  901.596824\n",
       "1                     beds   294.433497   90.353294   15.295431\n",
       "2                     bath -2625.201812 -212.176656  -72.166037\n",
       "3      laundry_(a) in-unit   190.678061  114.318460  116.017429\n",
       "4      laundry_(b) on-site   -94.316680  -23.684171   -0.000000\n",
       "5        parking_(a) valet  1181.504715  248.470603  231.297681\n",
       "6    parking_(b) protected    96.935670   97.926021   67.568263\n",
       "7   parking_(c) off-street   350.114601   84.265761   65.125080\n",
       "8          hood_district_1   533.003288   75.192218    0.000000\n",
       "9          hood_district_2   577.298665   64.902392   -0.000000\n",
       "10         hood_district_3   396.825721   25.257305   -0.000000\n",
       "11         hood_district_4   532.220293   38.437786    0.000000\n",
       "12         hood_district_5  1025.904970  215.642522  110.540211\n",
       "13         hood_district_6  1107.824912  157.109320   71.096016\n",
       "14         hood_district_7  1246.969804  289.794872  168.540995\n",
       "15         hood_district_8   913.843728  257.631511  111.393289\n",
       "16         hood_district_9   830.760320  225.491761   70.822237\n",
       "17                  beds^2   -21.697286  120.976702  122.979125\n",
       "18                  bath^2   916.046459  539.565312  404.626106"
      ]
     },
     "execution_count": 33,
     "metadata": {},
     "output_type": "execute_result"
    }
   ],
   "source": [
    "lin_coefs = lin.coef_\n",
    "rid_coefs = rid.coef_\n",
    "las_coefs = las.coef_\n",
    "\n",
    "features = sf2.columns[1:]\n",
    "\n",
    "coef_data = {'Features': features,\n",
    "             'Linear': lin_coefs,\n",
    "             'Ridge': rid_coefs,\n",
    "             'Lasso': las_coefs}\n",
    "\n",
    "coef_df = pd.DataFrame(coef_data)\n",
    "coef_df"
   ]
  },
  {
   "cell_type": "markdown",
   "metadata": {},
   "source": [
    "### Full Train & Evaluation"
   ]
  },
  {
   "cell_type": "code",
   "execution_count": 34,
   "metadata": {
    "ExecuteTime": {
     "end_time": "2020-10-06T21:15:12.875670Z",
     "start_time": "2020-10-06T21:15:12.866011Z"
    }
   },
   "outputs": [],
   "source": [
    "X, y = sf3.drop('price',axis=1), sf['price']\n",
    "\n",
    "X, X_test, y, y_test = train_test_split(X, y, test_size=.2, random_state=42)\n",
    "\n",
    "# Scaling values\n",
    "scaler = StandardScaler()\n",
    "X_train_scaled = scaler.fit_transform(X.values)\n",
    "X_test_scaled = scaler.transform(X_test.values)"
   ]
  },
  {
   "cell_type": "markdown",
   "metadata": {},
   "source": [
    "#### Ridge"
   ]
  },
  {
   "cell_type": "code",
   "execution_count": 35,
   "metadata": {
    "ExecuteTime": {
     "end_time": "2020-10-06T21:15:12.884743Z",
     "start_time": "2020-10-06T21:15:12.878307Z"
    },
    "scrolled": true
   },
   "outputs": [
    {
     "data": {
      "text/plain": [
       "Ridge(alpha=22.035563736348692)"
      ]
     },
     "execution_count": 35,
     "metadata": {},
     "output_type": "execute_result"
    }
   ],
   "source": [
    "rid = Ridge(alpha=rid_alpha)\n",
    "\n",
    "rid.fit(X_train_scaled, y)"
   ]
  },
  {
   "cell_type": "code",
   "execution_count": 36,
   "metadata": {
    "ExecuteTime": {
     "end_time": "2020-10-06T21:15:12.894189Z",
     "start_time": "2020-10-06T21:15:12.887252Z"
    }
   },
   "outputs": [
    {
     "name": "stdout",
     "output_type": "stream",
     "text": [
      "Ridge Regression full-train R^2: 0.77299\n",
      "Ridge Regression test R^2: 0.77977\n"
     ]
    }
   ],
   "source": [
    "print(f'Ridge Regression full-train R^2: {rid.score(X_train_scaled, y):.5f}')\n",
    "print(f'Ridge Regression test R^2: {rid.score(X_test_scaled, y_test):.5f}')"
   ]
  },
  {
   "cell_type": "markdown",
   "metadata": {},
   "source": [
    "#### Lasso"
   ]
  },
  {
   "cell_type": "code",
   "execution_count": 37,
   "metadata": {
    "ExecuteTime": {
     "end_time": "2020-10-06T21:15:12.903841Z",
     "start_time": "2020-10-06T21:15:12.896714Z"
    }
   },
   "outputs": [
    {
     "data": {
      "text/plain": [
       "Lasso(alpha=14.560059950206485)"
      ]
     },
     "execution_count": 37,
     "metadata": {},
     "output_type": "execute_result"
    }
   ],
   "source": [
    "las = Lasso(alpha=las_alpha)\n",
    "\n",
    "las.fit(X_train_scaled, y)"
   ]
  },
  {
   "cell_type": "code",
   "execution_count": 38,
   "metadata": {
    "ExecuteTime": {
     "end_time": "2020-10-06T21:15:12.911874Z",
     "start_time": "2020-10-06T21:15:12.906341Z"
    },
    "scrolled": false
   },
   "outputs": [
    {
     "name": "stdout",
     "output_type": "stream",
     "text": [
      "Lasso Regression full-train R^2: 0.76188\n",
      "Lasso Regression test R^2: 0.77357\n"
     ]
    }
   ],
   "source": [
    "print(f'Lasso Regression full-train R^2: {las.score(X_train_scaled, y):.5f}')\n",
    "print(f'Lasso Regression test R^2: {las.score(X_test_scaled, y_test):.5f}')"
   ]
  },
  {
   "cell_type": "markdown",
   "metadata": {},
   "source": [
    "## Evaluation"
   ]
  },
  {
   "cell_type": "markdown",
   "metadata": {},
   "source": [
    "### Plotting Residuals"
   ]
  },
  {
   "cell_type": "code",
   "execution_count": 39,
   "metadata": {
    "ExecuteTime": {
     "end_time": "2020-10-06T21:15:12.918305Z",
     "start_time": "2020-10-06T21:15:12.914420Z"
    }
   },
   "outputs": [],
   "source": [
    "rid_prediction = rid.predict(X_train_scaled)\n",
    "rid_residual = (y - rid_prediction)"
   ]
  },
  {
   "cell_type": "code",
   "execution_count": 40,
   "metadata": {
    "ExecuteTime": {
     "end_time": "2020-10-06T21:15:13.167904Z",
     "start_time": "2020-10-06T21:15:12.921026Z"
    }
   },
   "outputs": [
    {
     "data": {
      "image/png": "[encoded data removed]",
      "text/plain": [
       "<Figure size 720x504 with 1 Axes>"
      ]
     },
     "metadata": {},
     "output_type": "display_data"
    }
   ],
   "source": [
    "\n",
    "plt.figure(figsize=(10, 7))\n",
    "plt.scatter(rid_prediction, rid_residual)    \n",
    "\n",
    "plt.axhline(0, linestyle='--', color='gray')\n",
    "plt.xlabel('Predicted Values', fontsize=18)\n",
    "plt.ylabel('Residuals', fontsize=18);"
   ]
  },
  {
   "cell_type": "markdown",
   "metadata": {},
   "source": [
    "### Actual versus Predicted"
   ]
  },
  {
   "cell_type": "code",
   "execution_count": 41,
   "metadata": {
    "ExecuteTime": {
     "end_time": "2020-10-06T21:15:13.408370Z",
     "start_time": "2020-10-06T21:15:13.170058Z"
    }
   },
   "outputs": [
    {
     "data": {
      "image/png": "[encoded data removed]",
      "text/plain": [
       "<Figure size 720x504 with 1 Axes>"
      ]
     },
     "metadata": {},
     "output_type": "display_data"
    }
   ],
   "source": [
    "\n",
    "\n",
    "plt.figure(figsize=(10, 7))\n",
    "plt.scatter(rid_prediction, y) \n",
    "\n",
    "z = np.polyfit(rid_prediction, y, 1)\n",
    "p = np.poly1d(z)\n",
    "plb.plot(rid_prediction, p(rid_prediction), 'm-')\n",
    "\n",
    "plt.xlim(0, 16000)\n",
    "plt.ylim(0, 16000)\n",
    "\n",
    "plt.title('Ridge Regression Model: Actual Versus Predicted', fontsize=20)\n",
    "plt.xlabel('Predicted Values', fontsize=16)\n",
    "plt.ylabel('Actual Values', fontsize=16);"
   ]
  }
 ],
 "metadata": {
  "kernelspec": {
   "display_name": "Python [conda env:metis] *",
   "language": "python",
   "name": "conda-env-metis-py"
  },
  "language_info": {
   "codemirror_mode": {
    "name": "ipython",
    "version": 3
   },
   "file_extension": ".py",
   "mimetype": "text/x-python",
   "name": "python",
   "nbconvert_exporter": "python",
   "pygments_lexer": "ipython3",
   "version": "3.8.5"
  },
  "toc": {
   "base_numbering": 1,
   "nav_menu": {},
   "number_sections": true,
   "sideBar": true,
   "skip_h1_title": false,
   "title_cell": "Table of Contents",
   "title_sidebar": "Contents",
   "toc_cell": false,
   "toc_position": {
    "height": "calc(100% - 180px)",
    "left": "10px",
    "top": "150px",
    "width": "319.594px"
   },
   "toc_section_display": true,
   "toc_window_display": true
  },
  "varInspector": {
   "cols": {
    "lenName": 16,
    "lenType": 16,
    "lenVar": 40
   },
   "kernels_config": {
    "python": {
     "delete_cmd_postfix": "",
     "delete_cmd_prefix": "del ",
     "library": "var_list.py",
     "varRefreshCmd": "print(var_dic_list())"
    },
    "r": {
     "delete_cmd_postfix": ") ",
     "delete_cmd_prefix": "rm(",
     "library": "var_list.r",
     "varRefreshCmd": "cat(var_dic_list()) "
    }
   },
   "types_to_exclude": [
    "module",
    "function",
    "builtin_function_or_method",
    "instance",
    "_Feature"
   ],
   "window_display": false
  }
 },
 "nbformat": 4,
 "nbformat_minor": 4
}
