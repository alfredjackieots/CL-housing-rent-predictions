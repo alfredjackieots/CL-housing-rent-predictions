{
 "cells": [
  {
   "cell_type": "markdown",
   "metadata": {},
   "source": [
    "# Find best alpha by looping through random states"
   ]
  },
  {
   "cell_type": "code",
   "execution_count": 2,
   "metadata": {
    "ExecuteTime": {
     "end_time": "2020-10-06T22:38:34.094264Z",
     "start_time": "2020-10-06T22:38:32.962393Z"
    }
   },
   "outputs": [],
   "source": [
    "# Necessary imports\n",
    "import pandas as pd\n",
    "import numpy as np\n",
    "import seaborn as sns\n",
    "import matplotlib.pyplot as plt\n",
    "%matplotlib inline\n",
    "\n",
    "from sklearn.model_selection import train_test_split\n",
    "from sklearn.linear_model import LinearRegression, Lasso, LassoCV, Ridge, RidgeCV\n",
    "from sklearn.preprocessing import StandardScaler\n",
    "from sklearn.metrics import r2_score, mean_squared_error\n",
    "\n",
    "sns.set(context='notebook', style='whitegrid', font_scale=1.2)"
   ]
  },
  {
   "cell_type": "markdown",
   "metadata": {},
   "source": [
    "## Data Import and Setup"
   ]
  },
  {
   "cell_type": "code",
   "execution_count": 3,
   "metadata": {
    "ExecuteTime": {
     "end_time": "2020-10-06T22:38:35.927291Z",
     "start_time": "2020-10-06T22:38:35.918785Z"
    }
   },
   "outputs": [],
   "source": [
    "sf = pd.read_csv('data_files/sf_clean.csv')\n",
    "\n",
    "# Reformatting hood_district names\n",
    "sf['hood_district'] = sf['hood_district'].astype(int)\n",
    "sf['hood_district'] = sf['hood_district'].astype(str)"
   ]
  },
  {
   "cell_type": "markdown",
   "metadata": {},
   "source": [
    "### Feature Selection & Engineering"
   ]
  },
  {
   "cell_type": "markdown",
   "metadata": {},
   "source": [
    "#### Dropping Pets & Housing Type"
   ]
  },
  {
   "cell_type": "code",
   "execution_count": 4,
   "metadata": {
    "ExecuteTime": {
     "end_time": "2020-10-06T22:38:38.099797Z",
     "start_time": "2020-10-06T22:38:38.096020Z"
    }
   },
   "outputs": [],
   "source": [
    "sf = sf.drop(['pets', 'housing_type'], axis=1)"
   ]
  },
  {
   "cell_type": "markdown",
   "metadata": {},
   "source": [
    "#### Dummy Variable Setup"
   ]
  },
  {
   "cell_type": "code",
   "execution_count": 5,
   "metadata": {
    "ExecuteTime": {
     "end_time": "2020-10-06T22:38:39.337464Z",
     "start_time": "2020-10-06T22:38:39.327633Z"
    }
   },
   "outputs": [],
   "source": [
    "sf = pd.get_dummies(sf)"
   ]
  },
  {
   "cell_type": "code",
   "execution_count": 6,
   "metadata": {
    "ExecuteTime": {
     "end_time": "2020-10-06T22:38:40.652609Z",
     "start_time": "2020-10-06T22:38:40.648472Z"
    }
   },
   "outputs": [],
   "source": [
    "cols_to_drop = ['laundry_(c) no laundry',\n",
    "               #'pets_(d) no pets', \n",
    "               #'housing_type_(c) multi',\n",
    "               'parking_(d) no parking',\n",
    "               'hood_district_10']\n",
    "\n",
    "sf = sf.drop(cols_to_drop, axis=1)"
   ]
  },
  {
   "cell_type": "markdown",
   "metadata": {},
   "source": [
    "#### Quadratic Manipulation on Beds and Baths"
   ]
  },
  {
   "cell_type": "code",
   "execution_count": 7,
   "metadata": {
    "ExecuteTime": {
     "end_time": "2020-10-06T22:38:42.508818Z",
     "start_time": "2020-10-06T22:38:42.503847Z"
    }
   },
   "outputs": [],
   "source": [
    "sf['beds^2'] = sf['beds']**2\n",
    "sf['bath^2'] = sf['bath']**2"
   ]
  },
  {
   "cell_type": "code",
   "execution_count": 8,
   "metadata": {
    "ExecuteTime": {
     "end_time": "2020-10-06T22:38:43.734579Z",
     "start_time": "2020-10-06T22:38:43.714220Z"
    },
    "scrolled": true
   },
   "outputs": [
    {
     "data": {
      "text/html": [
       "<div>\n",
       "<style scoped>\n",
       "    .dataframe tbody tr th:only-of-type {\n",
       "        vertical-align: middle;\n",
       "    }\n",
       "\n",
       "    .dataframe tbody tr th {\n",
       "        vertical-align: top;\n",
       "    }\n",
       "\n",
       "    .dataframe thead th {\n",
       "        text-align: right;\n",
       "    }\n",
       "</style>\n",
       "<table border=\"1\" class=\"dataframe\">\n",
       "  <thead>\n",
       "    <tr style=\"text-align: right;\">\n",
       "      <th></th>\n",
       "      <th>price</th>\n",
       "      <th>sqft</th>\n",
       "      <th>beds</th>\n",
       "      <th>bath</th>\n",
       "      <th>laundry_(a) in-unit</th>\n",
       "      <th>laundry_(b) on-site</th>\n",
       "      <th>parking_(a) valet</th>\n",
       "      <th>parking_(b) protected</th>\n",
       "      <th>parking_(c) off-street</th>\n",
       "      <th>hood_district_1</th>\n",
       "      <th>hood_district_2</th>\n",
       "      <th>hood_district_3</th>\n",
       "      <th>hood_district_4</th>\n",
       "      <th>hood_district_5</th>\n",
       "      <th>hood_district_6</th>\n",
       "      <th>hood_district_7</th>\n",
       "      <th>hood_district_8</th>\n",
       "      <th>hood_district_9</th>\n",
       "      <th>beds^2</th>\n",
       "      <th>bath^2</th>\n",
       "    </tr>\n",
       "  </thead>\n",
       "  <tbody>\n",
       "    <tr>\n",
       "      <th>0</th>\n",
       "      <td>6800</td>\n",
       "      <td>1600.0</td>\n",
       "      <td>2.0</td>\n",
       "      <td>2.0</td>\n",
       "      <td>1</td>\n",
       "      <td>0</td>\n",
       "      <td>0</td>\n",
       "      <td>1</td>\n",
       "      <td>0</td>\n",
       "      <td>0</td>\n",
       "      <td>0</td>\n",
       "      <td>0</td>\n",
       "      <td>0</td>\n",
       "      <td>0</td>\n",
       "      <td>0</td>\n",
       "      <td>1</td>\n",
       "      <td>0</td>\n",
       "      <td>0</td>\n",
       "      <td>4.0</td>\n",
       "      <td>4.00</td>\n",
       "    </tr>\n",
       "    <tr>\n",
       "      <th>1</th>\n",
       "      <td>3500</td>\n",
       "      <td>550.0</td>\n",
       "      <td>1.0</td>\n",
       "      <td>1.0</td>\n",
       "      <td>1</td>\n",
       "      <td>0</td>\n",
       "      <td>0</td>\n",
       "      <td>1</td>\n",
       "      <td>0</td>\n",
       "      <td>0</td>\n",
       "      <td>0</td>\n",
       "      <td>0</td>\n",
       "      <td>0</td>\n",
       "      <td>0</td>\n",
       "      <td>0</td>\n",
       "      <td>1</td>\n",
       "      <td>0</td>\n",
       "      <td>0</td>\n",
       "      <td>1.0</td>\n",
       "      <td>1.00</td>\n",
       "    </tr>\n",
       "    <tr>\n",
       "      <th>2</th>\n",
       "      <td>5100</td>\n",
       "      <td>1300.0</td>\n",
       "      <td>2.0</td>\n",
       "      <td>1.0</td>\n",
       "      <td>1</td>\n",
       "      <td>0</td>\n",
       "      <td>0</td>\n",
       "      <td>0</td>\n",
       "      <td>0</td>\n",
       "      <td>0</td>\n",
       "      <td>0</td>\n",
       "      <td>0</td>\n",
       "      <td>0</td>\n",
       "      <td>0</td>\n",
       "      <td>0</td>\n",
       "      <td>1</td>\n",
       "      <td>0</td>\n",
       "      <td>0</td>\n",
       "      <td>4.0</td>\n",
       "      <td>1.00</td>\n",
       "    </tr>\n",
       "    <tr>\n",
       "      <th>3</th>\n",
       "      <td>9000</td>\n",
       "      <td>3500.0</td>\n",
       "      <td>3.0</td>\n",
       "      <td>2.5</td>\n",
       "      <td>1</td>\n",
       "      <td>0</td>\n",
       "      <td>0</td>\n",
       "      <td>1</td>\n",
       "      <td>0</td>\n",
       "      <td>0</td>\n",
       "      <td>0</td>\n",
       "      <td>0</td>\n",
       "      <td>0</td>\n",
       "      <td>0</td>\n",
       "      <td>0</td>\n",
       "      <td>1</td>\n",
       "      <td>0</td>\n",
       "      <td>0</td>\n",
       "      <td>9.0</td>\n",
       "      <td>6.25</td>\n",
       "    </tr>\n",
       "    <tr>\n",
       "      <th>4</th>\n",
       "      <td>3100</td>\n",
       "      <td>561.0</td>\n",
       "      <td>1.0</td>\n",
       "      <td>1.0</td>\n",
       "      <td>0</td>\n",
       "      <td>0</td>\n",
       "      <td>0</td>\n",
       "      <td>0</td>\n",
       "      <td>0</td>\n",
       "      <td>0</td>\n",
       "      <td>0</td>\n",
       "      <td>0</td>\n",
       "      <td>0</td>\n",
       "      <td>0</td>\n",
       "      <td>0</td>\n",
       "      <td>1</td>\n",
       "      <td>0</td>\n",
       "      <td>0</td>\n",
       "      <td>1.0</td>\n",
       "      <td>1.00</td>\n",
       "    </tr>\n",
       "  </tbody>\n",
       "</table>\n",
       "</div>"
      ],
      "text/plain": [
       "   price    sqft  beds  bath  laundry_(a) in-unit  laundry_(b) on-site  \\\n",
       "0   6800  1600.0   2.0   2.0                    1                    0   \n",
       "1   3500   550.0   1.0   1.0                    1                    0   \n",
       "2   5100  1300.0   2.0   1.0                    1                    0   \n",
       "3   9000  3500.0   3.0   2.5                    1                    0   \n",
       "4   3100   561.0   1.0   1.0                    0                    0   \n",
       "\n",
       "   parking_(a) valet  parking_(b) protected  parking_(c) off-street  \\\n",
       "0                  0                      1                       0   \n",
       "1                  0                      1                       0   \n",
       "2                  0                      0                       0   \n",
       "3                  0                      1                       0   \n",
       "4                  0                      0                       0   \n",
       "\n",
       "   hood_district_1  hood_district_2  hood_district_3  hood_district_4  \\\n",
       "0                0                0                0                0   \n",
       "1                0                0                0                0   \n",
       "2                0                0                0                0   \n",
       "3                0                0                0                0   \n",
       "4                0                0                0                0   \n",
       "\n",
       "   hood_district_5  hood_district_6  hood_district_7  hood_district_8  \\\n",
       "0                0                0                1                0   \n",
       "1                0                0                1                0   \n",
       "2                0                0                1                0   \n",
       "3                0                0                1                0   \n",
       "4                0                0                1                0   \n",
       "\n",
       "   hood_district_9  beds^2  bath^2  \n",
       "0                0     4.0    4.00  \n",
       "1                0     1.0    1.00  \n",
       "2                0     4.0    1.00  \n",
       "3                0     9.0    6.25  \n",
       "4                0     1.0    1.00  "
      ]
     },
     "execution_count": 8,
     "metadata": {},
     "output_type": "execute_result"
    }
   ],
   "source": [
    "sf.head()"
   ]
  },
  {
   "cell_type": "markdown",
   "metadata": {
    "heading_collapsed": true
   },
   "source": [
    "## Function to evaluate alphas"
   ]
  },
  {
   "cell_type": "code",
   "execution_count": 18,
   "metadata": {
    "ExecuteTime": {
     "end_time": "2020-10-06T22:45:25.257727Z",
     "start_time": "2020-10-06T22:45:25.247716Z"
    },
    "hidden": true
   },
   "outputs": [],
   "source": [
    "def find_best_alpha(rando_state_list, alphavec, X, y, model_type):\n",
    "    '''\n",
    "    Function to evalaute alphas at different random states for lasso or ridge models\n",
    "    \n",
    "    Inputs:  * list of random states\n",
    "             * vector of possible alphas to evaluate\n",
    "             * X - independent variables\n",
    "             * y - target variable\n",
    "             * model type: 'ridge' or 'lasso'\n",
    "             \n",
    "    Returns: For each random state\n",
    "                * Best alpha for the given random state\n",
    "                * Trains model using best alpha and returns: \n",
    "                    * Training r^2 value\n",
    "                    * Validation r^2 value\n",
    "                    * Training/Validation r^2 ratio\n",
    "    '''\n",
    "    \n",
    "    train_scores = []\n",
    "    test_scores = []\n",
    "    alphas = []\n",
    "    rmse_list = []\n",
    "    \n",
    "    print(\"Model Type: \", model_type)\n",
    "    print(\"Alpha evaluation in progress...\\n\")    \n",
    "    \n",
    "    for r_state in rando_state_list:\n",
    "        \n",
    "        X, X_test, y, y_test = train_test_split(X, y, test_size=.2, random_state=r_state)\n",
    "        \n",
    "        # Scalilng features\n",
    "        scaler = StandardScaler()\n",
    "\n",
    "        X_train_scaled = scaler.fit_transform(X.values)\n",
    "        X_test_scaled = scaler.transform(X_test.values)   \n",
    "            \n",
    "        \n",
    "        if model_type == 'lasso':\n",
    "        \n",
    "            # Lasso Model Evaluation\n",
    "            model = LassoCV(alphas = alphavec, cv=3)\n",
    "            model.fit(X_train_scaled, y)\n",
    "            \n",
    "            # Find best alpha \n",
    "            best_alpha = model.alpha_\n",
    "        \n",
    "            # Fit Model\n",
    "            model = Lasso(alpha=best_alpha)\n",
    "\n",
    "            model.fit(X_train_scaled, y)\n",
    "            train_score = model.score(X_train_scaled, y)\n",
    "            test_score = model.score(X_test_scaled, y_test)\n",
    "            \n",
    "            \n",
    "        elif model_type == 'ridge':\n",
    "            \n",
    "            # Ridge Model evaluation\n",
    "            # Lasso Model Evaluation\n",
    "            model = RidgeCV(alphas = alphavec, cv=3)\n",
    "            model.fit(X_train_scaled, y)\n",
    "            \n",
    "            # Find best alpha \n",
    "            best_alpha = model.alpha_\n",
    "        \n",
    "            # Fit Model\n",
    "            model = Ridge(alpha=best_alpha)\n",
    "\n",
    "            model.fit(X_train_scaled, y)\n",
    "            train_score = model.score(X_train_scaled, y)\n",
    "            test_score = model.score(X_test_scaled, y_test)\n",
    "            \n",
    "        else:\n",
    "            print(\"~~~ No Other Models Supported ~~~\")\n",
    "            break\n",
    "        \n",
    "        \n",
    "        # Add scores & alphas to list\n",
    "        train_scores.append(train_score)\n",
    "        test_scores.append(test_score)\n",
    "        alphas.append(best_alpha)\n",
    "        \n",
    "        rmse = mean_squared_error(y_test, model.predict(X_test_scaled), squared=False)\n",
    "        rmse_list.append(rmse)\n",
    "        \n",
    "        print(\"Random State: \", r_state)\n",
    "        print(\"~~~~~~~~~~~~~~~~~~\")\n",
    "        print(\"Best Alpha: \", best_alpha)\n",
    "        print(f'Lasso Regression train R^2: {train_score:.5f}')\n",
    "        print(f'Lasso Regression val R^2: {test_score:.5f}')\n",
    "        print(\"\")\n",
    "        print(f'Train/Val R^2 Ratio: {train_score/test_score: .5f}')\n",
    "        print(\"\")\n",
    "        print(\"RMSE : \", rmse)\n",
    "        print(\"~~~~~~~~~~~~~~~~~~~~~~~~~~~~~~~~~~~\")\n",
    "        print(\"\")\n",
    "        \n",
    "    print(\"Evaluation complete.\\n\")\n",
    "    print(\"Summary\\n\")\n",
    "    \n",
    "    # Alphas: \n",
    "    print('Alphas: ', alphas)\n",
    "    print(f'Avg alpha: {np.mean(alphas):.5f} +- {np.std(alphas):.5f}')\n",
    "    print(\"\")\n",
    "    \n",
    "    # Scores: \n",
    "    print(f'Mean training r^2: {np.mean(train_scores):.5f} +- {np.std(train_scores):.5f}')\n",
    "    print(f'Mean test r^2: {np.mean(test_scores):.5f} +- {np.std(test_scores):.5f}')\n",
    "    print(f'Avg train/test r^2 ratio: {(np.mean(train_scores)/np.mean(test_scores)):.5f}')\n",
    "    print(\"\")\n",
    "    print(f'Avg RMSE: {np.mean(rmse_list):.5f}')\n",
    "    "
   ]
  },
  {
   "cell_type": "markdown",
   "metadata": {},
   "source": [
    "## Model evaluations"
   ]
  },
  {
   "cell_type": "code",
   "execution_count": 11,
   "metadata": {
    "ExecuteTime": {
     "end_time": "2020-10-06T22:42:37.497084Z",
     "start_time": "2020-10-06T22:42:37.493161Z"
    }
   },
   "outputs": [],
   "source": [
    "X, y = sf.drop('price',axis=1), sf['price']"
   ]
  },
  {
   "cell_type": "code",
   "execution_count": 23,
   "metadata": {
    "ExecuteTime": {
     "end_time": "2020-10-06T22:47:02.602768Z",
     "start_time": "2020-10-06T22:47:02.599024Z"
    }
   },
   "outputs": [
    {
     "data": {
      "text/plain": [
       "[1, 43, 85, 127, 169, 211, 253, 295, 337, 379, 421, 463, 505, 547, 589]"
      ]
     },
     "execution_count": 23,
     "metadata": {},
     "output_type": "execute_result"
    }
   ],
   "source": [
    "rando_states = list(range(1, 600, 42))\n",
    "rando_states"
   ]
  },
  {
   "cell_type": "markdown",
   "metadata": {},
   "source": [
    "### Ridge"
   ]
  },
  {
   "cell_type": "code",
   "execution_count": 13,
   "metadata": {
    "ExecuteTime": {
     "end_time": "2020-10-06T22:42:46.068039Z",
     "start_time": "2020-10-06T22:42:46.065657Z"
    }
   },
   "outputs": [],
   "source": [
    "alphavec = 10**np.linspace(-2,2,500)"
   ]
  },
  {
   "cell_type": "code",
   "execution_count": 19,
   "metadata": {
    "ExecuteTime": {
     "end_time": "2020-10-06T22:45:46.476535Z",
     "start_time": "2020-10-06T22:45:28.647106Z"
    }
   },
   "outputs": [
    {
     "name": "stdout",
     "output_type": "stream",
     "text": [
      "Model Type:  ridge\n",
      "Alpha evaluation in progress...\n",
      "\n",
      "Random State:  1\n",
      "~~~~~~~~~~~~~~~~~~\n",
      "Best Alpha:  10.916317341936148\n",
      "Lasso Regression train R^2: 0.77470\n",
      "Lasso Regression val R^2: 0.78648\n",
      "\n",
      "Train/Val R^2 Ratio:  0.98503\n",
      "\n",
      "RMSE :  733.392495152199\n",
      "~~~~~~~~~~~~~~~~~~~~~~~~~~~~~~~~~~~\n",
      "\n",
      "Random State:  43\n",
      "~~~~~~~~~~~~~~~~~~\n",
      "Best Alpha:  17.968383907677193\n",
      "Lasso Regression train R^2: 0.76152\n",
      "Lasso Regression val R^2: 0.79259\n",
      "\n",
      "Train/Val R^2 Ratio:  0.96080\n",
      "\n",
      "RMSE :  723.509671056913\n",
      "~~~~~~~~~~~~~~~~~~~~~~~~~~~~~~~~~~~\n",
      "\n",
      "Random State:  85\n",
      "~~~~~~~~~~~~~~~~~~\n",
      "Best Alpha:  0.01\n",
      "Lasso Regression train R^2: 0.79704\n",
      "Lasso Regression val R^2: 0.66750\n",
      "\n",
      "Train/Val R^2 Ratio:  1.19406\n",
      "\n",
      "RMSE :  1117.0973395727324\n",
      "~~~~~~~~~~~~~~~~~~~~~~~~~~~~~~~~~~~\n",
      "\n",
      "Random State:  127\n",
      "~~~~~~~~~~~~~~~~~~\n",
      "Best Alpha:  10.916317341936148\n",
      "Lasso Regression train R^2: 0.80421\n",
      "Lasso Regression val R^2: 0.74619\n",
      "\n",
      "Train/Val R^2 Ratio:  1.07775\n",
      "\n",
      "RMSE :  740.3069464490119\n",
      "~~~~~~~~~~~~~~~~~~~~~~~~~~~~~~~~~~~\n",
      "\n",
      "Random State:  169\n",
      "~~~~~~~~~~~~~~~~~~\n",
      "Best Alpha:  0.6977299649665535\n",
      "Lasso Regression train R^2: 0.81329\n",
      "Lasso Regression val R^2: 0.75734\n",
      "\n",
      "Train/Val R^2 Ratio:  1.07388\n",
      "\n",
      "RMSE :  668.17713328917\n",
      "~~~~~~~~~~~~~~~~~~~~~~~~~~~~~~~~~~~\n",
      "\n",
      "Random State:  211\n",
      "~~~~~~~~~~~~~~~~~~\n",
      "Best Alpha:  16.08469483265355\n",
      "Lasso Regression train R^2: 0.78322\n",
      "Lasso Regression val R^2: 0.82868\n",
      "\n",
      "Train/Val R^2 Ratio:  0.94515\n",
      "\n",
      "RMSE :  765.9546971469927\n",
      "~~~~~~~~~~~~~~~~~~~~~~~~~~~~~~~~~~~\n",
      "\n",
      "Random State:  253\n",
      "~~~~~~~~~~~~~~~~~~\n",
      "Best Alpha:  8.747496301554415\n",
      "Lasso Regression train R^2: 0.79238\n",
      "Lasso Regression val R^2: 0.72005\n",
      "\n",
      "Train/Val R^2 Ratio:  1.10046\n",
      "\n",
      "RMSE :  530.2161212562575\n",
      "~~~~~~~~~~~~~~~~~~~~~~~~~~~~~~~~~~~\n",
      "\n",
      "Random State:  295\n",
      "~~~~~~~~~~~~~~~~~~\n",
      "Best Alpha:  8.276289456246344\n",
      "Lasso Regression train R^2: 0.80944\n",
      "Lasso Regression val R^2: 0.69234\n",
      "\n",
      "Train/Val R^2 Ratio:  1.16913\n",
      "\n",
      "RMSE :  729.2487804763156\n",
      "~~~~~~~~~~~~~~~~~~~~~~~~~~~~~~~~~~~\n",
      "\n",
      "Random State:  337\n",
      "~~~~~~~~~~~~~~~~~~\n",
      "Best Alpha:  6.274732129711575\n",
      "Lasso Regression train R^2: 0.79276\n",
      "Lasso Regression val R^2: 0.80334\n",
      "\n",
      "Train/Val R^2 Ratio:  0.98683\n",
      "\n",
      "RMSE :  635.6160162674132\n",
      "~~~~~~~~~~~~~~~~~~~~~~~~~~~~~~~~~~~\n",
      "\n",
      "Random State:  379\n",
      "~~~~~~~~~~~~~~~~~~\n",
      "Best Alpha:  12.19473436696737\n",
      "Lasso Regression train R^2: 0.79975\n",
      "Lasso Regression val R^2: 0.67531\n",
      "\n",
      "Train/Val R^2 Ratio:  1.18426\n",
      "\n",
      "RMSE :  593.0219900724403\n",
      "~~~~~~~~~~~~~~~~~~~~~~~~~~~~~~~~~~~\n",
      "\n",
      "Evaluation complete.\n",
      "\n",
      "Summary\n",
      "\n",
      "Alphas:  [10.916317341936148, 17.968383907677193, 0.01, 10.916317341936148, 0.6977299649665535, 16.08469483265355, 8.747496301554415, 8.276289456246344, 6.274732129711575, 12.19473436696737]\n",
      "Avg alpha: 9.20867 +- 5.52723\n",
      "\n",
      "Mean training r^2: 0.79283 +- 0.01514\n",
      "Mean test r^2: 0.74698 +- 0.05363\n",
      "Avg train/test r^2 ratio: 1.06138\n",
      "\n",
      "Avg RMSE: 723.65412\n"
     ]
    }
   ],
   "source": [
    "find_best_alpha(rando_states, alphavec, X, y, model_type='ridge')"
   ]
  },
  {
   "cell_type": "markdown",
   "metadata": {},
   "source": [
    "### Lasso"
   ]
  },
  {
   "cell_type": "code",
   "execution_count": 20,
   "metadata": {
    "ExecuteTime": {
     "end_time": "2020-10-06T22:46:16.589234Z",
     "start_time": "2020-10-06T22:46:16.586820Z"
    }
   },
   "outputs": [],
   "source": [
    "alphavec = 10**np.linspace(-2,2,1000)"
   ]
  },
  {
   "cell_type": "code",
   "execution_count": 21,
   "metadata": {
    "ExecuteTime": {
     "end_time": "2020-10-06T22:46:21.496864Z",
     "start_time": "2020-10-06T22:46:18.126927Z"
    }
   },
   "outputs": [
    {
     "name": "stdout",
     "output_type": "stream",
     "text": [
      "Model Type:  lasso\n",
      "Alpha evaluation in progress...\n",
      "\n",
      "Random State:  1\n",
      "~~~~~~~~~~~~~~~~~~\n",
      "Best Alpha:  6.064329395408062\n",
      "Lasso Regression train R^2: 0.77385\n",
      "Lasso Regression val R^2: 0.78650\n",
      "\n",
      "Train/Val R^2 Ratio:  0.98393\n",
      "\n",
      "RMSE :  733.3619223282626\n",
      "~~~~~~~~~~~~~~~~~~~~~~~~~~~~~~~~~~~\n",
      "\n",
      "Random State:  43\n",
      "~~~~~~~~~~~~~~~~~~\n",
      "Best Alpha:  13.27770829355429\n",
      "Lasso Regression train R^2: 0.75355\n",
      "Lasso Regression val R^2: 0.78465\n",
      "\n",
      "Train/Val R^2 Ratio:  0.96036\n",
      "\n",
      "RMSE :  737.2347085632913\n",
      "~~~~~~~~~~~~~~~~~~~~~~~~~~~~~~~~~~~\n",
      "\n",
      "Random State:  85\n",
      "~~~~~~~~~~~~~~~~~~\n",
      "Best Alpha:  0.01\n",
      "Lasso Regression train R^2: 0.79704\n",
      "Lasso Regression val R^2: 0.66748\n",
      "\n",
      "Train/Val R^2 Ratio:  1.19411\n",
      "\n",
      "RMSE :  1117.1391010094062\n",
      "~~~~~~~~~~~~~~~~~~~~~~~~~~~~~~~~~~~\n",
      "\n",
      "Random State:  127\n",
      "~~~~~~~~~~~~~~~~~~\n",
      "Best Alpha:  7.850456200204509\n",
      "Lasso Regression train R^2: 0.80201\n",
      "Lasso Regression val R^2: 0.73964\n",
      "\n",
      "Train/Val R^2 Ratio:  1.08432\n",
      "\n",
      "RMSE :  749.7943698903985\n",
      "~~~~~~~~~~~~~~~~~~~~~~~~~~~~~~~~~~~\n",
      "\n",
      "Random State:  169\n",
      "~~~~~~~~~~~~~~~~~~\n",
      "Best Alpha:  0.01\n",
      "Lasso Regression train R^2: 0.81338\n",
      "Lasso Regression val R^2: 0.75549\n",
      "\n",
      "Train/Val R^2 Ratio:  1.07663\n",
      "\n",
      "RMSE :  670.7248158607861\n",
      "~~~~~~~~~~~~~~~~~~~~~~~~~~~~~~~~~~~\n",
      "\n",
      "Random State:  211\n",
      "~~~~~~~~~~~~~~~~~~\n",
      "Best Alpha:  13.400688963639507\n",
      "Lasso Regression train R^2: 0.78285\n",
      "Lasso Regression val R^2: 0.81272\n",
      "\n",
      "Train/Val R^2 Ratio:  0.96325\n",
      "\n",
      "RMSE :  800.8371805218993\n",
      "~~~~~~~~~~~~~~~~~~~~~~~~~~~~~~~~~~~\n",
      "\n",
      "Random State:  253\n",
      "~~~~~~~~~~~~~~~~~~\n",
      "Best Alpha:  19.199206655932848\n",
      "Lasso Regression train R^2: 0.78767\n",
      "Lasso Regression val R^2: 0.71450\n",
      "\n",
      "Train/Val R^2 Ratio:  1.10241\n",
      "\n",
      "RMSE :  535.4431601113071\n",
      "~~~~~~~~~~~~~~~~~~~~~~~~~~~~~~~~~~~\n",
      "\n",
      "Random State:  295\n",
      "~~~~~~~~~~~~~~~~~~\n",
      "Best Alpha:  25.787628875938008\n",
      "Lasso Regression train R^2: 0.80530\n",
      "Lasso Regression val R^2: 0.70167\n",
      "\n",
      "Train/Val R^2 Ratio:  1.14768\n",
      "\n",
      "RMSE :  718.1040023061041\n",
      "~~~~~~~~~~~~~~~~~~~~~~~~~~~~~~~~~~~\n",
      "\n",
      "Random State:  337\n",
      "~~~~~~~~~~~~~~~~~~\n",
      "Best Alpha:  33.69205705980267\n",
      "Lasso Regression train R^2: 0.78291\n",
      "Lasso Regression val R^2: 0.80382\n",
      "\n",
      "Train/Val R^2 Ratio:  0.97399\n",
      "\n",
      "RMSE :  634.8347927125994\n",
      "~~~~~~~~~~~~~~~~~~~~~~~~~~~~~~~~~~~\n",
      "\n",
      "Random State:  379\n",
      "~~~~~~~~~~~~~~~~~~\n",
      "Best Alpha:  60.7832312829723\n",
      "Lasso Regression train R^2: 0.78226\n",
      "Lasso Regression val R^2: 0.62837\n",
      "\n",
      "Train/Val R^2 Ratio:  1.24490\n",
      "\n",
      "RMSE :  634.4420611042995\n",
      "~~~~~~~~~~~~~~~~~~~~~~~~~~~~~~~~~~~\n",
      "\n",
      "Evaluation complete.\n",
      "\n",
      "Summary\n",
      "\n",
      "Alphas:  [6.064329395408062, 13.27770829355429, 0.01, 7.850456200204509, 0.01, 13.400688963639507, 19.199206655932848, 25.787628875938008, 33.69205705980267, 60.7832312829723]\n",
      "Avg alpha: 18.00753 +- 17.53550\n",
      "\n",
      "Mean training r^2: 0.78808 +- 0.01641\n",
      "Mean test r^2: 0.73948 +- 0.05796\n",
      "Avg train/test r^2 ratio: 1.06572\n",
      "\n",
      "Avg RMSE: 733.19161\n"
     ]
    }
   ],
   "source": [
    "find_best_alpha(rando_states, alphavec, X, y, model_type='lasso')"
   ]
  }
 ],
 "metadata": {
  "kernelspec": {
   "display_name": "Python [conda env:metis] *",
   "language": "python",
   "name": "conda-env-metis-py"
  },
  "language_info": {
   "codemirror_mode": {
    "name": "ipython",
    "version": 3
   },
   "file_extension": ".py",
   "mimetype": "text/x-python",
   "name": "python",
   "nbconvert_exporter": "python",
   "pygments_lexer": "ipython3",
   "version": "3.8.5"
  },
  "toc": {
   "base_numbering": 1,
   "nav_menu": {},
   "number_sections": true,
   "sideBar": true,
   "skip_h1_title": false,
   "title_cell": "Table of Contents",
   "title_sidebar": "Contents",
   "toc_cell": false,
   "toc_position": {
    "height": "calc(100% - 180px)",
    "left": "10px",
    "top": "150px",
    "width": "276px"
   },
   "toc_section_display": true,
   "toc_window_display": true
  },
  "varInspector": {
   "cols": {
    "lenName": 16,
    "lenType": 16,
    "lenVar": 40
   },
   "kernels_config": {
    "python": {
     "delete_cmd_postfix": "",
     "delete_cmd_prefix": "del ",
     "library": "var_list.py",
     "varRefreshCmd": "print(var_dic_list())"
    },
    "r": {
     "delete_cmd_postfix": ") ",
     "delete_cmd_prefix": "rm(",
     "library": "var_list.r",
     "varRefreshCmd": "cat(var_dic_list()) "
    }
   },
   "types_to_exclude": [
    "module",
    "function",
    "builtin_function_or_method",
    "instance",
    "_Feature"
   ],
   "window_display": false
  }
 },
 "nbformat": 4,
 "nbformat_minor": 4
}
