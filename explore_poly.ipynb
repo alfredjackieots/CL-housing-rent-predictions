{
 "cells": [
  {
   "cell_type": "markdown",
   "metadata": {},
   "source": [
    "# Exploring Polynomial Features with Regularization"
   ]
  },
  {
   "cell_type": "code",
   "execution_count": 1,
   "metadata": {
    "ExecuteTime": {
     "end_time": "2020-10-08T22:20:17.860442Z",
     "start_time": "2020-10-08T22:20:15.800270Z"
    }
   },
   "outputs": [],
   "source": [
    "# Necessary imports\n",
    "import pandas as pd\n",
    "import numpy as np\n",
    "import seaborn as sns\n",
    "import matplotlib.pyplot as plt\n",
    "import matplotlib.pylab as plb \n",
    "%matplotlib inline\n",
    "\n",
    "import statsmodels.api as sm\n",
    "from sklearn.model_selection import train_test_split, KFold\n",
    "from sklearn.linear_model import LinearRegression, Lasso, LassoCV, Ridge, RidgeCV\n",
    "from sklearn.preprocessing import StandardScaler, PolynomialFeatures\n",
    "from sklearn.metrics import r2_score, mean_squared_error\n",
    "\n",
    "sns.set(context='notebook', style='whitegrid', font_scale=1.2)"
   ]
  },
  {
   "cell_type": "markdown",
   "metadata": {},
   "source": [
    "## Data Import & Setup"
   ]
  },
  {
   "cell_type": "code",
   "execution_count": 2,
   "metadata": {
    "ExecuteTime": {
     "end_time": "2020-10-08T22:20:17.869426Z",
     "start_time": "2020-10-08T22:20:17.862110Z"
    }
   },
   "outputs": [],
   "source": [
    "sf = pd.read_csv('data_files/sf_clean.csv')\n",
    "\n",
    "# Reformatting hood_district names\n",
    "sf['hood_district'] = sf['hood_district'].astype(int)\n",
    "sf['hood_district'] = sf['hood_district'].astype(str)"
   ]
  },
  {
   "cell_type": "code",
   "execution_count": 3,
   "metadata": {
    "ExecuteTime": {
     "end_time": "2020-10-08T22:20:17.876088Z",
     "start_time": "2020-10-08T22:20:17.871166Z"
    }
   },
   "outputs": [],
   "source": [
    "sf = sf[sf['price'] < 6000]"
   ]
  },
  {
   "cell_type": "code",
   "execution_count": 4,
   "metadata": {
    "ExecuteTime": {
     "end_time": "2020-10-08T22:20:17.883135Z",
     "start_time": "2020-10-08T22:20:17.877423Z"
    }
   },
   "outputs": [],
   "source": [
    "laundry_dict = {'(a) in-unit': 2, \n",
    "               '(b) on-site': 1,\n",
    "               '(c) no laundry': 0}\n",
    "\n",
    "sf = sf.replace({'laundry': laundry_dict})"
   ]
  },
  {
   "cell_type": "code",
   "execution_count": 5,
   "metadata": {
    "ExecuteTime": {
     "end_time": "2020-10-08T22:20:17.890024Z",
     "start_time": "2020-10-08T22:20:17.884740Z"
    }
   },
   "outputs": [],
   "source": [
    "parking_dict = {'(a) valet': 3, \n",
    "               '(b) protected': 2,\n",
    "               '(c) off-street': 1,\n",
    "               '(d) no parking': 0}\n",
    "\n",
    "sf = sf.replace({'parking': parking_dict})"
   ]
  },
  {
   "cell_type": "code",
   "execution_count": 6,
   "metadata": {
    "ExecuteTime": {
     "end_time": "2020-10-08T22:20:17.898934Z",
     "start_time": "2020-10-08T22:20:17.893151Z"
    }
   },
   "outputs": [],
   "source": [
    "pets_dict = {'(a) both': 1, \n",
    "            '(b) dogs': 1,\n",
    "            '(c) cats': 1,\n",
    "            '(d) no pets': 0}\n",
    "\n",
    "sf = sf.replace({'pets': pets_dict})"
   ]
  },
  {
   "cell_type": "code",
   "execution_count": 7,
   "metadata": {
    "ExecuteTime": {
     "end_time": "2020-10-08T22:20:17.905402Z",
     "start_time": "2020-10-08T22:20:17.901785Z"
    }
   },
   "outputs": [],
   "source": [
    "sf = sf.drop(['housing_type'], axis=1)"
   ]
  },
  {
   "cell_type": "code",
   "execution_count": 8,
   "metadata": {
    "ExecuteTime": {
     "end_time": "2020-10-08T22:20:17.918315Z",
     "start_time": "2020-10-08T22:20:17.907729Z"
    }
   },
   "outputs": [],
   "source": [
    "sf = pd.get_dummies(sf)\n",
    "sf = sf.drop(['hood_district_10'], axis=1)"
   ]
  },
  {
   "cell_type": "markdown",
   "metadata": {},
   "source": [
    "## Train / Test Split"
   ]
  },
  {
   "cell_type": "code",
   "execution_count": 9,
   "metadata": {
    "ExecuteTime": {
     "end_time": "2020-10-08T22:20:17.928250Z",
     "start_time": "2020-10-08T22:20:17.920203Z"
    }
   },
   "outputs": [],
   "source": [
    "X, y = sf.drop('price',axis=1), sf['price']\n",
    "\n",
    "# Training versus Test Data\n",
    "# hold out 20% of the data for testing\n",
    "X, X_test, y, y_test = train_test_split(X, y, test_size=.2, random_state=14)\n",
    "\n",
    "# Training versus Validation\n",
    "X_train, X_val, y_train, y_val = train_test_split(X, y, test_size=.2, random_state=3)"
   ]
  },
  {
   "cell_type": "markdown",
   "metadata": {},
   "source": [
    "## Polynomial Features Set Up"
   ]
  },
  {
   "cell_type": "code",
   "execution_count": 10,
   "metadata": {
    "ExecuteTime": {
     "end_time": "2020-10-08T22:20:17.940114Z",
     "start_time": "2020-10-08T22:20:17.929601Z"
    }
   },
   "outputs": [],
   "source": [
    "poly = PolynomialFeatures(degree=2, interaction_only=False)\n",
    "    \n",
    "X_train_poly = poly.fit_transform(X_train)\n",
    "X_val_poly = poly.transform(X_val)\n",
    "X_test_poly = poly.transform(X_test)"
   ]
  },
  {
   "cell_type": "code",
   "execution_count": 11,
   "metadata": {
    "ExecuteTime": {
     "end_time": "2020-10-08T22:20:17.947092Z",
     "start_time": "2020-10-08T22:20:17.942084Z"
    }
   },
   "outputs": [],
   "source": [
    "# Scaling for Ridge & Lasso \n",
    "scaler = StandardScaler(with_mean=False)\n",
    "\n",
    "X_train_scaled = scaler.fit_transform(X_train_poly)\n",
    "X_val_scaled = scaler.transform(X_val_poly)\n",
    "X_test_scaled = scaler.transform(X_test_poly)"
   ]
  },
  {
   "cell_type": "markdown",
   "metadata": {},
   "source": [
    "## Lasso"
   ]
  },
  {
   "cell_type": "code",
   "execution_count": 12,
   "metadata": {
    "ExecuteTime": {
     "end_time": "2020-10-08T22:20:30.273480Z",
     "start_time": "2020-10-08T22:20:17.948980Z"
    }
   },
   "outputs": [
    {
     "name": "stderr",
     "output_type": "stream",
     "text": [
      "/Users/scrapfish/opt/anaconda3/envs/metis/lib/python3.8/site-packages/sklearn/linear_model/_coordinate_descent.py:525: ConvergenceWarning: Objective did not converge. You might want to increase the number of iterations. Duality gap: 49466.19898431003, tolerance: 46401.32749748744\n",
      "  model = cd_fast.enet_coordinate_descent_gram(\n",
      "/Users/scrapfish/opt/anaconda3/envs/metis/lib/python3.8/site-packages/sklearn/linear_model/_coordinate_descent.py:525: ConvergenceWarning: Objective did not converge. You might want to increase the number of iterations. Duality gap: 46462.63229101896, tolerance: 46401.32749748744\n",
      "  model = cd_fast.enet_coordinate_descent_gram(\n",
      "/Users/scrapfish/opt/anaconda3/envs/metis/lib/python3.8/site-packages/sklearn/linear_model/_coordinate_descent.py:525: ConvergenceWarning: Objective did not converge. You might want to increase the number of iterations. Duality gap: 51864.763210743666, tolerance: 46401.32749748744\n",
      "  model = cd_fast.enet_coordinate_descent_gram(\n",
      "/Users/scrapfish/opt/anaconda3/envs/metis/lib/python3.8/site-packages/sklearn/linear_model/_coordinate_descent.py:525: ConvergenceWarning: Objective did not converge. You might want to increase the number of iterations. Duality gap: 48963.72234031558, tolerance: 46401.32749748744\n",
      "  model = cd_fast.enet_coordinate_descent_gram(\n"
     ]
    }
   ],
   "source": [
    "alphavec = 10**np.linspace(-2,1,10000)\n",
    "\n",
    "lasso_model = LassoCV(alphas=alphavec, cv=3).fit(X_train_scaled, y_train)"
   ]
  },
  {
   "cell_type": "code",
   "execution_count": 13,
   "metadata": {
    "ExecuteTime": {
     "end_time": "2020-10-08T22:20:30.282048Z",
     "start_time": "2020-10-08T22:20:30.275686Z"
    },
    "scrolled": true
   },
   "outputs": [
    {
     "data": {
      "text/plain": [
       "7.419711837099714"
      ]
     },
     "execution_count": 13,
     "metadata": {},
     "output_type": "execute_result"
    }
   ],
   "source": [
    "las_alpha = lasso_model.alpha_\n",
    "las_alpha"
   ]
  },
  {
   "cell_type": "code",
   "execution_count": 14,
   "metadata": {
    "ExecuteTime": {
     "end_time": "2020-10-08T22:20:30.301363Z",
     "start_time": "2020-10-08T22:20:30.284451Z"
    }
   },
   "outputs": [
    {
     "name": "stdout",
     "output_type": "stream",
     "text": [
      "Lasso Regression train R^2: 0.78717\n",
      "Lasso Regression val R^2: 0.81589\n",
      "\n",
      "Lasso Regression RMSE (train): 479.55261\n",
      "Lasso Regression RMSE (val): 439.69232\n"
     ]
    }
   ],
   "source": [
    "las = Lasso(alpha=las_alpha)\n",
    "\n",
    "las.fit(X_train_scaled, y_train)\n",
    "print(f'Lasso Regression train R^2: {las.score(X_train_scaled, y_train):.5f}')\n",
    "print(f'Lasso Regression val R^2: {las.score(X_val_scaled, y_val):.5f}')\n",
    "print(\"\")\n",
    "print(f'Lasso Regression RMSE (train): {mean_squared_error(y_train, las.predict(X_train_scaled), squared=False):.5f}')\n",
    "print(f'Lasso Regression RMSE (val): {mean_squared_error(y_val, las.predict(X_val_scaled), squared=False):.5f}')"
   ]
  },
  {
   "cell_type": "markdown",
   "metadata": {},
   "source": [
    "## Ridge"
   ]
  },
  {
   "cell_type": "code",
   "execution_count": 15,
   "metadata": {
    "ExecuteTime": {
     "end_time": "2020-10-08T22:20:33.786681Z",
     "start_time": "2020-10-08T22:20:30.303749Z"
    }
   },
   "outputs": [
    {
     "data": {
      "text/plain": [
       "RidgeCV(alphas=array([1.00000000e-02, 1.01862899e-02, 1.03760502e-02, 1.05693455e-02,\n",
       "       1.07662418e-02, 1.09668060e-02, 1.11711065e-02, 1.13792129e-02,\n",
       "       1.15911962e-02, 1.18071285e-02, 1.20270833e-02, 1.22511358e-02,\n",
       "       1.24793621e-02, 1.27118400e-02, 1.29486487e-02, 1.31898690e-02,\n",
       "       1.34355829e-02, 1.36858742e-02, 1.39408283e-02, 1.42005318e-02,\n",
       "       1.44650734e-02, 1.47345431e-0...\n",
       "       6.54080591e+01, 6.66265452e+01, 6.78677305e+01, 6.91320378e+01,\n",
       "       7.04198979e+01, 7.17317494e+01, 7.30680395e+01, 7.44292233e+01,\n",
       "       7.58157646e+01, 7.72281357e+01, 7.86668179e+01, 8.01323013e+01,\n",
       "       8.16250851e+01, 8.31456781e+01, 8.46945981e+01, 8.62723729e+01,\n",
       "       8.78795401e+01, 8.95166472e+01, 9.11842520e+01, 9.28829225e+01,\n",
       "       9.46132376e+01, 9.63757866e+01, 9.81711702e+01, 1.00000000e+02]),\n",
       "        cv=3)"
      ]
     },
     "execution_count": 15,
     "metadata": {},
     "output_type": "execute_result"
    }
   ],
   "source": [
    "alphavec = 10**np.linspace(-2,2,500)\n",
    "\n",
    "ridge_model = RidgeCV(alphas=alphavec, cv=3)\n",
    "ridge_model.fit(X_train_scaled, y_train)"
   ]
  },
  {
   "cell_type": "code",
   "execution_count": 16,
   "metadata": {
    "ExecuteTime": {
     "end_time": "2020-10-08T22:20:33.791887Z",
     "start_time": "2020-10-08T22:20:33.788564Z"
    }
   },
   "outputs": [
    {
     "data": {
      "text/plain": [
       "20.827506301905142"
      ]
     },
     "execution_count": 16,
     "metadata": {},
     "output_type": "execute_result"
    }
   ],
   "source": [
    "rid_alpha = ridge_model.alpha_\n",
    "rid_alpha"
   ]
  },
  {
   "cell_type": "code",
   "execution_count": 17,
   "metadata": {
    "ExecuteTime": {
     "end_time": "2020-10-08T22:20:33.803944Z",
     "start_time": "2020-10-08T22:20:33.793748Z"
    }
   },
   "outputs": [
    {
     "name": "stdout",
     "output_type": "stream",
     "text": [
      "Ridge Regression train R^2: 0.79771\n",
      "Ridge Regression val R^2: 0.82029\n",
      "\n",
      "Ridge Regression RMSE (train): 467.53412\n",
      "Ridge Regression RMSE (val): 434.40781\n"
     ]
    }
   ],
   "source": [
    "rid = Ridge(alpha=rid_alpha)\n",
    "\n",
    "rid.fit(X_train_scaled, y_train)\n",
    "print(f'Ridge Regression train R^2: {rid.score(X_train_scaled, y_train):.5f}')\n",
    "print(f'Ridge Regression val R^2: {rid.score(X_val_scaled, y_val):.5f}')\n",
    "print(\"\")\n",
    "print(f'Ridge Regression RMSE (train): {mean_squared_error(y_train, rid.predict(X_train_scaled), squared=False):.5f}')\n",
    "print(f'Ridge Regression RMSE (val): {mean_squared_error(y_val, rid.predict(X_val_scaled), squared=False):.5f}')"
   ]
  },
  {
   "cell_type": "markdown",
   "metadata": {},
   "source": [
    "## Cross Validation & Comparison"
   ]
  },
  {
   "cell_type": "code",
   "execution_count": 18,
   "metadata": {
    "ExecuteTime": {
     "end_time": "2020-10-08T22:20:33.815212Z",
     "start_time": "2020-10-08T22:20:33.812428Z"
    }
   },
   "outputs": [],
   "source": [
    "sf2 = sf.copy()"
   ]
  },
  {
   "cell_type": "code",
   "execution_count": 19,
   "metadata": {
    "ExecuteTime": {
     "end_time": "2020-10-08T22:20:33.828402Z",
     "start_time": "2020-10-08T22:20:33.821376Z"
    }
   },
   "outputs": [],
   "source": [
    "X, y = sf2.drop('price',axis=1), sf2['price']\n",
    "\n",
    "# Training versus Test Data\n",
    "# hold out 20% of the data for testing\n",
    "X, X_test, y, y_test = train_test_split(X, y, test_size=.3, random_state=7)"
   ]
  },
  {
   "cell_type": "code",
   "execution_count": 20,
   "metadata": {
    "ExecuteTime": {
     "end_time": "2020-10-08T22:20:33.887402Z",
     "start_time": "2020-10-08T22:20:33.830562Z"
    }
   },
   "outputs": [
    {
     "name": "stdout",
     "output_type": "stream",
     "text": [
      "Ridge\n",
      "Ridge mean cv r^2 (TRAIN): 0.81510 +- 0.00727\n",
      "Ridge mean cv r^2 (VAL): 0.74818 +- 0.02243\n",
      "Ridge mean RMSE (TRAIN): 443.55869 +- 0.875\n",
      "Ridge mean RMSE (VAL): 443.55869 +- 0.875\n",
      "\n",
      "Lasso\n",
      "Lasso mean cv r^2 (TRAIN): 0.80526 +- 0.00753\n",
      "Lasso mean cv r^2 (VAL): 0.74940 +- 0.02226\n",
      "Lasso mean RMSE (VAL): 455.21129 +- 1.18278\n",
      "Lasso mean RMSE (VAL): 514.62475 +- 3.08032\n"
     ]
    }
   ],
   "source": [
    "kf = KFold(n_splits=3, shuffle=True, random_state = 12)\n",
    "\n",
    "cv_rid_train_r2s, cv_las_train_r2s = [], []\n",
    "cv_rid_val_r2s, cv_las_val_r2s = [], []\n",
    "\n",
    "rid_rmses_train, las_rmses_train = [], []\n",
    "rid_rmses_val, las_rmses_val = [], []\n",
    "\n",
    "X_kf, y_kf = np.array(X), np.array(y)\n",
    "\n",
    "for train_ind, val_ind in kf.split(X, y):\n",
    "    \n",
    "    X_train, y_train = X_kf[train_ind], y_kf[train_ind]\n",
    "    X_val, y_val = X_kf[val_ind], y_kf[val_ind]\n",
    "    \n",
    "    # Set up poly features\n",
    "    poly = PolynomialFeatures(degree=2, interaction_only=False)\n",
    "    X_train_poly = poly.fit_transform(X_train)\n",
    "    X_val_poly = poly.transform(X_val)\n",
    "    \n",
    "    # Scaling for Ridge & Lasso \n",
    "    scaler = StandardScaler(with_mean=False)\n",
    "    X_train_scaled = scaler.fit_transform(X_train_poly)\n",
    "    X_val_scaled = scaler.transform(X_val_poly)\n",
    "    \n",
    "    # Lasso\n",
    "    las = Lasso(alpha=las_alpha)\n",
    "    las.fit(X_train_scaled, y_train)\n",
    "    \n",
    "    cv_las_train_r2s.append(las.score(X_train_scaled, y_train))\n",
    "    cv_las_val_r2s.append(las.score(X_val_scaled, y_val))\n",
    "    las_rmses_train.append(mean_squared_error(y_train, las.predict(X_train_scaled), squared=False))\n",
    "    las_rmses_val.append(mean_squared_error(y_val, las.predict(X_val_scaled), squared=False))\n",
    "    \n",
    "    # Ridge\n",
    "    rid = Ridge(alpha=rid_alpha)\n",
    "    rid.fit(X_train_scaled, y_train)\n",
    "    \n",
    "    cv_rid_train_r2s.append(rid.score(X_train_scaled, y_train))\n",
    "    cv_rid_val_r2s.append(rid.score(X_val_scaled, y_val))\n",
    "    rid_rmses_train.append(mean_squared_error(y_train, rid.predict(X_train_scaled), squared=False))\n",
    "    rid_rmses_val.append(mean_squared_error(y_val, rid.predict(X_val_scaled), squared=False))\n",
    "\n",
    "# Summary output\n",
    "\n",
    "print(\"Ridge\")\n",
    "print(f'Ridge mean cv r^2 (TRAIN): {np.mean(cv_rid_train_r2s):.5f} +- {np.std(cv_rid_train_r2s):.5f}')\n",
    "print(f'Ridge mean cv r^2 (VAL): {np.mean(cv_rid_val_r2s):.5f} +- {np.std(cv_rid_val_r2s):.5f}')\n",
    "print(f'Ridge mean RMSE (TRAIN): {np.mean(rid_rmses_train):.5f} +- {np.std(rid_rmses_train):.3f}')\n",
    "print(f'Ridge mean RMSE (VAL): {np.mean(rid_rmses_train):.5f} +- {np.std(rid_rmses_train):.3f}')\n",
    "print('')\n",
    "print(\"Lasso\")\n",
    "print(f'Lasso mean cv r^2 (TRAIN): {np.mean(cv_las_train_r2s):.5f} +- {np.std(cv_las_train_r2s):.5f}')\n",
    "print(f'Lasso mean cv r^2 (VAL): {np.mean(cv_las_val_r2s):.5f} +- {np.std(cv_las_val_r2s):.5f}')\n",
    "print(f'Lasso mean RMSE (VAL): {np.mean(las_rmses_train):.5f} +- {np.std(las_rmses_train):.5f}')\n",
    "print(f'Lasso mean RMSE (VAL): {np.mean(las_rmses_val):.5f} +- {np.std(las_rmses_val):.5f}')    "
   ]
  },
  {
   "cell_type": "code",
   "execution_count": 21,
   "metadata": {
    "ExecuteTime": {
     "end_time": "2020-10-08T22:20:33.898535Z",
     "start_time": "2020-10-08T22:20:33.889624Z"
    },
    "scrolled": true
   },
   "outputs": [],
   "source": [
    "rid_coefs = rid.coef_\n",
    "las_coefs = las.coef_\n",
    "\n",
    "features = sf2.columns[1:]\n",
    "\n",
    "coef_data = {'Features': poly.get_feature_names(X.columns),\n",
    "             'Ridge': rid_coefs,\n",
    "             'Lasso': las_coefs}\n",
    "\n",
    "coef_df = pd.DataFrame(coef_data)"
   ]
  },
  {
   "cell_type": "code",
   "execution_count": 22,
   "metadata": {
    "ExecuteTime": {
     "end_time": "2020-10-08T22:20:33.917928Z",
     "start_time": "2020-10-08T22:20:33.900591Z"
    }
   },
   "outputs": [
    {
     "data": {
      "text/html": [
       "<div>\n",
       "<style scoped>\n",
       "    .dataframe tbody tr th:only-of-type {\n",
       "        vertical-align: middle;\n",
       "    }\n",
       "\n",
       "    .dataframe tbody tr th {\n",
       "        vertical-align: top;\n",
       "    }\n",
       "\n",
       "    .dataframe thead th {\n",
       "        text-align: right;\n",
       "    }\n",
       "</style>\n",
       "<table border=\"1\" class=\"dataframe\">\n",
       "  <thead>\n",
       "    <tr style=\"text-align: right;\">\n",
       "      <th></th>\n",
       "      <th>Features</th>\n",
       "      <th>Ridge</th>\n",
       "      <th>Lasso</th>\n",
       "    </tr>\n",
       "  </thead>\n",
       "  <tbody>\n",
       "    <tr>\n",
       "      <th>0</th>\n",
       "      <td>1</td>\n",
       "      <td>0.000000</td>\n",
       "      <td>0.000000</td>\n",
       "    </tr>\n",
       "    <tr>\n",
       "      <th>1</th>\n",
       "      <td>sqft</td>\n",
       "      <td>274.981616</td>\n",
       "      <td>399.452185</td>\n",
       "    </tr>\n",
       "    <tr>\n",
       "      <th>2</th>\n",
       "      <td>beds</td>\n",
       "      <td>234.396914</td>\n",
       "      <td>303.966722</td>\n",
       "    </tr>\n",
       "    <tr>\n",
       "      <th>3</th>\n",
       "      <td>bath</td>\n",
       "      <td>4.329905</td>\n",
       "      <td>-0.000000</td>\n",
       "    </tr>\n",
       "    <tr>\n",
       "      <th>4</th>\n",
       "      <td>laundry</td>\n",
       "      <td>-17.783001</td>\n",
       "      <td>0.000000</td>\n",
       "    </tr>\n",
       "    <tr>\n",
       "      <th>5</th>\n",
       "      <td>pets</td>\n",
       "      <td>-22.305748</td>\n",
       "      <td>-0.000000</td>\n",
       "    </tr>\n",
       "    <tr>\n",
       "      <th>6</th>\n",
       "      <td>parking</td>\n",
       "      <td>-103.687537</td>\n",
       "      <td>-0.000000</td>\n",
       "    </tr>\n",
       "    <tr>\n",
       "      <th>7</th>\n",
       "      <td>hood_district_1</td>\n",
       "      <td>3.398162</td>\n",
       "      <td>0.000000</td>\n",
       "    </tr>\n",
       "    <tr>\n",
       "      <th>8</th>\n",
       "      <td>hood_district_2</td>\n",
       "      <td>-26.099179</td>\n",
       "      <td>-0.000000</td>\n",
       "    </tr>\n",
       "    <tr>\n",
       "      <th>9</th>\n",
       "      <td>hood_district_3</td>\n",
       "      <td>16.694825</td>\n",
       "      <td>0.000000</td>\n",
       "    </tr>\n",
       "    <tr>\n",
       "      <th>10</th>\n",
       "      <td>hood_district_4</td>\n",
       "      <td>8.272036</td>\n",
       "      <td>0.000000</td>\n",
       "    </tr>\n",
       "    <tr>\n",
       "      <th>11</th>\n",
       "      <td>hood_district_5</td>\n",
       "      <td>29.873672</td>\n",
       "      <td>28.052564</td>\n",
       "    </tr>\n",
       "    <tr>\n",
       "      <th>12</th>\n",
       "      <td>hood_district_6</td>\n",
       "      <td>-15.800086</td>\n",
       "      <td>-0.000000</td>\n",
       "    </tr>\n",
       "    <tr>\n",
       "      <th>13</th>\n",
       "      <td>hood_district_7</td>\n",
       "      <td>57.609915</td>\n",
       "      <td>60.920396</td>\n",
       "    </tr>\n",
       "    <tr>\n",
       "      <th>14</th>\n",
       "      <td>hood_district_8</td>\n",
       "      <td>-0.912656</td>\n",
       "      <td>-0.000000</td>\n",
       "    </tr>\n",
       "    <tr>\n",
       "      <th>15</th>\n",
       "      <td>hood_district_9</td>\n",
       "      <td>92.323220</td>\n",
       "      <td>126.516293</td>\n",
       "    </tr>\n",
       "    <tr>\n",
       "      <th>16</th>\n",
       "      <td>sqft^2</td>\n",
       "      <td>10.926069</td>\n",
       "      <td>-0.000000</td>\n",
       "    </tr>\n",
       "    <tr>\n",
       "      <th>17</th>\n",
       "      <td>sqft beds</td>\n",
       "      <td>-6.860642</td>\n",
       "      <td>-0.000000</td>\n",
       "    </tr>\n",
       "    <tr>\n",
       "      <th>18</th>\n",
       "      <td>sqft bath</td>\n",
       "      <td>16.650720</td>\n",
       "      <td>-0.000000</td>\n",
       "    </tr>\n",
       "    <tr>\n",
       "      <th>19</th>\n",
       "      <td>sqft laundry</td>\n",
       "      <td>75.803962</td>\n",
       "      <td>4.482956</td>\n",
       "    </tr>\n",
       "    <tr>\n",
       "      <th>20</th>\n",
       "      <td>sqft pets</td>\n",
       "      <td>101.235585</td>\n",
       "      <td>0.000000</td>\n",
       "    </tr>\n",
       "    <tr>\n",
       "      <th>21</th>\n",
       "      <td>sqft parking</td>\n",
       "      <td>74.928262</td>\n",
       "      <td>62.787584</td>\n",
       "    </tr>\n",
       "    <tr>\n",
       "      <th>22</th>\n",
       "      <td>sqft hood_district_1</td>\n",
       "      <td>69.035209</td>\n",
       "      <td>9.773159</td>\n",
       "    </tr>\n",
       "    <tr>\n",
       "      <th>23</th>\n",
       "      <td>sqft hood_district_2</td>\n",
       "      <td>36.205204</td>\n",
       "      <td>0.000000</td>\n",
       "    </tr>\n",
       "    <tr>\n",
       "      <th>24</th>\n",
       "      <td>sqft hood_district_3</td>\n",
       "      <td>-18.545953</td>\n",
       "      <td>-0.000000</td>\n",
       "    </tr>\n",
       "    <tr>\n",
       "      <th>25</th>\n",
       "      <td>sqft hood_district_4</td>\n",
       "      <td>14.054540</td>\n",
       "      <td>3.759648</td>\n",
       "    </tr>\n",
       "    <tr>\n",
       "      <th>26</th>\n",
       "      <td>sqft hood_district_5</td>\n",
       "      <td>120.586912</td>\n",
       "      <td>115.589490</td>\n",
       "    </tr>\n",
       "    <tr>\n",
       "      <th>27</th>\n",
       "      <td>sqft hood_district_6</td>\n",
       "      <td>-11.775043</td>\n",
       "      <td>-0.000000</td>\n",
       "    </tr>\n",
       "    <tr>\n",
       "      <th>28</th>\n",
       "      <td>sqft hood_district_7</td>\n",
       "      <td>56.379547</td>\n",
       "      <td>0.000000</td>\n",
       "    </tr>\n",
       "    <tr>\n",
       "      <th>29</th>\n",
       "      <td>sqft hood_district_8</td>\n",
       "      <td>205.099625</td>\n",
       "      <td>187.155738</td>\n",
       "    </tr>\n",
       "    <tr>\n",
       "      <th>30</th>\n",
       "      <td>sqft hood_district_9</td>\n",
       "      <td>32.219338</td>\n",
       "      <td>0.000000</td>\n",
       "    </tr>\n",
       "    <tr>\n",
       "      <th>31</th>\n",
       "      <td>beds^2</td>\n",
       "      <td>39.886427</td>\n",
       "      <td>0.000000</td>\n",
       "    </tr>\n",
       "    <tr>\n",
       "      <th>32</th>\n",
       "      <td>beds bath</td>\n",
       "      <td>27.715655</td>\n",
       "      <td>0.000000</td>\n",
       "    </tr>\n",
       "    <tr>\n",
       "      <th>33</th>\n",
       "      <td>beds laundry</td>\n",
       "      <td>-23.793472</td>\n",
       "      <td>0.000000</td>\n",
       "    </tr>\n",
       "    <tr>\n",
       "      <th>34</th>\n",
       "      <td>beds pets</td>\n",
       "      <td>-49.727694</td>\n",
       "      <td>-0.000000</td>\n",
       "    </tr>\n",
       "    <tr>\n",
       "      <th>35</th>\n",
       "      <td>beds parking</td>\n",
       "      <td>14.476233</td>\n",
       "      <td>0.000000</td>\n",
       "    </tr>\n",
       "    <tr>\n",
       "      <th>36</th>\n",
       "      <td>beds hood_district_1</td>\n",
       "      <td>-39.847616</td>\n",
       "      <td>-0.000000</td>\n",
       "    </tr>\n",
       "    <tr>\n",
       "      <th>37</th>\n",
       "      <td>beds hood_district_2</td>\n",
       "      <td>-7.796747</td>\n",
       "      <td>-0.000000</td>\n",
       "    </tr>\n",
       "    <tr>\n",
       "      <th>38</th>\n",
       "      <td>beds hood_district_3</td>\n",
       "      <td>36.025027</td>\n",
       "      <td>0.000000</td>\n",
       "    </tr>\n",
       "    <tr>\n",
       "      <th>39</th>\n",
       "      <td>beds hood_district_4</td>\n",
       "      <td>12.533811</td>\n",
       "      <td>0.000000</td>\n",
       "    </tr>\n",
       "    <tr>\n",
       "      <th>40</th>\n",
       "      <td>beds hood_district_5</td>\n",
       "      <td>14.532540</td>\n",
       "      <td>0.000000</td>\n",
       "    </tr>\n",
       "    <tr>\n",
       "      <th>41</th>\n",
       "      <td>beds hood_district_6</td>\n",
       "      <td>87.423901</td>\n",
       "      <td>16.699056</td>\n",
       "    </tr>\n",
       "    <tr>\n",
       "      <th>42</th>\n",
       "      <td>beds hood_district_7</td>\n",
       "      <td>21.190172</td>\n",
       "      <td>0.000000</td>\n",
       "    </tr>\n",
       "    <tr>\n",
       "      <th>43</th>\n",
       "      <td>beds hood_district_8</td>\n",
       "      <td>74.047216</td>\n",
       "      <td>0.000000</td>\n",
       "    </tr>\n",
       "    <tr>\n",
       "      <th>44</th>\n",
       "      <td>beds hood_district_9</td>\n",
       "      <td>71.876563</td>\n",
       "      <td>4.800831</td>\n",
       "    </tr>\n",
       "    <tr>\n",
       "      <th>45</th>\n",
       "      <td>bath^2</td>\n",
       "      <td>7.250555</td>\n",
       "      <td>0.000000</td>\n",
       "    </tr>\n",
       "    <tr>\n",
       "      <th>46</th>\n",
       "      <td>bath laundry</td>\n",
       "      <td>-53.930885</td>\n",
       "      <td>-0.000000</td>\n",
       "    </tr>\n",
       "    <tr>\n",
       "      <th>47</th>\n",
       "      <td>bath pets</td>\n",
       "      <td>-73.742818</td>\n",
       "      <td>-21.793240</td>\n",
       "    </tr>\n",
       "    <tr>\n",
       "      <th>48</th>\n",
       "      <td>bath parking</td>\n",
       "      <td>43.620672</td>\n",
       "      <td>0.000000</td>\n",
       "    </tr>\n",
       "    <tr>\n",
       "      <th>49</th>\n",
       "      <td>bath hood_district_1</td>\n",
       "      <td>-2.239374</td>\n",
       "      <td>0.000000</td>\n",
       "    </tr>\n",
       "  </tbody>\n",
       "</table>\n",
       "</div>"
      ],
      "text/plain": [
       "                Features       Ridge       Lasso\n",
       "0                      1    0.000000    0.000000\n",
       "1                   sqft  274.981616  399.452185\n",
       "2                   beds  234.396914  303.966722\n",
       "3                   bath    4.329905   -0.000000\n",
       "4                laundry  -17.783001    0.000000\n",
       "5                   pets  -22.305748   -0.000000\n",
       "6                parking -103.687537   -0.000000\n",
       "7        hood_district_1    3.398162    0.000000\n",
       "8        hood_district_2  -26.099179   -0.000000\n",
       "9        hood_district_3   16.694825    0.000000\n",
       "10       hood_district_4    8.272036    0.000000\n",
       "11       hood_district_5   29.873672   28.052564\n",
       "12       hood_district_6  -15.800086   -0.000000\n",
       "13       hood_district_7   57.609915   60.920396\n",
       "14       hood_district_8   -0.912656   -0.000000\n",
       "15       hood_district_9   92.323220  126.516293\n",
       "16                sqft^2   10.926069   -0.000000\n",
       "17             sqft beds   -6.860642   -0.000000\n",
       "18             sqft bath   16.650720   -0.000000\n",
       "19          sqft laundry   75.803962    4.482956\n",
       "20             sqft pets  101.235585    0.000000\n",
       "21          sqft parking   74.928262   62.787584\n",
       "22  sqft hood_district_1   69.035209    9.773159\n",
       "23  sqft hood_district_2   36.205204    0.000000\n",
       "24  sqft hood_district_3  -18.545953   -0.000000\n",
       "25  sqft hood_district_4   14.054540    3.759648\n",
       "26  sqft hood_district_5  120.586912  115.589490\n",
       "27  sqft hood_district_6  -11.775043   -0.000000\n",
       "28  sqft hood_district_7   56.379547    0.000000\n",
       "29  sqft hood_district_8  205.099625  187.155738\n",
       "30  sqft hood_district_9   32.219338    0.000000\n",
       "31                beds^2   39.886427    0.000000\n",
       "32             beds bath   27.715655    0.000000\n",
       "33          beds laundry  -23.793472    0.000000\n",
       "34             beds pets  -49.727694   -0.000000\n",
       "35          beds parking   14.476233    0.000000\n",
       "36  beds hood_district_1  -39.847616   -0.000000\n",
       "37  beds hood_district_2   -7.796747   -0.000000\n",
       "38  beds hood_district_3   36.025027    0.000000\n",
       "39  beds hood_district_4   12.533811    0.000000\n",
       "40  beds hood_district_5   14.532540    0.000000\n",
       "41  beds hood_district_6   87.423901   16.699056\n",
       "42  beds hood_district_7   21.190172    0.000000\n",
       "43  beds hood_district_8   74.047216    0.000000\n",
       "44  beds hood_district_9   71.876563    4.800831\n",
       "45                bath^2    7.250555    0.000000\n",
       "46          bath laundry  -53.930885   -0.000000\n",
       "47             bath pets  -73.742818  -21.793240\n",
       "48          bath parking   43.620672    0.000000\n",
       "49  bath hood_district_1   -2.239374    0.000000"
      ]
     },
     "execution_count": 22,
     "metadata": {},
     "output_type": "execute_result"
    }
   ],
   "source": [
    "coef_df[:50]"
   ]
  },
  {
   "cell_type": "code",
   "execution_count": 23,
   "metadata": {
    "ExecuteTime": {
     "end_time": "2020-10-08T22:20:33.936497Z",
     "start_time": "2020-10-08T22:20:33.920237Z"
    }
   },
   "outputs": [
    {
     "data": {
      "text/html": [
       "<div>\n",
       "<style scoped>\n",
       "    .dataframe tbody tr th:only-of-type {\n",
       "        vertical-align: middle;\n",
       "    }\n",
       "\n",
       "    .dataframe tbody tr th {\n",
       "        vertical-align: top;\n",
       "    }\n",
       "\n",
       "    .dataframe thead th {\n",
       "        text-align: right;\n",
       "    }\n",
       "</style>\n",
       "<table border=\"1\" class=\"dataframe\">\n",
       "  <thead>\n",
       "    <tr style=\"text-align: right;\">\n",
       "      <th></th>\n",
       "      <th>Features</th>\n",
       "      <th>Ridge</th>\n",
       "      <th>Lasso</th>\n",
       "    </tr>\n",
       "  </thead>\n",
       "  <tbody>\n",
       "    <tr>\n",
       "      <th>50</th>\n",
       "      <td>bath hood_district_2</td>\n",
       "      <td>67.733069</td>\n",
       "      <td>38.524598</td>\n",
       "    </tr>\n",
       "    <tr>\n",
       "      <th>51</th>\n",
       "      <td>bath hood_district_3</td>\n",
       "      <td>-34.516222</td>\n",
       "      <td>-0.000000</td>\n",
       "    </tr>\n",
       "    <tr>\n",
       "      <th>52</th>\n",
       "      <td>bath hood_district_4</td>\n",
       "      <td>12.805726</td>\n",
       "      <td>33.493647</td>\n",
       "    </tr>\n",
       "    <tr>\n",
       "      <th>53</th>\n",
       "      <td>bath hood_district_5</td>\n",
       "      <td>17.086417</td>\n",
       "      <td>0.000000</td>\n",
       "    </tr>\n",
       "    <tr>\n",
       "      <th>54</th>\n",
       "      <td>bath hood_district_6</td>\n",
       "      <td>170.759058</td>\n",
       "      <td>184.989860</td>\n",
       "    </tr>\n",
       "    <tr>\n",
       "      <th>55</th>\n",
       "      <td>bath hood_district_7</td>\n",
       "      <td>-10.103349</td>\n",
       "      <td>0.000000</td>\n",
       "    </tr>\n",
       "    <tr>\n",
       "      <th>56</th>\n",
       "      <td>bath hood_district_8</td>\n",
       "      <td>-55.932961</td>\n",
       "      <td>-11.813791</td>\n",
       "    </tr>\n",
       "    <tr>\n",
       "      <th>57</th>\n",
       "      <td>bath hood_district_9</td>\n",
       "      <td>58.558187</td>\n",
       "      <td>69.721282</td>\n",
       "    </tr>\n",
       "    <tr>\n",
       "      <th>58</th>\n",
       "      <td>laundry^2</td>\n",
       "      <td>31.155797</td>\n",
       "      <td>37.063897</td>\n",
       "    </tr>\n",
       "    <tr>\n",
       "      <th>59</th>\n",
       "      <td>laundry pets</td>\n",
       "      <td>56.513645</td>\n",
       "      <td>25.596798</td>\n",
       "    </tr>\n",
       "    <tr>\n",
       "      <th>60</th>\n",
       "      <td>laundry parking</td>\n",
       "      <td>77.783628</td>\n",
       "      <td>90.604594</td>\n",
       "    </tr>\n",
       "    <tr>\n",
       "      <th>61</th>\n",
       "      <td>laundry hood_district_1</td>\n",
       "      <td>28.281838</td>\n",
       "      <td>14.600508</td>\n",
       "    </tr>\n",
       "    <tr>\n",
       "      <th>62</th>\n",
       "      <td>laundry hood_district_2</td>\n",
       "      <td>19.862396</td>\n",
       "      <td>0.000000</td>\n",
       "    </tr>\n",
       "    <tr>\n",
       "      <th>63</th>\n",
       "      <td>laundry hood_district_3</td>\n",
       "      <td>-14.806702</td>\n",
       "      <td>-13.671102</td>\n",
       "    </tr>\n",
       "    <tr>\n",
       "      <th>64</th>\n",
       "      <td>laundry hood_district_4</td>\n",
       "      <td>8.272036</td>\n",
       "      <td>0.000000</td>\n",
       "    </tr>\n",
       "    <tr>\n",
       "      <th>65</th>\n",
       "      <td>laundry hood_district_5</td>\n",
       "      <td>56.105194</td>\n",
       "      <td>50.549178</td>\n",
       "    </tr>\n",
       "    <tr>\n",
       "      <th>66</th>\n",
       "      <td>laundry hood_district_6</td>\n",
       "      <td>28.918306</td>\n",
       "      <td>0.000000</td>\n",
       "    </tr>\n",
       "    <tr>\n",
       "      <th>67</th>\n",
       "      <td>laundry hood_district_7</td>\n",
       "      <td>111.036901</td>\n",
       "      <td>110.226169</td>\n",
       "    </tr>\n",
       "    <tr>\n",
       "      <th>68</th>\n",
       "      <td>laundry hood_district_8</td>\n",
       "      <td>62.911917</td>\n",
       "      <td>13.844497</td>\n",
       "    </tr>\n",
       "    <tr>\n",
       "      <th>69</th>\n",
       "      <td>laundry hood_district_9</td>\n",
       "      <td>52.782063</td>\n",
       "      <td>5.314505</td>\n",
       "    </tr>\n",
       "    <tr>\n",
       "      <th>70</th>\n",
       "      <td>pets^2</td>\n",
       "      <td>-22.305748</td>\n",
       "      <td>-0.000000</td>\n",
       "    </tr>\n",
       "    <tr>\n",
       "      <th>71</th>\n",
       "      <td>pets parking</td>\n",
       "      <td>14.701233</td>\n",
       "      <td>0.000000</td>\n",
       "    </tr>\n",
       "    <tr>\n",
       "      <th>72</th>\n",
       "      <td>pets hood_district_1</td>\n",
       "      <td>11.125337</td>\n",
       "      <td>2.176150</td>\n",
       "    </tr>\n",
       "    <tr>\n",
       "      <th>73</th>\n",
       "      <td>pets hood_district_2</td>\n",
       "      <td>34.504507</td>\n",
       "      <td>24.112049</td>\n",
       "    </tr>\n",
       "    <tr>\n",
       "      <th>74</th>\n",
       "      <td>pets hood_district_3</td>\n",
       "      <td>58.614834</td>\n",
       "      <td>31.847318</td>\n",
       "    </tr>\n",
       "    <tr>\n",
       "      <th>75</th>\n",
       "      <td>pets hood_district_4</td>\n",
       "      <td>-7.983836</td>\n",
       "      <td>-0.000000</td>\n",
       "    </tr>\n",
       "    <tr>\n",
       "      <th>76</th>\n",
       "      <td>pets hood_district_5</td>\n",
       "      <td>40.513493</td>\n",
       "      <td>29.041640</td>\n",
       "    </tr>\n",
       "    <tr>\n",
       "      <th>77</th>\n",
       "      <td>pets hood_district_6</td>\n",
       "      <td>36.993379</td>\n",
       "      <td>11.454226</td>\n",
       "    </tr>\n",
       "    <tr>\n",
       "      <th>78</th>\n",
       "      <td>pets hood_district_7</td>\n",
       "      <td>25.253374</td>\n",
       "      <td>18.660271</td>\n",
       "    </tr>\n",
       "    <tr>\n",
       "      <th>79</th>\n",
       "      <td>pets hood_district_8</td>\n",
       "      <td>0.841907</td>\n",
       "      <td>-0.000000</td>\n",
       "    </tr>\n",
       "    <tr>\n",
       "      <th>80</th>\n",
       "      <td>pets hood_district_9</td>\n",
       "      <td>-26.871350</td>\n",
       "      <td>-10.024121</td>\n",
       "    </tr>\n",
       "    <tr>\n",
       "      <th>81</th>\n",
       "      <td>parking^2</td>\n",
       "      <td>70.321784</td>\n",
       "      <td>31.352384</td>\n",
       "    </tr>\n",
       "    <tr>\n",
       "      <th>82</th>\n",
       "      <td>parking hood_district_1</td>\n",
       "      <td>-4.004139</td>\n",
       "      <td>0.000000</td>\n",
       "    </tr>\n",
       "    <tr>\n",
       "      <th>83</th>\n",
       "      <td>parking hood_district_2</td>\n",
       "      <td>38.832964</td>\n",
       "      <td>15.208498</td>\n",
       "    </tr>\n",
       "    <tr>\n",
       "      <th>84</th>\n",
       "      <td>parking hood_district_3</td>\n",
       "      <td>-16.269382</td>\n",
       "      <td>-9.254095</td>\n",
       "    </tr>\n",
       "    <tr>\n",
       "      <th>85</th>\n",
       "      <td>parking hood_district_4</td>\n",
       "      <td>6.391775</td>\n",
       "      <td>0.000000</td>\n",
       "    </tr>\n",
       "    <tr>\n",
       "      <th>86</th>\n",
       "      <td>parking hood_district_5</td>\n",
       "      <td>16.277409</td>\n",
       "      <td>11.022316</td>\n",
       "    </tr>\n",
       "    <tr>\n",
       "      <th>87</th>\n",
       "      <td>parking hood_district_6</td>\n",
       "      <td>6.704218</td>\n",
       "      <td>0.000000</td>\n",
       "    </tr>\n",
       "    <tr>\n",
       "      <th>88</th>\n",
       "      <td>parking hood_district_7</td>\n",
       "      <td>33.834551</td>\n",
       "      <td>19.816667</td>\n",
       "    </tr>\n",
       "    <tr>\n",
       "      <th>89</th>\n",
       "      <td>parking hood_district_8</td>\n",
       "      <td>-0.078660</td>\n",
       "      <td>-0.000000</td>\n",
       "    </tr>\n",
       "    <tr>\n",
       "      <th>90</th>\n",
       "      <td>parking hood_district_9</td>\n",
       "      <td>9.421981</td>\n",
       "      <td>0.000000</td>\n",
       "    </tr>\n",
       "    <tr>\n",
       "      <th>91</th>\n",
       "      <td>hood_district_1^2</td>\n",
       "      <td>3.398162</td>\n",
       "      <td>0.000000</td>\n",
       "    </tr>\n",
       "    <tr>\n",
       "      <th>92</th>\n",
       "      <td>hood_district_1 hood_district_2</td>\n",
       "      <td>0.000000</td>\n",
       "      <td>0.000000</td>\n",
       "    </tr>\n",
       "    <tr>\n",
       "      <th>93</th>\n",
       "      <td>hood_district_1 hood_district_3</td>\n",
       "      <td>0.000000</td>\n",
       "      <td>0.000000</td>\n",
       "    </tr>\n",
       "    <tr>\n",
       "      <th>94</th>\n",
       "      <td>hood_district_1 hood_district_4</td>\n",
       "      <td>0.000000</td>\n",
       "      <td>0.000000</td>\n",
       "    </tr>\n",
       "    <tr>\n",
       "      <th>95</th>\n",
       "      <td>hood_district_1 hood_district_5</td>\n",
       "      <td>0.000000</td>\n",
       "      <td>0.000000</td>\n",
       "    </tr>\n",
       "    <tr>\n",
       "      <th>96</th>\n",
       "      <td>hood_district_1 hood_district_6</td>\n",
       "      <td>0.000000</td>\n",
       "      <td>0.000000</td>\n",
       "    </tr>\n",
       "    <tr>\n",
       "      <th>97</th>\n",
       "      <td>hood_district_1 hood_district_7</td>\n",
       "      <td>0.000000</td>\n",
       "      <td>0.000000</td>\n",
       "    </tr>\n",
       "    <tr>\n",
       "      <th>98</th>\n",
       "      <td>hood_district_1 hood_district_8</td>\n",
       "      <td>0.000000</td>\n",
       "      <td>0.000000</td>\n",
       "    </tr>\n",
       "    <tr>\n",
       "      <th>99</th>\n",
       "      <td>hood_district_1 hood_district_9</td>\n",
       "      <td>0.000000</td>\n",
       "      <td>0.000000</td>\n",
       "    </tr>\n",
       "  </tbody>\n",
       "</table>\n",
       "</div>"
      ],
      "text/plain": [
       "                           Features       Ridge       Lasso\n",
       "50             bath hood_district_2   67.733069   38.524598\n",
       "51             bath hood_district_3  -34.516222   -0.000000\n",
       "52             bath hood_district_4   12.805726   33.493647\n",
       "53             bath hood_district_5   17.086417    0.000000\n",
       "54             bath hood_district_6  170.759058  184.989860\n",
       "55             bath hood_district_7  -10.103349    0.000000\n",
       "56             bath hood_district_8  -55.932961  -11.813791\n",
       "57             bath hood_district_9   58.558187   69.721282\n",
       "58                        laundry^2   31.155797   37.063897\n",
       "59                     laundry pets   56.513645   25.596798\n",
       "60                  laundry parking   77.783628   90.604594\n",
       "61          laundry hood_district_1   28.281838   14.600508\n",
       "62          laundry hood_district_2   19.862396    0.000000\n",
       "63          laundry hood_district_3  -14.806702  -13.671102\n",
       "64          laundry hood_district_4    8.272036    0.000000\n",
       "65          laundry hood_district_5   56.105194   50.549178\n",
       "66          laundry hood_district_6   28.918306    0.000000\n",
       "67          laundry hood_district_7  111.036901  110.226169\n",
       "68          laundry hood_district_8   62.911917   13.844497\n",
       "69          laundry hood_district_9   52.782063    5.314505\n",
       "70                           pets^2  -22.305748   -0.000000\n",
       "71                     pets parking   14.701233    0.000000\n",
       "72             pets hood_district_1   11.125337    2.176150\n",
       "73             pets hood_district_2   34.504507   24.112049\n",
       "74             pets hood_district_3   58.614834   31.847318\n",
       "75             pets hood_district_4   -7.983836   -0.000000\n",
       "76             pets hood_district_5   40.513493   29.041640\n",
       "77             pets hood_district_6   36.993379   11.454226\n",
       "78             pets hood_district_7   25.253374   18.660271\n",
       "79             pets hood_district_8    0.841907   -0.000000\n",
       "80             pets hood_district_9  -26.871350  -10.024121\n",
       "81                        parking^2   70.321784   31.352384\n",
       "82          parking hood_district_1   -4.004139    0.000000\n",
       "83          parking hood_district_2   38.832964   15.208498\n",
       "84          parking hood_district_3  -16.269382   -9.254095\n",
       "85          parking hood_district_4    6.391775    0.000000\n",
       "86          parking hood_district_5   16.277409   11.022316\n",
       "87          parking hood_district_6    6.704218    0.000000\n",
       "88          parking hood_district_7   33.834551   19.816667\n",
       "89          parking hood_district_8   -0.078660   -0.000000\n",
       "90          parking hood_district_9    9.421981    0.000000\n",
       "91                hood_district_1^2    3.398162    0.000000\n",
       "92  hood_district_1 hood_district_2    0.000000    0.000000\n",
       "93  hood_district_1 hood_district_3    0.000000    0.000000\n",
       "94  hood_district_1 hood_district_4    0.000000    0.000000\n",
       "95  hood_district_1 hood_district_5    0.000000    0.000000\n",
       "96  hood_district_1 hood_district_6    0.000000    0.000000\n",
       "97  hood_district_1 hood_district_7    0.000000    0.000000\n",
       "98  hood_district_1 hood_district_8    0.000000    0.000000\n",
       "99  hood_district_1 hood_district_9    0.000000    0.000000"
      ]
     },
     "execution_count": 23,
     "metadata": {},
     "output_type": "execute_result"
    }
   ],
   "source": [
    "coef_df[50:100]"
   ]
  },
  {
   "cell_type": "code",
   "execution_count": 24,
   "metadata": {
    "ExecuteTime": {
     "end_time": "2020-10-08T22:20:33.941011Z",
     "start_time": "2020-10-08T22:20:33.938730Z"
    }
   },
   "outputs": [],
   "source": [
    "#coef_df[100:]"
   ]
  },
  {
   "cell_type": "markdown",
   "metadata": {},
   "source": [
    "# RIDGE: Full Train and Test"
   ]
  },
  {
   "cell_type": "code",
   "execution_count": 25,
   "metadata": {
    "ExecuteTime": {
     "end_time": "2020-10-08T22:20:33.962839Z",
     "start_time": "2020-10-08T22:20:33.943151Z"
    }
   },
   "outputs": [],
   "source": [
    "poly = PolynomialFeatures(degree=2, interaction_only=False)\n",
    "    \n",
    "X_train_poly = poly.fit_transform(X)\n",
    "X_test_poly = poly.transform(X_test)\n",
    "\n",
    "# Scaling for Ridge & Lasso \n",
    "scaler = StandardScaler(with_mean=False)\n",
    "\n",
    "X_train_scaled = scaler.fit_transform(X_train_poly)\n",
    "X_test_scaled = scaler.transform(X_test_poly)"
   ]
  },
  {
   "cell_type": "code",
   "execution_count": 26,
   "metadata": {
    "ExecuteTime": {
     "end_time": "2020-10-08T22:20:33.971360Z",
     "start_time": "2020-10-08T22:20:33.964886Z"
    }
   },
   "outputs": [
    {
     "data": {
      "text/plain": [
       "Ridge(alpha=20.827506301905142)"
      ]
     },
     "execution_count": 26,
     "metadata": {},
     "output_type": "execute_result"
    }
   ],
   "source": [
    "rid = Ridge(alpha=rid_alpha)\n",
    "rid.fit(X_train_scaled, y)"
   ]
  },
  {
   "cell_type": "code",
   "execution_count": 27,
   "metadata": {
    "ExecuteTime": {
     "end_time": "2020-10-08T22:20:33.983604Z",
     "start_time": "2020-10-08T22:20:33.973572Z"
    },
    "scrolled": true
   },
   "outputs": [
    {
     "name": "stdout",
     "output_type": "stream",
     "text": [
      "Ridge - training score:  0.8081301789708801\n",
      "Rige - test score:  0.7666921272211827\n",
      "\n",
      "RMSE - training:  452.28751973449084\n",
      "RMSE - test:  495.5762117125093\n"
     ]
    }
   ],
   "source": [
    "print(\"Ridge - training score: \", rid.score(X_train_scaled, y))\n",
    "print(\"Rige - test score: \", rid.score(X_test_scaled, y_test))\n",
    "print(\"\")\n",
    "print(\"RMSE - training: \", mean_squared_error(y, rid.predict(X_train_scaled), squared=False))\n",
    "print(\"RMSE - test: \", mean_squared_error(y_test, rid.predict(X_test_scaled), squared=False))"
   ]
  },
  {
   "cell_type": "code",
   "execution_count": 28,
   "metadata": {
    "ExecuteTime": {
     "end_time": "2020-10-08T22:20:33.991115Z",
     "start_time": "2020-10-08T22:20:33.985691Z"
    }
   },
   "outputs": [
    {
     "data": {
      "text/plain": [
       "344.3754487538335"
      ]
     },
     "execution_count": 28,
     "metadata": {},
     "output_type": "execute_result"
    }
   ],
   "source": [
    "mae_train = np.mean(np.abs(rid.predict(X_train_scaled) - y))\n",
    "mae_train"
   ]
  },
  {
   "cell_type": "code",
   "execution_count": 29,
   "metadata": {
    "ExecuteTime": {
     "end_time": "2020-10-08T22:20:33.999409Z",
     "start_time": "2020-10-08T22:20:33.993461Z"
    }
   },
   "outputs": [
    {
     "data": {
      "text/plain": [
       "380.0870402067262"
      ]
     },
     "execution_count": 29,
     "metadata": {},
     "output_type": "execute_result"
    }
   ],
   "source": [
    "mae_test = np.mean(np.abs(rid.predict(X_test_scaled) - y_test))\n",
    "mae_test"
   ]
  },
  {
   "cell_type": "code",
   "execution_count": null,
   "metadata": {},
   "outputs": [],
   "source": []
  },
  {
   "cell_type": "code",
   "execution_count": 30,
   "metadata": {
    "ExecuteTime": {
     "end_time": "2020-10-08T22:20:34.004268Z",
     "start_time": "2020-10-08T22:20:34.001407Z"
    }
   },
   "outputs": [],
   "source": [
    "rid_predict = rid.predict(X_test_scaled)"
   ]
  },
  {
   "cell_type": "code",
   "execution_count": 31,
   "metadata": {
    "ExecuteTime": {
     "end_time": "2020-10-08T22:20:34.290350Z",
     "start_time": "2020-10-08T22:20:34.006463Z"
    }
   },
   "outputs": [
    {
     "data": {
      "image/png": "[encoded data removed]",
      "text/plain": [
       "<Figure size 1008x576 with 1 Axes>"
      ]
     },
     "metadata": {},
     "output_type": "display_data"
    }
   ],
   "source": [
    "plt.figure(figsize=(14, 8))\n",
    "plt.scatter(rid_predict, y_test, alpha=.6) \n",
    "\n",
    "z = np.polyfit(rid_predict, y_test, 1)\n",
    "p = np.poly1d(z)\n",
    "plb.plot(rid_predict, p(rid_predict), 'm-', color='red')\n",
    "plt.plot(np.linspace(0,7000,1000), np.linspace(0,7000,1000), color='grey')\n",
    "\n",
    "plt.xlim(0, 7000)\n",
    "plt.ylim(0, 7000)\n",
    "\n",
    "plt.suptitle('SF Apartment Rentals (Craigslist): Actual Versus Predicted', fontsize=20, fontname='Arial')\n",
    "plt.title('Linear Regression with Ridge Regularization', fontsize=16, fontname='Arial')\n",
    "plt.xlabel('Predicted Values ($)', fontsize=16, fontname='Arial')\n",
    "plt.ylabel('Actual Values ($)', fontsize=16, fontname='Arial');\n",
    "\n",
    "#plt.savefig('img/ridge_actual_predicted.png');"
   ]
  },
  {
   "cell_type": "code",
   "execution_count": null,
   "metadata": {},
   "outputs": [],
   "source": []
  },
  {
   "cell_type": "code",
   "execution_count": 32,
   "metadata": {
    "ExecuteTime": {
     "end_time": "2020-10-08T22:20:34.295600Z",
     "start_time": "2020-10-08T22:20:34.292767Z"
    }
   },
   "outputs": [],
   "source": [
    "rid_residual = (y_test - rid_predict)"
   ]
  },
  {
   "cell_type": "code",
   "execution_count": 33,
   "metadata": {
    "ExecuteTime": {
     "end_time": "2020-10-08T22:20:34.519533Z",
     "start_time": "2020-10-08T22:20:34.296991Z"
    }
   },
   "outputs": [
    {
     "data": {
      "image/png": "[encoded data removed]",
      "text/plain": [
       "<Figure size 1008x576 with 1 Axes>"
      ]
     },
     "metadata": {},
     "output_type": "display_data"
    }
   ],
   "source": [
    "plt.figure(figsize=(14, 8))\n",
    "plt.scatter(rid_predict, rid_residual, alpha=.7)   \n",
    "\n",
    "plt.axhline(0, linestyle='--', color='grey')\n",
    "plt.suptitle('Residuals', fontsize=20, fontname='Arial')\n",
    "plt.title('Linear Regression with Ridge Regularization', fontsize=16, fontname='Arial')\n",
    "plt.ylim(-2000, 2000)\n",
    "plt.xlabel('Predicted Values ($)', fontsize=16, fontname='Arial')\n",
    "plt.ylabel('Residuals ($)', fontsize=16, fontname='Arial');\n",
    "\n",
    "#plt.savefig('img/ridge_residuals.png');"
   ]
  },
  {
   "cell_type": "code",
   "execution_count": null,
   "metadata": {},
   "outputs": [],
   "source": []
  },
  {
   "cell_type": "code",
   "execution_count": null,
   "metadata": {},
   "outputs": [],
   "source": []
  },
  {
   "cell_type": "code",
   "execution_count": null,
   "metadata": {},
   "outputs": [],
   "source": []
  },
  {
   "cell_type": "markdown",
   "metadata": {},
   "source": [
    "# More Charts"
   ]
  },
  {
   "cell_type": "code",
   "execution_count": 34,
   "metadata": {
    "ExecuteTime": {
     "end_time": "2020-10-08T22:20:34.789396Z",
     "start_time": "2020-10-08T22:20:34.521533Z"
    }
   },
   "outputs": [
    {
     "data": {
      "image/png": "[encoded data removed]",
      "text/plain": [
       "<Figure size 1008x576 with 1 Axes>"
      ]
     },
     "metadata": {},
     "output_type": "display_data"
    }
   ],
   "source": [
    "plt.figure(figsize=(14, 8))\n",
    "ax_actual = sns.histplot(sf.price, kde=True, bins=(list(range(500, 6001, 500))))\n",
    "plt.axvline(sf.price.mean(), linestyle='--', color='grey')\n",
    "#ax_predict = sns.histplot(rid_predict, kde=True)\n",
    "ax_actual.set_title('Distribution of SF Rental Prices', fontname='Arial', fontsize=18)\n",
    "ax_actual.set_xlabel('Price ($)', fontname='Arial', fontsize=16)\n",
    "ax_actual.set_ylabel('Count', fontname='Arial', fontsize=16)\n",
    "ax_actual.set_yticks([0, 25, 50, 75, 100, 125, 150, 175, 200, 225])\n",
    "ax_actual.set_xticks(list(range(500, 6001, 500)))\n",
    "ax_actual.set_xticklabels(list(range(500, 6001, 500)));\n",
    "\n",
    "#plt.savefig('img/price_distribution.png');"
   ]
  }
 ],
 "metadata": {
  "kernelspec": {
   "display_name": "Python [conda env:metis] *",
   "language": "python",
   "name": "conda-env-metis-py"
  },
  "language_info": {
   "codemirror_mode": {
    "name": "ipython",
    "version": 3
   },
   "file_extension": ".py",
   "mimetype": "text/x-python",
   "name": "python",
   "nbconvert_exporter": "python",
   "pygments_lexer": "ipython3",
   "version": "3.8.5"
  },
  "toc": {
   "base_numbering": 1,
   "nav_menu": {},
   "number_sections": true,
   "sideBar": true,
   "skip_h1_title": false,
   "title_cell": "Table of Contents",
   "title_sidebar": "Contents",
   "toc_cell": false,
   "toc_position": {},
   "toc_section_display": true,
   "toc_window_display": true
  },
  "varInspector": {
   "cols": {
    "lenName": 16,
    "lenType": 16,
    "lenVar": 40
   },
   "kernels_config": {
    "python": {
     "delete_cmd_postfix": "",
     "delete_cmd_prefix": "del ",
     "library": "var_list.py",
     "varRefreshCmd": "print(var_dic_list())"
    },
    "r": {
     "delete_cmd_postfix": ") ",
     "delete_cmd_prefix": "rm(",
     "library": "var_list.r",
     "varRefreshCmd": "cat(var_dic_list()) "
    }
   },
   "types_to_exclude": [
    "module",
    "function",
    "builtin_function_or_method",
    "instance",
    "_Feature"
   ],
   "window_display": false
  }
 },
 "nbformat": 4,
 "nbformat_minor": 4
}
