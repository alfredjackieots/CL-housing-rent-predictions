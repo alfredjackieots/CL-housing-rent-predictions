{
 "cells": [
  {
   "cell_type": "markdown",
   "metadata": {},
   "source": [
    "# Exploring Polynomial Features with Regularization"
   ]
  },
  {
   "cell_type": "code",
   "execution_count": 1,
   "metadata": {
    "ExecuteTime": {
     "end_time": "2020-10-07T23:49:51.867413Z",
     "start_time": "2020-10-07T23:49:50.667087Z"
    }
   },
   "outputs": [],
   "source": [
    "# Necessary imports\n",
    "import pandas as pd\n",
    "import numpy as np\n",
    "import seaborn as sns\n",
    "import matplotlib.pyplot as plt\n",
    "import matplotlib.pylab as plb \n",
    "%matplotlib inline\n",
    "\n",
    "import statsmodels.api as sm\n",
    "from sklearn.model_selection import train_test_split, KFold\n",
    "from sklearn.linear_model import LinearRegression, Lasso, LassoCV, Ridge, RidgeCV\n",
    "from sklearn.preprocessing import StandardScaler, PolynomialFeatures\n",
    "from sklearn.metrics import r2_score, mean_squared_error\n",
    "\n",
    "sns.set(context='notebook', style='whitegrid', font_scale=1.2)"
   ]
  },
  {
   "cell_type": "markdown",
   "metadata": {},
   "source": [
    "## Data Import & Setup"
   ]
  },
  {
   "cell_type": "code",
   "execution_count": 2,
   "metadata": {
    "ExecuteTime": {
     "end_time": "2020-10-07T23:49:51.876427Z",
     "start_time": "2020-10-07T23:49:51.869577Z"
    }
   },
   "outputs": [],
   "source": [
    "sf = pd.read_csv('data_files/sf_clean.csv')\n",
    "\n",
    "# Reformatting hood_district names\n",
    "sf['hood_district'] = sf['hood_district'].astype(int)\n",
    "sf['hood_district'] = sf['hood_district'].astype(str)"
   ]
  },
  {
   "cell_type": "code",
   "execution_count": 3,
   "metadata": {
    "ExecuteTime": {
     "end_time": "2020-10-07T23:49:51.882591Z",
     "start_time": "2020-10-07T23:49:51.877743Z"
    }
   },
   "outputs": [],
   "source": [
    "sf = sf[sf['price'] < 6000]"
   ]
  },
  {
   "cell_type": "code",
   "execution_count": 4,
   "metadata": {
    "ExecuteTime": {
     "end_time": "2020-10-07T23:49:51.890370Z",
     "start_time": "2020-10-07T23:49:51.884860Z"
    }
   },
   "outputs": [],
   "source": [
    "laundry_dict = {'(a) in-unit': 2, \n",
    "               '(b) on-site': 1,\n",
    "               '(c) no laundry': 0}\n",
    "\n",
    "sf = sf.replace({'laundry': laundry_dict})"
   ]
  },
  {
   "cell_type": "code",
   "execution_count": 5,
   "metadata": {
    "ExecuteTime": {
     "end_time": "2020-10-07T23:49:51.898119Z",
     "start_time": "2020-10-07T23:49:51.892518Z"
    }
   },
   "outputs": [],
   "source": [
    "parking_dict = {'(a) valet': 3, \n",
    "               '(b) protected': 2,\n",
    "               '(c) off-street': 1,\n",
    "               '(d) no parking': 0}\n",
    "\n",
    "sf = sf.replace({'parking': parking_dict})"
   ]
  },
  {
   "cell_type": "code",
   "execution_count": 6,
   "metadata": {
    "ExecuteTime": {
     "end_time": "2020-10-07T23:49:51.904947Z",
     "start_time": "2020-10-07T23:49:51.899458Z"
    }
   },
   "outputs": [],
   "source": [
    "pets_dict = {'(a) both': 1, \n",
    "            '(b) dogs': 1,\n",
    "            '(c) cats': 1,\n",
    "            '(d) no pets': 0}\n",
    "\n",
    "sf = sf.replace({'pets': pets_dict})"
   ]
  },
  {
   "cell_type": "code",
   "execution_count": 7,
   "metadata": {
    "ExecuteTime": {
     "end_time": "2020-10-07T23:49:51.909986Z",
     "start_time": "2020-10-07T23:49:51.906467Z"
    }
   },
   "outputs": [],
   "source": [
    "#sf = sf.drop(['pets'], axis=1)\n",
    "sf = sf.drop(['housing_type'], axis=1)"
   ]
  },
  {
   "cell_type": "code",
   "execution_count": 8,
   "metadata": {
    "ExecuteTime": {
     "end_time": "2020-10-07T23:49:51.920008Z",
     "start_time": "2020-10-07T23:49:51.911836Z"
    }
   },
   "outputs": [],
   "source": [
    "sf = pd.get_dummies(sf)\n",
    "sf = sf.drop(['hood_district_10'], axis=1)"
   ]
  },
  {
   "cell_type": "code",
   "execution_count": 9,
   "metadata": {
    "ExecuteTime": {
     "end_time": "2020-10-07T23:49:51.930430Z",
     "start_time": "2020-10-07T23:49:51.921743Z"
    }
   },
   "outputs": [
    {
     "data": {
      "text/plain": [
       "count     936.00000\n",
       "mean     3345.28953\n",
       "std      1031.37558\n",
       "min       750.00000\n",
       "25%      2600.00000\n",
       "50%      3200.00000\n",
       "75%      3995.00000\n",
       "max      5995.00000\n",
       "Name: price, dtype: float64"
      ]
     },
     "execution_count": 9,
     "metadata": {},
     "output_type": "execute_result"
    }
   ],
   "source": [
    "sf.price.describe()"
   ]
  },
  {
   "cell_type": "code",
   "execution_count": null,
   "metadata": {},
   "outputs": [],
   "source": []
  },
  {
   "cell_type": "markdown",
   "metadata": {},
   "source": [
    "## Train / Test Split"
   ]
  },
  {
   "cell_type": "code",
   "execution_count": 11,
   "metadata": {
    "ExecuteTime": {
     "end_time": "2020-10-07T23:49:52.122763Z",
     "start_time": "2020-10-07T23:49:52.116828Z"
    }
   },
   "outputs": [],
   "source": [
    "X, y = sf.drop('price',axis=1), sf['price']\n",
    "\n",
    "# Training versus Test Data\n",
    "# hold out 20% of the data for testing\n",
    "X, X_test, y, y_test = train_test_split(X, y, test_size=.25, random_state=5)\n",
    "\n",
    "# Training versus Validation\n",
    "X_train, X_val, y_train, y_val = train_test_split(X, y, test_size=.25, random_state=3)"
   ]
  },
  {
   "cell_type": "markdown",
   "metadata": {},
   "source": [
    "## Polynomial Features Set Up"
   ]
  },
  {
   "cell_type": "code",
   "execution_count": 12,
   "metadata": {
    "ExecuteTime": {
     "end_time": "2020-10-07T23:49:52.135701Z",
     "start_time": "2020-10-07T23:49:52.126442Z"
    }
   },
   "outputs": [],
   "source": [
    "poly = PolynomialFeatures(degree=2, interaction_only=False)\n",
    "    \n",
    "X_train_poly = poly.fit_transform(X_train)\n",
    "X_val_poly = poly.transform(X_val)\n",
    "X_test_poly = poly.transform(X_test)"
   ]
  },
  {
   "cell_type": "code",
   "execution_count": 13,
   "metadata": {
    "ExecuteTime": {
     "end_time": "2020-10-07T23:49:52.142984Z",
     "start_time": "2020-10-07T23:49:52.138560Z"
    }
   },
   "outputs": [],
   "source": [
    "# Scaling for Ridge & Lasso \n",
    "scaler = StandardScaler(with_mean=False)\n",
    "\n",
    "X_train_scaled = scaler.fit_transform(X_train_poly)\n",
    "X_val_scaled = scaler.transform(X_val_poly)\n",
    "X_test_scaled = scaler.transform(X_test_poly)"
   ]
  },
  {
   "cell_type": "markdown",
   "metadata": {},
   "source": [
    "## Lasso"
   ]
  },
  {
   "cell_type": "code",
   "execution_count": 14,
   "metadata": {
    "ExecuteTime": {
     "end_time": "2020-10-07T23:49:56.649907Z",
     "start_time": "2020-10-07T23:49:52.144604Z"
    }
   },
   "outputs": [
    {
     "name": "stderr",
     "output_type": "stream",
     "text": [
      "/Users/scrapfish/opt/anaconda3/envs/metis/lib/python3.8/site-packages/sklearn/linear_model/_coordinate_descent.py:525: ConvergenceWarning: Objective did not converge. You might want to increase the number of iterations. Duality gap: 39396.21882417798, tolerance: 38588.7094974359\n",
      "  model = cd_fast.enet_coordinate_descent_gram(\n",
      "/Users/scrapfish/opt/anaconda3/envs/metis/lib/python3.8/site-packages/sklearn/linear_model/_coordinate_descent.py:525: ConvergenceWarning: Objective did not converge. You might want to increase the number of iterations. Duality gap: 42028.34094366431, tolerance: 38588.7094974359\n",
      "  model = cd_fast.enet_coordinate_descent_gram(\n",
      "/Users/scrapfish/opt/anaconda3/envs/metis/lib/python3.8/site-packages/sklearn/linear_model/_coordinate_descent.py:525: ConvergenceWarning: Objective did not converge. You might want to increase the number of iterations. Duality gap: 44064.59848701209, tolerance: 38588.7094974359\n",
      "  model = cd_fast.enet_coordinate_descent_gram(\n",
      "/Users/scrapfish/opt/anaconda3/envs/metis/lib/python3.8/site-packages/sklearn/linear_model/_coordinate_descent.py:525: ConvergenceWarning: Objective did not converge. You might want to increase the number of iterations. Duality gap: 45769.44015094638, tolerance: 38588.7094974359\n",
      "  model = cd_fast.enet_coordinate_descent_gram(\n",
      "/Users/scrapfish/opt/anaconda3/envs/metis/lib/python3.8/site-packages/sklearn/linear_model/_coordinate_descent.py:525: ConvergenceWarning: Objective did not converge. You might want to increase the number of iterations. Duality gap: 47240.722766928375, tolerance: 38588.7094974359\n",
      "  model = cd_fast.enet_coordinate_descent_gram(\n",
      "/Users/scrapfish/opt/anaconda3/envs/metis/lib/python3.8/site-packages/sklearn/linear_model/_coordinate_descent.py:525: ConvergenceWarning: Objective did not converge. You might want to increase the number of iterations. Duality gap: 48509.83871790767, tolerance: 38588.7094974359\n",
      "  model = cd_fast.enet_coordinate_descent_gram(\n",
      "/Users/scrapfish/opt/anaconda3/envs/metis/lib/python3.8/site-packages/sklearn/linear_model/_coordinate_descent.py:525: ConvergenceWarning: Objective did not converge. You might want to increase the number of iterations. Duality gap: 49601.10561855137, tolerance: 38588.7094974359\n",
      "  model = cd_fast.enet_coordinate_descent_gram(\n",
      "/Users/scrapfish/opt/anaconda3/envs/metis/lib/python3.8/site-packages/sklearn/linear_model/_coordinate_descent.py:525: ConvergenceWarning: Objective did not converge. You might want to increase the number of iterations. Duality gap: 50536.24547120929, tolerance: 38588.7094974359\n",
      "  model = cd_fast.enet_coordinate_descent_gram(\n",
      "/Users/scrapfish/opt/anaconda3/envs/metis/lib/python3.8/site-packages/sklearn/linear_model/_coordinate_descent.py:525: ConvergenceWarning: Objective did not converge. You might want to increase the number of iterations. Duality gap: 51334.692071035504, tolerance: 38588.7094974359\n",
      "  model = cd_fast.enet_coordinate_descent_gram(\n",
      "/Users/scrapfish/opt/anaconda3/envs/metis/lib/python3.8/site-packages/sklearn/linear_model/_coordinate_descent.py:525: ConvergenceWarning: Objective did not converge. You might want to increase the number of iterations. Duality gap: 52013.79970627278, tolerance: 38588.7094974359\n",
      "  model = cd_fast.enet_coordinate_descent_gram(\n",
      "/Users/scrapfish/opt/anaconda3/envs/metis/lib/python3.8/site-packages/sklearn/linear_model/_coordinate_descent.py:525: ConvergenceWarning: Objective did not converge. You might want to increase the number of iterations. Duality gap: 52588.98082412779, tolerance: 38588.7094974359\n",
      "  model = cd_fast.enet_coordinate_descent_gram(\n",
      "/Users/scrapfish/opt/anaconda3/envs/metis/lib/python3.8/site-packages/sklearn/linear_model/_coordinate_descent.py:525: ConvergenceWarning: Objective did not converge. You might want to increase the number of iterations. Duality gap: 53073.86622911692, tolerance: 38588.7094974359\n",
      "  model = cd_fast.enet_coordinate_descent_gram(\n",
      "/Users/scrapfish/opt/anaconda3/envs/metis/lib/python3.8/site-packages/sklearn/linear_model/_coordinate_descent.py:525: ConvergenceWarning: Objective did not converge. You might want to increase the number of iterations. Duality gap: 53480.44414354861, tolerance: 38588.7094974359\n",
      "  model = cd_fast.enet_coordinate_descent_gram(\n",
      "/Users/scrapfish/opt/anaconda3/envs/metis/lib/python3.8/site-packages/sklearn/linear_model/_coordinate_descent.py:525: ConvergenceWarning: Objective did not converge. You might want to increase the number of iterations. Duality gap: 53819.223053082824, tolerance: 38588.7094974359\n",
      "  model = cd_fast.enet_coordinate_descent_gram(\n",
      "/Users/scrapfish/opt/anaconda3/envs/metis/lib/python3.8/site-packages/sklearn/linear_model/_coordinate_descent.py:525: ConvergenceWarning: Objective did not converge. You might want to increase the number of iterations. Duality gap: 54099.39156101644, tolerance: 38588.7094974359\n",
      "  model = cd_fast.enet_coordinate_descent_gram(\n",
      "/Users/scrapfish/opt/anaconda3/envs/metis/lib/python3.8/site-packages/sklearn/linear_model/_coordinate_descent.py:525: ConvergenceWarning: Objective did not converge. You might want to increase the number of iterations. Duality gap: 54328.957891866565, tolerance: 38588.7094974359\n",
      "  model = cd_fast.enet_coordinate_descent_gram(\n",
      "/Users/scrapfish/opt/anaconda3/envs/metis/lib/python3.8/site-packages/sklearn/linear_model/_coordinate_descent.py:525: ConvergenceWarning: Objective did not converge. You might want to increase the number of iterations. Duality gap: 54514.88215819746, tolerance: 38588.7094974359\n",
      "  model = cd_fast.enet_coordinate_descent_gram(\n",
      "/Users/scrapfish/opt/anaconda3/envs/metis/lib/python3.8/site-packages/sklearn/linear_model/_coordinate_descent.py:525: ConvergenceWarning: Objective did not converge. You might want to increase the number of iterations. Duality gap: 54663.22011842579, tolerance: 38588.7094974359\n",
      "  model = cd_fast.enet_coordinate_descent_gram(\n",
      "/Users/scrapfish/opt/anaconda3/envs/metis/lib/python3.8/site-packages/sklearn/linear_model/_coordinate_descent.py:525: ConvergenceWarning: Objective did not converge. You might want to increase the number of iterations. Duality gap: 54779.21029590815, tolerance: 38588.7094974359\n",
      "  model = cd_fast.enet_coordinate_descent_gram(\n",
      "/Users/scrapfish/opt/anaconda3/envs/metis/lib/python3.8/site-packages/sklearn/linear_model/_coordinate_descent.py:525: ConvergenceWarning: Objective did not converge. You might want to increase the number of iterations. Duality gap: 54867.39180650562, tolerance: 38588.7094974359\n",
      "  model = cd_fast.enet_coordinate_descent_gram(\n",
      "/Users/scrapfish/opt/anaconda3/envs/metis/lib/python3.8/site-packages/sklearn/linear_model/_coordinate_descent.py:525: ConvergenceWarning: Objective did not converge. You might want to increase the number of iterations. Duality gap: 42752.80814740062, tolerance: 38588.7094974359\n",
      "  model = cd_fast.enet_coordinate_descent_gram(\n",
      "/Users/scrapfish/opt/anaconda3/envs/metis/lib/python3.8/site-packages/sklearn/linear_model/_coordinate_descent.py:525: ConvergenceWarning: Objective did not converge. You might want to increase the number of iterations. Duality gap: 48335.05773815513, tolerance: 38588.7094974359\n",
      "  model = cd_fast.enet_coordinate_descent_gram(\n",
      "/Users/scrapfish/opt/anaconda3/envs/metis/lib/python3.8/site-packages/sklearn/linear_model/_coordinate_descent.py:525: ConvergenceWarning: Objective did not converge. You might want to increase the number of iterations. Duality gap: 53166.64132486284, tolerance: 38588.7094974359\n",
      "  model = cd_fast.enet_coordinate_descent_gram(\n",
      "/Users/scrapfish/opt/anaconda3/envs/metis/lib/python3.8/site-packages/sklearn/linear_model/_coordinate_descent.py:525: ConvergenceWarning: Objective did not converge. You might want to increase the number of iterations. Duality gap: 57424.210734561086, tolerance: 38588.7094974359\n",
      "  model = cd_fast.enet_coordinate_descent_gram(\n",
      "/Users/scrapfish/opt/anaconda3/envs/metis/lib/python3.8/site-packages/sklearn/linear_model/_coordinate_descent.py:525: ConvergenceWarning: Objective did not converge. You might want to increase the number of iterations. Duality gap: 64112.08858855069, tolerance: 38588.7094974359\n",
      "  model = cd_fast.enet_coordinate_descent_gram(\n",
      "/Users/scrapfish/opt/anaconda3/envs/metis/lib/python3.8/site-packages/sklearn/linear_model/_coordinate_descent.py:525: ConvergenceWarning: Objective did not converge. You might want to increase the number of iterations. Duality gap: 67301.28937251866, tolerance: 38588.7094974359\n",
      "  model = cd_fast.enet_coordinate_descent_gram(\n",
      "/Users/scrapfish/opt/anaconda3/envs/metis/lib/python3.8/site-packages/sklearn/linear_model/_coordinate_descent.py:525: ConvergenceWarning: Objective did not converge. You might want to increase the number of iterations. Duality gap: 70329.07506160438, tolerance: 38588.7094974359\n",
      "  model = cd_fast.enet_coordinate_descent_gram(\n",
      "/Users/scrapfish/opt/anaconda3/envs/metis/lib/python3.8/site-packages/sklearn/linear_model/_coordinate_descent.py:525: ConvergenceWarning: Objective did not converge. You might want to increase the number of iterations. Duality gap: 73023.80073603988, tolerance: 38588.7094974359\n",
      "  model = cd_fast.enet_coordinate_descent_gram(\n",
      "/Users/scrapfish/opt/anaconda3/envs/metis/lib/python3.8/site-packages/sklearn/linear_model/_coordinate_descent.py:525: ConvergenceWarning: Objective did not converge. You might want to increase the number of iterations. Duality gap: 75355.15552709997, tolerance: 38588.7094974359\n",
      "  model = cd_fast.enet_coordinate_descent_gram(\n",
      "/Users/scrapfish/opt/anaconda3/envs/metis/lib/python3.8/site-packages/sklearn/linear_model/_coordinate_descent.py:525: ConvergenceWarning: Objective did not converge. You might want to increase the number of iterations. Duality gap: 77375.62057319283, tolerance: 38588.7094974359\n",
      "  model = cd_fast.enet_coordinate_descent_gram(\n",
      "/Users/scrapfish/opt/anaconda3/envs/metis/lib/python3.8/site-packages/sklearn/linear_model/_coordinate_descent.py:525: ConvergenceWarning: Objective did not converge. You might want to increase the number of iterations. Duality gap: 79123.56693837047, tolerance: 38588.7094974359\n",
      "  model = cd_fast.enet_coordinate_descent_gram(\n",
      "/Users/scrapfish/opt/anaconda3/envs/metis/lib/python3.8/site-packages/sklearn/linear_model/_coordinate_descent.py:525: ConvergenceWarning: Objective did not converge. You might want to increase the number of iterations. Duality gap: 80631.90262815356, tolerance: 38588.7094974359\n",
      "  model = cd_fast.enet_coordinate_descent_gram(\n",
      "/Users/scrapfish/opt/anaconda3/envs/metis/lib/python3.8/site-packages/sklearn/linear_model/_coordinate_descent.py:525: ConvergenceWarning: Objective did not converge. You might want to increase the number of iterations. Duality gap: 81930.2856944874, tolerance: 38588.7094974359\n",
      "  model = cd_fast.enet_coordinate_descent_gram(\n",
      "/Users/scrapfish/opt/anaconda3/envs/metis/lib/python3.8/site-packages/sklearn/linear_model/_coordinate_descent.py:525: ConvergenceWarning: Objective did not converge. You might want to increase the number of iterations. Duality gap: 83045.24136610329, tolerance: 38588.7094974359\n",
      "  model = cd_fast.enet_coordinate_descent_gram(\n",
      "/Users/scrapfish/opt/anaconda3/envs/metis/lib/python3.8/site-packages/sklearn/linear_model/_coordinate_descent.py:525: ConvergenceWarning: Objective did not converge. You might want to increase the number of iterations. Duality gap: 84000.36217451096, tolerance: 38588.7094974359\n",
      "  model = cd_fast.enet_coordinate_descent_gram(\n",
      "/Users/scrapfish/opt/anaconda3/envs/metis/lib/python3.8/site-packages/sklearn/linear_model/_coordinate_descent.py:525: ConvergenceWarning: Objective did not converge. You might want to increase the number of iterations. Duality gap: 84816.47871669382, tolerance: 38588.7094974359\n",
      "  model = cd_fast.enet_coordinate_descent_gram(\n",
      "/Users/scrapfish/opt/anaconda3/envs/metis/lib/python3.8/site-packages/sklearn/linear_model/_coordinate_descent.py:525: ConvergenceWarning: Objective did not converge. You might want to increase the number of iterations. Duality gap: 85511.93832620978, tolerance: 38588.7094974359\n",
      "  model = cd_fast.enet_coordinate_descent_gram(\n",
      "/Users/scrapfish/opt/anaconda3/envs/metis/lib/python3.8/site-packages/sklearn/linear_model/_coordinate_descent.py:525: ConvergenceWarning: Objective did not converge. You might want to increase the number of iterations. Duality gap: 86102.81623328477, tolerance: 38588.7094974359\n",
      "  model = cd_fast.enet_coordinate_descent_gram(\n",
      "/Users/scrapfish/opt/anaconda3/envs/metis/lib/python3.8/site-packages/sklearn/linear_model/_coordinate_descent.py:525: ConvergenceWarning: Objective did not converge. You might want to increase the number of iterations. Duality gap: 86603.1662766859, tolerance: 38588.7094974359\n",
      "  model = cd_fast.enet_coordinate_descent_gram(\n",
      "/Users/scrapfish/opt/anaconda3/envs/metis/lib/python3.8/site-packages/sklearn/linear_model/_coordinate_descent.py:525: ConvergenceWarning: Objective did not converge. You might want to increase the number of iterations. Duality gap: 87025.24240265787, tolerance: 38588.7094974359\n",
      "  model = cd_fast.enet_coordinate_descent_gram(\n",
      "/Users/scrapfish/opt/anaconda3/envs/metis/lib/python3.8/site-packages/sklearn/linear_model/_coordinate_descent.py:525: ConvergenceWarning: Objective did not converge. You might want to increase the number of iterations. Duality gap: 86467.89165998995, tolerance: 38588.7094974359\n",
      "  model = cd_fast.enet_coordinate_descent_gram(\n",
      "/Users/scrapfish/opt/anaconda3/envs/metis/lib/python3.8/site-packages/sklearn/linear_model/_coordinate_descent.py:525: ConvergenceWarning: Objective did not converge. You might want to increase the number of iterations. Duality gap: 64175.42683964968, tolerance: 38588.7094974359\n",
      "  model = cd_fast.enet_coordinate_descent_gram(\n",
      "/Users/scrapfish/opt/anaconda3/envs/metis/lib/python3.8/site-packages/sklearn/linear_model/_coordinate_descent.py:525: ConvergenceWarning: Objective did not converge. You might want to increase the number of iterations. Duality gap: 50507.92712445557, tolerance: 38588.7094974359\n",
      "  model = cd_fast.enet_coordinate_descent_gram(\n"
     ]
    },
    {
     "name": "stderr",
     "output_type": "stream",
     "text": [
      "/Users/scrapfish/opt/anaconda3/envs/metis/lib/python3.8/site-packages/sklearn/linear_model/_coordinate_descent.py:525: ConvergenceWarning: Objective did not converge. You might want to increase the number of iterations. Duality gap: 41976.46474239975, tolerance: 38588.7094974359\n",
      "  model = cd_fast.enet_coordinate_descent_gram(\n",
      "/Users/scrapfish/opt/anaconda3/envs/metis/lib/python3.8/site-packages/sklearn/linear_model/_coordinate_descent.py:525: ConvergenceWarning: Objective did not converge. You might want to increase the number of iterations. Duality gap: 44879.79600729048, tolerance: 38588.7094974359\n",
      "  model = cd_fast.enet_coordinate_descent_gram(\n",
      "/Users/scrapfish/opt/anaconda3/envs/metis/lib/python3.8/site-packages/sklearn/linear_model/_coordinate_descent.py:525: ConvergenceWarning: Objective did not converge. You might want to increase the number of iterations. Duality gap: 50949.640619046986, tolerance: 38588.7094974359\n",
      "  model = cd_fast.enet_coordinate_descent_gram(\n",
      "/Users/scrapfish/opt/anaconda3/envs/metis/lib/python3.8/site-packages/sklearn/linear_model/_coordinate_descent.py:525: ConvergenceWarning: Objective did not converge. You might want to increase the number of iterations. Duality gap: 56450.08985866606, tolerance: 38588.7094974359\n",
      "  model = cd_fast.enet_coordinate_descent_gram(\n",
      "/Users/scrapfish/opt/anaconda3/envs/metis/lib/python3.8/site-packages/sklearn/linear_model/_coordinate_descent.py:525: ConvergenceWarning: Objective did not converge. You might want to increase the number of iterations. Duality gap: 61396.218320950866, tolerance: 38588.7094974359\n",
      "  model = cd_fast.enet_coordinate_descent_gram(\n",
      "/Users/scrapfish/opt/anaconda3/envs/metis/lib/python3.8/site-packages/sklearn/linear_model/_coordinate_descent.py:525: ConvergenceWarning: Objective did not converge. You might want to increase the number of iterations. Duality gap: 65798.48482431471, tolerance: 38588.7094974359\n",
      "  model = cd_fast.enet_coordinate_descent_gram(\n",
      "/Users/scrapfish/opt/anaconda3/envs/metis/lib/python3.8/site-packages/sklearn/linear_model/_coordinate_descent.py:525: ConvergenceWarning: Objective did not converge. You might want to increase the number of iterations. Duality gap: 66564.4389437437, tolerance: 38588.7094974359\n",
      "  model = cd_fast.enet_coordinate_descent_gram(\n",
      "/Users/scrapfish/opt/anaconda3/envs/metis/lib/python3.8/site-packages/sklearn/linear_model/_coordinate_descent.py:525: ConvergenceWarning: Objective did not converge. You might want to increase the number of iterations. Duality gap: 47773.40568448603, tolerance: 38588.7094974359\n",
      "  model = cd_fast.enet_coordinate_descent_gram(\n",
      "/Users/scrapfish/opt/anaconda3/envs/metis/lib/python3.8/site-packages/sklearn/linear_model/_coordinate_descent.py:525: ConvergenceWarning: Objective did not converge. You might want to increase the number of iterations. Duality gap: 45842.47296027839, tolerance: 38588.7094974359\n",
      "  model = cd_fast.enet_coordinate_descent_gram(\n",
      "/Users/scrapfish/opt/anaconda3/envs/metis/lib/python3.8/site-packages/sklearn/linear_model/_coordinate_descent.py:525: ConvergenceWarning: Objective did not converge. You might want to increase the number of iterations. Duality gap: 53179.865993097425, tolerance: 38588.7094974359\n",
      "  model = cd_fast.enet_coordinate_descent_gram(\n",
      "/Users/scrapfish/opt/anaconda3/envs/metis/lib/python3.8/site-packages/sklearn/linear_model/_coordinate_descent.py:525: ConvergenceWarning: Objective did not converge. You might want to increase the number of iterations. Duality gap: 59849.9511705488, tolerance: 38588.7094974359\n",
      "  model = cd_fast.enet_coordinate_descent_gram(\n",
      "/Users/scrapfish/opt/anaconda3/envs/metis/lib/python3.8/site-packages/sklearn/linear_model/_coordinate_descent.py:525: ConvergenceWarning: Objective did not converge. You might want to increase the number of iterations. Duality gap: 65876.85834494233, tolerance: 38588.7094974359\n",
      "  model = cd_fast.enet_coordinate_descent_gram(\n",
      "/Users/scrapfish/opt/anaconda3/envs/metis/lib/python3.8/site-packages/sklearn/linear_model/_coordinate_descent.py:525: ConvergenceWarning: Objective did not converge. You might want to increase the number of iterations. Duality gap: 71267.59363426268, tolerance: 38588.7094974359\n",
      "  model = cd_fast.enet_coordinate_descent_gram(\n",
      "/Users/scrapfish/opt/anaconda3/envs/metis/lib/python3.8/site-packages/sklearn/linear_model/_coordinate_descent.py:525: ConvergenceWarning: Objective did not converge. You might want to increase the number of iterations. Duality gap: 76051.54584054649, tolerance: 38588.7094974359\n",
      "  model = cd_fast.enet_coordinate_descent_gram(\n",
      "/Users/scrapfish/opt/anaconda3/envs/metis/lib/python3.8/site-packages/sklearn/linear_model/_coordinate_descent.py:525: ConvergenceWarning: Objective did not converge. You might want to increase the number of iterations. Duality gap: 80272.08198963106, tolerance: 38588.7094974359\n",
      "  model = cd_fast.enet_coordinate_descent_gram(\n",
      "/Users/scrapfish/opt/anaconda3/envs/metis/lib/python3.8/site-packages/sklearn/linear_model/_coordinate_descent.py:525: ConvergenceWarning: Objective did not converge. You might want to increase the number of iterations. Duality gap: 83977.99170597643, tolerance: 38588.7094974359\n",
      "  model = cd_fast.enet_coordinate_descent_gram(\n",
      "/Users/scrapfish/opt/anaconda3/envs/metis/lib/python3.8/site-packages/sklearn/linear_model/_coordinate_descent.py:525: ConvergenceWarning: Objective did not converge. You might want to increase the number of iterations. Duality gap: 52007.715816468, tolerance: 38588.7094974359\n",
      "  model = cd_fast.enet_coordinate_descent_gram(\n",
      "/Users/scrapfish/opt/anaconda3/envs/metis/lib/python3.8/site-packages/sklearn/linear_model/_coordinate_descent.py:525: ConvergenceWarning: Objective did not converge. You might want to increase the number of iterations. Duality gap: 65135.719651818275, tolerance: 38588.7094974359\n",
      "  model = cd_fast.enet_coordinate_descent_gram(\n",
      "/Users/scrapfish/opt/anaconda3/envs/metis/lib/python3.8/site-packages/sklearn/linear_model/_coordinate_descent.py:525: ConvergenceWarning: Objective did not converge. You might want to increase the number of iterations. Duality gap: 77037.982676588, tolerance: 38588.7094974359\n",
      "  model = cd_fast.enet_coordinate_descent_gram(\n",
      "/Users/scrapfish/opt/anaconda3/envs/metis/lib/python3.8/site-packages/sklearn/linear_model/_coordinate_descent.py:525: ConvergenceWarning: Objective did not converge. You might want to increase the number of iterations. Duality gap: 87919.6713732481, tolerance: 38588.7094974359\n",
      "  model = cd_fast.enet_coordinate_descent_gram(\n",
      "/Users/scrapfish/opt/anaconda3/envs/metis/lib/python3.8/site-packages/sklearn/linear_model/_coordinate_descent.py:525: ConvergenceWarning: Objective did not converge. You might want to increase the number of iterations. Duality gap: 97775.16511508822, tolerance: 38588.7094974359\n",
      "  model = cd_fast.enet_coordinate_descent_gram(\n",
      "/Users/scrapfish/opt/anaconda3/envs/metis/lib/python3.8/site-packages/sklearn/linear_model/_coordinate_descent.py:525: ConvergenceWarning: Objective did not converge. You might want to increase the number of iterations. Duality gap: 106612.95660884678, tolerance: 38588.7094974359\n",
      "  model = cd_fast.enet_coordinate_descent_gram(\n",
      "/Users/scrapfish/opt/anaconda3/envs/metis/lib/python3.8/site-packages/sklearn/linear_model/_coordinate_descent.py:525: ConvergenceWarning: Objective did not converge. You might want to increase the number of iterations. Duality gap: 114476.56365670264, tolerance: 38588.7094974359\n",
      "  model = cd_fast.enet_coordinate_descent_gram(\n",
      "/Users/scrapfish/opt/anaconda3/envs/metis/lib/python3.8/site-packages/sklearn/linear_model/_coordinate_descent.py:525: ConvergenceWarning: Objective did not converge. You might want to increase the number of iterations. Duality gap: 121430.32315970957, tolerance: 38588.7094974359\n",
      "  model = cd_fast.enet_coordinate_descent_gram(\n",
      "/Users/scrapfish/opt/anaconda3/envs/metis/lib/python3.8/site-packages/sklearn/linear_model/_coordinate_descent.py:525: ConvergenceWarning: Objective did not converge. You might want to increase the number of iterations. Duality gap: 127549.1252764538, tolerance: 38588.7094974359\n",
      "  model = cd_fast.enet_coordinate_descent_gram(\n",
      "/Users/scrapfish/opt/anaconda3/envs/metis/lib/python3.8/site-packages/sklearn/linear_model/_coordinate_descent.py:525: ConvergenceWarning: Objective did not converge. You might want to increase the number of iterations. Duality gap: 132911.58379558474, tolerance: 38588.7094974359\n",
      "  model = cd_fast.enet_coordinate_descent_gram(\n",
      "/Users/scrapfish/opt/anaconda3/envs/metis/lib/python3.8/site-packages/sklearn/linear_model/_coordinate_descent.py:525: ConvergenceWarning: Objective did not converge. You might want to increase the number of iterations. Duality gap: 137595.59225194156, tolerance: 38588.7094974359\n",
      "  model = cd_fast.enet_coordinate_descent_gram(\n",
      "/Users/scrapfish/opt/anaconda3/envs/metis/lib/python3.8/site-packages/sklearn/linear_model/_coordinate_descent.py:525: ConvergenceWarning: Objective did not converge. You might want to increase the number of iterations. Duality gap: 141675.62740614265, tolerance: 38588.7094974359\n",
      "  model = cd_fast.enet_coordinate_descent_gram(\n",
      "/Users/scrapfish/opt/anaconda3/envs/metis/lib/python3.8/site-packages/sklearn/linear_model/_coordinate_descent.py:525: ConvergenceWarning: Objective did not converge. You might want to increase the number of iterations. Duality gap: 145221.16342943907, tolerance: 38588.7094974359\n",
      "  model = cd_fast.enet_coordinate_descent_gram(\n",
      "/Users/scrapfish/opt/anaconda3/envs/metis/lib/python3.8/site-packages/sklearn/linear_model/_coordinate_descent.py:525: ConvergenceWarning: Objective did not converge. You might want to increase the number of iterations. Duality gap: 148295.95221939683, tolerance: 38588.7094974359\n",
      "  model = cd_fast.enet_coordinate_descent_gram(\n",
      "/Users/scrapfish/opt/anaconda3/envs/metis/lib/python3.8/site-packages/sklearn/linear_model/_coordinate_descent.py:525: ConvergenceWarning: Objective did not converge. You might want to increase the number of iterations. Duality gap: 150957.72663246095, tolerance: 38588.7094974359\n",
      "  model = cd_fast.enet_coordinate_descent_gram(\n",
      "/Users/scrapfish/opt/anaconda3/envs/metis/lib/python3.8/site-packages/sklearn/linear_model/_coordinate_descent.py:525: ConvergenceWarning: Objective did not converge. You might want to increase the number of iterations. Duality gap: 151040.86213619262, tolerance: 38588.7094974359\n",
      "  model = cd_fast.enet_coordinate_descent_gram(\n",
      "/Users/scrapfish/opt/anaconda3/envs/metis/lib/python3.8/site-packages/sklearn/linear_model/_coordinate_descent.py:525: ConvergenceWarning: Objective did not converge. You might want to increase the number of iterations. Duality gap: 108440.98901139945, tolerance: 38588.7094974359\n",
      "  model = cd_fast.enet_coordinate_descent_gram(\n",
      "/Users/scrapfish/opt/anaconda3/envs/metis/lib/python3.8/site-packages/sklearn/linear_model/_coordinate_descent.py:525: ConvergenceWarning: Objective did not converge. You might want to increase the number of iterations. Duality gap: 52391.61201380938, tolerance: 38588.7094974359\n",
      "  model = cd_fast.enet_coordinate_descent_gram(\n"
     ]
    },
    {
     "name": "stderr",
     "output_type": "stream",
     "text": [
      "/Users/scrapfish/opt/anaconda3/envs/metis/lib/python3.8/site-packages/sklearn/linear_model/_coordinate_descent.py:525: ConvergenceWarning: Objective did not converge. You might want to increase the number of iterations. Duality gap: 69315.60343493521, tolerance: 38588.7094974359\n",
      "  model = cd_fast.enet_coordinate_descent_gram(\n",
      "/Users/scrapfish/opt/anaconda3/envs/metis/lib/python3.8/site-packages/sklearn/linear_model/_coordinate_descent.py:525: ConvergenceWarning: Objective did not converge. You might want to increase the number of iterations. Duality gap: 85148.95448428392, tolerance: 38588.7094974359\n",
      "  model = cd_fast.enet_coordinate_descent_gram(\n",
      "/Users/scrapfish/opt/anaconda3/envs/metis/lib/python3.8/site-packages/sklearn/linear_model/_coordinate_descent.py:525: ConvergenceWarning: Objective did not converge. You might want to increase the number of iterations. Duality gap: 99784.49552440643, tolerance: 38588.7094974359\n",
      "  model = cd_fast.enet_coordinate_descent_gram(\n",
      "/Users/scrapfish/opt/anaconda3/envs/metis/lib/python3.8/site-packages/sklearn/linear_model/_coordinate_descent.py:525: ConvergenceWarning: Objective did not converge. You might want to increase the number of iterations. Duality gap: 113169.13133373857, tolerance: 38588.7094974359\n",
      "  model = cd_fast.enet_coordinate_descent_gram(\n",
      "/Users/scrapfish/opt/anaconda3/envs/metis/lib/python3.8/site-packages/sklearn/linear_model/_coordinate_descent.py:525: ConvergenceWarning: Objective did not converge. You might want to increase the number of iterations. Duality gap: 125264.22513316572, tolerance: 38588.7094974359\n",
      "  model = cd_fast.enet_coordinate_descent_gram(\n",
      "/Users/scrapfish/opt/anaconda3/envs/metis/lib/python3.8/site-packages/sklearn/linear_model/_coordinate_descent.py:525: ConvergenceWarning: Objective did not converge. You might want to increase the number of iterations. Duality gap: 136091.25534965843, tolerance: 38588.7094974359\n",
      "  model = cd_fast.enet_coordinate_descent_gram(\n",
      "/Users/scrapfish/opt/anaconda3/envs/metis/lib/python3.8/site-packages/sklearn/linear_model/_coordinate_descent.py:525: ConvergenceWarning: Objective did not converge. You might want to increase the number of iterations. Duality gap: 145712.5685274154, tolerance: 38588.7094974359\n",
      "  model = cd_fast.enet_coordinate_descent_gram(\n",
      "/Users/scrapfish/opt/anaconda3/envs/metis/lib/python3.8/site-packages/sklearn/linear_model/_coordinate_descent.py:525: ConvergenceWarning: Objective did not converge. You might want to increase the number of iterations. Duality gap: 154213.2962681204, tolerance: 38588.7094974359\n",
      "  model = cd_fast.enet_coordinate_descent_gram(\n",
      "/Users/scrapfish/opt/anaconda3/envs/metis/lib/python3.8/site-packages/sklearn/linear_model/_coordinate_descent.py:525: ConvergenceWarning: Objective did not converge. You might want to increase the number of iterations. Duality gap: 161689.46806731075, tolerance: 38588.7094974359\n",
      "  model = cd_fast.enet_coordinate_descent_gram(\n",
      "/Users/scrapfish/opt/anaconda3/envs/metis/lib/python3.8/site-packages/sklearn/linear_model/_coordinate_descent.py:525: ConvergenceWarning: Objective did not converge. You might want to increase the number of iterations. Duality gap: 168240.0655656904, tolerance: 38588.7094974359\n",
      "  model = cd_fast.enet_coordinate_descent_gram(\n",
      "/Users/scrapfish/opt/anaconda3/envs/metis/lib/python3.8/site-packages/sklearn/linear_model/_coordinate_descent.py:525: ConvergenceWarning: Objective did not converge. You might want to increase the number of iterations. Duality gap: 173962.10541169345, tolerance: 38588.7094974359\n",
      "  model = cd_fast.enet_coordinate_descent_gram(\n",
      "/Users/scrapfish/opt/anaconda3/envs/metis/lib/python3.8/site-packages/sklearn/linear_model/_coordinate_descent.py:525: ConvergenceWarning: Objective did not converge. You might want to increase the number of iterations. Duality gap: 178947.64985075593, tolerance: 38588.7094974359\n",
      "  model = cd_fast.enet_coordinate_descent_gram(\n",
      "/Users/scrapfish/opt/anaconda3/envs/metis/lib/python3.8/site-packages/sklearn/linear_model/_coordinate_descent.py:525: ConvergenceWarning: Objective did not converge. You might want to increase the number of iterations. Duality gap: 183282.1364985034, tolerance: 38588.7094974359\n",
      "  model = cd_fast.enet_coordinate_descent_gram(\n",
      "/Users/scrapfish/opt/anaconda3/envs/metis/lib/python3.8/site-packages/sklearn/linear_model/_coordinate_descent.py:525: ConvergenceWarning: Objective did not converge. You might want to increase the number of iterations. Duality gap: 187043.65893138945, tolerance: 38588.7094974359\n",
      "  model = cd_fast.enet_coordinate_descent_gram(\n",
      "/Users/scrapfish/opt/anaconda3/envs/metis/lib/python3.8/site-packages/sklearn/linear_model/_coordinate_descent.py:525: ConvergenceWarning: Objective did not converge. You might want to increase the number of iterations. Duality gap: 190302.7406014204, tolerance: 38588.7094974359\n",
      "  model = cd_fast.enet_coordinate_descent_gram(\n",
      "/Users/scrapfish/opt/anaconda3/envs/metis/lib/python3.8/site-packages/sklearn/linear_model/_coordinate_descent.py:525: ConvergenceWarning: Objective did not converge. You might want to increase the number of iterations. Duality gap: 193122.4950247109, tolerance: 38588.7094974359\n",
      "  model = cd_fast.enet_coordinate_descent_gram(\n",
      "/Users/scrapfish/opt/anaconda3/envs/metis/lib/python3.8/site-packages/sklearn/linear_model/_coordinate_descent.py:525: ConvergenceWarning: Objective did not converge. You might want to increase the number of iterations. Duality gap: 195559.09751844406, tolerance: 38588.7094974359\n",
      "  model = cd_fast.enet_coordinate_descent_gram(\n",
      "/Users/scrapfish/opt/anaconda3/envs/metis/lib/python3.8/site-packages/sklearn/linear_model/_coordinate_descent.py:525: ConvergenceWarning: Objective did not converge. You might want to increase the number of iterations. Duality gap: 197662.13379986584, tolerance: 38588.7094974359\n",
      "  model = cd_fast.enet_coordinate_descent_gram(\n",
      "/Users/scrapfish/opt/anaconda3/envs/metis/lib/python3.8/site-packages/sklearn/linear_model/_coordinate_descent.py:525: ConvergenceWarning: Objective did not converge. You might want to increase the number of iterations. Duality gap: 199475.30402962863, tolerance: 38588.7094974359\n",
      "  model = cd_fast.enet_coordinate_descent_gram(\n",
      "/Users/scrapfish/opt/anaconda3/envs/metis/lib/python3.8/site-packages/sklearn/linear_model/_coordinate_descent.py:525: ConvergenceWarning: Objective did not converge. You might want to increase the number of iterations. Duality gap: 201036.93519178778, tolerance: 38588.7094974359\n",
      "  model = cd_fast.enet_coordinate_descent_gram(\n",
      "/Users/scrapfish/opt/anaconda3/envs/metis/lib/python3.8/site-packages/sklearn/linear_model/_coordinate_descent.py:525: ConvergenceWarning: Objective did not converge. You might want to increase the number of iterations. Duality gap: 202380.53313288093, tolerance: 38588.7094974359\n",
      "  model = cd_fast.enet_coordinate_descent_gram(\n"
     ]
    },
    {
     "data": {
      "text/plain": [
       "LassoCV(alphas=array([1.00000000e-02, 1.00926219e-02, 1.01861017e-02, 1.02804473e-02,\n",
       "       1.03756668e-02, 1.04717682e-02, 1.05687597e-02, 1.06666496e-02,\n",
       "       1.07654461e-02, 1.08651577e-02, 1.09657929e-02, 1.10673602e-02,\n",
       "       1.11698682e-02, 1.12733256e-02, 1.13777413e-02, 1.14831241e-02,\n",
       "       1.15894830e-02, 1.16968270e-02, 1.18051653e-02, 1.19145070e-02,\n",
       "       1.20248614e-02, 1.21362380e-0...\n",
       "       8.08924349e+01, 8.16416760e+01, 8.23978568e+01, 8.31610415e+01,\n",
       "       8.39312950e+01, 8.47086827e+01, 8.54932707e+01, 8.62851257e+01,\n",
       "       8.70843150e+01, 8.78909065e+01, 8.87049689e+01, 8.95265713e+01,\n",
       "       9.03557835e+01, 9.11926760e+01, 9.20373200e+01, 9.28897872e+01,\n",
       "       9.37501502e+01, 9.46184819e+01, 9.54948564e+01, 9.63793480e+01,\n",
       "       9.72720319e+01, 9.81729841e+01, 9.90822810e+01, 1.00000000e+02]),\n",
       "        cv=3)"
      ]
     },
     "execution_count": 14,
     "metadata": {},
     "output_type": "execute_result"
    }
   ],
   "source": [
    "alphavec = 10**np.linspace(-2,2,1000)\n",
    "\n",
    "lasso_model = LassoCV(alphas=alphavec, cv=3)\n",
    "lasso_model.fit(X_train_scaled, y_train)"
   ]
  },
  {
   "cell_type": "code",
   "execution_count": 15,
   "metadata": {
    "ExecuteTime": {
     "end_time": "2020-10-07T23:49:56.654677Z",
     "start_time": "2020-10-07T23:49:56.651696Z"
    },
    "scrolled": true
   },
   "outputs": [
    {
     "data": {
      "text/plain": [
       "1.5352750287804227"
      ]
     },
     "execution_count": 15,
     "metadata": {},
     "output_type": "execute_result"
    }
   ],
   "source": [
    "las_alpha = lasso_model.alpha_\n",
    "las_alpha"
   ]
  },
  {
   "cell_type": "code",
   "execution_count": 16,
   "metadata": {
    "ExecuteTime": {
     "end_time": "2020-10-07T23:49:56.682751Z",
     "start_time": "2020-10-07T23:49:56.656215Z"
    }
   },
   "outputs": [
    {
     "name": "stdout",
     "output_type": "stream",
     "text": [
      "Lasso Regression train R^2: 0.83303\n",
      "Lasso Regression val R^2: 0.74611\n",
      "\n",
      "Lasso Regression RMSE (train): 425.15174\n",
      "Lasso Regression RMSE (val): 493.83198\n"
     ]
    }
   ],
   "source": [
    "las = Lasso(alpha=las_alpha)\n",
    "\n",
    "las.fit(X_train_scaled, y_train)\n",
    "print(f'Lasso Regression train R^2: {las.score(X_train_scaled, y_train):.5f}')\n",
    "print(f'Lasso Regression val R^2: {las.score(X_val_scaled, y_val):.5f}')\n",
    "print(\"\")\n",
    "print(f'Lasso Regression RMSE (train): {mean_squared_error(y_train, las.predict(X_train_scaled), squared=False):.5f}')\n",
    "print(f'Lasso Regression RMSE (val): {mean_squared_error(y_val, las.predict(X_val_scaled), squared=False):.5f}')"
   ]
  },
  {
   "cell_type": "markdown",
   "metadata": {},
   "source": [
    "## Ridge"
   ]
  },
  {
   "cell_type": "code",
   "execution_count": 17,
   "metadata": {
    "ExecuteTime": {
     "end_time": "2020-10-07T23:49:59.604010Z",
     "start_time": "2020-10-07T23:49:56.684607Z"
    }
   },
   "outputs": [
    {
     "data": {
      "text/plain": [
       "RidgeCV(alphas=array([1.00000000e-02, 1.01862899e-02, 1.03760502e-02, 1.05693455e-02,\n",
       "       1.07662418e-02, 1.09668060e-02, 1.11711065e-02, 1.13792129e-02,\n",
       "       1.15911962e-02, 1.18071285e-02, 1.20270833e-02, 1.22511358e-02,\n",
       "       1.24793621e-02, 1.27118400e-02, 1.29486487e-02, 1.31898690e-02,\n",
       "       1.34355829e-02, 1.36858742e-02, 1.39408283e-02, 1.42005318e-02,\n",
       "       1.44650734e-02, 1.47345431e-0...\n",
       "       6.54080591e+01, 6.66265452e+01, 6.78677305e+01, 6.91320378e+01,\n",
       "       7.04198979e+01, 7.17317494e+01, 7.30680395e+01, 7.44292233e+01,\n",
       "       7.58157646e+01, 7.72281357e+01, 7.86668179e+01, 8.01323013e+01,\n",
       "       8.16250851e+01, 8.31456781e+01, 8.46945981e+01, 8.62723729e+01,\n",
       "       8.78795401e+01, 8.95166472e+01, 9.11842520e+01, 9.28829225e+01,\n",
       "       9.46132376e+01, 9.63757866e+01, 9.81711702e+01, 1.00000000e+02]),\n",
       "        cv=3)"
      ]
     },
     "execution_count": 17,
     "metadata": {},
     "output_type": "execute_result"
    }
   ],
   "source": [
    "alphavec = 10**np.linspace(-2,2,500)\n",
    "\n",
    "ridge_model = RidgeCV(alphas=alphavec, cv=3)\n",
    "ridge_model.fit(X_train_scaled, y_train)"
   ]
  },
  {
   "cell_type": "code",
   "execution_count": 18,
   "metadata": {
    "ExecuteTime": {
     "end_time": "2020-10-07T23:49:59.608553Z",
     "start_time": "2020-10-07T23:49:59.605701Z"
    }
   },
   "outputs": [
    {
     "data": {
      "text/plain": [
       "6.881376986415663"
      ]
     },
     "execution_count": 18,
     "metadata": {},
     "output_type": "execute_result"
    }
   ],
   "source": [
    "rid_alpha = ridge_model.alpha_\n",
    "rid_alpha"
   ]
  },
  {
   "cell_type": "code",
   "execution_count": 19,
   "metadata": {
    "ExecuteTime": {
     "end_time": "2020-10-07T23:49:59.612338Z",
     "start_time": "2020-10-07T23:49:59.610366Z"
    }
   },
   "outputs": [],
   "source": [
    "#best_ridge_alpha = 42.78214201767613"
   ]
  },
  {
   "cell_type": "code",
   "execution_count": 20,
   "metadata": {
    "ExecuteTime": {
     "end_time": "2020-10-07T23:49:59.622334Z",
     "start_time": "2020-10-07T23:49:59.614045Z"
    }
   },
   "outputs": [
    {
     "name": "stdout",
     "output_type": "stream",
     "text": [
      "Ridge Regression train R^2: 0.83115\n",
      "Ridge Regression val R^2: 0.74344\n",
      "\n",
      "Ridge Regression RMSE (train): 427.54008\n",
      "Ridge Regression RMSE (val): 496.42742\n"
     ]
    }
   ],
   "source": [
    "rid = Ridge(alpha=rid_alpha)\n",
    "\n",
    "rid.fit(X_train_scaled, y_train)\n",
    "print(f'Ridge Regression train R^2: {rid.score(X_train_scaled, y_train):.5f}')\n",
    "print(f'Ridge Regression val R^2: {rid.score(X_val_scaled, y_val):.5f}')\n",
    "print(\"\")\n",
    "print(f'Ridge Regression RMSE (train): {mean_squared_error(y_train, rid.predict(X_train_scaled), squared=False):.5f}')\n",
    "print(f'Ridge Regression RMSE (val): {mean_squared_error(y_val, rid.predict(X_val_scaled), squared=False):.5f}')"
   ]
  },
  {
   "cell_type": "markdown",
   "metadata": {},
   "source": [
    "## Cross Validation & Comparison"
   ]
  },
  {
   "cell_type": "code",
   "execution_count": 21,
   "metadata": {
    "ExecuteTime": {
     "end_time": "2020-10-07T23:49:59.626718Z",
     "start_time": "2020-10-07T23:49:59.624234Z"
    }
   },
   "outputs": [],
   "source": [
    "sf2 = sf.copy()"
   ]
  },
  {
   "cell_type": "code",
   "execution_count": 22,
   "metadata": {
    "ExecuteTime": {
     "end_time": "2020-10-07T23:49:59.634800Z",
     "start_time": "2020-10-07T23:49:59.628748Z"
    }
   },
   "outputs": [],
   "source": [
    "X, y = sf2.drop('price',axis=1), sf2['price']\n",
    "\n",
    "# Training versus Test Data\n",
    "# hold out 20% of the data for testing\n",
    "X, X_test, y, y_test = train_test_split(X, y, test_size=.25, random_state=6)"
   ]
  },
  {
   "cell_type": "code",
   "execution_count": 23,
   "metadata": {
    "ExecuteTime": {
     "end_time": "2020-10-07T23:49:59.776577Z",
     "start_time": "2020-10-07T23:49:59.636791Z"
    }
   },
   "outputs": [
    {
     "name": "stdout",
     "output_type": "stream",
     "text": [
      "Ridge\n",
      "Ridge mean cv r^2 (TRAIN): 0.80235 +- 0.00675\n",
      "Ridge mean cv r^2 (VAL): 0.72527 +- 0.04001\n",
      "Ridge mean RMSE (TRAIN): 448.35445 +- 10.945\n",
      "Ridge mean RMSE (VAL): 448.35445 +- 10.945\n",
      "\n",
      "Lasso\n",
      "Lasso mean cv r^2 (TRAIN): 0.80210 +- 0.00667\n",
      "Lasso mean cv r^2 (VAL): 0.72690 +- 0.03743\n",
      "Lasso mean RMSE (VAL): 448.64081 +- 10.93074\n",
      "Lasso mean RMSE (VAL): 522.49602 +- 48.74722\n"
     ]
    }
   ],
   "source": [
    "kf = KFold(n_splits=5, shuffle=True, random_state = 17)\n",
    "\n",
    "cv_rid_train_r2s, cv_las_train_r2s = [], []\n",
    "cv_rid_val_r2s, cv_las_val_r2s = [], []\n",
    "\n",
    "rid_rmses_train, las_rmses_train = [], []\n",
    "rid_rmses_val, las_rmses_val = [], []\n",
    "\n",
    "X_kf, y_kf = np.array(X), np.array(y)\n",
    "\n",
    "for train_ind, val_ind in kf.split(X, y):\n",
    "    \n",
    "    X_train, y_train = X_kf[train_ind], y_kf[train_ind]\n",
    "    X_val, y_val = X_kf[val_ind], y_kf[val_ind]\n",
    "    \n",
    "    # Set up poly features\n",
    "    poly = PolynomialFeatures(degree=2, interaction_only=False)\n",
    "    X_train_poly = poly.fit_transform(X_train)\n",
    "    X_val_poly = poly.transform(X_val)\n",
    "    \n",
    "    # Scaling for Ridge & Lasso \n",
    "    scaler = StandardScaler(with_mean=False)\n",
    "    X_train_scaled = scaler.fit_transform(X_train_poly)\n",
    "    X_val_scaled = scaler.transform(X_val_poly)\n",
    "    \n",
    "    # Lasso\n",
    "    las = Lasso(alpha=las_alpha)\n",
    "    las.fit(X_train_scaled, y_train)\n",
    "    \n",
    "    cv_las_train_r2s.append(las.score(X_train_scaled, y_train))\n",
    "    cv_las_val_r2s.append(las.score(X_val_scaled, y_val))\n",
    "    las_rmses_train.append(mean_squared_error(y_train, las.predict(X_train_scaled), squared=False))\n",
    "    las_rmses_val.append(mean_squared_error(y_val, las.predict(X_val_scaled), squared=False))\n",
    "    \n",
    "    # Ridge\n",
    "    rid = Ridge(alpha=rid_alpha)\n",
    "    rid.fit(X_train_scaled, y_train)\n",
    "    \n",
    "    cv_rid_train_r2s.append(rid.score(X_train_scaled, y_train))\n",
    "    cv_rid_val_r2s.append(rid.score(X_val_scaled, y_val))\n",
    "    rid_rmses_train.append(mean_squared_error(y_train, rid.predict(X_train_scaled), squared=False))\n",
    "    rid_rmses_val.append(mean_squared_error(y_val, rid.predict(X_val_scaled), squared=False))\n",
    "\n",
    "# Summary output\n",
    "\n",
    "print(\"Ridge\")\n",
    "print(f'Ridge mean cv r^2 (TRAIN): {np.mean(cv_rid_train_r2s):.5f} +- {np.std(cv_rid_train_r2s):.5f}')\n",
    "print(f'Ridge mean cv r^2 (VAL): {np.mean(cv_rid_val_r2s):.5f} +- {np.std(cv_rid_val_r2s):.5f}')\n",
    "print(f'Ridge mean RMSE (TRAIN): {np.mean(rid_rmses_train):.5f} +- {np.std(rid_rmses_train):.3f}')\n",
    "print(f'Ridge mean RMSE (VAL): {np.mean(rid_rmses_train):.5f} +- {np.std(rid_rmses_train):.3f}')\n",
    "print('')\n",
    "print(\"Lasso\")\n",
    "print(f'Lasso mean cv r^2 (TRAIN): {np.mean(cv_las_train_r2s):.5f} +- {np.std(cv_las_train_r2s):.5f}')\n",
    "print(f'Lasso mean cv r^2 (VAL): {np.mean(cv_las_val_r2s):.5f} +- {np.std(cv_las_val_r2s):.5f}')\n",
    "print(f'Lasso mean RMSE (VAL): {np.mean(las_rmses_train):.5f} +- {np.std(las_rmses_train):.5f}')\n",
    "print(f'Lasso mean RMSE (VAL): {np.mean(las_rmses_val):.5f} +- {np.std(las_rmses_val):.5f}')    "
   ]
  },
  {
   "cell_type": "code",
   "execution_count": 24,
   "metadata": {
    "ExecuteTime": {
     "end_time": "2020-10-07T23:49:59.791607Z",
     "start_time": "2020-10-07T23:49:59.778461Z"
    }
   },
   "outputs": [
    {
     "data": {
      "text/html": [
       "<div>\n",
       "<style scoped>\n",
       "    .dataframe tbody tr th:only-of-type {\n",
       "        vertical-align: middle;\n",
       "    }\n",
       "\n",
       "    .dataframe tbody tr th {\n",
       "        vertical-align: top;\n",
       "    }\n",
       "\n",
       "    .dataframe thead th {\n",
       "        text-align: right;\n",
       "    }\n",
       "</style>\n",
       "<table border=\"1\" class=\"dataframe\">\n",
       "  <thead>\n",
       "    <tr style=\"text-align: right;\">\n",
       "      <th></th>\n",
       "      <th>price</th>\n",
       "      <th>sqft</th>\n",
       "      <th>beds</th>\n",
       "      <th>bath</th>\n",
       "      <th>laundry</th>\n",
       "      <th>pets</th>\n",
       "      <th>parking</th>\n",
       "      <th>hood_district_1</th>\n",
       "      <th>hood_district_2</th>\n",
       "      <th>hood_district_3</th>\n",
       "      <th>hood_district_4</th>\n",
       "      <th>hood_district_5</th>\n",
       "      <th>hood_district_6</th>\n",
       "      <th>hood_district_7</th>\n",
       "      <th>hood_district_8</th>\n",
       "      <th>hood_district_9</th>\n",
       "    </tr>\n",
       "  </thead>\n",
       "  <tbody>\n",
       "    <tr>\n",
       "      <th>1</th>\n",
       "      <td>3500</td>\n",
       "      <td>550.0</td>\n",
       "      <td>1.0</td>\n",
       "      <td>1.0</td>\n",
       "      <td>2</td>\n",
       "      <td>1</td>\n",
       "      <td>2</td>\n",
       "      <td>0</td>\n",
       "      <td>0</td>\n",
       "      <td>0</td>\n",
       "      <td>0</td>\n",
       "      <td>0</td>\n",
       "      <td>0</td>\n",
       "      <td>1</td>\n",
       "      <td>0</td>\n",
       "      <td>0</td>\n",
       "    </tr>\n",
       "    <tr>\n",
       "      <th>2</th>\n",
       "      <td>5100</td>\n",
       "      <td>1300.0</td>\n",
       "      <td>2.0</td>\n",
       "      <td>1.0</td>\n",
       "      <td>2</td>\n",
       "      <td>1</td>\n",
       "      <td>0</td>\n",
       "      <td>0</td>\n",
       "      <td>0</td>\n",
       "      <td>0</td>\n",
       "      <td>0</td>\n",
       "      <td>0</td>\n",
       "      <td>0</td>\n",
       "      <td>1</td>\n",
       "      <td>0</td>\n",
       "      <td>0</td>\n",
       "    </tr>\n",
       "    <tr>\n",
       "      <th>4</th>\n",
       "      <td>3100</td>\n",
       "      <td>561.0</td>\n",
       "      <td>1.0</td>\n",
       "      <td>1.0</td>\n",
       "      <td>0</td>\n",
       "      <td>1</td>\n",
       "      <td>0</td>\n",
       "      <td>0</td>\n",
       "      <td>0</td>\n",
       "      <td>0</td>\n",
       "      <td>0</td>\n",
       "      <td>0</td>\n",
       "      <td>0</td>\n",
       "      <td>1</td>\n",
       "      <td>0</td>\n",
       "      <td>0</td>\n",
       "    </tr>\n",
       "    <tr>\n",
       "      <th>5</th>\n",
       "      <td>3800</td>\n",
       "      <td>800.0</td>\n",
       "      <td>2.0</td>\n",
       "      <td>1.0</td>\n",
       "      <td>1</td>\n",
       "      <td>1</td>\n",
       "      <td>2</td>\n",
       "      <td>0</td>\n",
       "      <td>0</td>\n",
       "      <td>0</td>\n",
       "      <td>0</td>\n",
       "      <td>0</td>\n",
       "      <td>0</td>\n",
       "      <td>0</td>\n",
       "      <td>0</td>\n",
       "      <td>1</td>\n",
       "    </tr>\n",
       "    <tr>\n",
       "      <th>6</th>\n",
       "      <td>3100</td>\n",
       "      <td>750.0</td>\n",
       "      <td>1.0</td>\n",
       "      <td>1.0</td>\n",
       "      <td>2</td>\n",
       "      <td>0</td>\n",
       "      <td>2</td>\n",
       "      <td>0</td>\n",
       "      <td>0</td>\n",
       "      <td>0</td>\n",
       "      <td>0</td>\n",
       "      <td>0</td>\n",
       "      <td>0</td>\n",
       "      <td>0</td>\n",
       "      <td>1</td>\n",
       "      <td>0</td>\n",
       "    </tr>\n",
       "  </tbody>\n",
       "</table>\n",
       "</div>"
      ],
      "text/plain": [
       "   price    sqft  beds  bath  laundry  pets  parking  hood_district_1  \\\n",
       "1   3500   550.0   1.0   1.0        2     1        2                0   \n",
       "2   5100  1300.0   2.0   1.0        2     1        0                0   \n",
       "4   3100   561.0   1.0   1.0        0     1        0                0   \n",
       "5   3800   800.0   2.0   1.0        1     1        2                0   \n",
       "6   3100   750.0   1.0   1.0        2     0        2                0   \n",
       "\n",
       "   hood_district_2  hood_district_3  hood_district_4  hood_district_5  \\\n",
       "1                0                0                0                0   \n",
       "2                0                0                0                0   \n",
       "4                0                0                0                0   \n",
       "5                0                0                0                0   \n",
       "6                0                0                0                0   \n",
       "\n",
       "   hood_district_6  hood_district_7  hood_district_8  hood_district_9  \n",
       "1                0                1                0                0  \n",
       "2                0                1                0                0  \n",
       "4                0                1                0                0  \n",
       "5                0                0                0                1  \n",
       "6                0                0                1                0  "
      ]
     },
     "execution_count": 24,
     "metadata": {},
     "output_type": "execute_result"
    }
   ],
   "source": [
    "sf2.head()"
   ]
  },
  {
   "cell_type": "code",
   "execution_count": 25,
   "metadata": {
    "ExecuteTime": {
     "end_time": "2020-10-07T23:49:59.799511Z",
     "start_time": "2020-10-07T23:49:59.793367Z"
    },
    "scrolled": true
   },
   "outputs": [],
   "source": [
    "rid_coefs = rid.coef_\n",
    "las_coefs = las.coef_\n",
    "\n",
    "features = sf2.columns[1:]\n",
    "\n",
    "coef_data = {'Features': poly.get_feature_names(X.columns),\n",
    "             'Ridge': rid_coefs,\n",
    "             'Lasso': las_coefs}\n",
    "\n",
    "coef_df = pd.DataFrame(coef_data)"
   ]
  },
  {
   "cell_type": "code",
   "execution_count": 26,
   "metadata": {
    "ExecuteTime": {
     "end_time": "2020-10-07T23:49:59.803109Z",
     "start_time": "2020-10-07T23:49:59.801254Z"
    }
   },
   "outputs": [],
   "source": [
    "#coef_df[:50]"
   ]
  },
  {
   "cell_type": "code",
   "execution_count": 27,
   "metadata": {
    "ExecuteTime": {
     "end_time": "2020-10-07T23:49:59.806859Z",
     "start_time": "2020-10-07T23:49:59.805016Z"
    }
   },
   "outputs": [],
   "source": [
    "#coef_df[50:100]"
   ]
  },
  {
   "cell_type": "code",
   "execution_count": 28,
   "metadata": {
    "ExecuteTime": {
     "end_time": "2020-10-07T23:49:59.810852Z",
     "start_time": "2020-10-07T23:49:59.808777Z"
    }
   },
   "outputs": [],
   "source": [
    "#coef_df[100:]"
   ]
  },
  {
   "cell_type": "markdown",
   "metadata": {},
   "source": [
    "# Stats Models"
   ]
  },
  {
   "cell_type": "code",
   "execution_count": 29,
   "metadata": {
    "ExecuteTime": {
     "end_time": "2020-10-07T23:49:59.814810Z",
     "start_time": "2020-10-07T23:49:59.812760Z"
    }
   },
   "outputs": [],
   "source": [
    "# poly = PolynomialFeatures(degree=2, interaction_only=False)\n",
    "    \n",
    "# X_train_poly = poly.fit_transform(X)\n",
    "# X_test_poly = poly.transform(X_test)\n",
    "\n",
    "# # Scaling for Ridge & Lasso \n",
    "# scaler = StandardScaler(with_mean=False)\n",
    "\n",
    "# X_train_scaled = scaler.fit_transform(X_train_poly)\n",
    "# X_test_scaled = scaler.transform(X_test_poly)"
   ]
  },
  {
   "cell_type": "code",
   "execution_count": null,
   "metadata": {},
   "outputs": [],
   "source": []
  },
  {
   "cell_type": "code",
   "execution_count": 30,
   "metadata": {
    "ExecuteTime": {
     "end_time": "2020-10-07T23:49:59.818302Z",
     "start_time": "2020-10-07T23:49:59.816531Z"
    }
   },
   "outputs": [],
   "source": [
    "# coef_df[:50]"
   ]
  },
  {
   "cell_type": "code",
   "execution_count": 31,
   "metadata": {
    "ExecuteTime": {
     "end_time": "2020-10-07T23:49:59.822008Z",
     "start_time": "2020-10-07T23:49:59.820046Z"
    }
   },
   "outputs": [],
   "source": [
    "# model = sm.OLS(y, sm.add_constant(X_train_scaled))\n",
    "# results = model.fit()\n",
    "\n",
    "# results.summary()"
   ]
  },
  {
   "cell_type": "code",
   "execution_count": null,
   "metadata": {},
   "outputs": [],
   "source": []
  },
  {
   "cell_type": "markdown",
   "metadata": {},
   "source": [
    "# RIDGE: Full Train and Test"
   ]
  },
  {
   "cell_type": "code",
   "execution_count": 32,
   "metadata": {
    "ExecuteTime": {
     "end_time": "2020-10-07T23:49:59.835450Z",
     "start_time": "2020-10-07T23:49:59.823954Z"
    }
   },
   "outputs": [],
   "source": [
    "poly = PolynomialFeatures(degree=2, interaction_only=False)\n",
    "    \n",
    "X_train_poly = poly.fit_transform(X)\n",
    "X_test_poly = poly.transform(X_test)\n",
    "\n",
    "# Scaling for Ridge & Lasso \n",
    "scaler = StandardScaler(with_mean=False)\n",
    "\n",
    "X_train_scaled = scaler.fit_transform(X_train_poly)\n",
    "X_test_scaled = scaler.transform(X_test_poly)"
   ]
  },
  {
   "cell_type": "code",
   "execution_count": 33,
   "metadata": {
    "ExecuteTime": {
     "end_time": "2020-10-07T23:49:59.843354Z",
     "start_time": "2020-10-07T23:49:59.837337Z"
    }
   },
   "outputs": [
    {
     "data": {
      "text/plain": [
       "Ridge(alpha=6.881376986415663)"
      ]
     },
     "execution_count": 33,
     "metadata": {},
     "output_type": "execute_result"
    }
   ],
   "source": [
    "rid = Ridge(alpha=rid_alpha)\n",
    "rid.fit(X_train_scaled, y)"
   ]
  },
  {
   "cell_type": "code",
   "execution_count": 34,
   "metadata": {
    "ExecuteTime": {
     "end_time": "2020-10-07T23:49:59.853667Z",
     "start_time": "2020-10-07T23:49:59.845197Z"
    },
    "scrolled": true
   },
   "outputs": [
    {
     "name": "stdout",
     "output_type": "stream",
     "text": [
      "Ridge - training score:  0.7959843301000518\n",
      "Rige - test score:  0.816917518878142\n",
      "\n",
      "RMSE - training:  455.76294353583376\n",
      "RMSE - test:  463.9632772503655\n"
     ]
    }
   ],
   "source": [
    "print(\"Ridge - training score: \", rid.score(X_train_scaled, y))\n",
    "print(\"Rige - test score: \", rid.score(X_test_scaled, y_test))\n",
    "print(\"\")\n",
    "print(\"RMSE - training: \", mean_squared_error(y, rid.predict(X_train_scaled), squared=False))\n",
    "print(\"RMSE - test: \", mean_squared_error(y_test, rid.predict(X_test_scaled), squared=False))"
   ]
  },
  {
   "cell_type": "code",
   "execution_count": 35,
   "metadata": {
    "ExecuteTime": {
     "end_time": "2020-10-07T23:50:56.056698Z",
     "start_time": "2020-10-07T23:50:56.053851Z"
    }
   },
   "outputs": [],
   "source": [
    "rid_predict = rid.predict(X_test_scaled)"
   ]
  },
  {
   "cell_type": "code",
   "execution_count": 149,
   "metadata": {
    "ExecuteTime": {
     "end_time": "2020-10-08T00:30:43.706957Z",
     "start_time": "2020-10-08T00:30:43.449946Z"
    }
   },
   "outputs": [
    {
     "data": {
      "image/png": "[encoded data removed]",
      "text/plain": [
       "<Figure size 1008x576 with 1 Axes>"
      ]
     },
     "metadata": {},
     "output_type": "display_data"
    }
   ],
   "source": [
    "plt.figure(figsize=(14, 8))\n",
    "plt.scatter(rid_predict, y_test, alpha=.6) \n",
    "\n",
    "z = np.polyfit(rid_predict, y_test, 1)\n",
    "p = np.poly1d(z)\n",
    "plb.plot(rid_predict, p(rid_predict), 'm-', color='red')\n",
    "plt.plot(np.linspace(0,7000,1000), np.linspace(0,7000,1000), color='grey')\n",
    "\n",
    "plt.xlim(0, 7000)\n",
    "plt.ylim(0, 7000)\n",
    "\n",
    "plt.title('SF Apartment Rentals (Craigslist): Actual Versus Predicted', fontsize=18, fontname='Arial')\n",
    "plt.xlabel('Predicted Values ($)', fontsize=16, fontname='Arial')\n",
    "plt.ylabel('Actual Values ($)', fontsize=16, fontname='Arial');\n",
    "\n",
    "#plt.savefig('img/actual_predicted.png');"
   ]
  },
  {
   "cell_type": "code",
   "execution_count": null,
   "metadata": {},
   "outputs": [],
   "source": []
  },
  {
   "cell_type": "code",
   "execution_count": 58,
   "metadata": {
    "ExecuteTime": {
     "end_time": "2020-10-08T00:01:05.345601Z",
     "start_time": "2020-10-08T00:01:05.343235Z"
    }
   },
   "outputs": [],
   "source": [
    "rid_residual = (y_test - rid_predict)"
   ]
  },
  {
   "cell_type": "code",
   "execution_count": 148,
   "metadata": {
    "ExecuteTime": {
     "end_time": "2020-10-08T00:30:38.695348Z",
     "start_time": "2020-10-08T00:30:38.426400Z"
    }
   },
   "outputs": [
    {
     "data": {
      "image/png": "[encoded data removed]",
      "text/plain": [
       "<Figure size 1008x576 with 1 Axes>"
      ]
     },
     "metadata": {},
     "output_type": "display_data"
    }
   ],
   "source": [
    "plt.figure(figsize=(14, 8))\n",
    "plt.scatter(rid_predict, rid_residual, alpha=.7)   \n",
    "\n",
    "plt.axhline(0, linestyle='--', color='grey')\n",
    "plt.title('Poly-Ridge Regression Model: Residuals', fontsize=18, fontname='Arial')\n",
    "plt.ylim(-2000, 2000)\n",
    "plt.xlabel('Predicted Values ($)', fontsize=16, fontname='Arial')\n",
    "plt.ylabel('Residuals ($)', fontsize=16, fontname='Arial');\n",
    "\n",
    "#plt.savefig('img/residuals.png');"
   ]
  },
  {
   "cell_type": "code",
   "execution_count": 147,
   "metadata": {
    "ExecuteTime": {
     "end_time": "2020-10-08T00:30:32.306764Z",
     "start_time": "2020-10-08T00:30:32.002248Z"
    }
   },
   "outputs": [
    {
     "data": {
      "image/png": "[encoded data removed]",
      "text/plain": [
       "<Figure size 1008x576 with 1 Axes>"
      ]
     },
     "metadata": {},
     "output_type": "display_data"
    }
   ],
   "source": [
    "plt.figure(figsize=(14, 8))\n",
    "ax_actual = sns.histplot(sf.price, kde=True)\n",
    "ax_predict = sns.histplot(rid_predict, kde=True)\n",
    "ax_predict.set_title('Price Distribution: Raw Data vs. Prediction', fontname='Arial', fontsize=18)\n",
    "ax_predict.set_xlabel('Price ($)', fontname='Arial', fontsize=16)\n",
    "ax_predict.set_ylabel('Count', fontname='Arial', fontsize=16)\n",
    "ax_predict.set_yticks([0, 25, 50, 75, 100, 125])\n",
    "ax_predict.set_xticks([0, 1000, 2000, 3000, 4000, 5000, 6000])\n",
    "\n",
    "#plt.savefig('img/distribution.png');"
   ]
  },
  {
   "cell_type": "code",
   "execution_count": null,
   "metadata": {},
   "outputs": [],
   "source": []
  },
  {
   "cell_type": "code",
   "execution_count": 56,
   "metadata": {
    "ExecuteTime": {
     "end_time": "2020-10-07T23:57:22.859414Z",
     "start_time": "2020-10-07T23:57:22.853848Z"
    }
   },
   "outputs": [
    {
     "data": {
      "text/plain": [
       "361.2418297079297"
      ]
     },
     "execution_count": 56,
     "metadata": {},
     "output_type": "execute_result"
    }
   ],
   "source": [
    "mae = np.mean(np.abs(rid_predict - y_test))\n",
    "mae"
   ]
  },
  {
   "cell_type": "code",
   "execution_count": null,
   "metadata": {},
   "outputs": [],
   "source": []
  }
 ],
 "metadata": {
  "kernelspec": {
   "display_name": "Python [conda env:metis] *",
   "language": "python",
   "name": "conda-env-metis-py"
  },
  "language_info": {
   "codemirror_mode": {
    "name": "ipython",
    "version": 3
   },
   "file_extension": ".py",
   "mimetype": "text/x-python",
   "name": "python",
   "nbconvert_exporter": "python",
   "pygments_lexer": "ipython3",
   "version": "3.8.5"
  },
  "toc": {
   "base_numbering": 1,
   "nav_menu": {},
   "number_sections": true,
   "sideBar": true,
   "skip_h1_title": false,
   "title_cell": "Table of Contents",
   "title_sidebar": "Contents",
   "toc_cell": false,
   "toc_position": {},
   "toc_section_display": true,
   "toc_window_display": true
  },
  "varInspector": {
   "cols": {
    "lenName": 16,
    "lenType": 16,
    "lenVar": 40
   },
   "kernels_config": {
    "python": {
     "delete_cmd_postfix": "",
     "delete_cmd_prefix": "del ",
     "library": "var_list.py",
     "varRefreshCmd": "print(var_dic_list())"
    },
    "r": {
     "delete_cmd_postfix": ") ",
     "delete_cmd_prefix": "rm(",
     "library": "var_list.r",
     "varRefreshCmd": "cat(var_dic_list()) "
    }
   },
   "types_to_exclude": [
    "module",
    "function",
    "builtin_function_or_method",
    "instance",
    "_Feature"
   ],
   "window_display": false
  }
 },
 "nbformat": 4,
 "nbformat_minor": 4
}
