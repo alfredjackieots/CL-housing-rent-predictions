{
 "cells": [
  {
   "cell_type": "code",
   "execution_count": null,
   "metadata": {},
   "outputs": [],
   "source": []
  },
  {
   "cell_type": "code",
   "execution_count": 1,
   "metadata": {
    "ExecuteTime": {
     "end_time": "2020-10-07T01:34:24.474788Z",
     "start_time": "2020-10-07T01:34:23.039356Z"
    }
   },
   "outputs": [],
   "source": [
    "# Necessary imports\n",
    "import pandas as pd\n",
    "import numpy as np\n",
    "#import seaborn as sns\n",
    "import matplotlib.pyplot as plt\n",
    "import matplotlib.pylab as plb \n",
    "%matplotlib inline\n",
    "\n",
    "from sklearn.model_selection import train_test_split\n",
    "from sklearn.linear_model import LinearRegression, Lasso, LassoCV, Ridge, RidgeCV\n",
    "from sklearn.preprocessing import StandardScaler\n",
    "from sklearn.metrics import r2_score, mean_squared_error\n",
    "\n",
    "from model_evaluation import model_eval_with_alphavec, model_eval_with_alpha\n",
    "\n",
    "#sns.set(context='notebook', style='whitegrid', font_scale=1.2)"
   ]
  },
  {
   "cell_type": "markdown",
   "metadata": {},
   "source": [
    "## Data Import"
   ]
  },
  {
   "cell_type": "code",
   "execution_count": 2,
   "metadata": {
    "ExecuteTime": {
     "end_time": "2020-10-07T01:34:24.485151Z",
     "start_time": "2020-10-07T01:34:24.476538Z"
    }
   },
   "outputs": [],
   "source": [
    "sf = pd.read_csv('data_files/sf_clean.csv')\n",
    "\n",
    "# Reformatting hood_district names\n",
    "sf['hood_district'] = sf['hood_district'].astype(int)\n",
    "sf['hood_district'] = sf['hood_district'].astype(str)"
   ]
  },
  {
   "cell_type": "markdown",
   "metadata": {},
   "source": [
    "### Outliers (price > 10k per month)"
   ]
  },
  {
   "cell_type": "code",
   "execution_count": 3,
   "metadata": {
    "ExecuteTime": {
     "end_time": "2020-10-07T01:34:24.495646Z",
     "start_time": "2020-10-07T01:34:24.490599Z"
    }
   },
   "outputs": [],
   "source": [
    "sf = sf[sf['price'] < 10000]"
   ]
  },
  {
   "cell_type": "markdown",
   "metadata": {},
   "source": [
    "## Feature Selection / Engineering"
   ]
  },
  {
   "cell_type": "code",
   "execution_count": 4,
   "metadata": {
    "ExecuteTime": {
     "end_time": "2020-10-07T01:34:24.500264Z",
     "start_time": "2020-10-07T01:34:24.497134Z"
    }
   },
   "outputs": [],
   "source": [
    "sf = sf.drop(['pets', 'housing_type'], axis=1)"
   ]
  },
  {
   "cell_type": "code",
   "execution_count": 5,
   "metadata": {
    "ExecuteTime": {
     "end_time": "2020-10-07T01:34:24.504466Z",
     "start_time": "2020-10-07T01:34:24.502262Z"
    }
   },
   "outputs": [],
   "source": [
    "# sns.pairplot(sf, height=2, aspect=1.25, corner=True);"
   ]
  },
  {
   "cell_type": "code",
   "execution_count": 6,
   "metadata": {
    "ExecuteTime": {
     "end_time": "2020-10-07T01:34:24.514586Z",
     "start_time": "2020-10-07T01:34:24.506161Z"
    }
   },
   "outputs": [],
   "source": [
    "sf = pd.get_dummies(sf)"
   ]
  },
  {
   "cell_type": "code",
   "execution_count": 7,
   "metadata": {
    "ExecuteTime": {
     "end_time": "2020-10-07T01:34:24.521996Z",
     "start_time": "2020-10-07T01:34:24.517994Z"
    }
   },
   "outputs": [],
   "source": [
    "cols_to_drop = ['laundry_(c) no laundry',\n",
    "                'laundry_(b) on-site',\n",
    "               #'pets_(d) no pets', \n",
    "               #'housing_type_(c) multi', \n",
    "               'parking_(d) no parking',\n",
    "               'hood_district_10']\n",
    "\n",
    "sf = sf.drop(cols_to_drop, axis=1)"
   ]
  },
  {
   "cell_type": "code",
   "execution_count": 8,
   "metadata": {
    "ExecuteTime": {
     "end_time": "2020-10-07T01:34:24.539726Z",
     "start_time": "2020-10-07T01:34:24.524647Z"
    }
   },
   "outputs": [
    {
     "data": {
      "text/html": [
       "<div>\n",
       "<style scoped>\n",
       "    .dataframe tbody tr th:only-of-type {\n",
       "        vertical-align: middle;\n",
       "    }\n",
       "\n",
       "    .dataframe tbody tr th {\n",
       "        vertical-align: top;\n",
       "    }\n",
       "\n",
       "    .dataframe thead th {\n",
       "        text-align: right;\n",
       "    }\n",
       "</style>\n",
       "<table border=\"1\" class=\"dataframe\">\n",
       "  <thead>\n",
       "    <tr style=\"text-align: right;\">\n",
       "      <th></th>\n",
       "      <th>price</th>\n",
       "      <th>sqft</th>\n",
       "      <th>beds</th>\n",
       "      <th>bath</th>\n",
       "      <th>laundry_(a) in-unit</th>\n",
       "      <th>parking_(a) valet</th>\n",
       "      <th>parking_(b) protected</th>\n",
       "      <th>parking_(c) off-street</th>\n",
       "      <th>hood_district_1</th>\n",
       "      <th>hood_district_2</th>\n",
       "      <th>hood_district_3</th>\n",
       "      <th>hood_district_4</th>\n",
       "      <th>hood_district_5</th>\n",
       "      <th>hood_district_6</th>\n",
       "      <th>hood_district_7</th>\n",
       "      <th>hood_district_8</th>\n",
       "      <th>hood_district_9</th>\n",
       "    </tr>\n",
       "  </thead>\n",
       "  <tbody>\n",
       "    <tr>\n",
       "      <th>0</th>\n",
       "      <td>6800</td>\n",
       "      <td>1600.0</td>\n",
       "      <td>2.0</td>\n",
       "      <td>2.0</td>\n",
       "      <td>1</td>\n",
       "      <td>0</td>\n",
       "      <td>1</td>\n",
       "      <td>0</td>\n",
       "      <td>0</td>\n",
       "      <td>0</td>\n",
       "      <td>0</td>\n",
       "      <td>0</td>\n",
       "      <td>0</td>\n",
       "      <td>0</td>\n",
       "      <td>1</td>\n",
       "      <td>0</td>\n",
       "      <td>0</td>\n",
       "    </tr>\n",
       "    <tr>\n",
       "      <th>1</th>\n",
       "      <td>3500</td>\n",
       "      <td>550.0</td>\n",
       "      <td>1.0</td>\n",
       "      <td>1.0</td>\n",
       "      <td>1</td>\n",
       "      <td>0</td>\n",
       "      <td>1</td>\n",
       "      <td>0</td>\n",
       "      <td>0</td>\n",
       "      <td>0</td>\n",
       "      <td>0</td>\n",
       "      <td>0</td>\n",
       "      <td>0</td>\n",
       "      <td>0</td>\n",
       "      <td>1</td>\n",
       "      <td>0</td>\n",
       "      <td>0</td>\n",
       "    </tr>\n",
       "    <tr>\n",
       "      <th>2</th>\n",
       "      <td>5100</td>\n",
       "      <td>1300.0</td>\n",
       "      <td>2.0</td>\n",
       "      <td>1.0</td>\n",
       "      <td>1</td>\n",
       "      <td>0</td>\n",
       "      <td>0</td>\n",
       "      <td>0</td>\n",
       "      <td>0</td>\n",
       "      <td>0</td>\n",
       "      <td>0</td>\n",
       "      <td>0</td>\n",
       "      <td>0</td>\n",
       "      <td>0</td>\n",
       "      <td>1</td>\n",
       "      <td>0</td>\n",
       "      <td>0</td>\n",
       "    </tr>\n",
       "    <tr>\n",
       "      <th>3</th>\n",
       "      <td>9000</td>\n",
       "      <td>3500.0</td>\n",
       "      <td>3.0</td>\n",
       "      <td>2.5</td>\n",
       "      <td>1</td>\n",
       "      <td>0</td>\n",
       "      <td>1</td>\n",
       "      <td>0</td>\n",
       "      <td>0</td>\n",
       "      <td>0</td>\n",
       "      <td>0</td>\n",
       "      <td>0</td>\n",
       "      <td>0</td>\n",
       "      <td>0</td>\n",
       "      <td>1</td>\n",
       "      <td>0</td>\n",
       "      <td>0</td>\n",
       "    </tr>\n",
       "    <tr>\n",
       "      <th>4</th>\n",
       "      <td>3100</td>\n",
       "      <td>561.0</td>\n",
       "      <td>1.0</td>\n",
       "      <td>1.0</td>\n",
       "      <td>0</td>\n",
       "      <td>0</td>\n",
       "      <td>0</td>\n",
       "      <td>0</td>\n",
       "      <td>0</td>\n",
       "      <td>0</td>\n",
       "      <td>0</td>\n",
       "      <td>0</td>\n",
       "      <td>0</td>\n",
       "      <td>0</td>\n",
       "      <td>1</td>\n",
       "      <td>0</td>\n",
       "      <td>0</td>\n",
       "    </tr>\n",
       "  </tbody>\n",
       "</table>\n",
       "</div>"
      ],
      "text/plain": [
       "   price    sqft  beds  bath  laundry_(a) in-unit  parking_(a) valet  \\\n",
       "0   6800  1600.0   2.0   2.0                    1                  0   \n",
       "1   3500   550.0   1.0   1.0                    1                  0   \n",
       "2   5100  1300.0   2.0   1.0                    1                  0   \n",
       "3   9000  3500.0   3.0   2.5                    1                  0   \n",
       "4   3100   561.0   1.0   1.0                    0                  0   \n",
       "\n",
       "   parking_(b) protected  parking_(c) off-street  hood_district_1  \\\n",
       "0                      1                       0                0   \n",
       "1                      1                       0                0   \n",
       "2                      0                       0                0   \n",
       "3                      1                       0                0   \n",
       "4                      0                       0                0   \n",
       "\n",
       "   hood_district_2  hood_district_3  hood_district_4  hood_district_5  \\\n",
       "0                0                0                0                0   \n",
       "1                0                0                0                0   \n",
       "2                0                0                0                0   \n",
       "3                0                0                0                0   \n",
       "4                0                0                0                0   \n",
       "\n",
       "   hood_district_6  hood_district_7  hood_district_8  hood_district_9  \n",
       "0                0                1                0                0  \n",
       "1                0                1                0                0  \n",
       "2                0                1                0                0  \n",
       "3                0                1                0                0  \n",
       "4                0                1                0                0  "
      ]
     },
     "execution_count": 8,
     "metadata": {},
     "output_type": "execute_result"
    }
   ],
   "source": [
    "sf.head()"
   ]
  },
  {
   "cell_type": "markdown",
   "metadata": {},
   "source": [
    "## Model Evaluation"
   ]
  },
  {
   "cell_type": "code",
   "execution_count": 9,
   "metadata": {
    "ExecuteTime": {
     "end_time": "2020-10-07T01:34:24.544648Z",
     "start_time": "2020-10-07T01:34:24.541431Z"
    }
   },
   "outputs": [],
   "source": [
    "X, y = sf.drop('price',axis=1), sf['price']"
   ]
  },
  {
   "cell_type": "code",
   "execution_count": 10,
   "metadata": {
    "ExecuteTime": {
     "end_time": "2020-10-07T01:34:24.549586Z",
     "start_time": "2020-10-07T01:34:24.546195Z"
    }
   },
   "outputs": [
    {
     "data": {
      "text/plain": [
       "[2, 4, 6, 8, 10, 12, 14]"
      ]
     },
     "execution_count": 10,
     "metadata": {},
     "output_type": "execute_result"
    }
   ],
   "source": [
    "rando_states = list(range(2, 16, 2))\n",
    "rando_states"
   ]
  },
  {
   "cell_type": "code",
   "execution_count": 11,
   "metadata": {
    "ExecuteTime": {
     "end_time": "2020-10-07T01:34:24.554025Z",
     "start_time": "2020-10-07T01:34:24.551690Z"
    }
   },
   "outputs": [],
   "source": [
    "alphavec = 10**np.linspace(-2,1,100)"
   ]
  },
  {
   "cell_type": "markdown",
   "metadata": {},
   "source": [
    "## Lasso"
   ]
  },
  {
   "cell_type": "markdown",
   "metadata": {},
   "source": [
    "### Alpha evaluation"
   ]
  },
  {
   "cell_type": "code",
   "execution_count": 12,
   "metadata": {
    "ExecuteTime": {
     "end_time": "2020-10-07T01:34:24.855510Z",
     "start_time": "2020-10-07T01:34:24.555781Z"
    }
   },
   "outputs": [
    {
     "name": "stdout",
     "output_type": "stream",
     "text": [
      "Model Type:  lasso\n",
      "Alpha evaluation in progress...\n",
      "\n",
      "Random State:  2\n",
      "~~~~~~~~~~~~~~~~~~\n",
      "Best Alpha:  0.01\n",
      "Lasso Regression train R^2: 0.79665\n",
      "Lasso Regression test R^2: 0.80981\n",
      "\n",
      "Train/Val R^2 Ratio:  0.98375\n",
      "\n",
      "RMSE :  548.6039450743017\n",
      "~~~~~~~~~~~~~~~~~~~~~~~~~~~~~~~~~~~\n",
      "\n",
      "Random State:  4\n",
      "~~~~~~~~~~~~~~~~~~\n",
      "Best Alpha:  0.01\n",
      "Lasso Regression train R^2: 0.80165\n",
      "Lasso Regression test R^2: 0.77522\n",
      "\n",
      "Train/Val R^2 Ratio:  1.03409\n",
      "\n",
      "RMSE :  655.6091820126697\n",
      "~~~~~~~~~~~~~~~~~~~~~~~~~~~~~~~~~~~\n",
      "\n",
      "Random State:  6\n",
      "~~~~~~~~~~~~~~~~~~\n",
      "Best Alpha:  0.01\n",
      "Lasso Regression train R^2: 0.80969\n",
      "Lasso Regression test R^2: 0.76575\n",
      "\n",
      "Train/Val R^2 Ratio:  1.05738\n",
      "\n",
      "RMSE :  607.6772344012631\n",
      "~~~~~~~~~~~~~~~~~~~~~~~~~~~~~~~~~~~\n",
      "\n",
      "Random State:  8\n",
      "~~~~~~~~~~~~~~~~~~\n",
      "Best Alpha:  0.464158883361278\n",
      "Lasso Regression train R^2: 0.79717\n",
      "Lasso Regression test R^2: 0.81500\n",
      "\n",
      "Train/Val R^2 Ratio:  0.97813\n",
      "\n",
      "RMSE :  619.0750687136525\n",
      "~~~~~~~~~~~~~~~~~~~~~~~~~~~~~~~~~~~\n",
      "\n",
      "Random State:  10\n",
      "~~~~~~~~~~~~~~~~~~\n",
      "Best Alpha:  7.56463327554629\n",
      "Lasso Regression train R^2: 0.77567\n",
      "Lasso Regression test R^2: 0.80526\n",
      "\n",
      "Train/Val R^2 Ratio:  0.96325\n",
      "\n",
      "RMSE :  628.4345135376556\n",
      "~~~~~~~~~~~~~~~~~~~~~~~~~~~~~~~~~~~\n",
      "\n",
      "Random State:  12\n",
      "~~~~~~~~~~~~~~~~~~\n",
      "Best Alpha:  10.0\n",
      "Lasso Regression train R^2: 0.75949\n",
      "Lasso Regression test R^2: 0.76884\n",
      "\n",
      "Train/Val R^2 Ratio:  0.98784\n",
      "\n",
      "RMSE :  654.5286849378593\n",
      "~~~~~~~~~~~~~~~~~~~~~~~~~~~~~~~~~~~\n",
      "\n",
      "Random State:  14\n",
      "~~~~~~~~~~~~~~~~~~\n",
      "Best Alpha:  10.0\n",
      "Lasso Regression train R^2: 0.81021\n",
      "Lasso Regression test R^2: 0.60632\n",
      "\n",
      "Train/Val R^2 Ratio:  1.33626\n",
      "\n",
      "RMSE :  920.519900446376\n",
      "~~~~~~~~~~~~~~~~~~~~~~~~~~~~~~~~~~~\n",
      "\n",
      "Evaluation complete.\n",
      "\n",
      "Summary\n",
      "\n",
      "Alphas:  [0.01, 0.01, 0.01, 0.464158883361278, 7.56463327554629, 10.0, 10.0]\n",
      "Avg alpha: 4.00840 +- 4.55080\n",
      "\n",
      "Mean training r^2: 0.79293 +- 0.01733\n",
      "Mean test r^2: 0.76374 +- 0.06699\n",
      "Avg train/test r^2 ratio: 1.03822\n",
      "\n",
      "Avg RMSE: 662.06408 +- 110.65261\n"
     ]
    }
   ],
   "source": [
    "model_eval_with_alphavec(rando_states, alphavec, X, y, model_type='lasso')"
   ]
  },
  {
   "cell_type": "markdown",
   "metadata": {},
   "source": [
    "### Alpha chosen"
   ]
  },
  {
   "cell_type": "code",
   "execution_count": 13,
   "metadata": {
    "ExecuteTime": {
     "end_time": "2020-10-07T01:34:24.861149Z",
     "start_time": "2020-10-07T01:34:24.857934Z"
    }
   },
   "outputs": [
    {
     "data": {
      "text/plain": [
       "10"
      ]
     },
     "execution_count": 13,
     "metadata": {},
     "output_type": "execute_result"
    }
   ],
   "source": [
    "las_alpha = 0.1\n",
    "rando_states = list(range(0, 10))\n",
    "len(rando_states)"
   ]
  },
  {
   "cell_type": "code",
   "execution_count": 14,
   "metadata": {
    "ExecuteTime": {
     "end_time": "2020-10-07T01:34:24.922788Z",
     "start_time": "2020-10-07T01:34:24.862363Z"
    }
   },
   "outputs": [
    {
     "name": "stdout",
     "output_type": "stream",
     "text": [
      "Model Type:  lasso\n",
      "Alpha evaluation in progress...\n",
      "\n",
      "Random State:  0\n",
      "~~~~~~~~~~~~~~~~~~\n",
      "Lasso Regression train R^2: 0.80658\n",
      "Lasso Regression test R^2: 0.78173\n",
      "\n",
      "Train/Val R^2 Ratio:  1.03179\n",
      "\n",
      "RMSE :  641.2049379829973\n",
      "~~~~~~~~~~~~~~~~~~~~~~~~~~~~~~~~~~~\n",
      "\n",
      "Random State:  1\n",
      "~~~~~~~~~~~~~~~~~~\n",
      "Lasso Regression train R^2: 0.81155\n",
      "Lasso Regression test R^2: 0.78655\n",
      "\n",
      "Train/Val R^2 Ratio:  1.03179\n",
      "\n",
      "RMSE :  622.4960463929293\n",
      "~~~~~~~~~~~~~~~~~~~~~~~~~~~~~~~~~~~\n",
      "\n",
      "Random State:  2\n",
      "~~~~~~~~~~~~~~~~~~\n",
      "Lasso Regression train R^2: 0.81966\n",
      "Lasso Regression test R^2: 0.77796\n",
      "\n",
      "Train/Val R^2 Ratio:  1.05361\n",
      "\n",
      "RMSE :  584.3060972919992\n",
      "~~~~~~~~~~~~~~~~~~~~~~~~~~~~~~~~~~~\n",
      "\n",
      "Random State:  3\n",
      "~~~~~~~~~~~~~~~~~~\n",
      "Lasso Regression train R^2: 0.82626\n",
      "Lasso Regression test R^2: 0.78090\n",
      "\n",
      "Train/Val R^2 Ratio:  1.05809\n",
      "\n",
      "RMSE :  588.5221507534283\n",
      "~~~~~~~~~~~~~~~~~~~~~~~~~~~~~~~~~~~\n",
      "\n",
      "Random State:  4\n",
      "~~~~~~~~~~~~~~~~~~\n",
      "Lasso Regression train R^2: 0.83359\n",
      "Lasso Regression test R^2: 0.78717\n",
      "\n",
      "Train/Val R^2 Ratio:  1.05897\n",
      "\n",
      "RMSE :  564.3333457997809\n",
      "~~~~~~~~~~~~~~~~~~~~~~~~~~~~~~~~~~~\n",
      "\n",
      "Random State:  5\n",
      "~~~~~~~~~~~~~~~~~~\n",
      "Lasso Regression train R^2: 0.82814\n",
      "Lasso Regression test R^2: 0.82756\n",
      "\n",
      "Train/Val R^2 Ratio:  1.00071\n",
      "\n",
      "RMSE :  546.4165513643854\n",
      "~~~~~~~~~~~~~~~~~~~~~~~~~~~~~~~~~~~\n",
      "\n",
      "Random State:  6\n",
      "~~~~~~~~~~~~~~~~~~\n",
      "Lasso Regression train R^2: 0.89136\n",
      "Lasso Regression test R^2: 0.38358\n",
      "\n",
      "Train/Val R^2 Ratio:  2.32378\n",
      "\n",
      "RMSE :  942.5330213106623\n",
      "~~~~~~~~~~~~~~~~~~~~~~~~~~~~~~~~~~~\n",
      "\n",
      "Random State:  7\n",
      "~~~~~~~~~~~~~~~~~~\n",
      "Lasso Regression train R^2: 0.91036\n",
      "Lasso Regression test R^2: 0.78787\n",
      "\n",
      "Train/Val R^2 Ratio:  1.15547\n",
      "\n",
      "RMSE :  764.4653121522418\n",
      "~~~~~~~~~~~~~~~~~~~~~~~~~~~~~~~~~~~\n",
      "\n",
      "Random State:  8\n",
      "~~~~~~~~~~~~~~~~~~\n",
      "Lasso Regression train R^2: 0.94276\n",
      "Lasso Regression test R^2: 0.76921\n",
      "\n",
      "Train/Val R^2 Ratio:  1.22562\n",
      "\n",
      "RMSE :  833.669106474537\n",
      "~~~~~~~~~~~~~~~~~~~~~~~~~~~~~~~~~~~\n",
      "\n",
      "Random State:  9\n",
      "~~~~~~~~~~~~~~~~~~\n",
      "Lasso Regression train R^2: 0.98083\n",
      "Lasso Regression test R^2: 0.69250\n",
      "\n",
      "Train/Val R^2 Ratio:  1.41635\n",
      "\n",
      "RMSE :  619.6884990941994\n",
      "~~~~~~~~~~~~~~~~~~~~~~~~~~~~~~~~~~~\n",
      "\n",
      "Evaluation complete.\n",
      "\n",
      "Summary\n",
      "\n",
      "Mean training r^2: 0.86511 +- 0.05864\n",
      "Mean test r^2: 0.73750 +- 0.12218\n",
      "Avg train/test r^2 ratio: 1.17303\n",
      "\n",
      "Avg RMSE: 670.76351 +- 124.90681\n"
     ]
    }
   ],
   "source": [
    "model_eval_with_alpha(rando_states, X, y, model_type='lasso', alpha=las_alpha)"
   ]
  },
  {
   "cell_type": "markdown",
   "metadata": {},
   "source": [
    "### Charts"
   ]
  },
  {
   "cell_type": "code",
   "execution_count": 15,
   "metadata": {
    "ExecuteTime": {
     "end_time": "2020-10-07T01:34:24.933656Z",
     "start_time": "2020-10-07T01:34:24.924791Z"
    }
   },
   "outputs": [],
   "source": [
    "# Training versus Test Data\n",
    "# hold out 20% of the data for testing\n",
    "X, X_test, y, y_test = train_test_split(X, y, test_size=.2, random_state=72)\n",
    "\n",
    "# Scaling for Ridge & Lasso \n",
    "scaler = StandardScaler()\n",
    "\n",
    "X_train_scaled = scaler.fit_transform(X.values)\n",
    "X_test_scaled = scaler.transform(X_test.values)"
   ]
  },
  {
   "cell_type": "code",
   "execution_count": 16,
   "metadata": {
    "ExecuteTime": {
     "end_time": "2020-10-07T01:34:24.943927Z",
     "start_time": "2020-10-07T01:34:24.935412Z"
    }
   },
   "outputs": [
    {
     "name": "stdout",
     "output_type": "stream",
     "text": [
      "Ridge Regression train R^2: 0.80585\n",
      "Ridge Regression test R^2: 0.77966\n"
     ]
    }
   ],
   "source": [
    "las = Lasso(alpha=las_alpha)\n",
    "\n",
    "las.fit(X_train_scaled, y)\n",
    "print(f'Ridge Regression train R^2: {las.score(X_train_scaled, y):.5f}')\n",
    "print(f'Ridge Regression test R^2: {las.score(X_test_scaled, y_test):.5f}')"
   ]
  },
  {
   "cell_type": "code",
   "execution_count": 17,
   "metadata": {
    "ExecuteTime": {
     "end_time": "2020-10-07T01:34:24.949692Z",
     "start_time": "2020-10-07T01:34:24.945796Z"
    }
   },
   "outputs": [
    {
     "name": "stdout",
     "output_type": "stream",
     "text": [
      "659.2533853594322\n"
     ]
    }
   ],
   "source": [
    "las_predict = las.predict(X_test_scaled)\n",
    "\n",
    "rmse = mean_squared_error(y_test, las_predict, squared=False)\n",
    "print(rmse)"
   ]
  },
  {
   "cell_type": "code",
   "execution_count": 18,
   "metadata": {
    "ExecuteTime": {
     "end_time": "2020-10-07T01:34:25.141316Z",
     "start_time": "2020-10-07T01:34:24.951922Z"
    }
   },
   "outputs": [
    {
     "data": {
      "image/png": "[encoded data removed]",
      "text/plain": [
       "<Figure size 720x504 with 1 Axes>"
      ]
     },
     "metadata": {
      "needs_background": "light"
     },
     "output_type": "display_data"
    }
   ],
   "source": [
    "plt.figure(figsize=(10, 7))\n",
    "plt.scatter(las_predict, y_test) \n",
    "\n",
    "z = np.polyfit(las_predict, y_test, 1)\n",
    "p = np.poly1d(z)\n",
    "plb.plot(las_predict, p(las_predict), 'm-')\n",
    "\n",
    "plt.xlim(0, 10000)\n",
    "plt.ylim(0, 10000)\n",
    "\n",
    "plt.title('Lasso Regression Model: Actual Versus Predicted', fontsize=20)\n",
    "plt.xlabel('Predicted Values', fontsize=16)\n",
    "plt.ylabel('Actual Values', fontsize=16);"
   ]
  },
  {
   "cell_type": "markdown",
   "metadata": {},
   "source": [
    "## Ridge"
   ]
  },
  {
   "cell_type": "markdown",
   "metadata": {},
   "source": [
    "### alpha evaluation"
   ]
  },
  {
   "cell_type": "code",
   "execution_count": 19,
   "metadata": {
    "ExecuteTime": {
     "end_time": "2020-10-07T01:34:28.184142Z",
     "start_time": "2020-10-07T01:34:25.143267Z"
    }
   },
   "outputs": [
    {
     "name": "stdout",
     "output_type": "stream",
     "text": [
      "Model Type:  ridge\n",
      "Alpha evaluation in progress...\n",
      "\n",
      "Random State:  0\n",
      "~~~~~~~~~~~~~~~~~~\n",
      "Best Alpha:  0.4037017258596556\n",
      "Lasso Regression train R^2: 0.79773\n",
      "Lasso Regression test R^2: 0.81291\n",
      "\n",
      "Train/Val R^2 Ratio:  0.98133\n",
      "\n",
      "RMSE :  622.7695842866963\n",
      "~~~~~~~~~~~~~~~~~~~~~~~~~~~~~~~~~~~\n",
      "\n",
      "Random State:  1\n",
      "~~~~~~~~~~~~~~~~~~\n",
      "Best Alpha:  10.0\n",
      "Lasso Regression train R^2: 0.79534\n",
      "Lasso Regression test R^2: 0.78757\n",
      "\n",
      "Train/Val R^2 Ratio:  1.00987\n",
      "\n",
      "RMSE :  557.7358928901037\n",
      "~~~~~~~~~~~~~~~~~~~~~~~~~~~~~~~~~~~\n",
      "\n",
      "Random State:  2\n",
      "~~~~~~~~~~~~~~~~~~\n",
      "Best Alpha:  4.037017258596554\n",
      "Lasso Regression train R^2: 0.81014\n",
      "Lasso Regression test R^2: 0.74242\n",
      "\n",
      "Train/Val R^2 Ratio:  1.09122\n",
      "\n",
      "RMSE :  638.0624145292979\n",
      "~~~~~~~~~~~~~~~~~~~~~~~~~~~~~~~~~~~\n",
      "\n",
      "Random State:  3\n",
      "~~~~~~~~~~~~~~~~~~\n",
      "Best Alpha:  0.8697490026177834\n",
      "Lasso Regression train R^2: 0.82264\n",
      "Lasso Regression test R^2: 0.74907\n",
      "\n",
      "Train/Val R^2 Ratio:  1.09822\n",
      "\n",
      "RMSE :  656.2051952589649\n",
      "~~~~~~~~~~~~~~~~~~~~~~~~~~~~~~~~~~~\n",
      "\n",
      "Random State:  4\n",
      "~~~~~~~~~~~~~~~~~~\n",
      "Best Alpha:  2.656087782946687\n",
      "Lasso Regression train R^2: 0.85687\n",
      "Lasso Regression test R^2: 0.67790\n",
      "\n",
      "Train/Val R^2 Ratio:  1.26402\n",
      "\n",
      "RMSE :  681.3284334217914\n",
      "~~~~~~~~~~~~~~~~~~~~~~~~~~~~~~~~~~~\n",
      "\n",
      "Random State:  5\n",
      "~~~~~~~~~~~~~~~~~~\n",
      "Best Alpha:  3.511191734215131\n",
      "Lasso Regression train R^2: 0.87647\n",
      "Lasso Regression test R^2: 0.77392\n",
      "\n",
      "Train/Val R^2 Ratio:  1.13250\n",
      "\n",
      "RMSE :  642.8753409150501\n",
      "~~~~~~~~~~~~~~~~~~~~~~~~~~~~~~~~~~~\n",
      "\n",
      "Random State:  6\n",
      "~~~~~~~~~~~~~~~~~~\n",
      "Best Alpha:  0.01\n",
      "Lasso Regression train R^2: 0.95904\n",
      "Lasso Regression test R^2: 0.17892\n",
      "\n",
      "Train/Val R^2 Ratio:  5.36007\n",
      "\n",
      "RMSE :  798.6527088123673\n",
      "~~~~~~~~~~~~~~~~~~~~~~~~~~~~~~~~~~~\n",
      "\n",
      "Random State:  7\n",
      "~~~~~~~~~~~~~~~~~~\n",
      "Best Alpha:  0.37649358067924676\n",
      "Lasso Regression train R^2: 0.96905\n",
      "Lasso Regression test R^2: 0.88506\n",
      "\n",
      "Train/Val R^2 Ratio:  1.09490\n",
      "\n",
      "RMSE :  367.7402559455974\n",
      "~~~~~~~~~~~~~~~~~~~~~~~~~~~~~~~~~~~\n",
      "\n",
      "Random State:  8\n",
      "~~~~~~~~~~~~~~~~~~\n",
      "Best Alpha:  2.0092330025650478\n",
      "Lasso Regression train R^2: 0.96075\n",
      "Lasso Regression test R^2: 0.94182\n",
      "\n",
      "Train/Val R^2 Ratio:  1.02010\n",
      "\n",
      "RMSE :  419.81767121915686\n",
      "~~~~~~~~~~~~~~~~~~~~~~~~~~~~~~~~~~~\n",
      "\n",
      "Random State:  9\n",
      "~~~~~~~~~~~~~~~~~~\n",
      "Best Alpha:  10.0\n",
      "Lasso Regression train R^2: 0.87190\n",
      "Lasso Regression test R^2: 0.89988\n",
      "\n",
      "Train/Val R^2 Ratio:  0.96890\n",
      "\n",
      "RMSE :  538.5670117783833\n",
      "~~~~~~~~~~~~~~~~~~~~~~~~~~~~~~~~~~~\n",
      "\n",
      "Evaluation complete.\n",
      "\n",
      "Summary\n",
      "\n",
      "Alphas:  [0.4037017258596556, 10.0, 4.037017258596554, 0.8697490026177834, 2.656087782946687, 3.511191734215131, 0.01, 0.37649358067924676, 2.0092330025650478, 10.0]\n",
      "Avg alpha: 3.38735 +- 3.55018\n",
      "\n",
      "Mean training r^2: 0.87199 +- 0.06540\n",
      "Mean test r^2: 0.74495 +- 0.20361\n",
      "Avg train/test r^2 ratio: 1.17054\n",
      "\n",
      "Avg RMSE: 592.37545 +- 120.17942\n"
     ]
    }
   ],
   "source": [
    "model_eval_with_alphavec(rando_states, alphavec, X, y, model_type='ridge')"
   ]
  },
  {
   "cell_type": "markdown",
   "metadata": {},
   "source": [
    "### alpha chosen"
   ]
  },
  {
   "cell_type": "code",
   "execution_count": 20,
   "metadata": {
    "ExecuteTime": {
     "end_time": "2020-10-07T01:34:28.188930Z",
     "start_time": "2020-10-07T01:34:28.185962Z"
    }
   },
   "outputs": [
    {
     "data": {
      "text/plain": [
       "10"
      ]
     },
     "execution_count": 20,
     "metadata": {},
     "output_type": "execute_result"
    }
   ],
   "source": [
    "#rid_alpha = 1.5352750287804227\n",
    "#rid_alpha = 5\n",
    "rid_alpha = 0.6\n",
    "rando_states = list(range(0, 10))\n",
    "len(rando_states)"
   ]
  },
  {
   "cell_type": "code",
   "execution_count": 21,
   "metadata": {
    "ExecuteTime": {
     "end_time": "2020-10-07T01:34:28.238289Z",
     "start_time": "2020-10-07T01:34:28.190067Z"
    }
   },
   "outputs": [
    {
     "name": "stdout",
     "output_type": "stream",
     "text": [
      "Model Type:  ridge\n",
      "Alpha evaluation in progress...\n",
      "\n",
      "Random State:  0\n",
      "~~~~~~~~~~~~~~~~~~\n",
      "Lasso Regression train R^2: 0.79773\n",
      "Lasso Regression test R^2: 0.81272\n",
      "\n",
      "Train/Val R^2 Ratio:  0.98155\n",
      "\n",
      "RMSE :  623.0804741415417\n",
      "~~~~~~~~~~~~~~~~~~~~~~~~~~~~~~~~~~~\n",
      "\n",
      "Random State:  1\n",
      "~~~~~~~~~~~~~~~~~~\n",
      "Lasso Regression train R^2: 0.79642\n",
      "Lasso Regression test R^2: 0.78946\n",
      "\n",
      "Train/Val R^2 Ratio:  1.00882\n",
      "\n",
      "RMSE :  555.255422774652\n",
      "~~~~~~~~~~~~~~~~~~~~~~~~~~~~~~~~~~~\n",
      "\n",
      "Random State:  2\n",
      "~~~~~~~~~~~~~~~~~~\n",
      "Lasso Regression train R^2: 0.81044\n",
      "Lasso Regression test R^2: 0.74235\n",
      "\n",
      "Train/Val R^2 Ratio:  1.09172\n",
      "\n",
      "RMSE :  638.1473506737506\n",
      "~~~~~~~~~~~~~~~~~~~~~~~~~~~~~~~~~~~\n",
      "\n",
      "Random State:  3\n",
      "~~~~~~~~~~~~~~~~~~\n",
      "Lasso Regression train R^2: 0.82267\n",
      "Lasso Regression test R^2: 0.74883\n",
      "\n",
      "Train/Val R^2 Ratio:  1.09861\n",
      "\n",
      "RMSE :  656.5223975423212\n",
      "~~~~~~~~~~~~~~~~~~~~~~~~~~~~~~~~~~~\n",
      "\n",
      "Random State:  4\n",
      "~~~~~~~~~~~~~~~~~~\n",
      "Lasso Regression train R^2: 0.85798\n",
      "Lasso Regression test R^2: 0.66828\n",
      "\n",
      "Train/Val R^2 Ratio:  1.28387\n",
      "\n",
      "RMSE :  691.4264936571701\n",
      "~~~~~~~~~~~~~~~~~~~~~~~~~~~~~~~~~~~\n",
      "\n",
      "Random State:  5\n",
      "~~~~~~~~~~~~~~~~~~\n",
      "Lasso Regression train R^2: 0.87934\n",
      "Lasso Regression test R^2: 0.77342\n",
      "\n",
      "Train/Val R^2 Ratio:  1.13695\n",
      "\n",
      "RMSE :  643.5897101826577\n",
      "~~~~~~~~~~~~~~~~~~~~~~~~~~~~~~~~~~~\n",
      "\n",
      "Random State:  6\n",
      "~~~~~~~~~~~~~~~~~~\n",
      "Lasso Regression train R^2: 0.95855\n",
      "Lasso Regression test R^2: 0.20546\n",
      "\n",
      "Train/Val R^2 Ratio:  4.66541\n",
      "\n",
      "RMSE :  785.6413840220598\n",
      "~~~~~~~~~~~~~~~~~~~~~~~~~~~~~~~~~~~\n",
      "\n",
      "Random State:  7\n",
      "~~~~~~~~~~~~~~~~~~\n",
      "Lasso Regression train R^2: 0.96859\n",
      "Lasso Regression test R^2: 0.88719\n",
      "\n",
      "Train/Val R^2 Ratio:  1.09174\n",
      "\n",
      "RMSE :  364.3063429500685\n",
      "~~~~~~~~~~~~~~~~~~~~~~~~~~~~~~~~~~~\n",
      "\n",
      "Random State:  8\n",
      "~~~~~~~~~~~~~~~~~~\n",
      "Lasso Regression train R^2: 0.97001\n",
      "Lasso Regression test R^2: 0.91862\n",
      "\n",
      "Train/Val R^2 Ratio:  1.05595\n",
      "\n",
      "RMSE :  496.53600277438306\n",
      "~~~~~~~~~~~~~~~~~~~~~~~~~~~~~~~~~~~\n",
      "\n",
      "Random State:  9\n",
      "~~~~~~~~~~~~~~~~~~\n",
      "Lasso Regression train R^2: 0.96819\n",
      "Lasso Regression test R^2: 0.94106\n",
      "\n",
      "Train/Val R^2 Ratio:  1.02884\n",
      "\n",
      "RMSE :  413.2370698919595\n",
      "~~~~~~~~~~~~~~~~~~~~~~~~~~~~~~~~~~~\n",
      "\n",
      "Evaluation complete.\n",
      "\n",
      "Summary\n",
      "\n",
      "Mean training r^2: 0.88299 +- 0.07223\n",
      "Mean test r^2: 0.74874 +- 0.19825\n",
      "Avg train/test r^2 ratio: 1.17931\n",
      "\n",
      "Avg RMSE: 586.77426 +- 123.00157\n"
     ]
    }
   ],
   "source": [
    "model_eval_with_alpha(rando_states, X, y, model_type='ridge', alpha=rid_alpha)"
   ]
  },
  {
   "cell_type": "code",
   "execution_count": null,
   "metadata": {},
   "outputs": [],
   "source": []
  },
  {
   "cell_type": "code",
   "execution_count": null,
   "metadata": {},
   "outputs": [],
   "source": []
  },
  {
   "cell_type": "code",
   "execution_count": 22,
   "metadata": {
    "ExecuteTime": {
     "end_time": "2020-10-07T01:34:28.253408Z",
     "start_time": "2020-10-07T01:34:28.246849Z"
    }
   },
   "outputs": [
    {
     "name": "stdout",
     "output_type": "stream",
     "text": [
      "Ridge Regression train R^2: 0.80584\n",
      "Ridge Regression test R^2: 0.77953\n"
     ]
    }
   ],
   "source": [
    "rid = Ridge(alpha=rid_alpha)\n",
    "\n",
    "rid.fit(X_train_scaled, y)\n",
    "print(f'Ridge Regression train R^2: {rid.score(X_train_scaled, y):.5f}')\n",
    "print(f'Ridge Regression test R^2: {rid.score(X_test_scaled, y_test):.5f}')"
   ]
  },
  {
   "cell_type": "code",
   "execution_count": 23,
   "metadata": {
    "ExecuteTime": {
     "end_time": "2020-10-07T01:34:28.264858Z",
     "start_time": "2020-10-07T01:34:28.260020Z"
    }
   },
   "outputs": [
    {
     "data": {
      "text/plain": [
       "659.4542776943267"
      ]
     },
     "execution_count": 23,
     "metadata": {},
     "output_type": "execute_result"
    }
   ],
   "source": [
    "rid_predict = rid.predict(X_test_scaled)\n",
    "\n",
    "mean_squared_error(y_test, rid_predict, squared=False)"
   ]
  },
  {
   "cell_type": "code",
   "execution_count": 24,
   "metadata": {
    "ExecuteTime": {
     "end_time": "2020-10-07T01:34:28.451110Z",
     "start_time": "2020-10-07T01:34:28.267206Z"
    }
   },
   "outputs": [
    {
     "data": {
      "image/png": "[encoded data removed]",
      "text/plain": [
       "<Figure size 720x504 with 1 Axes>"
      ]
     },
     "metadata": {
      "needs_background": "light"
     },
     "output_type": "display_data"
    }
   ],
   "source": [
    "plt.figure(figsize=(10, 7))\n",
    "plt.scatter(rid_predict, y_test) \n",
    "\n",
    "z = np.polyfit(rid_predict, y_test, 1)\n",
    "p = np.poly1d(z)\n",
    "plb.plot(rid_predict, p(rid_predict), 'm-')\n",
    "\n",
    "plt.xlim(0, 10000)\n",
    "plt.ylim(0, 10000)\n",
    "\n",
    "plt.title('Ridge Regression Model: Actual Versus Predicted', fontsize=20)\n",
    "plt.xlabel('Predicted Values', fontsize=16)\n",
    "plt.ylabel('Actual Values', fontsize=16);"
   ]
  },
  {
   "cell_type": "markdown",
   "metadata": {},
   "source": [
    "## Evaluation"
   ]
  },
  {
   "cell_type": "code",
   "execution_count": 26,
   "metadata": {
    "ExecuteTime": {
     "end_time": "2020-10-07T01:35:09.597692Z",
     "start_time": "2020-10-07T01:35:09.423943Z"
    }
   },
   "outputs": [
    {
     "name": "stdout",
     "output_type": "stream",
     "text": [
      "RANDOM STATE:  1\n",
      "~~~~~~~~~~~~~~~~~~~~~~~~~\n",
      "\n",
      "Linear Regression train R^2: 0.79634\n",
      "Linear Regression val R^2: 0.81372\n",
      "RMSE: 570.25\n",
      "\n",
      "LASSO\n",
      "\n",
      "Ridge Regression train R^2: 0.79630\n",
      "Ridge Regression test R^2: 0.81364\n",
      "RMSE: 570.37\n",
      "\n",
      "RIDGE\n",
      "\n",
      "Ridge Regression train R^2: 0.79633\n",
      "Ridge Regression test R^2: 0.81364\n",
      "RMSE: 570.37\n",
      "~~~~~~~~~~~~~~~~~~~~~~~~~\n",
      "\n",
      "RANDOM STATE:  2\n",
      "~~~~~~~~~~~~~~~~~~~~~~~~~\n",
      "\n",
      "Linear Regression train R^2: 0.79233\n",
      "Linear Regression val R^2: 0.80608\n",
      "RMSE: 581.9\n",
      "\n",
      "LASSO\n",
      "\n",
      "Ridge Regression train R^2: 0.79230\n",
      "Ridge Regression test R^2: 0.80606\n",
      "RMSE: 581.93\n",
      "\n",
      "RIDGE\n",
      "\n",
      "Ridge Regression train R^2: 0.79233\n",
      "Ridge Regression test R^2: 0.80605\n",
      "RMSE: 581.94\n",
      "~~~~~~~~~~~~~~~~~~~~~~~~~\n",
      "\n",
      "RANDOM STATE:  3\n",
      "~~~~~~~~~~~~~~~~~~~~~~~~~\n",
      "\n",
      "Linear Regression train R^2: 0.80771\n",
      "Linear Regression val R^2: 0.70404\n",
      "RMSE: 666.54\n",
      "\n",
      "LASSO\n",
      "\n",
      "Ridge Regression train R^2: 0.80767\n",
      "Ridge Regression test R^2: 0.70424\n",
      "RMSE: 666.32\n",
      "\n",
      "RIDGE\n",
      "\n",
      "Ridge Regression train R^2: 0.80770\n",
      "Ridge Regression test R^2: 0.70404\n",
      "RMSE: 666.54\n",
      "~~~~~~~~~~~~~~~~~~~~~~~~~\n",
      "\n",
      "RANDOM STATE:  4\n",
      "~~~~~~~~~~~~~~~~~~~~~~~~~\n",
      "\n",
      "Linear Regression train R^2: 0.81347\n",
      "Linear Regression val R^2: 0.76124\n",
      "RMSE: 648.37\n",
      "\n",
      "LASSO\n",
      "\n",
      "Ridge Regression train R^2: 0.81342\n",
      "Ridge Regression test R^2: 0.75744\n",
      "RMSE: 653.51\n",
      "\n",
      "RIDGE\n",
      "\n",
      "Ridge Regression train R^2: 0.81346\n",
      "Ridge Regression test R^2: 0.75979\n",
      "RMSE: 650.33\n",
      "~~~~~~~~~~~~~~~~~~~~~~~~~\n",
      "\n",
      "RANDOM STATE:  5\n",
      "~~~~~~~~~~~~~~~~~~~~~~~~~\n",
      "\n",
      "Linear Regression train R^2: 0.81207\n",
      "Linear Regression val R^2: 0.79238\n",
      "RMSE: 753.1\n",
      "\n",
      "LASSO\n",
      "\n",
      "Ridge Regression train R^2: 0.81201\n",
      "Ridge Regression test R^2: 0.79152\n",
      "RMSE: 754.65\n",
      "\n",
      "RIDGE\n",
      "\n",
      "Ridge Regression train R^2: 0.81205\n",
      "Ridge Regression test R^2: 0.79215\n",
      "RMSE: 753.51\n",
      "~~~~~~~~~~~~~~~~~~~~~~~~~\n",
      "\n",
      "RANDOM STATE:  6\n",
      "~~~~~~~~~~~~~~~~~~~~~~~~~\n",
      "\n",
      "Linear Regression train R^2: 0.80952\n",
      "Linear Regression val R^2: 0.81446\n",
      "RMSE: 596.47\n",
      "\n",
      "LASSO\n",
      "\n",
      "Ridge Regression train R^2: 0.80948\n",
      "Ridge Regression test R^2: 0.81375\n",
      "RMSE: 597.6\n",
      "\n",
      "RIDGE\n",
      "\n",
      "Ridge Regression train R^2: 0.80950\n",
      "Ridge Regression test R^2: 0.81433\n",
      "RMSE: 596.67\n",
      "~~~~~~~~~~~~~~~~~~~~~~~~~\n",
      "\n",
      "RANDOM STATE:  7\n",
      "~~~~~~~~~~~~~~~~~~~~~~~~~\n",
      "\n",
      "Linear Regression train R^2: 0.77691\n",
      "Linear Regression val R^2: 0.89303\n",
      "RMSE: 453.15\n",
      "\n",
      "LASSO\n",
      "\n",
      "Ridge Regression train R^2: 0.77685\n",
      "Ridge Regression test R^2: 0.89485\n",
      "RMSE: 449.27\n",
      "\n",
      "RIDGE\n",
      "\n",
      "Ridge Regression train R^2: 0.77686\n",
      "Ridge Regression test R^2: 0.89482\n",
      "RMSE: 449.34\n",
      "~~~~~~~~~~~~~~~~~~~~~~~~~\n",
      "\n",
      "RANDOM STATE:  8\n",
      "~~~~~~~~~~~~~~~~~~~~~~~~~\n",
      "\n",
      "Linear Regression train R^2: 0.77434\n",
      "Linear Regression val R^2: 0.77273\n",
      "RMSE: 510.23\n",
      "\n",
      "LASSO\n",
      "\n",
      "Ridge Regression train R^2: 0.77428\n",
      "Ridge Regression test R^2: 0.77335\n",
      "RMSE: 509.53\n",
      "\n",
      "RIDGE\n",
      "\n",
      "Ridge Regression train R^2: 0.77424\n",
      "Ridge Regression test R^2: 0.77475\n",
      "RMSE: 507.95\n",
      "~~~~~~~~~~~~~~~~~~~~~~~~~\n",
      "\n",
      "RANDOM STATE:  9\n",
      "~~~~~~~~~~~~~~~~~~~~~~~~~\n",
      "\n",
      "Linear Regression train R^2: 0.77530\n",
      "Linear Regression val R^2: 0.73375\n",
      "RMSE: 590.12\n",
      "\n",
      "LASSO\n",
      "\n",
      "Ridge Regression train R^2: 0.77527\n",
      "Ridge Regression test R^2: 0.73410\n",
      "RMSE: 589.73\n",
      "\n",
      "RIDGE\n",
      "\n",
      "Ridge Regression train R^2: 0.77517\n",
      "Ridge Regression test R^2: 0.73609\n",
      "RMSE: 587.51\n",
      "~~~~~~~~~~~~~~~~~~~~~~~~~\n",
      "\n",
      "\n",
      "Final Tally --\n",
      "Linear:  5\n",
      "Lasso:  2\n",
      "Ridge:  2\n"
     ]
    }
   ],
   "source": [
    "sf2 = sf.copy()\n",
    "\n",
    "rid_alpha = 0.6\n",
    "las_alpha = 0.1\n",
    "\n",
    "X, y = sf2.drop('price',axis=1), sf2['price']\n",
    "\n",
    "random_state_range = list(range(1, 10))\n",
    "\n",
    "lin_count = 0\n",
    "ridge_count = 0\n",
    "lasso_count = 0\n",
    "\n",
    "for state in random_state_range:\n",
    "    # Training versus Test Data\n",
    "    # hold out 20% of the data for testing\n",
    "    X, X_test, y, y_test = train_test_split(X, y, test_size=.2, random_state=state)\n",
    "\n",
    "    # Scaling for Ridge & Lasso \n",
    "    scaler = StandardScaler()\n",
    "    X_train_scaled = scaler.fit_transform(X.values)\n",
    "    X_test_scaled = scaler.transform(X_test.values)\n",
    "    \n",
    "    print(\"RANDOM STATE: \", state)\n",
    "    print(\"~~~~~~~~~~~~~~~~~~~~~~~~~\\n\")\n",
    "    \n",
    "    # Linear Regression\n",
    "    lin = LinearRegression()\n",
    "    lin.fit(X, y)\n",
    "    print(f'Linear Regression train R^2: {lin.score(X, y):.5f}')\n",
    "    print(f'Linear Regression val R^2: {lin.score(X_test, y_test):.5f}')\n",
    "    \n",
    "    lin_predict = lin.predict(X_test)\n",
    "    lin_rmse = mean_squared_error(y_test, lin_predict, squared=False)\n",
    "    print(f'RMSE: {lin_rmse:.5}')\n",
    "    print(\"\")\n",
    "    \n",
    "    # LASSO\n",
    "    las = Lasso(alpha=rid_alpha)\n",
    "    las.fit(X_train_scaled, y)\n",
    "    print(\"LASSO\\n\")\n",
    "    print(f'Ridge Regression train R^2: {las.score(X_train_scaled, y):.5f}')\n",
    "    print(f'Ridge Regression test R^2: {las.score(X_test_scaled, y_test):.5f}')\n",
    "    \n",
    "    las_predict = las.predict(X_test_scaled)\n",
    "    las_rmse = mean_squared_error(y_test, las_predict, squared=False)\n",
    "    print(f'RMSE: {las_rmse:.5}')\n",
    "    print(\"\")\n",
    "    \n",
    "    # RIDGE\n",
    "    rid = Ridge(alpha=rid_alpha)\n",
    "    rid.fit(X_train_scaled, y)\n",
    "    print(\"RIDGE\\n\")\n",
    "    print(f'Ridge Regression train R^2: {rid.score(X_train_scaled, y):.5f}')\n",
    "    print(f'Ridge Regression test R^2: {rid.score(X_test_scaled, y_test):.5f}')\n",
    "    rid_predict = rid.predict(X_test_scaled)\n",
    "    rid_rmse = mean_squared_error(y_test, rid_predict, squared=False)\n",
    "    print(f'RMSE: {rid_rmse:.5}')\n",
    "    print(\"~~~~~~~~~~~~~~~~~~~~~~~~~\\n\")\n",
    "    \n",
    "    if lin_rmse < las_rmse and lin_rmse < rid_rmse:\n",
    "        lin_count += 1\n",
    "    elif las_rmse < lin_rmse and las_rmse < rid_rmse:\n",
    "        lasso_count += 1\n",
    "    else:\n",
    "        ridge_count += 1\n",
    "        \n",
    "print(\"\\nFinal Tally --\")     \n",
    "print(\"Linear: \", lin_count)\n",
    "print(\"Lasso: \", lasso_count)\n",
    "print(\"Ridge: \", ridge_count)"
   ]
  },
  {
   "cell_type": "code",
   "execution_count": null,
   "metadata": {},
   "outputs": [],
   "source": []
  },
  {
   "cell_type": "code",
   "execution_count": null,
   "metadata": {},
   "outputs": [],
   "source": []
  }
 ],
 "metadata": {
  "kernelspec": {
   "display_name": "Python [conda env:metis] *",
   "language": "python",
   "name": "conda-env-metis-py"
  },
  "language_info": {
   "codemirror_mode": {
    "name": "ipython",
    "version": 3
   },
   "file_extension": ".py",
   "mimetype": "text/x-python",
   "name": "python",
   "nbconvert_exporter": "python",
   "pygments_lexer": "ipython3",
   "version": "3.8.5"
  },
  "toc": {
   "base_numbering": 1,
   "nav_menu": {},
   "number_sections": true,
   "sideBar": true,
   "skip_h1_title": false,
   "title_cell": "Table of Contents",
   "title_sidebar": "Contents",
   "toc_cell": false,
   "toc_position": {},
   "toc_section_display": true,
   "toc_window_display": true
  },
  "varInspector": {
   "cols": {
    "lenName": 16,
    "lenType": 16,
    "lenVar": 40
   },
   "kernels_config": {
    "python": {
     "delete_cmd_postfix": "",
     "delete_cmd_prefix": "del ",
     "library": "var_list.py",
     "varRefreshCmd": "print(var_dic_list())"
    },
    "r": {
     "delete_cmd_postfix": ") ",
     "delete_cmd_prefix": "rm(",
     "library": "var_list.r",
     "varRefreshCmd": "cat(var_dic_list()) "
    }
   },
   "types_to_exclude": [
    "module",
    "function",
    "builtin_function_or_method",
    "instance",
    "_Feature"
   ],
   "window_display": false
  }
 },
 "nbformat": 4,
 "nbformat_minor": 4
}
