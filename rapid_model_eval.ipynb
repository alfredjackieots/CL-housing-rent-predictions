{
 "cells": [
  {
   "cell_type": "code",
   "execution_count": null,
   "metadata": {},
   "outputs": [],
   "source": []
  },
  {
   "cell_type": "code",
   "execution_count": 1,
   "metadata": {
    "ExecuteTime": {
     "end_time": "2020-10-07T01:22:03.396966Z",
     "start_time": "2020-10-07T01:22:02.471845Z"
    }
   },
   "outputs": [],
   "source": [
    "# Necessary imports\n",
    "import pandas as pd\n",
    "import numpy as np\n",
    "#import seaborn as sns\n",
    "import matplotlib.pyplot as plt\n",
    "import matplotlib.pylab as plb \n",
    "%matplotlib inline\n",
    "\n",
    "from sklearn.model_selection import train_test_split\n",
    "from sklearn.linear_model import LinearRegression, Lasso, LassoCV, Ridge, RidgeCV\n",
    "from sklearn.preprocessing import StandardScaler\n",
    "from sklearn.metrics import r2_score, mean_squared_error\n",
    "\n",
    "from model_evaluation import model_eval_with_alphavec, model_eval_with_alpha\n",
    "\n",
    "#sns.set(context='notebook', style='whitegrid', font_scale=1.2)"
   ]
  },
  {
   "cell_type": "markdown",
   "metadata": {},
   "source": [
    "## Data Import"
   ]
  },
  {
   "cell_type": "code",
   "execution_count": 2,
   "metadata": {
    "ExecuteTime": {
     "end_time": "2020-10-07T01:22:03.407289Z",
     "start_time": "2020-10-07T01:22:03.398716Z"
    }
   },
   "outputs": [],
   "source": [
    "sf = pd.read_csv('data_files/sf_clean.csv')\n",
    "\n",
    "# Reformatting hood_district names\n",
    "sf['hood_district'] = sf['hood_district'].astype(int)\n",
    "sf['hood_district'] = sf['hood_district'].astype(str)"
   ]
  },
  {
   "cell_type": "markdown",
   "metadata": {},
   "source": [
    "### Outliers (price > 10k per month)"
   ]
  },
  {
   "cell_type": "code",
   "execution_count": 3,
   "metadata": {
    "ExecuteTime": {
     "end_time": "2020-10-07T01:22:03.416994Z",
     "start_time": "2020-10-07T01:22:03.412418Z"
    }
   },
   "outputs": [],
   "source": [
    "sf = sf[sf['price'] < 10000]"
   ]
  },
  {
   "cell_type": "markdown",
   "metadata": {},
   "source": [
    "## Feature Selection / Engineering"
   ]
  },
  {
   "cell_type": "code",
   "execution_count": 4,
   "metadata": {
    "ExecuteTime": {
     "end_time": "2020-10-07T01:22:03.421363Z",
     "start_time": "2020-10-07T01:22:03.418499Z"
    }
   },
   "outputs": [],
   "source": [
    "sf = sf.drop(['pets', 'housing_type'], axis=1)"
   ]
  },
  {
   "cell_type": "code",
   "execution_count": 5,
   "metadata": {
    "ExecuteTime": {
     "end_time": "2020-10-07T01:22:03.424621Z",
     "start_time": "2020-10-07T01:22:03.422741Z"
    }
   },
   "outputs": [],
   "source": [
    "# sns.pairplot(sf, height=2, aspect=1.25, corner=True);"
   ]
  },
  {
   "cell_type": "code",
   "execution_count": 6,
   "metadata": {
    "ExecuteTime": {
     "end_time": "2020-10-07T01:22:03.434080Z",
     "start_time": "2020-10-07T01:22:03.425986Z"
    }
   },
   "outputs": [],
   "source": [
    "sf = pd.get_dummies(sf)"
   ]
  },
  {
   "cell_type": "code",
   "execution_count": 7,
   "metadata": {
    "ExecuteTime": {
     "end_time": "2020-10-07T01:22:03.441222Z",
     "start_time": "2020-10-07T01:22:03.437554Z"
    }
   },
   "outputs": [],
   "source": [
    "cols_to_drop = ['laundry_(c) no laundry',\n",
    "                'laundry_(b) on-site',\n",
    "               #'pets_(d) no pets', \n",
    "               #'housing_type_(c) multi', \n",
    "               'parking_(d) no parking',\n",
    "               'hood_district_10']\n",
    "\n",
    "sf = sf.drop(cols_to_drop, axis=1)"
   ]
  },
  {
   "cell_type": "code",
   "execution_count": 8,
   "metadata": {
    "ExecuteTime": {
     "end_time": "2020-10-07T01:22:03.458461Z",
     "start_time": "2020-10-07T01:22:03.444022Z"
    }
   },
   "outputs": [
    {
     "data": {
      "text/html": [
       "<div>\n",
       "<style scoped>\n",
       "    .dataframe tbody tr th:only-of-type {\n",
       "        vertical-align: middle;\n",
       "    }\n",
       "\n",
       "    .dataframe tbody tr th {\n",
       "        vertical-align: top;\n",
       "    }\n",
       "\n",
       "    .dataframe thead th {\n",
       "        text-align: right;\n",
       "    }\n",
       "</style>\n",
       "<table border=\"1\" class=\"dataframe\">\n",
       "  <thead>\n",
       "    <tr style=\"text-align: right;\">\n",
       "      <th></th>\n",
       "      <th>price</th>\n",
       "      <th>sqft</th>\n",
       "      <th>beds</th>\n",
       "      <th>bath</th>\n",
       "      <th>laundry_(a) in-unit</th>\n",
       "      <th>parking_(a) valet</th>\n",
       "      <th>parking_(b) protected</th>\n",
       "      <th>parking_(c) off-street</th>\n",
       "      <th>hood_district_1</th>\n",
       "      <th>hood_district_2</th>\n",
       "      <th>hood_district_3</th>\n",
       "      <th>hood_district_4</th>\n",
       "      <th>hood_district_5</th>\n",
       "      <th>hood_district_6</th>\n",
       "      <th>hood_district_7</th>\n",
       "      <th>hood_district_8</th>\n",
       "      <th>hood_district_9</th>\n",
       "    </tr>\n",
       "  </thead>\n",
       "  <tbody>\n",
       "    <tr>\n",
       "      <th>0</th>\n",
       "      <td>6800</td>\n",
       "      <td>1600.0</td>\n",
       "      <td>2.0</td>\n",
       "      <td>2.0</td>\n",
       "      <td>1</td>\n",
       "      <td>0</td>\n",
       "      <td>1</td>\n",
       "      <td>0</td>\n",
       "      <td>0</td>\n",
       "      <td>0</td>\n",
       "      <td>0</td>\n",
       "      <td>0</td>\n",
       "      <td>0</td>\n",
       "      <td>0</td>\n",
       "      <td>1</td>\n",
       "      <td>0</td>\n",
       "      <td>0</td>\n",
       "    </tr>\n",
       "    <tr>\n",
       "      <th>1</th>\n",
       "      <td>3500</td>\n",
       "      <td>550.0</td>\n",
       "      <td>1.0</td>\n",
       "      <td>1.0</td>\n",
       "      <td>1</td>\n",
       "      <td>0</td>\n",
       "      <td>1</td>\n",
       "      <td>0</td>\n",
       "      <td>0</td>\n",
       "      <td>0</td>\n",
       "      <td>0</td>\n",
       "      <td>0</td>\n",
       "      <td>0</td>\n",
       "      <td>0</td>\n",
       "      <td>1</td>\n",
       "      <td>0</td>\n",
       "      <td>0</td>\n",
       "    </tr>\n",
       "    <tr>\n",
       "      <th>2</th>\n",
       "      <td>5100</td>\n",
       "      <td>1300.0</td>\n",
       "      <td>2.0</td>\n",
       "      <td>1.0</td>\n",
       "      <td>1</td>\n",
       "      <td>0</td>\n",
       "      <td>0</td>\n",
       "      <td>0</td>\n",
       "      <td>0</td>\n",
       "      <td>0</td>\n",
       "      <td>0</td>\n",
       "      <td>0</td>\n",
       "      <td>0</td>\n",
       "      <td>0</td>\n",
       "      <td>1</td>\n",
       "      <td>0</td>\n",
       "      <td>0</td>\n",
       "    </tr>\n",
       "    <tr>\n",
       "      <th>3</th>\n",
       "      <td>9000</td>\n",
       "      <td>3500.0</td>\n",
       "      <td>3.0</td>\n",
       "      <td>2.5</td>\n",
       "      <td>1</td>\n",
       "      <td>0</td>\n",
       "      <td>1</td>\n",
       "      <td>0</td>\n",
       "      <td>0</td>\n",
       "      <td>0</td>\n",
       "      <td>0</td>\n",
       "      <td>0</td>\n",
       "      <td>0</td>\n",
       "      <td>0</td>\n",
       "      <td>1</td>\n",
       "      <td>0</td>\n",
       "      <td>0</td>\n",
       "    </tr>\n",
       "    <tr>\n",
       "      <th>4</th>\n",
       "      <td>3100</td>\n",
       "      <td>561.0</td>\n",
       "      <td>1.0</td>\n",
       "      <td>1.0</td>\n",
       "      <td>0</td>\n",
       "      <td>0</td>\n",
       "      <td>0</td>\n",
       "      <td>0</td>\n",
       "      <td>0</td>\n",
       "      <td>0</td>\n",
       "      <td>0</td>\n",
       "      <td>0</td>\n",
       "      <td>0</td>\n",
       "      <td>0</td>\n",
       "      <td>1</td>\n",
       "      <td>0</td>\n",
       "      <td>0</td>\n",
       "    </tr>\n",
       "  </tbody>\n",
       "</table>\n",
       "</div>"
      ],
      "text/plain": [
       "   price    sqft  beds  bath  laundry_(a) in-unit  parking_(a) valet  \\\n",
       "0   6800  1600.0   2.0   2.0                    1                  0   \n",
       "1   3500   550.0   1.0   1.0                    1                  0   \n",
       "2   5100  1300.0   2.0   1.0                    1                  0   \n",
       "3   9000  3500.0   3.0   2.5                    1                  0   \n",
       "4   3100   561.0   1.0   1.0                    0                  0   \n",
       "\n",
       "   parking_(b) protected  parking_(c) off-street  hood_district_1  \\\n",
       "0                      1                       0                0   \n",
       "1                      1                       0                0   \n",
       "2                      0                       0                0   \n",
       "3                      1                       0                0   \n",
       "4                      0                       0                0   \n",
       "\n",
       "   hood_district_2  hood_district_3  hood_district_4  hood_district_5  \\\n",
       "0                0                0                0                0   \n",
       "1                0                0                0                0   \n",
       "2                0                0                0                0   \n",
       "3                0                0                0                0   \n",
       "4                0                0                0                0   \n",
       "\n",
       "   hood_district_6  hood_district_7  hood_district_8  hood_district_9  \n",
       "0                0                1                0                0  \n",
       "1                0                1                0                0  \n",
       "2                0                1                0                0  \n",
       "3                0                1                0                0  \n",
       "4                0                1                0                0  "
      ]
     },
     "execution_count": 8,
     "metadata": {},
     "output_type": "execute_result"
    }
   ],
   "source": [
    "sf.head()"
   ]
  },
  {
   "cell_type": "markdown",
   "metadata": {},
   "source": [
    "## Model Evaluation"
   ]
  },
  {
   "cell_type": "code",
   "execution_count": 9,
   "metadata": {
    "ExecuteTime": {
     "end_time": "2020-10-07T01:22:03.463060Z",
     "start_time": "2020-10-07T01:22:03.460024Z"
    }
   },
   "outputs": [],
   "source": [
    "X, y = sf.drop('price',axis=1), sf['price']"
   ]
  },
  {
   "cell_type": "code",
   "execution_count": 10,
   "metadata": {
    "ExecuteTime": {
     "end_time": "2020-10-07T01:22:03.468082Z",
     "start_time": "2020-10-07T01:22:03.464775Z"
    }
   },
   "outputs": [
    {
     "data": {
      "text/plain": [
       "[2, 4, 6, 8, 10, 12, 14]"
      ]
     },
     "execution_count": 10,
     "metadata": {},
     "output_type": "execute_result"
    }
   ],
   "source": [
    "rando_states = list(range(2, 16, 2))\n",
    "rando_states"
   ]
  },
  {
   "cell_type": "code",
   "execution_count": 11,
   "metadata": {
    "ExecuteTime": {
     "end_time": "2020-10-07T01:22:03.471736Z",
     "start_time": "2020-10-07T01:22:03.469543Z"
    }
   },
   "outputs": [],
   "source": [
    "alphavec = 10**np.linspace(-2,1,100)"
   ]
  },
  {
   "cell_type": "markdown",
   "metadata": {},
   "source": [
    "## Lasso"
   ]
  },
  {
   "cell_type": "markdown",
   "metadata": {},
   "source": [
    "### Alpha evaluation"
   ]
  },
  {
   "cell_type": "code",
   "execution_count": 12,
   "metadata": {
    "ExecuteTime": {
     "end_time": "2020-10-07T01:22:03.779923Z",
     "start_time": "2020-10-07T01:22:03.473125Z"
    }
   },
   "outputs": [
    {
     "name": "stdout",
     "output_type": "stream",
     "text": [
      "Model Type:  lasso\n",
      "Alpha evaluation in progress...\n",
      "\n",
      "Random State:  2\n",
      "~~~~~~~~~~~~~~~~~~\n",
      "Best Alpha:  0.01\n",
      "Lasso Regression train R^2: 0.80366\n",
      "Lasso Regression test R^2: 0.78244\n",
      "\n",
      "Train/Val R^2 Ratio:  1.02713\n",
      "\n",
      "RMSE :  567.9705460666755\n",
      "~~~~~~~~~~~~~~~~~~~~~~~~~~~~~~~~~~~\n",
      "\n",
      "Random State:  4\n",
      "~~~~~~~~~~~~~~~~~~\n",
      "Best Alpha:  0.30538555088334157\n",
      "Lasso Regression train R^2: 0.80580\n",
      "Lasso Regression test R^2: 0.78161\n",
      "\n",
      "Train/Val R^2 Ratio:  1.03096\n",
      "\n",
      "RMSE :  533.2416586412728\n",
      "~~~~~~~~~~~~~~~~~~~~~~~~~~~~~~~~~~~\n",
      "\n",
      "Random State:  6\n",
      "~~~~~~~~~~~~~~~~~~\n",
      "Best Alpha:  0.01\n",
      "Lasso Regression train R^2: 0.80310\n",
      "Lasso Regression test R^2: 0.81334\n",
      "\n",
      "Train/Val R^2 Ratio:  0.98741\n",
      "\n",
      "RMSE :  591.1826013988381\n",
      "~~~~~~~~~~~~~~~~~~~~~~~~~~~~~~~~~~~\n",
      "\n",
      "Random State:  8\n",
      "~~~~~~~~~~~~~~~~~~\n",
      "Best Alpha:  0.26560877829466867\n",
      "Lasso Regression train R^2: 0.80912\n",
      "Lasso Regression test R^2: 0.75757\n",
      "\n",
      "Train/Val R^2 Ratio:  1.06805\n",
      "\n",
      "RMSE :  654.6786026635875\n",
      "~~~~~~~~~~~~~~~~~~~~~~~~~~~~~~~~~~~\n",
      "\n",
      "Random State:  10\n",
      "~~~~~~~~~~~~~~~~~~\n",
      "Best Alpha:  0.49770235643321115\n",
      "Lasso Regression train R^2: 0.82640\n",
      "Lasso Regression test R^2: 0.68079\n",
      "\n",
      "Train/Val R^2 Ratio:  1.21389\n",
      "\n",
      "RMSE :  669.8833240681877\n",
      "~~~~~~~~~~~~~~~~~~~~~~~~~~~~~~~~~~~\n",
      "\n",
      "Random State:  12\n",
      "~~~~~~~~~~~~~~~~~~\n",
      "Best Alpha:  10.0\n",
      "Lasso Regression train R^2: 0.82863\n",
      "Lasso Regression test R^2: 0.73841\n",
      "\n",
      "Train/Val R^2 Ratio:  1.12219\n",
      "\n",
      "RMSE :  730.4042650430869\n",
      "~~~~~~~~~~~~~~~~~~~~~~~~~~~~~~~~~~~\n",
      "\n",
      "Random State:  14\n",
      "~~~~~~~~~~~~~~~~~~\n",
      "Best Alpha:  0.01\n",
      "Lasso Regression train R^2: 0.83588\n",
      "Lasso Regression test R^2: 0.79234\n",
      "\n",
      "Train/Val R^2 Ratio:  1.05494\n",
      "\n",
      "RMSE :  701.2793972930218\n",
      "~~~~~~~~~~~~~~~~~~~~~~~~~~~~~~~~~~~\n",
      "\n",
      "Evaluation complete.\n",
      "\n",
      "Summary\n",
      "\n",
      "Alphas:  [0.01, 0.30538555088334157, 0.01, 0.26560877829466867, 0.49770235643321115, 10.0, 0.01]\n",
      "Avg alpha: 1.58553 +- 3.43957\n",
      "\n",
      "Mean training r^2: 0.81608 +- 0.01272\n",
      "Mean test r^2: 0.76378 +- 0.04055\n",
      "Avg train/test r^2 ratio: 1.06848\n",
      "\n",
      "Avg RMSE: 635.52006 +- 67.46936\n"
     ]
    }
   ],
   "source": [
    "model_eval_with_alphavec(rando_states, alphavec, X, y, model_type='lasso')"
   ]
  },
  {
   "cell_type": "markdown",
   "metadata": {},
   "source": [
    "### Alpha chosen"
   ]
  },
  {
   "cell_type": "code",
   "execution_count": 28,
   "metadata": {
    "ExecuteTime": {
     "end_time": "2020-10-07T01:22:52.079646Z",
     "start_time": "2020-10-07T01:22:52.075899Z"
    }
   },
   "outputs": [
    {
     "data": {
      "text/plain": [
       "10"
      ]
     },
     "execution_count": 28,
     "metadata": {},
     "output_type": "execute_result"
    }
   ],
   "source": [
    "las_alpha = 0.1\n",
    "rando_states = list(range(0, 10))\n",
    "len(rando_states)"
   ]
  },
  {
   "cell_type": "code",
   "execution_count": 30,
   "metadata": {
    "ExecuteTime": {
     "end_time": "2020-10-07T01:22:56.821343Z",
     "start_time": "2020-10-07T01:22:56.769571Z"
    }
   },
   "outputs": [
    {
     "name": "stdout",
     "output_type": "stream",
     "text": [
      "Model Type:  lasso\n",
      "Alpha evaluation in progress...\n",
      "\n",
      "Random State:  0\n",
      "~~~~~~~~~~~~~~~~~~\n",
      "Lasso Regression train R^2: 0.85837\n",
      "Lasso Regression test R^2: 0.73427\n",
      "\n",
      "Train/Val R^2 Ratio:  1.16901\n",
      "\n",
      "RMSE :  1002.7529438425668\n",
      "~~~~~~~~~~~~~~~~~~~~~~~~~~~~~~~~~~~\n",
      "\n",
      "Random State:  1\n",
      "~~~~~~~~~~~~~~~~~~\n",
      "Lasso Regression train R^2: 0.84450\n",
      "Lasso Regression test R^2: 0.89552\n",
      "\n",
      "Train/Val R^2 Ratio:  0.94302\n",
      "\n",
      "RMSE :  455.59057680159145\n",
      "~~~~~~~~~~~~~~~~~~~~~~~~~~~~~~~~~~~\n",
      "\n",
      "Random State:  2\n",
      "~~~~~~~~~~~~~~~~~~\n",
      "Lasso Regression train R^2: 0.82568\n",
      "Lasso Regression test R^2: 0.88151\n",
      "\n",
      "Train/Val R^2 Ratio:  0.93666\n",
      "\n",
      "RMSE :  499.774857668401\n",
      "~~~~~~~~~~~~~~~~~~~~~~~~~~~~~~~~~~~\n",
      "\n",
      "Random State:  3\n",
      "~~~~~~~~~~~~~~~~~~\n",
      "Lasso Regression train R^2: 0.85455\n",
      "Lasso Regression test R^2: 0.45256\n",
      "\n",
      "Train/Val R^2 Ratio:  1.88825\n",
      "\n",
      "RMSE :  686.5415354161412\n",
      "~~~~~~~~~~~~~~~~~~~~~~~~~~~~~~~~~~~\n",
      "\n",
      "Random State:  4\n",
      "~~~~~~~~~~~~~~~~~~\n",
      "Lasso Regression train R^2: 0.86081\n",
      "Lasso Regression test R^2: 0.53405\n",
      "\n",
      "Train/Val R^2 Ratio:  1.61185\n",
      "\n",
      "RMSE :  700.3558785518111\n",
      "~~~~~~~~~~~~~~~~~~~~~~~~~~~~~~~~~~~\n",
      "\n",
      "Random State:  5\n",
      "~~~~~~~~~~~~~~~~~~\n",
      "Lasso Regression train R^2: 0.87297\n",
      "Lasso Regression test R^2: 0.64136\n",
      "\n",
      "Train/Val R^2 Ratio:  1.36113\n",
      "\n",
      "RMSE :  685.2436509916532\n",
      "~~~~~~~~~~~~~~~~~~~~~~~~~~~~~~~~~~~\n",
      "\n",
      "Random State:  6\n",
      "~~~~~~~~~~~~~~~~~~\n",
      "Lasso Regression train R^2: 0.87698\n",
      "Lasso Regression test R^2: 0.78574\n",
      "\n",
      "Train/Val R^2 Ratio:  1.11612\n",
      "\n",
      "RMSE :  387.6690830495971\n",
      "~~~~~~~~~~~~~~~~~~~~~~~~~~~~~~~~~~~\n",
      "\n",
      "Random State:  7\n",
      "~~~~~~~~~~~~~~~~~~\n",
      "Lasso Regression train R^2: 0.87910\n",
      "Lasso Regression test R^2: 0.78831\n",
      "\n",
      "Train/Val R^2 Ratio:  1.11518\n",
      "\n",
      "RMSE :  1026.3413728059777\n",
      "~~~~~~~~~~~~~~~~~~~~~~~~~~~~~~~~~~~\n",
      "\n",
      "Random State:  8\n",
      "~~~~~~~~~~~~~~~~~~\n",
      "Lasso Regression train R^2: 0.89054\n",
      "Lasso Regression test R^2: -0.31134\n",
      "\n",
      "Train/Val R^2 Ratio: -2.86031\n",
      "\n",
      "RMSE :  735.3631709476423\n",
      "~~~~~~~~~~~~~~~~~~~~~~~~~~~~~~~~~~~\n",
      "\n",
      "Random State:  9\n",
      "~~~~~~~~~~~~~~~~~~\n",
      "Lasso Regression train R^2: 0.91289\n",
      "Lasso Regression test R^2: -1.11145\n",
      "\n",
      "Train/Val R^2 Ratio: -0.82135\n",
      "\n",
      "RMSE :  920.8179329621806\n",
      "~~~~~~~~~~~~~~~~~~~~~~~~~~~~~~~~~~~\n",
      "\n",
      "Evaluation complete.\n",
      "\n",
      "Summary\n",
      "\n",
      "Mean training r^2: 0.86764 +- 0.02328\n",
      "Mean test r^2: 0.42905 +- 0.61235\n",
      "Avg train/test r^2 ratio: 2.02221\n",
      "\n",
      "Avg RMSE: 710.04510 +- 210.93501\n"
     ]
    }
   ],
   "source": [
    "model_eval_with_alpha(rando_states, X, y, model_type='lasso', alpha=las_alpha)"
   ]
  },
  {
   "cell_type": "markdown",
   "metadata": {},
   "source": [
    "### Charts"
   ]
  },
  {
   "cell_type": "code",
   "execution_count": 15,
   "metadata": {
    "ExecuteTime": {
     "end_time": "2020-10-07T01:22:03.862706Z",
     "start_time": "2020-10-07T01:22:03.854552Z"
    }
   },
   "outputs": [],
   "source": [
    "# Training versus Test Data\n",
    "# hold out 20% of the data for testing\n",
    "X, X_test, y, y_test = train_test_split(X, y, test_size=.2, random_state=72)\n",
    "\n",
    "# Scaling for Ridge & Lasso \n",
    "scaler = StandardScaler()\n",
    "\n",
    "X_train_scaled = scaler.fit_transform(X.values)\n",
    "X_test_scaled = scaler.transform(X_test.values)"
   ]
  },
  {
   "cell_type": "code",
   "execution_count": 16,
   "metadata": {
    "ExecuteTime": {
     "end_time": "2020-10-07T01:22:03.871793Z",
     "start_time": "2020-10-07T01:22:03.864466Z"
    }
   },
   "outputs": [
    {
     "name": "stdout",
     "output_type": "stream",
     "text": [
      "Ridge Regression train R^2: 0.80585\n",
      "Ridge Regression test R^2: 0.77966\n"
     ]
    }
   ],
   "source": [
    "las = Lasso(alpha=las_alpha)\n",
    "\n",
    "las.fit(X_train_scaled, y)\n",
    "print(f'Ridge Regression train R^2: {las.score(X_train_scaled, y):.5f}')\n",
    "print(f'Ridge Regression test R^2: {las.score(X_test_scaled, y_test):.5f}')"
   ]
  },
  {
   "cell_type": "code",
   "execution_count": 17,
   "metadata": {
    "ExecuteTime": {
     "end_time": "2020-10-07T01:22:03.877384Z",
     "start_time": "2020-10-07T01:22:03.873591Z"
    }
   },
   "outputs": [
    {
     "name": "stdout",
     "output_type": "stream",
     "text": [
      "659.2533853594322\n"
     ]
    }
   ],
   "source": [
    "las_predict = las.predict(X_test_scaled)\n",
    "\n",
    "rmse = mean_squared_error(y_test, las_predict, squared=False)\n",
    "print(rmse)"
   ]
  },
  {
   "cell_type": "code",
   "execution_count": 18,
   "metadata": {
    "ExecuteTime": {
     "end_time": "2020-10-07T01:22:04.055967Z",
     "start_time": "2020-10-07T01:22:03.879122Z"
    }
   },
   "outputs": [
    {
     "data": {
      "image/png": "[encoded data removed]",
      "text/plain": [
       "<Figure size 720x504 with 1 Axes>"
      ]
     },
     "metadata": {
      "needs_background": "light"
     },
     "output_type": "display_data"
    }
   ],
   "source": [
    "plt.figure(figsize=(10, 7))\n",
    "plt.scatter(las_predict, y_test) \n",
    "\n",
    "z = np.polyfit(las_predict, y_test, 1)\n",
    "p = np.poly1d(z)\n",
    "plb.plot(las_predict, p(las_predict), 'm-')\n",
    "\n",
    "plt.xlim(0, 10000)\n",
    "plt.ylim(0, 10000)\n",
    "\n",
    "plt.title('Lasso Regression Model: Actual Versus Predicted', fontsize=20)\n",
    "plt.xlabel('Predicted Values', fontsize=16)\n",
    "plt.ylabel('Actual Values', fontsize=16);"
   ]
  },
  {
   "cell_type": "markdown",
   "metadata": {},
   "source": [
    "## Ridge"
   ]
  },
  {
   "cell_type": "markdown",
   "metadata": {},
   "source": [
    "### alpha evaluation"
   ]
  },
  {
   "cell_type": "code",
   "execution_count": 19,
   "metadata": {
    "ExecuteTime": {
     "end_time": "2020-10-07T01:22:07.456182Z",
     "start_time": "2020-10-07T01:22:04.057701Z"
    }
   },
   "outputs": [
    {
     "name": "stdout",
     "output_type": "stream",
     "text": [
      "Model Type:  ridge\n",
      "Alpha evaluation in progress...\n",
      "\n",
      "Random State:  0\n",
      "~~~~~~~~~~~~~~~~~~\n",
      "Best Alpha:  0.01\n",
      "Lasso Regression train R^2: 0.79610\n",
      "Lasso Regression test R^2: 0.82730\n",
      "\n",
      "Train/Val R^2 Ratio:  0.96228\n",
      "\n",
      "RMSE :  640.1227715110009\n",
      "~~~~~~~~~~~~~~~~~~~~~~~~~~~~~~~~~~~\n",
      "\n",
      "Random State:  1\n",
      "~~~~~~~~~~~~~~~~~~\n",
      "Best Alpha:  2.31012970008316\n",
      "Lasso Regression train R^2: 0.78849\n",
      "Lasso Regression test R^2: 0.81308\n",
      "\n",
      "Train/Val R^2 Ratio:  0.96975\n",
      "\n",
      "RMSE :  543.1236167508247\n",
      "~~~~~~~~~~~~~~~~~~~~~~~~~~~~~~~~~~~\n",
      "\n",
      "Random State:  2\n",
      "~~~~~~~~~~~~~~~~~~\n",
      "Best Alpha:  1.629750834620645\n",
      "Lasso Regression train R^2: 0.78565\n",
      "Lasso Regression test R^2: 0.79059\n",
      "\n",
      "Train/Val R^2 Ratio:  0.99376\n",
      "\n",
      "RMSE :  618.7189460980662\n",
      "~~~~~~~~~~~~~~~~~~~~~~~~~~~~~~~~~~~\n",
      "\n",
      "Random State:  3\n",
      "~~~~~~~~~~~~~~~~~~\n",
      "Best Alpha:  0.01\n",
      "Lasso Regression train R^2: 0.79503\n",
      "Lasso Regression test R^2: 0.70237\n",
      "\n",
      "Train/Val R^2 Ratio:  1.13192\n",
      "\n",
      "RMSE :  585.5596704181756\n",
      "~~~~~~~~~~~~~~~~~~~~~~~~~~~~~~~~~~~\n",
      "\n",
      "Random State:  4\n",
      "~~~~~~~~~~~~~~~~~~\n",
      "Best Alpha:  2.656087782946687\n",
      "Lasso Regression train R^2: 0.82270\n",
      "Lasso Regression test R^2: 0.65013\n",
      "\n",
      "Train/Val R^2 Ratio:  1.26544\n",
      "\n",
      "RMSE :  753.7157019181072\n",
      "~~~~~~~~~~~~~~~~~~~~~~~~~~~~~~~~~~~\n",
      "\n",
      "Random State:  5\n",
      "~~~~~~~~~~~~~~~~~~\n",
      "Best Alpha:  3.0538555088334154\n",
      "Lasso Regression train R^2: 0.80706\n",
      "Lasso Regression test R^2: 0.84645\n",
      "\n",
      "Train/Val R^2 Ratio:  0.95346\n",
      "\n",
      "RMSE :  535.0648817045563\n",
      "~~~~~~~~~~~~~~~~~~~~~~~~~~~~~~~~~~~\n",
      "\n",
      "Random State:  6\n",
      "~~~~~~~~~~~~~~~~~~\n",
      "Best Alpha:  0.6579332246575682\n",
      "Lasso Regression train R^2: 0.81490\n",
      "Lasso Regression test R^2: 0.75232\n",
      "\n",
      "Train/Val R^2 Ratio:  1.08318\n",
      "\n",
      "RMSE :  543.051325579586\n",
      "~~~~~~~~~~~~~~~~~~~~~~~~~~~~~~~~~~~\n",
      "\n",
      "Random State:  7\n",
      "~~~~~~~~~~~~~~~~~~\n",
      "Best Alpha:  9.326033468832199\n",
      "Lasso Regression train R^2: 0.78416\n",
      "Lasso Regression test R^2: 0.90889\n",
      "\n",
      "Train/Val R^2 Ratio:  0.86277\n",
      "\n",
      "RMSE :  349.76886437294473\n",
      "~~~~~~~~~~~~~~~~~~~~~~~~~~~~~~~~~~~\n",
      "\n",
      "Random State:  8\n",
      "~~~~~~~~~~~~~~~~~~\n",
      "Best Alpha:  10.0\n",
      "Lasso Regression train R^2: 0.77741\n",
      "Lasso Regression test R^2: 0.69875\n",
      "\n",
      "Train/Val R^2 Ratio:  1.11256\n",
      "\n",
      "RMSE :  751.2767210094263\n",
      "~~~~~~~~~~~~~~~~~~~~~~~~~~~~~~~~~~~\n",
      "\n",
      "Random State:  9\n",
      "~~~~~~~~~~~~~~~~~~\n",
      "Best Alpha:  10.0\n",
      "Lasso Regression train R^2: 0.79778\n",
      "Lasso Regression test R^2: 0.66541\n",
      "\n",
      "Train/Val R^2 Ratio:  1.19894\n",
      "\n",
      "RMSE :  829.7721944917321\n",
      "~~~~~~~~~~~~~~~~~~~~~~~~~~~~~~~~~~~\n",
      "\n",
      "Evaluation complete.\n",
      "\n",
      "Summary\n",
      "\n",
      "Alphas:  [0.01, 2.31012970008316, 1.629750834620645, 0.01, 2.656087782946687, 3.0538555088334154, 0.6579332246575682, 9.326033468832199, 10.0, 10.0]\n",
      "Avg alpha: 3.96538 +- 3.93115\n",
      "\n",
      "Mean training r^2: 0.79693 +- 0.01355\n",
      "Mean test r^2: 0.76553 +- 0.08110\n",
      "Avg train/test r^2 ratio: 1.04101\n",
      "\n",
      "Avg RMSE: 615.01747 +- 131.35152\n"
     ]
    }
   ],
   "source": [
    "model_eval_with_alphavec(rando_states, alphavec, X, y, model_type='ridge')"
   ]
  },
  {
   "cell_type": "markdown",
   "metadata": {},
   "source": [
    "### alpha chosen"
   ]
  },
  {
   "cell_type": "code",
   "execution_count": 31,
   "metadata": {
    "ExecuteTime": {
     "end_time": "2020-10-07T01:23:49.938155Z",
     "start_time": "2020-10-07T01:23:49.934465Z"
    }
   },
   "outputs": [
    {
     "data": {
      "text/plain": [
       "10"
      ]
     },
     "execution_count": 31,
     "metadata": {},
     "output_type": "execute_result"
    }
   ],
   "source": [
    "#rid_alpha = 1.5352750287804227\n",
    "#rid_alpha = 5\n",
    "rid_alpha = 0.6\n",
    "rando_states = list(range(0, 10))\n",
    "len(rando_states)"
   ]
  },
  {
   "cell_type": "code",
   "execution_count": 32,
   "metadata": {
    "ExecuteTime": {
     "end_time": "2020-10-07T01:23:51.145842Z",
     "start_time": "2020-10-07T01:23:51.094893Z"
    }
   },
   "outputs": [
    {
     "name": "stdout",
     "output_type": "stream",
     "text": [
      "Model Type:  ridge\n",
      "Alpha evaluation in progress...\n",
      "\n",
      "Random State:  0\n",
      "~~~~~~~~~~~~~~~~~~\n",
      "Lasso Regression train R^2: 0.85826\n",
      "Lasso Regression test R^2: 0.73480\n",
      "\n",
      "Train/Val R^2 Ratio:  1.16801\n",
      "\n",
      "RMSE :  1001.7505096978045\n",
      "~~~~~~~~~~~~~~~~~~~~~~~~~~~~~~~~~~~\n",
      "\n",
      "Random State:  1\n",
      "~~~~~~~~~~~~~~~~~~\n",
      "Lasso Regression train R^2: 0.84433\n",
      "Lasso Regression test R^2: 0.89663\n",
      "\n",
      "Train/Val R^2 Ratio:  0.94167\n",
      "\n",
      "RMSE :  453.17872538400627\n",
      "~~~~~~~~~~~~~~~~~~~~~~~~~~~~~~~~~~~\n",
      "\n",
      "Random State:  2\n",
      "~~~~~~~~~~~~~~~~~~\n",
      "Lasso Regression train R^2: 0.82523\n",
      "Lasso Regression test R^2: 0.88528\n",
      "\n",
      "Train/Val R^2 Ratio:  0.93217\n",
      "\n",
      "RMSE :  491.7614573801752\n",
      "~~~~~~~~~~~~~~~~~~~~~~~~~~~~~~~~~~~\n",
      "\n",
      "Random State:  3\n",
      "~~~~~~~~~~~~~~~~~~\n",
      "Lasso Regression train R^2: 0.85385\n",
      "Lasso Regression test R^2: 0.46677\n",
      "\n",
      "Train/Val R^2 Ratio:  1.82928\n",
      "\n",
      "RMSE :  677.5781143204365\n",
      "~~~~~~~~~~~~~~~~~~~~~~~~~~~~~~~~~~~\n",
      "\n",
      "Random State:  4\n",
      "~~~~~~~~~~~~~~~~~~\n",
      "Lasso Regression train R^2: 0.85986\n",
      "Lasso Regression test R^2: 0.59163\n",
      "\n",
      "Train/Val R^2 Ratio:  1.45338\n",
      "\n",
      "RMSE :  655.6563142708842\n",
      "~~~~~~~~~~~~~~~~~~~~~~~~~~~~~~~~~~~\n",
      "\n",
      "Random State:  5\n",
      "~~~~~~~~~~~~~~~~~~\n",
      "Lasso Regression train R^2: 0.87203\n",
      "Lasso Regression test R^2: 0.62359\n",
      "\n",
      "Train/Val R^2 Ratio:  1.39841\n",
      "\n",
      "RMSE :  702.0122617308954\n",
      "~~~~~~~~~~~~~~~~~~~~~~~~~~~~~~~~~~~\n",
      "\n",
      "Random State:  6\n",
      "~~~~~~~~~~~~~~~~~~\n",
      "Lasso Regression train R^2: 0.87579\n",
      "Lasso Regression test R^2: 0.79711\n",
      "\n",
      "Train/Val R^2 Ratio:  1.09871\n",
      "\n",
      "RMSE :  377.2459311372405\n",
      "~~~~~~~~~~~~~~~~~~~~~~~~~~~~~~~~~~~\n",
      "\n",
      "Random State:  7\n",
      "~~~~~~~~~~~~~~~~~~\n",
      "Lasso Regression train R^2: 0.87614\n",
      "Lasso Regression test R^2: 0.81970\n",
      "\n",
      "Train/Val R^2 Ratio:  1.06886\n",
      "\n",
      "RMSE :  947.194331993394\n",
      "~~~~~~~~~~~~~~~~~~~~~~~~~~~~~~~~~~~\n",
      "\n",
      "Random State:  8\n",
      "~~~~~~~~~~~~~~~~~~\n",
      "Lasso Regression train R^2: 0.88148\n",
      "Lasso Regression test R^2: 0.26260\n",
      "\n",
      "Train/Val R^2 Ratio:  3.35674\n",
      "\n",
      "RMSE :  551.4362445438313\n",
      "~~~~~~~~~~~~~~~~~~~~~~~~~~~~~~~~~~~\n",
      "\n",
      "Random State:  9\n",
      "~~~~~~~~~~~~~~~~~~\n",
      "Lasso Regression train R^2: 0.90021\n",
      "Lasso Regression test R^2: -0.33317\n",
      "\n",
      "Train/Val R^2 Ratio: -2.70195\n",
      "\n",
      "RMSE :  731.6893086465649\n",
      "~~~~~~~~~~~~~~~~~~~~~~~~~~~~~~~~~~~\n",
      "\n",
      "Evaluation complete.\n",
      "\n",
      "Summary\n",
      "\n",
      "Mean training r^2: 0.86472 +- 0.02001\n",
      "Mean test r^2: 0.57449 +- 0.35654\n",
      "Avg train/test r^2 ratio: 1.50519\n",
      "\n",
      "Avg RMSE: 658.95032 +- 192.17451\n"
     ]
    }
   ],
   "source": [
    "model_eval_with_alpha(rando_states, X, y, model_type='ridge', alpha=rid_alpha)"
   ]
  },
  {
   "cell_type": "code",
   "execution_count": null,
   "metadata": {},
   "outputs": [],
   "source": []
  },
  {
   "cell_type": "code",
   "execution_count": null,
   "metadata": {},
   "outputs": [],
   "source": []
  },
  {
   "cell_type": "code",
   "execution_count": 33,
   "metadata": {
    "ExecuteTime": {
     "end_time": "2020-10-07T01:24:12.765229Z",
     "start_time": "2020-10-07T01:24:12.759926Z"
    }
   },
   "outputs": [
    {
     "name": "stdout",
     "output_type": "stream",
     "text": [
      "Ridge Regression train R^2: 0.83585\n",
      "Ridge Regression test R^2: 0.79249\n"
     ]
    }
   ],
   "source": [
    "rid = Ridge(alpha=rid_alpha)\n",
    "\n",
    "rid.fit(X_train_scaled, y)\n",
    "print(f'Ridge Regression train R^2: {rid.score(X_train_scaled, y):.5f}')\n",
    "print(f'Ridge Regression test R^2: {rid.score(X_test_scaled, y_test):.5f}')"
   ]
  },
  {
   "cell_type": "code",
   "execution_count": 34,
   "metadata": {
    "ExecuteTime": {
     "end_time": "2020-10-07T01:24:15.932912Z",
     "start_time": "2020-10-07T01:24:15.928781Z"
    }
   },
   "outputs": [
    {
     "data": {
      "text/plain": [
       "701.0387314076631"
      ]
     },
     "execution_count": 34,
     "metadata": {},
     "output_type": "execute_result"
    }
   ],
   "source": [
    "rid_predict = rid.predict(X_test_scaled)\n",
    "\n",
    "mean_squared_error(y_test, rid_predict, squared=False)"
   ]
  },
  {
   "cell_type": "code",
   "execution_count": 35,
   "metadata": {
    "ExecuteTime": {
     "end_time": "2020-10-07T01:24:17.808537Z",
     "start_time": "2020-10-07T01:24:17.671995Z"
    }
   },
   "outputs": [
    {
     "data": {
      "image/png": "[encoded data removed]",
      "text/plain": [
       "<Figure size 720x504 with 1 Axes>"
      ]
     },
     "metadata": {
      "needs_background": "light"
     },
     "output_type": "display_data"
    }
   ],
   "source": [
    "plt.figure(figsize=(10, 7))\n",
    "plt.scatter(rid_predict, y_test) \n",
    "\n",
    "z = np.polyfit(rid_predict, y_test, 1)\n",
    "p = np.poly1d(z)\n",
    "plb.plot(rid_predict, p(rid_predict), 'm-')\n",
    "\n",
    "plt.xlim(0, 10000)\n",
    "plt.ylim(0, 10000)\n",
    "\n",
    "plt.title('Ridge Regression Model: Actual Versus Predicted', fontsize=20)\n",
    "plt.xlabel('Predicted Values', fontsize=16)\n",
    "plt.ylabel('Actual Values', fontsize=16);"
   ]
  },
  {
   "cell_type": "markdown",
   "metadata": {},
   "source": [
    "## Evaluation"
   ]
  },
  {
   "cell_type": "code",
   "execution_count": 36,
   "metadata": {
    "ExecuteTime": {
     "end_time": "2020-10-07T01:24:25.873692Z",
     "start_time": "2020-10-07T01:24:25.731360Z"
    }
   },
   "outputs": [
    {
     "name": "stdout",
     "output_type": "stream",
     "text": [
      "RANDOM STATE:  2\n",
      "~~~~~~~~~~~~~~~~~~~~~~~~~\n",
      "\n",
      "Linear Regression train R^2: 0.80366\n",
      "Linear Regression val R^2: 0.78244\n",
      "RMSE: 567.96\n",
      "\n",
      "LASSO\n",
      "\n",
      "Ridge Regression train R^2: 0.80362\n",
      "Ridge Regression test R^2: 0.78210\n",
      "RMSE: 568.41\n",
      "\n",
      "RIDGE\n",
      "\n",
      "Ridge Regression train R^2: 0.80365\n",
      "Ridge Regression test R^2: 0.78235\n",
      "RMSE: 568.08\n",
      "~~~~~~~~~~~~~~~~~~~~~~~~~\n",
      "\n",
      "RANDOM STATE:  4\n",
      "~~~~~~~~~~~~~~~~~~~~~~~~~\n",
      "\n",
      "Linear Regression train R^2: 0.80581\n",
      "Linear Regression val R^2: 0.78196\n",
      "RMSE: 532.81\n",
      "\n",
      "LASSO\n",
      "\n",
      "Ridge Regression train R^2: 0.80578\n",
      "Ridge Regression test R^2: 0.78126\n",
      "RMSE: 533.67\n",
      "\n",
      "RIDGE\n",
      "\n",
      "Ridge Regression train R^2: 0.80580\n",
      "Ridge Regression test R^2: 0.78184\n",
      "RMSE: 532.96\n",
      "~~~~~~~~~~~~~~~~~~~~~~~~~\n",
      "\n",
      "RANDOM STATE:  6\n",
      "~~~~~~~~~~~~~~~~~~~~~~~~~\n",
      "\n",
      "Linear Regression train R^2: 0.80310\n",
      "Linear Regression val R^2: 0.81333\n",
      "RMSE: 591.2\n",
      "\n",
      "LASSO\n",
      "\n",
      "Ridge Regression train R^2: 0.80307\n",
      "Ridge Regression test R^2: 0.81398\n",
      "RMSE: 590.16\n",
      "\n",
      "RIDGE\n",
      "\n",
      "Ridge Regression train R^2: 0.80309\n",
      "Ridge Regression test R^2: 0.81374\n",
      "RMSE: 590.54\n",
      "~~~~~~~~~~~~~~~~~~~~~~~~~\n",
      "\n",
      "RANDOM STATE:  8\n",
      "~~~~~~~~~~~~~~~~~~~~~~~~~\n",
      "\n",
      "Linear Regression train R^2: 0.80913\n",
      "Linear Regression val R^2: 0.75745\n",
      "RMSE: 654.84\n",
      "\n",
      "LASSO\n",
      "\n",
      "Ridge Regression train R^2: 0.80910\n",
      "Ridge Regression test R^2: 0.75771\n",
      "RMSE: 654.49\n",
      "\n",
      "RIDGE\n",
      "\n",
      "Ridge Regression train R^2: 0.80912\n",
      "Ridge Regression test R^2: 0.75797\n",
      "RMSE: 654.14\n",
      "~~~~~~~~~~~~~~~~~~~~~~~~~\n",
      "\n",
      "RANDOM STATE:  10\n",
      "~~~~~~~~~~~~~~~~~~~~~~~~~\n",
      "\n",
      "Linear Regression train R^2: 0.82641\n",
      "Linear Regression val R^2: 0.68087\n",
      "RMSE: 669.79\n",
      "\n",
      "LASSO\n",
      "\n",
      "Ridge Regression train R^2: 0.82639\n",
      "Ridge Regression test R^2: 0.68076\n",
      "RMSE: 669.91\n",
      "\n",
      "RIDGE\n",
      "\n",
      "Ridge Regression train R^2: 0.82639\n",
      "Ridge Regression test R^2: 0.68101\n",
      "RMSE: 669.65\n",
      "~~~~~~~~~~~~~~~~~~~~~~~~~\n",
      "\n",
      "RANDOM STATE:  12\n",
      "~~~~~~~~~~~~~~~~~~~~~~~~~\n",
      "\n",
      "Linear Regression train R^2: 0.83182\n",
      "Linear Regression val R^2: 0.78414\n",
      "RMSE: 663.49\n",
      "\n",
      "LASSO\n",
      "\n",
      "Ridge Regression train R^2: 0.83179\n",
      "Ridge Regression test R^2: 0.78055\n",
      "RMSE: 668.98\n",
      "\n",
      "RIDGE\n",
      "\n",
      "Ridge Regression train R^2: 0.83180\n",
      "Ridge Regression test R^2: 0.78148\n",
      "RMSE: 667.57\n",
      "~~~~~~~~~~~~~~~~~~~~~~~~~\n",
      "\n",
      "RANDOM STATE:  14\n",
      "~~~~~~~~~~~~~~~~~~~~~~~~~\n",
      "\n",
      "Linear Regression train R^2: 0.83588\n",
      "Linear Regression val R^2: 0.79234\n",
      "RMSE: 701.28\n",
      "\n",
      "LASSO\n",
      "\n",
      "Ridge Regression train R^2: 0.83585\n",
      "Ridge Regression test R^2: 0.79250\n",
      "RMSE: 701.01\n",
      "\n",
      "RIDGE\n",
      "\n",
      "Ridge Regression train R^2: 0.83585\n",
      "Ridge Regression test R^2: 0.79249\n",
      "RMSE: 701.04\n",
      "~~~~~~~~~~~~~~~~~~~~~~~~~\n",
      "\n",
      "\n",
      "Final Tally --\n",
      "Linear:  3\n",
      "Lasso:  2\n",
      "Ridge:  2\n"
     ]
    }
   ],
   "source": [
    "sf2 = sf.copy()\n",
    "\n",
    "rid_alpha = 0.6\n",
    "las_alpha = 0.1\n",
    "\n",
    "X, y = sf2.drop('price',axis=1), sf2['price']\n",
    "\n",
    "random_state_range = list(range(2, 16, 2))\n",
    "\n",
    "lin_count = 0\n",
    "ridge_count = 0\n",
    "lasso_count = 0\n",
    "\n",
    "for state in random_state_range:\n",
    "    # Training versus Test Data\n",
    "    # hold out 20% of the data for testing\n",
    "    X, X_test, y, y_test = train_test_split(X, y, test_size=.2, random_state=state)\n",
    "\n",
    "    # Scaling for Ridge & Lasso \n",
    "    scaler = StandardScaler()\n",
    "    X_train_scaled = scaler.fit_transform(X.values)\n",
    "    X_test_scaled = scaler.transform(X_test.values)\n",
    "    \n",
    "    print(\"RANDOM STATE: \", state)\n",
    "    print(\"~~~~~~~~~~~~~~~~~~~~~~~~~\\n\")\n",
    "    \n",
    "    # Linear Regression\n",
    "    lin = LinearRegression()\n",
    "    lin.fit(X, y)\n",
    "    print(f'Linear Regression train R^2: {lin.score(X, y):.5f}')\n",
    "    print(f'Linear Regression val R^2: {lin.score(X_test, y_test):.5f}')\n",
    "    \n",
    "    lin_predict = lin.predict(X_test)\n",
    "    lin_rmse = mean_squared_error(y_test, lin_predict, squared=False)\n",
    "    print(f'RMSE: {lin_rmse:.5}')\n",
    "    print(\"\")\n",
    "    \n",
    "    # LASSO\n",
    "    las = Lasso(alpha=rid_alpha)\n",
    "    las.fit(X_train_scaled, y)\n",
    "    print(\"LASSO\\n\")\n",
    "    print(f'Ridge Regression train R^2: {las.score(X_train_scaled, y):.5f}')\n",
    "    print(f'Ridge Regression test R^2: {las.score(X_test_scaled, y_test):.5f}')\n",
    "    \n",
    "    las_predict = las.predict(X_test_scaled)\n",
    "    las_rmse = mean_squared_error(y_test, las_predict, squared=False)\n",
    "    print(f'RMSE: {las_rmse:.5}')\n",
    "    print(\"\")\n",
    "    \n",
    "    # RIDGE\n",
    "    rid = Ridge(alpha=rid_alpha)\n",
    "    rid.fit(X_train_scaled, y)\n",
    "    print(\"RIDGE\\n\")\n",
    "    print(f'Ridge Regression train R^2: {rid.score(X_train_scaled, y):.5f}')\n",
    "    print(f'Ridge Regression test R^2: {rid.score(X_test_scaled, y_test):.5f}')\n",
    "    rid_predict = rid.predict(X_test_scaled)\n",
    "    rid_rmse = mean_squared_error(y_test, rid_predict, squared=False)\n",
    "    print(f'RMSE: {rid_rmse:.5}')\n",
    "    print(\"~~~~~~~~~~~~~~~~~~~~~~~~~\\n\")\n",
    "    \n",
    "    if lin_rmse < las_rmse and lin_rmse < rid_rmse:\n",
    "        lin_count += 1\n",
    "    elif las_rmse < lin_rmse and las_rmse < rid_rmse:\n",
    "        lasso_count += 1\n",
    "    else:\n",
    "        ridge_count += 1\n",
    "        \n",
    "print(\"\\nFinal Tally --\")     \n",
    "print(\"Linear: \", lin_count)\n",
    "print(\"Lasso: \", lasso_count)\n",
    "print(\"Ridge: \", ridge_count)"
   ]
  },
  {
   "cell_type": "code",
   "execution_count": null,
   "metadata": {},
   "outputs": [],
   "source": []
  },
  {
   "cell_type": "code",
   "execution_count": null,
   "metadata": {},
   "outputs": [],
   "source": []
  }
 ],
 "metadata": {
  "kernelspec": {
   "display_name": "Python [conda env:metis] *",
   "language": "python",
   "name": "conda-env-metis-py"
  },
  "language_info": {
   "codemirror_mode": {
    "name": "ipython",
    "version": 3
   },
   "file_extension": ".py",
   "mimetype": "text/x-python",
   "name": "python",
   "nbconvert_exporter": "python",
   "pygments_lexer": "ipython3",
   "version": "3.8.5"
  },
  "toc": {
   "base_numbering": 1,
   "nav_menu": {},
   "number_sections": true,
   "sideBar": true,
   "skip_h1_title": false,
   "title_cell": "Table of Contents",
   "title_sidebar": "Contents",
   "toc_cell": false,
   "toc_position": {},
   "toc_section_display": true,
   "toc_window_display": true
  },
  "varInspector": {
   "cols": {
    "lenName": 16,
    "lenType": 16,
    "lenVar": 40
   },
   "kernels_config": {
    "python": {
     "delete_cmd_postfix": "",
     "delete_cmd_prefix": "del ",
     "library": "var_list.py",
     "varRefreshCmd": "print(var_dic_list())"
    },
    "r": {
     "delete_cmd_postfix": ") ",
     "delete_cmd_prefix": "rm(",
     "library": "var_list.r",
     "varRefreshCmd": "cat(var_dic_list()) "
    }
   },
   "types_to_exclude": [
    "module",
    "function",
    "builtin_function_or_method",
    "instance",
    "_Feature"
   ],
   "window_display": false
  }
 },
 "nbformat": 4,
 "nbformat_minor": 4
}
